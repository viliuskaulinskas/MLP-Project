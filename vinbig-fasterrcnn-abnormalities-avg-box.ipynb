{
 "cells": [
  {
   "cell_type": "code",
   "execution_count": null,
   "metadata": {
    "_cell_guid": "b1076dfc-b9ad-4769-8c92-a6c4dae69d19",
    "_uuid": "8f2839f25d086af736a60e9eeb907d3b93b6e0e5",
    "execution": {
     "iopub.execute_input": "2021-03-28T18:42:24.353260Z",
     "iopub.status.busy": "2021-03-28T18:42:24.351994Z",
     "iopub.status.idle": "2021-03-28T18:42:45.741690Z",
     "shell.execute_reply": "2021-03-28T18:42:45.740959Z"
    },
    "papermill": {
     "duration": 21.446131,
     "end_time": "2021-03-28T18:42:45.741901",
     "exception": false,
     "start_time": "2021-03-28T18:42:24.295770",
     "status": "completed"
    },
    "tags": []
   },
   "outputs": [],
   "source": [
    "# Install prerequisites\n",
    "\n",
    "# Install PyCocoTools needed for FasterRCNN\n",
    "!pip install git+https://github.com/gautamchitnis/cocoapi.git@cocodataset-master#subdirectory=PythonAPI\n",
    "\n",
    "# Copy useful functions from pytorch vision tools\n",
    "%cp ../input/pytorch-vision-tools/references/detection/*.* ."
   ]
  },
  {
   "cell_type": "code",
   "execution_count": null,
   "metadata": {
    "execution": {
     "iopub.execute_input": "2021-03-28T18:42:45.806399Z",
     "iopub.status.busy": "2021-03-28T18:42:45.804583Z",
     "iopub.status.idle": "2021-03-28T18:42:49.619828Z",
     "shell.execute_reply": "2021-03-28T18:42:49.618638Z"
    },
    "papermill": {
     "duration": 3.85004,
     "end_time": "2021-03-28T18:42:49.620018",
     "exception": false,
     "start_time": "2021-03-28T18:42:45.769978",
     "status": "completed"
    },
    "tags": []
   },
   "outputs": [],
   "source": [
    "# Import required libraries\n",
    "import numpy as np\n",
    "import pandas as pd\n",
    "from torch.utils.data import Dataset, DataLoader, Subset\n",
    "from PIL import Image\n",
    "from PIL import ImageDraw\n",
    "import torchvision\n",
    "from torchvision import transforms\n",
    "from torchvision.models.detection.faster_rcnn import FastRCNNPredictor\n",
    "from os import path\n",
    "import torch\n",
    "import torchvision.utils\n",
    "import utils\n",
    "from engine import train_one_epoch, evaluate\n",
    "from torch.optim.lr_scheduler import CosineAnnealingLR\n",
    "from torch.optim import Adam\n",
    "import albumentations as A\n",
    "from albumentations.pytorch.transforms import ToTensorV2\n",
    "import pickle\n",
    "import time\n",
    "import matplotlib.pyplot as plt\n",
    "%matplotlib inline"
   ]
  },
  {
   "cell_type": "code",
   "execution_count": null,
   "metadata": {
    "execution": {
     "iopub.execute_input": "2021-03-28T18:42:49.690563Z",
     "iopub.status.busy": "2021-03-28T18:42:49.689641Z",
     "iopub.status.idle": "2021-03-28T18:42:49.693257Z",
     "shell.execute_reply": "2021-03-28T18:42:49.692679Z"
    },
    "papermill": {
     "duration": 0.047371,
     "end_time": "2021-03-28T18:42:49.693383",
     "exception": false,
     "start_time": "2021-03-28T18:42:49.646012",
     "status": "completed"
    },
    "tags": []
   },
   "outputs": [],
   "source": [
    "# Define a dataset class which defines how to load images,targets for training and validation\n",
    "class VinBigDataset(Dataset):\n",
    "    def __init__(self, img_dir, df, transforms, class_id=None):\n",
    "        self.img_dir = img_dir\n",
    "        if class_id:\n",
    "            df = df[df[\"class_id\"] == class_id]\n",
    "        self.df = df\n",
    "        self.imgs = df[\"image_id\"].unique()\n",
    "        self.transforms = transforms\n",
    "        \n",
    "    def __len__(self):\n",
    "        # Return the number of elements in the dataset\n",
    "        return len(self.imgs)\n",
    "    \n",
    "    def __getitem__(self, idx):\n",
    "        # The dataset iterates over each image id\n",
    "        # Return the requested image,target from the dataset\n",
    "        \n",
    "        # Get the id of the current image\n",
    "        img_id = self.imgs[idx]\n",
    "        \n",
    "        # Get the rows containing annotations for this image\n",
    "        data_rows = self.df[self.df[\"image_id\"] == img_id]\n",
    "        boxes = data_rows[[\"x_min\", \"y_min\", \"x_max\", \"y_max\"]].values\n",
    "        \n",
    "        # Convert into a torch.Tensor\n",
    "        boxes = torch.as_tensor(boxes, dtype=torch.float32)\n",
    "        \n",
    "        # Load the image\n",
    "        img_path = path.join(self.img_dir, f\"{img_id}.png\")\n",
    "        img = Image.open(img_path).convert(\"RGB\")\n",
    "        \n",
    "        # Compute the area of the annotated box\n",
    "        area = (boxes[:, 3] - boxes[:, 1]) * (boxes[:, 2] - boxes[:,0])\n",
    "        \n",
    "        # Suppose all instances are not crowd (?)\n",
    "        num_objs = len(boxes)\n",
    "        iscrowd = torch.zeros((num_objs,), dtype=torch.int64)\n",
    "        \n",
    "        labels = torch.tensor(data_rows[\"class_id\"].values, dtype=torch.int64)\n",
    "        \n",
    "        # Define the target for this training data point\n",
    "        target = {}\n",
    "        target[\"boxes\"] = boxes\n",
    "        target[\"labels\"] = labels\n",
    "        target[\"image_id\"] = torch.tensor([idx])\n",
    "        target[\"area\"] = area\n",
    "        target[\"iscrowd\"] = iscrowd\n",
    "        \n",
    "        if self.transforms is not None:\n",
    "            to_transform = {\n",
    "                'image': np.array(img),\n",
    "                'bboxes': target['boxes'],\n",
    "                'labels': labels\n",
    "            }\n",
    "            transformed = self.transforms(**to_transform)\n",
    "            img = transformed['image']    \n",
    "            target['boxes'] = torch.tensor(transformed['bboxes'])\n",
    "        \n",
    "#         if self.transforms is not None:\n",
    "#             img = self.transforms(img)\n",
    "        \n",
    "        return img, target"
   ]
  },
  {
   "cell_type": "code",
   "execution_count": null,
   "metadata": {
    "execution": {
     "iopub.execute_input": "2021-03-28T18:42:49.752869Z",
     "iopub.status.busy": "2021-03-28T18:42:49.751843Z",
     "iopub.status.idle": "2021-03-28T18:42:49.755727Z",
     "shell.execute_reply": "2021-03-28T18:42:49.755225Z"
    },
    "papermill": {
     "duration": 0.036508,
     "end_time": "2021-03-28T18:42:49.755853",
     "exception": false,
     "start_time": "2021-03-28T18:42:49.719345",
     "status": "completed"
    },
    "tags": []
   },
   "outputs": [],
   "source": [
    "# Function to create transforms for preprocessing\n",
    "def create_transforms(train):\n",
    "    if train:\n",
    "        return A.Compose([\n",
    "            A.Normalize(mean=(0, 0, 0), std=(1, 1, 1), max_pixel_value=255.0, p=1.0),\n",
    "            ToTensorV2(p=1.0)\n",
    "        ])\n",
    "    else:\n",
    "        return A.Compose([\n",
    "            A.Normalize(mean=(0, 0, 0), std=(1, 1, 1), max_pixel_value=255.0, p=1.0),\n",
    "            ToTensorV2(p=1.0)\n",
    "        ])\n",
    "#     transforms.Compose([\n",
    "#             transforms.ToTensor(),\n",
    "#        #     transforms.Normalize((0.485, 0.456, 0.406), (0.229, 0.224, 0.225))\n",
    "#         ])"
   ]
  },
  {
   "cell_type": "code",
   "execution_count": null,
   "metadata": {
    "execution": {
     "iopub.execute_input": "2021-03-28T18:42:49.815885Z",
     "iopub.status.busy": "2021-03-28T18:42:49.814819Z",
     "iopub.status.idle": "2021-03-28T18:42:49.818375Z",
     "shell.execute_reply": "2021-03-28T18:42:49.818985Z"
    },
    "papermill": {
     "duration": 0.034477,
     "end_time": "2021-03-28T18:42:49.819143",
     "exception": false,
     "start_time": "2021-03-28T18:42:49.784666",
     "status": "completed"
    },
    "tags": []
   },
   "outputs": [],
   "source": [
    "# Function to create an instance of the model\n",
    "def create_model():\n",
    "    # The model has 15 classes (14 abnormalities and no abnormalities)\n",
    "    num_classes = 15\n",
    "    \n",
    "    # Use resnet50 pre-trained on COCO\n",
    "    model = torchvision.models.detection.fasterrcnn_resnet50_fpn(pretrained=True)\n",
    "        \n",
    "    # Fetch the number of input features for the classifier\n",
    "    in_features = model.roi_heads.box_predictor.cls_score.in_features\n",
    "    \n",
    "    # Replace the pre-trained head with a new one\n",
    "    model.roi_heads.box_predictor = FastRCNNPredictor(in_features, num_classes)\n",
    "   \n",
    "    return model"
   ]
  },
  {
   "cell_type": "markdown",
   "metadata": {
    "papermill": {
     "duration": 0.026692,
     "end_time": "2021-03-28T18:42:49.872925",
     "exception": false,
     "start_time": "2021-03-28T18:42:49.846233",
     "status": "completed"
    },
    "tags": []
   },
   "source": [
    "# Load training data"
   ]
  },
  {
   "cell_type": "code",
   "execution_count": null,
   "metadata": {
    "execution": {
     "iopub.execute_input": "2021-03-28T18:42:49.941143Z",
     "iopub.status.busy": "2021-03-28T18:42:49.940353Z",
     "iopub.status.idle": "2021-03-28T18:42:50.108145Z",
     "shell.execute_reply": "2021-03-28T18:42:50.107599Z"
    },
    "papermill": {
     "duration": 0.209138,
     "end_time": "2021-03-28T18:42:50.108290",
     "exception": false,
     "start_time": "2021-03-28T18:42:49.899152",
     "status": "completed"
    },
    "tags": []
   },
   "outputs": [],
   "source": [
    "# Load the training data csv file\n",
    "data_dir = \"../input/vinbig1024stratified/\"\n",
    "\n",
    "df_train = pd.read_csv(f\"../input/vinbig1024stratified-anns-removed/train_average.csv\")\n",
    "df_train.fillna(0, inplace=True)\n",
    "df_train.loc[df_train[\"class_id\"] == 14, ['x_max', 'y_max']] = 1.0\n",
    "\n",
    "# FasterRCNN handles class_id==0 as the background.\n",
    "df_train[\"class_id\"] = df_train[\"class_id\"] + 1\n",
    "df_train.loc[df_train[\"class_id\"] == 15, [\"class_id\"]] = 0\n",
    "\n",
    "# Print out the total number of images and the total number of annotations \n",
    "print(f\"{df_train['image_id'].nunique()} images\")\n",
    "print(f\"{len(df_train.index)} annotations\")"
   ]
  },
  {
   "cell_type": "code",
   "execution_count": null,
   "metadata": {
    "execution": {
     "iopub.execute_input": "2021-03-28T18:42:50.170454Z",
     "iopub.status.busy": "2021-03-28T18:42:50.169692Z",
     "iopub.status.idle": "2021-03-28T18:42:50.196365Z",
     "shell.execute_reply": "2021-03-28T18:42:50.196972Z"
    },
    "papermill": {
     "duration": 0.061517,
     "end_time": "2021-03-28T18:42:50.197148",
     "exception": false,
     "start_time": "2021-03-28T18:42:50.135631",
     "status": "completed"
    },
    "tags": []
   },
   "outputs": [],
   "source": [
    "# Remove no abnormality\n",
    "df_train = df_train[df_train['class_id'] != 0]\n",
    "df_train.reset_index(drop=True, inplace=True)\n",
    "df_train.head()"
   ]
  },
  {
   "cell_type": "code",
   "execution_count": null,
   "metadata": {
    "execution": {
     "iopub.execute_input": "2021-03-28T18:42:50.256842Z",
     "iopub.status.busy": "2021-03-28T18:42:50.256071Z",
     "iopub.status.idle": "2021-03-28T18:42:50.260152Z",
     "shell.execute_reply": "2021-03-28T18:42:50.259625Z"
    },
    "papermill": {
     "duration": 0.035354,
     "end_time": "2021-03-28T18:42:50.260297",
     "exception": false,
     "start_time": "2021-03-28T18:42:50.224943",
     "status": "completed"
    },
    "tags": []
   },
   "outputs": [],
   "source": [
    "# df_train_14_no_duplicates = df_train_14.drop_duplicates(subset=['image_id', 'class_id'], keep='first')\n",
    "# df_train = df_train_no14.append(df_train_14_no_duplicates, ignore_index=True)"
   ]
  },
  {
   "cell_type": "code",
   "execution_count": null,
   "metadata": {
    "execution": {
     "iopub.execute_input": "2021-03-28T18:42:50.324798Z",
     "iopub.status.busy": "2021-03-28T18:42:50.323621Z",
     "iopub.status.idle": "2021-03-28T18:42:50.333424Z",
     "shell.execute_reply": "2021-03-28T18:42:50.332462Z"
    },
    "papermill": {
     "duration": 0.04553,
     "end_time": "2021-03-28T18:42:50.333613",
     "exception": false,
     "start_time": "2021-03-28T18:42:50.288083",
     "status": "completed"
    },
    "tags": []
   },
   "outputs": [],
   "source": [
    "# Create an instance of the dataset and transformations for training and validation\n",
    "\n",
    "train_img_dir = '../input/vinbig1024stratified/output/dataset/train'\n",
    "# train_img_dir = path.join(data_dir, 'train/train')\n",
    "train_dataset = VinBigDataset(train_img_dir, df_train, create_transforms(train=True))\n",
    "\n",
    "# Create data loaders for the training set. The collate function\n",
    "# defines how to form a minibatch from the indiviaual data items. In our case we\n",
    "# just want to collate them into a single list.\n",
    "\n",
    "data_loader_train = DataLoader(\\\n",
    "    train_dataset, batch_size=5, shuffle=True, num_workers=4, collate_fn=utils.collate_fn)\n",
    "\n",
    "# Print the number of elements in the test and training set\n",
    "print(f\"{len(train_dataset)} items in the training set\")"
   ]
  },
  {
   "cell_type": "markdown",
   "metadata": {
    "papermill": {
     "duration": 0.028971,
     "end_time": "2021-03-28T18:42:50.391457",
     "exception": false,
     "start_time": "2021-03-28T18:42:50.362486",
     "status": "completed"
    },
    "tags": []
   },
   "source": [
    "# Load validation data"
   ]
  },
  {
   "cell_type": "code",
   "execution_count": null,
   "metadata": {
    "execution": {
     "iopub.execute_input": "2021-03-28T18:42:50.460607Z",
     "iopub.status.busy": "2021-03-28T18:42:50.459882Z",
     "iopub.status.idle": "2021-03-28T18:42:50.492155Z",
     "shell.execute_reply": "2021-03-28T18:42:50.491400Z"
    },
    "papermill": {
     "duration": 0.072732,
     "end_time": "2021-03-28T18:42:50.492313",
     "exception": false,
     "start_time": "2021-03-28T18:42:50.419581",
     "status": "completed"
    },
    "tags": []
   },
   "outputs": [],
   "source": [
    "# Load the VALIDATION data csv file\n",
    "data_dir = \"../input/vinbig1024stratified/\"\n",
    "\n",
    "df_val = pd.read_csv(f\"../input/vinbig1024stratified-anns-removed/val_average.csv\")\n",
    "df_val.fillna(0, inplace=True)\n",
    "df_val.loc[df_val[\"class_id\"] == 14, ['x_max', 'y_max']] = 1.0\n",
    "\n",
    "# FasterRCNN handles class_id==0 as the background.\n",
    "df_val[\"class_id\"] = df_val[\"class_id\"] + 1\n",
    "df_val.loc[df_val[\"class_id\"] == 15, [\"class_id\"]] = 0\n",
    "\n",
    "# Print out the total number of images and the total number of annotations \n",
    "print(f\"{df_val['image_id'].nunique()} images\")\n",
    "print(f\"{len(df_val.index)} annotations\")"
   ]
  },
  {
   "cell_type": "code",
   "execution_count": null,
   "metadata": {
    "execution": {
     "iopub.execute_input": "2021-03-28T18:42:50.557405Z",
     "iopub.status.busy": "2021-03-28T18:42:50.556352Z",
     "iopub.status.idle": "2021-03-28T18:42:50.581417Z",
     "shell.execute_reply": "2021-03-28T18:42:50.581920Z"
    },
    "papermill": {
     "duration": 0.06028,
     "end_time": "2021-03-28T18:42:50.582152",
     "exception": false,
     "start_time": "2021-03-28T18:42:50.521872",
     "status": "completed"
    },
    "tags": []
   },
   "outputs": [],
   "source": [
    "# Remove no abnormality\n",
    "df_val = df_val[df_val['class_id'] != 0]\n",
    "df_val.reset_index(drop=True, inplace=True)\n",
    "# Print out the total number of images and the total number of annotations \n",
    "print(f\"{df_val['image_id'].nunique()} images\")\n",
    "print(f\"{len(df_val.index)} annotations\")\n",
    "df_val.head(10)"
   ]
  },
  {
   "cell_type": "code",
   "execution_count": null,
   "metadata": {
    "execution": {
     "iopub.execute_input": "2021-03-28T18:42:50.649205Z",
     "iopub.status.busy": "2021-03-28T18:42:50.648107Z",
     "iopub.status.idle": "2021-03-28T18:42:50.656192Z",
     "shell.execute_reply": "2021-03-28T18:42:50.655240Z"
    },
    "papermill": {
     "duration": 0.044619,
     "end_time": "2021-03-28T18:42:50.656390",
     "exception": false,
     "start_time": "2021-03-28T18:42:50.611771",
     "status": "completed"
    },
    "tags": []
   },
   "outputs": [],
   "source": [
    "# Create an instance of the dataset and transformations for training and validation\n",
    "\n",
    "val_img_dir = '../input/vinbig1024stratified/output/dataset/validation/'\n",
    "# train_img_dir = path.join(data_dir, 'train/train')\n",
    "val_dataset = VinBigDataset(val_img_dir, df_val, create_transforms(train=False))\n",
    "\n",
    "# Create data loaders for the training set. The collate function\n",
    "# defines how to form a minibatch from the indiviaual data items. In our case we\n",
    "# just want to collate them into a single list.\n",
    "\n",
    "data_loader_val = DataLoader(val_dataset, batch_size=5, shuffle=False, num_workers=4, collate_fn=utils.collate_fn)\n",
    "\n",
    "# Print the number of elements in the test and training set\n",
    "print(f\"{len(val_dataset)} items in the validation set\")"
   ]
  },
  {
   "cell_type": "markdown",
   "metadata": {
    "papermill": {
     "duration": 0.07095,
     "end_time": "2021-03-28T18:42:50.784784",
     "exception": false,
     "start_time": "2021-03-28T18:42:50.713834",
     "status": "completed"
    },
    "tags": []
   },
   "source": [
    "# Run the notebook"
   ]
  },
  {
   "cell_type": "code",
   "execution_count": null,
   "metadata": {
    "execution": {
     "iopub.execute_input": "2021-03-28T18:42:50.915886Z",
     "iopub.status.busy": "2021-03-28T18:42:50.914771Z",
     "iopub.status.idle": "2021-03-28T18:42:58.290568Z",
     "shell.execute_reply": "2021-03-28T18:42:58.289917Z"
    },
    "papermill": {
     "duration": 7.438216,
     "end_time": "2021-03-28T18:42:58.290757",
     "exception": false,
     "start_time": "2021-03-28T18:42:50.852541",
     "status": "completed"
    },
    "tags": []
   },
   "outputs": [],
   "source": [
    "model = create_model()\n",
    "use_pre_trained = True"
   ]
  },
  {
   "cell_type": "code",
   "execution_count": null,
   "metadata": {
    "execution": {
     "iopub.execute_input": "2021-03-28T18:42:58.365323Z",
     "iopub.status.busy": "2021-03-28T18:42:58.364419Z",
     "iopub.status.idle": "2021-03-28T18:42:58.514366Z",
     "shell.execute_reply": "2021-03-28T18:42:58.514908Z"
    },
    "papermill": {
     "duration": 0.192061,
     "end_time": "2021-03-28T18:42:58.515125",
     "exception": false,
     "start_time": "2021-03-28T18:42:58.323064",
     "status": "completed"
    },
    "tags": []
   },
   "outputs": [],
   "source": [
    "train_dataset[3]"
   ]
  },
  {
   "cell_type": "code",
   "execution_count": null,
   "metadata": {
    "execution": {
     "iopub.execute_input": "2021-03-28T18:42:58.586962Z",
     "iopub.status.busy": "2021-03-28T18:42:58.584591Z",
     "iopub.status.idle": "2021-03-28T18:42:58.587711Z",
     "shell.execute_reply": "2021-03-28T18:42:58.588247Z"
    },
    "papermill": {
     "duration": 0.040275,
     "end_time": "2021-03-28T18:42:58.588393",
     "exception": false,
     "start_time": "2021-03-28T18:42:58.548118",
     "status": "completed"
    },
    "tags": []
   },
   "outputs": [],
   "source": [
    "# image = Image.open(\"../input/vinbig1024stratified/output/dataset/train/0007d316f756b3fa0baea2ff514ce945.png\")\n",
    "# image"
   ]
  },
  {
   "cell_type": "code",
   "execution_count": null,
   "metadata": {
    "execution": {
     "iopub.execute_input": "2021-03-28T18:42:58.655848Z",
     "iopub.status.busy": "2021-03-28T18:42:58.655193Z",
     "iopub.status.idle": "2021-03-28T18:42:58.660847Z",
     "shell.execute_reply": "2021-03-28T18:42:58.660349Z"
    },
    "papermill": {
     "duration": 0.041305,
     "end_time": "2021-03-28T18:42:58.660999",
     "exception": false,
     "start_time": "2021-03-28T18:42:58.619694",
     "status": "completed"
    },
    "tags": []
   },
   "outputs": [],
   "source": [
    "# details = df_train[df_train['image_id'] == '0007d316f756b3fa0baea2ff514ce945']\n",
    "# details"
   ]
  },
  {
   "cell_type": "code",
   "execution_count": null,
   "metadata": {
    "execution": {
     "iopub.execute_input": "2021-03-28T18:42:58.733267Z",
     "iopub.status.busy": "2021-03-28T18:42:58.731001Z",
     "iopub.status.idle": "2021-03-28T18:42:58.733992Z",
     "shell.execute_reply": "2021-03-28T18:42:58.734515Z"
    },
    "papermill": {
     "duration": 0.040832,
     "end_time": "2021-03-28T18:42:58.734658",
     "exception": false,
     "start_time": "2021-03-28T18:42:58.693826",
     "status": "completed"
    },
    "tags": []
   },
   "outputs": [],
   "source": [
    "# from PIL import Image\n",
    "# from PIL import ImageDraw\n",
    "# draw = ImageDraw.Draw(image)\n",
    "# for i in range(len(details)):\n",
    "#     draw.rectangle([(details[i:i+1]['x_min'], details[i:i+1]['y_min']), (details[i:i+1]['x_max'], details[i:i+1]['y_max'])], outline =\"red\", width=3)\n",
    "# image"
   ]
  },
  {
   "cell_type": "code",
   "execution_count": null,
   "metadata": {
    "execution": {
     "iopub.execute_input": "2021-03-28T18:42:58.822628Z",
     "iopub.status.busy": "2021-03-28T18:42:58.817566Z",
     "iopub.status.idle": "2021-03-28T22:30:06.766590Z",
     "shell.execute_reply": "2021-03-28T22:30:06.765963Z"
    },
    "papermill": {
     "duration": 13628.000449,
     "end_time": "2021-03-28T22:30:06.766749",
     "exception": false,
     "start_time": "2021-03-28T18:42:58.766300",
     "status": "completed"
    },
    "tags": []
   },
   "outputs": [],
   "source": [
    "# Train the model\n",
    "device = torch.device('cuda') if torch.cuda.is_available() else torch.device('cpu')\n",
    "\n",
    "model.to(device)\n",
    "\n",
    "# Hyperparameters\n",
    "learning_rate = 0.0001\n",
    "weight_decay = 0.0001\n",
    "num_epochs = 25\n",
    "\n",
    "params = [p for p in model.parameters() if p.requires_grad]\n",
    "\n",
    "optimizer = Adam(params, lr=learning_rate, weight_decay=weight_decay)\n",
    "lr_scheduler = CosineAnnealingLR(optimizer, T_max=num_epochs, eta_min=0.00002)\n",
    "\n",
    "# checkpoint = torch.load(\"../input/model-18/model_18.bin\")\n",
    "# model.load_state_dict(checkpoint['model_state_dict'])\n",
    "# optimizer.load_state_dict(checkpoint['optimizer_state_dict'])\n",
    "# last_epoch = checkpoint['epoch']\n",
    "model.train()\n",
    "# print('Epoch = ', last_epoch)\n",
    "# Create a folder for saving the model weights\n",
    "%mkdir model\n",
    "%mkdir stats\n",
    "\n",
    "train_meters = []\n",
    "coco_evals = []\n",
    "t_start = time.time()\n",
    "\n",
    "for epoch in range(num_epochs):\n",
    "    # Train over the epoch\n",
    "    logger = train_one_epoch(model, optimizer, data_loader_train, device, epoch, print_freq=100)\n",
    "    train_meters.append(logger.meters)\n",
    "    \n",
    "    # Evaluate on the validation set\n",
    "    coco_eval = evaluate(model, data_loader_val, device)\n",
    "    coco_evals.append(coco_eval.coco_eval)\n",
    "    \n",
    "    # Update the learning rate\n",
    "    lr_scheduler.step()\n",
    "    \n",
    "    if epoch > 15:\n",
    "        # Save the stats at every epoch from epoch 10\n",
    "        pickle.dump(train_meters, open(f\"stats/train_stats_{epoch}.pkl\", 'wb'))\n",
    "        pickle.dump(coco_evals, open(f\"stats/val_stats_{epoch}.pkl\", 'wb'))\n",
    "        \n",
    "        # Save the model weights at every epoch\n",
    "        torch.save({\n",
    "        'epoch': epoch,\n",
    "        'model_state_dict': model.state_dict(),\n",
    "        'optimizer_state_dict': optimizer.state_dict()\n",
    "        }, f\"model/model_{epoch}.bin\")\n",
    "\n",
    "print('TRAINING AND VALIDATION DONE')\n",
    "t_end = time.time()\n",
    "print(f\"Training took {t_end - t_start}\")\n",
    "\n",
    "t_start = time.time()\n",
    "# Validation statistics for every class at the end\n",
    "coco_evals_class = []\n",
    "for class_id in range(0, 15):\n",
    "    class_val_dataset = VinBigDataset(val_img_dir, df_val, create_transforms(train=False), class_id=class_id)\n",
    "\n",
    "    data_loader_class_val = DataLoader(class_val_dataset, batch_size=5, shuffle=False, num_workers=4, collate_fn=utils.collate_fn)\n",
    "    \n",
    "    if len(class_val_dataset) == 0:\n",
    "        continue\n",
    "        \n",
    "    coco_eval_class = evaluate(model, data_loader_class_val, device)\n",
    "    coco_evals_class.append(coco_eval_class.coco_eval)\n",
    "\n",
    "t_end = time.time()\n",
    "print(f\"Validation for every class took {t_end - t_start}\")\n",
    "\n",
    "# Save the model weights\n",
    "torch.save({\n",
    "            'epoch': epoch,\n",
    "            'model_state_dict': model.state_dict(),\n",
    "            'optimizer_state_dict': optimizer.state_dict()\n",
    "            }, f\"model/model.bin\")\n",
    "\n",
    "# Save the stats\n",
    "pickle.dump(train_meters, open(f\"stats/train_stats.pkl\", 'wb'))\n",
    "pickle.dump(coco_evals, open(f\"stats/val_stats.pkl\", 'wb'))\n",
    "pickle.dump(coco_evals_class, open(f\"stats/val_stats_classes.pkl\", 'wb'))"
   ]
  },
  {
   "cell_type": "code",
   "execution_count": null,
   "metadata": {
    "execution": {
     "iopub.execute_input": "2021-03-28T22:30:07.124378Z",
     "iopub.status.busy": "2021-03-28T22:30:07.123241Z",
     "iopub.status.idle": "2021-03-28T22:31:54.977029Z",
     "shell.execute_reply": "2021-03-28T22:31:54.975838Z"
    },
    "papermill": {
     "duration": 108.052873,
     "end_time": "2021-03-28T22:31:54.977207",
     "exception": false,
     "start_time": "2021-03-28T22:30:06.924334",
     "status": "completed"
    },
    "tags": []
   },
   "outputs": [],
   "source": [
    "%%bash \n",
    "zip -r -q stats.zip stats/*.*"
   ]
  },
  {
   "cell_type": "markdown",
   "metadata": {
    "papermill": {
     "duration": 0.155323,
     "end_time": "2021-03-28T22:31:55.287422",
     "exception": false,
     "start_time": "2021-03-28T22:31:55.132099",
     "status": "completed"
    },
    "tags": []
   },
   "source": [
    "# Plot statistics"
   ]
  },
  {
   "cell_type": "code",
   "execution_count": null,
   "metadata": {
    "execution": {
     "iopub.execute_input": "2021-03-28T22:31:55.611283Z",
     "iopub.status.busy": "2021-03-28T22:31:55.610281Z",
     "iopub.status.idle": "2021-03-28T22:31:55.614145Z",
     "shell.execute_reply": "2021-03-28T22:31:55.613634Z"
    },
    "papermill": {
     "duration": 0.17018,
     "end_time": "2021-03-28T22:31:55.614322",
     "exception": false,
     "start_time": "2021-03-28T22:31:55.444142",
     "status": "completed"
    },
    "tags": []
   },
   "outputs": [],
   "source": [
    "# Functions for getting and plotting training stats\n",
    "\n",
    "def get_train_stats(name, stats):\n",
    "    return [s[name].value for s in stats]\n",
    "\n",
    "def plot_train_stats(train_stats, name):\n",
    "    loss = get_train_stats('loss', train_stats)\n",
    "    loss_classifier = get_train_stats('loss_classifier', train_stats)\n",
    "    loss_box_reg = get_train_stats('loss_box_reg', train_stats)\n",
    "    loss_objectness = get_train_stats('loss_objectness', train_stats)\n",
    "    loss_rpn_box_reg = get_train_stats('loss_rpn_box_reg', train_stats)\n",
    "    # Plot the training stats\n",
    "    fig = plt.figure(figsize=(12,8))\n",
    "    plt.plot(loss, label='loss')\n",
    "    plt.plot(loss_classifier, label='loss_classifier')\n",
    "    plt.plot(loss_box_reg, label='loss_box_reg')\n",
    "    plt.plot(loss_objectness, label='loss_objectness')\n",
    "    plt.plot(loss_rpn_box_reg, label='loss_rpn_box_reg')\n",
    "    plt.legend()\n",
    "    plt.xticks(range(0, len(loss), 5))\n",
    "    plt.xlabel('Epoch')\n",
    "    plt.title(f'Training stats {name}')"
   ]
  },
  {
   "cell_type": "code",
   "execution_count": null,
   "metadata": {
    "execution": {
     "iopub.execute_input": "2021-03-28T22:31:55.933238Z",
     "iopub.status.busy": "2021-03-28T22:31:55.932438Z",
     "iopub.status.idle": "2021-03-28T22:31:55.936679Z",
     "shell.execute_reply": "2021-03-28T22:31:55.936164Z"
    },
    "papermill": {
     "duration": 0.164383,
     "end_time": "2021-03-28T22:31:55.936834",
     "exception": false,
     "start_time": "2021-03-28T22:31:55.772451",
     "status": "completed"
    },
    "tags": []
   },
   "outputs": [],
   "source": [
    "# Functions for getting and plotting validation stats\n",
    "\n",
    "def get_val_stats(idx, stats):\n",
    "    return [s['bbox'].stats[idx] for s in stats]\n",
    "\n",
    "def plot_val_stats(val_stats, name):\n",
    "    ap_50_95 = get_val_stats(0, val_stats)\n",
    "    ap_50 = get_val_stats(1, val_stats)\n",
    "    ap_75 = get_val_stats(2, val_stats)\n",
    "    ar_all_md100 = get_val_stats(8, val_stats)\n",
    "\n",
    "     # Plot the validation stats\n",
    "    fig = plt.figure(figsize=(12,8))\n",
    "    plt.plot(ap_50_95, label='AP .50:.95')\n",
    "    plt.plot(ap_50, label='AP .50')\n",
    "    plt.plot(ap_75, label='AP .75')\n",
    "    plt.plot(ar_all_md100, label='AR All Max Dets 100')\n",
    "    plt.legend()\n",
    "    plt.xticks(range(0, len(ap_50), 5))\n",
    "    plt.xlabel('Epoch')\n",
    "    plt.title(f'Validation stats {name}')"
   ]
  },
  {
   "cell_type": "code",
   "execution_count": null,
   "metadata": {
    "execution": {
     "iopub.execute_input": "2021-03-28T22:31:56.273740Z",
     "iopub.status.busy": "2021-03-28T22:31:56.272593Z",
     "iopub.status.idle": "2021-03-28T22:31:56.739720Z",
     "shell.execute_reply": "2021-03-28T22:31:56.740266Z"
    },
    "papermill": {
     "duration": 0.650809,
     "end_time": "2021-03-28T22:31:56.740443",
     "exception": false,
     "start_time": "2021-03-28T22:31:56.089634",
     "status": "completed"
    },
    "tags": []
   },
   "outputs": [],
   "source": [
    "# Plot the stats\n",
    "plot_train_stats(train_meters, 'baseline')\n",
    "plot_val_stats(coco_evals, 'baseline')"
   ]
  },
  {
   "cell_type": "code",
   "execution_count": null,
   "metadata": {
    "execution": {
     "iopub.execute_input": "2021-03-28T22:31:57.059126Z",
     "iopub.status.busy": "2021-03-28T22:31:57.058245Z",
     "iopub.status.idle": "2021-03-28T22:31:57.061393Z",
     "shell.execute_reply": "2021-03-28T22:31:57.062130Z"
    },
    "papermill": {
     "duration": 0.165316,
     "end_time": "2021-03-28T22:31:57.062297",
     "exception": false,
     "start_time": "2021-03-28T22:31:56.896981",
     "status": "completed"
    },
    "tags": []
   },
   "outputs": [],
   "source": [
    "# for i in range(15):\n",
    "#     plot_val_stats(coco_evals_class[i], f'baseline class {i}')"
   ]
  },
  {
   "cell_type": "code",
   "execution_count": null,
   "metadata": {
    "execution": {
     "iopub.execute_input": "2021-03-28T22:31:57.384000Z",
     "iopub.status.busy": "2021-03-28T22:31:57.382957Z",
     "iopub.status.idle": "2021-03-28T22:31:57.387091Z",
     "shell.execute_reply": "2021-03-28T22:31:57.386354Z"
    },
    "papermill": {
     "duration": 0.166252,
     "end_time": "2021-03-28T22:31:57.387241",
     "exception": false,
     "start_time": "2021-03-28T22:31:57.220989",
     "status": "completed"
    },
    "tags": []
   },
   "outputs": [],
   "source": [
    "# model.eval()\n",
    "# for images, targets in metric_logger.log_every(data_loader_train, 10, header):\n",
    "#     images = list(image.to(device) for image in images)\n",
    "#     targets = [{k: v.to(device) for k, v in t.items()} for t in targets]\n",
    "#     outs = model(images)\n",
    "#     break\n",
    "# print(outs)\n",
    "# print(targets)"
   ]
  },
  {
   "cell_type": "markdown",
   "metadata": {
    "papermill": {
     "duration": 0.162062,
     "end_time": "2021-03-28T22:31:57.704573",
     "exception": false,
     "start_time": "2021-03-28T22:31:57.542511",
     "status": "completed"
    },
    "tags": []
   },
   "source": [
    "# Draw prediction"
   ]
  },
  {
   "cell_type": "code",
   "execution_count": null,
   "metadata": {
    "execution": {
     "iopub.execute_input": "2021-03-28T22:31:58.023439Z",
     "iopub.status.busy": "2021-03-28T22:31:58.022436Z",
     "iopub.status.idle": "2021-03-28T22:31:58.026358Z",
     "shell.execute_reply": "2021-03-28T22:31:58.025734Z"
    },
    "papermill": {
     "duration": 0.165069,
     "end_time": "2021-03-28T22:31:58.026486",
     "exception": false,
     "start_time": "2021-03-28T22:31:57.861417",
     "status": "completed"
    },
    "tags": []
   },
   "outputs": [],
   "source": [
    "# Train the model\n",
    "# device = torch.device('cuda') if torch.cuda.is_available() else torch.device('cpu')\n",
    "\n",
    "# model.to(device)\n",
    "\n",
    "# Hyperparameters\n",
    "# learning_rate = 0.0001\n",
    "# weight_decay = 0\n",
    "# num_epochs = 25\n",
    "# params = [p for p in model.parameters() if p.requires_grad]\n",
    "# optimizer = Adam(params, lr=learning_rate, weight_decay=weight_decay)\n",
    "# lr_scheduler = CosineAnnealingLR(optimizer, T_max=num_epochs, eta_min=0.00002)\n",
    "\n",
    "# checkpoint = torch.load(\"../input/model24/model_24.bin\")\n",
    "# model.load_state_dict(checkpoint['model_state_dict'])\n",
    "# optimizer.load_state_dict(checkpoint['optimizer_state_dict'])\n",
    "# last_epoch = checkpoint['epoch']\n",
    "# model.eval()\n",
    "# if torch.cuda.is_available():\n",
    "#     model.cuda()"
   ]
  },
  {
   "cell_type": "code",
   "execution_count": null,
   "metadata": {
    "execution": {
     "iopub.execute_input": "2021-03-28T22:31:58.369675Z",
     "iopub.status.busy": "2021-03-28T22:31:58.368475Z",
     "iopub.status.idle": "2021-03-28T22:32:20.561895Z",
     "shell.execute_reply": "2021-03-28T22:32:20.562442Z"
    },
    "papermill": {
     "duration": 22.373633,
     "end_time": "2021-03-28T22:32:20.562673",
     "exception": false,
     "start_time": "2021-03-28T22:31:58.189040",
     "status": "completed"
    },
    "tags": []
   },
   "outputs": [],
   "source": [
    "loaded_model = create_model()\n",
    "checkpoint = torch.load(\"model/model.bin\")\n",
    "loaded_model.load_state_dict(checkpoint['model_state_dict'])\n",
    "\n",
    "%mkdir image_predictions\n",
    "\n",
    "# for idx in range(10):\n",
    "idx = 3\n",
    "img, _ = val_dataset[idx]\n",
    "label_boxes = np.array(val_dataset[idx][1][\"boxes\"])\n",
    "#put the model in evaluation mode\n",
    "loaded_model.eval()\n",
    "with torch.no_grad():\n",
    "    prediction = loaded_model([img])\n",
    "image = Image.fromarray(img.mul(255).permute(1, 2, 0).byte().numpy())\n",
    "draw = ImageDraw.Draw(image)\n",
    "\n",
    "# draw groundtruth\n",
    "for elem in range(len(label_boxes)):\n",
    "    draw.rectangle([(label_boxes[elem][0], label_boxes[elem][1]), (label_boxes[elem][2], label_boxes[elem][3])], outline =\"green\", width=3)\n",
    "\n",
    "for element in range(len(prediction[0][\"boxes\"])):\n",
    "    boxes = prediction[0][\"boxes\"][element].cpu().numpy()\n",
    "    score = np.round(prediction[0][\"scores\"][element].cpu().numpy(), decimals= 4)\n",
    "    if score > 0.4:\n",
    "        draw.rectangle([(boxes[0], boxes[1]), (boxes[2], boxes[3])], outline =\"red\", width =3)\n",
    "        draw.text((boxes[0], boxes[1]), text = str(score))\n",
    "\n",
    "image_name = df_val.at[idx, 'image_id']\n",
    "# image.save(f\"image_predictions/{image_name}.jpg\")\n",
    "image"
   ]
  },
  {
   "cell_type": "code",
   "execution_count": null,
   "metadata": {
    "execution": {
     "iopub.execute_input": "2021-03-28T22:32:20.932099Z",
     "iopub.status.busy": "2021-03-28T22:32:20.922372Z",
     "iopub.status.idle": "2021-03-28T22:32:41.870309Z",
     "shell.execute_reply": "2021-03-28T22:32:41.870892Z"
    },
    "papermill": {
     "duration": 21.134558,
     "end_time": "2021-03-28T22:32:41.871167",
     "exception": false,
     "start_time": "2021-03-28T22:32:20.736609",
     "status": "completed"
    },
    "tags": []
   },
   "outputs": [],
   "source": [
    "loaded_model = create_model()\n",
    "checkpoint = torch.load(\"model/model.bin\")\n",
    "loaded_model.load_state_dict(checkpoint['model_state_dict'])\n",
    "\n",
    "%mkdir image_predictions\n",
    "\n",
    "# for idx in range(10):\n",
    "idx = 5\n",
    "img, _ = val_dataset[idx]\n",
    "label_boxes = np.array(val_dataset[idx][1][\"boxes\"])\n",
    "#put the model in evaluation mode\n",
    "loaded_model.eval()\n",
    "with torch.no_grad():\n",
    "    prediction = loaded_model([img])\n",
    "image = Image.fromarray(img.mul(255).permute(1, 2, 0).byte().numpy())\n",
    "draw = ImageDraw.Draw(image)\n",
    "\n",
    "# draw groundtruth\n",
    "for elem in range(len(label_boxes)):\n",
    "    draw.rectangle([(label_boxes[elem][0], label_boxes[elem][1]), (label_boxes[elem][2], label_boxes[elem][3])], outline =\"green\", width=3)\n",
    "\n",
    "for element in range(len(prediction[0][\"boxes\"])):\n",
    "    boxes = prediction[0][\"boxes\"][element].cpu().numpy()\n",
    "    score = np.round(prediction[0][\"scores\"][element].cpu().numpy(), decimals= 4)\n",
    "    if score > 0.4:\n",
    "        draw.rectangle([(boxes[0], boxes[1]), (boxes[2], boxes[3])], outline =\"red\", width =3)\n",
    "        draw.text((boxes[0], boxes[1]), text = str(score))\n",
    "\n",
    "image_name = df_val.at[idx, 'image_id']\n",
    "# image.save(f\"image_predictions/{image_name}.jpg\")\n",
    "image"
   ]
  },
  {
   "cell_type": "code",
   "execution_count": null,
   "metadata": {
    "execution": {
     "iopub.execute_input": "2021-03-28T22:32:42.276069Z",
     "iopub.status.busy": "2021-03-28T22:32:42.274802Z",
     "iopub.status.idle": "2021-03-28T22:33:03.341211Z",
     "shell.execute_reply": "2021-03-28T22:33:03.341777Z"
    },
    "papermill": {
     "duration": 21.278876,
     "end_time": "2021-03-28T22:33:03.342011",
     "exception": false,
     "start_time": "2021-03-28T22:32:42.063135",
     "status": "completed"
    },
    "tags": []
   },
   "outputs": [],
   "source": [
    "loaded_model = create_model()\n",
    "checkpoint = torch.load(\"model/model.bin\")\n",
    "loaded_model.load_state_dict(checkpoint['model_state_dict'])\n",
    "\n",
    "%mkdir image_predictions\n",
    "\n",
    "# for idx in range(10):\n",
    "idx = 6\n",
    "img, _ = val_dataset[idx]\n",
    "label_boxes = np.array(val_dataset[idx][1][\"boxes\"])\n",
    "#put the model in evaluation mode\n",
    "loaded_model.eval()\n",
    "with torch.no_grad():\n",
    "    prediction = loaded_model([img])\n",
    "image = Image.fromarray(img.mul(255).permute(1, 2, 0).byte().numpy())\n",
    "draw = ImageDraw.Draw(image)\n",
    "\n",
    "# draw groundtruth\n",
    "for elem in range(len(label_boxes)):\n",
    "    draw.rectangle([(label_boxes[elem][0], label_boxes[elem][1]), (label_boxes[elem][2], label_boxes[elem][3])], outline =\"green\", width=3)\n",
    "\n",
    "for element in range(len(prediction[0][\"boxes\"])):\n",
    "    boxes = prediction[0][\"boxes\"][element].cpu().numpy()\n",
    "    score = np.round(prediction[0][\"scores\"][element].cpu().numpy(), decimals= 4)\n",
    "    if score > 0.4:\n",
    "        draw.rectangle([(boxes[0], boxes[1]), (boxes[2], boxes[3])], outline =\"red\", width =3)\n",
    "        draw.text((boxes[0], boxes[1]), text = str(score))\n",
    "\n",
    "image_name = df_val.at[idx, 'image_id']\n",
    "# image.save(f\"image_predictions/{image_name}.jpg\")\n",
    "image"
   ]
  },
  {
   "cell_type": "code",
   "execution_count": null,
   "metadata": {
    "execution": {
     "iopub.execute_input": "2021-03-28T22:33:03.789915Z",
     "iopub.status.busy": "2021-03-28T22:33:03.788933Z",
     "iopub.status.idle": "2021-03-28T22:33:24.946199Z",
     "shell.execute_reply": "2021-03-28T22:33:24.946743Z"
    },
    "papermill": {
     "duration": 21.391581,
     "end_time": "2021-03-28T22:33:24.946924",
     "exception": false,
     "start_time": "2021-03-28T22:33:03.555343",
     "status": "completed"
    },
    "tags": []
   },
   "outputs": [],
   "source": [
    "loaded_model = create_model()\n",
    "checkpoint = torch.load(\"model/model.bin\")\n",
    "loaded_model.load_state_dict(checkpoint['model_state_dict'])\n",
    "\n",
    "%mkdir image_predictions\n",
    "\n",
    "# for idx in range(10):\n",
    "idx = 7\n",
    "img, _ = val_dataset[idx]\n",
    "label_boxes = np.array(val_dataset[idx][1][\"boxes\"])\n",
    "#put the model in evaluation mode\n",
    "loaded_model.eval()\n",
    "with torch.no_grad():\n",
    "    prediction = loaded_model([img])\n",
    "image = Image.fromarray(img.mul(255).permute(1, 2, 0).byte().numpy())\n",
    "draw = ImageDraw.Draw(image)\n",
    "\n",
    "# draw groundtruth\n",
    "for elem in range(len(label_boxes)):\n",
    "    draw.rectangle([(label_boxes[elem][0], label_boxes[elem][1]), (label_boxes[elem][2], label_boxes[elem][3])], outline =\"green\", width=3)\n",
    "\n",
    "for element in range(len(prediction[0][\"boxes\"])):\n",
    "    boxes = prediction[0][\"boxes\"][element].cpu().numpy()\n",
    "    score = np.round(prediction[0][\"scores\"][element].cpu().numpy(), decimals= 4)\n",
    "    if score > 0.4:\n",
    "        draw.rectangle([(boxes[0], boxes[1]), (boxes[2], boxes[3])], outline =\"red\", width =3)\n",
    "        draw.text((boxes[0], boxes[1]), text = str(score))\n",
    "\n",
    "image_name = df_val.at[idx, 'image_id']\n",
    "# image.save(f\"image_predictions/{image_name}.jpg\")\n",
    "image"
   ]
  },
  {
   "cell_type": "code",
   "execution_count": null,
   "metadata": {
    "execution": {
     "iopub.execute_input": "2021-03-28T22:33:25.426526Z",
     "iopub.status.busy": "2021-03-28T22:33:25.410645Z",
     "iopub.status.idle": "2021-03-28T22:33:46.357613Z",
     "shell.execute_reply": "2021-03-28T22:33:46.358200Z"
    },
    "papermill": {
     "duration": 21.181517,
     "end_time": "2021-03-28T22:33:46.358404",
     "exception": false,
     "start_time": "2021-03-28T22:33:25.176887",
     "status": "completed"
    },
    "tags": []
   },
   "outputs": [],
   "source": [
    "loaded_model = create_model()\n",
    "checkpoint = torch.load(\"model/model.bin\")\n",
    "loaded_model.load_state_dict(checkpoint['model_state_dict'])\n",
    "\n",
    "%mkdir image_predictions\n",
    "\n",
    "# for idx in range(10):\n",
    "idx = 8\n",
    "img, _ = val_dataset[idx]\n",
    "label_boxes = np.array(val_dataset[idx][1][\"boxes\"])\n",
    "#put the model in evaluation mode\n",
    "loaded_model.eval()\n",
    "with torch.no_grad():\n",
    "    prediction = loaded_model([img])\n",
    "image = Image.fromarray(img.mul(255).permute(1, 2, 0).byte().numpy())\n",
    "draw = ImageDraw.Draw(image)\n",
    "\n",
    "# draw groundtruth\n",
    "for elem in range(len(label_boxes)):\n",
    "    draw.rectangle([(label_boxes[elem][0], label_boxes[elem][1]), (label_boxes[elem][2], label_boxes[elem][3])], outline =\"green\", width=3)\n",
    "\n",
    "for element in range(len(prediction[0][\"boxes\"])):\n",
    "    boxes = prediction[0][\"boxes\"][element].cpu().numpy()\n",
    "    score = np.round(prediction[0][\"scores\"][element].cpu().numpy(), decimals= 4)\n",
    "    if score > 0.4:\n",
    "        draw.rectangle([(boxes[0], boxes[1]), (boxes[2], boxes[3])], outline =\"red\", width =3)\n",
    "        draw.text((boxes[0], boxes[1]), text = str(score))\n",
    "\n",
    "image_name = df_val.at[idx, 'image_id']\n",
    "# image.save(f\"image_predictions/{image_name}.jpg\")\n",
    "image"
   ]
  }
 ],
 "metadata": {
  "kernelspec": {
   "display_name": "Python 3",
   "language": "python",
   "name": "python3"
  },
  "language_info": {
   "codemirror_mode": {
    "name": "ipython",
    "version": 3
   },
   "file_extension": ".py",
   "mimetype": "text/x-python",
   "name": "python",
   "nbconvert_exporter": "python",
   "pygments_lexer": "ipython3",
   "version": "3.8.5"
  },
  "papermill": {
   "default_parameters": {},
   "duration": 13892.060727,
   "end_time": "2021-03-28T22:33:50.607911",
   "environment_variables": {},
   "exception": null,
   "input_path": "__notebook__.ipynb",
   "output_path": "__notebook__.ipynb",
   "parameters": {},
   "start_time": "2021-03-28T18:42:18.547184",
   "version": "2.2.2"
  },
  "widgets": {
   "application/vnd.jupyter.widget-state+json": {
    "state": {
     "15ac2382093e43cab8860565c3b530eb": {
      "model_module": "@jupyter-widgets/controls",
      "model_module_version": "1.5.0",
      "model_name": "HTMLModel",
      "state": {
       "_dom_classes": [],
       "_model_module": "@jupyter-widgets/controls",
       "_model_module_version": "1.5.0",
       "_model_name": "HTMLModel",
       "_view_count": null,
       "_view_module": "@jupyter-widgets/controls",
       "_view_module_version": "1.5.0",
       "_view_name": "HTMLView",
       "description": "",
       "description_tooltip": null,
       "layout": "IPY_MODEL_1aaf2bba2ce24e80afad7a8de314527d",
       "placeholder": "​",
       "style": "IPY_MODEL_58b4ebe506714e03a9ddb314d031d40f",
       "value": "100%"
      }
     },
     "1aaf2bba2ce24e80afad7a8de314527d": {
      "model_module": "@jupyter-widgets/base",
      "model_module_version": "1.2.0",
      "model_name": "LayoutModel",
      "state": {
       "_model_module": "@jupyter-widgets/base",
       "_model_module_version": "1.2.0",
       "_model_name": "LayoutModel",
       "_view_count": null,
       "_view_module": "@jupyter-widgets/base",
       "_view_module_version": "1.2.0",
       "_view_name": "LayoutView",
       "align_content": null,
       "align_items": null,
       "align_self": null,
       "border": null,
       "bottom": null,
       "display": null,
       "flex": null,
       "flex_flow": null,
       "grid_area": null,
       "grid_auto_columns": null,
       "grid_auto_flow": null,
       "grid_auto_rows": null,
       "grid_column": null,
       "grid_gap": null,
       "grid_row": null,
       "grid_template_areas": null,
       "grid_template_columns": null,
       "grid_template_rows": null,
       "height": null,
       "justify_content": null,
       "justify_items": null,
       "left": null,
       "margin": null,
       "max_height": null,
       "max_width": null,
       "min_height": null,
       "min_width": null,
       "object_fit": null,
       "object_position": null,
       "order": null,
       "overflow": null,
       "overflow_x": null,
       "overflow_y": null,
       "padding": null,
       "right": null,
       "top": null,
       "visibility": null,
       "width": null
      }
     },
     "3084cfb73cd54ede8fa775e3c8c22ddf": {
      "model_module": "@jupyter-widgets/controls",
      "model_module_version": "1.5.0",
      "model_name": "HBoxModel",
      "state": {
       "_dom_classes": [],
       "_model_module": "@jupyter-widgets/controls",
       "_model_module_version": "1.5.0",
       "_model_name": "HBoxModel",
       "_view_count": null,
       "_view_module": "@jupyter-widgets/controls",
       "_view_module_version": "1.5.0",
       "_view_name": "HBoxView",
       "box_style": "",
       "children": [
        "IPY_MODEL_15ac2382093e43cab8860565c3b530eb",
        "IPY_MODEL_cb3c7b47c719496e9e0cef116e6e5861",
        "IPY_MODEL_a749cc7c82294e2fae12573d0f8b12db"
       ],
       "layout": "IPY_MODEL_82ff7b0b391a42499c2b6abd971101c7"
      }
     },
     "5138b151db1b4590a9291409648e1b33": {
      "model_module": "@jupyter-widgets/base",
      "model_module_version": "1.2.0",
      "model_name": "LayoutModel",
      "state": {
       "_model_module": "@jupyter-widgets/base",
       "_model_module_version": "1.2.0",
       "_model_name": "LayoutModel",
       "_view_count": null,
       "_view_module": "@jupyter-widgets/base",
       "_view_module_version": "1.2.0",
       "_view_name": "LayoutView",
       "align_content": null,
       "align_items": null,
       "align_self": null,
       "border": null,
       "bottom": null,
       "display": null,
       "flex": null,
       "flex_flow": null,
       "grid_area": null,
       "grid_auto_columns": null,
       "grid_auto_flow": null,
       "grid_auto_rows": null,
       "grid_column": null,
       "grid_gap": null,
       "grid_row": null,
       "grid_template_areas": null,
       "grid_template_columns": null,
       "grid_template_rows": null,
       "height": null,
       "justify_content": null,
       "justify_items": null,
       "left": null,
       "margin": null,
       "max_height": null,
       "max_width": null,
       "min_height": null,
       "min_width": null,
       "object_fit": null,
       "object_position": null,
       "order": null,
       "overflow": null,
       "overflow_x": null,
       "overflow_y": null,
       "padding": null,
       "right": null,
       "top": null,
       "visibility": null,
       "width": null
      }
     },
     "58b4ebe506714e03a9ddb314d031d40f": {
      "model_module": "@jupyter-widgets/controls",
      "model_module_version": "1.5.0",
      "model_name": "DescriptionStyleModel",
      "state": {
       "_model_module": "@jupyter-widgets/controls",
       "_model_module_version": "1.5.0",
       "_model_name": "DescriptionStyleModel",
       "_view_count": null,
       "_view_module": "@jupyter-widgets/base",
       "_view_module_version": "1.2.0",
       "_view_name": "StyleView",
       "description_width": ""
      }
     },
     "82ff7b0b391a42499c2b6abd971101c7": {
      "model_module": "@jupyter-widgets/base",
      "model_module_version": "1.2.0",
      "model_name": "LayoutModel",
      "state": {
       "_model_module": "@jupyter-widgets/base",
       "_model_module_version": "1.2.0",
       "_model_name": "LayoutModel",
       "_view_count": null,
       "_view_module": "@jupyter-widgets/base",
       "_view_module_version": "1.2.0",
       "_view_name": "LayoutView",
       "align_content": null,
       "align_items": null,
       "align_self": null,
       "border": null,
       "bottom": null,
       "display": null,
       "flex": null,
       "flex_flow": null,
       "grid_area": null,
       "grid_auto_columns": null,
       "grid_auto_flow": null,
       "grid_auto_rows": null,
       "grid_column": null,
       "grid_gap": null,
       "grid_row": null,
       "grid_template_areas": null,
       "grid_template_columns": null,
       "grid_template_rows": null,
       "height": null,
       "justify_content": null,
       "justify_items": null,
       "left": null,
       "margin": null,
       "max_height": null,
       "max_width": null,
       "min_height": null,
       "min_width": null,
       "object_fit": null,
       "object_position": null,
       "order": null,
       "overflow": null,
       "overflow_x": null,
       "overflow_y": null,
       "padding": null,
       "right": null,
       "top": null,
       "visibility": null,
       "width": null
      }
     },
     "8f9c6a44d6f54d62ba7a77f83ff80e5f": {
      "model_module": "@jupyter-widgets/controls",
      "model_module_version": "1.5.0",
      "model_name": "ProgressStyleModel",
      "state": {
       "_model_module": "@jupyter-widgets/controls",
       "_model_module_version": "1.5.0",
       "_model_name": "ProgressStyleModel",
       "_view_count": null,
       "_view_module": "@jupyter-widgets/base",
       "_view_module_version": "1.2.0",
       "_view_name": "StyleView",
       "bar_color": null,
       "description_width": ""
      }
     },
     "a749cc7c82294e2fae12573d0f8b12db": {
      "model_module": "@jupyter-widgets/controls",
      "model_module_version": "1.5.0",
      "model_name": "HTMLModel",
      "state": {
       "_dom_classes": [],
       "_model_module": "@jupyter-widgets/controls",
       "_model_module_version": "1.5.0",
       "_model_name": "HTMLModel",
       "_view_count": null,
       "_view_module": "@jupyter-widgets/controls",
       "_view_module_version": "1.5.0",
       "_view_name": "HTMLView",
       "description": "",
       "description_tooltip": null,
       "layout": "IPY_MODEL_dcb8fb3b9f5c4879855ccb99070d5eb9",
       "placeholder": "​",
       "style": "IPY_MODEL_b537a440cfe94b35ba50be550d0adcc4",
       "value": " 160M/160M [00:05&lt;00:00, 32.8MB/s]"
      }
     },
     "b537a440cfe94b35ba50be550d0adcc4": {
      "model_module": "@jupyter-widgets/controls",
      "model_module_version": "1.5.0",
      "model_name": "DescriptionStyleModel",
      "state": {
       "_model_module": "@jupyter-widgets/controls",
       "_model_module_version": "1.5.0",
       "_model_name": "DescriptionStyleModel",
       "_view_count": null,
       "_view_module": "@jupyter-widgets/base",
       "_view_module_version": "1.2.0",
       "_view_name": "StyleView",
       "description_width": ""
      }
     },
     "cb3c7b47c719496e9e0cef116e6e5861": {
      "model_module": "@jupyter-widgets/controls",
      "model_module_version": "1.5.0",
      "model_name": "FloatProgressModel",
      "state": {
       "_dom_classes": [],
       "_model_module": "@jupyter-widgets/controls",
       "_model_module_version": "1.5.0",
       "_model_name": "FloatProgressModel",
       "_view_count": null,
       "_view_module": "@jupyter-widgets/controls",
       "_view_module_version": "1.5.0",
       "_view_name": "ProgressView",
       "bar_style": "success",
       "description": "",
       "description_tooltip": null,
       "layout": "IPY_MODEL_5138b151db1b4590a9291409648e1b33",
       "max": 167502836,
       "min": 0,
       "orientation": "horizontal",
       "style": "IPY_MODEL_8f9c6a44d6f54d62ba7a77f83ff80e5f",
       "value": 167502836
      }
     },
     "dcb8fb3b9f5c4879855ccb99070d5eb9": {
      "model_module": "@jupyter-widgets/base",
      "model_module_version": "1.2.0",
      "model_name": "LayoutModel",
      "state": {
       "_model_module": "@jupyter-widgets/base",
       "_model_module_version": "1.2.0",
       "_model_name": "LayoutModel",
       "_view_count": null,
       "_view_module": "@jupyter-widgets/base",
       "_view_module_version": "1.2.0",
       "_view_name": "LayoutView",
       "align_content": null,
       "align_items": null,
       "align_self": null,
       "border": null,
       "bottom": null,
       "display": null,
       "flex": null,
       "flex_flow": null,
       "grid_area": null,
       "grid_auto_columns": null,
       "grid_auto_flow": null,
       "grid_auto_rows": null,
       "grid_column": null,
       "grid_gap": null,
       "grid_row": null,
       "grid_template_areas": null,
       "grid_template_columns": null,
       "grid_template_rows": null,
       "height": null,
       "justify_content": null,
       "justify_items": null,
       "left": null,
       "margin": null,
       "max_height": null,
       "max_width": null,
       "min_height": null,
       "min_width": null,
       "object_fit": null,
       "object_position": null,
       "order": null,
       "overflow": null,
       "overflow_x": null,
       "overflow_y": null,
       "padding": null,
       "right": null,
       "top": null,
       "visibility": null,
       "width": null
      }
     }
    },
    "version_major": 2,
    "version_minor": 0
   }
  }
 },
 "nbformat": 4,
 "nbformat_minor": 4
}
