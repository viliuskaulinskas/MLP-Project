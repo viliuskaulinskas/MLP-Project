{
 "cells": [
  {
   "cell_type": "code",
   "execution_count": 1,
   "id": "specified-yahoo",
   "metadata": {
    "_cell_guid": "2951d263-e7d8-4eab-9332-30ae13d9cb77",
    "_uuid": "1b3b48a8-0e7d-4c63-93ca-a2f77aac1692",
    "execution": {
     "iopub.execute_input": "2021-03-30T10:15:41.287261Z",
     "iopub.status.busy": "2021-03-30T10:15:41.286383Z",
     "iopub.status.idle": "2021-03-30T10:15:41.293475Z",
     "shell.execute_reply": "2021-03-30T10:15:41.292805Z"
    },
    "papermill": {
     "duration": 0.025211,
     "end_time": "2021-03-30T10:15:41.293652",
     "exception": false,
     "start_time": "2021-03-30T10:15:41.268441",
     "status": "completed"
    },
    "tags": []
   },
   "outputs": [],
   "source": [
    "import numpy as np\n",
    "import os\n",
    "from tqdm.auto import tqdm\n",
    "# from pathos.multiprocessing import ProcessingPool as Pool\n",
    "# from functools import partial\n",
    "import pandas as pd\n",
    "from PIL import Image"
   ]
  },
  {
   "cell_type": "code",
   "execution_count": 2,
   "id": "deluxe-cholesterol",
   "metadata": {
    "_cell_guid": "0ed7678f-5dcf-4247-9c27-acfc27778302",
    "_uuid": "027832d5-a2e5-4b24-9e9c-c3aadb36d6dd",
    "execution": {
     "iopub.execute_input": "2021-03-30T10:15:41.318147Z",
     "iopub.status.busy": "2021-03-30T10:15:41.317336Z",
     "iopub.status.idle": "2021-03-30T10:15:44.312043Z",
     "shell.execute_reply": "2021-03-30T10:15:44.311463Z"
    },
    "papermill": {
     "duration": 3.009714,
     "end_time": "2021-03-30T10:15:44.312199",
     "exception": false,
     "start_time": "2021-03-30T10:15:41.302485",
     "status": "completed"
    },
    "tags": []
   },
   "outputs": [
    {
     "name": "stdout",
     "output_type": "stream",
     "text": [
      "Cloning into 'ScaledYOLOv4'...\r\n",
      "remote: Enumerating objects: 92, done.\u001b[K\r\n",
      "remote: Counting objects: 100% (92/92), done.\u001b[K\r\n",
      "remote: Compressing objects: 100% (62/62), done.\u001b[K\r\n",
      "remote: Total 220 (delta 61), reused 60 (delta 30), pack-reused 128\u001b[K\r\n",
      "Receiving objects: 100% (220/220), 401.93 KiB | 1.56 MiB/s, done.\r\n",
      "Resolving deltas: 100% (113/113), done.\r\n",
      "/kaggle/working/ScaledYOLOv4\n",
      "Branch 'yolov4-large' set up to track remote branch 'yolov4-large' from 'origin'.\r\n",
      "Switched to a new branch 'yolov4-large'\r\n"
     ]
    }
   ],
   "source": [
    "# clone Scaled_YOLOv4\n",
    "!git clone https://github.com/tom-auger/ScaledYOLOv4.git\n",
    "%cd ScaledYOLOv4/\n",
    "#checkout the yolov4-large branch\n",
    "!git checkout yolov4-large"
   ]
  },
  {
   "cell_type": "code",
   "execution_count": 3,
   "id": "stuck-thesaurus",
   "metadata": {
    "_cell_guid": "024d95ac-8fe8-4275-b174-6276df095f53",
    "_uuid": "75ef516d-65a4-4d08-a969-7dd76b39f008",
    "execution": {
     "iopub.execute_input": "2021-03-30T10:15:44.356746Z",
     "iopub.status.busy": "2021-03-30T10:15:44.356074Z",
     "iopub.status.idle": "2021-03-30T10:15:44.531137Z",
     "shell.execute_reply": "2021-03-30T10:15:44.530206Z"
    },
    "papermill": {
     "duration": 0.206359,
     "end_time": "2021-03-30T10:15:44.531296",
     "exception": false,
     "start_time": "2021-03-30T10:15:44.324937",
     "status": "completed"
    },
    "tags": []
   },
   "outputs": [],
   "source": [
    "df_train = pd.read_csv('/kaggle/input/vinbigstratifiedyolo/vinbigstratified/train_orig.csv')\n",
    "df_val = pd.read_csv('/kaggle/input/vinbigstratifiedyolo/vinbigstratified/validation_orig.csv')\n",
    "df_test = pd.read_csv('/kaggle/input/vinbigstratifiedyolo/vinbigstratified/test_orig.csv')"
   ]
  },
  {
   "cell_type": "code",
   "execution_count": 4,
   "id": "wrapped-argentina",
   "metadata": {
    "_cell_guid": "9e7e3771-2c37-4f04-bce9-a6b0b7565157",
    "_uuid": "e48b4fe7-29eb-45c8-a190-e9273a602c85",
    "execution": {
     "iopub.execute_input": "2021-03-30T10:15:44.561589Z",
     "iopub.status.busy": "2021-03-30T10:15:44.560859Z",
     "iopub.status.idle": "2021-03-30T10:15:46.617147Z",
     "shell.execute_reply": "2021-03-30T10:15:46.616529Z"
    },
    "papermill": {
     "duration": 2.073342,
     "end_time": "2021-03-30T10:15:46.617304",
     "exception": false,
     "start_time": "2021-03-30T10:15:44.543962",
     "status": "completed"
    },
    "tags": []
   },
   "outputs": [
    {
     "name": "stdout",
     "output_type": "stream",
     "text": [
      "Using torch 1.7.0 _CudaDeviceProperties(name='Tesla P100-PCIE-16GB', major=6, minor=0, total_memory=16280MB, multi_processor_count=56)\n"
     ]
    }
   ],
   "source": [
    "import torch\n",
    "print('Using torch %s %s' % (torch.__version__, torch.cuda.get_device_properties(0) if torch.cuda.is_available() else 'CPU'))"
   ]
  },
  {
   "cell_type": "code",
   "execution_count": 5,
   "id": "desirable-puzzle",
   "metadata": {
    "_cell_guid": "b93d0894-7529-4789-afcf-ab50804ff7eb",
    "_uuid": "c9e316e2-cf48-4718-bf3f-79964f2a1839",
    "execution": {
     "iopub.execute_input": "2021-03-30T10:15:46.655346Z",
     "iopub.status.busy": "2021-03-30T10:15:46.654389Z",
     "iopub.status.idle": "2021-03-30T10:16:51.273289Z",
     "shell.execute_reply": "2021-03-30T10:16:51.271585Z"
    },
    "papermill": {
     "duration": 64.642497,
     "end_time": "2021-03-30T10:16:51.273591",
     "exception": false,
     "start_time": "2021-03-30T10:15:46.631094",
     "status": "completed"
    },
    "tags": []
   },
   "outputs": [
    {
     "name": "stdout",
     "output_type": "stream",
     "text": [
      "/kaggle/working\n",
      "Cloning into 'mish-cuda'...\r\n",
      "remote: Enumerating objects: 88, done.\u001b[K\r\n",
      "remote: Counting objects: 100% (88/88), done.\u001b[K\r\n",
      "remote: Compressing objects: 100% (75/75), done.\u001b[K\r\n",
      "remote: Total 195 (delta 7), reused 79 (delta 3), pack-reused 107\u001b[K\r\n",
      "Receiving objects: 100% (195/195), 208.77 KiB | 858.00 KiB/s, done.\r\n",
      "Resolving deltas: 100% (56/56), done.\r\n",
      "/kaggle/working/mish-cuda\n",
      "/opt/conda/lib/python3.7/distutils/extension.py:131: UserWarning: Unknown Extension options: 'headers'\r\n",
      "  warnings.warn(msg)\r\n",
      "running build\r\n",
      "running build_py\r\n",
      "creating build\r\n",
      "creating build/lib.linux-x86_64-3.7\r\n",
      "creating build/lib.linux-x86_64-3.7/mish_cuda\r\n",
      "copying src/mish_cuda/__init__.py -> build/lib.linux-x86_64-3.7/mish_cuda\r\n",
      "running egg_info\r\n",
      "creating src/mish_cuda.egg-info\r\n",
      "writing src/mish_cuda.egg-info/PKG-INFO\r\n",
      "writing dependency_links to src/mish_cuda.egg-info/dependency_links.txt\r\n",
      "writing requirements to src/mish_cuda.egg-info/requires.txt\r\n",
      "writing top-level names to src/mish_cuda.egg-info/top_level.txt\r\n",
      "writing manifest file 'src/mish_cuda.egg-info/SOURCES.txt'\r\n",
      "writing manifest file 'src/mish_cuda.egg-info/SOURCES.txt'\r\n",
      "running build_ext\r\n",
      "building 'mish_cuda._C' extension\r\n",
      "creating /kaggle/working/mish-cuda/build/temp.linux-x86_64-3.7\r\n",
      "creating /kaggle/working/mish-cuda/build/temp.linux-x86_64-3.7/csrc\r\n",
      "creating /kaggle/working/mish-cuda/build/temp.linux-x86_64-3.7/csrc/cpu\r\n",
      "creating /kaggle/working/mish-cuda/build/temp.linux-x86_64-3.7/csrc/cuda\r\n",
      "Emitting ninja build file /kaggle/working/mish-cuda/build/temp.linux-x86_64-3.7/build.ninja...\r\n",
      "Compiling objects...\r\n",
      "Allowing ninja to set a default number of workers... (overridable by setting the environment variable MAX_JOBS=N)\r\n",
      "[1/3] c++ -MMD -MF /kaggle/working/mish-cuda/build/temp.linux-x86_64-3.7/csrc/cpu/mish_cpu.o.d -pthread -B /opt/conda/compiler_compat -Wl,--sysroot=/ -Wsign-compare -DNDEBUG -g -fwrapv -O3 -Wall -Wstrict-prototypes -fPIC -I/opt/conda/lib/python3.7/site-packages/torch/include -I/opt/conda/lib/python3.7/site-packages/torch/include/torch/csrc/api/include -I/opt/conda/lib/python3.7/site-packages/torch/include/TH -I/opt/conda/lib/python3.7/site-packages/torch/include/THC -I/usr/local/cuda/include -I/opt/conda/include/python3.7m -c -c /kaggle/working/mish-cuda/csrc/cpu/mish_cpu.cpp -o /kaggle/working/mish-cuda/build/temp.linux-x86_64-3.7/csrc/cpu/mish_cpu.o -DTORCH_API_INCLUDE_EXTENSION_H -DTORCH_EXTENSION_NAME=_C -D_GLIBCXX_USE_CXX11_ABI=0 -std=c++14\r\n",
      "cc1plus: warning: command line option ‘-Wstrict-prototypes’ is valid for C/ObjC but not for C++\r\n",
      "In file included from /opt/conda/lib/python3.7/site-packages/torch/include/ATen/Parallel.h:149:0,\r\n",
      "                 from /opt/conda/lib/python3.7/site-packages/torch/include/ATen/CPUApplyUtils.h:3,\r\n",
      "                 from /kaggle/working/mish-cuda/csrc/cpu/mish_cpu.cpp:3:\r\n",
      "/opt/conda/lib/python3.7/site-packages/torch/include/ATen/ParallelOpenMP.h:84:0: warning: ignoring #pragma omp parallel [-Wunknown-pragmas]\r\n",
      " #pragma omp parallel for if ((end - begin) >= grain_size)\r\n",
      " \r\n",
      "[2/3] c++ -MMD -MF /kaggle/working/mish-cuda/build/temp.linux-x86_64-3.7/csrc/cuda/mish_cuda.o.d -pthread -B /opt/conda/compiler_compat -Wl,--sysroot=/ -Wsign-compare -DNDEBUG -g -fwrapv -O3 -Wall -Wstrict-prototypes -fPIC -I/opt/conda/lib/python3.7/site-packages/torch/include -I/opt/conda/lib/python3.7/site-packages/torch/include/torch/csrc/api/include -I/opt/conda/lib/python3.7/site-packages/torch/include/TH -I/opt/conda/lib/python3.7/site-packages/torch/include/THC -I/usr/local/cuda/include -I/opt/conda/include/python3.7m -c -c /kaggle/working/mish-cuda/csrc/cuda/mish_cuda.cpp -o /kaggle/working/mish-cuda/build/temp.linux-x86_64-3.7/csrc/cuda/mish_cuda.o -DTORCH_API_INCLUDE_EXTENSION_H -DTORCH_EXTENSION_NAME=_C -D_GLIBCXX_USE_CXX11_ABI=0 -std=c++14\r\n",
      "cc1plus: warning: command line option ‘-Wstrict-prototypes’ is valid for C/ObjC but not for C++\r\n",
      "In file included from /opt/conda/lib/python3.7/site-packages/torch/include/ATen/Parallel.h:149:0,\r\n",
      "                 from /opt/conda/lib/python3.7/site-packages/torch/include/torch/csrc/api/include/torch/utils.h:3,\r\n",
      "                 from /opt/conda/lib/python3.7/site-packages/torch/include/torch/csrc/api/include/torch/nn/cloneable.h:5,\r\n",
      "                 from /opt/conda/lib/python3.7/site-packages/torch/include/torch/csrc/api/include/torch/nn.h:3,\r\n",
      "                 from /opt/conda/lib/python3.7/site-packages/torch/include/torch/csrc/api/include/torch/all.h:12,\r\n",
      "                 from /opt/conda/lib/python3.7/site-packages/torch/include/torch/extension.h:4,\r\n",
      "                 from /kaggle/working/mish-cuda/csrc/cuda/mish_cuda.cpp:2:\r\n",
      "/opt/conda/lib/python3.7/site-packages/torch/include/ATen/ParallelOpenMP.h:84:0: warning: ignoring #pragma omp parallel [-Wunknown-pragmas]\r\n",
      " #pragma omp parallel for if ((end - begin) >= grain_size)\r\n",
      " \r\n",
      "[3/3] /usr/local/cuda/bin/nvcc -I/opt/conda/lib/python3.7/site-packages/torch/include -I/opt/conda/lib/python3.7/site-packages/torch/include/torch/csrc/api/include -I/opt/conda/lib/python3.7/site-packages/torch/include/TH -I/opt/conda/lib/python3.7/site-packages/torch/include/THC -I/usr/local/cuda/include -I/opt/conda/include/python3.7m -c -c /kaggle/working/mish-cuda/csrc/cuda/mish_kernel.cu -o /kaggle/working/mish-cuda/build/temp.linux-x86_64-3.7/csrc/cuda/mish_kernel.o -D__CUDA_NO_HALF_OPERATORS__ -D__CUDA_NO_HALF_CONVERSIONS__ -D__CUDA_NO_HALF2_OPERATORS__ --expt-relaxed-constexpr --compiler-options ''\"'\"'-fPIC'\"'\"'' --expt-extended-lambda -DTORCH_API_INCLUDE_EXTENSION_H -DTORCH_EXTENSION_NAME=_C -D_GLIBCXX_USE_CXX11_ABI=0 -gencode=arch=compute_60,code=sm_60 -std=c++14\r\n",
      "/opt/conda/lib/python3.7/site-packages/torch/include/ATen/core/boxing/impl/boxing.h(100): warning: integer conversion resulted in a change of sign\r\n",
      "\r\n",
      "/opt/conda/lib/python3.7/site-packages/torch/include/ATen/core/op_registration/op_whitelist.h(39): warning: integer conversion resulted in a change of sign\r\n",
      "\r\n",
      "/opt/conda/lib/python3.7/site-packages/torch/include/ATen/core/boxing/impl/boxing.h(100): warning: integer conversion resulted in a change of sign\r\n",
      "\r\n",
      "/opt/conda/lib/python3.7/site-packages/torch/include/ATen/core/op_registration/op_whitelist.h(39): warning: integer conversion resulted in a change of sign\r\n",
      "\r\n",
      "g++ -pthread -shared -B /opt/conda/compiler_compat -L/opt/conda/lib -Wl,-rpath=/opt/conda/lib -Wl,--no-as-needed -Wl,--sysroot=/ /kaggle/working/mish-cuda/build/temp.linux-x86_64-3.7/csrc/cpu/mish_cpu.o /kaggle/working/mish-cuda/build/temp.linux-x86_64-3.7/csrc/cuda/mish_cuda.o /kaggle/working/mish-cuda/build/temp.linux-x86_64-3.7/csrc/cuda/mish_kernel.o -L/opt/conda/lib/python3.7/site-packages/torch/lib -L/usr/local/cuda/lib64 -lc10 -ltorch -ltorch_cpu -ltorch_python -lcudart -lc10_cuda -ltorch_cuda -o build/lib.linux-x86_64-3.7/mish_cuda/_C.cpython-37m-x86_64-linux-gnu.so\r\n",
      "running install\r\n",
      "running bdist_egg\r\n",
      "installing library code to build/bdist.linux-x86_64/egg\r\n",
      "running install_lib\r\n",
      "creating build/bdist.linux-x86_64\r\n",
      "creating build/bdist.linux-x86_64/egg\r\n",
      "creating build/bdist.linux-x86_64/egg/mish_cuda\r\n",
      "copying build/lib.linux-x86_64-3.7/mish_cuda/__init__.py -> build/bdist.linux-x86_64/egg/mish_cuda\r\n",
      "copying build/lib.linux-x86_64-3.7/mish_cuda/_C.cpython-37m-x86_64-linux-gnu.so -> build/bdist.linux-x86_64/egg/mish_cuda\r\n",
      "byte-compiling build/bdist.linux-x86_64/egg/mish_cuda/__init__.py to __init__.cpython-37.pyc\r\n",
      "creating stub loader for mish_cuda/_C.cpython-37m-x86_64-linux-gnu.so\r\n",
      "byte-compiling build/bdist.linux-x86_64/egg/mish_cuda/_C.py to _C.cpython-37.pyc\r\n",
      "creating build/bdist.linux-x86_64/egg/EGG-INFO\r\n",
      "copying src/mish_cuda.egg-info/PKG-INFO -> build/bdist.linux-x86_64/egg/EGG-INFO\r\n",
      "copying src/mish_cuda.egg-info/SOURCES.txt -> build/bdist.linux-x86_64/egg/EGG-INFO\r\n",
      "copying src/mish_cuda.egg-info/dependency_links.txt -> build/bdist.linux-x86_64/egg/EGG-INFO\r\n",
      "copying src/mish_cuda.egg-info/not-zip-safe -> build/bdist.linux-x86_64/egg/EGG-INFO\r\n",
      "copying src/mish_cuda.egg-info/requires.txt -> build/bdist.linux-x86_64/egg/EGG-INFO\r\n",
      "copying src/mish_cuda.egg-info/top_level.txt -> build/bdist.linux-x86_64/egg/EGG-INFO\r\n",
      "writing build/bdist.linux-x86_64/egg/EGG-INFO/native_libs.txt\r\n",
      "creating dist\r\n",
      "creating 'dist/mish_cuda-0.0.3-py3.7-linux-x86_64.egg' and adding 'build/bdist.linux-x86_64/egg' to it\r\n",
      "removing 'build/bdist.linux-x86_64/egg' (and everything under it)\r\n",
      "Processing mish_cuda-0.0.3-py3.7-linux-x86_64.egg\r\n",
      "creating /opt/conda/lib/python3.7/site-packages/mish_cuda-0.0.3-py3.7-linux-x86_64.egg\r\n",
      "Extracting mish_cuda-0.0.3-py3.7-linux-x86_64.egg to /opt/conda/lib/python3.7/site-packages\r\n",
      "Adding mish-cuda 0.0.3 to easy-install.pth file\r\n",
      "\r\n",
      "Installed /opt/conda/lib/python3.7/site-packages/mish_cuda-0.0.3-py3.7-linux-x86_64.egg\r\n",
      "Processing dependencies for mish-cuda==0.0.3\r\n",
      "Searching for torch==1.7.0\r\n",
      "Best match: torch 1.7.0\r\n",
      "Adding torch 1.7.0 to easy-install.pth file\r\n",
      "Installing convert-caffe2-to-onnx script to /opt/conda/bin\r\n",
      "Installing convert-onnx-to-caffe2 script to /opt/conda/bin\r\n",
      "\r\n",
      "Using /opt/conda/lib/python3.7/site-packages\r\n",
      "Searching for numpy==1.19.5\r\n",
      "Best match: numpy 1.19.5\r\n",
      "Adding numpy 1.19.5 to easy-install.pth file\r\n",
      "Installing f2py script to /opt/conda/bin\r\n",
      "Installing f2py3 script to /opt/conda/bin\r\n",
      "Installing f2py3.7 script to /opt/conda/bin\r\n",
      "\r\n",
      "Using /opt/conda/lib/python3.7/site-packages\r\n",
      "Searching for dataclasses==0.6\r\n",
      "Best match: dataclasses 0.6\r\n",
      "Adding dataclasses 0.6 to easy-install.pth file\r\n",
      "\r\n",
      "Using /opt/conda/lib/python3.7/site-packages\r\n",
      "Searching for typing-extensions==3.7.4.3\r\n",
      "Best match: typing-extensions 3.7.4.3\r\n",
      "Adding typing-extensions 3.7.4.3 to easy-install.pth file\r\n",
      "\r\n",
      "Using /opt/conda/lib/python3.7/site-packages\r\n",
      "Searching for future==0.18.2\r\n",
      "Best match: future 0.18.2\r\n",
      "Adding future 0.18.2 to easy-install.pth file\r\n",
      "Installing futurize script to /opt/conda/bin\r\n",
      "Installing pasteurize script to /opt/conda/bin\r\n",
      "\r\n",
      "Using /opt/conda/lib/python3.7/site-packages\r\n",
      "Finished processing dependencies for mish-cuda==0.0.3\r\n",
      "/kaggle/working\n"
     ]
    }
   ],
   "source": [
    "#install mish activation funciton for cuda\n",
    "%cd ..\n",
    "!git clone https://github.com/JunnYu/mish-cuda\n",
    "%cd mish-cuda\n",
    "!python setup.py build install\n",
    "%cd .."
   ]
  },
  {
   "cell_type": "code",
   "execution_count": 6,
   "id": "seeing-bosnia",
   "metadata": {
    "_cell_guid": "22aaa81b-051b-41f2-ac1c-020ce2d00e23",
    "_uuid": "040b4c54-3ae0-4a93-a31a-1e77f98a276e",
    "execution": {
     "iopub.execute_input": "2021-03-30T10:16:51.350508Z",
     "iopub.status.busy": "2021-03-30T10:16:51.344931Z",
     "iopub.status.idle": "2021-03-30T10:16:52.160386Z",
     "shell.execute_reply": "2021-03-30T10:16:52.159795Z"
    },
    "papermill": {
     "duration": 0.847332,
     "end_time": "2021-03-30T10:16:52.160556",
     "exception": false,
     "start_time": "2021-03-30T10:16:51.313224",
     "status": "completed"
    },
    "tags": []
   },
   "outputs": [],
   "source": [
    "%mkdir data\n",
    "def write_to_file(imgs, dataset_name):\n",
    "    with open(f\"data/{dataset_name}_abnormsonly.txt\", 'wt') as f:\n",
    "        for img in imgs:\n",
    "            f.write(f\"/kaggle/input/vinbigstratifiedyolo/vinbigstratified/{dataset_name}/{img}.png\\n\")\n",
    "\n",
    "train_imgs = df_train[df_train['class_id'] != 14]['image_id'].unique()\n",
    "val_imgs = df_val[df_val['class_id'] != 14]['image_id'].unique()\n",
    "test_imgs = df_test[df_test['class_id'] != 14]['image_id'].unique()\n",
    "\n",
    "write_to_file(train_imgs, 'train')\n",
    "write_to_file(val_imgs, 'validation')\n",
    "write_to_file(test_imgs, 'test')"
   ]
  },
  {
   "cell_type": "code",
   "execution_count": 7,
   "id": "breathing-welcome",
   "metadata": {
    "_cell_guid": "a17d76f3-ed54-404a-aeb0-890c58707153",
    "_uuid": "95984d9c-c1ec-4cf0-8e99-dc0b828c9827",
    "execution": {
     "iopub.execute_input": "2021-03-30T10:16:52.211060Z",
     "iopub.status.busy": "2021-03-30T10:16:52.210152Z",
     "iopub.status.idle": "2021-03-30T10:16:52.214244Z",
     "shell.execute_reply": "2021-03-30T10:16:52.213626Z"
    },
    "papermill": {
     "duration": 0.031021,
     "end_time": "2021-03-30T10:16:52.214401",
     "exception": false,
     "start_time": "2021-03-30T10:16:52.183380",
     "status": "completed"
    },
    "tags": []
   },
   "outputs": [],
   "source": [
    "with open(f\"data.yaml\", 'wt') as f:\n",
    "        f.write(f\"\"\"train: ../data/train_abnormsonly.txt\n",
    "val: ../data/validation_abnormsonly.txt\n",
    "\n",
    "nc: 14\n",
    "names: ['Aortic enlargement', 'Atelectasis', 'Calcification', 'Cardiomegaly', 'Consolidation', 'ILD', 'Infiltration', 'Lung Opacity', 'Nodule/Mass', 'Other lesion', 'Pleural effusion', 'Pleural thickening', 'Pneumothorax', 'Pulmonary fibrosis']\n",
    "\"\"\")"
   ]
  },
  {
   "cell_type": "code",
   "execution_count": 8,
   "id": "parallel-infrared",
   "metadata": {
    "_cell_guid": "4ee792ef-ca93-412f-ac03-fbb91038c89c",
    "_uuid": "e13a5bb2-3402-40c7-8c0b-6c7e3d4b5c0e",
    "execution": {
     "iopub.execute_input": "2021-03-30T10:16:52.266134Z",
     "iopub.status.busy": "2021-03-30T10:16:52.265219Z",
     "iopub.status.idle": "2021-03-30T10:16:52.269302Z",
     "shell.execute_reply": "2021-03-30T10:16:52.268633Z"
    },
    "papermill": {
     "duration": 0.031698,
     "end_time": "2021-03-30T10:16:52.269438",
     "exception": false,
     "start_time": "2021-03-30T10:16:52.237740",
     "status": "completed"
    },
    "tags": []
   },
   "outputs": [],
   "source": [
    "with open(\"hypparams.yaml\", 'wt') as f:\n",
    "    f.write(\"\"\"# Hyperparameters for COCO training from scratch\n",
    "# python train.py --batch 40 --cfg yolov5m.yaml --weights '' --data coco.yaml --img 640 --epochs 300\n",
    "# See tutorials for hyperparameter evolution https://github.com/ultralytics/yolov5#tutorials\n",
    "\n",
    "\n",
    "lr0: 0.01  # initial learning rate (SGD=1E-2, Adam=1E-3)\n",
    "momentum: 0.937  # SGD momentum/Adam beta1\n",
    "weight_decay: 0.0005  # optimizer weight decay 5e-4\n",
    "giou: 0.05  # GIoU loss gain\n",
    "cls: 0.5  # cls loss gain\n",
    "cls_pw: 1.0  # cls BCELoss positive_weight\n",
    "obj: 1.0  # obj loss gain (scale with pixels)\n",
    "obj_pw: 1.0  # obj BCELoss positive_weight\n",
    "iou_t: 0.20  # IoU training threshold\n",
    "anchor_t: 4.0  # anchor-multiple threshold\n",
    "fl_gamma: 0.0  # focal loss gamma (efficientDet default gamma=1.5)\n",
    "hsv_h: 0.015  # image HSV-Hue augmentation (fraction)\n",
    "hsv_s: 0.7  # image HSV-Saturation augmentation (fraction)\n",
    "hsv_v: 0.4  # image HSV-Value augmentation (fraction)\n",
    "degrees: 0.0  # image rotation (+/- deg)\n",
    "translate: 0.5  # image translation (+/- fraction)\n",
    "scale: 0.5  # image scale (+/- gain)\n",
    "shear: 0.0  # image shear (+/- deg)\n",
    "perspective: 0.0  # image perspective (+/- fraction), range 0-0.001\n",
    "flipud: 0.0  # image flip up-down (probability)\n",
    "fliplr: 0.5  # image flip left-right (probability)\n",
    "mixup: 0.0  # image mixup (probability)\n",
    "\"\"\")"
   ]
  },
  {
   "cell_type": "code",
   "execution_count": 9,
   "id": "psychological-strap",
   "metadata": {
    "_cell_guid": "b94966af-affd-4ecf-95c5-b01505f1a9d3",
    "_uuid": "32f83550-a1e9-4084-9135-a63f0b59e252",
    "execution": {
     "iopub.execute_input": "2021-03-30T10:16:52.319482Z",
     "iopub.status.busy": "2021-03-30T10:16:52.318261Z",
     "iopub.status.idle": "2021-03-30T10:16:52.324574Z",
     "shell.execute_reply": "2021-03-30T10:16:52.325444Z"
    },
    "papermill": {
     "duration": 0.034527,
     "end_time": "2021-03-30T10:16:52.325688",
     "exception": false,
     "start_time": "2021-03-30T10:16:52.291161",
     "status": "completed"
    },
    "tags": []
   },
   "outputs": [
    {
     "name": "stdout",
     "output_type": "stream",
     "text": [
      "/kaggle/working/ScaledYOLOv4\n"
     ]
    }
   ],
   "source": [
    "%cd ScaledYOLOv4/"
   ]
  },
  {
   "cell_type": "code",
   "execution_count": 10,
   "id": "legislative-format",
   "metadata": {
    "_cell_guid": "344c3c75-a639-4883-b16d-3c73e537e0c5",
    "_uuid": "9152ce8c-6c68-48a1-b337-d393af9d6d62",
    "execution": {
     "iopub.execute_input": "2021-03-30T10:16:52.382192Z",
     "iopub.status.busy": "2021-03-30T10:16:52.377435Z",
     "iopub.status.idle": "2021-03-30T11:33:24.811545Z",
     "shell.execute_reply": "2021-03-30T11:33:24.812227Z"
    },
    "papermill": {
     "duration": 4592.463761,
     "end_time": "2021-03-30T11:33:24.812443",
     "exception": false,
     "start_time": "2021-03-30T10:16:52.348682",
     "status": "completed"
    },
    "tags": []
   },
   "outputs": [
    {
     "name": "stdout",
     "output_type": "stream",
     "text": [
      "Using CUDA device0 _CudaDeviceProperties(name='Tesla P100-PCIE-16GB', total_memory=16280MB)\r\n",
      "\r\n",
      "Namespace(adam=False, batch_size=16, bucket='', cache_images=True, cfg='./models/yolov4-csp.yaml', data='../data.yaml', device='', epochs=20, evolve=False, filterclass=-1, global_rank=-1, hyp='../hypparams.yaml', img_size=[640, 640], labels='labels_all', local_rank=-1, logdir='runs/', multi_scale=False, name='yolov4-csp-results', noautoanchor=False, nosave=False, notest=False, onlyclass=-1, rect=False, resume=False, single_cls=False, sync_bn=False, total_batch_size=16, useclassweights=True, weights='', world_size=1)\r\n",
      "Start Tensorboard with \"tensorboard --logdir runs/\", view at http://localhost:6006/\r\n",
      "2021-03-30 10:16:56.541866: I tensorflow/stream_executor/platform/default/dso_loader.cc:49] Successfully opened dynamic library libcudart.so.10.2\r\n",
      "Hyperparameters {'lr0': 0.01, 'momentum': 0.937, 'weight_decay': 0.0005, 'giou': 0.05, 'cls': 0.5, 'cls_pw': 1.0, 'obj': 1.0, 'obj_pw': 1.0, 'iou_t': 0.2, 'anchor_t': 4.0, 'fl_gamma': 0.0, 'hsv_h': 0.015, 'hsv_s': 0.7, 'hsv_v': 0.4, 'degrees': 0.0, 'translate': 0.5, 'scale': 0.5, 'shear': 0.0, 'perspective': 0.0, 'flipud': 0.0, 'fliplr': 0.5, 'mixup': 0.0}\r\n",
      "Overriding ./models/yolov4-csp.yaml nc=80 with nc=14\r\n",
      "\r\n",
      "                 from  n    params  module                                  arguments                     \r\n",
      "  0                -1  1       928  models.common.Conv                      [3, 32, 3, 1]                 \r\n",
      "  1                -1  1     18560  models.common.Conv                      [32, 64, 3, 2]                \r\n",
      "  2                -1  1     20672  models.common.Bottleneck                [64, 64]                      \r\n",
      "  3                -1  1     73984  models.common.Conv                      [64, 128, 3, 2]               \r\n",
      "  4                -1  1    119936  models.common.BottleneckCSP             [128, 128, 2]                 \r\n",
      "  5                -1  1    295424  models.common.Conv                      [128, 256, 3, 2]              \r\n",
      "  6                -1  1   1463552  models.common.BottleneckCSP             [256, 256, 8]                 \r\n",
      "  7                -1  1   1180672  models.common.Conv                      [256, 512, 3, 2]              \r\n",
      "  8                -1  1   5843456  models.common.BottleneckCSP             [512, 512, 8]                 \r\n",
      "  9                -1  1   4720640  models.common.Conv                      [512, 1024, 3, 2]             \r\n",
      " 10                -1  1  12858368  models.common.BottleneckCSP             [1024, 1024, 4]               \r\n",
      " 11                -1  1   7610368  models.common.SPPCSP                    [1024, 512, 1]                \r\n",
      " 12                -1  1    131584  models.common.Conv                      [512, 256, 1, 1]              \r\n",
      " 13                -1  1         0  torch.nn.modules.upsampling.Upsample    [None, 2, 'nearest']          \r\n",
      " 14                 8  1    131584  models.common.Conv                      [512, 256, 1, 1]              \r\n",
      " 15          [-1, -2]  1         0  models.common.Concat                    [1]                           \r\n",
      " 16                -1  1   1642496  models.common.BottleneckCSP2            [512, 256, 2]                 \r\n",
      " 17                -1  1     33024  models.common.Conv                      [256, 128, 1, 1]              \r\n",
      " 18                -1  1         0  torch.nn.modules.upsampling.Upsample    [None, 2, 'nearest']          \r\n",
      " 19                 6  1     33024  models.common.Conv                      [256, 128, 1, 1]              \r\n",
      " 20          [-1, -2]  1         0  models.common.Concat                    [1]                           \r\n",
      " 21                -1  1    411648  models.common.BottleneckCSP2            [256, 128, 2]                 \r\n",
      " 22                -1  1    295424  models.common.Conv                      [128, 256, 3, 1]              \r\n",
      " 23                -2  1    295424  models.common.Conv                      [128, 256, 3, 2]              \r\n",
      " 24          [-1, 16]  1         0  models.common.Concat                    [1]                           \r\n",
      " 25                -1  1   1642496  models.common.BottleneckCSP2            [512, 256, 2]                 \r\n",
      " 26                -1  1   1180672  models.common.Conv                      [256, 512, 3, 1]              \r\n",
      " 27                -2  1   1180672  models.common.Conv                      [256, 512, 3, 2]              \r\n",
      " 28          [-1, 11]  1         0  models.common.Concat                    [1]                           \r\n",
      " 29                -1  1   6561792  models.common.BottleneckCSP2            [1024, 512, 2]                \r\n",
      " 30                -1  1   4720640  models.common.Conv                      [512, 1024, 3, 1]             \r\n",
      " 31      [22, 26, 30]  1    102315  models.yolo.Detect                      [14, [[12, 16, 19, 36, 40, 28], [36, 75, 76, 55, 72, 146], [142, 110, 192, 243, 459, 401]], [256, 512, 1024]]\r\n",
      "Model Summary: 334 layers, 5.25694e+07 parameters, 5.25694e+07 gradients\r\n",
      "\r\n",
      "Optimizer groups: 111 .bias, 115 conv.weight, 108 other\r\n",
      "Scanning images: 100%|██████████████████████| 3485/3485 [00:52<00:00, 66.41it/s]\r\n",
      "Scanning labels /kaggle/working/cache/labels_all (3485 found, 0 missing, 0 empty\r\n",
      "Caching images (4.3GB): 100%|██████████████| 3485/3485 [00:34<00:00, 101.38it/s]\r\n",
      "Scanning images: 100%|████████████████████████| 460/460 [00:05<00:00, 90.40it/s]\r\n",
      "Scanning labels /kaggle/working/cache/labels_all (460 found, 0 missing, 0 empty,\r\n",
      "Caching images (0.6GB): 100%|████████████████| 460/460 [00:04<00:00, 106.64it/s]\r\n",
      "\r\n",
      "Analyzing anchors... anchors/target = 5.03, Best Possible Recall (BPR) = 0.9995\r\n",
      "Image sizes 640 train, 640 test\r\n",
      "Using 2 dataloader workers\r\n",
      "Starting training for 20 epochs...\r\n",
      "\r\n",
      "     Epoch   gpu_mem      GIoU       obj       cls     total   targets  img_size\r\n",
      "      0/19     12.8G   0.09029   0.05939   0.03044    0.1801       118       640\r\n",
      "               Class      Images     Targets           P           R      mAP@.5\r\n",
      "                 all         460     3.7e+03           0           0     0.00033    4.74e-05\r\n",
      "\r\n",
      "     Epoch   gpu_mem      GIoU       obj       cls     total   targets  img_size\r\n",
      "      1/19     12.7G   0.07894   0.06152   0.02724    0.1677       174       640\r\n",
      "               Class      Images     Targets           P           R      mAP@.5\r\n",
      "                 all         460     3.7e+03      0.0357      0.0435      0.0406      0.0136\r\n",
      "\r\n",
      "     Epoch   gpu_mem      GIoU       obj       cls     total   targets  img_size\r\n",
      "      2/19     12.7G   0.07272   0.05449   0.02435    0.1516       129       640\r\n",
      "               Class      Images     Targets           P           R      mAP@.5\r\n",
      "                 all         460     3.7e+03      0.0846      0.0985      0.0751      0.0275\r\n",
      "\r\n",
      "     Epoch   gpu_mem      GIoU       obj       cls     total   targets  img_size\r\n",
      "      3/19     12.7G   0.06782   0.05135   0.02265    0.1418       121       640\r\n",
      "               Class      Images     Targets           P           R      mAP@.5\r\n",
      "                 all         460     3.7e+03       0.297      0.0191      0.0415      0.0112\r\n",
      "\r\n",
      "     Epoch   gpu_mem      GIoU       obj       cls     total   targets  img_size\r\n",
      "      4/19     12.7G   0.06464   0.04985   0.02149     0.136       139       640\r\n",
      "               Class      Images     Targets           P           R      mAP@.5\r\n",
      "                 all         460     3.7e+03       0.183      0.0227      0.0398      0.0142\r\n",
      "\r\n",
      "     Epoch   gpu_mem      GIoU       obj       cls     total   targets  img_size\r\n",
      "      5/19     12.7G   0.06202   0.04877    0.0202     0.131       116       640\r\n",
      "               Class      Images     Targets           P           R      mAP@.5\r\n",
      "                 all         460     3.7e+03       0.227       0.121       0.117      0.0456\r\n",
      "\r\n",
      "     Epoch   gpu_mem      GIoU       obj       cls     total   targets  img_size\r\n",
      "      6/19     12.7G   0.05944   0.04756   0.01964    0.1266       135       640\r\n",
      "               Class      Images     Targets           P           R      mAP@.5\r\n",
      "                 all         460     3.7e+03       0.422       0.124       0.168      0.0681\r\n",
      "\r\n",
      "     Epoch   gpu_mem      GIoU       obj       cls     total   targets  img_size\r\n",
      "      7/19     12.7G   0.05827   0.04687   0.01924    0.1244       126       640\r\n",
      "               Class      Images     Targets           P           R      mAP@.5\r\n",
      "                 all         460     3.7e+03       0.363      0.0593      0.0715      0.0275\r\n",
      "\r\n",
      "     Epoch   gpu_mem      GIoU       obj       cls     total   targets  img_size\r\n",
      "      8/19     12.7G   0.05696   0.04582   0.01833    0.1211       128       640\r\n",
      "               Class      Images     Targets           P           R      mAP@.5\r\n",
      "                 all         460     3.7e+03       0.346        0.17       0.175      0.0658\r\n",
      "\r\n",
      "     Epoch   gpu_mem      GIoU       obj       cls     total   targets  img_size\r\n",
      "      9/19     12.7G   0.05599   0.04548   0.01796    0.1194       138       640\r\n",
      "               Class      Images     Targets           P           R      mAP@.5\r\n",
      "                 all         460     3.7e+03       0.402       0.159       0.201      0.0772\r\n",
      "\r\n",
      "     Epoch   gpu_mem      GIoU       obj       cls     total   targets  img_size\r\n",
      "     10/19     12.7G   0.05482   0.04529   0.01713    0.1172       106       640\r\n",
      "               Class      Images     Targets           P           R      mAP@.5\r\n",
      "                 all         460     3.7e+03        0.41      0.0532      0.0881      0.0305\r\n",
      "\r\n",
      "     Epoch   gpu_mem      GIoU       obj       cls     total   targets  img_size\r\n",
      "     11/19     12.7G   0.05429   0.04533   0.01793    0.1176       142       640\r\n",
      "               Class      Images     Targets           P           R      mAP@.5\r\n",
      "                 all         460     3.7e+03       0.492       0.166       0.209      0.0823\r\n",
      "\r\n",
      "     Epoch   gpu_mem      GIoU       obj       cls     total   targets  img_size\r\n",
      "     12/19     12.7G   0.05349   0.04323   0.01671    0.1134       160       640\r\n",
      "               Class      Images     Targets           P           R      mAP@.5\r\n",
      "                 all         460     3.7e+03       0.387       0.211       0.234      0.0913\r\n",
      "\r\n",
      "     Epoch   gpu_mem      GIoU       obj       cls     total   targets  img_size\r\n",
      "     13/19     12.7G   0.05255   0.04325   0.01607    0.1119       141       640\r\n",
      "               Class      Images     Targets           P           R      mAP@.5\r\n",
      "                 all         460     3.7e+03       0.432        0.21       0.234      0.0898\r\n",
      "\r\n",
      "     Epoch   gpu_mem      GIoU       obj       cls     total   targets  img_size\r\n",
      "     14/19     12.7G    0.0523    0.0432   0.01658    0.1121       123       640\r\n",
      "               Class      Images     Targets           P           R      mAP@.5\r\n",
      "                 all         460     3.7e+03       0.504       0.228       0.234      0.0924\r\n",
      "\r\n",
      "     Epoch   gpu_mem      GIoU       obj       cls     total   targets  img_size\r\n",
      "     15/19     12.7G   0.05175   0.04379   0.01596    0.1115       116       640\r\n",
      "               Class      Images     Targets           P           R      mAP@.5\r\n",
      "                 all         460     3.7e+03       0.458       0.227       0.241      0.0978\r\n",
      "\r\n",
      "     Epoch   gpu_mem      GIoU       obj       cls     total   targets  img_size\r\n",
      "     16/19     12.7G    0.0513   0.04224   0.01612    0.1097       138       640\r\n",
      "               Class      Images     Targets           P           R      mAP@.5\r\n",
      "                 all         460     3.7e+03       0.538        0.16       0.181      0.0668\r\n",
      "\r\n",
      "     Epoch   gpu_mem      GIoU       obj       cls     total   targets  img_size\r\n",
      "     17/19     12.7G   0.05081   0.04224   0.01532    0.1084       170       640\r\n",
      "               Class      Images     Targets           P           R      mAP@.5\r\n",
      "                 all         460     3.7e+03       0.329       0.186       0.188      0.0716\r\n",
      "\r\n",
      "     Epoch   gpu_mem      GIoU       obj       cls     total   targets  img_size\r\n",
      "     18/19     12.7G   0.05025   0.04215   0.01563     0.108       139       640\r\n",
      "               Class      Images     Targets           P           R      mAP@.5\r\n",
      "                 all         460     3.7e+03       0.403       0.291       0.272       0.106\r\n",
      "\r\n",
      "     Epoch   gpu_mem      GIoU       obj       cls     total   targets  img_size\r\n",
      "     19/19     12.7G    0.0501   0.04269   0.01526    0.1081        80       640\r\n",
      "               Class      Images     Targets           P           R      mAP@.5\r\n",
      "                 all         460     3.7e+03       0.376       0.292       0.269       0.105\r\n",
      "Optimizer stripped from runs/exp0_yolov4-csp-results/weights/last_yolov4-csp-results.pt, saved as runs/exp0_yolov4-csp-results/weights/last_yolov4-csp-results_strip.pt, 105.6MB\r\n",
      "Optimizer stripped from runs/exp0_yolov4-csp-results/weights/best_yolov4-csp-results.pt, saved as runs/exp0_yolov4-csp-results/weights/best_yolov4-csp-results_strip.pt, 105.6MB\r\n",
      "20 epochs completed in 1.241 hours.\r\n",
      "\r\n"
     ]
    }
   ],
   "source": [
    "!python train.py --useclassweights --labels 'labels_all' --img 640 --batch 16 --epochs 20 --data '../data.yaml' --hyp '../hypparams.yaml' --cfg ./models/yolov4-csp.yaml --weights '' --name yolov4-csp-results --cache"
   ]
  }
 ],
 "metadata": {
  "kernelspec": {
   "display_name": "Python 3",
   "language": "python",
   "name": "python3"
  },
  "language_info": {
   "codemirror_mode": {
    "name": "ipython",
    "version": 3
   },
   "file_extension": ".py",
   "mimetype": "text/x-python",
   "name": "python",
   "nbconvert_exporter": "python",
   "pygments_lexer": "ipython3",
   "version": "3.7.9"
  },
  "papermill": {
   "default_parameters": {},
   "duration": 4674.254785,
   "end_time": "2021-03-30T11:33:29.323984",
   "environment_variables": {},
   "exception": null,
   "input_path": "__notebook__.ipynb",
   "output_path": "__notebook__.ipynb",
   "parameters": {},
   "start_time": "2021-03-30T10:15:35.069199",
   "version": "2.3.2"
  }
 },
 "nbformat": 4,
 "nbformat_minor": 5
}
