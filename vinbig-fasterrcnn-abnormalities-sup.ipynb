{
 "cells": [
  {
   "cell_type": "code",
   "execution_count": null,
   "metadata": {
    "_cell_guid": "b1076dfc-b9ad-4769-8c92-a6c4dae69d19",
    "_uuid": "8f2839f25d086af736a60e9eeb907d3b93b6e0e5",
    "execution": {
     "iopub.execute_input": "2021-03-26T21:36:03.940651Z",
     "iopub.status.busy": "2021-03-26T21:36:03.939572Z",
     "iopub.status.idle": "2021-03-26T21:36:20.798274Z",
     "shell.execute_reply": "2021-03-26T21:36:20.798895Z"
    },
    "papermill": {
     "duration": 16.892355,
     "end_time": "2021-03-26T21:36:20.799343",
     "exception": false,
     "start_time": "2021-03-26T21:36:03.906988",
     "status": "completed"
    },
    "tags": []
   },
   "outputs": [],
   "source": [
    "# Install prerequisites\n",
    "\n",
    "# Install PyCocoTools needed for FasterRCNN\n",
    "!pip install git+https://github.com/gautamchitnis/cocoapi.git@cocodataset-master#subdirectory=PythonAPI\n",
    "\n",
    "# Copy useful functions from pytorch vision tools\n",
    "%cp ../input/pytorch-vision-tools/references/detection/*.* ."
   ]
  },
  {
   "cell_type": "code",
   "execution_count": null,
   "metadata": {
    "execution": {
     "iopub.execute_input": "2021-03-26T21:36:20.888274Z",
     "iopub.status.busy": "2021-03-26T21:36:20.887422Z",
     "iopub.status.idle": "2021-03-26T21:36:24.516181Z",
     "shell.execute_reply": "2021-03-26T21:36:24.515068Z"
    },
    "papermill": {
     "duration": 3.685769,
     "end_time": "2021-03-26T21:36:24.516327",
     "exception": false,
     "start_time": "2021-03-26T21:36:20.830558",
     "status": "completed"
    },
    "tags": []
   },
   "outputs": [],
   "source": [
    "# Import required libraries\n",
    "import numpy as np\n",
    "import pandas as pd\n",
    "from torch.utils.data import Dataset, DataLoader, Subset\n",
    "from PIL import Image\n",
    "from PIL import ImageDraw\n",
    "import torchvision\n",
    "from torchvision import transforms\n",
    "from torchvision.models.detection.faster_rcnn import FastRCNNPredictor\n",
    "from os import path\n",
    "import torch\n",
    "import torchvision.utils\n",
    "import utils\n",
    "from engine import train_one_epoch, evaluate\n",
    "from torch.optim.lr_scheduler import CosineAnnealingLR\n",
    "from torch.optim import Adam\n",
    "import albumentations as A\n",
    "from albumentations.pytorch.transforms import ToTensorV2\n",
    "import pickle\n",
    "import time\n",
    "import matplotlib.pyplot as plt\n",
    "%matplotlib inline"
   ]
  },
  {
   "cell_type": "code",
   "execution_count": null,
   "metadata": {
    "execution": {
     "iopub.execute_input": "2021-03-26T21:36:24.567084Z",
     "iopub.status.busy": "2021-03-26T21:36:24.566274Z",
     "iopub.status.idle": "2021-03-26T21:36:24.568789Z",
     "shell.execute_reply": "2021-03-26T21:36:24.568387Z"
    },
    "papermill": {
     "duration": 0.033447,
     "end_time": "2021-03-26T21:36:24.568898",
     "exception": false,
     "start_time": "2021-03-26T21:36:24.535451",
     "status": "completed"
    },
    "tags": []
   },
   "outputs": [],
   "source": [
    "# Define a dataset class which defines how to load images,targets for training and validation\n",
    "class VinBigDataset(Dataset):\n",
    "    def __init__(self, img_dir, df, transforms, class_id=None):\n",
    "        self.img_dir = img_dir\n",
    "        if class_id:\n",
    "            df = df[df[\"class_id\"] == class_id]\n",
    "        self.df = df\n",
    "        self.imgs = df[\"image_id\"].unique()\n",
    "        self.transforms = transforms\n",
    "        \n",
    "    def __len__(self):\n",
    "        # Return the number of elements in the dataset\n",
    "        return len(self.imgs)\n",
    "    \n",
    "    def __getitem__(self, idx):\n",
    "        # The dataset iterates over each image id\n",
    "        # Return the requested image,target from the dataset\n",
    "        \n",
    "        # Get the id of the current image\n",
    "        img_id = self.imgs[idx]\n",
    "        \n",
    "        # Get the rows containing annotations for this image\n",
    "        data_rows = self.df[self.df[\"image_id\"] == img_id]\n",
    "        boxes = data_rows[[\"x_min\", \"y_min\", \"x_max\", \"y_max\"]].values\n",
    "        \n",
    "        # Convert into a torch.Tensor\n",
    "        boxes = torch.as_tensor(boxes, dtype=torch.float32)\n",
    "        \n",
    "        # Load the image\n",
    "        img_path = path.join(self.img_dir, f\"{img_id}.png\")\n",
    "        img = Image.open(img_path).convert(\"RGB\")\n",
    "        \n",
    "        # Compute the area of the annotated box\n",
    "        area = (boxes[:, 3] - boxes[:, 1]) * (boxes[:, 2] - boxes[:,0])\n",
    "        \n",
    "        # Suppose all instances are not crowd (?)\n",
    "        num_objs = len(boxes)\n",
    "        iscrowd = torch.zeros((num_objs,), dtype=torch.int64)\n",
    "        \n",
    "        labels = torch.tensor(data_rows[\"class_id\"].values, dtype=torch.int64)\n",
    "        \n",
    "        # Define the target for this training data point\n",
    "        target = {}\n",
    "        target[\"boxes\"] = boxes\n",
    "        target[\"labels\"] = labels\n",
    "        target[\"image_id\"] = torch.tensor([idx])\n",
    "        target[\"area\"] = area\n",
    "        target[\"iscrowd\"] = iscrowd\n",
    "        \n",
    "        if self.transforms is not None:\n",
    "            to_transform = {\n",
    "                'image': np.array(img),\n",
    "                'bboxes': target['boxes'],\n",
    "                'labels': labels\n",
    "            }\n",
    "            transformed = self.transforms(**to_transform)\n",
    "            img = transformed['image']    \n",
    "            target['boxes'] = torch.tensor(transformed['bboxes'])\n",
    "        \n",
    "#         if self.transforms is not None:\n",
    "#             img = self.transforms(img)\n",
    "        \n",
    "        return img, target"
   ]
  },
  {
   "cell_type": "code",
   "execution_count": null,
   "metadata": {
    "execution": {
     "iopub.execute_input": "2021-03-26T21:36:24.612001Z",
     "iopub.status.busy": "2021-03-26T21:36:24.611391Z",
     "iopub.status.idle": "2021-03-26T21:36:24.614227Z",
     "shell.execute_reply": "2021-03-26T21:36:24.613819Z"
    },
    "papermill": {
     "duration": 0.026554,
     "end_time": "2021-03-26T21:36:24.614332",
     "exception": false,
     "start_time": "2021-03-26T21:36:24.587778",
     "status": "completed"
    },
    "tags": []
   },
   "outputs": [],
   "source": [
    "# Function to create transforms for preprocessing\n",
    "def create_transforms(train):\n",
    "    if train:\n",
    "        return A.Compose([\n",
    "            A.Normalize(mean=(0, 0, 0), std=(1, 1, 1), max_pixel_value=255.0, p=1.0),\n",
    "            ToTensorV2(p=1.0)\n",
    "        ])\n",
    "    else:\n",
    "        return A.Compose([\n",
    "            A.Normalize(mean=(0, 0, 0), std=(1, 1, 1), max_pixel_value=255.0, p=1.0),\n",
    "            ToTensorV2(p=1.0)\n",
    "        ])\n",
    "#     transforms.Compose([\n",
    "#             transforms.ToTensor(),\n",
    "#        #     transforms.Normalize((0.485, 0.456, 0.406), (0.229, 0.224, 0.225))\n",
    "#         ])"
   ]
  },
  {
   "cell_type": "code",
   "execution_count": null,
   "metadata": {
    "execution": {
     "iopub.execute_input": "2021-03-26T21:36:24.658081Z",
     "iopub.status.busy": "2021-03-26T21:36:24.657500Z",
     "iopub.status.idle": "2021-03-26T21:36:24.660504Z",
     "shell.execute_reply": "2021-03-26T21:36:24.660073Z"
    },
    "papermill": {
     "duration": 0.025775,
     "end_time": "2021-03-26T21:36:24.660606",
     "exception": false,
     "start_time": "2021-03-26T21:36:24.634831",
     "status": "completed"
    },
    "tags": []
   },
   "outputs": [],
   "source": [
    "# Function to create an instance of the model\n",
    "def create_model():\n",
    "    # The model has 15 classes (14 abnormalities and no abnormalities)\n",
    "    num_classes = 15\n",
    "    \n",
    "    # Use resnet50 pre-trained on COCO\n",
    "    model = torchvision.models.detection.fasterrcnn_resnet50_fpn(pretrained=True)\n",
    "        \n",
    "    # Fetch the number of input features for the classifier\n",
    "    in_features = model.roi_heads.box_predictor.cls_score.in_features\n",
    "    \n",
    "    # Replace the pre-trained head with a new one\n",
    "    model.roi_heads.box_predictor = FastRCNNPredictor(in_features, num_classes)\n",
    "   \n",
    "    return model"
   ]
  },
  {
   "cell_type": "markdown",
   "metadata": {
    "papermill": {
     "duration": 0.019333,
     "end_time": "2021-03-26T21:36:24.699308",
     "exception": false,
     "start_time": "2021-03-26T21:36:24.679975",
     "status": "completed"
    },
    "tags": []
   },
   "source": [
    "# Load training data"
   ]
  },
  {
   "cell_type": "code",
   "execution_count": null,
   "metadata": {
    "execution": {
     "iopub.execute_input": "2021-03-26T21:36:24.746629Z",
     "iopub.status.busy": "2021-03-26T21:36:24.745992Z",
     "iopub.status.idle": "2021-03-26T21:36:24.914791Z",
     "shell.execute_reply": "2021-03-26T21:36:24.913746Z"
    },
    "papermill": {
     "duration": 0.196483,
     "end_time": "2021-03-26T21:36:24.914914",
     "exception": false,
     "start_time": "2021-03-26T21:36:24.718431",
     "status": "completed"
    },
    "tags": []
   },
   "outputs": [],
   "source": [
    "# Load the training data csv file\n",
    "data_dir = \"../input/vinbig1024stratified/\"\n",
    "\n",
    "df_train = pd.read_csv(f\"{data_dir}/train.csv\")\n",
    "df_train.fillna(0, inplace=True)\n",
    "df_train.loc[df_train[\"class_id\"] == 14, ['x_max', 'y_max']] = 1.0\n",
    "\n",
    "# FasterRCNN handles class_id==0 as the background.\n",
    "df_train[\"class_id\"] = df_train[\"class_id\"] + 1\n",
    "df_train.loc[df_train[\"class_id\"] == 15, [\"class_id\"]] = 0\n",
    "\n",
    "# Print out the total number of images and the total number of annotations \n",
    "print(f\"{df_train['image_id'].nunique()} images\")\n",
    "print(f\"{len(df_train.index)} annotations\")"
   ]
  },
  {
   "cell_type": "code",
   "execution_count": null,
   "metadata": {
    "execution": {
     "iopub.execute_input": "2021-03-26T21:36:24.959274Z",
     "iopub.status.busy": "2021-03-26T21:36:24.958712Z",
     "iopub.status.idle": "2021-03-26T21:36:24.979965Z",
     "shell.execute_reply": "2021-03-26T21:36:24.980399Z"
    },
    "papermill": {
     "duration": 0.046004,
     "end_time": "2021-03-26T21:36:24.980533",
     "exception": false,
     "start_time": "2021-03-26T21:36:24.934529",
     "status": "completed"
    },
    "tags": []
   },
   "outputs": [],
   "source": [
    "# Remove no abnormality\n",
    "df_train = df_train[df_train['class_id'] != 0]\n",
    "df_train.reset_index(drop=True, inplace=True)\n",
    "df_train.head()"
   ]
  },
  {
   "cell_type": "code",
   "execution_count": null,
   "metadata": {
    "execution": {
     "iopub.execute_input": "2021-03-26T21:36:25.026449Z",
     "iopub.status.busy": "2021-03-26T21:36:25.024753Z",
     "iopub.status.idle": "2021-03-26T21:36:25.027089Z",
     "shell.execute_reply": "2021-03-26T21:36:25.027499Z"
    },
    "papermill": {
     "duration": 0.026203,
     "end_time": "2021-03-26T21:36:25.027634",
     "exception": false,
     "start_time": "2021-03-26T21:36:25.001431",
     "status": "completed"
    },
    "tags": []
   },
   "outputs": [],
   "source": [
    "# df_train_14_no_duplicates = df_train_14.drop_duplicates(subset=['image_id', 'class_id'], keep='first')\n",
    "# df_train = df_train_no14.append(df_train_14_no_duplicates, ignore_index=True)"
   ]
  },
  {
   "cell_type": "code",
   "execution_count": null,
   "metadata": {
    "execution": {
     "iopub.execute_input": "2021-03-26T21:36:25.075485Z",
     "iopub.status.busy": "2021-03-26T21:36:25.074759Z",
     "iopub.status.idle": "2021-03-26T21:36:25.080530Z",
     "shell.execute_reply": "2021-03-26T21:36:25.080122Z"
    },
    "papermill": {
     "duration": 0.03203,
     "end_time": "2021-03-26T21:36:25.080641",
     "exception": false,
     "start_time": "2021-03-26T21:36:25.048611",
     "status": "completed"
    },
    "tags": []
   },
   "outputs": [],
   "source": [
    "# Create an instance of the dataset and transformations for training and validation\n",
    "\n",
    "train_img_dir = '../input/vinbig1024stratified/output/dataset/train'\n",
    "# train_img_dir = path.join(data_dir, 'train/train')\n",
    "train_dataset = VinBigDataset(train_img_dir, df_train, create_transforms(train=True))\n",
    "\n",
    "# Create data loaders for the training set. The collate function\n",
    "# defines how to form a minibatch from the indiviaual data items. In our case we\n",
    "# just want to collate them into a single list.\n",
    "\n",
    "data_loader_train = DataLoader(\\\n",
    "    train_dataset, batch_size=5, shuffle=True, num_workers=4, collate_fn=utils.collate_fn)\n",
    "\n",
    "# Print the number of elements in the test and training set\n",
    "print(f\"{len(train_dataset)} items in the training set\")"
   ]
  },
  {
   "cell_type": "markdown",
   "metadata": {
    "papermill": {
     "duration": 0.020438,
     "end_time": "2021-03-26T21:36:25.121778",
     "exception": false,
     "start_time": "2021-03-26T21:36:25.101340",
     "status": "completed"
    },
    "tags": []
   },
   "source": [
    "# Load validation data"
   ]
  },
  {
   "cell_type": "code",
   "execution_count": null,
   "metadata": {
    "execution": {
     "iopub.execute_input": "2021-03-26T21:36:25.171217Z",
     "iopub.status.busy": "2021-03-26T21:36:25.170630Z",
     "iopub.status.idle": "2021-03-26T21:36:25.199970Z",
     "shell.execute_reply": "2021-03-26T21:36:25.200855Z"
    },
    "papermill": {
     "duration": 0.058501,
     "end_time": "2021-03-26T21:36:25.200980",
     "exception": false,
     "start_time": "2021-03-26T21:36:25.142479",
     "status": "completed"
    },
    "tags": []
   },
   "outputs": [],
   "source": [
    "# Load the VALIDATION data csv file\n",
    "data_dir = \"../input/vinbig1024stratified/\"\n",
    "\n",
    "df_val = pd.read_csv(f\"{data_dir}/validation.csv\")\n",
    "df_val.fillna(0, inplace=True)\n",
    "df_val.loc[df_val[\"class_id\"] == 14, ['x_max', 'y_max']] = 1.0\n",
    "\n",
    "# FasterRCNN handles class_id==0 as the background.\n",
    "df_val[\"class_id\"] = df_val[\"class_id\"] + 1\n",
    "df_val.loc[df_val[\"class_id\"] == 15, [\"class_id\"]] = 0\n",
    "\n",
    "# Print out the total number of images and the total number of annotations \n",
    "print(f\"{df_val['image_id'].nunique()} images\")\n",
    "print(f\"{len(df_val.index)} annotations\")"
   ]
  },
  {
   "cell_type": "code",
   "execution_count": null,
   "metadata": {
    "execution": {
     "iopub.execute_input": "2021-03-26T21:36:25.248285Z",
     "iopub.status.busy": "2021-03-26T21:36:25.247491Z",
     "iopub.status.idle": "2021-03-26T21:36:25.266902Z",
     "shell.execute_reply": "2021-03-26T21:36:25.266520Z"
    },
    "papermill": {
     "duration": 0.044653,
     "end_time": "2021-03-26T21:36:25.267002",
     "exception": false,
     "start_time": "2021-03-26T21:36:25.222349",
     "status": "completed"
    },
    "tags": []
   },
   "outputs": [],
   "source": [
    "# Remove no abnormality\n",
    "df_val = df_val[df_val['class_id'] != 0]\n",
    "df_val.reset_index(drop=True, inplace=True)\n",
    "# Print out the total number of images and the total number of annotations \n",
    "print(f\"{df_val['image_id'].nunique()} images\")\n",
    "print(f\"{len(df_val.index)} annotations\")\n",
    "df_val.head(10)"
   ]
  },
  {
   "cell_type": "code",
   "execution_count": null,
   "metadata": {
    "execution": {
     "iopub.execute_input": "2021-03-26T21:36:25.315843Z",
     "iopub.status.busy": "2021-03-26T21:36:25.315041Z",
     "iopub.status.idle": "2021-03-26T21:36:25.319229Z",
     "shell.execute_reply": "2021-03-26T21:36:25.318818Z"
    },
    "papermill": {
     "duration": 0.030281,
     "end_time": "2021-03-26T21:36:25.319331",
     "exception": false,
     "start_time": "2021-03-26T21:36:25.289050",
     "status": "completed"
    },
    "tags": []
   },
   "outputs": [],
   "source": [
    "# Create an instance of the dataset and transformations for training and validation\n",
    "\n",
    "val_img_dir = '../input/vinbig1024stratified/output/dataset/validation/'\n",
    "# train_img_dir = path.join(data_dir, 'train/train')\n",
    "val_dataset = VinBigDataset(val_img_dir, df_val, create_transforms(train=False))\n",
    "\n",
    "# Create data loaders for the training set. The collate function\n",
    "# defines how to form a minibatch from the indiviaual data items. In our case we\n",
    "# just want to collate them into a single list.\n",
    "\n",
    "data_loader_val = DataLoader(val_dataset, batch_size=5, shuffle=False, num_workers=4, collate_fn=utils.collate_fn)\n",
    "\n",
    "# Print the number of elements in the test and training set\n",
    "print(f\"{len(val_dataset)} items in the validation set\")"
   ]
  },
  {
   "cell_type": "markdown",
   "metadata": {
    "papermill": {
     "duration": 0.021997,
     "end_time": "2021-03-26T21:36:25.363496",
     "exception": false,
     "start_time": "2021-03-26T21:36:25.341499",
     "status": "completed"
    },
    "tags": []
   },
   "source": [
    "# Run the notebook"
   ]
  },
  {
   "cell_type": "code",
   "execution_count": null,
   "metadata": {
    "execution": {
     "iopub.execute_input": "2021-03-26T21:36:25.416144Z",
     "iopub.status.busy": "2021-03-26T21:36:25.415500Z",
     "iopub.status.idle": "2021-03-26T21:36:28.982236Z",
     "shell.execute_reply": "2021-03-26T21:36:28.981711Z"
    },
    "papermill": {
     "duration": 3.595524,
     "end_time": "2021-03-26T21:36:28.982379",
     "exception": false,
     "start_time": "2021-03-26T21:36:25.386855",
     "status": "completed"
    },
    "tags": []
   },
   "outputs": [],
   "source": [
    "model = create_model()\n",
    "use_pre_trained = True"
   ]
  },
  {
   "cell_type": "code",
   "execution_count": null,
   "metadata": {
    "execution": {
     "iopub.execute_input": "2021-03-26T21:36:29.038755Z",
     "iopub.status.busy": "2021-03-26T21:36:29.038264Z",
     "iopub.status.idle": "2021-03-26T21:36:29.156989Z",
     "shell.execute_reply": "2021-03-26T21:36:29.156480Z"
    },
    "papermill": {
     "duration": 0.151203,
     "end_time": "2021-03-26T21:36:29.157135",
     "exception": false,
     "start_time": "2021-03-26T21:36:29.005932",
     "status": "completed"
    },
    "tags": []
   },
   "outputs": [],
   "source": [
    "train_dataset[3]"
   ]
  },
  {
   "cell_type": "code",
   "execution_count": null,
   "metadata": {
    "execution": {
     "iopub.execute_input": "2021-03-26T21:36:29.209422Z",
     "iopub.status.busy": "2021-03-26T21:36:29.208699Z",
     "iopub.status.idle": "2021-03-26T21:36:29.211887Z",
     "shell.execute_reply": "2021-03-26T21:36:29.211481Z"
    },
    "papermill": {
     "duration": 0.030726,
     "end_time": "2021-03-26T21:36:29.212000",
     "exception": false,
     "start_time": "2021-03-26T21:36:29.181274",
     "status": "completed"
    },
    "tags": []
   },
   "outputs": [],
   "source": [
    "# image = Image.open(\"../input/vinbig1024stratified/output/dataset/train/0007d316f756b3fa0baea2ff514ce945.png\")\n",
    "# image"
   ]
  },
  {
   "cell_type": "code",
   "execution_count": null,
   "metadata": {
    "execution": {
     "iopub.execute_input": "2021-03-26T21:36:29.264025Z",
     "iopub.status.busy": "2021-03-26T21:36:29.263437Z",
     "iopub.status.idle": "2021-03-26T21:36:29.266517Z",
     "shell.execute_reply": "2021-03-26T21:36:29.265975Z"
    },
    "papermill": {
     "duration": 0.030554,
     "end_time": "2021-03-26T21:36:29.266629",
     "exception": false,
     "start_time": "2021-03-26T21:36:29.236075",
     "status": "completed"
    },
    "tags": []
   },
   "outputs": [],
   "source": [
    "# details = df_train[df_train['image_id'] == '0007d316f756b3fa0baea2ff514ce945']\n",
    "# details"
   ]
  },
  {
   "cell_type": "code",
   "execution_count": null,
   "metadata": {
    "execution": {
     "iopub.execute_input": "2021-03-26T21:36:29.317610Z",
     "iopub.status.busy": "2021-03-26T21:36:29.316907Z",
     "iopub.status.idle": "2021-03-26T21:36:29.319965Z",
     "shell.execute_reply": "2021-03-26T21:36:29.319547Z"
    },
    "papermill": {
     "duration": 0.02968,
     "end_time": "2021-03-26T21:36:29.320062",
     "exception": false,
     "start_time": "2021-03-26T21:36:29.290382",
     "status": "completed"
    },
    "tags": []
   },
   "outputs": [],
   "source": [
    "# from PIL import Image\n",
    "# from PIL import ImageDraw\n",
    "# draw = ImageDraw.Draw(image)\n",
    "# for i in range(len(details)):\n",
    "#     draw.rectangle([(details[i:i+1]['x_min'], details[i:i+1]['y_min']), (details[i:i+1]['x_max'], details[i:i+1]['y_max'])], outline =\"red\", width=3)\n",
    "# image"
   ]
  },
  {
   "cell_type": "code",
   "execution_count": null,
   "metadata": {
    "execution": {
     "iopub.execute_input": "2021-03-26T21:36:29.840756Z",
     "iopub.status.busy": "2021-03-26T21:36:29.380639Z",
     "iopub.status.idle": "2021-03-27T01:07:25.593016Z",
     "shell.execute_reply": "2021-03-27T01:07:25.591918Z"
    },
    "papermill": {
     "duration": 12656.248999,
     "end_time": "2021-03-27T01:07:25.593198",
     "exception": false,
     "start_time": "2021-03-26T21:36:29.344199",
     "status": "completed"
    },
    "tags": []
   },
   "outputs": [],
   "source": [
    "# Train the model\n",
    "device = torch.device('cuda') if torch.cuda.is_available() else torch.device('cpu')\n",
    "\n",
    "model.to(device)\n",
    "\n",
    "# Hyperparameters\n",
    "learning_rate = 0.00001\n",
    "weight_decay = 0.01\n",
    "num_epochs = 25\n",
    "\n",
    "params = [p for p in model.parameters() if p.requires_grad]\n",
    "\n",
    "optimizer = Adam(params, lr=learning_rate, weight_decay=weight_decay)\n",
    "lr_scheduler = CosineAnnealingLR(optimizer, T_max=num_epochs, eta_min=0.00002)\n",
    "\n",
    "# checkpoint = torch.load(\"../input/model-18/model_18.bin\")\n",
    "# model.load_state_dict(checkpoint['model_state_dict'])\n",
    "# optimizer.load_state_dict(checkpoint['optimizer_state_dict'])\n",
    "# last_epoch = checkpoint['epoch']\n",
    "model.train()\n",
    "# print('Epoch = ', last_epoch)\n",
    "# Create a folder for saving the model weights\n",
    "%mkdir model\n",
    "%mkdir stats\n",
    "\n",
    "train_meters = []\n",
    "coco_evals = []\n",
    "t_start = time.time()\n",
    "\n",
    "for epoch in range(num_epochs):\n",
    "    # Train over the epoch\n",
    "    logger = train_one_epoch(model, optimizer, data_loader_train, device, epoch, print_freq=100)\n",
    "    train_meters.append(logger.meters)\n",
    "    \n",
    "    # Evaluate on the validation set\n",
    "    coco_eval = evaluate(model, data_loader_val, device)\n",
    "    coco_evals.append(coco_eval.coco_eval)\n",
    "    \n",
    "    # Update the learning rate\n",
    "    lr_scheduler.step()\n",
    "    \n",
    "    # Save the model weights at every epoch\n",
    "    torch.save({\n",
    "        'epoch': epoch,\n",
    "        'model_state_dict': model.state_dict(),\n",
    "        'optimizer_state_dict': optimizer.state_dict()\n",
    "        }, f\"model/model_{epoch}.bin\")\n",
    "    \n",
    "    # Save the stats at every epoch from epoch 10\n",
    "    if epoch > 10:\n",
    "        pickle.dump(train_meters, open(f\"stats/train_stats_{epoch}.pkl\", 'wb'))\n",
    "        pickle.dump(coco_evals, open(f\"stats/val_stats_{epoch}.pkl\", 'wb'))\n",
    "\n",
    "print('TRAINING AND VALIDATION DONE')\n",
    "t_end = time.time()\n",
    "print(f\"Training took {t_end - t_start}\")\n",
    "\n",
    "t_start = time.time()\n",
    "# Validation statistics for every class at the end\n",
    "coco_evals_class = []\n",
    "for class_id in range(0, 15):\n",
    "    class_val_dataset = VinBigDataset(val_img_dir, df_val, create_transforms(train=False), class_id=class_id)\n",
    "\n",
    "    data_loader_class_val = DataLoader(class_val_dataset, batch_size=5, shuffle=False, num_workers=4, collate_fn=utils.collate_fn)\n",
    "    \n",
    "    if len(class_val_dataset) == 0:\n",
    "        continue\n",
    "        \n",
    "    coco_eval_class = evaluate(model, data_loader_class_val, device)\n",
    "    coco_evals_class.append(coco_eval_class.coco_eval)\n",
    "\n",
    "t_end = time.time()\n",
    "print(f\"Validation for every class took {t_end - t_start}\")\n",
    "\n",
    "# Save the model weights\n",
    "torch.save({\n",
    "            'epoch': epoch,\n",
    "            'model_state_dict': model.state_dict(),\n",
    "            'optimizer_state_dict': optimizer.state_dict()\n",
    "            }, f\"model/model.bin\")\n",
    "\n",
    "# Save the stats\n",
    "pickle.dump(train_meters, open(f\"stats/train_stats.pkl\", 'wb'))\n",
    "pickle.dump(coco_evals, open(f\"stats/val_stats.pkl\", 'wb'))\n",
    "pickle.dump(coco_evals_class, open(f\"stats/val_stats_classes.pkl\", 'wb'))"
   ]
  },
  {
   "cell_type": "code",
   "execution_count": null,
   "metadata": {
    "execution": {
     "iopub.execute_input": "2021-03-27T01:07:25.871929Z",
     "iopub.status.busy": "2021-03-27T01:07:25.834687Z",
     "iopub.status.idle": "2021-03-27T01:10:21.765243Z",
     "shell.execute_reply": "2021-03-27T01:10:21.765773Z"
    },
    "papermill": {
     "duration": 176.053545,
     "end_time": "2021-03-27T01:10:21.765950",
     "exception": false,
     "start_time": "2021-03-27T01:07:25.712405",
     "status": "completed"
    },
    "tags": []
   },
   "outputs": [],
   "source": [
    "%%bash \n",
    "zip -r -q stats.zip stats/*.*"
   ]
  },
  {
   "cell_type": "markdown",
   "metadata": {
    "papermill": {
     "duration": 0.12144,
     "end_time": "2021-03-27T01:10:22.010946",
     "exception": false,
     "start_time": "2021-03-27T01:10:21.889506",
     "status": "completed"
    },
    "tags": []
   },
   "source": [
    "# Plot statistics"
   ]
  },
  {
   "cell_type": "code",
   "execution_count": null,
   "metadata": {
    "execution": {
     "iopub.execute_input": "2021-03-27T01:10:22.264458Z",
     "iopub.status.busy": "2021-03-27T01:10:22.262714Z",
     "iopub.status.idle": "2021-03-27T01:10:22.266752Z",
     "shell.execute_reply": "2021-03-27T01:10:22.267248Z"
    },
    "papermill": {
     "duration": 0.13297,
     "end_time": "2021-03-27T01:10:22.267386",
     "exception": false,
     "start_time": "2021-03-27T01:10:22.134416",
     "status": "completed"
    },
    "tags": []
   },
   "outputs": [],
   "source": [
    "# Functions for getting and plotting training stats\n",
    "\n",
    "def get_train_stats(name, stats):\n",
    "    return [s[name].value for s in stats]\n",
    "\n",
    "def plot_train_stats(train_stats, name):\n",
    "    loss = get_train_stats('loss', train_stats)\n",
    "    loss_classifier = get_train_stats('loss_classifier', train_stats)\n",
    "    loss_box_reg = get_train_stats('loss_box_reg', train_stats)\n",
    "    loss_objectness = get_train_stats('loss_objectness', train_stats)\n",
    "    loss_rpn_box_reg = get_train_stats('loss_rpn_box_reg', train_stats)\n",
    "    # Plot the training stats\n",
    "    fig = plt.figure(figsize=(12,8))\n",
    "    plt.plot(loss, label='loss')\n",
    "    plt.plot(loss_classifier, label='loss_classifier')\n",
    "    plt.plot(loss_box_reg, label='loss_box_reg')\n",
    "    plt.plot(loss_objectness, label='loss_objectness')\n",
    "    plt.plot(loss_rpn_box_reg, label='loss_rpn_box_reg')\n",
    "    plt.legend()\n",
    "    plt.xticks(range(0, len(loss), 5))\n",
    "    plt.xlabel('Epoch')\n",
    "    plt.title(f'Training stats {name}')"
   ]
  },
  {
   "cell_type": "code",
   "execution_count": null,
   "metadata": {
    "execution": {
     "iopub.execute_input": "2021-03-27T01:10:22.513226Z",
     "iopub.status.busy": "2021-03-27T01:10:22.512536Z",
     "iopub.status.idle": "2021-03-27T01:10:22.515366Z",
     "shell.execute_reply": "2021-03-27T01:10:22.515807Z"
    },
    "papermill": {
     "duration": 0.129108,
     "end_time": "2021-03-27T01:10:22.515937",
     "exception": false,
     "start_time": "2021-03-27T01:10:22.386829",
     "status": "completed"
    },
    "tags": []
   },
   "outputs": [],
   "source": [
    "# Functions for getting and plotting validation stats\n",
    "\n",
    "def get_val_stats(idx, stats):\n",
    "    return [s['bbox'].stats[idx] for s in stats]\n",
    "\n",
    "def plot_val_stats(val_stats, name):\n",
    "    ap_50_95 = get_val_stats(0, val_stats)\n",
    "    ap_50 = get_val_stats(1, val_stats)\n",
    "    ap_75 = get_val_stats(2, val_stats)\n",
    "    ar_all_md100 = get_val_stats(8, val_stats)\n",
    "\n",
    "     # Plot the validation stats\n",
    "    fig = plt.figure(figsize=(12,8))\n",
    "    plt.plot(ap_50_95, label='AP .50:.95')\n",
    "    plt.plot(ap_50, label='AP .50')\n",
    "    plt.plot(ap_75, label='AP .75')\n",
    "    plt.plot(ar_all_md100, label='AR All Max Dets 100')\n",
    "    plt.legend()\n",
    "    plt.xticks(range(0, len(ap_50), 5))\n",
    "    plt.xlabel('Epoch')\n",
    "    plt.title(f'Validation stats {name}')"
   ]
  },
  {
   "cell_type": "code",
   "execution_count": null,
   "metadata": {
    "execution": {
     "iopub.execute_input": "2021-03-27T01:10:22.783272Z",
     "iopub.status.busy": "2021-03-27T01:10:22.782374Z",
     "iopub.status.idle": "2021-03-27T01:10:23.176963Z",
     "shell.execute_reply": "2021-03-27T01:10:23.176511Z"
    },
    "papermill": {
     "duration": 0.541867,
     "end_time": "2021-03-27T01:10:23.177085",
     "exception": false,
     "start_time": "2021-03-27T01:10:22.635218",
     "status": "completed"
    },
    "tags": []
   },
   "outputs": [],
   "source": [
    "# Plot the stats\n",
    "plot_train_stats(train_meters, 'baseline')\n",
    "plot_val_stats(coco_evals, 'baseline')"
   ]
  },
  {
   "cell_type": "code",
   "execution_count": null,
   "metadata": {
    "execution": {
     "iopub.execute_input": "2021-03-27T01:10:23.431830Z",
     "iopub.status.busy": "2021-03-27T01:10:23.431051Z",
     "iopub.status.idle": "2021-03-27T01:10:23.434172Z",
     "shell.execute_reply": "2021-03-27T01:10:23.433657Z"
    },
    "papermill": {
     "duration": 0.131647,
     "end_time": "2021-03-27T01:10:23.434312",
     "exception": false,
     "start_time": "2021-03-27T01:10:23.302665",
     "status": "completed"
    },
    "tags": []
   },
   "outputs": [],
   "source": [
    "# for i in range(15):\n",
    "#     plot_val_stats(coco_evals_class[i], f'baseline class {i}')"
   ]
  },
  {
   "cell_type": "code",
   "execution_count": null,
   "metadata": {
    "execution": {
     "iopub.execute_input": "2021-03-27T01:10:23.685503Z",
     "iopub.status.busy": "2021-03-27T01:10:23.684687Z",
     "iopub.status.idle": "2021-03-27T01:10:23.687507Z",
     "shell.execute_reply": "2021-03-27T01:10:23.686974Z"
    },
    "papermill": {
     "duration": 0.12998,
     "end_time": "2021-03-27T01:10:23.687626",
     "exception": false,
     "start_time": "2021-03-27T01:10:23.557646",
     "status": "completed"
    },
    "tags": []
   },
   "outputs": [],
   "source": [
    "# model.eval()\n",
    "# for images, targets in metric_logger.log_every(data_loader_train, 10, header):\n",
    "#     images = list(image.to(device) for image in images)\n",
    "#     targets = [{k: v.to(device) for k, v in t.items()} for t in targets]\n",
    "#     outs = model(images)\n",
    "#     break\n",
    "# print(outs)\n",
    "# print(targets)"
   ]
  },
  {
   "cell_type": "markdown",
   "metadata": {
    "papermill": {
     "duration": 0.12293,
     "end_time": "2021-03-27T01:10:23.936066",
     "exception": false,
     "start_time": "2021-03-27T01:10:23.813136",
     "status": "completed"
    },
    "tags": []
   },
   "source": [
    "# Draw prediction"
   ]
  },
  {
   "cell_type": "code",
   "execution_count": null,
   "metadata": {
    "execution": {
     "iopub.execute_input": "2021-03-27T01:10:24.189302Z",
     "iopub.status.busy": "2021-03-27T01:10:24.188573Z",
     "iopub.status.idle": "2021-03-27T01:10:24.191654Z",
     "shell.execute_reply": "2021-03-27T01:10:24.191137Z"
    },
    "papermill": {
     "duration": 0.131288,
     "end_time": "2021-03-27T01:10:24.191765",
     "exception": false,
     "start_time": "2021-03-27T01:10:24.060477",
     "status": "completed"
    },
    "tags": []
   },
   "outputs": [],
   "source": [
    "# Train the model\n",
    "# device = torch.device('cuda') if torch.cuda.is_available() else torch.device('cpu')\n",
    "\n",
    "# model.to(device)\n",
    "\n",
    "# Hyperparameters\n",
    "# learning_rate = 0.0001\n",
    "# weight_decay = 0\n",
    "# num_epochs = 25\n",
    "# params = [p for p in model.parameters() if p.requires_grad]\n",
    "# optimizer = Adam(params, lr=learning_rate, weight_decay=weight_decay)\n",
    "# lr_scheduler = CosineAnnealingLR(optimizer, T_max=num_epochs, eta_min=0.00002)\n",
    "\n",
    "# checkpoint = torch.load(\"../input/model24/model_24.bin\")\n",
    "# model.load_state_dict(checkpoint['model_state_dict'])\n",
    "# optimizer.load_state_dict(checkpoint['optimizer_state_dict'])\n",
    "# last_epoch = checkpoint['epoch']\n",
    "# model.eval()\n",
    "# if torch.cuda.is_available():\n",
    "#     model.cuda()"
   ]
  },
  {
   "cell_type": "code",
   "execution_count": null,
   "metadata": {
    "execution": {
     "iopub.execute_input": "2021-03-27T01:10:24.453243Z",
     "iopub.status.busy": "2021-03-27T01:10:24.452449Z",
     "iopub.status.idle": "2021-03-27T01:11:19.826472Z",
     "shell.execute_reply": "2021-03-27T01:11:19.826958Z"
    },
    "papermill": {
     "duration": 55.512473,
     "end_time": "2021-03-27T01:11:19.827126",
     "exception": false,
     "start_time": "2021-03-27T01:10:24.314653",
     "status": "completed"
    },
    "tags": []
   },
   "outputs": [],
   "source": [
    "loaded_model = create_model()\n",
    "checkpoint = torch.load(\"model/model.bin\")\n",
    "loaded_model.load_state_dict(checkpoint['model_state_dict'])\n",
    "\n",
    "%mkdir image_predictions\n",
    "\n",
    "# for idx in range(10):\n",
    "idx = 3\n",
    "img, _ = val_dataset[idx]\n",
    "label_boxes = np.array(val_dataset[idx][1][\"boxes\"])\n",
    "#put the model in evaluation mode\n",
    "loaded_model.eval()\n",
    "with torch.no_grad():\n",
    "    prediction = loaded_model([img])\n",
    "image = Image.fromarray(img.mul(255).permute(1, 2, 0).byte().numpy())\n",
    "draw = ImageDraw.Draw(image)\n",
    "\n",
    "# draw groundtruth\n",
    "for elem in range(len(label_boxes)):\n",
    "    draw.rectangle([(label_boxes[elem][0], label_boxes[elem][1]), (label_boxes[elem][2], label_boxes[elem][3])], outline =\"green\", width=3)\n",
    "\n",
    "for element in range(len(prediction[0][\"boxes\"])):\n",
    "    boxes = prediction[0][\"boxes\"][element].cpu().numpy()\n",
    "    score = np.round(prediction[0][\"scores\"][element].cpu().numpy(), decimals= 4)\n",
    "    if score > 0.4:\n",
    "        draw.rectangle([(boxes[0], boxes[1]), (boxes[2], boxes[3])], outline =\"red\", width =3)\n",
    "        draw.text((boxes[0], boxes[1]), text = str(score))\n",
    "\n",
    "image_name = df_val.at[idx, 'image_id']\n",
    "# image.save(f\"image_predictions/{image_name}.jpg\")\n",
    "image"
   ]
  },
  {
   "cell_type": "code",
   "execution_count": null,
   "metadata": {
    "execution": {
     "iopub.execute_input": "2021-03-27T01:11:20.113365Z",
     "iopub.status.busy": "2021-03-27T01:11:20.112452Z",
     "iopub.status.idle": "2021-03-27T01:12:12.514931Z",
     "shell.execute_reply": "2021-03-27T01:12:12.515446Z"
    },
    "papermill": {
     "duration": 52.553946,
     "end_time": "2021-03-27T01:12:12.515614",
     "exception": false,
     "start_time": "2021-03-27T01:11:19.961668",
     "status": "completed"
    },
    "tags": []
   },
   "outputs": [],
   "source": [
    "loaded_model = create_model()\n",
    "checkpoint = torch.load(\"model/model.bin\")\n",
    "loaded_model.load_state_dict(checkpoint['model_state_dict'])\n",
    "\n",
    "%mkdir image_predictions\n",
    "\n",
    "# for idx in range(10):\n",
    "idx = 5\n",
    "img, _ = val_dataset[idx]\n",
    "label_boxes = np.array(val_dataset[idx][1][\"boxes\"])\n",
    "#put the model in evaluation mode\n",
    "loaded_model.eval()\n",
    "with torch.no_grad():\n",
    "    prediction = loaded_model([img])\n",
    "image = Image.fromarray(img.mul(255).permute(1, 2, 0).byte().numpy())\n",
    "draw = ImageDraw.Draw(image)\n",
    "\n",
    "# draw groundtruth\n",
    "for elem in range(len(label_boxes)):\n",
    "    draw.rectangle([(label_boxes[elem][0], label_boxes[elem][1]), (label_boxes[elem][2], label_boxes[elem][3])], outline =\"green\", width=3)\n",
    "\n",
    "for element in range(len(prediction[0][\"boxes\"])):\n",
    "    boxes = prediction[0][\"boxes\"][element].cpu().numpy()\n",
    "    score = np.round(prediction[0][\"scores\"][element].cpu().numpy(), decimals= 4)\n",
    "    if score > 0.4:\n",
    "        draw.rectangle([(boxes[0], boxes[1]), (boxes[2], boxes[3])], outline =\"red\", width =3)\n",
    "        draw.text((boxes[0], boxes[1]), text = str(score))\n",
    "\n",
    "image_name = df_val.at[idx, 'image_id']\n",
    "# image.save(f\"image_predictions/{image_name}.jpg\")\n",
    "image"
   ]
  }
 ],
 "metadata": {
  "kernelspec": {
   "display_name": "Python 3",
   "language": "python",
   "name": "python3"
  },
  "language_info": {
   "codemirror_mode": {
    "name": "ipython",
    "version": 3
   },
   "file_extension": ".py",
   "mimetype": "text/x-python",
   "name": "python",
   "nbconvert_exporter": "python",
   "pygments_lexer": "ipython3",
   "version": "3.8.5"
  },
  "papermill": {
   "default_parameters": {},
   "duration": 12977.906061,
   "end_time": "2021-03-27T01:12:17.150143",
   "environment_variables": {},
   "exception": null,
   "input_path": "__notebook__.ipynb",
   "output_path": "__notebook__.ipynb",
   "parameters": {},
   "start_time": "2021-03-26T21:35:59.244082",
   "version": "2.2.2"
  },
  "widgets": {
   "application/vnd.jupyter.widget-state+json": {
    "state": {
     "2be9ab6ca35942ffacb702f373e5909c": {
      "model_module": "@jupyter-widgets/controls",
      "model_module_version": "1.5.0",
      "model_name": "FloatProgressModel",
      "state": {
       "_dom_classes": [],
       "_model_module": "@jupyter-widgets/controls",
       "_model_module_version": "1.5.0",
       "_model_name": "FloatProgressModel",
       "_view_count": null,
       "_view_module": "@jupyter-widgets/controls",
       "_view_module_version": "1.5.0",
       "_view_name": "ProgressView",
       "bar_style": "success",
       "description": "",
       "description_tooltip": null,
       "layout": "IPY_MODEL_ea5debfc9c6e43d9a4f34a29fa962bdb",
       "max": 167502836,
       "min": 0,
       "orientation": "horizontal",
       "style": "IPY_MODEL_b5881679495d4299be8e5f08879cd165",
       "value": 167502836
      }
     },
     "3742f1c71b0c4723b873484bc5aaad46": {
      "model_module": "@jupyter-widgets/controls",
      "model_module_version": "1.5.0",
      "model_name": "HBoxModel",
      "state": {
       "_dom_classes": [],
       "_model_module": "@jupyter-widgets/controls",
       "_model_module_version": "1.5.0",
       "_model_name": "HBoxModel",
       "_view_count": null,
       "_view_module": "@jupyter-widgets/controls",
       "_view_module_version": "1.5.0",
       "_view_name": "HBoxView",
       "box_style": "",
       "children": [
        "IPY_MODEL_78275ff012ba4cd1b53118748aa5357f",
        "IPY_MODEL_2be9ab6ca35942ffacb702f373e5909c",
        "IPY_MODEL_ded09db30a474ba8a6fb90f9041cc87c"
       ],
       "layout": "IPY_MODEL_42df1b3bf1954c88a50e74f459bec98f"
      }
     },
     "42df1b3bf1954c88a50e74f459bec98f": {
      "model_module": "@jupyter-widgets/base",
      "model_module_version": "1.2.0",
      "model_name": "LayoutModel",
      "state": {
       "_model_module": "@jupyter-widgets/base",
       "_model_module_version": "1.2.0",
       "_model_name": "LayoutModel",
       "_view_count": null,
       "_view_module": "@jupyter-widgets/base",
       "_view_module_version": "1.2.0",
       "_view_name": "LayoutView",
       "align_content": null,
       "align_items": null,
       "align_self": null,
       "border": null,
       "bottom": null,
       "display": null,
       "flex": null,
       "flex_flow": null,
       "grid_area": null,
       "grid_auto_columns": null,
       "grid_auto_flow": null,
       "grid_auto_rows": null,
       "grid_column": null,
       "grid_gap": null,
       "grid_row": null,
       "grid_template_areas": null,
       "grid_template_columns": null,
       "grid_template_rows": null,
       "height": null,
       "justify_content": null,
       "justify_items": null,
       "left": null,
       "margin": null,
       "max_height": null,
       "max_width": null,
       "min_height": null,
       "min_width": null,
       "object_fit": null,
       "object_position": null,
       "order": null,
       "overflow": null,
       "overflow_x": null,
       "overflow_y": null,
       "padding": null,
       "right": null,
       "top": null,
       "visibility": null,
       "width": null
      }
     },
     "621e74558c5742ef9990325a7b60d0d9": {
      "model_module": "@jupyter-widgets/base",
      "model_module_version": "1.2.0",
      "model_name": "LayoutModel",
      "state": {
       "_model_module": "@jupyter-widgets/base",
       "_model_module_version": "1.2.0",
       "_model_name": "LayoutModel",
       "_view_count": null,
       "_view_module": "@jupyter-widgets/base",
       "_view_module_version": "1.2.0",
       "_view_name": "LayoutView",
       "align_content": null,
       "align_items": null,
       "align_self": null,
       "border": null,
       "bottom": null,
       "display": null,
       "flex": null,
       "flex_flow": null,
       "grid_area": null,
       "grid_auto_columns": null,
       "grid_auto_flow": null,
       "grid_auto_rows": null,
       "grid_column": null,
       "grid_gap": null,
       "grid_row": null,
       "grid_template_areas": null,
       "grid_template_columns": null,
       "grid_template_rows": null,
       "height": null,
       "justify_content": null,
       "justify_items": null,
       "left": null,
       "margin": null,
       "max_height": null,
       "max_width": null,
       "min_height": null,
       "min_width": null,
       "object_fit": null,
       "object_position": null,
       "order": null,
       "overflow": null,
       "overflow_x": null,
       "overflow_y": null,
       "padding": null,
       "right": null,
       "top": null,
       "visibility": null,
       "width": null
      }
     },
     "78275ff012ba4cd1b53118748aa5357f": {
      "model_module": "@jupyter-widgets/controls",
      "model_module_version": "1.5.0",
      "model_name": "HTMLModel",
      "state": {
       "_dom_classes": [],
       "_model_module": "@jupyter-widgets/controls",
       "_model_module_version": "1.5.0",
       "_model_name": "HTMLModel",
       "_view_count": null,
       "_view_module": "@jupyter-widgets/controls",
       "_view_module_version": "1.5.0",
       "_view_name": "HTMLView",
       "description": "",
       "description_tooltip": null,
       "layout": "IPY_MODEL_621e74558c5742ef9990325a7b60d0d9",
       "placeholder": "​",
       "style": "IPY_MODEL_bdb556029d9440d2935a05a02ca99858",
       "value": "100%"
      }
     },
     "8e20ab61c09a44c3bad26d5f86ad8f66": {
      "model_module": "@jupyter-widgets/base",
      "model_module_version": "1.2.0",
      "model_name": "LayoutModel",
      "state": {
       "_model_module": "@jupyter-widgets/base",
       "_model_module_version": "1.2.0",
       "_model_name": "LayoutModel",
       "_view_count": null,
       "_view_module": "@jupyter-widgets/base",
       "_view_module_version": "1.2.0",
       "_view_name": "LayoutView",
       "align_content": null,
       "align_items": null,
       "align_self": null,
       "border": null,
       "bottom": null,
       "display": null,
       "flex": null,
       "flex_flow": null,
       "grid_area": null,
       "grid_auto_columns": null,
       "grid_auto_flow": null,
       "grid_auto_rows": null,
       "grid_column": null,
       "grid_gap": null,
       "grid_row": null,
       "grid_template_areas": null,
       "grid_template_columns": null,
       "grid_template_rows": null,
       "height": null,
       "justify_content": null,
       "justify_items": null,
       "left": null,
       "margin": null,
       "max_height": null,
       "max_width": null,
       "min_height": null,
       "min_width": null,
       "object_fit": null,
       "object_position": null,
       "order": null,
       "overflow": null,
       "overflow_x": null,
       "overflow_y": null,
       "padding": null,
       "right": null,
       "top": null,
       "visibility": null,
       "width": null
      }
     },
     "b5881679495d4299be8e5f08879cd165": {
      "model_module": "@jupyter-widgets/controls",
      "model_module_version": "1.5.0",
      "model_name": "ProgressStyleModel",
      "state": {
       "_model_module": "@jupyter-widgets/controls",
       "_model_module_version": "1.5.0",
       "_model_name": "ProgressStyleModel",
       "_view_count": null,
       "_view_module": "@jupyter-widgets/base",
       "_view_module_version": "1.2.0",
       "_view_name": "StyleView",
       "bar_color": null,
       "description_width": ""
      }
     },
     "bdb556029d9440d2935a05a02ca99858": {
      "model_module": "@jupyter-widgets/controls",
      "model_module_version": "1.5.0",
      "model_name": "DescriptionStyleModel",
      "state": {
       "_model_module": "@jupyter-widgets/controls",
       "_model_module_version": "1.5.0",
       "_model_name": "DescriptionStyleModel",
       "_view_count": null,
       "_view_module": "@jupyter-widgets/base",
       "_view_module_version": "1.2.0",
       "_view_name": "StyleView",
       "description_width": ""
      }
     },
     "ded09db30a474ba8a6fb90f9041cc87c": {
      "model_module": "@jupyter-widgets/controls",
      "model_module_version": "1.5.0",
      "model_name": "HTMLModel",
      "state": {
       "_dom_classes": [],
       "_model_module": "@jupyter-widgets/controls",
       "_model_module_version": "1.5.0",
       "_model_name": "HTMLModel",
       "_view_count": null,
       "_view_module": "@jupyter-widgets/controls",
       "_view_module_version": "1.5.0",
       "_view_name": "HTMLView",
       "description": "",
       "description_tooltip": null,
       "layout": "IPY_MODEL_8e20ab61c09a44c3bad26d5f86ad8f66",
       "placeholder": "​",
       "style": "IPY_MODEL_e6526b8a94424bccaf61fcc29a038a7e",
       "value": " 160M/160M [00:02&lt;00:00, 72.5MB/s]"
      }
     },
     "e6526b8a94424bccaf61fcc29a038a7e": {
      "model_module": "@jupyter-widgets/controls",
      "model_module_version": "1.5.0",
      "model_name": "DescriptionStyleModel",
      "state": {
       "_model_module": "@jupyter-widgets/controls",
       "_model_module_version": "1.5.0",
       "_model_name": "DescriptionStyleModel",
       "_view_count": null,
       "_view_module": "@jupyter-widgets/base",
       "_view_module_version": "1.2.0",
       "_view_name": "StyleView",
       "description_width": ""
      }
     },
     "ea5debfc9c6e43d9a4f34a29fa962bdb": {
      "model_module": "@jupyter-widgets/base",
      "model_module_version": "1.2.0",
      "model_name": "LayoutModel",
      "state": {
       "_model_module": "@jupyter-widgets/base",
       "_model_module_version": "1.2.0",
       "_model_name": "LayoutModel",
       "_view_count": null,
       "_view_module": "@jupyter-widgets/base",
       "_view_module_version": "1.2.0",
       "_view_name": "LayoutView",
       "align_content": null,
       "align_items": null,
       "align_self": null,
       "border": null,
       "bottom": null,
       "display": null,
       "flex": null,
       "flex_flow": null,
       "grid_area": null,
       "grid_auto_columns": null,
       "grid_auto_flow": null,
       "grid_auto_rows": null,
       "grid_column": null,
       "grid_gap": null,
       "grid_row": null,
       "grid_template_areas": null,
       "grid_template_columns": null,
       "grid_template_rows": null,
       "height": null,
       "justify_content": null,
       "justify_items": null,
       "left": null,
       "margin": null,
       "max_height": null,
       "max_width": null,
       "min_height": null,
       "min_width": null,
       "object_fit": null,
       "object_position": null,
       "order": null,
       "overflow": null,
       "overflow_x": null,
       "overflow_y": null,
       "padding": null,
       "right": null,
       "top": null,
       "visibility": null,
       "width": null
      }
     }
    },
    "version_major": 2,
    "version_minor": 0
   }
  }
 },
 "nbformat": 4,
 "nbformat_minor": 4
}
