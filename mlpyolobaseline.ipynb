{
 "cells": [
  {
   "cell_type": "code",
   "execution_count": 1,
   "id": "seven-candy",
   "metadata": {
    "_cell_guid": "1d41557c-d636-44dd-bb13-261f3c4847c1",
    "_uuid": "e5933feb-9190-4db5-8085-48454336dc7c",
    "execution": {
     "iopub.execute_input": "2021-03-28T04:19:06.436888Z",
     "iopub.status.busy": "2021-03-28T04:19:06.436294Z",
     "iopub.status.idle": "2021-03-28T04:19:06.442826Z",
     "shell.execute_reply": "2021-03-28T04:19:06.442250Z"
    },
    "papermill": {
     "duration": 0.019488,
     "end_time": "2021-03-28T04:19:06.442942",
     "exception": false,
     "start_time": "2021-03-28T04:19:06.423454",
     "status": "completed"
    },
    "tags": []
   },
   "outputs": [],
   "source": [
    "import numpy as np\n",
    "import os\n",
    "from tqdm.auto import tqdm\n",
    "# from pathos.multiprocessing import ProcessingPool as Pool\n",
    "# from functools import partial\n",
    "import pandas as pd\n",
    "from PIL import Image"
   ]
  },
  {
   "cell_type": "code",
   "execution_count": 2,
   "id": "tracked-square",
   "metadata": {
    "_cell_guid": "27ba5f38-857c-4e1a-9096-cf4b8c20013f",
    "_uuid": "e3ad0602-2295-4dea-9fba-0131fbe6d53f",
    "execution": {
     "iopub.execute_input": "2021-03-28T04:19:06.469942Z",
     "iopub.status.busy": "2021-03-28T04:19:06.461307Z",
     "iopub.status.idle": "2021-03-28T04:19:09.130352Z",
     "shell.execute_reply": "2021-03-28T04:19:09.129846Z"
    },
    "papermill": {
     "duration": 2.680265,
     "end_time": "2021-03-28T04:19:09.130486",
     "exception": false,
     "start_time": "2021-03-28T04:19:06.450221",
     "status": "completed"
    },
    "tags": []
   },
   "outputs": [
    {
     "name": "stdout",
     "output_type": "stream",
     "text": [
      "Cloning into 'ScaledYOLOv4'...\r\n",
      "remote: Enumerating objects: 42, done.\u001b[K\r\n",
      "remote: Counting objects: 100% (42/42), done.\u001b[K\r\n",
      "remote: Compressing objects: 100% (29/29), done.\u001b[K\r\n",
      "remote: Total 170 (delta 28), reused 27 (delta 13), pack-reused 128\u001b[K\r\n",
      "Receiving objects: 100% (170/170), 366.26 KiB | 1.40 MiB/s, done.\r\n",
      "Resolving deltas: 100% (80/80), done.\r\n",
      "/kaggle/working/ScaledYOLOv4\n",
      "Branch 'yolov4-large' set up to track remote branch 'yolov4-large' from 'origin'.\r\n",
      "Switched to a new branch 'yolov4-large'\r\n"
     ]
    }
   ],
   "source": [
    "# clone Scaled_YOLOv4\n",
    "!git clone https://github.com/tom-auger/ScaledYOLOv4.git\n",
    "%cd ScaledYOLOv4/\n",
    "#checkout the yolov4-large branch\n",
    "!git checkout yolov4-large"
   ]
  },
  {
   "cell_type": "code",
   "execution_count": 3,
   "id": "relative-integrity",
   "metadata": {
    "_cell_guid": "c185301e-5687-4d69-9cb2-a62304c313fe",
    "_uuid": "6956317c-efb7-43ae-bd98-98eae8eec4f7",
    "execution": {
     "iopub.execute_input": "2021-03-28T04:19:09.154583Z",
     "iopub.status.busy": "2021-03-28T04:19:09.153728Z",
     "iopub.status.idle": "2021-03-28T04:19:09.156629Z",
     "shell.execute_reply": "2021-03-28T04:19:09.155850Z"
    },
    "papermill": {
     "duration": 0.015866,
     "end_time": "2021-03-28T04:19:09.156744",
     "exception": false,
     "start_time": "2021-03-28T04:19:09.140878",
     "status": "completed"
    },
    "tags": []
   },
   "outputs": [],
   "source": [
    "# df_train = pd.read_csv('/kaggle/input/vinbigstratifiedyolo/train_orig.csv')\n",
    "# df_val = pd.read_csv('/kaggle/input/vinbigstratifiedyolo/validation_orig.csv')\n",
    "# df_test = pd.read_csv('/kaggle/input/vinbigstratifiedyolo/test_orig.csv')"
   ]
  },
  {
   "cell_type": "code",
   "execution_count": 4,
   "id": "incredible-details",
   "metadata": {
    "_cell_guid": "07357960-968e-40e2-8a0c-82338d585b81",
    "_uuid": "4690de71-6b9a-4832-88f1-65b0d0474999",
    "execution": {
     "iopub.execute_input": "2021-03-28T04:19:09.179747Z",
     "iopub.status.busy": "2021-03-28T04:19:09.179245Z",
     "iopub.status.idle": "2021-03-28T04:19:10.853821Z",
     "shell.execute_reply": "2021-03-28T04:19:10.854515Z"
    },
    "papermill": {
     "duration": 1.688661,
     "end_time": "2021-03-28T04:19:10.854673",
     "exception": false,
     "start_time": "2021-03-28T04:19:09.166012",
     "status": "completed"
    },
    "tags": []
   },
   "outputs": [
    {
     "name": "stdout",
     "output_type": "stream",
     "text": [
      "Using torch 1.7.0 _CudaDeviceProperties(name='Tesla P100-PCIE-16GB', major=6, minor=0, total_memory=16280MB, multi_processor_count=56)\n"
     ]
    }
   ],
   "source": [
    "import torch\n",
    "print('Using torch %s %s' % (torch.__version__, torch.cuda.get_device_properties(0) if torch.cuda.is_available() else 'CPU'))"
   ]
  },
  {
   "cell_type": "code",
   "execution_count": 5,
   "id": "metropolitan-synthesis",
   "metadata": {
    "_cell_guid": "24135b16-0fb0-4234-b6a0-c9da761ebad6",
    "_uuid": "e0caf1b1-0a1d-45bc-b6f4-e2c2c8bc954c",
    "execution": {
     "iopub.execute_input": "2021-03-28T04:19:10.883309Z",
     "iopub.status.busy": "2021-03-28T04:19:10.882594Z",
     "iopub.status.idle": "2021-03-28T04:19:57.776950Z",
     "shell.execute_reply": "2021-03-28T04:19:57.778190Z"
    },
    "papermill": {
     "duration": 46.913736,
     "end_time": "2021-03-28T04:19:57.778404",
     "exception": false,
     "start_time": "2021-03-28T04:19:10.864668",
     "status": "completed"
    },
    "tags": []
   },
   "outputs": [
    {
     "name": "stdout",
     "output_type": "stream",
     "text": [
      "/kaggle/working\n",
      "Cloning into 'mish-cuda'...\r\n",
      "remote: Enumerating objects: 88, done.\u001b[K\r\n",
      "remote: Counting objects: 100% (88/88), done.\u001b[K\r\n",
      "remote: Compressing objects: 100% (75/75), done.\u001b[K\r\n",
      "remote: Total 195 (delta 7), reused 79 (delta 3), pack-reused 107\u001b[K\r\n",
      "Receiving objects: 100% (195/195), 208.77 KiB | 841.00 KiB/s, done.\r\n",
      "Resolving deltas: 100% (56/56), done.\r\n",
      "/kaggle/working/mish-cuda\n",
      "/opt/conda/lib/python3.7/distutils/extension.py:131: UserWarning: Unknown Extension options: 'headers'\r\n",
      "  warnings.warn(msg)\r\n",
      "running build\r\n",
      "running build_py\r\n",
      "creating build\r\n",
      "creating build/lib.linux-x86_64-3.7\r\n",
      "creating build/lib.linux-x86_64-3.7/mish_cuda\r\n",
      "copying src/mish_cuda/__init__.py -> build/lib.linux-x86_64-3.7/mish_cuda\r\n",
      "running egg_info\r\n",
      "creating src/mish_cuda.egg-info\r\n",
      "writing src/mish_cuda.egg-info/PKG-INFO\r\n",
      "writing dependency_links to src/mish_cuda.egg-info/dependency_links.txt\r\n",
      "writing requirements to src/mish_cuda.egg-info/requires.txt\r\n",
      "writing top-level names to src/mish_cuda.egg-info/top_level.txt\r\n",
      "writing manifest file 'src/mish_cuda.egg-info/SOURCES.txt'\r\n",
      "writing manifest file 'src/mish_cuda.egg-info/SOURCES.txt'\r\n",
      "running build_ext\r\n",
      "building 'mish_cuda._C' extension\r\n",
      "creating /kaggle/working/mish-cuda/build/temp.linux-x86_64-3.7\r\n",
      "creating /kaggle/working/mish-cuda/build/temp.linux-x86_64-3.7/csrc\r\n",
      "creating /kaggle/working/mish-cuda/build/temp.linux-x86_64-3.7/csrc/cpu\r\n",
      "creating /kaggle/working/mish-cuda/build/temp.linux-x86_64-3.7/csrc/cuda\r\n",
      "Emitting ninja build file /kaggle/working/mish-cuda/build/temp.linux-x86_64-3.7/build.ninja...\r\n",
      "Compiling objects...\r\n",
      "Allowing ninja to set a default number of workers... (overridable by setting the environment variable MAX_JOBS=N)\r\n",
      "[1/3] c++ -MMD -MF /kaggle/working/mish-cuda/build/temp.linux-x86_64-3.7/csrc/cpu/mish_cpu.o.d -pthread -B /opt/conda/compiler_compat -Wl,--sysroot=/ -Wsign-compare -DNDEBUG -g -fwrapv -O3 -Wall -Wstrict-prototypes -fPIC -I/opt/conda/lib/python3.7/site-packages/torch/include -I/opt/conda/lib/python3.7/site-packages/torch/include/torch/csrc/api/include -I/opt/conda/lib/python3.7/site-packages/torch/include/TH -I/opt/conda/lib/python3.7/site-packages/torch/include/THC -I/usr/local/cuda/include -I/opt/conda/include/python3.7m -c -c /kaggle/working/mish-cuda/csrc/cpu/mish_cpu.cpp -o /kaggle/working/mish-cuda/build/temp.linux-x86_64-3.7/csrc/cpu/mish_cpu.o -DTORCH_API_INCLUDE_EXTENSION_H -DTORCH_EXTENSION_NAME=_C -D_GLIBCXX_USE_CXX11_ABI=0 -std=c++14\r\n",
      "cc1plus: warning: command line option ‘-Wstrict-prototypes’ is valid for C/ObjC but not for C++\r\n",
      "In file included from /opt/conda/lib/python3.7/site-packages/torch/include/ATen/Parallel.h:149:0,\r\n",
      "                 from /opt/conda/lib/python3.7/site-packages/torch/include/ATen/CPUApplyUtils.h:3,\r\n",
      "                 from /kaggle/working/mish-cuda/csrc/cpu/mish_cpu.cpp:3:\r\n",
      "/opt/conda/lib/python3.7/site-packages/torch/include/ATen/ParallelOpenMP.h:84:0: warning: ignoring #pragma omp parallel [-Wunknown-pragmas]\r\n",
      " #pragma omp parallel for if ((end - begin) >= grain_size)\r\n",
      " \r\n",
      "[2/3] c++ -MMD -MF /kaggle/working/mish-cuda/build/temp.linux-x86_64-3.7/csrc/cuda/mish_cuda.o.d -pthread -B /opt/conda/compiler_compat -Wl,--sysroot=/ -Wsign-compare -DNDEBUG -g -fwrapv -O3 -Wall -Wstrict-prototypes -fPIC -I/opt/conda/lib/python3.7/site-packages/torch/include -I/opt/conda/lib/python3.7/site-packages/torch/include/torch/csrc/api/include -I/opt/conda/lib/python3.7/site-packages/torch/include/TH -I/opt/conda/lib/python3.7/site-packages/torch/include/THC -I/usr/local/cuda/include -I/opt/conda/include/python3.7m -c -c /kaggle/working/mish-cuda/csrc/cuda/mish_cuda.cpp -o /kaggle/working/mish-cuda/build/temp.linux-x86_64-3.7/csrc/cuda/mish_cuda.o -DTORCH_API_INCLUDE_EXTENSION_H -DTORCH_EXTENSION_NAME=_C -D_GLIBCXX_USE_CXX11_ABI=0 -std=c++14\r\n",
      "cc1plus: warning: command line option ‘-Wstrict-prototypes’ is valid for C/ObjC but not for C++\r\n",
      "In file included from /opt/conda/lib/python3.7/site-packages/torch/include/ATen/Parallel.h:149:0,\r\n",
      "                 from /opt/conda/lib/python3.7/site-packages/torch/include/torch/csrc/api/include/torch/utils.h:3,\r\n",
      "                 from /opt/conda/lib/python3.7/site-packages/torch/include/torch/csrc/api/include/torch/nn/cloneable.h:5,\r\n",
      "                 from /opt/conda/lib/python3.7/site-packages/torch/include/torch/csrc/api/include/torch/nn.h:3,\r\n",
      "                 from /opt/conda/lib/python3.7/site-packages/torch/include/torch/csrc/api/include/torch/all.h:12,\r\n",
      "                 from /opt/conda/lib/python3.7/site-packages/torch/include/torch/extension.h:4,\r\n",
      "                 from /kaggle/working/mish-cuda/csrc/cuda/mish_cuda.cpp:2:\r\n",
      "/opt/conda/lib/python3.7/site-packages/torch/include/ATen/ParallelOpenMP.h:84:0: warning: ignoring #pragma omp parallel [-Wunknown-pragmas]\r\n",
      " #pragma omp parallel for if ((end - begin) >= grain_size)\r\n",
      " \r\n",
      "[3/3] /usr/local/cuda/bin/nvcc -I/opt/conda/lib/python3.7/site-packages/torch/include -I/opt/conda/lib/python3.7/site-packages/torch/include/torch/csrc/api/include -I/opt/conda/lib/python3.7/site-packages/torch/include/TH -I/opt/conda/lib/python3.7/site-packages/torch/include/THC -I/usr/local/cuda/include -I/opt/conda/include/python3.7m -c -c /kaggle/working/mish-cuda/csrc/cuda/mish_kernel.cu -o /kaggle/working/mish-cuda/build/temp.linux-x86_64-3.7/csrc/cuda/mish_kernel.o -D__CUDA_NO_HALF_OPERATORS__ -D__CUDA_NO_HALF_CONVERSIONS__ -D__CUDA_NO_HALF2_OPERATORS__ --expt-relaxed-constexpr --compiler-options ''\"'\"'-fPIC'\"'\"'' --expt-extended-lambda -DTORCH_API_INCLUDE_EXTENSION_H -DTORCH_EXTENSION_NAME=_C -D_GLIBCXX_USE_CXX11_ABI=0 -gencode=arch=compute_60,code=sm_60 -std=c++14\r\n",
      "/opt/conda/lib/python3.7/site-packages/torch/include/ATen/core/boxing/impl/boxing.h(100): warning: integer conversion resulted in a change of sign\r\n",
      "\r\n",
      "/opt/conda/lib/python3.7/site-packages/torch/include/ATen/core/op_registration/op_whitelist.h(39): warning: integer conversion resulted in a change of sign\r\n",
      "\r\n",
      "/opt/conda/lib/python3.7/site-packages/torch/include/ATen/core/boxing/impl/boxing.h(100): warning: integer conversion resulted in a change of sign\r\n",
      "\r\n",
      "/opt/conda/lib/python3.7/site-packages/torch/include/ATen/core/op_registration/op_whitelist.h(39): warning: integer conversion resulted in a change of sign\r\n",
      "\r\n",
      "g++ -pthread -shared -B /opt/conda/compiler_compat -L/opt/conda/lib -Wl,-rpath=/opt/conda/lib -Wl,--no-as-needed -Wl,--sysroot=/ /kaggle/working/mish-cuda/build/temp.linux-x86_64-3.7/csrc/cpu/mish_cpu.o /kaggle/working/mish-cuda/build/temp.linux-x86_64-3.7/csrc/cuda/mish_cuda.o /kaggle/working/mish-cuda/build/temp.linux-x86_64-3.7/csrc/cuda/mish_kernel.o -L/opt/conda/lib/python3.7/site-packages/torch/lib -L/usr/local/cuda/lib64 -lc10 -ltorch -ltorch_cpu -ltorch_python -lcudart -lc10_cuda -ltorch_cuda -o build/lib.linux-x86_64-3.7/mish_cuda/_C.cpython-37m-x86_64-linux-gnu.so\r\n",
      "running install\r\n",
      "running bdist_egg\r\n",
      "installing library code to build/bdist.linux-x86_64/egg\r\n",
      "running install_lib\r\n",
      "creating build/bdist.linux-x86_64\r\n",
      "creating build/bdist.linux-x86_64/egg\r\n",
      "creating build/bdist.linux-x86_64/egg/mish_cuda\r\n",
      "copying build/lib.linux-x86_64-3.7/mish_cuda/__init__.py -> build/bdist.linux-x86_64/egg/mish_cuda\r\n",
      "copying build/lib.linux-x86_64-3.7/mish_cuda/_C.cpython-37m-x86_64-linux-gnu.so -> build/bdist.linux-x86_64/egg/mish_cuda\r\n",
      "byte-compiling build/bdist.linux-x86_64/egg/mish_cuda/__init__.py to __init__.cpython-37.pyc\r\n",
      "creating stub loader for mish_cuda/_C.cpython-37m-x86_64-linux-gnu.so\r\n",
      "byte-compiling build/bdist.linux-x86_64/egg/mish_cuda/_C.py to _C.cpython-37.pyc\r\n",
      "creating build/bdist.linux-x86_64/egg/EGG-INFO\r\n",
      "copying src/mish_cuda.egg-info/PKG-INFO -> build/bdist.linux-x86_64/egg/EGG-INFO\r\n",
      "copying src/mish_cuda.egg-info/SOURCES.txt -> build/bdist.linux-x86_64/egg/EGG-INFO\r\n",
      "copying src/mish_cuda.egg-info/dependency_links.txt -> build/bdist.linux-x86_64/egg/EGG-INFO\r\n",
      "copying src/mish_cuda.egg-info/not-zip-safe -> build/bdist.linux-x86_64/egg/EGG-INFO\r\n",
      "copying src/mish_cuda.egg-info/requires.txt -> build/bdist.linux-x86_64/egg/EGG-INFO\r\n",
      "copying src/mish_cuda.egg-info/top_level.txt -> build/bdist.linux-x86_64/egg/EGG-INFO\r\n",
      "writing build/bdist.linux-x86_64/egg/EGG-INFO/native_libs.txt\r\n",
      "creating dist\r\n",
      "creating 'dist/mish_cuda-0.0.3-py3.7-linux-x86_64.egg' and adding 'build/bdist.linux-x86_64/egg' to it\r\n",
      "removing 'build/bdist.linux-x86_64/egg' (and everything under it)\r\n",
      "Processing mish_cuda-0.0.3-py3.7-linux-x86_64.egg\r\n",
      "creating /opt/conda/lib/python3.7/site-packages/mish_cuda-0.0.3-py3.7-linux-x86_64.egg\r\n",
      "Extracting mish_cuda-0.0.3-py3.7-linux-x86_64.egg to /opt/conda/lib/python3.7/site-packages\r\n",
      "Adding mish-cuda 0.0.3 to easy-install.pth file\r\n",
      "\r\n",
      "Installed /opt/conda/lib/python3.7/site-packages/mish_cuda-0.0.3-py3.7-linux-x86_64.egg\r\n",
      "Processing dependencies for mish-cuda==0.0.3\r\n",
      "Searching for torch==1.7.0\r\n",
      "Best match: torch 1.7.0\r\n",
      "Adding torch 1.7.0 to easy-install.pth file\r\n",
      "Installing convert-caffe2-to-onnx script to /opt/conda/bin\r\n",
      "Installing convert-onnx-to-caffe2 script to /opt/conda/bin\r\n",
      "\r\n",
      "Using /opt/conda/lib/python3.7/site-packages\r\n",
      "Searching for numpy==1.19.5\r\n",
      "Best match: numpy 1.19.5\r\n",
      "Adding numpy 1.19.5 to easy-install.pth file\r\n",
      "Installing f2py script to /opt/conda/bin\r\n",
      "Installing f2py3 script to /opt/conda/bin\r\n",
      "Installing f2py3.7 script to /opt/conda/bin\r\n",
      "\r\n",
      "Using /opt/conda/lib/python3.7/site-packages\r\n",
      "Searching for dataclasses==0.6\r\n",
      "Best match: dataclasses 0.6\r\n",
      "Adding dataclasses 0.6 to easy-install.pth file\r\n",
      "\r\n",
      "Using /opt/conda/lib/python3.7/site-packages\r\n",
      "Searching for typing-extensions==3.7.4.3\r\n",
      "Best match: typing-extensions 3.7.4.3\r\n",
      "Adding typing-extensions 3.7.4.3 to easy-install.pth file\r\n",
      "\r\n",
      "Using /opt/conda/lib/python3.7/site-packages\r\n",
      "Searching for future==0.18.2\r\n",
      "Best match: future 0.18.2\r\n",
      "Adding future 0.18.2 to easy-install.pth file\r\n",
      "Installing futurize script to /opt/conda/bin\r\n",
      "Installing pasteurize script to /opt/conda/bin\r\n",
      "\r\n",
      "Using /opt/conda/lib/python3.7/site-packages\r\n",
      "Finished processing dependencies for mish-cuda==0.0.3\r\n",
      "/kaggle/working\n"
     ]
    }
   ],
   "source": [
    "#install mish activation funciton for cuda\n",
    "%cd ..\n",
    "!git clone https://github.com/JunnYu/mish-cuda\n",
    "%cd mish-cuda\n",
    "!python setup.py build install\n",
    "%cd .."
   ]
  },
  {
   "cell_type": "code",
   "execution_count": 6,
   "id": "varied-stuff",
   "metadata": {
    "_cell_guid": "75bbc1e9-e936-4d82-9bce-5d23e17f8666",
    "_uuid": "30139984-8260-4c23-b0dc-e9644392f509",
    "execution": {
     "iopub.execute_input": "2021-03-28T04:19:57.816625Z",
     "iopub.status.busy": "2021-03-28T04:19:57.815881Z",
     "iopub.status.idle": "2021-03-28T04:19:57.818449Z",
     "shell.execute_reply": "2021-03-28T04:19:57.818880Z"
    },
    "papermill": {
     "duration": 0.023646,
     "end_time": "2021-03-28T04:19:57.819006",
     "exception": false,
     "start_time": "2021-03-28T04:19:57.795360",
     "status": "completed"
    },
    "tags": []
   },
   "outputs": [],
   "source": [
    "# abnormalities = ['Aortic enlargement', 'Atelectasis', 'Calcification', 'Cardiomegaly', 'Consolidation', 'ILD', 'Infiltration', 'Lung Opacity', 'Nodule/Mass', 'Other lesion', 'Pleural effusion', 'Pleural thickening', 'Pneumothorax', 'Pulmonary fibrosis']\n",
    "\n",
    "# %mkdir data\n",
    "# def write_to_file(imgs, dataset_name, ab_name):\n",
    "#     with open(f\"data/{dataset_name}_{ab_name}.txt\", 'wt') as f:\n",
    "#         for img in imgs:\n",
    "#             f.write(f\"/kaggle/input/mlpyoloall/{dataset_name}/{img}.png\\n\")\n",
    "    \n",
    "# def write_yaml_file(ab):\n",
    "#     with open(f\"data/{ab}.yaml\", 'wt') as f:\n",
    "#         f.write(f\"\"\"train: ../data/train_{ab}.txt\n",
    "# val: ../data/validation_{ab}.txt\n",
    "\n",
    "# nc: 14\n",
    "# names: ['Aortic enlargement', 'Atelectasis', 'Calcification', 'Cardiomegaly', 'Consolidation', 'ILD', 'Infiltration', 'Lung Opacity', 'Nodule/Mass', 'Other lesion', 'Pleural effusion', 'Pleural thickening', 'Pneumothorax', 'Pulmonary fibrosis']\n",
    "# \"\"\")\n",
    "        \n",
    "# for ab in abnormalities:\n",
    "#     train_imgs = df_train[df_train['class_name'] == ab]['image_id'].unique()\n",
    "#     val_imgs = df_val[df_val['class_name'] == ab]['image_id'].unique()\n",
    "#     test_imgs = df_test[df_test['class_name'] == ab]['image_id'].unique()\n",
    "    \n",
    "#     # Write each list to a data spec file\n",
    "#     ab = ab.replace('/', '_').replace(' ', '_')\n",
    "#     write_to_file(train_imgs, 'train', ab)\n",
    "#     write_to_file(val_imgs, 'validation', ab)\n",
    "#     write_to_file(test_imgs, 'test', ab)\n",
    "    \n",
    "#     # Write the data yaml file\n",
    "#     write_yaml_file(ab)"
   ]
  },
  {
   "cell_type": "code",
   "execution_count": 7,
   "id": "elegant-finger",
   "metadata": {
    "execution": {
     "iopub.execute_input": "2021-03-28T04:19:57.856580Z",
     "iopub.status.busy": "2021-03-28T04:19:57.855825Z",
     "iopub.status.idle": "2021-03-28T04:19:57.859357Z",
     "shell.execute_reply": "2021-03-28T04:19:57.858763Z"
    },
    "papermill": {
     "duration": 0.023871,
     "end_time": "2021-03-28T04:19:57.859470",
     "exception": false,
     "start_time": "2021-03-28T04:19:57.835599",
     "status": "completed"
    },
    "tags": []
   },
   "outputs": [],
   "source": [
    "with open(f\"data.yaml\", 'wt') as f:\n",
    "        f.write(f\"\"\"train: /kaggle/input/vinbigstratifiedyolo/vinbigstratified/train\n",
    "val: /kaggle/input/vinbigstratifiedyolo/vinbigstratified/validation\n",
    "\n",
    "nc: 14\n",
    "names: ['Aortic enlargement', 'Atelectasis', 'Calcification', 'Cardiomegaly', 'Consolidation', 'ILD', 'Infiltration', 'Lung Opacity', 'Nodule/Mass', 'Other lesion', 'Pleural effusion', 'Pleural thickening', 'Pneumothorax', 'Pulmonary fibrosis']\n",
    "\"\"\")"
   ]
  },
  {
   "cell_type": "code",
   "execution_count": 8,
   "id": "supreme-windsor",
   "metadata": {
    "_cell_guid": "4070c3e3-6391-48fc-89ac-940f214d86c0",
    "_uuid": "6356f8c0-561a-446d-9fa3-8f710b35edb9",
    "execution": {
     "iopub.execute_input": "2021-03-28T04:19:57.902968Z",
     "iopub.status.busy": "2021-03-28T04:19:57.902045Z",
     "iopub.status.idle": "2021-03-28T04:19:57.906764Z",
     "shell.execute_reply": "2021-03-28T04:19:57.906217Z"
    },
    "papermill": {
     "duration": 0.029053,
     "end_time": "2021-03-28T04:19:57.906871",
     "exception": false,
     "start_time": "2021-03-28T04:19:57.877818",
     "status": "completed"
    },
    "tags": []
   },
   "outputs": [
    {
     "name": "stdout",
     "output_type": "stream",
     "text": [
      "/kaggle/working/ScaledYOLOv4\n"
     ]
    }
   ],
   "source": [
    "%cd ScaledYOLOv4/"
   ]
  },
  {
   "cell_type": "code",
   "execution_count": 9,
   "id": "comfortable-burden",
   "metadata": {
    "_cell_guid": "b7211e30-fbd0-42aa-b53d-9513c61a394c",
    "_uuid": "a191078a-5cf7-47d9-becf-c4528031573a",
    "execution": {
     "iopub.execute_input": "2021-03-28T04:19:57.953434Z",
     "iopub.status.busy": "2021-03-28T04:19:57.947929Z",
     "iopub.status.idle": "2021-03-28T08:20:44.895771Z",
     "shell.execute_reply": "2021-03-28T08:20:44.895245Z"
    },
    "papermill": {
     "duration": 14446.970752,
     "end_time": "2021-03-28T08:20:44.895902",
     "exception": false,
     "start_time": "2021-03-28T04:19:57.925150",
     "status": "completed"
    },
    "tags": []
   },
   "outputs": [
    {
     "name": "stdout",
     "output_type": "stream",
     "text": [
      "Using CUDA device0 _CudaDeviceProperties(name='Tesla P100-PCIE-16GB', total_memory=16280MB)\r\n",
      "\r\n",
      "Namespace(adam=False, batch_size=16, bucket='', cache_images=False, cfg='./models/yolov4-csp.yaml', data='../data.yaml', device='', epochs=20, evolve=False, global_rank=-1, hyp='data/hyp.scratch.yaml', img_size=[640, 640], labels='labels_all', local_rank=-1, logdir='runs/', multi_scale=False, name='yolov4-csp-results', noautoanchor=False, nosave=False, notest=False, onlyclass=-1, rect=False, resume=False, single_cls=False, sync_bn=False, total_batch_size=16, weights='', world_size=1)\r\n",
      "Start Tensorboard with \"tensorboard --logdir runs/\", view at http://localhost:6006/\r\n",
      "2021-03-28 04:20:01.127289: I tensorflow/stream_executor/platform/default/dso_loader.cc:49] Successfully opened dynamic library libcudart.so.10.2\r\n",
      "Hyperparameters {'lr0': 0.01, 'momentum': 0.937, 'weight_decay': 0.0005, 'giou': 0.05, 'cls': 0.5, 'cls_pw': 1.0, 'obj': 1.0, 'obj_pw': 1.0, 'iou_t': 0.2, 'anchor_t': 4.0, 'fl_gamma': 0.0, 'hsv_h': 0.015, 'hsv_s': 0.7, 'hsv_v': 0.4, 'degrees': 0.0, 'translate': 0.5, 'scale': 0.5, 'shear': 0.0, 'perspective': 0.0, 'flipud': 0.0, 'fliplr': 0.5, 'mixup': 0.0}\r\n",
      "Overriding ./models/yolov4-csp.yaml nc=80 with nc=14\r\n",
      "\r\n",
      "                 from  n    params  module                                  arguments                     \r\n",
      "  0                -1  1       928  models.common.Conv                      [3, 32, 3, 1]                 \r\n",
      "  1                -1  1     18560  models.common.Conv                      [32, 64, 3, 2]                \r\n",
      "  2                -1  1     20672  models.common.Bottleneck                [64, 64]                      \r\n",
      "  3                -1  1     73984  models.common.Conv                      [64, 128, 3, 2]               \r\n",
      "  4                -1  1    119936  models.common.BottleneckCSP             [128, 128, 2]                 \r\n",
      "  5                -1  1    295424  models.common.Conv                      [128, 256, 3, 2]              \r\n",
      "  6                -1  1   1463552  models.common.BottleneckCSP             [256, 256, 8]                 \r\n",
      "  7                -1  1   1180672  models.common.Conv                      [256, 512, 3, 2]              \r\n",
      "  8                -1  1   5843456  models.common.BottleneckCSP             [512, 512, 8]                 \r\n",
      "  9                -1  1   4720640  models.common.Conv                      [512, 1024, 3, 2]             \r\n",
      " 10                -1  1  12858368  models.common.BottleneckCSP             [1024, 1024, 4]               \r\n",
      " 11                -1  1   7610368  models.common.SPPCSP                    [1024, 512, 1]                \r\n",
      " 12                -1  1    131584  models.common.Conv                      [512, 256, 1, 1]              \r\n",
      " 13                -1  1         0  torch.nn.modules.upsampling.Upsample    [None, 2, 'nearest']          \r\n",
      " 14                 8  1    131584  models.common.Conv                      [512, 256, 1, 1]              \r\n",
      " 15          [-1, -2]  1         0  models.common.Concat                    [1]                           \r\n",
      " 16                -1  1   1642496  models.common.BottleneckCSP2            [512, 256, 2]                 \r\n",
      " 17                -1  1     33024  models.common.Conv                      [256, 128, 1, 1]              \r\n",
      " 18                -1  1         0  torch.nn.modules.upsampling.Upsample    [None, 2, 'nearest']          \r\n",
      " 19                 6  1     33024  models.common.Conv                      [256, 128, 1, 1]              \r\n",
      " 20          [-1, -2]  1         0  models.common.Concat                    [1]                           \r\n",
      " 21                -1  1    411648  models.common.BottleneckCSP2            [256, 128, 2]                 \r\n",
      " 22                -1  1    295424  models.common.Conv                      [128, 256, 3, 1]              \r\n",
      " 23                -2  1    295424  models.common.Conv                      [128, 256, 3, 2]              \r\n",
      " 24          [-1, 16]  1         0  models.common.Concat                    [1]                           \r\n",
      " 25                -1  1   1642496  models.common.BottleneckCSP2            [512, 256, 2]                 \r\n",
      " 26                -1  1   1180672  models.common.Conv                      [256, 512, 3, 1]              \r\n",
      " 27                -2  1   1180672  models.common.Conv                      [256, 512, 3, 2]              \r\n",
      " 28          [-1, 11]  1         0  models.common.Concat                    [1]                           \r\n",
      " 29                -1  1   6561792  models.common.BottleneckCSP2            [1024, 512, 2]                \r\n",
      " 30                -1  1   4720640  models.common.Conv                      [512, 1024, 3, 1]             \r\n",
      " 31      [22, 26, 30]  1    102315  models.yolo.Detect                      [14, [[12, 16, 19, 36, 40, 28], [36, 75, 76, 55, 72, 146], [142, 110, 192, 243, 459, 401]], [256, 512, 1024]]\r\n",
      "Model Summary: 334 layers, 5.25694e+07 parameters, 5.25694e+07 gradients\r\n",
      "\r\n",
      "Optimizer groups: 111 .bias, 115 conv.weight, 108 other\r\n",
      "Scanning images: 100%|███████████████████| 11965/11965 [01:17<00:00, 155.06it/s]\r\n",
      "Scanning labels /kaggle/working/cache/labels_all (3485 found, 0 missing, 8480 em\r\n",
      "Scanning images: 100%|█████████████████████| 1515/1515 [00:07<00:00, 216.29it/s]\r\n",
      "Scanning labels /kaggle/working/cache/labels_all (460 found, 0 missing, 1055 emp\r\n",
      "\r\n",
      "Analyzing anchors... anchors/target = 5.04, Best Possible Recall (BPR) = 0.9997\r\n",
      "Image sizes 640 train, 640 test\r\n",
      "Using 2 dataloader workers\r\n",
      "Starting training for 20 epochs...\r\n",
      "\r\n",
      "     Epoch   gpu_mem      GIoU       obj       cls     total   targets  img_size\r\n",
      "      0/19     12.8G   0.08431   0.02183   0.05383      0.16        25       640\r\n",
      "               Class      Images     Targets           P           R      mAP@.5\r\n",
      "                 all    1.52e+03     3.7e+03           0           0     0.00284    0.000612\r\n",
      "\r\n",
      "     Epoch   gpu_mem      GIoU       obj       cls     total   targets  img_size\r\n",
      "      1/19     12.7G   0.07418   0.02055   0.03671    0.1314        16       640\r\n",
      "               Class      Images     Targets           P           R      mAP@.5\r\n",
      "                 all    1.52e+03     3.7e+03      0.0785     0.00294     0.00215    0.000587\r\n",
      "\r\n",
      "     Epoch   gpu_mem      GIoU       obj       cls     total   targets  img_size\r\n",
      "      2/19     12.7G   0.06875   0.01971   0.03268    0.1211        34       640\r\n",
      "               Class      Images     Targets           P           R      mAP@.5\r\n",
      "                 all    1.52e+03     3.7e+03           0           0    5.15e-05    3.58e-05\r\n",
      "\r\n",
      "     Epoch   gpu_mem      GIoU       obj       cls     total   targets  img_size\r\n",
      "      3/19     12.7G   0.06471   0.01844   0.03058    0.1137        35       640\r\n",
      "               Class      Images     Targets           P           R      mAP@.5\r\n",
      "                 all    1.52e+03     3.7e+03       0.219      0.0831      0.0687      0.0264\r\n",
      "\r\n",
      "     Epoch   gpu_mem      GIoU       obj       cls     total   targets  img_size\r\n",
      "      4/19     12.7G   0.06217   0.01808   0.02925    0.1095        11       640\r\n",
      "               Class      Images     Targets           P           R      mAP@.5\r\n",
      "                 all    1.52e+03     3.7e+03        0.47      0.0371      0.0528      0.0199\r\n",
      "\r\n",
      "     Epoch   gpu_mem      GIoU       obj       cls     total   targets  img_size\r\n",
      "      5/19     12.7G   0.06049    0.0174   0.02869    0.1066        31       640\r\n",
      "               Class      Images     Targets           P           R      mAP@.5\r\n",
      "                 all    1.52e+03     3.7e+03       0.466      0.0285       0.048      0.0146\r\n",
      "\r\n",
      "     Epoch   gpu_mem      GIoU       obj       cls     total   targets  img_size\r\n",
      "      6/19     12.7G   0.05908   0.01658   0.02764    0.1033        28       640\r\n",
      "               Class      Images     Targets           P           R      mAP@.5\r\n",
      "                 all    1.52e+03     3.7e+03       0.305       0.131       0.147       0.056\r\n",
      "\r\n",
      "     Epoch   gpu_mem      GIoU       obj       cls     total   targets  img_size\r\n",
      "      7/19     12.7G   0.05773    0.0164   0.02691     0.101        10       640\r\n",
      "               Class      Images     Targets           P           R      mAP@.5\r\n",
      "                 all    1.52e+03     3.7e+03       0.423       0.127       0.142      0.0549\r\n",
      "\r\n",
      "     Epoch   gpu_mem      GIoU       obj       cls     total   targets  img_size\r\n",
      "      8/19     12.7G   0.05626    0.0161   0.02633   0.09869        55       640\r\n",
      "               Class      Images     Targets           P           R      mAP@.5\r\n",
      "                 all    1.52e+03     3.7e+03        0.22      0.0848      0.0757       0.026\r\n",
      "\r\n",
      "     Epoch   gpu_mem      GIoU       obj       cls     total   targets  img_size\r\n",
      "      9/19     12.7G   0.05614   0.01572   0.02646   0.09832        37       640\r\n",
      "               Class      Images     Targets           P           R      mAP@.5\r\n",
      "                 all    1.52e+03     3.7e+03       0.309        0.19       0.178      0.0715\r\n",
      "\r\n",
      "     Epoch   gpu_mem      GIoU       obj       cls     total   targets  img_size\r\n",
      "     10/19     12.7G   0.05498   0.01571   0.02576   0.09645        37       640\r\n",
      "               Class      Images     Targets           P           R      mAP@.5\r\n",
      "                 all    1.52e+03     3.7e+03       0.393        0.12        0.13        0.05\r\n",
      "\r\n",
      "     Epoch   gpu_mem      GIoU       obj       cls     total   targets  img_size\r\n",
      "     11/19     12.7G   0.05418   0.01554   0.02533   0.09504        46       640\r\n",
      "               Class      Images     Targets           P           R      mAP@.5\r\n",
      "                 all    1.52e+03     3.7e+03       0.246      0.0903      0.0747      0.0253\r\n",
      "\r\n",
      "     Epoch   gpu_mem      GIoU       obj       cls     total   targets  img_size\r\n",
      "     12/19     12.7G   0.05339   0.01505   0.02453   0.09296        44       640\r\n",
      "               Class      Images     Targets           P           R      mAP@.5\r\n",
      "                 all    1.52e+03     3.7e+03       0.398       0.135       0.159      0.0606\r\n",
      "\r\n",
      "     Epoch   gpu_mem      GIoU       obj       cls     total   targets  img_size\r\n",
      "     13/19     12.7G   0.05289   0.01544   0.02447    0.0928        28       640\r\n",
      "               Class      Images     Targets           P           R      mAP@.5\r\n",
      "                 all    1.52e+03     3.7e+03       0.354       0.179         0.2      0.0808\r\n",
      "\r\n",
      "     Epoch   gpu_mem      GIoU       obj       cls     total   targets  img_size\r\n",
      "     14/19     12.7G   0.05203    0.0149   0.02427    0.0912        51       640\r\n",
      "               Class      Images     Targets           P           R      mAP@.5\r\n",
      "                 all    1.52e+03     3.7e+03        0.32       0.206       0.221      0.0857\r\n",
      "\r\n",
      "     Epoch   gpu_mem      GIoU       obj       cls     total   targets  img_size\r\n",
      "     15/19     12.7G   0.05157   0.01494   0.02411   0.09063        15       640\r\n",
      "               Class      Images     Targets           P           R      mAP@.5\r\n",
      "                 all    1.52e+03     3.7e+03       0.386       0.218       0.222      0.0892\r\n",
      "\r\n",
      "     Epoch   gpu_mem      GIoU       obj       cls     total   targets  img_size\r\n",
      "     16/19     12.7G   0.05105   0.01462   0.02378   0.08945        38       640\r\n",
      "               Class      Images     Targets           P           R      mAP@.5\r\n",
      "                 all    1.52e+03     3.7e+03       0.393       0.233       0.237       0.096\r\n",
      "\r\n",
      "     Epoch   gpu_mem      GIoU       obj       cls     total   targets  img_size\r\n",
      "     17/19     12.7G   0.05095   0.01432   0.02358   0.08885        20       640\r\n",
      "               Class      Images     Targets           P           R      mAP@.5\r\n",
      "                 all    1.52e+03     3.7e+03       0.341        0.22       0.234      0.0927\r\n",
      "\r\n",
      "     Epoch   gpu_mem      GIoU       obj       cls     total   targets  img_size\r\n",
      "     18/19     12.7G   0.05042    0.0142   0.02301   0.08764        27       640\r\n",
      "               Class      Images     Targets           P           R      mAP@.5\r\n",
      "                 all    1.52e+03     3.7e+03       0.415        0.21       0.216      0.0844\r\n",
      "\r\n",
      "     Epoch   gpu_mem      GIoU       obj       cls     total   targets  img_size\r\n",
      "     19/19     12.7G   0.04982   0.01452   0.02332   0.08767        67       640\r\n",
      "               Class      Images     Targets           P           R      mAP@.5\r\n",
      "                 all    1.52e+03     3.7e+03       0.426       0.192       0.197      0.0758\r\n",
      "Optimizer stripped from runs/exp0_yolov4-csp-results/weights/last_yolov4-csp-results.pt, saved as runs/exp0_yolov4-csp-results/weights/last_yolov4-csp-results_strip.pt, 105.6MB\r\n",
      "Optimizer stripped from runs/exp0_yolov4-csp-results/weights/best_yolov4-csp-results.pt, saved as runs/exp0_yolov4-csp-results/weights/best_yolov4-csp-results_strip.pt, 105.6MB\r\n",
      "20 epochs completed in 3.982 hours.\r\n",
      "\r\n"
     ]
    }
   ],
   "source": [
    "!python train.py --labels 'labels_all' --img 640 --batch 16 --epochs 20 --data '../data.yaml' --cfg ./models/yolov4-csp.yaml --weights '' --name yolov4-csp-results"
   ]
  },
  {
   "cell_type": "code",
   "execution_count": 10,
   "id": "metric-region",
   "metadata": {
    "execution": {
     "iopub.execute_input": "2021-03-28T08:20:55.306837Z",
     "iopub.status.busy": "2021-03-28T08:20:55.306197Z",
     "iopub.status.idle": "2021-03-28T08:20:55.466901Z",
     "shell.execute_reply": "2021-03-28T08:20:55.466298Z"
    },
    "papermill": {
     "duration": 5.051587,
     "end_time": "2021-03-28T08:20:55.467042",
     "exception": false,
     "start_time": "2021-03-28T08:20:50.415455",
     "status": "completed"
    },
    "tags": []
   },
   "outputs": [
    {
     "name": "stdout",
     "output_type": "stream",
     "text": [
      "16K\t/kaggle/working/ScaledYOLOv4/data\n",
      "96K\t/kaggle/working/ScaledYOLOv4/utils/__pycache__\n",
      "224K\t/kaggle/working/ScaledYOLOv4/utils\n",
      "16K\t/kaggle/working/ScaledYOLOv4/__pycache__\n",
      "48K\t/kaggle/working/ScaledYOLOv4/models/__pycache__\n",
      "116K\t/kaggle/working/ScaledYOLOv4/models\n",
      "8.5G\t/kaggle/working/ScaledYOLOv4/runs/exp0_yolov4-csp-results/weights\n",
      "8.5G\t/kaggle/working/ScaledYOLOv4/runs/exp0_yolov4-csp-results\n",
      "8.5G\t/kaggle/working/ScaledYOLOv4/runs\n",
      "4.0K\t/kaggle/working/ScaledYOLOv4/.git/branches\n",
      "8.0K\t/kaggle/working/ScaledYOLOv4/.git/info\n",
      "12K\t/kaggle/working/ScaledYOLOv4/.git/logs/refs/heads\n",
      "8.0K\t/kaggle/working/ScaledYOLOv4/.git/logs/refs/remotes/origin\n",
      "12K\t/kaggle/working/ScaledYOLOv4/.git/logs/refs/remotes\n",
      "28K\t/kaggle/working/ScaledYOLOv4/.git/logs/refs\n",
      "36K\t/kaggle/working/ScaledYOLOv4/.git/logs\n",
      "12K\t/kaggle/working/ScaledYOLOv4/.git/refs/heads\n",
      "4.0K\t/kaggle/working/ScaledYOLOv4/.git/refs/tags\n",
      "8.0K\t/kaggle/working/ScaledYOLOv4/.git/refs/remotes/origin\n",
      "12K\t/kaggle/working/ScaledYOLOv4/.git/refs/remotes\n",
      "32K\t/kaggle/working/ScaledYOLOv4/.git/refs\n",
      "52K\t/kaggle/working/ScaledYOLOv4/.git/hooks\n",
      "4.0K\t/kaggle/working/ScaledYOLOv4/.git/objects/info\n",
      "380K\t/kaggle/working/ScaledYOLOv4/.git/objects/pack\n",
      "388K\t/kaggle/working/ScaledYOLOv4/.git/objects\n",
      "544K\t/kaggle/working/ScaledYOLOv4/.git\n",
      "8.5G\t/kaggle/working/ScaledYOLOv4/\n"
     ]
    }
   ],
   "source": [
    "%%bash\n",
    "du -h /kaggle/working/ScaledYOLOv4/"
   ]
  }
 ],
 "metadata": {
  "kernelspec": {
   "display_name": "Python 3",
   "language": "python",
   "name": "python3"
  },
  "language_info": {
   "codemirror_mode": {
    "name": "ipython",
    "version": 3
   },
   "file_extension": ".py",
   "mimetype": "text/x-python",
   "name": "python",
   "nbconvert_exporter": "python",
   "pygments_lexer": "ipython3",
   "version": "3.7.9"
  },
  "papermill": {
   "default_parameters": {},
   "duration": 14519.63367,
   "end_time": "2021-03-28T08:21:00.986155",
   "environment_variables": {},
   "exception": null,
   "input_path": "__notebook__.ipynb",
   "output_path": "__notebook__.ipynb",
   "parameters": {},
   "start_time": "2021-03-28T04:19:01.352485",
   "version": "2.3.2"
  }
 },
 "nbformat": 4,
 "nbformat_minor": 5
}
