{
 "cells": [
  {
   "cell_type": "code",
   "execution_count": 1,
   "metadata": {
    "_cell_guid": "b9ba2d34-7745-4716-a254-5b81db4c8da0",
    "_uuid": "963d7a80-5b8a-42ac-abd8-62071e208fa2",
    "execution": {
     "iopub.execute_input": "2021-03-30T10:18:12.579317Z",
     "iopub.status.busy": "2021-03-30T10:18:12.578721Z",
     "iopub.status.idle": "2021-03-30T10:18:12.587451Z",
     "shell.execute_reply": "2021-03-30T10:18:12.586879Z"
    },
    "papermill": {
     "duration": 0.022593,
     "end_time": "2021-03-30T10:18:12.587658",
     "exception": false,
     "start_time": "2021-03-30T10:18:12.565065",
     "status": "completed"
    },
    "tags": []
   },
   "outputs": [],
   "source": [
    "import numpy as np\n",
    "import os\n",
    "from tqdm.auto import tqdm\n",
    "# from pathos.multiprocessing import ProcessingPool as Pool\n",
    "# from functools import partial\n",
    "import pandas as pd\n",
    "from PIL import Image"
   ]
  },
  {
   "cell_type": "code",
   "execution_count": 2,
   "metadata": {
    "_cell_guid": "1765c122-152c-4e3f-afc5-ff5bca5c1e0d",
    "_uuid": "2842c882-be4b-41d5-bbda-d8268eaf6856",
    "execution": {
     "iopub.execute_input": "2021-03-30T10:18:12.608884Z",
     "iopub.status.busy": "2021-03-30T10:18:12.608279Z",
     "iopub.status.idle": "2021-03-30T10:18:15.057854Z",
     "shell.execute_reply": "2021-03-30T10:18:15.057335Z"
    },
    "papermill": {
     "duration": 2.46254,
     "end_time": "2021-03-30T10:18:15.058032",
     "exception": false,
     "start_time": "2021-03-30T10:18:12.595492",
     "status": "completed"
    },
    "tags": []
   },
   "outputs": [
    {
     "name": "stdout",
     "output_type": "stream",
     "text": [
      "Cloning into 'ScaledYOLOv4'...\r\n",
      "remote: Enumerating objects: 92, done.\u001b[K\r\n",
      "remote: Counting objects: 100% (92/92), done.\u001b[K\r\n",
      "remote: Compressing objects: 100% (62/62), done.\u001b[K\r\n",
      "remote: Total 220 (delta 61), reused 60 (delta 30), pack-reused 128\u001b[K\r\n",
      "Receiving objects: 100% (220/220), 401.93 KiB | 4.67 MiB/s, done.\r\n",
      "Resolving deltas: 100% (113/113), done.\r\n",
      "/kaggle/working/ScaledYOLOv4\n",
      "Branch 'yolov4-large' set up to track remote branch 'yolov4-large' from 'origin'.\r\n",
      "Switched to a new branch 'yolov4-large'\r\n"
     ]
    }
   ],
   "source": [
    "# clone Scaled_YOLOv4\n",
    "!git clone https://github.com/tom-auger/ScaledYOLOv4.git\n",
    "%cd ScaledYOLOv4/\n",
    "#checkout the yolov4-large branch\n",
    "!git checkout yolov4-large"
   ]
  },
  {
   "cell_type": "code",
   "execution_count": 3,
   "metadata": {
    "_cell_guid": "3079d517-f3fd-4ff5-8cbf-2ce3bd8a49c7",
    "_uuid": "7c1f2130-a8b3-481b-b81f-2bbfe2785df4",
    "execution": {
     "iopub.execute_input": "2021-03-30T10:18:15.091520Z",
     "iopub.status.busy": "2021-03-30T10:18:15.090869Z",
     "iopub.status.idle": "2021-03-30T10:18:15.298922Z",
     "shell.execute_reply": "2021-03-30T10:18:15.298092Z"
    },
    "papermill": {
     "duration": 0.230587,
     "end_time": "2021-03-30T10:18:15.299123",
     "exception": false,
     "start_time": "2021-03-30T10:18:15.068536",
     "status": "completed"
    },
    "tags": []
   },
   "outputs": [],
   "source": [
    "df_train = pd.read_csv('/kaggle/input/vinbigstratifiedyolo/vinbigstratified/train_orig.csv')\n",
    "df_val = pd.read_csv('/kaggle/input/vinbigstratifiedyolo/vinbigstratified/validation_orig.csv')\n",
    "df_test = pd.read_csv('/kaggle/input/vinbigstratifiedyolo/vinbigstratified/test_orig.csv')"
   ]
  },
  {
   "cell_type": "code",
   "execution_count": 4,
   "metadata": {
    "_cell_guid": "8a415a5f-83f9-403d-91db-cd497609a19f",
    "_uuid": "5f185b44-70b7-429b-aa74-b61a2d19c2cd",
    "execution": {
     "iopub.execute_input": "2021-03-30T10:18:15.323111Z",
     "iopub.status.busy": "2021-03-30T10:18:15.322509Z",
     "iopub.status.idle": "2021-03-30T10:18:17.592411Z",
     "shell.execute_reply": "2021-03-30T10:18:17.593413Z"
    },
    "papermill": {
     "duration": 2.284937,
     "end_time": "2021-03-30T10:18:17.593637",
     "exception": false,
     "start_time": "2021-03-30T10:18:15.308700",
     "status": "completed"
    },
    "tags": []
   },
   "outputs": [
    {
     "name": "stdout",
     "output_type": "stream",
     "text": [
      "Using torch 1.7.0 _CudaDeviceProperties(name='Tesla P100-PCIE-16GB', major=6, minor=0, total_memory=16280MB, multi_processor_count=56)\n"
     ]
    }
   ],
   "source": [
    "import torch\n",
    "print('Using torch %s %s' % (torch.__version__, torch.cuda.get_device_properties(0) if torch.cuda.is_available() else 'CPU'))"
   ]
  },
  {
   "cell_type": "code",
   "execution_count": 5,
   "metadata": {
    "_cell_guid": "26ea5e16-c042-4da4-9a70-3ff67d4f8b30",
    "_uuid": "fef37d76-e7a6-44d2-90cf-b8e93e0539d2",
    "execution": {
     "iopub.execute_input": "2021-03-30T10:18:17.624883Z",
     "iopub.status.busy": "2021-03-30T10:18:17.624076Z",
     "iopub.status.idle": "2021-03-30T10:19:09.009371Z",
     "shell.execute_reply": "2021-03-30T10:19:09.008837Z"
    },
    "papermill": {
     "duration": 51.404466,
     "end_time": "2021-03-30T10:19:09.009517",
     "exception": false,
     "start_time": "2021-03-30T10:18:17.605051",
     "status": "completed"
    },
    "tags": []
   },
   "outputs": [
    {
     "name": "stdout",
     "output_type": "stream",
     "text": [
      "/kaggle/working\n",
      "Cloning into 'mish-cuda'...\r\n",
      "remote: Enumerating objects: 88, done.\u001b[K\r\n",
      "remote: Counting objects: 100% (88/88), done.\u001b[K\r\n",
      "remote: Compressing objects: 100% (75/75), done.\u001b[K\r\n",
      "remote: Total 195 (delta 7), reused 79 (delta 3), pack-reused 107\u001b[K\r\n",
      "Receiving objects: 100% (195/195), 208.77 KiB | 3.66 MiB/s, done.\r\n",
      "Resolving deltas: 100% (56/56), done.\r\n",
      "/kaggle/working/mish-cuda\n",
      "/opt/conda/lib/python3.7/distutils/extension.py:131: UserWarning: Unknown Extension options: 'headers'\r\n",
      "  warnings.warn(msg)\r\n",
      "running build\r\n",
      "running build_py\r\n",
      "creating build\r\n",
      "creating build/lib.linux-x86_64-3.7\r\n",
      "creating build/lib.linux-x86_64-3.7/mish_cuda\r\n",
      "copying src/mish_cuda/__init__.py -> build/lib.linux-x86_64-3.7/mish_cuda\r\n",
      "running egg_info\r\n",
      "creating src/mish_cuda.egg-info\r\n",
      "writing src/mish_cuda.egg-info/PKG-INFO\r\n",
      "writing dependency_links to src/mish_cuda.egg-info/dependency_links.txt\r\n",
      "writing requirements to src/mish_cuda.egg-info/requires.txt\r\n",
      "writing top-level names to src/mish_cuda.egg-info/top_level.txt\r\n",
      "writing manifest file 'src/mish_cuda.egg-info/SOURCES.txt'\r\n",
      "writing manifest file 'src/mish_cuda.egg-info/SOURCES.txt'\r\n",
      "running build_ext\r\n",
      "building 'mish_cuda._C' extension\r\n",
      "creating /kaggle/working/mish-cuda/build/temp.linux-x86_64-3.7\r\n",
      "creating /kaggle/working/mish-cuda/build/temp.linux-x86_64-3.7/csrc\r\n",
      "creating /kaggle/working/mish-cuda/build/temp.linux-x86_64-3.7/csrc/cpu\r\n",
      "creating /kaggle/working/mish-cuda/build/temp.linux-x86_64-3.7/csrc/cuda\r\n",
      "Emitting ninja build file /kaggle/working/mish-cuda/build/temp.linux-x86_64-3.7/build.ninja...\r\n",
      "Compiling objects...\r\n",
      "Allowing ninja to set a default number of workers... (overridable by setting the environment variable MAX_JOBS=N)\r\n",
      "[1/3] c++ -MMD -MF /kaggle/working/mish-cuda/build/temp.linux-x86_64-3.7/csrc/cpu/mish_cpu.o.d -pthread -B /opt/conda/compiler_compat -Wl,--sysroot=/ -Wsign-compare -DNDEBUG -g -fwrapv -O3 -Wall -Wstrict-prototypes -fPIC -I/opt/conda/lib/python3.7/site-packages/torch/include -I/opt/conda/lib/python3.7/site-packages/torch/include/torch/csrc/api/include -I/opt/conda/lib/python3.7/site-packages/torch/include/TH -I/opt/conda/lib/python3.7/site-packages/torch/include/THC -I/usr/local/cuda/include -I/opt/conda/include/python3.7m -c -c /kaggle/working/mish-cuda/csrc/cpu/mish_cpu.cpp -o /kaggle/working/mish-cuda/build/temp.linux-x86_64-3.7/csrc/cpu/mish_cpu.o -DTORCH_API_INCLUDE_EXTENSION_H -DTORCH_EXTENSION_NAME=_C -D_GLIBCXX_USE_CXX11_ABI=0 -std=c++14\r\n",
      "cc1plus: warning: command line option ‘-Wstrict-prototypes’ is valid for C/ObjC but not for C++\r\n",
      "In file included from /opt/conda/lib/python3.7/site-packages/torch/include/ATen/Parallel.h:149:0,\r\n",
      "                 from /opt/conda/lib/python3.7/site-packages/torch/include/ATen/CPUApplyUtils.h:3,\r\n",
      "                 from /kaggle/working/mish-cuda/csrc/cpu/mish_cpu.cpp:3:\r\n",
      "/opt/conda/lib/python3.7/site-packages/torch/include/ATen/ParallelOpenMP.h:84:0: warning: ignoring #pragma omp parallel [-Wunknown-pragmas]\r\n",
      " #pragma omp parallel for if ((end - begin) >= grain_size)\r\n",
      " \r\n",
      "[2/3] c++ -MMD -MF /kaggle/working/mish-cuda/build/temp.linux-x86_64-3.7/csrc/cuda/mish_cuda.o.d -pthread -B /opt/conda/compiler_compat -Wl,--sysroot=/ -Wsign-compare -DNDEBUG -g -fwrapv -O3 -Wall -Wstrict-prototypes -fPIC -I/opt/conda/lib/python3.7/site-packages/torch/include -I/opt/conda/lib/python3.7/site-packages/torch/include/torch/csrc/api/include -I/opt/conda/lib/python3.7/site-packages/torch/include/TH -I/opt/conda/lib/python3.7/site-packages/torch/include/THC -I/usr/local/cuda/include -I/opt/conda/include/python3.7m -c -c /kaggle/working/mish-cuda/csrc/cuda/mish_cuda.cpp -o /kaggle/working/mish-cuda/build/temp.linux-x86_64-3.7/csrc/cuda/mish_cuda.o -DTORCH_API_INCLUDE_EXTENSION_H -DTORCH_EXTENSION_NAME=_C -D_GLIBCXX_USE_CXX11_ABI=0 -std=c++14\r\n",
      "cc1plus: warning: command line option ‘-Wstrict-prototypes’ is valid for C/ObjC but not for C++\r\n",
      "In file included from /opt/conda/lib/python3.7/site-packages/torch/include/ATen/Parallel.h:149:0,\r\n",
      "                 from /opt/conda/lib/python3.7/site-packages/torch/include/torch/csrc/api/include/torch/utils.h:3,\r\n",
      "                 from /opt/conda/lib/python3.7/site-packages/torch/include/torch/csrc/api/include/torch/nn/cloneable.h:5,\r\n",
      "                 from /opt/conda/lib/python3.7/site-packages/torch/include/torch/csrc/api/include/torch/nn.h:3,\r\n",
      "                 from /opt/conda/lib/python3.7/site-packages/torch/include/torch/csrc/api/include/torch/all.h:12,\r\n",
      "                 from /opt/conda/lib/python3.7/site-packages/torch/include/torch/extension.h:4,\r\n",
      "                 from /kaggle/working/mish-cuda/csrc/cuda/mish_cuda.cpp:2:\r\n",
      "/opt/conda/lib/python3.7/site-packages/torch/include/ATen/ParallelOpenMP.h:84:0: warning: ignoring #pragma omp parallel [-Wunknown-pragmas]\r\n",
      " #pragma omp parallel for if ((end - begin) >= grain_size)\r\n",
      " \r\n",
      "[3/3] /usr/local/cuda/bin/nvcc -I/opt/conda/lib/python3.7/site-packages/torch/include -I/opt/conda/lib/python3.7/site-packages/torch/include/torch/csrc/api/include -I/opt/conda/lib/python3.7/site-packages/torch/include/TH -I/opt/conda/lib/python3.7/site-packages/torch/include/THC -I/usr/local/cuda/include -I/opt/conda/include/python3.7m -c -c /kaggle/working/mish-cuda/csrc/cuda/mish_kernel.cu -o /kaggle/working/mish-cuda/build/temp.linux-x86_64-3.7/csrc/cuda/mish_kernel.o -D__CUDA_NO_HALF_OPERATORS__ -D__CUDA_NO_HALF_CONVERSIONS__ -D__CUDA_NO_HALF2_OPERATORS__ --expt-relaxed-constexpr --compiler-options ''\"'\"'-fPIC'\"'\"'' --expt-extended-lambda -DTORCH_API_INCLUDE_EXTENSION_H -DTORCH_EXTENSION_NAME=_C -D_GLIBCXX_USE_CXX11_ABI=0 -gencode=arch=compute_60,code=sm_60 -std=c++14\r\n",
      "/opt/conda/lib/python3.7/site-packages/torch/include/ATen/core/boxing/impl/boxing.h(100): warning: integer conversion resulted in a change of sign\r\n",
      "\r\n",
      "/opt/conda/lib/python3.7/site-packages/torch/include/ATen/core/op_registration/op_whitelist.h(39): warning: integer conversion resulted in a change of sign\r\n",
      "\r\n",
      "/opt/conda/lib/python3.7/site-packages/torch/include/ATen/core/boxing/impl/boxing.h(100): warning: integer conversion resulted in a change of sign\r\n",
      "\r\n",
      "/opt/conda/lib/python3.7/site-packages/torch/include/ATen/core/op_registration/op_whitelist.h(39): warning: integer conversion resulted in a change of sign\r\n",
      "\r\n",
      "g++ -pthread -shared -B /opt/conda/compiler_compat -L/opt/conda/lib -Wl,-rpath=/opt/conda/lib -Wl,--no-as-needed -Wl,--sysroot=/ /kaggle/working/mish-cuda/build/temp.linux-x86_64-3.7/csrc/cpu/mish_cpu.o /kaggle/working/mish-cuda/build/temp.linux-x86_64-3.7/csrc/cuda/mish_cuda.o /kaggle/working/mish-cuda/build/temp.linux-x86_64-3.7/csrc/cuda/mish_kernel.o -L/opt/conda/lib/python3.7/site-packages/torch/lib -L/usr/local/cuda/lib64 -lc10 -ltorch -ltorch_cpu -ltorch_python -lcudart -lc10_cuda -ltorch_cuda -o build/lib.linux-x86_64-3.7/mish_cuda/_C.cpython-37m-x86_64-linux-gnu.so\r\n",
      "running install\r\n",
      "running bdist_egg\r\n",
      "installing library code to build/bdist.linux-x86_64/egg\r\n",
      "running install_lib\r\n",
      "creating build/bdist.linux-x86_64\r\n",
      "creating build/bdist.linux-x86_64/egg\r\n",
      "creating build/bdist.linux-x86_64/egg/mish_cuda\r\n",
      "copying build/lib.linux-x86_64-3.7/mish_cuda/_C.cpython-37m-x86_64-linux-gnu.so -> build/bdist.linux-x86_64/egg/mish_cuda\r\n",
      "copying build/lib.linux-x86_64-3.7/mish_cuda/__init__.py -> build/bdist.linux-x86_64/egg/mish_cuda\r\n",
      "byte-compiling build/bdist.linux-x86_64/egg/mish_cuda/__init__.py to __init__.cpython-37.pyc\r\n",
      "creating stub loader for mish_cuda/_C.cpython-37m-x86_64-linux-gnu.so\r\n",
      "byte-compiling build/bdist.linux-x86_64/egg/mish_cuda/_C.py to _C.cpython-37.pyc\r\n",
      "creating build/bdist.linux-x86_64/egg/EGG-INFO\r\n",
      "copying src/mish_cuda.egg-info/PKG-INFO -> build/bdist.linux-x86_64/egg/EGG-INFO\r\n",
      "copying src/mish_cuda.egg-info/SOURCES.txt -> build/bdist.linux-x86_64/egg/EGG-INFO\r\n",
      "copying src/mish_cuda.egg-info/dependency_links.txt -> build/bdist.linux-x86_64/egg/EGG-INFO\r\n",
      "copying src/mish_cuda.egg-info/not-zip-safe -> build/bdist.linux-x86_64/egg/EGG-INFO\r\n",
      "copying src/mish_cuda.egg-info/requires.txt -> build/bdist.linux-x86_64/egg/EGG-INFO\r\n",
      "copying src/mish_cuda.egg-info/top_level.txt -> build/bdist.linux-x86_64/egg/EGG-INFO\r\n",
      "writing build/bdist.linux-x86_64/egg/EGG-INFO/native_libs.txt\r\n",
      "creating dist\r\n",
      "creating 'dist/mish_cuda-0.0.3-py3.7-linux-x86_64.egg' and adding 'build/bdist.linux-x86_64/egg' to it\r\n",
      "removing 'build/bdist.linux-x86_64/egg' (and everything under it)\r\n",
      "Processing mish_cuda-0.0.3-py3.7-linux-x86_64.egg\r\n",
      "creating /opt/conda/lib/python3.7/site-packages/mish_cuda-0.0.3-py3.7-linux-x86_64.egg\r\n",
      "Extracting mish_cuda-0.0.3-py3.7-linux-x86_64.egg to /opt/conda/lib/python3.7/site-packages\r\n",
      "Adding mish-cuda 0.0.3 to easy-install.pth file\r\n",
      "\r\n",
      "Installed /opt/conda/lib/python3.7/site-packages/mish_cuda-0.0.3-py3.7-linux-x86_64.egg\r\n",
      "Processing dependencies for mish-cuda==0.0.3\r\n",
      "Searching for torch==1.7.0\r\n",
      "Best match: torch 1.7.0\r\n",
      "Adding torch 1.7.0 to easy-install.pth file\r\n",
      "Installing convert-caffe2-to-onnx script to /opt/conda/bin\r\n",
      "Installing convert-onnx-to-caffe2 script to /opt/conda/bin\r\n",
      "\r\n",
      "Using /opt/conda/lib/python3.7/site-packages\r\n",
      "Searching for numpy==1.19.5\r\n",
      "Best match: numpy 1.19.5\r\n",
      "Adding numpy 1.19.5 to easy-install.pth file\r\n",
      "Installing f2py script to /opt/conda/bin\r\n",
      "Installing f2py3 script to /opt/conda/bin\r\n",
      "Installing f2py3.7 script to /opt/conda/bin\r\n",
      "\r\n",
      "Using /opt/conda/lib/python3.7/site-packages\r\n",
      "Searching for dataclasses==0.6\r\n",
      "Best match: dataclasses 0.6\r\n",
      "Adding dataclasses 0.6 to easy-install.pth file\r\n",
      "\r\n",
      "Using /opt/conda/lib/python3.7/site-packages\r\n",
      "Searching for typing-extensions==3.7.4.3\r\n",
      "Best match: typing-extensions 3.7.4.3\r\n",
      "Adding typing-extensions 3.7.4.3 to easy-install.pth file\r\n",
      "\r\n",
      "Using /opt/conda/lib/python3.7/site-packages\r\n",
      "Searching for future==0.18.2\r\n",
      "Best match: future 0.18.2\r\n",
      "Adding future 0.18.2 to easy-install.pth file\r\n",
      "Installing futurize script to /opt/conda/bin\r\n",
      "Installing pasteurize script to /opt/conda/bin\r\n",
      "\r\n",
      "Using /opt/conda/lib/python3.7/site-packages\r\n",
      "Finished processing dependencies for mish-cuda==0.0.3\r\n",
      "/kaggle/working\n"
     ]
    }
   ],
   "source": [
    "#install mish activation funciton for cuda\n",
    "%cd ..\n",
    "!git clone https://github.com/JunnYu/mish-cuda\n",
    "%cd mish-cuda\n",
    "!python setup.py build install\n",
    "%cd .."
   ]
  },
  {
   "cell_type": "code",
   "execution_count": 6,
   "metadata": {
    "_cell_guid": "3dcff0e2-0711-4324-a54a-fa4542120c8c",
    "_uuid": "dab2c6e9-c11f-4c33-b754-e3d8b1bb7901",
    "execution": {
     "iopub.execute_input": "2021-03-30T10:19:09.058709Z",
     "iopub.status.busy": "2021-03-30T10:19:09.054291Z",
     "iopub.status.idle": "2021-03-30T10:19:09.775468Z",
     "shell.execute_reply": "2021-03-30T10:19:09.774931Z"
    },
    "papermill": {
     "duration": 0.748996,
     "end_time": "2021-03-30T10:19:09.775602",
     "exception": false,
     "start_time": "2021-03-30T10:19:09.026606",
     "status": "completed"
    },
    "tags": []
   },
   "outputs": [],
   "source": [
    "%mkdir data\n",
    "def write_to_file(imgs, dataset_name):\n",
    "    with open(f\"data/{dataset_name}_abnormsonly.txt\", 'wt') as f:\n",
    "        for img in imgs:\n",
    "            f.write(f\"/kaggle/input/vinbigstratifiedyolo/vinbigstratified/{dataset_name}/{img}.png\\n\")\n",
    "\n",
    "train_imgs = df_train[df_train['class_id'] != 14]['image_id'].unique()\n",
    "val_imgs = df_val[df_val['class_id'] != 14]['image_id'].unique()\n",
    "test_imgs = df_test[df_test['class_id'] != 14]['image_id'].unique()\n",
    "\n",
    "write_to_file(train_imgs, 'train')\n",
    "write_to_file(val_imgs, 'validation')\n",
    "write_to_file(test_imgs, 'test')"
   ]
  },
  {
   "cell_type": "code",
   "execution_count": 7,
   "metadata": {
    "_cell_guid": "eddda111-d5ed-41b8-a660-e9c5eaa653ee",
    "_uuid": "d3210ffd-0961-4801-b81a-ff75cec07e30",
    "execution": {
     "iopub.execute_input": "2021-03-30T10:19:09.813335Z",
     "iopub.status.busy": "2021-03-30T10:19:09.812372Z",
     "iopub.status.idle": "2021-03-30T10:19:09.815444Z",
     "shell.execute_reply": "2021-03-30T10:19:09.814996Z"
    },
    "papermill": {
     "duration": 0.023421,
     "end_time": "2021-03-30T10:19:09.815570",
     "exception": false,
     "start_time": "2021-03-30T10:19:09.792149",
     "status": "completed"
    },
    "tags": []
   },
   "outputs": [],
   "source": [
    "# abnormalities = ['Aortic enlargement', 'Atelectasis', 'Calcification', 'Cardiomegaly', 'Consolidation', 'ILD', 'Infiltration', 'Lung Opacity', 'Nodule/Mass', 'Other lesion', 'Pleural effusion', 'Pleural thickening', 'Pneumothorax', 'Pulmonary fibrosis']\n",
    "\n",
    "# %mkdir data\n",
    "# def write_to_file(imgs, dataset_name, ab_name):\n",
    "#     with open(f\"data/{dataset_name}_{ab_name}.txt\", 'wt') as f:\n",
    "#         for img in imgs:\n",
    "#             f.write(f\"/kaggle/input/mlpyoloall/{dataset_name}/{img}.png\\n\")\n",
    "    \n",
    "# def write_yaml_file(ab):\n",
    "#     with open(f\"data/{ab}.yaml\", 'wt') as f:\n",
    "#         f.write(f\"\"\"train: ../data/train_{ab}.txt\n",
    "# val: ../data/validation_{ab}.txt\n",
    "\n",
    "# nc: 14\n",
    "# names: ['Aortic enlargement', 'Atelectasis', 'Calcification', 'Cardiomegaly', 'Consolidation', 'ILD', 'Infiltration', 'Lung Opacity', 'Nodule/Mass', 'Other lesion', 'Pleural effusion', 'Pleural thickening', 'Pneumothorax', 'Pulmonary fibrosis']\n",
    "# \"\"\")\n",
    "        \n",
    "# for ab in abnormalities:\n",
    "#     train_imgs = df_train[df_train['class_name'] == ab]['image_id'].unique()\n",
    "#     val_imgs = df_val[df_val['class_name'] == ab]['image_id'].unique()\n",
    "#     test_imgs = df_test[df_test['class_name'] == ab]['image_id'].unique()\n",
    "    \n",
    "#     # Write each list to a data spec file\n",
    "#     ab = ab.replace('/', '_').replace(' ', '_')\n",
    "#     write_to_file(train_imgs, 'train', ab)\n",
    "#     write_to_file(val_imgs, 'validation', ab)\n",
    "#     write_to_file(test_imgs, 'test', ab)\n",
    "    \n",
    "#     # Write the data yaml file\n",
    "#     write_yaml_file(ab)"
   ]
  },
  {
   "cell_type": "code",
   "execution_count": 8,
   "metadata": {
    "_cell_guid": "bdfbeaa8-6159-4098-88ed-b5faeb99f6f7",
    "_uuid": "6d8a121a-042e-4fc0-ae8a-626f62b13b66",
    "execution": {
     "iopub.execute_input": "2021-03-30T10:19:09.854017Z",
     "iopub.status.busy": "2021-03-30T10:19:09.853226Z",
     "iopub.status.idle": "2021-03-30T10:19:09.856463Z",
     "shell.execute_reply": "2021-03-30T10:19:09.856031Z"
    },
    "papermill": {
     "duration": 0.024459,
     "end_time": "2021-03-30T10:19:09.856578",
     "exception": false,
     "start_time": "2021-03-30T10:19:09.832119",
     "status": "completed"
    },
    "tags": []
   },
   "outputs": [],
   "source": [
    "with open(f\"data.yaml\", 'wt') as f:\n",
    "        f.write(f\"\"\"train: ../data/train_abnormsonly.txt\n",
    "val: ../data/validation_abnormsonly.txt\n",
    "\n",
    "nc: 14\n",
    "names: ['Aortic enlargement', 'Atelectasis', 'Calcification', 'Cardiomegaly', 'Consolidation', 'ILD', 'Infiltration', 'Lung Opacity', 'Nodule/Mass', 'Other lesion', 'Pleural effusion', 'Pleural thickening', 'Pneumothorax', 'Pulmonary fibrosis']\n",
    "\"\"\")"
   ]
  },
  {
   "cell_type": "code",
   "execution_count": 9,
   "metadata": {
    "_cell_guid": "9cbe0e6a-bffa-411f-9b21-e4143c58409e",
    "_uuid": "07907264-32b0-4e91-b06b-221ced2c6fbe",
    "execution": {
     "iopub.execute_input": "2021-03-30T10:19:09.893678Z",
     "iopub.status.busy": "2021-03-30T10:19:09.892895Z",
     "iopub.status.idle": "2021-03-30T10:19:09.896155Z",
     "shell.execute_reply": "2021-03-30T10:19:09.895631Z"
    },
    "papermill": {
     "duration": 0.0234,
     "end_time": "2021-03-30T10:19:09.896269",
     "exception": false,
     "start_time": "2021-03-30T10:19:09.872869",
     "status": "completed"
    },
    "tags": []
   },
   "outputs": [],
   "source": [
    "with open(\"hypparams.yaml\", 'wt') as f:\n",
    "    f.write(\"\"\"# Hyperparameters for COCO training from scratch\n",
    "# python train.py --batch 40 --cfg yolov5m.yaml --weights '' --data coco.yaml --img 640 --epochs 300\n",
    "# See tutorials for hyperparameter evolution https://github.com/ultralytics/yolov5#tutorials\n",
    "\n",
    "\n",
    "lr0: 0.01  # initial learning rate (SGD=1E-2, Adam=1E-3)\n",
    "momentum: 0.937  # SGD momentum/Adam beta1\n",
    "weight_decay: 0.0005  # optimizer weight decay 5e-4\n",
    "giou: 0.05  # GIoU loss gain\n",
    "cls: 0.5  # cls loss gain\n",
    "cls_pw: 1.0  # cls BCELoss positive_weight\n",
    "obj: 1.0  # obj loss gain (scale with pixels)\n",
    "obj_pw: 1.0  # obj BCELoss positive_weight\n",
    "iou_t: 0.20  # IoU training threshold\n",
    "anchor_t: 4.0  # anchor-multiple threshold\n",
    "fl_gamma: 0.0  # focal loss gamma (efficientDet default gamma=1.5)\n",
    "hsv_h: 0.015  # image HSV-Hue augmentation (fraction)\n",
    "hsv_s: 0.7  # image HSV-Saturation augmentation (fraction)\n",
    "hsv_v: 0.4  # image HSV-Value augmentation (fraction)\n",
    "degrees: 0.0  # image rotation (+/- deg)\n",
    "translate: 0.5  # image translation (+/- fraction)\n",
    "scale: 0.5  # image scale (+/- gain)\n",
    "shear: 0.0  # image shear (+/- deg)\n",
    "perspective: 0.0  # image perspective (+/- fraction), range 0-0.001\n",
    "flipud: 0.0  # image flip up-down (probability)\n",
    "fliplr: 0.5  # image flip left-right (probability)\n",
    "mixup: 0.0  # image mixup (probability)\n",
    "\"\"\")"
   ]
  },
  {
   "cell_type": "code",
   "execution_count": 10,
   "metadata": {
    "_cell_guid": "36f66e78-325d-4d78-b32a-3f7b35c8b4d7",
    "_uuid": "0c0dfdf7-2e7a-4589-aa6e-27a4ca2e6840",
    "execution": {
     "iopub.execute_input": "2021-03-30T10:19:09.933067Z",
     "iopub.status.busy": "2021-03-30T10:19:09.932170Z",
     "iopub.status.idle": "2021-03-30T10:19:09.936855Z",
     "shell.execute_reply": "2021-03-30T10:19:09.937606Z"
    },
    "papermill": {
     "duration": 0.025762,
     "end_time": "2021-03-30T10:19:09.937784",
     "exception": false,
     "start_time": "2021-03-30T10:19:09.912022",
     "status": "completed"
    },
    "tags": []
   },
   "outputs": [
    {
     "name": "stdout",
     "output_type": "stream",
     "text": [
      "/kaggle/working/ScaledYOLOv4\n"
     ]
    }
   ],
   "source": [
    "%cd ScaledYOLOv4/"
   ]
  },
  {
   "cell_type": "code",
   "execution_count": 11,
   "metadata": {
    "_cell_guid": "755ae38b-a024-4a3d-82a6-49f65509dca8",
    "_uuid": "a4d91a85-988f-4344-ae1a-d77abe63a78d",
    "execution": {
     "iopub.execute_input": "2021-03-30T10:19:09.983546Z",
     "iopub.status.busy": "2021-03-30T10:19:09.978668Z",
     "iopub.status.idle": "2021-03-30T11:32:04.447046Z",
     "shell.execute_reply": "2021-03-30T11:32:04.446485Z"
    },
    "papermill": {
     "duration": 4374.491839,
     "end_time": "2021-03-30T11:32:04.447213",
     "exception": false,
     "start_time": "2021-03-30T10:19:09.955374",
     "status": "completed"
    },
    "tags": []
   },
   "outputs": [
    {
     "name": "stdout",
     "output_type": "stream",
     "text": [
      "Resuming training from /kaggle/input/mlpyoloweighted-labels-avg/ScaledYOLOv4/runs/exp0_yolov4-csp-results/weights/last_yolov4-csp-results.pt\r\n",
      "Using CUDA device0 _CudaDeviceProperties(name='Tesla P100-PCIE-16GB', total_memory=16280MB)\r\n",
      "\r\n",
      "Namespace(adam=False, batch_size=16, bucket='', cache_images=True, cfg='./models/yolov4-csp.yaml', data='../data.yaml', device='', epochs=40, evolve=False, filterclass=-1, global_rank=-1, hyp='../hypparams.yaml', img_size=[640, 640], labels='labels_avg', local_rank=-1, logdir='runs/', multi_scale=False, name='yolov4-csp-results', noautoanchor=False, nosave=False, notest=False, onlyclass=-1, rect=False, resume='/kaggle/input/mlpyoloweighted-labels-avg/ScaledYOLOv4/runs/exp0_yolov4-csp-results/weights/last_yolov4-csp-results.pt', single_cls=False, sync_bn=False, total_batch_size=16, useclassweights=True, weights='/kaggle/input/mlpyoloweighted-labels-avg/ScaledYOLOv4/runs/exp0_yolov4-csp-results/weights/last_yolov4-csp-results.pt', world_size=1)\r\n",
      "Start Tensorboard with \"tensorboard --logdir runs/\", view at http://localhost:6006/\r\n",
      "2021-03-30 10:19:14.029833: I tensorflow/stream_executor/platform/default/dso_loader.cc:49] Successfully opened dynamic library libcudart.so.10.2\r\n",
      "Hyperparameters {'lr0': 0.01, 'momentum': 0.937, 'weight_decay': 0.0005, 'giou': 0.05, 'cls': 0.5, 'cls_pw': 1.0, 'obj': 1.0, 'obj_pw': 1.0, 'iou_t': 0.2, 'anchor_t': 4.0, 'fl_gamma': 0.0, 'hsv_h': 0.015, 'hsv_s': 0.7, 'hsv_v': 0.4, 'degrees': 0.0, 'translate': 0.5, 'scale': 0.5, 'shear': 0.0, 'perspective': 0.0, 'flipud': 0.0, 'fliplr': 0.5, 'mixup': 0.0}\r\n",
      "Overriding ./models/yolov4-csp.yaml nc=80 with nc=14\r\n",
      "\r\n",
      "                 from  n    params  module                                  arguments                     \r\n",
      "  0                -1  1       928  models.common.Conv                      [3, 32, 3, 1]                 \r\n",
      "  1                -1  1     18560  models.common.Conv                      [32, 64, 3, 2]                \r\n",
      "  2                -1  1     20672  models.common.Bottleneck                [64, 64]                      \r\n",
      "  3                -1  1     73984  models.common.Conv                      [64, 128, 3, 2]               \r\n",
      "  4                -1  1    119936  models.common.BottleneckCSP             [128, 128, 2]                 \r\n",
      "  5                -1  1    295424  models.common.Conv                      [128, 256, 3, 2]              \r\n",
      "  6                -1  1   1463552  models.common.BottleneckCSP             [256, 256, 8]                 \r\n",
      "  7                -1  1   1180672  models.common.Conv                      [256, 512, 3, 2]              \r\n",
      "  8                -1  1   5843456  models.common.BottleneckCSP             [512, 512, 8]                 \r\n",
      "  9                -1  1   4720640  models.common.Conv                      [512, 1024, 3, 2]             \r\n",
      " 10                -1  1  12858368  models.common.BottleneckCSP             [1024, 1024, 4]               \r\n",
      " 11                -1  1   7610368  models.common.SPPCSP                    [1024, 512, 1]                \r\n",
      " 12                -1  1    131584  models.common.Conv                      [512, 256, 1, 1]              \r\n",
      " 13                -1  1         0  torch.nn.modules.upsampling.Upsample    [None, 2, 'nearest']          \r\n",
      " 14                 8  1    131584  models.common.Conv                      [512, 256, 1, 1]              \r\n",
      " 15          [-1, -2]  1         0  models.common.Concat                    [1]                           \r\n",
      " 16                -1  1   1642496  models.common.BottleneckCSP2            [512, 256, 2]                 \r\n",
      " 17                -1  1     33024  models.common.Conv                      [256, 128, 1, 1]              \r\n",
      " 18                -1  1         0  torch.nn.modules.upsampling.Upsample    [None, 2, 'nearest']          \r\n",
      " 19                 6  1     33024  models.common.Conv                      [256, 128, 1, 1]              \r\n",
      " 20          [-1, -2]  1         0  models.common.Concat                    [1]                           \r\n",
      " 21                -1  1    411648  models.common.BottleneckCSP2            [256, 128, 2]                 \r\n",
      " 22                -1  1    295424  models.common.Conv                      [128, 256, 3, 1]              \r\n",
      " 23                -2  1    295424  models.common.Conv                      [128, 256, 3, 2]              \r\n",
      " 24          [-1, 16]  1         0  models.common.Concat                    [1]                           \r\n",
      " 25                -1  1   1642496  models.common.BottleneckCSP2            [512, 256, 2]                 \r\n",
      " 26                -1  1   1180672  models.common.Conv                      [256, 512, 3, 1]              \r\n",
      " 27                -2  1   1180672  models.common.Conv                      [256, 512, 3, 2]              \r\n",
      " 28          [-1, 11]  1         0  models.common.Concat                    [1]                           \r\n",
      " 29                -1  1   6561792  models.common.BottleneckCSP2            [1024, 512, 2]                \r\n",
      " 30                -1  1   4720640  models.common.Conv                      [512, 1024, 3, 1]             \r\n",
      " 31      [22, 26, 30]  1    102315  models.yolo.Detect                      [14, [[12, 16, 19, 36, 40, 28], [36, 75, 76, 55, 72, 146], [142, 110, 192, 243, 459, 401]], [256, 512, 1024]]\r\n",
      "Model Summary: 334 layers, 5.25694e+07 parameters, 5.25694e+07 gradients\r\n",
      "\r\n",
      "Transferred 658/660 items from /kaggle/input/mlpyoloweighted-labels-avg/ScaledYOLOv4/runs/exp0_yolov4-csp-results/weights/last_yolov4-csp-results.pt\r\n",
      "Optimizer groups: 111 .bias, 115 conv.weight, 108 other\r\n",
      "Scanning images: 100%|██████████████████████| 3485/3485 [01:09<00:00, 50.33it/s]\r\n",
      "Scanning labels /kaggle/working/cache/labels_avg (3485 found, 0 missing, 0 empty\r\n",
      "Caching images (4.3GB): 100%|██████████████| 3485/3485 [00:32<00:00, 106.84it/s]\r\n",
      "Scanning images: 100%|████████████████████████| 460/460 [00:04<00:00, 98.66it/s]\r\n",
      "Scanning labels /kaggle/working/cache/labels_avg (460 found, 0 missing, 0 empty,\r\n",
      "Caching images (0.6GB): 100%|█████████████████| 460/460 [00:04<00:00, 98.74it/s]\r\n",
      "\r\n",
      "Analyzing anchors... anchors/target = 5.01, Best Possible Recall (BPR) = 0.9997\r\n",
      "Image sizes 640 train, 640 test\r\n",
      "Using 2 dataloader workers\r\n",
      "Starting training for 40 epochs...\r\n",
      "\r\n",
      "     Epoch   gpu_mem      GIoU       obj       cls     total   targets  img_size\r\n",
      "     20/39     12.7G   0.05666   0.03812   0.01764    0.1124        72       640\r\n",
      "               Class      Images     Targets           P           R      mAP@.5\r\n",
      "                 all         460    2.33e+03       0.314       0.132        0.17      0.0663\r\n",
      "\r\n",
      "     Epoch   gpu_mem      GIoU       obj       cls     total   targets  img_size\r\n",
      "     21/39     12.7G   0.05419   0.03844   0.01755    0.1102       108       640\r\n",
      "               Class      Images     Targets           P           R      mAP@.5\r\n",
      "                 all         460    2.33e+03       0.396      0.0721      0.0926      0.0333\r\n",
      "\r\n",
      "     Epoch   gpu_mem      GIoU       obj       cls     total   targets  img_size\r\n",
      "     22/39     12.7G   0.05345   0.03754   0.01707    0.1081        78       640\r\n",
      "               Class      Images     Targets           P           R      mAP@.5\r\n",
      "                 all         460    2.33e+03       0.491       0.144       0.171       0.066\r\n",
      "\r\n",
      "     Epoch   gpu_mem      GIoU       obj       cls     total   targets  img_size\r\n",
      "     23/39     12.7G   0.05234   0.03687   0.01665    0.1059        74       640\r\n",
      "               Class      Images     Targets           P           R      mAP@.5\r\n",
      "                 all         460    2.33e+03       0.431       0.223       0.203      0.0828\r\n",
      "\r\n",
      "     Epoch   gpu_mem      GIoU       obj       cls     total   targets  img_size\r\n",
      "     24/39     12.7G   0.05215   0.03701   0.01645    0.1056        90       640\r\n",
      "               Class      Images     Targets           P           R      mAP@.5\r\n",
      "                 all         460    2.33e+03       0.518       0.202        0.21      0.0872\r\n",
      "\r\n",
      "     Epoch   gpu_mem      GIoU       obj       cls     total   targets  img_size\r\n",
      "     25/39     12.7G    0.0516   0.03711   0.01625     0.105        73       640\r\n",
      "               Class      Images     Targets           P           R      mAP@.5\r\n",
      "                 all         460    2.33e+03       0.348       0.309       0.259        0.11\r\n",
      "\r\n",
      "     Epoch   gpu_mem      GIoU       obj       cls     total   targets  img_size\r\n",
      "     26/39     12.7G   0.05092   0.03686   0.01617    0.1039        81       640\r\n",
      "               Class      Images     Targets           P           R      mAP@.5\r\n",
      "                 all         460    2.33e+03       0.364       0.253       0.251       0.105\r\n",
      "\r\n",
      "     Epoch   gpu_mem      GIoU       obj       cls     total   targets  img_size\r\n",
      "     27/39     12.7G   0.05073   0.03652   0.01609    0.1033        72       640\r\n",
      "               Class      Images     Targets           P           R      mAP@.5\r\n",
      "                 all         460    2.33e+03       0.385       0.315       0.275       0.118\r\n",
      "\r\n",
      "     Epoch   gpu_mem      GIoU       obj       cls     total   targets  img_size\r\n",
      "     28/39     12.7G   0.05039    0.0361   0.01558    0.1021        79       640\r\n",
      "               Class      Images     Targets           P           R      mAP@.5\r\n",
      "                 all         460    2.33e+03       0.334       0.152       0.149      0.0569\r\n",
      "\r\n",
      "     Epoch   gpu_mem      GIoU       obj       cls     total   targets  img_size\r\n",
      "     29/39     12.7G   0.05011   0.03625   0.01562     0.102        85       640\r\n",
      "               Class      Images     Targets           P           R      mAP@.5\r\n",
      "                 all         460    2.33e+03       0.391       0.224       0.252       0.104\r\n",
      "\r\n",
      "     Epoch   gpu_mem      GIoU       obj       cls     total   targets  img_size\r\n",
      "     30/39     12.7G    0.0492   0.03632   0.01515    0.1007        68       640\r\n",
      "               Class      Images     Targets           P           R      mAP@.5\r\n",
      "                 all         460    2.33e+03       0.359       0.329       0.291       0.117\r\n",
      "\r\n",
      "     Epoch   gpu_mem      GIoU       obj       cls     total   targets  img_size\r\n",
      "     31/39     12.7G   0.04944   0.03647   0.01562    0.1015        88       640\r\n",
      "               Class      Images     Targets           P           R      mAP@.5\r\n",
      "                 all         460    2.33e+03       0.372       0.285       0.257       0.115\r\n",
      "\r\n",
      "     Epoch   gpu_mem      GIoU       obj       cls     total   targets  img_size\r\n",
      "     32/39     12.7G    0.0486   0.03499   0.01491    0.0985        98       640\r\n",
      "               Class      Images     Targets           P           R      mAP@.5\r\n",
      "                 all         460    2.33e+03       0.369       0.321       0.292       0.127\r\n",
      "\r\n",
      "     Epoch   gpu_mem      GIoU       obj       cls     total   targets  img_size\r\n",
      "     33/39     12.7G   0.04821   0.03494   0.01464    0.0978        99       640\r\n",
      "               Class      Images     Targets           P           R      mAP@.5\r\n",
      "                 all         460    2.33e+03       0.381        0.29       0.257       0.113\r\n",
      "\r\n",
      "     Epoch   gpu_mem      GIoU       obj       cls     total   targets  img_size\r\n",
      "     34/39     12.7G   0.04821   0.03517   0.01518   0.09856        81       640\r\n",
      "               Class      Images     Targets           P           R      mAP@.5\r\n",
      "                 all         460    2.33e+03       0.345       0.368       0.305       0.134\r\n",
      "\r\n",
      "     Epoch   gpu_mem      GIoU       obj       cls     total   targets  img_size\r\n",
      "     35/39     12.7G   0.04808   0.03603   0.01467   0.09878        73       640\r\n",
      "               Class      Images     Targets           P           R      mAP@.5\r\n",
      "                 all         460    2.33e+03       0.353       0.365        0.31       0.137\r\n",
      "\r\n",
      "     Epoch   gpu_mem      GIoU       obj       cls     total   targets  img_size\r\n",
      "     36/39     12.7G   0.04793   0.03482   0.01497   0.09773        89       640\r\n",
      "               Class      Images     Targets           P           R      mAP@.5\r\n",
      "                 all         460    2.33e+03       0.336       0.327       0.299       0.129\r\n",
      "\r\n",
      "     Epoch   gpu_mem      GIoU       obj       cls     total   targets  img_size\r\n",
      "     37/39     12.7G   0.04771   0.03493   0.01454   0.09717       104       640\r\n",
      "               Class      Images     Targets           P           R      mAP@.5\r\n",
      "                 all         460    2.33e+03       0.394         0.2       0.209      0.0853\r\n",
      "\r\n",
      "     Epoch   gpu_mem      GIoU       obj       cls     total   targets  img_size\r\n",
      "     38/39     12.7G   0.04732   0.03473   0.01481   0.09685        91       640\r\n",
      "               Class      Images     Targets           P           R      mAP@.5\r\n",
      "                 all         460    2.33e+03       0.369       0.328       0.297       0.127\r\n",
      "\r\n",
      "     Epoch   gpu_mem      GIoU       obj       cls     total   targets  img_size\r\n",
      "     39/39     12.7G   0.04759   0.03542   0.01486   0.09787        55       640\r\n",
      "               Class      Images     Targets           P           R      mAP@.5\r\n",
      "                 all         460    2.33e+03       0.348       0.348       0.293       0.132\r\n",
      "Optimizer stripped from runs/exp0_yolov4-csp-results/weights/last_yolov4-csp-results.pt, saved as runs/exp0_yolov4-csp-results/weights/last_yolov4-csp-results_strip.pt, 105.6MB\r\n",
      "Optimizer stripped from runs/exp0_yolov4-csp-results/weights/best_yolov4-csp-results.pt, saved as runs/exp0_yolov4-csp-results/weights/best_yolov4-csp-results_strip.pt, 105.6MB\r\n",
      "20 epochs completed in 1.175 hours.\r\n",
      "\r\n"
     ]
    }
   ],
   "source": [
    "!python train.py --useclassweights --resume '/kaggle/input/mlpyoloweighted-labels-avg/ScaledYOLOv4/runs/exp0_yolov4-csp-results/weights/last_yolov4-csp-results.pt' --labels 'labels_avg' --img 640 --batch 16 --epochs 40 --data '../data.yaml' --hyp '../hypparams.yaml' --cfg ./models/yolov4-csp.yaml --weights '' --name yolov4-csp-results --cache"
   ]
  }
 ],
 "metadata": {
  "kernelspec": {
   "display_name": "Python 3",
   "language": "python",
   "name": "python3"
  },
  "language_info": {
   "codemirror_mode": {
    "name": "ipython",
    "version": 3
   },
   "file_extension": ".py",
   "mimetype": "text/x-python",
   "name": "python",
   "nbconvert_exporter": "python",
   "pygments_lexer": "ipython3",
   "version": "3.7.9"
  },
  "papermill": {
   "default_parameters": {},
   "duration": 4440.371252,
   "end_time": "2021-03-30T11:32:07.232886",
   "environment_variables": {},
   "exception": null,
   "input_path": "__notebook__.ipynb",
   "output_path": "__notebook__.ipynb",
   "parameters": {},
   "start_time": "2021-03-30T10:18:06.861634",
   "version": "2.2.2"
  }
 },
 "nbformat": 4,
 "nbformat_minor": 4
}
