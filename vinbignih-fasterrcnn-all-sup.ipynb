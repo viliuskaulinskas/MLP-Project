{
 "cells": [
  {
   "cell_type": "code",
   "execution_count": 1,
   "metadata": {
    "_cell_guid": "b1076dfc-b9ad-4769-8c92-a6c4dae69d19",
    "_uuid": "8f2839f25d086af736a60e9eeb907d3b93b6e0e5",
    "execution": {
     "iopub.execute_input": "2021-03-21T19:57:05.396961Z",
     "iopub.status.busy": "2021-03-21T19:57:05.396090Z",
     "iopub.status.idle": "2021-03-21T19:57:26.880379Z",
     "shell.execute_reply": "2021-03-21T19:57:26.879405Z"
    },
    "papermill": {
     "duration": 21.507435,
     "end_time": "2021-03-21T19:57:26.880635",
     "exception": false,
     "start_time": "2021-03-21T19:57:05.373200",
     "status": "completed"
    },
    "tags": []
   },
   "outputs": [
    {
     "name": "stdout",
     "output_type": "stream",
     "text": [
      "Collecting git+https://github.com/gautamchitnis/cocoapi.git@cocodataset-master#subdirectory=PythonAPI\r\n",
      "  Cloning https://github.com/gautamchitnis/cocoapi.git (to revision cocodataset-master) to /tmp/pip-req-build-rjjn_xup\r\n",
      "  Running command git clone -q https://github.com/gautamchitnis/cocoapi.git /tmp/pip-req-build-rjjn_xup\r\n"
     ]
    },
    {
     "name": "stdout",
     "output_type": "stream",
     "text": [
      "  Running command git checkout -b cocodataset-master --track origin/cocodataset-master\r\n"
     ]
    },
    {
     "name": "stdout",
     "output_type": "stream",
     "text": [
      "  Switched to a new branch 'cocodataset-master'\r\n",
      "  Branch 'cocodataset-master' set up to track remote branch 'cocodataset-master' from 'origin'.\r\n"
     ]
    },
    {
     "name": "stdout",
     "output_type": "stream",
     "text": [
      "Building wheels for collected packages: pycocotools\r\n"
     ]
    },
    {
     "name": "stdout",
     "output_type": "stream",
     "text": [
      "  Building wheel for pycocotools (setup.py) ... \u001b[?25l-"
     ]
    },
    {
     "name": "stdout",
     "output_type": "stream",
     "text": [
      "\b \b\\"
     ]
    },
    {
     "name": "stdout",
     "output_type": "stream",
     "text": [
      "\b \b|"
     ]
    },
    {
     "name": "stdout",
     "output_type": "stream",
     "text": [
      "\b \b/"
     ]
    },
    {
     "name": "stdout",
     "output_type": "stream",
     "text": [
      "\b \b-"
     ]
    },
    {
     "name": "stdout",
     "output_type": "stream",
     "text": [
      "\b \b\\"
     ]
    },
    {
     "name": "stdout",
     "output_type": "stream",
     "text": [
      "\b \bdone\r\n",
      "\u001b[?25h  Created wheel for pycocotools: filename=pycocotools-2.0-cp37-cp37m-linux_x86_64.whl size=272661 sha256=1da8f100c45fc833cfcfdd45cbdb5556f0ad44c071084851cb675e13cc128713\r\n",
      "  Stored in directory: /tmp/pip-ephem-wheel-cache-l1q7ob13/wheels/6e/c9/59/56484d4d5ac1ab292a452b4c3870277256551505954fc4a1db\r\n",
      "Successfully built pycocotools\r\n"
     ]
    },
    {
     "name": "stdout",
     "output_type": "stream",
     "text": [
      "Installing collected packages: pycocotools\r\n"
     ]
    },
    {
     "name": "stdout",
     "output_type": "stream",
     "text": [
      "Successfully installed pycocotools-2.0\r\n"
     ]
    }
   ],
   "source": [
    "# Install prerequisites\n",
    "\n",
    "# Install PyCocoTools needed for FasterRCNN\n",
    "!pip install git+https://github.com/gautamchitnis/cocoapi.git@cocodataset-master#subdirectory=PythonAPI\n",
    "\n",
    "# Copy useful functions from pytorch vision tools\n",
    "%cp ../input/pytorch-vision-tools/references/detection/*.* ."
   ]
  },
  {
   "cell_type": "code",
   "execution_count": 2,
   "metadata": {
    "execution": {
     "iopub.execute_input": "2021-03-21T19:57:26.929744Z",
     "iopub.status.busy": "2021-03-21T19:57:26.928542Z",
     "iopub.status.idle": "2021-03-21T19:57:31.387162Z",
     "shell.execute_reply": "2021-03-21T19:57:31.386429Z"
    },
    "papermill": {
     "duration": 4.48621,
     "end_time": "2021-03-21T19:57:31.387309",
     "exception": false,
     "start_time": "2021-03-21T19:57:26.901099",
     "status": "completed"
    },
    "tags": []
   },
   "outputs": [],
   "source": [
    "# Import required libraries\n",
    "import numpy as np\n",
    "import pandas as pd\n",
    "from torch.utils.data import Dataset, DataLoader, Subset\n",
    "from PIL import Image\n",
    "import torchvision\n",
    "from torchvision import transforms\n",
    "from torchvision.models.detection.faster_rcnn import FastRCNNPredictor\n",
    "from os import path\n",
    "import torch\n",
    "import torchvision.utils\n",
    "import utils\n",
    "from engine import train_one_epoch, evaluate\n",
    "from torch.optim.lr_scheduler import CosineAnnealingLR\n",
    "from torch.optim import Adam\n",
    "import albumentations as A\n",
    "from albumentations.pytorch.transforms import ToTensorV2\n",
    "import pickle\n",
    "import time\n",
    "import matplotlib.pyplot as plt\n",
    "%matplotlib inline"
   ]
  },
  {
   "cell_type": "code",
   "execution_count": 3,
   "metadata": {
    "execution": {
     "iopub.execute_input": "2021-03-21T19:57:31.439629Z",
     "iopub.status.busy": "2021-03-21T19:57:31.437221Z",
     "iopub.status.idle": "2021-03-21T19:57:31.440434Z",
     "shell.execute_reply": "2021-03-21T19:57:31.440993Z"
    },
    "papermill": {
     "duration": 0.035006,
     "end_time": "2021-03-21T19:57:31.441141",
     "exception": false,
     "start_time": "2021-03-21T19:57:31.406135",
     "status": "completed"
    },
    "tags": []
   },
   "outputs": [],
   "source": [
    "# Define a dataset class which defines how to load images,targets for training and validation\n",
    "class VinBigDataset(Dataset):\n",
    "    def __init__(self, img_dir, df, transforms, class_id=None):\n",
    "        self.img_dir = img_dir\n",
    "        if class_id:\n",
    "            df = df[df[\"class_id\"] == class_id]\n",
    "        self.df = df\n",
    "        self.imgs = df[\"image_id\"].unique()\n",
    "        self.transforms = transforms\n",
    "        \n",
    "    def __len__(self):\n",
    "        # Return the number of elements in the dataset\n",
    "        return len(self.imgs)\n",
    "    \n",
    "    def __getitem__(self, idx):\n",
    "        # The dataset iterates over each image id\n",
    "        # Return the requested image,target from the dataset\n",
    "        \n",
    "        # Get the id of the current image\n",
    "        img_id = self.imgs[idx]\n",
    "        \n",
    "        # Get the rows containing annotations for this image\n",
    "        data_rows = self.df[self.df[\"image_id\"] == img_id]\n",
    "        boxes = data_rows[[\"x_min\", \"y_min\", \"x_max\", \"y_max\"]].values\n",
    "        \n",
    "        # Convert into a torch.Tensor\n",
    "        boxes = torch.as_tensor(boxes, dtype=torch.float32)\n",
    "        \n",
    "        # Load the image\n",
    "        img_path = path.join(self.img_dir, f\"{img_id}.png\")\n",
    "        img = Image.open(img_path).convert(\"RGB\")\n",
    "        \n",
    "        # Compute the area of the annotated box\n",
    "        area = (boxes[:, 3] - boxes[:, 1]) * (boxes[:, 2] - boxes[:,0])\n",
    "        \n",
    "        # Suppose all instances are not crowd (?)\n",
    "        num_objs = len(boxes)\n",
    "        iscrowd = torch.zeros((num_objs,), dtype=torch.int64)\n",
    "        \n",
    "        labels = torch.tensor(data_rows[\"class_id\"].values, dtype=torch.int64)\n",
    "        \n",
    "        # Define the target for this training data point\n",
    "        target = {}\n",
    "        target[\"boxes\"] = boxes\n",
    "        target[\"labels\"] = labels\n",
    "        target[\"image_id\"] = torch.tensor([idx])\n",
    "        target[\"area\"] = area\n",
    "        target[\"iscrowd\"] = iscrowd\n",
    "        \n",
    "        if self.transforms is not None:\n",
    "            img = self.transforms(img)\n",
    "        \n",
    "        return img, target"
   ]
  },
  {
   "cell_type": "code",
   "execution_count": 4,
   "metadata": {
    "execution": {
     "iopub.execute_input": "2021-03-21T19:57:31.485545Z",
     "iopub.status.busy": "2021-03-21T19:57:31.483220Z",
     "iopub.status.idle": "2021-03-21T19:57:31.486301Z",
     "shell.execute_reply": "2021-03-21T19:57:31.486891Z"
    },
    "papermill": {
     "duration": 0.027711,
     "end_time": "2021-03-21T19:57:31.487045",
     "exception": false,
     "start_time": "2021-03-21T19:57:31.459334",
     "status": "completed"
    },
    "tags": []
   },
   "outputs": [],
   "source": [
    "# Function to create transforms for preprocessing\n",
    "def create_transforms(train):\n",
    "    if train:\n",
    "        return transforms.Compose([\n",
    "            transforms.ToTensor(),\n",
    "#             transforms.Normalize((0.485, 0.456, 0.406), (0.229, 0.224, 0.225))\n",
    "        ])\n",
    "    else:\n",
    "        return transforms.Compose([\n",
    "            transforms.ToTensor(),\n",
    "#             transforms.Normalize((0.485, 0.456, 0.406), (0.229, 0.224, 0.225))\n",
    "        ])"
   ]
  },
  {
   "cell_type": "code",
   "execution_count": 5,
   "metadata": {
    "execution": {
     "iopub.execute_input": "2021-03-21T19:57:31.529040Z",
     "iopub.status.busy": "2021-03-21T19:57:31.528213Z",
     "iopub.status.idle": "2021-03-21T19:57:31.533256Z",
     "shell.execute_reply": "2021-03-21T19:57:31.532659Z"
    },
    "papermill": {
     "duration": 0.028134,
     "end_time": "2021-03-21T19:57:31.533407",
     "exception": false,
     "start_time": "2021-03-21T19:57:31.505273",
     "status": "completed"
    },
    "tags": []
   },
   "outputs": [],
   "source": [
    "# Function to create an instance of the model\n",
    "def create_model():\n",
    "    # The model has 15 classes (14 abnormalities and no abnormalities)\n",
    "    num_classes = 15\n",
    "    \n",
    "    # Use resnet50 pre-trained on COCO\n",
    "    model = torchvision.models.detection.fasterrcnn_resnet50_fpn(pretrained=True)\n",
    "        \n",
    "    # Fetch the number of input features for the classifier\n",
    "    in_features = model.roi_heads.box_predictor.cls_score.in_features\n",
    "    \n",
    "    # Replace the pre-trained head with a new one\n",
    "    model.roi_heads.box_predictor = FastRCNNPredictor(in_features, num_classes)\n",
    "   \n",
    "    return model"
   ]
  },
  {
   "cell_type": "markdown",
   "metadata": {
    "papermill": {
     "duration": 0.01811,
     "end_time": "2021-03-21T19:57:31.569954",
     "exception": false,
     "start_time": "2021-03-21T19:57:31.551844",
     "status": "completed"
    },
    "tags": []
   },
   "source": [
    "## Training"
   ]
  },
  {
   "cell_type": "code",
   "execution_count": 6,
   "metadata": {
    "execution": {
     "iopub.execute_input": "2021-03-21T19:57:31.617065Z",
     "iopub.status.busy": "2021-03-21T19:57:31.616357Z",
     "iopub.status.idle": "2021-03-21T19:57:31.914525Z",
     "shell.execute_reply": "2021-03-21T19:57:31.915409Z"
    },
    "papermill": {
     "duration": 0.327241,
     "end_time": "2021-03-21T19:57:31.915612",
     "exception": false,
     "start_time": "2021-03-21T19:57:31.588371",
     "status": "completed"
    },
    "tags": []
   },
   "outputs": [
    {
     "name": "stdout",
     "output_type": "stream",
     "text": [
      "11965 images\n",
      "54046 annotations\n"
     ]
    }
   ],
   "source": [
    "# Load the training data csv file\n",
    "data_dir = \"../input/vinbig1024stratified/\"\n",
    "\n",
    "df_train = pd.read_csv(f\"{data_dir}/train.csv\")\n",
    "df_train.fillna(0, inplace=True)\n",
    "df_train.loc[df_train[\"class_id\"] == 14, ['x_max', 'y_max']] = 1.0\n",
    "\n",
    "# FasterRCNN handles class_id==0 as the background.\n",
    "df_train[\"class_id\"] = df_train[\"class_id\"] + 1\n",
    "df_train.loc[df_train[\"class_id\"] == 15, [\"class_id\"]] = 0\n",
    "\n",
    "# Print out the total number of images and the total number of annotations \n",
    "print(f\"{df_train['image_id'].nunique()} images\")\n",
    "print(f\"{len(df_train.index)} annotations\")"
   ]
  },
  {
   "cell_type": "code",
   "execution_count": 7,
   "metadata": {
    "execution": {
     "iopub.execute_input": "2021-03-21T19:57:32.011589Z",
     "iopub.status.busy": "2021-03-21T19:57:32.010584Z",
     "iopub.status.idle": "2021-03-21T19:57:32.025520Z",
     "shell.execute_reply": "2021-03-21T19:57:32.026465Z"
    },
    "papermill": {
     "duration": 0.066743,
     "end_time": "2021-03-21T19:57:32.026740",
     "exception": false,
     "start_time": "2021-03-21T19:57:31.959997",
     "status": "completed"
    },
    "tags": []
   },
   "outputs": [
    {
     "name": "stdout",
     "output_type": "stream",
     "text": [
      "11965 items in the training set\n"
     ]
    }
   ],
   "source": [
    "# Create an instance of the dataset and transformations for training and validation\n",
    "\n",
    "train_img_dir = '../input/vinbig1024stratified/output/dataset/train'\n",
    "# train_img_dir = path.join(data_dir, 'train/train')\n",
    "train_dataset = VinBigDataset(train_img_dir, df_train, create_transforms(train=True))\n",
    "\n",
    "# Create data loaders for the training set. The collate function\n",
    "# defines how to form a minibatch from the indiviaual data items. In our case we\n",
    "# just want to collate them into a single list.\n",
    "\n",
    "data_loader_train = DataLoader(\\\n",
    "    train_dataset, batch_size=5, shuffle=True, num_workers=4, collate_fn=utils.collate_fn)\n",
    "\n",
    "# Print the number of elements in the test and training set\n",
    "print(f\"{len(train_dataset)} items in the training set\")\n"
   ]
  },
  {
   "cell_type": "markdown",
   "metadata": {
    "papermill": {
     "duration": 0.036396,
     "end_time": "2021-03-21T19:57:32.102834",
     "exception": false,
     "start_time": "2021-03-21T19:57:32.066438",
     "status": "completed"
    },
    "tags": []
   },
   "source": [
    "# Validation"
   ]
  },
  {
   "cell_type": "code",
   "execution_count": 8,
   "metadata": {
    "execution": {
     "iopub.execute_input": "2021-03-21T19:57:32.186813Z",
     "iopub.status.busy": "2021-03-21T19:57:32.185880Z",
     "iopub.status.idle": "2021-03-21T19:57:32.236541Z",
     "shell.execute_reply": "2021-03-21T19:57:32.238073Z"
    },
    "papermill": {
     "duration": 0.099324,
     "end_time": "2021-03-21T19:57:32.238348",
     "exception": false,
     "start_time": "2021-03-21T19:57:32.139024",
     "status": "completed"
    },
    "tags": []
   },
   "outputs": [
    {
     "name": "stdout",
     "output_type": "stream",
     "text": [
      "1515 images\n",
      "6867 annotations\n"
     ]
    }
   ],
   "source": [
    "# Load the VALIDATION data csv file\n",
    "data_dir = \"../input/vinbig1024stratified/\"\n",
    "\n",
    "df_val = pd.read_csv(f\"{data_dir}/validation.csv\")\n",
    "df_val.fillna(0, inplace=True)\n",
    "df_val.loc[df_val[\"class_id\"] == 14, ['x_max', 'y_max']] = 1.0\n",
    "\n",
    "# FasterRCNN handles class_id==0 as the background.\n",
    "df_val[\"class_id\"] = df_val[\"class_id\"] + 1\n",
    "df_val.loc[df_val[\"class_id\"] == 15, [\"class_id\"]] = 0\n",
    "\n",
    "# Print out the total number of images and the total number of annotations \n",
    "print(f\"{df_val['image_id'].nunique()} images\")\n",
    "print(f\"{len(df_val.index)} annotations\")"
   ]
  },
  {
   "cell_type": "code",
   "execution_count": 9,
   "metadata": {
    "execution": {
     "iopub.execute_input": "2021-03-21T19:57:32.335244Z",
     "iopub.status.busy": "2021-03-21T19:57:32.334602Z",
     "iopub.status.idle": "2021-03-21T19:57:32.343819Z",
     "shell.execute_reply": "2021-03-21T19:57:32.344771Z"
    },
    "papermill": {
     "duration": 0.071832,
     "end_time": "2021-03-21T19:57:32.345034",
     "exception": false,
     "start_time": "2021-03-21T19:57:32.273202",
     "status": "completed"
    },
    "tags": []
   },
   "outputs": [
    {
     "name": "stdout",
     "output_type": "stream",
     "text": [
      "1515 items in the validation set\n"
     ]
    }
   ],
   "source": [
    "# Create an instance of the dataset and transformations for training and validation\n",
    "\n",
    "val_img_dir = '../input/vinbig1024stratified/output/dataset/validation/'\n",
    "# train_img_dir = path.join(data_dir, 'train/train')\n",
    "val_dataset = VinBigDataset(val_img_dir, df_val, create_transforms(train=False))\n",
    "\n",
    "# Create data loaders for the training set. The collate function\n",
    "# defines how to form a minibatch from the indiviaual data items. In our case we\n",
    "# just want to collate them into a single list.\n",
    "\n",
    "data_loader_val = DataLoader(\\\n",
    "    val_dataset, batch_size=5, shuffle=False, num_workers=4, collate_fn=utils.collate_fn)\n",
    "\n",
    "# Print the number of elements in the test and training set\n",
    "print(f\"{len(val_dataset)} items in the validation set\")"
   ]
  },
  {
   "cell_type": "markdown",
   "metadata": {
    "papermill": {
     "duration": 0.03167,
     "end_time": "2021-03-21T19:57:32.416845",
     "exception": false,
     "start_time": "2021-03-21T19:57:32.385175",
     "status": "completed"
    },
    "tags": []
   },
   "source": [
    "# Run the notebook"
   ]
  },
  {
   "cell_type": "code",
   "execution_count": 10,
   "metadata": {
    "execution": {
     "iopub.execute_input": "2021-03-21T19:57:32.486215Z",
     "iopub.status.busy": "2021-03-21T19:57:32.485061Z",
     "iopub.status.idle": "2021-03-21T19:57:39.549021Z",
     "shell.execute_reply": "2021-03-21T19:57:39.549575Z"
    },
    "papermill": {
     "duration": 7.10189,
     "end_time": "2021-03-21T19:57:39.549776",
     "exception": false,
     "start_time": "2021-03-21T19:57:32.447886",
     "status": "completed"
    },
    "tags": []
   },
   "outputs": [
    {
     "name": "stderr",
     "output_type": "stream",
     "text": [
      "Downloading: \"https://download.pytorch.org/models/fasterrcnn_resnet50_fpn_coco-258fb6c6.pth\" to /root/.cache/torch/hub/checkpoints/fasterrcnn_resnet50_fpn_coco-258fb6c6.pth\n"
     ]
    },
    {
     "data": {
      "application/vnd.jupyter.widget-view+json": {
       "model_id": "2fd9a6f7b6df46c1a8668587ad3952f9",
       "version_major": 2,
       "version_minor": 0
      },
      "text/plain": [
       "  0%|          | 0.00/160M [00:00<?, ?B/s]"
      ]
     },
     "metadata": {},
     "output_type": "display_data"
    }
   ],
   "source": [
    "model = create_model()\n",
    "use_pre_trained = True"
   ]
  },
  {
   "cell_type": "code",
   "execution_count": 11,
   "metadata": {
    "execution": {
     "iopub.execute_input": "2021-03-21T19:57:40.075642Z",
     "iopub.status.busy": "2021-03-21T19:57:39.696439Z"
    },
    "papermill": {
     "duration": null,
     "end_time": null,
     "exception": false,
     "start_time": "2021-03-21T19:57:39.570884",
     "status": "running"
    },
    "tags": []
   },
   "outputs": [
    {
     "name": "stdout",
     "output_type": "stream",
     "text": [
      "Epoch: [0]  [   0/2393]  eta: 2:04:33  lr: 0.000002  loss: 5.0222 (5.0222)  loss_classifier: 2.9089 (2.9089)  loss_box_reg: 0.0390 (0.0390)  loss_objectness: 1.5029 (1.5029)  loss_rpn_box_reg: 0.5714 (0.5714)  time: 3.1232  data: 1.3327  max mem: 3745\n"
     ]
    },
    {
     "name": "stdout",
     "output_type": "stream",
     "text": [
      "Epoch: [0]  [ 100/2393]  eta: 0:26:03  lr: 0.000102  loss: 0.4130 (1.0817)  loss_classifier: 0.2006 (0.5209)  loss_box_reg: 0.1208 (0.0765)  loss_objectness: 0.0547 (0.2775)  loss_rpn_box_reg: 0.0299 (0.2069)  time: 0.6501  data: 0.0344  max mem: 4170\n"
     ]
    },
    {
     "name": "stdout",
     "output_type": "stream",
     "text": [
      "Epoch: [0]  [ 200/2393]  eta: 0:24:31  lr: 0.000202  loss: 0.3095 (0.7159)  loss_classifier: 0.1315 (0.3315)  loss_box_reg: 0.0706 (0.0833)  loss_objectness: 0.0629 (0.1772)  loss_rpn_box_reg: 0.0216 (0.1239)  time: 0.6525  data: 0.0327  max mem: 4170\n"
     ]
    },
    {
     "name": "stdout",
     "output_type": "stream",
     "text": [
      "Epoch: [0]  [ 300/2393]  eta: 0:23:14  lr: 0.000302  loss: 0.4259 (0.6004)  loss_classifier: 0.1852 (0.2738)  loss_box_reg: 0.1312 (0.0902)  loss_objectness: 0.0647 (0.1419)  loss_rpn_box_reg: 0.0244 (0.0945)  time: 0.6536  data: 0.0330  max mem: 4171\n"
     ]
    },
    {
     "name": "stdout",
     "output_type": "stream",
     "text": [
      "Epoch: [0]  [ 400/2393]  eta: 0:22:05  lr: 0.000402  loss: 0.3740 (0.5401)  loss_classifier: 0.1142 (0.2403)  loss_box_reg: 0.1085 (0.0912)  loss_objectness: 0.0675 (0.1214)  loss_rpn_box_reg: 0.0739 (0.0871)  time: 0.6566  data: 0.0339  max mem: 4171\n"
     ]
    },
    {
     "name": "stdout",
     "output_type": "stream",
     "text": [
      "Epoch: [0]  [ 500/2393]  eta: 0:20:57  lr: 0.000501  loss: 0.2109 (0.4965)  loss_classifier: 0.0825 (0.2184)  loss_box_reg: 0.0683 (0.0893)  loss_objectness: 0.0315 (0.1101)  loss_rpn_box_reg: 0.0777 (0.0787)  time: 0.6541  data: 0.0346  max mem: 4171\n"
     ]
    },
    {
     "name": "stdout",
     "output_type": "stream",
     "text": [
      "Epoch: [0]  [ 600/2393]  eta: 0:19:50  lr: 0.000601  loss: 0.2982 (0.4732)  loss_classifier: 0.0994 (0.2040)  loss_box_reg: 0.0650 (0.0882)  loss_objectness: 0.0564 (0.1053)  loss_rpn_box_reg: 0.0419 (0.0757)  time: 0.6557  data: 0.0323  max mem: 4171\n"
     ]
    },
    {
     "name": "stdout",
     "output_type": "stream",
     "text": [
      "Epoch: [0]  [ 700/2393]  eta: 0:18:43  lr: 0.000701  loss: 0.2242 (0.4525)  loss_classifier: 0.1027 (0.1929)  loss_box_reg: 0.0689 (0.0872)  loss_objectness: 0.0410 (0.1005)  loss_rpn_box_reg: 0.0366 (0.0719)  time: 0.6544  data: 0.0326  max mem: 4171\n"
     ]
    },
    {
     "name": "stdout",
     "output_type": "stream",
     "text": [
      "Epoch: [0]  [ 800/2393]  eta: 0:17:37  lr: 0.000801  loss: 0.2481 (0.4416)  loss_classifier: 0.0927 (0.1866)  loss_box_reg: 0.0573 (0.0872)  loss_objectness: 0.0496 (0.0988)  loss_rpn_box_reg: 0.0317 (0.0691)  time: 0.6542  data: 0.0350  max mem: 4171\n"
     ]
    },
    {
     "name": "stdout",
     "output_type": "stream",
     "text": [
      "Epoch: [0]  [ 900/2393]  eta: 0:16:30  lr: 0.000901  loss: 0.3397 (0.4302)  loss_classifier: 0.1179 (0.1811)  loss_box_reg: 0.0839 (0.0868)  loss_objectness: 0.0532 (0.0962)  loss_rpn_box_reg: 0.0709 (0.0662)  time: 0.6540  data: 0.0334  max mem: 4171\n"
     ]
    },
    {
     "name": "stdout",
     "output_type": "stream",
     "text": [
      "Epoch: [0]  [1000/2393]  eta: 0:15:23  lr: 0.001000  loss: 0.2454 (0.4220)  loss_classifier: 0.1105 (0.1756)  loss_box_reg: 0.0603 (0.0854)  loss_objectness: 0.0570 (0.0961)  loss_rpn_box_reg: 0.0278 (0.0649)  time: 0.6581  data: 0.0328  max mem: 4171\n"
     ]
    },
    {
     "name": "stdout",
     "output_type": "stream",
     "text": [
      "Epoch: [0]  [1100/2393]  eta: 0:14:17  lr: 0.001000  loss: 0.2487 (0.4114)  loss_classifier: 0.0935 (0.1704)  loss_box_reg: 0.0619 (0.0836)  loss_objectness: 0.0567 (0.0942)  loss_rpn_box_reg: 0.0296 (0.0632)  time: 0.6550  data: 0.0343  max mem: 4171\n"
     ]
    },
    {
     "name": "stdout",
     "output_type": "stream",
     "text": [
      "Epoch: [0]  [1200/2393]  eta: 0:13:10  lr: 0.001000  loss: 0.3596 (0.4035)  loss_classifier: 0.1205 (0.1672)  loss_box_reg: 0.0807 (0.0831)  loss_objectness: 0.0768 (0.0921)  loss_rpn_box_reg: 0.0392 (0.0611)  time: 0.6535  data: 0.0331  max mem: 4171\n"
     ]
    },
    {
     "name": "stdout",
     "output_type": "stream",
     "text": [
      "Epoch: [0]  [1300/2393]  eta: 0:12:04  lr: 0.001000  loss: 0.3558 (0.3984)  loss_classifier: 0.0911 (0.1643)  loss_box_reg: 0.0604 (0.0823)  loss_objectness: 0.0731 (0.0916)  loss_rpn_box_reg: 0.0488 (0.0602)  time: 0.6580  data: 0.0339  max mem: 4171\n"
     ]
    },
    {
     "name": "stdout",
     "output_type": "stream",
     "text": [
      "Epoch: [0]  [1400/2393]  eta: 0:10:58  lr: 0.001000  loss: 0.3132 (0.3906)  loss_classifier: 0.1004 (0.1603)  loss_box_reg: 0.0652 (0.0815)  loss_objectness: 0.0671 (0.0902)  loss_rpn_box_reg: 0.0575 (0.0587)  time: 0.6535  data: 0.0329  max mem: 4171\n"
     ]
    },
    {
     "name": "stdout",
     "output_type": "stream",
     "text": [
      "Epoch: [0]  [1500/2393]  eta: 0:09:51  lr: 0.001000  loss: 0.2103 (0.3855)  loss_classifier: 0.0668 (0.1579)  loss_box_reg: 0.0542 (0.0810)  loss_objectness: 0.0382 (0.0889)  loss_rpn_box_reg: 0.0269 (0.0578)  time: 0.6556  data: 0.0350  max mem: 4171\n"
     ]
    },
    {
     "name": "stdout",
     "output_type": "stream",
     "text": [
      "Epoch: [0]  [1600/2393]  eta: 0:08:45  lr: 0.001000  loss: 0.2899 (0.3792)  loss_classifier: 0.1230 (0.1554)  loss_box_reg: 0.1052 (0.0808)  loss_objectness: 0.0471 (0.0871)  loss_rpn_box_reg: 0.0197 (0.0559)  time: 0.6560  data: 0.0341  max mem: 4171\n"
     ]
    },
    {
     "name": "stdout",
     "output_type": "stream",
     "text": [
      "Epoch: [0]  [1700/2393]  eta: 0:07:39  lr: 0.001000  loss: 0.2851 (0.3734)  loss_classifier: 0.1049 (0.1534)  loss_box_reg: 0.0741 (0.0806)  loss_objectness: 0.0486 (0.0855)  loss_rpn_box_reg: 0.0153 (0.0539)  time: 0.6547  data: 0.0340  max mem: 4171\n"
     ]
    },
    {
     "name": "stdout",
     "output_type": "stream",
     "text": [
      "Epoch: [0]  [1800/2393]  eta: 0:06:32  lr: 0.001000  loss: 0.2847 (0.3704)  loss_classifier: 0.0961 (0.1524)  loss_box_reg: 0.0642 (0.0808)  loss_objectness: 0.0544 (0.0846)  loss_rpn_box_reg: 0.0210 (0.0526)  time: 0.6551  data: 0.0335  max mem: 4171\n"
     ]
    },
    {
     "name": "stdout",
     "output_type": "stream",
     "text": [
      "Epoch: [0]  [1900/2393]  eta: 0:05:26  lr: 0.001000  loss: 2.8704 (0.4149)  loss_classifier: 0.1490 (0.1511)  loss_box_reg: 0.0482 (0.0795)  loss_objectness: 1.8368 (0.1222)  loss_rpn_box_reg: 0.6412 (0.0621)  time: 0.6483  data: 0.0347  max mem: 4171\n"
     ]
    },
    {
     "name": "stdout",
     "output_type": "stream",
     "text": [
      "Epoch: [0]  [2000/2393]  eta: 0:04:19  lr: 0.001000  loss: 80.6953 (1083.7033)  loss_classifier: 2.3726 (168.2310)  loss_box_reg: 0.0003 (182.2041)  loss_objectness: 33.8750 (572.6377)  loss_rpn_box_reg: 39.6172 (160.6305)  time: 0.5781  data: 0.0343  max mem: 4171\n"
     ]
    },
    {
     "name": "stdout",
     "output_type": "stream",
     "text": [
      "Epoch: [0]  [2100/2393]  eta: 0:03:12  lr: 0.001000  loss: 3.3731 (1032.9322)  loss_classifier: 1.8808 (160.3816)  loss_box_reg: 0.0000 (173.5320)  loss_objectness: 0.5661 (545.7154)  loss_rpn_box_reg: 1.0264 (153.3031)  time: 0.6362  data: 0.0320  max mem: 4171\n"
     ]
    },
    {
     "name": "stdout",
     "output_type": "stream",
     "text": [
      "Epoch: [0]  [2200/2393]  eta: 0:02:06  lr: 0.001000  loss: 3.0237 (986.1815)  loss_classifier: 1.5693 (153.1713)  loss_box_reg: 0.0021 (165.6483)  loss_objectness: 0.5326 (520.9623)  loss_rpn_box_reg: 0.9292 (146.3996)  time: 0.6415  data: 0.0347  max mem: 4171\n"
     ]
    },
    {
     "name": "stdout",
     "output_type": "stream",
     "text": [
      "Epoch: [0]  [2300/2393]  eta: 0:01:01  lr: 0.001000  loss: 2.4897 (943.4405)  loss_classifier: 1.3366 (146.5765)  loss_box_reg: 0.0042 (158.4496)  loss_objectness: 0.4773 (498.3425)  loss_rpn_box_reg: 0.6635 (140.0719)  time: 0.6512  data: 0.0356  max mem: 4171\n"
     ]
    },
    {
     "name": "stdout",
     "output_type": "stream",
     "text": [
      "Epoch: [0]  [2392/2393]  eta: 0:00:00  lr: 0.001000  loss: 2.3778 (907.3327)  loss_classifier: 1.1561 (140.9884)  loss_box_reg: 0.0015 (152.3582)  loss_objectness: 0.3175 (479.2505)  loss_rpn_box_reg: 0.9222 (134.7356)  time: 0.6385  data: 0.0313  max mem: 4171\n",
      "Epoch: [0] Total time: 0:26:13 (0.6575 s / it)\n"
     ]
    },
    {
     "name": "stdout",
     "output_type": "stream",
     "text": [
      "creating index...\n",
      "index created!\n"
     ]
    },
    {
     "name": "stdout",
     "output_type": "stream",
     "text": [
      "Test:  [  0/303]  eta: 0:09:24  model_time: 0.4857 (0.4857)  evaluator_time: 0.0608 (0.0608)  time: 1.8643  data: 1.2740  max mem: 4171\n"
     ]
    },
    {
     "name": "stdout",
     "output_type": "stream",
     "text": [
      "Test:  [100/303]  eta: 0:01:22  model_time: 0.2928 (0.3021)  evaluator_time: 0.0148 (0.0373)  time: 0.3790  data: 0.0357  max mem: 4171\n"
     ]
    },
    {
     "name": "stdout",
     "output_type": "stream",
     "text": [
      "Test:  [200/303]  eta: 0:00:40  model_time: 0.2910 (0.2999)  evaluator_time: 0.0138 (0.0296)  time: 0.3696  data: 0.0368  max mem: 4171\n"
     ]
    },
    {
     "name": "stdout",
     "output_type": "stream",
     "text": [
      "Test:  [300/303]  eta: 0:00:01  model_time: 0.2876 (0.2988)  evaluator_time: 0.0130 (0.0260)  time: 0.3492  data: 0.0315  max mem: 4171\n"
     ]
    },
    {
     "name": "stdout",
     "output_type": "stream",
     "text": [
      "Test:  [302/303]  eta: 0:00:00  model_time: 0.2876 (0.2987)  evaluator_time: 0.0129 (0.0259)  time: 0.3472  data: 0.0316  max mem: 4171\n",
      "Test: Total time: 0:01:55 (0.3824 s / it)\n",
      "Averaged stats: model_time: 0.2876 (0.2987)  evaluator_time: 0.0129 (0.0259)\n",
      "Accumulating evaluation results...\n"
     ]
    },
    {
     "name": "stdout",
     "output_type": "stream",
     "text": [
      "DONE (t=3.15s).\n",
      "IoU metric: bbox\n",
      " Average Precision  (AP) @[ IoU=0.50:0.95 | area=   all | maxDets=100 ] = 0.000\n",
      " Average Precision  (AP) @[ IoU=0.50      | area=   all | maxDets=100 ] = 0.000\n",
      " Average Precision  (AP) @[ IoU=0.75      | area=   all | maxDets=100 ] = 0.000\n",
      " Average Precision  (AP) @[ IoU=0.50:0.95 | area= small | maxDets=100 ] = 0.000\n",
      " Average Precision  (AP) @[ IoU=0.50:0.95 | area=medium | maxDets=100 ] = 0.000\n",
      " Average Precision  (AP) @[ IoU=0.50:0.95 | area= large | maxDets=100 ] = 0.000\n",
      " Average Recall     (AR) @[ IoU=0.50:0.95 | area=   all | maxDets=  1 ] = 0.000\n",
      " Average Recall     (AR) @[ IoU=0.50:0.95 | area=   all | maxDets= 10 ] = 0.000\n",
      " Average Recall     (AR) @[ IoU=0.50:0.95 | area=   all | maxDets=100 ] = 0.000\n",
      " Average Recall     (AR) @[ IoU=0.50:0.95 | area= small | maxDets=100 ] = 0.000\n",
      " Average Recall     (AR) @[ IoU=0.50:0.95 | area=medium | maxDets=100 ] = 0.000\n",
      " Average Recall     (AR) @[ IoU=0.50:0.95 | area= large | maxDets=100 ] = 0.000\n"
     ]
    },
    {
     "name": "stdout",
     "output_type": "stream",
     "text": [
      "Epoch: [1]  [   0/2393]  eta: 1:26:57  lr: 0.000996  loss: 2.1029 (2.1029)  loss_classifier: 1.1413 (1.1413)  loss_box_reg: 0.0123 (0.0123)  loss_objectness: 0.3091 (0.3091)  loss_rpn_box_reg: 0.6402 (0.6402)  time: 2.1805  data: 1.3139  max mem: 4171\n"
     ]
    },
    {
     "name": "stdout",
     "output_type": "stream",
     "text": [
      "Epoch: [1]  [ 100/2393]  eta: 0:26:20  lr: 0.000996  loss: 2.0013 (2.1087)  loss_classifier: 0.9991 (1.0607)  loss_box_reg: 0.0030 (0.0043)  loss_objectness: 0.2594 (0.3441)  loss_rpn_box_reg: 0.6967 (0.6996)  time: 0.6863  data: 0.0365  max mem: 4171\n"
     ]
    },
    {
     "name": "stdout",
     "output_type": "stream",
     "text": [
      "Epoch: [1]  [ 200/2393]  eta: 0:24:58  lr: 0.000996  loss: 1.8068 (2.0163)  loss_classifier: 0.8751 (0.9917)  loss_box_reg: 0.0001 (0.0043)  loss_objectness: 0.3046 (0.3404)  loss_rpn_box_reg: 0.6025 (0.6798)  time: 0.6813  data: 0.0383  max mem: 4171\n"
     ]
    },
    {
     "name": "stdout",
     "output_type": "stream",
     "text": [
      "Epoch: [1]  [ 300/2393]  eta: 0:23:39  lr: 0.000996  loss: 1.8331 (1.9692)  loss_classifier: 0.7557 (0.9291)  loss_box_reg: 0.0000 (0.0034)  loss_objectness: 0.3838 (0.3578)  loss_rpn_box_reg: 0.6997 (0.6789)  time: 0.6771  data: 0.0382  max mem: 4171\n"
     ]
    },
    {
     "name": "stdout",
     "output_type": "stream",
     "text": [
      "Epoch: [1]  [ 400/2393]  eta: 0:22:29  lr: 0.000996  loss: 1.7675 (1.9575)  loss_classifier: 0.6704 (0.8730)  loss_box_reg: 0.0000 (0.0026)  loss_objectness: 0.4908 (0.4064)  loss_rpn_box_reg: 0.5840 (0.6755)  time: 0.6827  data: 0.0361  max mem: 4171\n"
     ]
    },
    {
     "name": "stdout",
     "output_type": "stream",
     "text": [
      "Epoch: [1]  [ 500/2393]  eta: 0:21:21  lr: 0.000996  loss: 1.6885 (1.9147)  loss_classifier: 0.5900 (0.8231)  loss_box_reg: 0.0000 (0.0021)  loss_objectness: 0.4604 (0.4235)  loss_rpn_box_reg: 0.6450 (0.6660)  time: 0.6893  data: 0.0377  max mem: 4171\n"
     ]
    },
    {
     "name": "stdout",
     "output_type": "stream",
     "text": [
      "Epoch: [1]  [ 600/2393]  eta: 0:20:12  lr: 0.000996  loss: 1.5865 (1.8660)  loss_classifier: 0.5272 (0.7780)  loss_box_reg: 0.0000 (0.0018)  loss_objectness: 0.4461 (0.4289)  loss_rpn_box_reg: 0.6171 (0.6573)  time: 0.6867  data: 0.0364  max mem: 4171\n"
     ]
    },
    {
     "name": "stdout",
     "output_type": "stream",
     "text": [
      "Epoch: [1]  [ 700/2393]  eta: 0:19:05  lr: 0.000996  loss: 1.4813 (1.8116)  loss_classifier: 0.4702 (0.7376)  loss_box_reg: 0.0000 (0.0015)  loss_objectness: 0.3974 (0.4280)  loss_rpn_box_reg: 0.5712 (0.6445)  time: 0.6710  data: 0.0327  max mem: 4171\n"
     ]
    },
    {
     "name": "stdout",
     "output_type": "stream",
     "text": [
      "Epoch: [1]  [ 800/2393]  eta: 0:17:58  lr: 0.000996  loss: 1.4364 (1.7677)  loss_classifier: 0.4200 (0.7009)  loss_box_reg: 0.0000 (0.0013)  loss_objectness: 0.4263 (0.4272)  loss_rpn_box_reg: 0.5907 (0.6384)  time: 0.6704  data: 0.0326  max mem: 4171\n"
     ]
    },
    {
     "name": "stdout",
     "output_type": "stream",
     "text": [
      "Epoch: [1]  [ 900/2393]  eta: 0:16:49  lr: 0.000996  loss: 3.7184 (2.5054)  loss_classifier: 0.3784 (0.6679)  loss_box_reg: 0.0000 (0.0013)  loss_objectness: 1.8336 (0.9959)  loss_rpn_box_reg: 0.9123 (0.8402)  time: 0.6564  data: 0.0315  max mem: 4171\n"
     ]
    },
    {
     "name": "stdout",
     "output_type": "stream",
     "text": [
      "Epoch: [1]  [1000/2393]  eta: 0:15:41  lr: 0.000996  loss: 1.2774 (4.6595)  loss_classifier: 0.3452 (0.6664)  loss_box_reg: 0.0000 (0.0015)  loss_objectness: 0.4032 (2.0789)  loss_rpn_box_reg: 0.5433 (1.9127)  time: 0.6755  data: 0.0338  max mem: 4171\n"
     ]
    },
    {
     "name": "stdout",
     "output_type": "stream",
     "text": [
      "Epoch: [1]  [1100/2393]  eta: 0:14:33  lr: 0.000996  loss: 2.1111 (23.2618)  loss_classifier: 0.3127 (0.7686)  loss_box_reg: 0.0000 (0.3284)  loss_objectness: 0.4899 (9.1369)  loss_rpn_box_reg: 1.3215 (13.0279)  time: 0.6696  data: 0.0345  max mem: 4171\n"
     ]
    },
    {
     "name": "stdout",
     "output_type": "stream",
     "text": [
      "Epoch: [1]  [1200/2393]  eta: 0:13:26  lr: 0.000996  loss: 1.2470 (21.5219)  loss_classifier: 0.2868 (0.7297)  loss_box_reg: 0.0000 (0.3010)  loss_objectness: 0.4073 (8.4560)  loss_rpn_box_reg: 0.5516 (12.0351)  time: 0.6769  data: 0.0345  max mem: 4171\n"
     ]
    },
    {
     "name": "stdout",
     "output_type": "stream",
     "text": [
      "Epoch: [1]  [1300/2393]  eta: 0:12:19  lr: 0.000996  loss: 1.1735 (19.9593)  loss_classifier: 0.2654 (0.6950)  loss_box_reg: 0.0000 (0.2779)  loss_objectness: 0.4017 (7.8370)  loss_rpn_box_reg: 0.5139 (11.1494)  time: 0.6739  data: 0.0345  max mem: 4171\n"
     ]
    },
    {
     "name": "stdout",
     "output_type": "stream",
     "text": [
      "Epoch: [1]  [1400/2393]  eta: 0:11:12  lr: 0.000996  loss: 1.0984 (18.6177)  loss_classifier: 0.2394 (0.6635)  loss_box_reg: 0.0000 (0.2581)  loss_objectness: 0.3826 (7.3063)  loss_rpn_box_reg: 0.4752 (10.3897)  time: 0.6755  data: 0.0323  max mem: 4171\n"
     ]
    },
    {
     "name": "stdout",
     "output_type": "stream",
     "text": [
      "Epoch: [1]  [1500/2393]  eta: 0:10:05  lr: 0.000996  loss: 1.0677 (17.4514)  loss_classifier: 0.2262 (0.6348)  loss_box_reg: 0.0000 (0.2409)  loss_objectness: 0.3869 (6.8456)  loss_rpn_box_reg: 0.4551 (9.7301)  time: 0.6664  data: 0.0322  max mem: 4171\n"
     ]
    },
    {
     "name": "stdout",
     "output_type": "stream",
     "text": [
      "Epoch: [1]  [1600/2393]  eta: 0:08:57  lr: 0.000996  loss: 1.0432 (16.4298)  loss_classifier: 0.2163 (0.6090)  loss_box_reg: 0.0000 (0.2258)  loss_objectness: 0.3842 (6.4428)  loss_rpn_box_reg: 0.4377 (9.1522)  time: 0.6668  data: 0.0319  max mem: 4171\n"
     ]
    },
    {
     "name": "stdout",
     "output_type": "stream",
     "text": [
      "Epoch: [1]  [1700/2393]  eta: 0:07:50  lr: 0.000996  loss: 1.0722 (15.5259)  loss_classifier: 0.1902 (0.5851)  loss_box_reg: 0.0000 (0.2126)  loss_objectness: 0.3890 (6.0870)  loss_rpn_box_reg: 0.4901 (8.6412)  time: 0.6956  data: 0.0367  max mem: 4171\n"
     ]
    },
    {
     "name": "stdout",
     "output_type": "stream",
     "text": [
      "Epoch: [1]  [1800/2393]  eta: 0:06:42  lr: 0.000996  loss: 0.9835 (14.7197)  loss_classifier: 0.1754 (0.5630)  loss_box_reg: 0.0000 (0.2008)  loss_objectness: 0.3778 (5.7702)  loss_rpn_box_reg: 0.4282 (8.1858)  time: 0.6824  data: 0.0354  max mem: 4171\n"
     ]
    },
    {
     "name": "stdout",
     "output_type": "stream",
     "text": [
      "Epoch: [1]  [1900/2393]  eta: 0:05:34  lr: 0.000996  loss: 0.9660 (13.9986)  loss_classifier: 0.1688 (0.5427)  loss_box_reg: 0.0000 (0.1902)  loss_objectness: 0.3790 (5.4870)  loss_rpn_box_reg: 0.4176 (7.7787)  time: 0.6881  data: 0.0407  max mem: 4171\n"
     ]
    },
    {
     "name": "stdout",
     "output_type": "stream",
     "text": [
      "Epoch: [1]  [2000/2393]  eta: 0:04:26  lr: 0.000996  loss: 0.9760 (13.3475)  loss_classifier: 0.1599 (0.5239)  loss_box_reg: 0.0000 (0.1807)  loss_objectness: 0.3820 (5.2319)  loss_rpn_box_reg: 0.4496 (7.4110)  time: 0.6836  data: 0.0357  max mem: 4171\n"
     ]
    },
    {
     "name": "stdout",
     "output_type": "stream",
     "text": [
      "Epoch: [1]  [2100/2393]  eta: 0:03:18  lr: 0.000996  loss: 0.9422 (12.7580)  loss_classifier: 0.1564 (0.5065)  loss_box_reg: 0.0000 (0.1721)  loss_objectness: 0.3683 (5.0011)  loss_rpn_box_reg: 0.4184 (7.0783)  time: 0.6765  data: 0.0374  max mem: 4171\n"
     ]
    },
    {
     "name": "stdout",
     "output_type": "stream",
     "text": [
      "Epoch: [1]  [2200/2393]  eta: 0:02:10  lr: 0.000996  loss: 0.9080 (12.2206)  loss_classifier: 0.1419 (0.4902)  loss_box_reg: 0.0000 (0.1643)  loss_objectness: 0.3735 (4.7913)  loss_rpn_box_reg: 0.3808 (6.7748)  time: 0.6780  data: 0.0350  max mem: 4171\n"
     ]
    },
    {
     "name": "stdout",
     "output_type": "stream",
     "text": [
      "Epoch: [1]  [2300/2393]  eta: 0:01:03  lr: 0.000996  loss: 0.8800 (11.7301)  loss_classifier: 0.1272 (0.4749)  loss_box_reg: 0.0000 (0.1571)  loss_objectness: 0.3797 (4.5999)  loss_rpn_box_reg: 0.3643 (6.4982)  time: 0.6760  data: 0.0340  max mem: 4171\n"
     ]
    },
    {
     "name": "stdout",
     "output_type": "stream",
     "text": [
      "Epoch: [1]  [2392/2393]  eta: 0:00:00  lr: 0.000996  loss: 0.8696 (11.3128)  loss_classifier: 0.1293 (0.4617)  loss_box_reg: 0.0000 (0.1511)  loss_objectness: 0.3710 (4.4377)  loss_rpn_box_reg: 0.3693 (6.2624)  time: 0.6692  data: 0.0344  max mem: 4171\n",
      "Epoch: [1] Total time: 0:27:01 (0.6775 s / it)\n"
     ]
    },
    {
     "name": "stdout",
     "output_type": "stream",
     "text": [
      "creating index...\n",
      "index created!\n"
     ]
    },
    {
     "name": "stdout",
     "output_type": "stream",
     "text": [
      "Test:  [  0/303]  eta: 0:09:06  model_time: 0.4780 (0.4780)  evaluator_time: 0.0128 (0.0128)  time: 1.8029  data: 1.2592  max mem: 4171\n"
     ]
    },
    {
     "name": "stdout",
     "output_type": "stream",
     "text": [
      "Test:  [100/303]  eta: 0:01:15  model_time: 0.2683 (0.2768)  evaluator_time: 0.0081 (0.0103)  time: 0.3493  data: 0.0485  max mem: 4171\n"
     ]
    },
    {
     "name": "stdout",
     "output_type": "stream",
     "text": [
      "Test:  [200/303]  eta: 0:00:37  model_time: 0.2684 (0.2744)  evaluator_time: 0.0065 (0.0091)  time: 0.3517  data: 0.0512  max mem: 4171\n"
     ]
    },
    {
     "name": "stdout",
     "output_type": "stream",
     "text": [
      "Test:  [300/303]  eta: 0:00:01  model_time: 0.2685 (0.2738)  evaluator_time: 0.0053 (0.0082)  time: 0.3425  data: 0.0502  max mem: 4171\n"
     ]
    },
    {
     "name": "stdout",
     "output_type": "stream",
     "text": [
      "Test:  [302/303]  eta: 0:00:00  model_time: 0.2685 (0.2737)  evaluator_time: 0.0052 (0.0082)  time: 0.3352  data: 0.0464  max mem: 4171\n",
      "Test: Total time: 0:01:48 (0.3565 s / it)\n",
      "Averaged stats: model_time: 0.2685 (0.2737)  evaluator_time: 0.0052 (0.0082)\n",
      "Accumulating evaluation results...\n"
     ]
    },
    {
     "name": "stdout",
     "output_type": "stream",
     "text": [
      "DONE (t=0.33s).\n",
      "IoU metric: bbox\n",
      " Average Precision  (AP) @[ IoU=0.50:0.95 | area=   all | maxDets=100 ] = 0.000\n",
      " Average Precision  (AP) @[ IoU=0.50      | area=   all | maxDets=100 ] = 0.000\n",
      " Average Precision  (AP) @[ IoU=0.75      | area=   all | maxDets=100 ] = 0.000\n",
      " Average Precision  (AP) @[ IoU=0.50:0.95 | area= small | maxDets=100 ] = 0.000\n",
      " Average Precision  (AP) @[ IoU=0.50:0.95 | area=medium | maxDets=100 ] = 0.000\n",
      " Average Precision  (AP) @[ IoU=0.50:0.95 | area= large | maxDets=100 ] = 0.000\n",
      " Average Recall     (AR) @[ IoU=0.50:0.95 | area=   all | maxDets=  1 ] = 0.000\n",
      " Average Recall     (AR) @[ IoU=0.50:0.95 | area=   all | maxDets= 10 ] = 0.000\n",
      " Average Recall     (AR) @[ IoU=0.50:0.95 | area=   all | maxDets=100 ] = 0.000\n",
      " Average Recall     (AR) @[ IoU=0.50:0.95 | area= small | maxDets=100 ] = 0.000\n",
      " Average Recall     (AR) @[ IoU=0.50:0.95 | area=medium | maxDets=100 ] = 0.000\n",
      " Average Recall     (AR) @[ IoU=0.50:0.95 | area= large | maxDets=100 ] = 0.000\n"
     ]
    },
    {
     "name": "stdout",
     "output_type": "stream",
     "text": [
      "Epoch: [2]  [   0/2393]  eta: 1:23:55  lr: 0.000985  loss: 0.9025 (0.9025)  loss_classifier: 0.1188 (0.1188)  loss_box_reg: 0.0000 (0.0000)  loss_objectness: 0.3803 (0.3803)  loss_rpn_box_reg: 0.4034 (0.4034)  time: 2.1044  data: 1.2979  max mem: 4171\n"
     ]
    },
    {
     "name": "stdout",
     "output_type": "stream",
     "text": [
      "Epoch: [2]  [ 100/2393]  eta: 0:26:33  lr: 0.000985  loss: 0.8147 (0.8537)  loss_classifier: 0.1105 (0.1241)  loss_box_reg: 0.0000 (0.0000)  loss_objectness: 0.3738 (0.3762)  loss_rpn_box_reg: 0.3273 (0.3534)  time: 0.6986  data: 0.0385  max mem: 4171\n"
     ]
    },
    {
     "name": "stdout",
     "output_type": "stream",
     "text": [
      "Epoch: [2]  [ 200/2393]  eta: 0:25:06  lr: 0.000985  loss: 0.7854 (0.8437)  loss_classifier: 0.1107 (0.1210)  loss_box_reg: 0.0000 (0.0000)  loss_objectness: 0.3663 (0.3755)  loss_rpn_box_reg: 0.3143 (0.3472)  time: 0.6840  data: 0.0358  max mem: 4171\n"
     ]
    },
    {
     "name": "stdout",
     "output_type": "stream",
     "text": [
      "Epoch: [2]  [ 300/2393]  eta: 0:23:52  lr: 0.000985  loss: 0.7560 (0.8321)  loss_classifier: 0.0938 (0.1175)  loss_box_reg: 0.0000 (0.0000)  loss_objectness: 0.3757 (0.3751)  loss_rpn_box_reg: 0.2897 (0.3396)  time: 0.6890  data: 0.0376  max mem: 4171\n"
     ]
    },
    {
     "name": "stdout",
     "output_type": "stream",
     "text": [
      "Epoch: [2]  [ 400/2393]  eta: 0:22:40  lr: 0.000985  loss: 0.7280 (0.8238)  loss_classifier: 0.1037 (0.1148)  loss_box_reg: 0.0000 (0.0000)  loss_objectness: 0.3750 (0.3750)  loss_rpn_box_reg: 0.2685 (0.3340)  time: 0.6828  data: 0.0375  max mem: 4171\n"
     ]
    },
    {
     "name": "stdout",
     "output_type": "stream",
     "text": [
      "Epoch: [2]  [ 500/2393]  eta: 0:21:30  lr: 0.000985  loss: 0.6963 (0.8154)  loss_classifier: 0.0888 (0.1122)  loss_box_reg: 0.0000 (0.0000)  loss_objectness: 0.3733 (0.3749)  loss_rpn_box_reg: 0.2447 (0.3284)  time: 0.6833  data: 0.0343  max mem: 4171\n"
     ]
    },
    {
     "name": "stdout",
     "output_type": "stream",
     "text": [
      "Epoch: [2]  [ 600/2393]  eta: 0:20:21  lr: 0.000985  loss: 0.6863 (0.8044)  loss_classifier: 0.0927 (0.1096)  loss_box_reg: 0.0000 (0.0000)  loss_objectness: 0.3725 (0.3749)  loss_rpn_box_reg: 0.2307 (0.3200)  time: 0.6745  data: 0.0332  max mem: 4171\n"
     ]
    },
    {
     "name": "stdout",
     "output_type": "stream",
     "text": [
      "Epoch: [2]  [ 700/2393]  eta: 0:19:12  lr: 0.000985  loss: 0.7356 (0.7967)  loss_classifier: 0.0888 (0.1073)  loss_box_reg: 0.0000 (0.0000)  loss_objectness: 0.3790 (0.3747)  loss_rpn_box_reg: 0.2723 (0.3146)  time: 0.6728  data: 0.0334  max mem: 4171\n"
     ]
    },
    {
     "name": "stdout",
     "output_type": "stream",
     "text": [
      "Epoch: [2]  [ 800/2393]  eta: 0:18:03  lr: 0.000985  loss: 0.6419 (0.7888)  loss_classifier: 0.0749 (0.1053)  loss_box_reg: 0.0000 (0.0000)  loss_objectness: 0.3706 (0.3744)  loss_rpn_box_reg: 0.2109 (0.3091)  time: 0.6805  data: 0.0342  max mem: 4171\n"
     ]
    },
    {
     "name": "stdout",
     "output_type": "stream",
     "text": [
      "Epoch: [2]  [ 900/2393]  eta: 0:16:55  lr: 0.000985  loss: 0.6119 (0.7834)  loss_classifier: 0.0813 (0.1034)  loss_box_reg: 0.0000 (0.0000)  loss_objectness: 0.3611 (0.3746)  loss_rpn_box_reg: 0.1732 (0.3055)  time: 0.6717  data: 0.0324  max mem: 4171\n"
     ]
    },
    {
     "name": "stdout",
     "output_type": "stream",
     "text": [
      "Epoch: [2]  [1000/2393]  eta: 0:15:46  lr: 0.000985  loss: 0.6476 (0.7786)  loss_classifier: 0.0743 (0.1015)  loss_box_reg: 0.0000 (0.0000)  loss_objectness: 0.3628 (0.3748)  loss_rpn_box_reg: 0.2328 (0.3022)  time: 0.6727  data: 0.0323  max mem: 4171\n"
     ]
    },
    {
     "name": "stdout",
     "output_type": "stream",
     "text": [
      "Epoch: [2]  [1100/2393]  eta: 0:14:38  lr: 0.000985  loss: 0.6928 (0.7711)  loss_classifier: 0.0753 (0.0996)  loss_box_reg: 0.0000 (0.0000)  loss_objectness: 0.3730 (0.3746)  loss_rpn_box_reg: 0.2543 (0.2969)  time: 0.6689  data: 0.0313  max mem: 4171\n"
     ]
    },
    {
     "name": "stdout",
     "output_type": "stream",
     "text": [
      "Epoch: [2]  [1200/2393]  eta: 0:13:29  lr: 0.000985  loss: 0.6166 (0.7654)  loss_classifier: 0.0727 (0.0978)  loss_box_reg: 0.0000 (0.0000)  loss_objectness: 0.3727 (0.3746)  loss_rpn_box_reg: 0.1503 (0.2931)  time: 0.6684  data: 0.0314  max mem: 4171\n"
     ]
    },
    {
     "name": "stdout",
     "output_type": "stream",
     "text": [
      "Epoch: [2]  [1300/2393]  eta: 0:12:21  lr: 0.000985  loss: 0.6064 (0.7571)  loss_classifier: 0.0654 (0.0961)  loss_box_reg: 0.0000 (0.0000)  loss_objectness: 0.3600 (0.3740)  loss_rpn_box_reg: 0.1750 (0.2870)  time: 0.6675  data: 0.0316  max mem: 4171\n"
     ]
    },
    {
     "name": "stdout",
     "output_type": "stream",
     "text": [
      "Epoch: [2]  [1400/2393]  eta: 0:11:13  lr: 0.000985  loss: 0.5996 (0.7503)  loss_classifier: 0.0699 (0.0943)  loss_box_reg: 0.0000 (0.0000)  loss_objectness: 0.3694 (0.3739)  loss_rpn_box_reg: 0.1686 (0.2820)  time: 0.6733  data: 0.0342  max mem: 4171\n"
     ]
    },
    {
     "name": "stdout",
     "output_type": "stream",
     "text": [
      "Epoch: [2]  [1500/2393]  eta: 0:10:05  lr: 0.000985  loss: 0.6006 (0.7478)  loss_classifier: 0.0652 (0.0930)  loss_box_reg: 0.0000 (0.0000)  loss_objectness: 0.3688 (0.3747)  loss_rpn_box_reg: 0.1796 (0.2801)  time: 0.6722  data: 0.0334  max mem: 4171\n"
     ]
    },
    {
     "name": "stdout",
     "output_type": "stream",
     "text": [
      "Epoch: [2]  [1600/2393]  eta: 0:08:57  lr: 0.000985  loss: 0.5896 (0.7432)  loss_classifier: 0.0656 (0.0915)  loss_box_reg: 0.0000 (0.0000)  loss_objectness: 0.3660 (0.3749)  loss_rpn_box_reg: 0.1543 (0.2768)  time: 0.6692  data: 0.0323  max mem: 4171\n"
     ]
    },
    {
     "name": "stdout",
     "output_type": "stream",
     "text": [
      "Epoch: [2]  [1700/2393]  eta: 0:07:49  lr: 0.000985  loss: 0.6136 (0.7386)  loss_classifier: 0.0734 (0.0902)  loss_box_reg: 0.0000 (0.0000)  loss_objectness: 0.3687 (0.3750)  loss_rpn_box_reg: 0.2236 (0.2734)  time: 0.6696  data: 0.0316  max mem: 4171\n"
     ]
    },
    {
     "name": "stdout",
     "output_type": "stream",
     "text": [
      "Epoch: [2]  [1800/2393]  eta: 0:06:41  lr: 0.000985  loss: 0.5630 (0.7319)  loss_classifier: 0.0575 (0.0886)  loss_box_reg: 0.0000 (0.0000)  loss_objectness: 0.3710 (0.3749)  loss_rpn_box_reg: 0.1471 (0.2684)  time: 0.6762  data: 0.0351  max mem: 4171\n"
     ]
    },
    {
     "name": "stdout",
     "output_type": "stream",
     "text": [
      "Epoch: [2]  [1900/2393]  eta: 0:05:33  lr: 0.000985  loss: 0.5459 (0.7289)  loss_classifier: 0.0542 (0.0873)  loss_box_reg: 0.0000 (0.0000)  loss_objectness: 0.3645 (0.3750)  loss_rpn_box_reg: 0.1403 (0.2666)  time: 0.6783  data: 0.0357  max mem: 4171\n"
     ]
    },
    {
     "name": "stdout",
     "output_type": "stream",
     "text": [
      "Epoch: [2]  [2000/2393]  eta: 0:04:25  lr: 0.000985  loss: 0.6070 (0.7262)  loss_classifier: 0.0726 (0.0862)  loss_box_reg: 0.0000 (0.0000)  loss_objectness: 0.3684 (0.3752)  loss_rpn_box_reg: 0.1955 (0.2648)  time: 0.6836  data: 0.0377  max mem: 4171\n"
     ]
    },
    {
     "name": "stdout",
     "output_type": "stream",
     "text": [
      "Epoch: [2]  [2100/2393]  eta: 0:03:18  lr: 0.000985  loss: 0.6176 (0.7221)  loss_classifier: 0.0575 (0.0849)  loss_box_reg: 0.0000 (0.0000)  loss_objectness: 0.3659 (0.3751)  loss_rpn_box_reg: 0.1834 (0.2621)  time: 0.6788  data: 0.0342  max mem: 4171\n"
     ]
    },
    {
     "name": "stdout",
     "output_type": "stream",
     "text": [
      "Epoch: [2]  [2200/2393]  eta: 0:02:10  lr: 0.000985  loss: 0.5417 (0.7193)  loss_classifier: 0.0569 (0.0838)  loss_box_reg: 0.0000 (0.0000)  loss_objectness: 0.3721 (0.3754)  loss_rpn_box_reg: 0.1251 (0.2601)  time: 0.6815  data: 0.0340  max mem: 4171\n"
     ]
    },
    {
     "name": "stdout",
     "output_type": "stream",
     "text": [
      "Epoch: [2]  [2300/2393]  eta: 0:01:02  lr: 0.000985  loss: 0.5929 (0.7154)  loss_classifier: 0.0532 (0.0827)  loss_box_reg: 0.0000 (0.0000)  loss_objectness: 0.3668 (0.3752)  loss_rpn_box_reg: 0.1835 (0.2576)  time: 0.6706  data: 0.0337  max mem: 4171\n"
     ]
    },
    {
     "name": "stdout",
     "output_type": "stream",
     "text": [
      "Epoch: [2]  [2392/2393]  eta: 0:00:00  lr: 0.000985  loss: 0.5422 (0.7114)  loss_classifier: 0.0541 (0.0817)  loss_box_reg: 0.0000 (0.0000)  loss_objectness: 0.3577 (0.3749)  loss_rpn_box_reg: 0.1338 (0.2548)  time: 0.6544  data: 0.0328  max mem: 4171\n",
      "Epoch: [2] Total time: 0:26:57 (0.6759 s / it)\n"
     ]
    },
    {
     "name": "stdout",
     "output_type": "stream",
     "text": [
      "creating index...\n",
      "index created!\n"
     ]
    },
    {
     "name": "stdout",
     "output_type": "stream",
     "text": [
      "Test:  [  0/303]  eta: 0:07:31  model_time: 0.3986 (0.3986)  evaluator_time: 0.0461 (0.0461)  time: 1.4888  data: 0.9750  max mem: 4171\n"
     ]
    },
    {
     "name": "stdout",
     "output_type": "stream",
     "text": [
      "Test:  [100/303]  eta: 0:01:11  model_time: 0.2683 (0.2722)  evaluator_time: 0.0077 (0.0098)  time: 0.3234  data: 0.0322  max mem: 4171\n"
     ]
    },
    {
     "name": "stdout",
     "output_type": "stream",
     "text": [
      "Test:  [200/303]  eta: 0:00:35  model_time: 0.2673 (0.2713)  evaluator_time: 0.0056 (0.0085)  time: 0.3229  data: 0.0339  max mem: 4171\n"
     ]
    },
    {
     "name": "stdout",
     "output_type": "stream",
     "text": [
      "Test:  [300/303]  eta: 0:00:01  model_time: 0.2660 (0.2709)  evaluator_time: 0.0049 (0.0077)  time: 0.3144  data: 0.0332  max mem: 4171\n"
     ]
    },
    {
     "name": "stdout",
     "output_type": "stream",
     "text": [
      "Test:  [302/303]  eta: 0:00:00  model_time: 0.2660 (0.2708)  evaluator_time: 0.0047 (0.0076)  time: 0.3129  data: 0.0329  max mem: 4171\n",
      "Test: Total time: 0:01:43 (0.3412 s / it)\n",
      "Averaged stats: model_time: 0.2660 (0.2708)  evaluator_time: 0.0047 (0.0076)\n",
      "Accumulating evaluation results...\n"
     ]
    },
    {
     "name": "stdout",
     "output_type": "stream",
     "text": [
      "DONE (t=0.44s).\n",
      "IoU metric: bbox\n",
      " Average Precision  (AP) @[ IoU=0.50:0.95 | area=   all | maxDets=100 ] = 0.000\n",
      " Average Precision  (AP) @[ IoU=0.50      | area=   all | maxDets=100 ] = 0.000\n",
      " Average Precision  (AP) @[ IoU=0.75      | area=   all | maxDets=100 ] = 0.000\n",
      " Average Precision  (AP) @[ IoU=0.50:0.95 | area= small | maxDets=100 ] = 0.000\n",
      " Average Precision  (AP) @[ IoU=0.50:0.95 | area=medium | maxDets=100 ] = 0.000\n",
      " Average Precision  (AP) @[ IoU=0.50:0.95 | area= large | maxDets=100 ] = 0.000\n",
      " Average Recall     (AR) @[ IoU=0.50:0.95 | area=   all | maxDets=  1 ] = 0.000\n",
      " Average Recall     (AR) @[ IoU=0.50:0.95 | area=   all | maxDets= 10 ] = 0.000\n",
      " Average Recall     (AR) @[ IoU=0.50:0.95 | area=   all | maxDets=100 ] = 0.000\n",
      " Average Recall     (AR) @[ IoU=0.50:0.95 | area= small | maxDets=100 ] = 0.000\n",
      " Average Recall     (AR) @[ IoU=0.50:0.95 | area=medium | maxDets=100 ] = 0.000\n",
      " Average Recall     (AR) @[ IoU=0.50:0.95 | area= large | maxDets=100 ] = 0.000\n"
     ]
    },
    {
     "name": "stdout",
     "output_type": "stream",
     "text": [
      "Epoch: [3]  [   0/2393]  eta: 1:33:26  lr: 0.000966  loss: 0.5249 (0.5249)  loss_classifier: 0.0726 (0.0726)  loss_box_reg: 0.0000 (0.0000)  loss_objectness: 0.3049 (0.3049)  loss_rpn_box_reg: 0.1475 (0.1475)  time: 2.3429  data: 1.2267  max mem: 4171\n"
     ]
    },
    {
     "name": "stdout",
     "output_type": "stream",
     "text": [
      "Epoch: [3]  [ 100/2393]  eta: 0:26:29  lr: 0.000966  loss: 0.4938 (0.6802)  loss_classifier: 0.0435 (0.0596)  loss_box_reg: 0.0000 (0.0000)  loss_objectness: 0.3631 (0.3828)  loss_rpn_box_reg: 0.0828 (0.2379)  time: 0.6827  data: 0.0362  max mem: 4171\n"
     ]
    },
    {
     "name": "stdout",
     "output_type": "stream",
     "text": [
      "Epoch: [3]  [ 200/2393]  eta: 0:24:59  lr: 0.000966  loss: 0.5733 (0.6462)  loss_classifier: 0.0467 (0.0564)  loss_box_reg: 0.0000 (0.0000)  loss_objectness: 0.3683 (0.3768)  loss_rpn_box_reg: 0.1804 (0.2130)  time: 0.6846  data: 0.0378  max mem: 4171\n"
     ]
    },
    {
     "name": "stdout",
     "output_type": "stream",
     "text": [
      "Epoch: [3]  [ 300/2393]  eta: 0:23:44  lr: 0.000966  loss: 0.4973 (0.6399)  loss_classifier: 0.0409 (0.0556)  loss_box_reg: 0.0000 (0.0000)  loss_objectness: 0.3666 (0.3747)  loss_rpn_box_reg: 0.1129 (0.2097)  time: 0.6796  data: 0.0347  max mem: 4171\n"
     ]
    },
    {
     "name": "stdout",
     "output_type": "stream",
     "text": [
      "Epoch: [3]  [ 400/2393]  eta: 0:22:32  lr: 0.000966  loss: 0.5685 (0.6340)  loss_classifier: 0.0500 (0.0549)  loss_box_reg: 0.0000 (0.0000)  loss_objectness: 0.3672 (0.3739)  loss_rpn_box_reg: 0.1785 (0.2053)  time: 0.6807  data: 0.0382  max mem: 4171\n"
     ]
    },
    {
     "name": "stdout",
     "output_type": "stream",
     "text": [
      "Epoch: [3]  [ 500/2393]  eta: 0:21:23  lr: 0.000966  loss: 0.5791 (0.6219)  loss_classifier: 0.0535 (0.0536)  loss_box_reg: 0.0000 (0.0000)  loss_objectness: 0.3667 (0.3720)  loss_rpn_box_reg: 0.1693 (0.1962)  time: 0.6859  data: 0.0359  max mem: 4171\n"
     ]
    },
    {
     "name": "stdout",
     "output_type": "stream",
     "text": [
      "Epoch: [3]  [ 600/2393]  eta: 0:20:14  lr: 0.000966  loss: 0.5792 (0.6271)  loss_classifier: 0.0481 (0.0536)  loss_box_reg: 0.0000 (0.0000)  loss_objectness: 0.3815 (0.3735)  loss_rpn_box_reg: 0.1488 (0.2000)  time: 0.6853  data: 0.0346  max mem: 4171\n"
     ]
    },
    {
     "name": "stdout",
     "output_type": "stream",
     "text": [
      "Epoch: [3]  [ 700/2393]  eta: 0:19:06  lr: 0.000966  loss: 0.5602 (0.6203)  loss_classifier: 0.0405 (0.0528)  loss_box_reg: 0.0000 (0.0000)  loss_objectness: 0.3686 (0.3729)  loss_rpn_box_reg: 0.1633 (0.1946)  time: 0.6880  data: 0.0387  max mem: 4171\n"
     ]
    },
    {
     "name": "stdout",
     "output_type": "stream",
     "text": [
      "Epoch: [3]  [ 800/2393]  eta: 0:17:58  lr: 0.000966  loss: 0.6032 (0.6181)  loss_classifier: 0.0576 (0.0522)  loss_box_reg: 0.0000 (0.0000)  loss_objectness: 0.3649 (0.3725)  loss_rpn_box_reg: 0.2011 (0.1934)  time: 0.6682  data: 0.0343  max mem: 4171\n"
     ]
    },
    {
     "name": "stdout",
     "output_type": "stream",
     "text": [
      "Epoch: [3]  [ 900/2393]  eta: 0:16:49  lr: 0.000966  loss: 0.5457 (0.6188)  loss_classifier: 0.0464 (0.0522)  loss_box_reg: 0.0000 (0.0000)  loss_objectness: 0.3585 (0.3729)  loss_rpn_box_reg: 0.1363 (0.1938)  time: 0.6641  data: 0.0310  max mem: 4171\n"
     ]
    },
    {
     "name": "stdout",
     "output_type": "stream",
     "text": [
      "Epoch: [3]  [1000/2393]  eta: 0:15:40  lr: 0.000966  loss: 0.5292 (0.6194)  loss_classifier: 0.0429 (0.0519)  loss_box_reg: 0.0000 (0.0000)  loss_objectness: 0.3440 (0.3729)  loss_rpn_box_reg: 0.1543 (0.1946)  time: 0.6679  data: 0.0327  max mem: 4171\n"
     ]
    },
    {
     "name": "stdout",
     "output_type": "stream",
     "text": [
      "Epoch: [3]  [1100/2393]  eta: 0:14:32  lr: 0.000966  loss: 0.5763 (0.6209)  loss_classifier: 0.0509 (0.0518)  loss_box_reg: 0.0000 (0.0000)  loss_objectness: 0.3703 (0.3734)  loss_rpn_box_reg: 0.1300 (0.1957)  time: 0.6667  data: 0.0333  max mem: 4171\n"
     ]
    },
    {
     "name": "stdout",
     "output_type": "stream",
     "text": [
      "Epoch: [3]  [1200/2393]  eta: 0:13:24  lr: 0.000966  loss: 0.5385 (0.6198)  loss_classifier: 0.0391 (0.0512)  loss_box_reg: 0.0000 (0.0000)  loss_objectness: 0.3651 (0.3732)  loss_rpn_box_reg: 0.1527 (0.1954)  time: 0.6644  data: 0.0321  max mem: 4171\n"
     ]
    },
    {
     "name": "stdout",
     "output_type": "stream",
     "text": [
      "Epoch: [3]  [1300/2393]  eta: 0:12:17  lr: 0.000966  loss: 0.5632 (0.6203)  loss_classifier: 0.0342 (0.0511)  loss_box_reg: 0.0000 (0.0000)  loss_objectness: 0.3584 (0.3732)  loss_rpn_box_reg: 0.1350 (0.1959)  time: 0.6617  data: 0.0317  max mem: 4171\n"
     ]
    },
    {
     "name": "stdout",
     "output_type": "stream",
     "text": [
      "Epoch: [3]  [1400/2393]  eta: 0:11:09  lr: 0.000966  loss: 0.4962 (0.6183)  loss_classifier: 0.0382 (0.0507)  loss_box_reg: 0.0000 (0.0000)  loss_objectness: 0.3678 (0.3731)  loss_rpn_box_reg: 0.1004 (0.1945)  time: 0.6720  data: 0.0325  max mem: 4171\n"
     ]
    },
    {
     "name": "stdout",
     "output_type": "stream",
     "text": [
      "Epoch: [3]  [1500/2393]  eta: 0:10:02  lr: 0.000966  loss: 0.5031 (0.6165)  loss_classifier: 0.0353 (0.0503)  loss_box_reg: 0.0000 (0.0000)  loss_objectness: 0.3597 (0.3729)  loss_rpn_box_reg: 0.1323 (0.1933)  time: 0.6712  data: 0.0342  max mem: 4171\n"
     ]
    },
    {
     "name": "stdout",
     "output_type": "stream",
     "text": [
      "Epoch: [3]  [1600/2393]  eta: 0:08:54  lr: 0.000966  loss: 0.5801 (0.6148)  loss_classifier: 0.0348 (0.0497)  loss_box_reg: 0.0000 (0.0000)  loss_objectness: 0.3590 (0.3729)  loss_rpn_box_reg: 0.1882 (0.1922)  time: 0.6743  data: 0.0349  max mem: 4171\n"
     ]
    },
    {
     "name": "stdout",
     "output_type": "stream",
     "text": [
      "Epoch: [3]  [1700/2393]  eta: 0:07:47  lr: 0.000966  loss: 0.6897 (0.6160)  loss_classifier: 0.0447 (0.0496)  loss_box_reg: 0.0000 (0.0000)  loss_objectness: 0.3692 (0.3731)  loss_rpn_box_reg: 0.2368 (0.1932)  time: 0.6702  data: 0.0333  max mem: 4171\n"
     ]
    },
    {
     "name": "stdout",
     "output_type": "stream",
     "text": [
      "Epoch: [3]  [1800/2393]  eta: 0:06:39  lr: 0.000966  loss: 0.6374 (0.6167)  loss_classifier: 0.0447 (0.0494)  loss_box_reg: 0.0000 (0.0000)  loss_objectness: 0.3671 (0.3733)  loss_rpn_box_reg: 0.2139 (0.1940)  time: 0.6719  data: 0.0332  max mem: 4171\n"
     ]
    },
    {
     "name": "stdout",
     "output_type": "stream",
     "text": [
      "Epoch: [3]  [1900/2393]  eta: 0:05:32  lr: 0.000966  loss: 0.5251 (0.6163)  loss_classifier: 0.0335 (0.0491)  loss_box_reg: 0.0000 (0.0000)  loss_objectness: 0.3563 (0.3732)  loss_rpn_box_reg: 0.1318 (0.1940)  time: 0.6733  data: 0.0352  max mem: 4171\n"
     ]
    },
    {
     "name": "stdout",
     "output_type": "stream",
     "text": [
      "Epoch: [3]  [2000/2393]  eta: 0:04:24  lr: 0.000966  loss: 0.5468 (0.6145)  loss_classifier: 0.0436 (0.0486)  loss_box_reg: 0.0000 (0.0000)  loss_objectness: 0.3641 (0.3730)  loss_rpn_box_reg: 0.1551 (0.1929)  time: 0.6809  data: 0.0358  max mem: 4171\n"
     ]
    },
    {
     "name": "stdout",
     "output_type": "stream",
     "text": [
      "Epoch: [3]  [2100/2393]  eta: 0:03:17  lr: 0.000966  loss: 0.5678 (0.6150)  loss_classifier: 0.0469 (0.0486)  loss_box_reg: 0.0000 (0.0000)  loss_objectness: 0.3606 (0.3729)  loss_rpn_box_reg: 0.1581 (0.1935)  time: 0.6803  data: 0.0340  max mem: 4171\n"
     ]
    },
    {
     "name": "stdout",
     "output_type": "stream",
     "text": [
      "Epoch: [3]  [2200/2393]  eta: 0:02:10  lr: 0.000966  loss: 0.5136 (0.6151)  loss_classifier: 0.0325 (0.0483)  loss_box_reg: 0.0000 (0.0000)  loss_objectness: 0.3679 (0.3732)  loss_rpn_box_reg: 0.1293 (0.1937)  time: 0.6806  data: 0.0354  max mem: 4171\n"
     ]
    },
    {
     "name": "stdout",
     "output_type": "stream",
     "text": [
      "Epoch: [3]  [2300/2393]  eta: 0:01:02  lr: 0.000966  loss: 0.5168 (0.6150)  loss_classifier: 0.0271 (0.0481)  loss_box_reg: 0.0000 (0.0000)  loss_objectness: 0.3657 (0.3734)  loss_rpn_box_reg: 0.1129 (0.1935)  time: 0.6841  data: 0.0372  max mem: 4171\n"
     ]
    },
    {
     "name": "stdout",
     "output_type": "stream",
     "text": [
      "Epoch: [3]  [2392/2393]  eta: 0:00:00  lr: 0.000966  loss: 0.5370 (0.6151)  loss_classifier: 0.0351 (0.0478)  loss_box_reg: 0.0000 (0.0000)  loss_objectness: 0.3673 (0.3733)  loss_rpn_box_reg: 0.1377 (0.1939)  time: 0.6612  data: 0.0345  max mem: 4171\n",
      "Epoch: [3] Total time: 0:26:52 (0.6740 s / it)\n"
     ]
    },
    {
     "name": "stdout",
     "output_type": "stream",
     "text": [
      "creating index...\n",
      "index created!\n"
     ]
    },
    {
     "name": "stdout",
     "output_type": "stream",
     "text": [
      "Test:  [  0/303]  eta: 0:07:33  model_time: 0.3860 (0.3860)  evaluator_time: 0.0360 (0.0360)  time: 1.4951  data: 1.0273  max mem: 4171\n"
     ]
    },
    {
     "name": "stdout",
     "output_type": "stream",
     "text": [
      "Test:  [100/303]  eta: 0:01:13  model_time: 0.2687 (0.2747)  evaluator_time: 0.0077 (0.0102)  time: 0.3547  data: 0.0565  max mem: 4171\n"
     ]
    },
    {
     "name": "stdout",
     "output_type": "stream",
     "text": [
      "Test:  [200/303]  eta: 0:00:35  model_time: 0.2669 (0.2727)  evaluator_time: 0.0067 (0.0089)  time: 0.3351  data: 0.0381  max mem: 4171\n"
     ]
    },
    {
     "name": "stdout",
     "output_type": "stream",
     "text": [
      "Test:  [300/303]  eta: 0:00:01  model_time: 0.2678 (0.2720)  evaluator_time: 0.0051 (0.0080)  time: 0.3275  data: 0.0391  max mem: 4171\n"
     ]
    },
    {
     "name": "stdout",
     "output_type": "stream",
     "text": [
      "Test:  [302/303]  eta: 0:00:00  model_time: 0.2663 (0.2719)  evaluator_time: 0.0048 (0.0080)  time: 0.3260  data: 0.0389  max mem: 4171\n",
      "Test: Total time: 0:01:44 (0.3458 s / it)\n",
      "Averaged stats: model_time: 0.2663 (0.2719)  evaluator_time: 0.0048 (0.0080)\n",
      "Accumulating evaluation results...\n"
     ]
    },
    {
     "name": "stdout",
     "output_type": "stream",
     "text": [
      "DONE (t=0.31s).\n",
      "IoU metric: bbox\n",
      " Average Precision  (AP) @[ IoU=0.50:0.95 | area=   all | maxDets=100 ] = 0.000\n",
      " Average Precision  (AP) @[ IoU=0.50      | area=   all | maxDets=100 ] = 0.000\n",
      " Average Precision  (AP) @[ IoU=0.75      | area=   all | maxDets=100 ] = 0.000\n",
      " Average Precision  (AP) @[ IoU=0.50:0.95 | area= small | maxDets=100 ] = 0.000\n",
      " Average Precision  (AP) @[ IoU=0.50:0.95 | area=medium | maxDets=100 ] = 0.000\n",
      " Average Precision  (AP) @[ IoU=0.50:0.95 | area= large | maxDets=100 ] = 0.000\n",
      " Average Recall     (AR) @[ IoU=0.50:0.95 | area=   all | maxDets=  1 ] = 0.000\n",
      " Average Recall     (AR) @[ IoU=0.50:0.95 | area=   all | maxDets= 10 ] = 0.000\n",
      " Average Recall     (AR) @[ IoU=0.50:0.95 | area=   all | maxDets=100 ] = 0.000\n",
      " Average Recall     (AR) @[ IoU=0.50:0.95 | area= small | maxDets=100 ] = 0.000\n",
      " Average Recall     (AR) @[ IoU=0.50:0.95 | area=medium | maxDets=100 ] = 0.000\n",
      " Average Recall     (AR) @[ IoU=0.50:0.95 | area= large | maxDets=100 ] = 0.000\n"
     ]
    },
    {
     "name": "stdout",
     "output_type": "stream",
     "text": [
      "Epoch: [4]  [   0/2393]  eta: 1:19:31  lr: 0.000939  loss: 1.1303 (1.1303)  loss_classifier: 0.0789 (0.0789)  loss_box_reg: 0.0000 (0.0000)  loss_objectness: 0.4288 (0.4288)  loss_rpn_box_reg: 0.6225 (0.6225)  time: 1.9938  data: 1.0355  max mem: 4171\n"
     ]
    },
    {
     "name": "stdout",
     "output_type": "stream",
     "text": [
      "Epoch: [4]  [ 100/2393]  eta: 0:26:18  lr: 0.000939  loss: 0.5223 (0.6417)  loss_classifier: 0.0373 (0.0443)  loss_box_reg: 0.0000 (0.0000)  loss_objectness: 0.3583 (0.3764)  loss_rpn_box_reg: 0.1575 (0.2209)  time: 0.6755  data: 0.0330  max mem: 4171\n"
     ]
    },
    {
     "name": "stdout",
     "output_type": "stream",
     "text": [
      "Epoch: [4]  [ 200/2393]  eta: 0:24:50  lr: 0.000939  loss: 0.5478 (0.6057)  loss_classifier: 0.0315 (0.0408)  loss_box_reg: 0.0000 (0.0000)  loss_objectness: 0.3673 (0.3737)  loss_rpn_box_reg: 0.0966 (0.1913)  time: 0.6760  data: 0.0338  max mem: 4171\n"
     ]
    },
    {
     "name": "stdout",
     "output_type": "stream",
     "text": [
      "Epoch: [4]  [ 300/2393]  eta: 0:23:38  lr: 0.000939  loss: 0.4548 (0.6039)  loss_classifier: 0.0342 (0.0415)  loss_box_reg: 0.0000 (0.0000)  loss_objectness: 0.3660 (0.3729)  loss_rpn_box_reg: 0.1089 (0.1895)  time: 0.6819  data: 0.0364  max mem: 4171\n"
     ]
    },
    {
     "name": "stdout",
     "output_type": "stream",
     "text": [
      "Epoch: [4]  [ 400/2393]  eta: 0:22:29  lr: 0.000939  loss: 0.5567 (0.6075)  loss_classifier: 0.0348 (0.0422)  loss_box_reg: 0.0000 (0.0000)  loss_objectness: 0.3571 (0.3719)  loss_rpn_box_reg: 0.1420 (0.1934)  time: 0.6772  data: 0.0354  max mem: 4171\n"
     ]
    },
    {
     "name": "stdout",
     "output_type": "stream",
     "text": [
      "Epoch: [4]  [ 500/2393]  eta: 0:21:20  lr: 0.000939  loss: 0.6356 (0.6185)  loss_classifier: 0.0423 (0.0433)  loss_box_reg: 0.0000 (0.0000)  loss_objectness: 0.3688 (0.3738)  loss_rpn_box_reg: 0.1808 (0.2014)  time: 0.6860  data: 0.0396  max mem: 4171\n"
     ]
    },
    {
     "name": "stdout",
     "output_type": "stream",
     "text": [
      "Epoch: [4]  [ 600/2393]  eta: 0:20:11  lr: 0.000939  loss: 0.5853 (0.6179)  loss_classifier: 0.0278 (0.0432)  loss_box_reg: 0.0000 (0.0000)  loss_objectness: 0.3603 (0.3733)  loss_rpn_box_reg: 0.1974 (0.2015)  time: 0.6785  data: 0.0342  max mem: 4171\n"
     ]
    },
    {
     "name": "stdout",
     "output_type": "stream",
     "text": [
      "Epoch: [4]  [ 700/2393]  eta: 0:19:02  lr: 0.000939  loss: 0.5177 (0.6133)  loss_classifier: 0.0305 (0.0426)  loss_box_reg: 0.0000 (0.0000)  loss_objectness: 0.3675 (0.3728)  loss_rpn_box_reg: 0.1009 (0.1979)  time: 0.6725  data: 0.0327  max mem: 4171\n"
     ]
    },
    {
     "name": "stdout",
     "output_type": "stream",
     "text": [
      "Epoch: [4]  [ 800/2393]  eta: 0:17:54  lr: 0.000939  loss: 0.5124 (0.6122)  loss_classifier: 0.0360 (0.0427)  loss_box_reg: 0.0000 (0.0000)  loss_objectness: 0.3668 (0.3728)  loss_rpn_box_reg: 0.1537 (0.1968)  time: 0.6786  data: 0.0348  max mem: 4171\n"
     ]
    },
    {
     "name": "stdout",
     "output_type": "stream",
     "text": [
      "Epoch: [4]  [ 900/2393]  eta: 0:16:45  lr: 0.000939  loss: 0.5639 (0.6111)  loss_classifier: 0.0426 (0.0425)  loss_box_reg: 0.0000 (0.0000)  loss_objectness: 0.3668 (0.3727)  loss_rpn_box_reg: 0.1651 (0.1959)  time: 0.6630  data: 0.0312  max mem: 4171\n"
     ]
    },
    {
     "name": "stdout",
     "output_type": "stream",
     "text": [
      "Epoch: [4]  [1000/2393]  eta: 0:15:38  lr: 0.000939  loss: 0.5497 (0.6109)  loss_classifier: 0.0343 (0.0424)  loss_box_reg: 0.0000 (0.0000)  loss_objectness: 0.3647 (0.3725)  loss_rpn_box_reg: 0.1479 (0.1959)  time: 0.6664  data: 0.0323  max mem: 4171\n"
     ]
    },
    {
     "name": "stdout",
     "output_type": "stream",
     "text": [
      "Epoch: [4]  [1100/2393]  eta: 0:14:30  lr: 0.000939  loss: 0.4668 (0.6081)  loss_classifier: 0.0276 (0.0424)  loss_box_reg: 0.0000 (0.0000)  loss_objectness: 0.3579 (0.3721)  loss_rpn_box_reg: 0.0804 (0.1936)  time: 0.6601  data: 0.0327  max mem: 4171\n"
     ]
    },
    {
     "name": "stdout",
     "output_type": "stream",
     "text": [
      "Epoch: [4]  [1200/2393]  eta: 0:13:22  lr: 0.000939  loss: 0.5460 (0.6109)  loss_classifier: 0.0269 (0.0425)  loss_box_reg: 0.0000 (0.0000)  loss_objectness: 0.3675 (0.3726)  loss_rpn_box_reg: 0.1525 (0.1958)  time: 0.6623  data: 0.0313  max mem: 4171\n"
     ]
    },
    {
     "name": "stdout",
     "output_type": "stream",
     "text": [
      "Epoch: [4]  [1300/2393]  eta: 0:12:15  lr: 0.000939  loss: 0.6037 (0.6094)  loss_classifier: 0.0444 (0.0423)  loss_box_reg: 0.0000 (0.0000)  loss_objectness: 0.3681 (0.3723)  loss_rpn_box_reg: 0.1876 (0.1948)  time: 0.6653  data: 0.0332  max mem: 4171\n"
     ]
    },
    {
     "name": "stdout",
     "output_type": "stream",
     "text": [
      "Epoch: [4]  [1400/2393]  eta: 0:11:08  lr: 0.000939  loss: 0.4717 (0.6072)  loss_classifier: 0.0376 (0.0423)  loss_box_reg: 0.0000 (0.0000)  loss_objectness: 0.3670 (0.3725)  loss_rpn_box_reg: 0.0677 (0.1925)  time: 0.6716  data: 0.0337  max mem: 4171\n"
     ]
    },
    {
     "name": "stdout",
     "output_type": "stream",
     "text": [
      "Epoch: [4]  [1500/2393]  eta: 0:10:00  lr: 0.000939  loss: 0.5052 (0.6099)  loss_classifier: 0.0299 (0.0425)  loss_box_reg: 0.0000 (0.0000)  loss_objectness: 0.3687 (0.3729)  loss_rpn_box_reg: 0.1044 (0.1945)  time: 0.6703  data: 0.0320  max mem: 4171\n"
     ]
    },
    {
     "name": "stdout",
     "output_type": "stream",
     "text": [
      "Epoch: [4]  [1600/2393]  eta: 0:08:53  lr: 0.000939  loss: 0.4709 (0.6075)  loss_classifier: 0.0269 (0.0423)  loss_box_reg: 0.0000 (0.0000)  loss_objectness: 0.3665 (0.3728)  loss_rpn_box_reg: 0.0804 (0.1924)  time: 0.6661  data: 0.0324  max mem: 4171\n"
     ]
    },
    {
     "name": "stdout",
     "output_type": "stream",
     "text": [
      "Epoch: [4]  [1700/2393]  eta: 0:07:45  lr: 0.000939  loss: 0.5423 (0.6078)  loss_classifier: 0.0332 (0.0421)  loss_box_reg: 0.0000 (0.0000)  loss_objectness: 0.3670 (0.3728)  loss_rpn_box_reg: 0.1434 (0.1929)  time: 0.6618  data: 0.0312  max mem: 4171\n"
     ]
    },
    {
     "name": "stdout",
     "output_type": "stream",
     "text": [
      "Epoch: [4]  [1800/2393]  eta: 0:06:38  lr: 0.000939  loss: 0.5851 (0.6090)  loss_classifier: 0.0445 (0.0422)  loss_box_reg: 0.0000 (0.0000)  loss_objectness: 0.3670 (0.3730)  loss_rpn_box_reg: 0.1754 (0.1938)  time: 0.6758  data: 0.0338  max mem: 4171\n"
     ]
    },
    {
     "name": "stdout",
     "output_type": "stream",
     "text": [
      "Epoch: [4]  [1900/2393]  eta: 0:05:31  lr: 0.000939  loss: 0.4005 (0.6093)  loss_classifier: 0.0202 (0.0420)  loss_box_reg: 0.0000 (0.0000)  loss_objectness: 0.3649 (0.3733)  loss_rpn_box_reg: 0.0326 (0.1940)  time: 0.6752  data: 0.0336  max mem: 4171\n"
     ]
    },
    {
     "name": "stdout",
     "output_type": "stream",
     "text": [
      "Epoch: [4]  [2000/2393]  eta: 0:04:24  lr: 0.000939  loss: 0.5961 (0.6118)  loss_classifier: 0.0460 (0.0422)  loss_box_reg: 0.0000 (0.0000)  loss_objectness: 0.3653 (0.3735)  loss_rpn_box_reg: 0.2086 (0.1961)  time: 0.6793  data: 0.0364  max mem: 4171\n"
     ]
    },
    {
     "name": "stdout",
     "output_type": "stream",
     "text": [
      "Epoch: [4]  [2100/2393]  eta: 0:03:16  lr: 0.000939  loss: 0.5692 (0.6103)  loss_classifier: 0.0416 (0.0420)  loss_box_reg: 0.0000 (0.0000)  loss_objectness: 0.3649 (0.3732)  loss_rpn_box_reg: 0.1488 (0.1951)  time: 0.6868  data: 0.0365  max mem: 4171\n"
     ]
    },
    {
     "name": "stdout",
     "output_type": "stream",
     "text": [
      "Epoch: [4]  [2200/2393]  eta: 0:02:09  lr: 0.000939  loss: 0.4876 (0.6086)  loss_classifier: 0.0229 (0.0417)  loss_box_reg: 0.0000 (0.0000)  loss_objectness: 0.3441 (0.3730)  loss_rpn_box_reg: 0.1138 (0.1939)  time: 0.6805  data: 0.0368  max mem: 4171\n"
     ]
    },
    {
     "name": "stdout",
     "output_type": "stream",
     "text": [
      "Epoch: [4]  [2300/2393]  eta: 0:01:02  lr: 0.000939  loss: 0.7033 (0.6101)  loss_classifier: 0.0377 (0.0419)  loss_box_reg: 0.0000 (0.0000)  loss_objectness: 0.3681 (0.3733)  loss_rpn_box_reg: 0.2487 (0.1950)  time: 0.6718  data: 0.0341  max mem: 4171\n"
     ]
    },
    {
     "name": "stdout",
     "output_type": "stream",
     "text": [
      "Epoch: [4]  [2392/2393]  eta: 0:00:00  lr: 0.000939  loss: 0.5028 (0.6088)  loss_classifier: 0.0346 (0.0417)  loss_box_reg: 0.0000 (0.0000)  loss_objectness: 0.3677 (0.3732)  loss_rpn_box_reg: 0.1251 (0.1939)  time: 0.6637  data: 0.0332  max mem: 4171\n",
      "Epoch: [4] Total time: 0:26:47 (0.6717 s / it)\n"
     ]
    },
    {
     "name": "stdout",
     "output_type": "stream",
     "text": [
      "creating index...\n",
      "index created!\n"
     ]
    },
    {
     "name": "stdout",
     "output_type": "stream",
     "text": [
      "Test:  [  0/303]  eta: 0:09:03  model_time: 0.4916 (0.4916)  evaluator_time: 0.0530 (0.0530)  time: 1.7922  data: 1.2188  max mem: 4171\n"
     ]
    },
    {
     "name": "stdout",
     "output_type": "stream",
     "text": [
      "Test:  [100/303]  eta: 0:01:11  model_time: 0.2668 (0.2733)  evaluator_time: 0.0066 (0.0094)  time: 0.3345  data: 0.0389  max mem: 4171\n"
     ]
    },
    {
     "name": "stdout",
     "output_type": "stream",
     "text": [
      "Test:  [200/303]  eta: 0:00:35  model_time: 0.2661 (0.2720)  evaluator_time: 0.0055 (0.0083)  time: 0.3357  data: 0.0426  max mem: 4171\n"
     ]
    },
    {
     "name": "stdout",
     "output_type": "stream",
     "text": [
      "Test:  [300/303]  eta: 0:00:01  model_time: 0.2657 (0.2709)  evaluator_time: 0.0050 (0.0074)  time: 0.3274  data: 0.0381  max mem: 4171\n"
     ]
    },
    {
     "name": "stdout",
     "output_type": "stream",
     "text": [
      "Test:  [302/303]  eta: 0:00:00  model_time: 0.2657 (0.2709)  evaluator_time: 0.0049 (0.0074)  time: 0.3312  data: 0.0408  max mem: 4171\n",
      "Test: Total time: 0:01:43 (0.3426 s / it)\n",
      "Averaged stats: model_time: 0.2657 (0.2709)  evaluator_time: 0.0049 (0.0074)\n",
      "Accumulating evaluation results...\n"
     ]
    },
    {
     "name": "stdout",
     "output_type": "stream",
     "text": [
      "DONE (t=0.30s).\n",
      "IoU metric: bbox\n",
      " Average Precision  (AP) @[ IoU=0.50:0.95 | area=   all | maxDets=100 ] = 0.000\n",
      " Average Precision  (AP) @[ IoU=0.50      | area=   all | maxDets=100 ] = 0.000\n",
      " Average Precision  (AP) @[ IoU=0.75      | area=   all | maxDets=100 ] = 0.000\n",
      " Average Precision  (AP) @[ IoU=0.50:0.95 | area= small | maxDets=100 ] = 0.000\n",
      " Average Precision  (AP) @[ IoU=0.50:0.95 | area=medium | maxDets=100 ] = 0.000\n",
      " Average Precision  (AP) @[ IoU=0.50:0.95 | area= large | maxDets=100 ] = 0.000\n",
      " Average Recall     (AR) @[ IoU=0.50:0.95 | area=   all | maxDets=  1 ] = 0.000\n",
      " Average Recall     (AR) @[ IoU=0.50:0.95 | area=   all | maxDets= 10 ] = 0.000\n",
      " Average Recall     (AR) @[ IoU=0.50:0.95 | area=   all | maxDets=100 ] = 0.000\n",
      " Average Recall     (AR) @[ IoU=0.50:0.95 | area= small | maxDets=100 ] = 0.000\n",
      " Average Recall     (AR) @[ IoU=0.50:0.95 | area=medium | maxDets=100 ] = 0.000\n",
      " Average Recall     (AR) @[ IoU=0.50:0.95 | area= large | maxDets=100 ] = 0.000\n"
     ]
    },
    {
     "name": "stdout",
     "output_type": "stream",
     "text": [
      "Epoch: [5]  [   0/2393]  eta: 1:17:21  lr: 0.000906  loss: 0.4879 (0.4879)  loss_classifier: 0.0270 (0.0270)  loss_box_reg: 0.0000 (0.0000)  loss_objectness: 0.3495 (0.3495)  loss_rpn_box_reg: 0.1114 (0.1114)  time: 1.9396  data: 0.9612  max mem: 4171\n"
     ]
    },
    {
     "name": "stdout",
     "output_type": "stream",
     "text": [
      "Epoch: [5]  [ 100/2393]  eta: 0:26:16  lr: 0.000906  loss: 0.5503 (0.6210)  loss_classifier: 0.0466 (0.0417)  loss_box_reg: 0.0000 (0.0000)  loss_objectness: 0.3659 (0.3711)  loss_rpn_box_reg: 0.1539 (0.2082)  time: 0.6847  data: 0.0366  max mem: 4171\n"
     ]
    },
    {
     "name": "stdout",
     "output_type": "stream",
     "text": [
      "Epoch: [5]  [ 200/2393]  eta: 0:24:55  lr: 0.000906  loss: 0.5284 (0.6307)  loss_classifier: 0.0431 (0.0423)  loss_box_reg: 0.0000 (0.0000)  loss_objectness: 0.3651 (0.3750)  loss_rpn_box_reg: 0.1450 (0.2134)  time: 0.6912  data: 0.0348  max mem: 4171\n"
     ]
    },
    {
     "name": "stdout",
     "output_type": "stream",
     "text": [
      "Epoch: [5]  [ 300/2393]  eta: 0:23:40  lr: 0.000906  loss: 0.5699 (0.6218)  loss_classifier: 0.0257 (0.0420)  loss_box_reg: 0.0000 (0.0000)  loss_objectness: 0.3676 (0.3755)  loss_rpn_box_reg: 0.1759 (0.2043)  time: 0.6709  data: 0.0334  max mem: 4171\n"
     ]
    },
    {
     "name": "stdout",
     "output_type": "stream",
     "text": [
      "Epoch: [5]  [ 400/2393]  eta: 0:22:30  lr: 0.000906  loss: 0.5414 (0.6166)  loss_classifier: 0.0281 (0.0412)  loss_box_reg: 0.0000 (0.0000)  loss_objectness: 0.3610 (0.3744)  loss_rpn_box_reg: 0.1478 (0.2011)  time: 0.6746  data: 0.0328  max mem: 4171\n"
     ]
    },
    {
     "name": "stdout",
     "output_type": "stream",
     "text": [
      "Epoch: [5]  [ 500/2393]  eta: 0:21:21  lr: 0.000906  loss: 0.5629 (0.6214)  loss_classifier: 0.0402 (0.0422)  loss_box_reg: 0.0000 (0.0000)  loss_objectness: 0.3653 (0.3747)  loss_rpn_box_reg: 0.1584 (0.2044)  time: 0.6742  data: 0.0338  max mem: 4171\n"
     ]
    },
    {
     "name": "stdout",
     "output_type": "stream",
     "text": [
      "Epoch: [5]  [ 600/2393]  eta: 0:20:12  lr: 0.000906  loss: 0.4419 (0.6174)  loss_classifier: 0.0240 (0.0419)  loss_box_reg: 0.0000 (0.0000)  loss_objectness: 0.3552 (0.3747)  loss_rpn_box_reg: 0.0770 (0.2008)  time: 0.6675  data: 0.0305  max mem: 4171\n"
     ]
    },
    {
     "name": "stdout",
     "output_type": "stream",
     "text": [
      "Epoch: [5]  [ 700/2393]  eta: 0:19:04  lr: 0.000906  loss: 0.5176 (0.6116)  loss_classifier: 0.0225 (0.0409)  loss_box_reg: 0.0000 (0.0000)  loss_objectness: 0.3650 (0.3748)  loss_rpn_box_reg: 0.1369 (0.1959)  time: 0.6700  data: 0.0312  max mem: 4171\n"
     ]
    },
    {
     "name": "stdout",
     "output_type": "stream",
     "text": [
      "Epoch: [5]  [ 800/2393]  eta: 0:17:56  lr: 0.000906  loss: 0.5937 (0.6101)  loss_classifier: 0.0493 (0.0406)  loss_box_reg: 0.0000 (0.0000)  loss_objectness: 0.3673 (0.3741)  loss_rpn_box_reg: 0.2021 (0.1954)  time: 0.6667  data: 0.0310  max mem: 4171\n"
     ]
    },
    {
     "name": "stdout",
     "output_type": "stream",
     "text": [
      "Epoch: [5]  [ 900/2393]  eta: 0:16:48  lr: 0.000906  loss: 0.5523 (0.6098)  loss_classifier: 0.0350 (0.0404)  loss_box_reg: 0.0000 (0.0000)  loss_objectness: 0.3572 (0.3738)  loss_rpn_box_reg: 0.1641 (0.1956)  time: 0.6669  data: 0.0317  max mem: 4171\n"
     ]
    },
    {
     "name": "stdout",
     "output_type": "stream",
     "text": [
      "Epoch: [5]  [1000/2393]  eta: 0:15:40  lr: 0.000906  loss: 0.5297 (0.6147)  loss_classifier: 0.0371 (0.0411)  loss_box_reg: 0.0000 (0.0000)  loss_objectness: 0.3647 (0.3746)  loss_rpn_box_reg: 0.1191 (0.1990)  time: 0.6676  data: 0.0315  max mem: 4171\n"
     ]
    },
    {
     "name": "stdout",
     "output_type": "stream",
     "text": [
      "Epoch: [5]  [1100/2393]  eta: 0:14:34  lr: 0.000906  loss: 0.4762 (0.6118)  loss_classifier: 0.0228 (0.0409)  loss_box_reg: 0.0000 (0.0000)  loss_objectness: 0.3650 (0.3742)  loss_rpn_box_reg: 0.1085 (0.1967)  time: 0.6896  data: 0.0342  max mem: 4171\n"
     ]
    },
    {
     "name": "stdout",
     "output_type": "stream",
     "text": [
      "Epoch: [5]  [1200/2393]  eta: 0:13:27  lr: 0.000906  loss: 0.5228 (0.6136)  loss_classifier: 0.0261 (0.0412)  loss_box_reg: 0.0000 (0.0000)  loss_objectness: 0.3686 (0.3741)  loss_rpn_box_reg: 0.1479 (0.1984)  time: 0.6894  data: 0.0365  max mem: 4171\n"
     ]
    },
    {
     "name": "stdout",
     "output_type": "stream",
     "text": [
      "Epoch: [5]  [1300/2393]  eta: 0:12:20  lr: 0.000906  loss: 0.5157 (0.6151)  loss_classifier: 0.0395 (0.0415)  loss_box_reg: 0.0000 (0.0000)  loss_objectness: 0.3658 (0.3744)  loss_rpn_box_reg: 0.1187 (0.1992)  time: 0.6920  data: 0.0379  max mem: 4171\n"
     ]
    },
    {
     "name": "stdout",
     "output_type": "stream",
     "text": [
      "Epoch: [5]  [1400/2393]  eta: 0:11:12  lr: 0.000906  loss: 0.4723 (0.6128)  loss_classifier: 0.0314 (0.0412)  loss_box_reg: 0.0000 (0.0000)  loss_objectness: 0.3666 (0.3738)  loss_rpn_box_reg: 0.0677 (0.1978)  time: 0.6836  data: 0.0349  max mem: 4171\n"
     ]
    },
    {
     "name": "stdout",
     "output_type": "stream",
     "text": [
      "Epoch: [5]  [1500/2393]  eta: 0:10:04  lr: 0.000906  loss: 0.5412 (0.6138)  loss_classifier: 0.0356 (0.0413)  loss_box_reg: 0.0000 (0.0000)  loss_objectness: 0.3704 (0.3741)  loss_rpn_box_reg: 0.1540 (0.1984)  time: 0.6910  data: 0.0374  max mem: 4171\n"
     ]
    },
    {
     "name": "stdout",
     "output_type": "stream",
     "text": [
      "Epoch: [5]  [1600/2393]  eta: 0:08:57  lr: 0.000906  loss: 0.5009 (0.6115)  loss_classifier: 0.0253 (0.0411)  loss_box_reg: 0.0000 (0.0000)  loss_objectness: 0.3663 (0.3740)  loss_rpn_box_reg: 0.1077 (0.1964)  time: 0.6780  data: 0.0375  max mem: 4171\n"
     ]
    },
    {
     "name": "stdout",
     "output_type": "stream",
     "text": [
      "Epoch: [5]  [1700/2393]  eta: 0:07:49  lr: 0.000906  loss: 0.5581 (0.6111)  loss_classifier: 0.0336 (0.0410)  loss_box_reg: 0.0000 (0.0000)  loss_objectness: 0.3644 (0.3736)  loss_rpn_box_reg: 0.2001 (0.1965)  time: 0.6910  data: 0.0411  max mem: 4171\n"
     ]
    },
    {
     "name": "stdout",
     "output_type": "stream",
     "text": [
      "Epoch: [5]  [1800/2393]  eta: 0:06:41  lr: 0.000906  loss: 0.5593 (0.6112)  loss_classifier: 0.0439 (0.0411)  loss_box_reg: 0.0000 (0.0000)  loss_objectness: 0.3683 (0.3735)  loss_rpn_box_reg: 0.1455 (0.1966)  time: 0.6725  data: 0.0359  max mem: 4171\n"
     ]
    },
    {
     "name": "stdout",
     "output_type": "stream",
     "text": [
      "Epoch: [5]  [1900/2393]  eta: 0:05:34  lr: 0.000906  loss: 0.4497 (0.6088)  loss_classifier: 0.0228 (0.0410)  loss_box_reg: 0.0000 (0.0000)  loss_objectness: 0.3638 (0.3733)  loss_rpn_box_reg: 0.0793 (0.1946)  time: 0.6715  data: 0.0346  max mem: 4171\n"
     ]
    },
    {
     "name": "stdout",
     "output_type": "stream",
     "text": [
      "Epoch: [5]  [2000/2393]  eta: 0:04:26  lr: 0.000906  loss: 0.5862 (0.6086)  loss_classifier: 0.0332 (0.0409)  loss_box_reg: 0.0000 (0.0000)  loss_objectness: 0.3551 (0.3731)  loss_rpn_box_reg: 0.1921 (0.1946)  time: 0.6711  data: 0.0321  max mem: 4171\n"
     ]
    },
    {
     "name": "stdout",
     "output_type": "stream",
     "text": [
      "Epoch: [5]  [2100/2393]  eta: 0:03:18  lr: 0.000906  loss: 0.5549 (0.6099)  loss_classifier: 0.0374 (0.0411)  loss_box_reg: 0.0000 (0.0000)  loss_objectness: 0.3650 (0.3733)  loss_rpn_box_reg: 0.1283 (0.1954)  time: 0.6703  data: 0.0314  max mem: 4171\n"
     ]
    },
    {
     "name": "stdout",
     "output_type": "stream",
     "text": [
      "Epoch: [5]  [2200/2393]  eta: 0:02:10  lr: 0.000906  loss: 0.4780 (0.6085)  loss_classifier: 0.0275 (0.0408)  loss_box_reg: 0.0000 (0.0000)  loss_objectness: 0.3650 (0.3733)  loss_rpn_box_reg: 0.0905 (0.1944)  time: 0.6678  data: 0.0316  max mem: 4171\n"
     ]
    },
    {
     "name": "stdout",
     "output_type": "stream",
     "text": [
      "Epoch: [5]  [2300/2393]  eta: 0:01:03  lr: 0.000906  loss: 0.5353 (0.6074)  loss_classifier: 0.0385 (0.0408)  loss_box_reg: 0.0000 (0.0000)  loss_objectness: 0.3661 (0.3732)  loss_rpn_box_reg: 0.1463 (0.1934)  time: 0.6786  data: 0.0329  max mem: 4171\n"
     ]
    },
    {
     "name": "stdout",
     "output_type": "stream",
     "text": [
      "Epoch: [5]  [2392/2393]  eta: 0:00:00  lr: 0.000906  loss: 0.6680 (0.6078)  loss_classifier: 0.0483 (0.0407)  loss_box_reg: 0.0000 (0.0000)  loss_objectness: 0.3672 (0.3733)  loss_rpn_box_reg: 0.2561 (0.1939)  time: 0.6520  data: 0.0319  max mem: 4171\n",
      "Epoch: [5] Total time: 0:27:02 (0.6780 s / it)\n"
     ]
    },
    {
     "name": "stdout",
     "output_type": "stream",
     "text": [
      "creating index...\n",
      "index created!\n"
     ]
    },
    {
     "name": "stdout",
     "output_type": "stream",
     "text": [
      "Test:  [  0/303]  eta: 0:06:45  model_time: 0.3751 (0.3751)  evaluator_time: 0.0202 (0.0202)  time: 1.3385  data: 0.9009  max mem: 4171\n"
     ]
    },
    {
     "name": "stdout",
     "output_type": "stream",
     "text": [
      "Test:  [100/303]  eta: 0:01:12  model_time: 0.2677 (0.2726)  evaluator_time: 0.0079 (0.0097)  time: 0.3298  data: 0.0391  max mem: 4171\n"
     ]
    },
    {
     "name": "stdout",
     "output_type": "stream",
     "text": [
      "Test:  [200/303]  eta: 0:00:35  model_time: 0.2675 (0.2725)  evaluator_time: 0.0063 (0.0087)  time: 0.3292  data: 0.0385  max mem: 4171\n"
     ]
    },
    {
     "name": "stdout",
     "output_type": "stream",
     "text": [
      "Test:  [300/303]  eta: 0:00:01  model_time: 0.2659 (0.2726)  evaluator_time: 0.0051 (0.0080)  time: 0.3281  data: 0.0402  max mem: 4171\n"
     ]
    },
    {
     "name": "stdout",
     "output_type": "stream",
     "text": [
      "Test:  [302/303]  eta: 0:00:00  model_time: 0.2659 (0.2726)  evaluator_time: 0.0050 (0.0080)  time: 0.3310  data: 0.0424  max mem: 4171\n",
      "Test: Total time: 0:01:45 (0.3475 s / it)\n",
      "Averaged stats: model_time: 0.2659 (0.2726)  evaluator_time: 0.0050 (0.0080)\n",
      "Accumulating evaluation results...\n"
     ]
    },
    {
     "name": "stdout",
     "output_type": "stream",
     "text": [
      "DONE (t=0.31s).\n",
      "IoU metric: bbox\n",
      " Average Precision  (AP) @[ IoU=0.50:0.95 | area=   all | maxDets=100 ] = 0.000\n",
      " Average Precision  (AP) @[ IoU=0.50      | area=   all | maxDets=100 ] = 0.000\n",
      " Average Precision  (AP) @[ IoU=0.75      | area=   all | maxDets=100 ] = 0.000\n",
      " Average Precision  (AP) @[ IoU=0.50:0.95 | area= small | maxDets=100 ] = 0.000\n",
      " Average Precision  (AP) @[ IoU=0.50:0.95 | area=medium | maxDets=100 ] = 0.000\n",
      " Average Precision  (AP) @[ IoU=0.50:0.95 | area= large | maxDets=100 ] = 0.000\n",
      " Average Recall     (AR) @[ IoU=0.50:0.95 | area=   all | maxDets=  1 ] = 0.000\n",
      " Average Recall     (AR) @[ IoU=0.50:0.95 | area=   all | maxDets= 10 ] = 0.000\n",
      " Average Recall     (AR) @[ IoU=0.50:0.95 | area=   all | maxDets=100 ] = 0.000\n",
      " Average Recall     (AR) @[ IoU=0.50:0.95 | area= small | maxDets=100 ] = 0.000\n",
      " Average Recall     (AR) @[ IoU=0.50:0.95 | area=medium | maxDets=100 ] = 0.000\n",
      " Average Recall     (AR) @[ IoU=0.50:0.95 | area= large | maxDets=100 ] = 0.000\n"
     ]
    },
    {
     "name": "stdout",
     "output_type": "stream",
     "text": [
      "Epoch: [6]  [   0/2393]  eta: 1:17:33  lr: 0.000867  loss: 0.3950 (0.3950)  loss_classifier: 0.0047 (0.0047)  loss_box_reg: 0.0000 (0.0000)  loss_objectness: 0.3651 (0.3651)  loss_rpn_box_reg: 0.0251 (0.0251)  time: 1.9447  data: 1.0483  max mem: 4171\n"
     ]
    },
    {
     "name": "stdout",
     "output_type": "stream",
     "text": [
      "Epoch: [6]  [ 100/2393]  eta: 0:26:17  lr: 0.000867  loss: 0.4982 (0.5856)  loss_classifier: 0.0321 (0.0380)  loss_box_reg: 0.0000 (0.0000)  loss_objectness: 0.3660 (0.3718)  loss_rpn_box_reg: 0.1056 (0.1759)  time: 0.6791  data: 0.0344  max mem: 4171\n"
     ]
    },
    {
     "name": "stdout",
     "output_type": "stream",
     "text": [
      "Epoch: [6]  [ 200/2393]  eta: 0:24:55  lr: 0.000867  loss: 0.5452 (0.6007)  loss_classifier: 0.0389 (0.0393)  loss_box_reg: 0.0000 (0.0000)  loss_objectness: 0.3664 (0.3732)  loss_rpn_box_reg: 0.1388 (0.1883)  time: 0.6839  data: 0.0367  max mem: 4171\n"
     ]
    },
    {
     "name": "stdout",
     "output_type": "stream",
     "text": [
      "Epoch: [6]  [ 300/2393]  eta: 0:23:44  lr: 0.000867  loss: 0.6124 (0.6019)  loss_classifier: 0.0431 (0.0394)  loss_box_reg: 0.0000 (0.0000)  loss_objectness: 0.3709 (0.3724)  loss_rpn_box_reg: 0.1820 (0.1902)  time: 0.6868  data: 0.0348  max mem: 4171\n"
     ]
    },
    {
     "name": "stdout",
     "output_type": "stream",
     "text": [
      "Epoch: [6]  [ 400/2393]  eta: 0:22:34  lr: 0.000867  loss: 0.5567 (0.6131)  loss_classifier: 0.0418 (0.0401)  loss_box_reg: 0.0000 (0.0000)  loss_objectness: 0.3675 (0.3736)  loss_rpn_box_reg: 0.1392 (0.1995)  time: 0.6956  data: 0.0381  max mem: 4171\n"
     ]
    },
    {
     "name": "stdout",
     "output_type": "stream",
     "text": [
      "Epoch: [6]  [ 500/2393]  eta: 0:21:25  lr: 0.000867  loss: 0.6119 (0.6167)  loss_classifier: 0.0476 (0.0412)  loss_box_reg: 0.0000 (0.0000)  loss_objectness: 0.3724 (0.3744)  loss_rpn_box_reg: 0.2053 (0.2011)  time: 0.6854  data: 0.0353  max mem: 4171\n"
     ]
    },
    {
     "name": "stdout",
     "output_type": "stream",
     "text": [
      "Epoch: [6]  [ 600/2393]  eta: 0:20:16  lr: 0.000867  loss: 0.5002 (0.6149)  loss_classifier: 0.0291 (0.0416)  loss_box_reg: 0.0000 (0.0000)  loss_objectness: 0.3634 (0.3747)  loss_rpn_box_reg: 0.0864 (0.1987)  time: 0.6902  data: 0.0374  max mem: 4171\n"
     ]
    },
    {
     "name": "stdout",
     "output_type": "stream",
     "text": [
      "Epoch: [6]  [ 700/2393]  eta: 0:19:08  lr: 0.000867  loss: 0.5007 (0.6056)  loss_classifier: 0.0246 (0.0404)  loss_box_reg: 0.0000 (0.0000)  loss_objectness: 0.3623 (0.3730)  loss_rpn_box_reg: 0.1228 (0.1922)  time: 0.6681  data: 0.0315  max mem: 4171\n"
     ]
    },
    {
     "name": "stdout",
     "output_type": "stream",
     "text": [
      "Epoch: [6]  [ 800/2393]  eta: 0:18:00  lr: 0.000867  loss: 0.5275 (0.6068)  loss_classifier: 0.0299 (0.0403)  loss_box_reg: 0.0000 (0.0000)  loss_objectness: 0.3675 (0.3733)  loss_rpn_box_reg: 0.1324 (0.1932)  time: 0.6729  data: 0.0334  max mem: 4171\n"
     ]
    },
    {
     "name": "stdout",
     "output_type": "stream",
     "text": [
      "Epoch: [6]  [ 900/2393]  eta: 0:16:52  lr: 0.000867  loss: 0.4815 (0.6100)  loss_classifier: 0.0219 (0.0409)  loss_box_reg: 0.0000 (0.0000)  loss_objectness: 0.3670 (0.3738)  loss_rpn_box_reg: 0.1013 (0.1954)  time: 0.6693  data: 0.0315  max mem: 4171\n"
     ]
    },
    {
     "name": "stdout",
     "output_type": "stream",
     "text": [
      "Epoch: [6]  [1000/2393]  eta: 0:15:44  lr: 0.000867  loss: 0.5741 (0.6115)  loss_classifier: 0.0390 (0.0410)  loss_box_reg: 0.0000 (0.0000)  loss_objectness: 0.3678 (0.3743)  loss_rpn_box_reg: 0.1379 (0.1962)  time: 0.6731  data: 0.0336  max mem: 4171\n"
     ]
    },
    {
     "name": "stdout",
     "output_type": "stream",
     "text": [
      "Epoch: [6]  [1100/2393]  eta: 0:14:37  lr: 0.000867  loss: 0.5213 (0.6094)  loss_classifier: 0.0361 (0.0409)  loss_box_reg: 0.0000 (0.0000)  loss_objectness: 0.3536 (0.3736)  loss_rpn_box_reg: 0.1185 (0.1949)  time: 0.6709  data: 0.0327  max mem: 4171\n"
     ]
    },
    {
     "name": "stdout",
     "output_type": "stream",
     "text": [
      "Epoch: [6]  [1200/2393]  eta: 0:13:29  lr: 0.000867  loss: 0.5476 (0.6109)  loss_classifier: 0.0385 (0.0409)  loss_box_reg: 0.0000 (0.0000)  loss_objectness: 0.3704 (0.3739)  loss_rpn_box_reg: 0.1606 (0.1961)  time: 0.6773  data: 0.0333  max mem: 4171\n"
     ]
    },
    {
     "name": "stdout",
     "output_type": "stream",
     "text": [
      "Epoch: [6]  [1300/2393]  eta: 0:12:21  lr: 0.000867  loss: 0.5658 (0.6109)  loss_classifier: 0.0241 (0.0408)  loss_box_reg: 0.0000 (0.0000)  loss_objectness: 0.3673 (0.3738)  loss_rpn_box_reg: 0.1084 (0.1962)  time: 0.6731  data: 0.0330  max mem: 4171\n"
     ]
    },
    {
     "name": "stdout",
     "output_type": "stream",
     "text": [
      "Epoch: [6]  [1400/2393]  eta: 0:11:13  lr: 0.000867  loss: 0.6219 (0.6100)  loss_classifier: 0.0394 (0.0408)  loss_box_reg: 0.0000 (0.0000)  loss_objectness: 0.3673 (0.3737)  loss_rpn_box_reg: 0.2084 (0.1955)  time: 0.6717  data: 0.0343  max mem: 4171\n"
     ]
    },
    {
     "name": "stdout",
     "output_type": "stream",
     "text": [
      "Epoch: [6]  [1500/2393]  eta: 0:10:05  lr: 0.000867  loss: 0.5243 (0.6092)  loss_classifier: 0.0346 (0.0406)  loss_box_reg: 0.0000 (0.0000)  loss_objectness: 0.3601 (0.3735)  loss_rpn_box_reg: 0.1266 (0.1951)  time: 0.6710  data: 0.0326  max mem: 4171\n"
     ]
    },
    {
     "name": "stdout",
     "output_type": "stream",
     "text": [
      "Epoch: [6]  [1600/2393]  eta: 0:08:58  lr: 0.000867  loss: 0.5032 (0.6105)  loss_classifier: 0.0233 (0.0407)  loss_box_reg: 0.0000 (0.0000)  loss_objectness: 0.3651 (0.3740)  loss_rpn_box_reg: 0.1062 (0.1959)  time: 0.6835  data: 0.0335  max mem: 4171\n"
     ]
    },
    {
     "name": "stdout",
     "output_type": "stream",
     "text": [
      "Epoch: [6]  [1700/2393]  eta: 0:07:50  lr: 0.000867  loss: 0.5562 (0.6100)  loss_classifier: 0.0278 (0.0406)  loss_box_reg: 0.0000 (0.0000)  loss_objectness: 0.3558 (0.3739)  loss_rpn_box_reg: 0.1592 (0.1955)  time: 0.6881  data: 0.0365  max mem: 4171\n"
     ]
    },
    {
     "name": "stdout",
     "output_type": "stream",
     "text": [
      "Epoch: [6]  [1800/2393]  eta: 0:06:42  lr: 0.000867  loss: 0.5093 (0.6103)  loss_classifier: 0.0483 (0.0407)  loss_box_reg: 0.0000 (0.0000)  loss_objectness: 0.3685 (0.3740)  loss_rpn_box_reg: 0.1360 (0.1957)  time: 0.6898  data: 0.0365  max mem: 4171\n"
     ]
    },
    {
     "name": "stdout",
     "output_type": "stream",
     "text": [
      "Epoch: [6]  [1900/2393]  eta: 0:05:34  lr: 0.000867  loss: 0.5573 (0.6098)  loss_classifier: 0.0289 (0.0405)  loss_box_reg: 0.0000 (0.0000)  loss_objectness: 0.3651 (0.3741)  loss_rpn_box_reg: 0.1533 (0.1952)  time: 0.6798  data: 0.0370  max mem: 4171\n"
     ]
    },
    {
     "name": "stdout",
     "output_type": "stream",
     "text": [
      "Epoch: [6]  [2000/2393]  eta: 0:04:26  lr: 0.000867  loss: 0.6852 (0.6082)  loss_classifier: 0.0455 (0.0404)  loss_box_reg: 0.0000 (0.0000)  loss_objectness: 0.3700 (0.3736)  loss_rpn_box_reg: 0.2599 (0.1942)  time: 0.6842  data: 0.0345  max mem: 4171\n"
     ]
    },
    {
     "name": "stdout",
     "output_type": "stream",
     "text": [
      "Epoch: [6]  [2100/2393]  eta: 0:03:18  lr: 0.000867  loss: 0.5175 (0.6061)  loss_classifier: 0.0214 (0.0402)  loss_box_reg: 0.0000 (0.0000)  loss_objectness: 0.3663 (0.3733)  loss_rpn_box_reg: 0.1008 (0.1926)  time: 0.6788  data: 0.0357  max mem: 4171\n"
     ]
    },
    {
     "name": "stdout",
     "output_type": "stream",
     "text": [
      "Epoch: [6]  [2200/2393]  eta: 0:02:10  lr: 0.000867  loss: 0.4627 (0.6092)  loss_classifier: 0.0279 (0.0405)  loss_box_reg: 0.0000 (0.0000)  loss_objectness: 0.3670 (0.3737)  loss_rpn_box_reg: 0.0929 (0.1950)  time: 0.6802  data: 0.0341  max mem: 4171\n"
     ]
    },
    {
     "name": "stdout",
     "output_type": "stream",
     "text": [
      "Epoch: [6]  [2300/2393]  eta: 0:01:03  lr: 0.000867  loss: 0.5578 (0.6075)  loss_classifier: 0.0392 (0.0405)  loss_box_reg: 0.0000 (0.0000)  loss_objectness: 0.3529 (0.3732)  loss_rpn_box_reg: 0.1580 (0.1938)  time: 0.6800  data: 0.0351  max mem: 4171\n"
     ]
    },
    {
     "name": "stdout",
     "output_type": "stream",
     "text": [
      "Epoch: [6]  [2392/2393]  eta: 0:00:00  lr: 0.000867  loss: 0.5578 (0.6076)  loss_classifier: 0.0396 (0.0405)  loss_box_reg: 0.0000 (0.0000)  loss_objectness: 0.3658 (0.3732)  loss_rpn_box_reg: 0.1587 (0.1939)  time: 0.6682  data: 0.0351  max mem: 4171\n",
      "Epoch: [6] Total time: 0:27:02 (0.6780 s / it)\n"
     ]
    },
    {
     "name": "stdout",
     "output_type": "stream",
     "text": [
      "creating index...\n",
      "index created!\n"
     ]
    },
    {
     "name": "stdout",
     "output_type": "stream",
     "text": [
      "Test:  [  0/303]  eta: 0:08:49  model_time: 0.3365 (0.3365)  evaluator_time: 0.0314 (0.0314)  time: 1.7486  data: 1.3217  max mem: 4171\n"
     ]
    },
    {
     "name": "stdout",
     "output_type": "stream",
     "text": [
      "Test:  [100/303]  eta: 0:01:10  model_time: 0.2653 (0.2703)  evaluator_time: 0.0050 (0.0074)  time: 0.3183  data: 0.0317  max mem: 4171\n"
     ]
    },
    {
     "name": "stdout",
     "output_type": "stream",
     "text": [
      "Test:  [200/303]  eta: 0:00:34  model_time: 0.2637 (0.2699)  evaluator_time: 0.0041 (0.0066)  time: 0.3173  data: 0.0321  max mem: 4171\n"
     ]
    },
    {
     "name": "stdout",
     "output_type": "stream",
     "text": [
      "Test:  [300/303]  eta: 0:00:01  model_time: 0.2648 (0.2694)  evaluator_time: 0.0030 (0.0061)  time: 0.3124  data: 0.0322  max mem: 4171\n"
     ]
    },
    {
     "name": "stdout",
     "output_type": "stream",
     "text": [
      "Test:  [302/303]  eta: 0:00:00  model_time: 0.2642 (0.2693)  evaluator_time: 0.0030 (0.0061)  time: 0.3124  data: 0.0329  max mem: 4171\n",
      "Test: Total time: 0:01:42 (0.3376 s / it)\n",
      "Averaged stats: model_time: 0.2642 (0.2693)  evaluator_time: 0.0030 (0.0061)\n",
      "Accumulating evaluation results...\n"
     ]
    },
    {
     "name": "stdout",
     "output_type": "stream",
     "text": [
      "DONE (t=0.33s).\n",
      "IoU metric: bbox\n",
      " Average Precision  (AP) @[ IoU=0.50:0.95 | area=   all | maxDets=100 ] = 0.000\n",
      " Average Precision  (AP) @[ IoU=0.50      | area=   all | maxDets=100 ] = 0.000\n",
      " Average Precision  (AP) @[ IoU=0.75      | area=   all | maxDets=100 ] = 0.000\n",
      " Average Precision  (AP) @[ IoU=0.50:0.95 | area= small | maxDets=100 ] = 0.000\n",
      " Average Precision  (AP) @[ IoU=0.50:0.95 | area=medium | maxDets=100 ] = 0.000\n",
      " Average Precision  (AP) @[ IoU=0.50:0.95 | area= large | maxDets=100 ] = 0.000\n",
      " Average Recall     (AR) @[ IoU=0.50:0.95 | area=   all | maxDets=  1 ] = 0.000\n",
      " Average Recall     (AR) @[ IoU=0.50:0.95 | area=   all | maxDets= 10 ] = 0.000\n",
      " Average Recall     (AR) @[ IoU=0.50:0.95 | area=   all | maxDets=100 ] = 0.000\n",
      " Average Recall     (AR) @[ IoU=0.50:0.95 | area= small | maxDets=100 ] = 0.000\n",
      " Average Recall     (AR) @[ IoU=0.50:0.95 | area=medium | maxDets=100 ] = 0.000\n",
      " Average Recall     (AR) @[ IoU=0.50:0.95 | area= large | maxDets=100 ] = 0.000\n"
     ]
    },
    {
     "name": "stdout",
     "output_type": "stream",
     "text": [
      "Epoch: [7]  [   0/2393]  eta: 1:44:20  lr: 0.000822  loss: 0.7125 (0.7125)  loss_classifier: 0.0523 (0.0523)  loss_box_reg: 0.0000 (0.0000)  loss_objectness: 0.3446 (0.3446)  loss_rpn_box_reg: 0.3156 (0.3156)  time: 2.6162  data: 1.5652  max mem: 4171\n"
     ]
    },
    {
     "name": "stdout",
     "output_type": "stream",
     "text": [
      "Epoch: [7]  [ 100/2393]  eta: 0:26:47  lr: 0.000822  loss: 0.4956 (0.5890)  loss_classifier: 0.0282 (0.0362)  loss_box_reg: 0.0000 (0.0000)  loss_objectness: 0.3629 (0.3687)  loss_rpn_box_reg: 0.1091 (0.1840)  time: 0.6737  data: 0.0330  max mem: 4171\n"
     ]
    },
    {
     "name": "stdout",
     "output_type": "stream",
     "text": [
      "Epoch: [7]  [ 200/2393]  eta: 0:25:11  lr: 0.000822  loss: 0.5182 (0.6037)  loss_classifier: 0.0279 (0.0390)  loss_box_reg: 0.0000 (0.0000)  loss_objectness: 0.3683 (0.3703)  loss_rpn_box_reg: 0.1403 (0.1944)  time: 0.6706  data: 0.0328  max mem: 4171\n"
     ]
    },
    {
     "name": "stdout",
     "output_type": "stream",
     "text": [
      "Epoch: [7]  [ 300/2393]  eta: 0:23:54  lr: 0.000822  loss: 0.5241 (0.6097)  loss_classifier: 0.0332 (0.0401)  loss_box_reg: 0.0000 (0.0000)  loss_objectness: 0.3670 (0.3723)  loss_rpn_box_reg: 0.1116 (0.1973)  time: 0.6766  data: 0.0332  max mem: 4171\n"
     ]
    },
    {
     "name": "stdout",
     "output_type": "stream",
     "text": [
      "Epoch: [7]  [ 400/2393]  eta: 0:22:44  lr: 0.000822  loss: 0.5108 (0.6074)  loss_classifier: 0.0295 (0.0402)  loss_box_reg: 0.0000 (0.0000)  loss_objectness: 0.3661 (0.3720)  loss_rpn_box_reg: 0.1049 (0.1953)  time: 0.6848  data: 0.0349  max mem: 4171\n"
     ]
    },
    {
     "name": "stdout",
     "output_type": "stream",
     "text": [
      "Epoch: [7]  [ 500/2393]  eta: 0:21:33  lr: 0.000822  loss: 0.5626 (0.6049)  loss_classifier: 0.0360 (0.0402)  loss_box_reg: 0.0000 (0.0000)  loss_objectness: 0.3611 (0.3718)  loss_rpn_box_reg: 0.1505 (0.1929)  time: 0.6852  data: 0.0348  max mem: 4171\n"
     ]
    },
    {
     "name": "stdout",
     "output_type": "stream",
     "text": [
      "Epoch: [7]  [ 600/2393]  eta: 0:20:22  lr: 0.000822  loss: 0.5414 (0.6060)  loss_classifier: 0.0299 (0.0401)  loss_box_reg: 0.0000 (0.0000)  loss_objectness: 0.3608 (0.3721)  loss_rpn_box_reg: 0.1615 (0.1938)  time: 0.6829  data: 0.0372  max mem: 4171\n"
     ]
    },
    {
     "name": "stdout",
     "output_type": "stream",
     "text": [
      "Epoch: [7]  [ 700/2393]  eta: 0:19:13  lr: 0.000822  loss: 0.4973 (0.6045)  loss_classifier: 0.0335 (0.0402)  loss_box_reg: 0.0000 (0.0000)  loss_objectness: 0.3648 (0.3722)  loss_rpn_box_reg: 0.1232 (0.1920)  time: 0.6837  data: 0.0350  max mem: 4171\n"
     ]
    },
    {
     "name": "stdout",
     "output_type": "stream",
     "text": [
      "Epoch: [7]  [ 800/2393]  eta: 0:18:04  lr: 0.000822  loss: 0.6058 (0.6073)  loss_classifier: 0.0541 (0.0407)  loss_box_reg: 0.0000 (0.0000)  loss_objectness: 0.3712 (0.3723)  loss_rpn_box_reg: 0.2061 (0.1943)  time: 0.6824  data: 0.0355  max mem: 4171\n"
     ]
    },
    {
     "name": "stdout",
     "output_type": "stream",
     "text": [
      "Epoch: [7]  [ 900/2393]  eta: 0:16:55  lr: 0.000822  loss: 0.5108 (0.6081)  loss_classifier: 0.0441 (0.0409)  loss_box_reg: 0.0000 (0.0000)  loss_objectness: 0.3548 (0.3722)  loss_rpn_box_reg: 0.1729 (0.1950)  time: 0.6753  data: 0.0354  max mem: 4171\n"
     ]
    },
    {
     "name": "stdout",
     "output_type": "stream",
     "text": [
      "Epoch: [7]  [1000/2393]  eta: 0:15:46  lr: 0.000822  loss: 0.6142 (0.6123)  loss_classifier: 0.0363 (0.0412)  loss_box_reg: 0.0000 (0.0000)  loss_objectness: 0.3670 (0.3728)  loss_rpn_box_reg: 0.2231 (0.1983)  time: 0.6717  data: 0.0323  max mem: 4171\n"
     ]
    },
    {
     "name": "stdout",
     "output_type": "stream",
     "text": [
      "Epoch: [7]  [1100/2393]  eta: 0:14:38  lr: 0.000822  loss: 0.6315 (0.6090)  loss_classifier: 0.0455 (0.0408)  loss_box_reg: 0.0000 (0.0000)  loss_objectness: 0.3607 (0.3726)  loss_rpn_box_reg: 0.1960 (0.1956)  time: 0.6713  data: 0.0322  max mem: 4171\n"
     ]
    },
    {
     "name": "stdout",
     "output_type": "stream",
     "text": [
      "Epoch: [7]  [1200/2393]  eta: 0:13:29  lr: 0.000822  loss: 0.6419 (0.6394)  loss_classifier: 0.0362 (0.0411)  loss_box_reg: 0.0000 (0.0000)  loss_objectness: 0.3579 (0.3832)  loss_rpn_box_reg: 0.2612 (0.2151)  time: 0.6747  data: 0.0335  max mem: 4171\n"
     ]
    },
    {
     "name": "stdout",
     "output_type": "stream",
     "text": [
      "Epoch: [7]  [1300/2393]  eta: 0:12:21  lr: 0.000822  loss: 0.5057 (0.6703)  loss_classifier: 0.0312 (0.0412)  loss_box_reg: 0.0000 (0.0000)  loss_objectness: 0.3658 (0.3853)  loss_rpn_box_reg: 0.1181 (0.2438)  time: 0.6794  data: 0.0344  max mem: 4171\n"
     ]
    },
    {
     "name": "stdout",
     "output_type": "stream",
     "text": [
      "Epoch: [7]  [1400/2393]  eta: 0:11:13  lr: 0.000822  loss: 0.4862 (0.6639)  loss_classifier: 0.0313 (0.0411)  loss_box_reg: 0.0000 (0.0000)  loss_objectness: 0.3627 (0.3838)  loss_rpn_box_reg: 0.1102 (0.2390)  time: 0.6690  data: 0.0330  max mem: 4171\n"
     ]
    },
    {
     "name": "stdout",
     "output_type": "stream",
     "text": [
      "Epoch: [7]  [1500/2393]  eta: 0:10:06  lr: 0.000822  loss: 0.5177 (0.6609)  loss_classifier: 0.0291 (0.0412)  loss_box_reg: 0.0000 (0.0000)  loss_objectness: 0.3683 (0.3831)  loss_rpn_box_reg: 0.1146 (0.2365)  time: 0.6747  data: 0.0328  max mem: 4171\n"
     ]
    },
    {
     "name": "stdout",
     "output_type": "stream",
     "text": [
      "Epoch: [7]  [1600/2393]  eta: 0:08:58  lr: 0.000822  loss: 0.4651 (0.6584)  loss_classifier: 0.0272 (0.0412)  loss_box_reg: 0.0000 (0.0000)  loss_objectness: 0.3679 (0.3828)  loss_rpn_box_reg: 0.0854 (0.2343)  time: 0.6686  data: 0.0335  max mem: 4171\n"
     ]
    },
    {
     "name": "stdout",
     "output_type": "stream",
     "text": [
      "Epoch: [7]  [1700/2393]  eta: 0:07:50  lr: 0.000822  loss: 0.5131 (0.6540)  loss_classifier: 0.0337 (0.0411)  loss_box_reg: 0.0000 (0.0000)  loss_objectness: 0.3562 (0.3822)  loss_rpn_box_reg: 0.1220 (0.2307)  time: 0.6790  data: 0.0350  max mem: 4171\n"
     ]
    },
    {
     "name": "stdout",
     "output_type": "stream",
     "text": [
      "Epoch: [7]  [1800/2393]  eta: 0:06:42  lr: 0.000822  loss: 0.6211 (0.6492)  loss_classifier: 0.0457 (0.0409)  loss_box_reg: 0.0000 (0.0000)  loss_objectness: 0.3692 (0.3814)  loss_rpn_box_reg: 0.1759 (0.2268)  time: 0.6858  data: 0.0359  max mem: 4171\n"
     ]
    },
    {
     "name": "stdout",
     "output_type": "stream",
     "text": [
      "Epoch: [7]  [1900/2393]  eta: 0:05:34  lr: 0.000822  loss: 0.5659 (0.6462)  loss_classifier: 0.0416 (0.0407)  loss_box_reg: 0.0000 (0.0000)  loss_objectness: 0.3660 (0.3809)  loss_rpn_box_reg: 0.1701 (0.2246)  time: 0.6911  data: 0.0362  max mem: 4171\n"
     ]
    },
    {
     "name": "stdout",
     "output_type": "stream",
     "text": [
      "Epoch: [7]  [2000/2393]  eta: 0:04:26  lr: 0.000822  loss: 0.4654 (0.6436)  loss_classifier: 0.0247 (0.0406)  loss_box_reg: 0.0000 (0.0000)  loss_objectness: 0.3624 (0.3804)  loss_rpn_box_reg: 0.0897 (0.2226)  time: 0.6866  data: 0.0375  max mem: 4171\n"
     ]
    },
    {
     "name": "stdout",
     "output_type": "stream",
     "text": [
      "Epoch: [7]  [2100/2393]  eta: 0:03:19  lr: 0.000822  loss: 0.5421 (0.6408)  loss_classifier: 0.0381 (0.0406)  loss_box_reg: 0.0000 (0.0000)  loss_objectness: 0.3544 (0.3798)  loss_rpn_box_reg: 0.1366 (0.2204)  time: 0.6805  data: 0.0352  max mem: 4171\n"
     ]
    },
    {
     "name": "stdout",
     "output_type": "stream",
     "text": [
      "Epoch: [7]  [2200/2393]  eta: 0:02:11  lr: 0.000822  loss: 0.5459 (0.6398)  loss_classifier: 0.0245 (0.0405)  loss_box_reg: 0.0000 (0.0000)  loss_objectness: 0.3655 (0.3796)  loss_rpn_box_reg: 0.1674 (0.2197)  time: 0.6815  data: 0.0353  max mem: 4171\n"
     ]
    },
    {
     "name": "stdout",
     "output_type": "stream",
     "text": [
      "Epoch: [7]  [2300/2393]  eta: 0:01:03  lr: 0.000822  loss: 0.4639 (0.6397)  loss_classifier: 0.0243 (0.0406)  loss_box_reg: 0.0000 (0.0000)  loss_objectness: 0.3618 (0.3798)  loss_rpn_box_reg: 0.1058 (0.2193)  time: 0.6846  data: 0.0350  max mem: 4171\n"
     ]
    },
    {
     "name": "stdout",
     "output_type": "stream",
     "text": [
      "Epoch: [7]  [2392/2393]  eta: 0:00:00  lr: 0.000822  loss: 0.4455 (0.6384)  loss_classifier: 0.0206 (0.0405)  loss_box_reg: 0.0000 (0.0000)  loss_objectness: 0.3495 (0.3797)  loss_rpn_box_reg: 0.0638 (0.2181)  time: 0.6707  data: 0.0347  max mem: 4171\n",
      "Epoch: [7] Total time: 0:27:05 (0.6791 s / it)\n"
     ]
    },
    {
     "name": "stdout",
     "output_type": "stream",
     "text": [
      "creating index...\n",
      "index created!\n"
     ]
    },
    {
     "name": "stdout",
     "output_type": "stream",
     "text": [
      "Test:  [  0/303]  eta: 0:08:32  model_time: 0.3848 (0.3848)  evaluator_time: 0.0364 (0.0364)  time: 1.6913  data: 1.2376  max mem: 4171\n"
     ]
    },
    {
     "name": "stdout",
     "output_type": "stream",
     "text": [
      "Test:  [100/303]  eta: 0:01:13  model_time: 0.2707 (0.2774)  evaluator_time: 0.0085 (0.0103)  time: 0.3488  data: 0.0439  max mem: 4171\n"
     ]
    },
    {
     "name": "stdout",
     "output_type": "stream",
     "text": [
      "Test:  [200/303]  eta: 0:00:36  model_time: 0.2687 (0.2756)  evaluator_time: 0.0068 (0.0092)  time: 0.3451  data: 0.0451  max mem: 4171\n"
     ]
    },
    {
     "name": "stdout",
     "output_type": "stream",
     "text": [
      "Test:  [300/303]  eta: 0:00:01  model_time: 0.2690 (0.2749)  evaluator_time: 0.0053 (0.0083)  time: 0.3353  data: 0.0431  max mem: 4171\n"
     ]
    },
    {
     "name": "stdout",
     "output_type": "stream",
     "text": [
      "Test:  [302/303]  eta: 0:00:00  model_time: 0.2687 (0.2748)  evaluator_time: 0.0053 (0.0083)  time: 0.3339  data: 0.0431  max mem: 4171\n",
      "Test: Total time: 0:01:46 (0.3520 s / it)\n",
      "Averaged stats: model_time: 0.2687 (0.2748)  evaluator_time: 0.0053 (0.0083)\n",
      "Accumulating evaluation results...\n"
     ]
    },
    {
     "name": "stdout",
     "output_type": "stream",
     "text": [
      "DONE (t=0.33s).\n",
      "IoU metric: bbox\n",
      " Average Precision  (AP) @[ IoU=0.50:0.95 | area=   all | maxDets=100 ] = 0.000\n",
      " Average Precision  (AP) @[ IoU=0.50      | area=   all | maxDets=100 ] = 0.000\n",
      " Average Precision  (AP) @[ IoU=0.75      | area=   all | maxDets=100 ] = 0.000\n",
      " Average Precision  (AP) @[ IoU=0.50:0.95 | area= small | maxDets=100 ] = 0.000\n",
      " Average Precision  (AP) @[ IoU=0.50:0.95 | area=medium | maxDets=100 ] = 0.000\n",
      " Average Precision  (AP) @[ IoU=0.50:0.95 | area= large | maxDets=100 ] = 0.000\n",
      " Average Recall     (AR) @[ IoU=0.50:0.95 | area=   all | maxDets=  1 ] = 0.000\n",
      " Average Recall     (AR) @[ IoU=0.50:0.95 | area=   all | maxDets= 10 ] = 0.000\n",
      " Average Recall     (AR) @[ IoU=0.50:0.95 | area=   all | maxDets=100 ] = 0.000\n",
      " Average Recall     (AR) @[ IoU=0.50:0.95 | area= small | maxDets=100 ] = 0.000\n",
      " Average Recall     (AR) @[ IoU=0.50:0.95 | area=medium | maxDets=100 ] = 0.000\n",
      " Average Recall     (AR) @[ IoU=0.50:0.95 | area= large | maxDets=100 ] = 0.000\n"
     ]
    },
    {
     "name": "stdout",
     "output_type": "stream",
     "text": [
      "Epoch: [8]  [   0/2393]  eta: 1:19:27  lr: 0.000773  loss: 0.5429 (0.5429)  loss_classifier: 0.0185 (0.0185)  loss_box_reg: 0.0000 (0.0000)  loss_objectness: 0.3745 (0.3745)  loss_rpn_box_reg: 0.1500 (0.1500)  time: 1.9924  data: 1.0490  max mem: 4171\n"
     ]
    },
    {
     "name": "stdout",
     "output_type": "stream",
     "text": [
      "Epoch: [8]  [ 100/2393]  eta: 0:26:33  lr: 0.000773  loss: 0.5529 (0.5879)  loss_classifier: 0.0407 (0.0383)  loss_box_reg: 0.0000 (0.0000)  loss_objectness: 0.3666 (0.3745)  loss_rpn_box_reg: 0.1156 (0.1752)  time: 0.6800  data: 0.0349  max mem: 4171\n"
     ]
    },
    {
     "name": "stdout",
     "output_type": "stream",
     "text": [
      "Epoch: [8]  [ 200/2393]  eta: 0:25:08  lr: 0.000773  loss: 0.4869 (0.5930)  loss_classifier: 0.0247 (0.0393)  loss_box_reg: 0.0000 (0.0000)  loss_objectness: 0.3466 (0.3728)  loss_rpn_box_reg: 0.1152 (0.1808)  time: 0.6842  data: 0.0373  max mem: 4171\n"
     ]
    },
    {
     "name": "stdout",
     "output_type": "stream",
     "text": [
      "Epoch: [8]  [ 300/2393]  eta: 0:23:53  lr: 0.000773  loss: 0.5600 (0.6048)  loss_classifier: 0.0359 (0.0404)  loss_box_reg: 0.0000 (0.0000)  loss_objectness: 0.3687 (0.3743)  loss_rpn_box_reg: 0.1659 (0.1901)  time: 0.6903  data: 0.0402  max mem: 4171\n"
     ]
    },
    {
     "name": "stdout",
     "output_type": "stream",
     "text": [
      "Epoch: [8]  [ 400/2393]  eta: 0:22:42  lr: 0.000773  loss: 0.6246 (0.6159)  loss_classifier: 0.0418 (0.0415)  loss_box_reg: 0.0000 (0.0000)  loss_objectness: 0.3679 (0.3755)  loss_rpn_box_reg: 0.2003 (0.1990)  time: 0.6836  data: 0.0358  max mem: 4171\n"
     ]
    },
    {
     "name": "stdout",
     "output_type": "stream",
     "text": [
      "Epoch: [8]  [ 500/2393]  eta: 0:21:31  lr: 0.000773  loss: 0.5706 (0.6157)  loss_classifier: 0.0320 (0.0413)  loss_box_reg: 0.0000 (0.0000)  loss_objectness: 0.3709 (0.3756)  loss_rpn_box_reg: 0.1417 (0.1987)  time: 0.6809  data: 0.0359  max mem: 4171\n"
     ]
    },
    {
     "name": "stdout",
     "output_type": "stream",
     "text": [
      "Epoch: [8]  [ 600/2393]  eta: 0:20:22  lr: 0.000773  loss: 0.4548 (0.6091)  loss_classifier: 0.0215 (0.0406)  loss_box_reg: 0.0000 (0.0000)  loss_objectness: 0.3630 (0.3744)  loss_rpn_box_reg: 0.0990 (0.1941)  time: 0.6743  data: 0.0330  max mem: 4171\n"
     ]
    },
    {
     "name": "stdout",
     "output_type": "stream",
     "text": [
      "Epoch: [8]  [ 700/2393]  eta: 0:19:13  lr: 0.000773  loss: 0.5002 (0.6123)  loss_classifier: 0.0259 (0.0410)  loss_box_reg: 0.0000 (0.0000)  loss_objectness: 0.3659 (0.3742)  loss_rpn_box_reg: 0.1053 (0.1971)  time: 0.6710  data: 0.0328  max mem: 4171\n"
     ]
    },
    {
     "name": "stdout",
     "output_type": "stream",
     "text": [
      "Epoch: [8]  [ 800/2393]  eta: 0:18:04  lr: 0.000773  loss: 0.6053 (0.6104)  loss_classifier: 0.0428 (0.0408)  loss_box_reg: 0.0000 (0.0000)  loss_objectness: 0.3656 (0.3735)  loss_rpn_box_reg: 0.2030 (0.1961)  time: 0.6745  data: 0.0335  max mem: 4171\n"
     ]
    },
    {
     "name": "stdout",
     "output_type": "stream",
     "text": [
      "Epoch: [8]  [ 900/2393]  eta: 0:16:55  lr: 0.000773  loss: 0.6480 (0.6149)  loss_classifier: 0.0546 (0.0416)  loss_box_reg: 0.0000 (0.0000)  loss_objectness: 0.3801 (0.3736)  loss_rpn_box_reg: 0.2238 (0.1997)  time: 0.6780  data: 0.0345  max mem: 4171\n"
     ]
    },
    {
     "name": "stdout",
     "output_type": "stream",
     "text": [
      "Epoch: [8]  [1000/2393]  eta: 0:15:46  lr: 0.000773  loss: 0.5809 (0.6162)  loss_classifier: 0.0446 (0.0417)  loss_box_reg: 0.0000 (0.0000)  loss_objectness: 0.3681 (0.3737)  loss_rpn_box_reg: 0.1738 (0.2007)  time: 0.6674  data: 0.0323  max mem: 4171\n"
     ]
    },
    {
     "name": "stdout",
     "output_type": "stream",
     "text": [
      "Epoch: [8]  [1100/2393]  eta: 0:14:37  lr: 0.000773  loss: 0.5364 (0.6114)  loss_classifier: 0.0322 (0.0409)  loss_box_reg: 0.0000 (0.0000)  loss_objectness: 0.3660 (0.3733)  loss_rpn_box_reg: 0.1213 (0.1972)  time: 0.6701  data: 0.0325  max mem: 4171\n"
     ]
    },
    {
     "name": "stdout",
     "output_type": "stream",
     "text": [
      "Epoch: [8]  [1200/2393]  eta: 0:13:29  lr: 0.000773  loss: 0.6123 (0.6112)  loss_classifier: 0.0365 (0.0410)  loss_box_reg: 0.0000 (0.0000)  loss_objectness: 0.3700 (0.3733)  loss_rpn_box_reg: 0.2014 (0.1969)  time: 0.6694  data: 0.0341  max mem: 4171\n"
     ]
    },
    {
     "name": "stdout",
     "output_type": "stream",
     "text": [
      "Epoch: [8]  [1300/2393]  eta: 0:12:21  lr: 0.000773  loss: 0.4746 (0.6108)  loss_classifier: 0.0305 (0.0410)  loss_box_reg: 0.0000 (0.0000)  loss_objectness: 0.3648 (0.3732)  loss_rpn_box_reg: 0.1066 (0.1967)  time: 0.6717  data: 0.0343  max mem: 4171\n"
     ]
    },
    {
     "name": "stdout",
     "output_type": "stream",
     "text": [
      "Epoch: [8]  [1400/2393]  eta: 0:11:13  lr: 0.000773  loss: 0.4868 (0.6091)  loss_classifier: 0.0245 (0.0409)  loss_box_reg: 0.0000 (0.0000)  loss_objectness: 0.3621 (0.3730)  loss_rpn_box_reg: 0.0889 (0.1952)  time: 0.6708  data: 0.0335  max mem: 4171\n"
     ]
    },
    {
     "name": "stdout",
     "output_type": "stream",
     "text": [
      "Epoch: [8]  [1500/2393]  eta: 0:10:05  lr: 0.000773  loss: 0.5641 (0.6079)  loss_classifier: 0.0344 (0.0409)  loss_box_reg: 0.0000 (0.0000)  loss_objectness: 0.3650 (0.3728)  loss_rpn_box_reg: 0.1607 (0.1942)  time: 0.6687  data: 0.0332  max mem: 4171\n"
     ]
    },
    {
     "name": "stdout",
     "output_type": "stream",
     "text": [
      "Epoch: [8]  [1600/2393]  eta: 0:08:57  lr: 0.000773  loss: 0.5909 (0.6068)  loss_classifier: 0.0325 (0.0409)  loss_box_reg: 0.0000 (0.0000)  loss_objectness: 0.3626 (0.3727)  loss_rpn_box_reg: 0.1536 (0.1932)  time: 0.6800  data: 0.0356  max mem: 4171\n"
     ]
    },
    {
     "name": "stdout",
     "output_type": "stream",
     "text": [
      "Epoch: [8]  [1700/2393]  eta: 0:07:49  lr: 0.000773  loss: 0.5149 (0.6062)  loss_classifier: 0.0273 (0.0407)  loss_box_reg: 0.0000 (0.0000)  loss_objectness: 0.3619 (0.3727)  loss_rpn_box_reg: 0.1210 (0.1928)  time: 0.6794  data: 0.0349  max mem: 4171\n"
     ]
    },
    {
     "name": "stdout",
     "output_type": "stream",
     "text": [
      "Epoch: [8]  [1800/2393]  eta: 0:06:42  lr: 0.000773  loss: 0.5142 (0.6054)  loss_classifier: 0.0371 (0.0406)  loss_box_reg: 0.0000 (0.0000)  loss_objectness: 0.3580 (0.3724)  loss_rpn_box_reg: 0.1033 (0.1923)  time: 0.6813  data: 0.0353  max mem: 4171\n"
     ]
    },
    {
     "name": "stdout",
     "output_type": "stream",
     "text": [
      "Epoch: [8]  [1900/2393]  eta: 0:05:34  lr: 0.000773  loss: 0.4396 (0.6064)  loss_classifier: 0.0236 (0.0406)  loss_box_reg: 0.0000 (0.0000)  loss_objectness: 0.3654 (0.3727)  loss_rpn_box_reg: 0.0727 (0.1931)  time: 0.6807  data: 0.0355  max mem: 4171\n"
     ]
    },
    {
     "name": "stdout",
     "output_type": "stream",
     "text": [
      "Epoch: [8]  [2000/2393]  eta: 0:04:26  lr: 0.000773  loss: 0.4827 (0.6054)  loss_classifier: 0.0344 (0.0405)  loss_box_reg: 0.0000 (0.0000)  loss_objectness: 0.3655 (0.3726)  loss_rpn_box_reg: 0.1243 (0.1923)  time: 0.6863  data: 0.0380  max mem: 4171\n"
     ]
    },
    {
     "name": "stdout",
     "output_type": "stream",
     "text": [
      "Epoch: [8]  [2100/2393]  eta: 0:03:18  lr: 0.000773  loss: 0.5859 (0.6071)  loss_classifier: 0.0214 (0.0405)  loss_box_reg: 0.0000 (0.0000)  loss_objectness: 0.3688 (0.3729)  loss_rpn_box_reg: 0.1954 (0.1936)  time: 0.6864  data: 0.0354  max mem: 4171\n"
     ]
    },
    {
     "name": "stdout",
     "output_type": "stream",
     "text": [
      "Epoch: [8]  [2200/2393]  eta: 0:02:10  lr: 0.000773  loss: 0.5939 (0.6073)  loss_classifier: 0.0518 (0.0405)  loss_box_reg: 0.0000 (0.0000)  loss_objectness: 0.3730 (0.3731)  loss_rpn_box_reg: 0.1933 (0.1937)  time: 0.6837  data: 0.0362  max mem: 4171\n"
     ]
    },
    {
     "name": "stdout",
     "output_type": "stream",
     "text": [
      "Epoch: [8]  [2300/2393]  eta: 0:01:03  lr: 0.000773  loss: 0.5064 (0.6069)  loss_classifier: 0.0254 (0.0404)  loss_box_reg: 0.0000 (0.0000)  loss_objectness: 0.3512 (0.3729)  loss_rpn_box_reg: 0.1331 (0.1936)  time: 0.6832  data: 0.0367  max mem: 4171\n"
     ]
    },
    {
     "name": "stdout",
     "output_type": "stream",
     "text": [
      "Epoch: [8]  [2392/2393]  eta: 0:00:00  lr: 0.000773  loss: 0.4736 (0.6073)  loss_classifier: 0.0244 (0.0405)  loss_box_reg: 0.0000 (0.0000)  loss_objectness: 0.3477 (0.3729)  loss_rpn_box_reg: 0.1049 (0.1939)  time: 0.6737  data: 0.0360  max mem: 4171\n",
      "Epoch: [8] Total time: 0:27:02 (0.6782 s / it)\n"
     ]
    },
    {
     "name": "stdout",
     "output_type": "stream",
     "text": [
      "creating index...\n",
      "index created!\n"
     ]
    },
    {
     "name": "stdout",
     "output_type": "stream",
     "text": [
      "Test:  [  0/303]  eta: 0:08:33  model_time: 0.3766 (0.3766)  evaluator_time: 0.0403 (0.0403)  time: 1.6934  data: 1.2438  max mem: 4171\n"
     ]
    },
    {
     "name": "stdout",
     "output_type": "stream",
     "text": [
      "Test:  [100/303]  eta: 0:01:12  model_time: 0.2694 (0.2757)  evaluator_time: 0.0076 (0.0103)  time: 0.3402  data: 0.0400  max mem: 4171\n"
     ]
    },
    {
     "name": "stdout",
     "output_type": "stream",
     "text": [
      "Test:  [200/303]  eta: 0:00:35  model_time: 0.2684 (0.2747)  evaluator_time: 0.0065 (0.0093)  time: 0.3408  data: 0.0423  max mem: 4171\n"
     ]
    },
    {
     "name": "stdout",
     "output_type": "stream",
     "text": [
      "Test:  [300/303]  eta: 0:00:01  model_time: 0.2682 (0.2734)  evaluator_time: 0.0053 (0.0083)  time: 0.3306  data: 0.0423  max mem: 4171\n"
     ]
    },
    {
     "name": "stdout",
     "output_type": "stream",
     "text": [
      "Test:  [302/303]  eta: 0:00:00  model_time: 0.2666 (0.2733)  evaluator_time: 0.0051 (0.0082)  time: 0.3213  data: 0.0380  max mem: 4171\n",
      "Test: Total time: 0:01:44 (0.3460 s / it)\n",
      "Averaged stats: model_time: 0.2666 (0.2733)  evaluator_time: 0.0051 (0.0082)\n",
      "Accumulating evaluation results...\n"
     ]
    },
    {
     "name": "stdout",
     "output_type": "stream",
     "text": [
      "DONE (t=0.32s).\n",
      "IoU metric: bbox\n",
      " Average Precision  (AP) @[ IoU=0.50:0.95 | area=   all | maxDets=100 ] = 0.000\n",
      " Average Precision  (AP) @[ IoU=0.50      | area=   all | maxDets=100 ] = 0.000\n",
      " Average Precision  (AP) @[ IoU=0.75      | area=   all | maxDets=100 ] = 0.000\n",
      " Average Precision  (AP) @[ IoU=0.50:0.95 | area= small | maxDets=100 ] = 0.000\n",
      " Average Precision  (AP) @[ IoU=0.50:0.95 | area=medium | maxDets=100 ] = 0.000\n",
      " Average Precision  (AP) @[ IoU=0.50:0.95 | area= large | maxDets=100 ] = 0.000\n",
      " Average Recall     (AR) @[ IoU=0.50:0.95 | area=   all | maxDets=  1 ] = 0.000\n",
      " Average Recall     (AR) @[ IoU=0.50:0.95 | area=   all | maxDets= 10 ] = 0.000\n",
      " Average Recall     (AR) @[ IoU=0.50:0.95 | area=   all | maxDets=100 ] = 0.000\n",
      " Average Recall     (AR) @[ IoU=0.50:0.95 | area= small | maxDets=100 ] = 0.000\n",
      " Average Recall     (AR) @[ IoU=0.50:0.95 | area=medium | maxDets=100 ] = 0.000\n",
      " Average Recall     (AR) @[ IoU=0.50:0.95 | area= large | maxDets=100 ] = 0.000\n"
     ]
    },
    {
     "name": "stdout",
     "output_type": "stream",
     "text": [
      "Epoch: [9]  [   0/2393]  eta: 1:23:47  lr: 0.000719  loss: 0.3944 (0.3944)  loss_classifier: 0.0047 (0.0047)  loss_box_reg: 0.0000 (0.0000)  loss_objectness: 0.3645 (0.3645)  loss_rpn_box_reg: 0.0252 (0.0252)  time: 2.1009  data: 1.1592  max mem: 4171\n"
     ]
    },
    {
     "name": "stdout",
     "output_type": "stream",
     "text": [
      "Epoch: [9]  [ 100/2393]  eta: 0:26:52  lr: 0.000719  loss: 0.5356 (0.6181)  loss_classifier: 0.0357 (0.0399)  loss_box_reg: 0.0000 (0.0000)  loss_objectness: 0.3675 (0.3788)  loss_rpn_box_reg: 0.1368 (0.1993)  time: 0.7010  data: 0.0421  max mem: 4171\n"
     ]
    },
    {
     "name": "stdout",
     "output_type": "stream",
     "text": [
      "Epoch: [9]  [ 200/2393]  eta: 0:25:20  lr: 0.000719  loss: 0.5444 (0.6089)  loss_classifier: 0.0332 (0.0404)  loss_box_reg: 0.0000 (0.0000)  loss_objectness: 0.3637 (0.3765)  loss_rpn_box_reg: 0.1397 (0.1920)  time: 0.6909  data: 0.0388  max mem: 4171\n"
     ]
    },
    {
     "name": "stdout",
     "output_type": "stream",
     "text": [
      "Epoch: [9]  [ 300/2393]  eta: 0:24:04  lr: 0.000719  loss: 0.4914 (1.1446)  loss_classifier: 0.0338 (0.0397)  loss_box_reg: 0.0000 (0.0000)  loss_objectness: 0.3695 (0.4936)  loss_rpn_box_reg: 0.1173 (0.6113)  time: 0.6930  data: 0.0371  max mem: 4171\n"
     ]
    },
    {
     "name": "stdout",
     "output_type": "stream",
     "text": [
      "Epoch: [9]  [ 400/2393]  eta: 0:22:51  lr: 0.000719  loss: 0.5423 (3.2039)  loss_classifier: 0.0354 (0.0391)  loss_box_reg: 0.0000 (0.0000)  loss_objectness: 0.3672 (0.9750)  loss_rpn_box_reg: 0.1406 (2.1899)  time: 0.6814  data: 0.0361  max mem: 4171\n"
     ]
    },
    {
     "name": "stdout",
     "output_type": "stream",
     "text": [
      "Epoch: [9]  [ 500/2393]  eta: 0:21:39  lr: 0.000719  loss: 0.5306 (2.6817)  loss_classifier: 0.0280 (0.0392)  loss_box_reg: 0.0000 (0.0000)  loss_objectness: 0.3649 (0.8540)  loss_rpn_box_reg: 0.1277 (1.7885)  time: 0.6848  data: 0.0392  max mem: 4171\n"
     ]
    },
    {
     "name": "stdout",
     "output_type": "stream",
     "text": [
      "Epoch: [9]  [ 600/2393]  eta: 0:20:29  lr: 0.000719  loss: 0.5539 (2.3391)  loss_classifier: 0.0434 (0.0394)  loss_box_reg: 0.0000 (0.0000)  loss_objectness: 0.3664 (0.7743)  loss_rpn_box_reg: 0.1618 (1.5254)  time: 0.6805  data: 0.0363  max mem: 4171\n"
     ]
    },
    {
     "name": "stdout",
     "output_type": "stream",
     "text": [
      "Epoch: [9]  [ 700/2393]  eta: 0:19:19  lr: 0.000719  loss: 0.4868 (2.0943)  loss_classifier: 0.0239 (0.0396)  loss_box_reg: 0.0000 (0.0000)  loss_objectness: 0.3612 (0.7172)  loss_rpn_box_reg: 0.0998 (1.3376)  time: 0.6761  data: 0.0334  max mem: 4171\n"
     ]
    },
    {
     "name": "stdout",
     "output_type": "stream",
     "text": [
      "Epoch: [9]  [ 800/2393]  eta: 0:18:09  lr: 0.000719  loss: 0.4939 (1.9078)  loss_classifier: 0.0245 (0.0397)  loss_box_reg: 0.0000 (0.0000)  loss_objectness: 0.3602 (0.6740)  loss_rpn_box_reg: 0.1176 (1.1941)  time: 0.6752  data: 0.0323  max mem: 4171\n"
     ]
    },
    {
     "name": "stdout",
     "output_type": "stream",
     "text": [
      "Epoch: [9]  [ 900/2393]  eta: 0:17:00  lr: 0.000719  loss: 0.5259 (1.7668)  loss_classifier: 0.0391 (0.0400)  loss_box_reg: 0.0000 (0.0000)  loss_objectness: 0.3690 (0.6410)  loss_rpn_box_reg: 0.1703 (1.0859)  time: 0.6730  data: 0.0329  max mem: 4171\n"
     ]
    },
    {
     "name": "stdout",
     "output_type": "stream",
     "text": [
      "Epoch: [9]  [1000/2393]  eta: 0:15:51  lr: 0.000719  loss: 0.6512 (1.6512)  loss_classifier: 0.0533 (0.0400)  loss_box_reg: 0.0000 (0.0000)  loss_objectness: 0.3699 (0.6143)  loss_rpn_box_reg: 0.2344 (0.9969)  time: 0.6690  data: 0.0331  max mem: 4171\n"
     ]
    },
    {
     "name": "stdout",
     "output_type": "stream",
     "text": [
      "Epoch: [9]  [1100/2393]  eta: 0:14:43  lr: 0.000719  loss: 0.4460 (1.5548)  loss_classifier: 0.0302 (0.0398)  loss_box_reg: 0.0000 (0.0000)  loss_objectness: 0.3679 (0.5921)  loss_rpn_box_reg: 0.0455 (0.9229)  time: 0.6792  data: 0.0349  max mem: 4171\n"
     ]
    },
    {
     "name": "stdout",
     "output_type": "stream",
     "text": [
      "Epoch: [9]  [1200/2393]  eta: 0:13:34  lr: 0.000719  loss: 0.5417 (1.4768)  loss_classifier: 0.0413 (0.0400)  loss_box_reg: 0.0000 (0.0000)  loss_objectness: 0.3684 (0.5740)  loss_rpn_box_reg: 0.1312 (0.8629)  time: 0.6759  data: 0.0347  max mem: 4171\n"
     ]
    },
    {
     "name": "stdout",
     "output_type": "stream",
     "text": [
      "Epoch: [9]  [1300/2393]  eta: 0:12:25  lr: 0.000719  loss: 0.4642 (1.4072)  loss_classifier: 0.0219 (0.0399)  loss_box_reg: 0.0000 (0.0000)  loss_objectness: 0.3570 (0.5581)  loss_rpn_box_reg: 0.1044 (0.8092)  time: 0.6732  data: 0.0326  max mem: 4171\n"
     ]
    },
    {
     "name": "stdout",
     "output_type": "stream",
     "text": [
      "Epoch: [9]  [1400/2393]  eta: 0:11:17  lr: 0.000719  loss: 0.5174 (1.3484)  loss_classifier: 0.0501 (0.0399)  loss_box_reg: 0.0000 (0.0000)  loss_objectness: 0.3603 (0.5450)  loss_rpn_box_reg: 0.1345 (0.7635)  time: 0.6741  data: 0.0341  max mem: 4171\n"
     ]
    },
    {
     "name": "stdout",
     "output_type": "stream",
     "text": [
      "Epoch: [9]  [1500/2393]  eta: 0:10:08  lr: 0.000719  loss: 0.4996 (1.3016)  loss_classifier: 0.0355 (0.0400)  loss_box_reg: 0.0000 (0.0000)  loss_objectness: 0.3640 (0.5341)  loss_rpn_box_reg: 0.1012 (0.7275)  time: 0.6864  data: 0.0391  max mem: 4171\n"
     ]
    },
    {
     "name": "stdout",
     "output_type": "stream",
     "text": [
      "Epoch: [9]  [1600/2393]  eta: 0:09:00  lr: 0.000719  loss: 0.4618 (1.2594)  loss_classifier: 0.0241 (0.0403)  loss_box_reg: 0.0000 (0.0000)  loss_objectness: 0.3456 (0.5240)  loss_rpn_box_reg: 0.1035 (0.6952)  time: 0.6872  data: 0.0376  max mem: 4171\n"
     ]
    },
    {
     "name": "stdout",
     "output_type": "stream",
     "text": [
      "Epoch: [9]  [1700/2393]  eta: 0:07:52  lr: 0.000719  loss: 0.4894 (1.2226)  loss_classifier: 0.0296 (0.0403)  loss_box_reg: 0.0000 (0.0000)  loss_objectness: 0.3643 (0.5154)  loss_rpn_box_reg: 0.0888 (0.6669)  time: 0.6896  data: 0.0386  max mem: 4171\n"
     ]
    },
    {
     "name": "stdout",
     "output_type": "stream",
     "text": [
      "Epoch: [9]  [1800/2393]  eta: 0:06:44  lr: 0.000719  loss: 0.6106 (1.1916)  loss_classifier: 0.0398 (0.0407)  loss_box_reg: 0.0000 (0.0000)  loss_objectness: 0.3662 (0.5080)  loss_rpn_box_reg: 0.1881 (0.6429)  time: 0.6814  data: 0.0357  max mem: 4171\n"
     ]
    },
    {
     "name": "stdout",
     "output_type": "stream",
     "text": [
      "Epoch: [9]  [1900/2393]  eta: 0:05:35  lr: 0.000719  loss: 0.5366 (1.1598)  loss_classifier: 0.0289 (0.0406)  loss_box_reg: 0.0000 (0.0000)  loss_objectness: 0.3553 (0.5006)  loss_rpn_box_reg: 0.1599 (0.6185)  time: 0.6831  data: 0.0358  max mem: 4171\n"
     ]
    },
    {
     "name": "stdout",
     "output_type": "stream",
     "text": [
      "Epoch: [9]  [2000/2393]  eta: 0:04:27  lr: 0.000719  loss: 0.5062 (1.1320)  loss_classifier: 0.0394 (0.0406)  loss_box_reg: 0.0000 (0.0000)  loss_objectness: 0.3617 (0.4940)  loss_rpn_box_reg: 0.1294 (0.5973)  time: 0.6828  data: 0.0359  max mem: 4171\n"
     ]
    },
    {
     "name": "stdout",
     "output_type": "stream",
     "text": [
      "Epoch: [9]  [2100/2393]  eta: 0:03:19  lr: 0.000719  loss: 0.5028 (1.1053)  loss_classifier: 0.0290 (0.0406)  loss_box_reg: 0.0000 (0.0000)  loss_objectness: 0.3542 (0.4880)  loss_rpn_box_reg: 0.1168 (0.5767)  time: 0.6831  data: 0.0357  max mem: 4171\n"
     ]
    },
    {
     "name": "stdout",
     "output_type": "stream",
     "text": [
      "Epoch: [9]  [2200/2393]  eta: 0:02:11  lr: 0.000719  loss: 0.5308 (1.0830)  loss_classifier: 0.0380 (0.0405)  loss_box_reg: 0.0000 (0.0000)  loss_objectness: 0.3670 (0.4829)  loss_rpn_box_reg: 0.1395 (0.5596)  time: 0.6705  data: 0.0331  max mem: 4171\n"
     ]
    },
    {
     "name": "stdout",
     "output_type": "stream",
     "text": [
      "Epoch: [9]  [2300/2393]  eta: 0:01:03  lr: 0.000719  loss: 0.5359 (1.0607)  loss_classifier: 0.0226 (0.0405)  loss_box_reg: 0.0000 (0.0000)  loss_objectness: 0.3668 (0.4778)  loss_rpn_box_reg: 0.1233 (0.5424)  time: 0.6787  data: 0.0353  max mem: 4171\n"
     ]
    },
    {
     "name": "stdout",
     "output_type": "stream",
     "text": [
      "Epoch: [9]  [2392/2393]  eta: 0:00:00  lr: 0.000719  loss: 0.4037 (1.0440)  loss_classifier: 0.0168 (0.0405)  loss_box_reg: 0.0000 (0.0000)  loss_objectness: 0.3667 (0.4740)  loss_rpn_box_reg: 0.0531 (0.5296)  time: 0.6563  data: 0.0355  max mem: 4171\n",
      "Epoch: [9] Total time: 0:27:08 (0.6806 s / it)\n"
     ]
    },
    {
     "name": "stdout",
     "output_type": "stream",
     "text": [
      "creating index...\n",
      "index created!\n"
     ]
    },
    {
     "name": "stdout",
     "output_type": "stream",
     "text": [
      "Test:  [  0/303]  eta: 0:09:10  model_time: 0.3646 (0.3646)  evaluator_time: 0.0526 (0.0526)  time: 1.8161  data: 1.3575  max mem: 4171\n"
     ]
    },
    {
     "name": "stdout",
     "output_type": "stream",
     "text": [
      "Test:  [100/303]  eta: 0:01:14  model_time: 0.2693 (0.2751)  evaluator_time: 0.0086 (0.0159)  time: 0.3649  data: 0.0530  max mem: 4171\n"
     ]
    },
    {
     "name": "stdout",
     "output_type": "stream",
     "text": [
      "Test:  [200/303]  eta: 0:00:36  model_time: 0.2683 (0.2738)  evaluator_time: 0.0068 (0.0120)  time: 0.3439  data: 0.0465  max mem: 4171\n"
     ]
    },
    {
     "name": "stdout",
     "output_type": "stream",
     "text": [
      "Test:  [300/303]  eta: 0:00:01  model_time: 0.2690 (0.2737)  evaluator_time: 0.0055 (0.0102)  time: 0.3363  data: 0.0430  max mem: 4171\n"
     ]
    },
    {
     "name": "stdout",
     "output_type": "stream",
     "text": [
      "Test:  [302/303]  eta: 0:00:00  model_time: 0.2682 (0.2736)  evaluator_time: 0.0055 (0.0101)  time: 0.3269  data: 0.0410  max mem: 4171\n",
      "Test: Total time: 0:01:46 (0.3508 s / it)\n",
      "Averaged stats: model_time: 0.2682 (0.2736)  evaluator_time: 0.0055 (0.0101)\n",
      "Accumulating evaluation results...\n"
     ]
    },
    {
     "name": "stdout",
     "output_type": "stream",
     "text": [
      "DONE (t=0.32s).\n",
      "IoU metric: bbox\n",
      " Average Precision  (AP) @[ IoU=0.50:0.95 | area=   all | maxDets=100 ] = 0.000\n",
      " Average Precision  (AP) @[ IoU=0.50      | area=   all | maxDets=100 ] = 0.000\n",
      " Average Precision  (AP) @[ IoU=0.75      | area=   all | maxDets=100 ] = 0.000\n",
      " Average Precision  (AP) @[ IoU=0.50:0.95 | area= small | maxDets=100 ] = 0.000\n",
      " Average Precision  (AP) @[ IoU=0.50:0.95 | area=medium | maxDets=100 ] = 0.000\n",
      " Average Precision  (AP) @[ IoU=0.50:0.95 | area= large | maxDets=100 ] = 0.000\n",
      " Average Recall     (AR) @[ IoU=0.50:0.95 | area=   all | maxDets=  1 ] = 0.000\n",
      " Average Recall     (AR) @[ IoU=0.50:0.95 | area=   all | maxDets= 10 ] = 0.000\n",
      " Average Recall     (AR) @[ IoU=0.50:0.95 | area=   all | maxDets=100 ] = 0.000\n",
      " Average Recall     (AR) @[ IoU=0.50:0.95 | area= small | maxDets=100 ] = 0.000\n",
      " Average Recall     (AR) @[ IoU=0.50:0.95 | area=medium | maxDets=100 ] = 0.000\n",
      " Average Recall     (AR) @[ IoU=0.50:0.95 | area= large | maxDets=100 ] = 0.000\n"
     ]
    },
    {
     "name": "stdout",
     "output_type": "stream",
     "text": [
      "Epoch: [10]  [   0/2393]  eta: 1:18:54  lr: 0.000661  loss: 0.7122 (0.7122)  loss_classifier: 0.0473 (0.0473)  loss_box_reg: 0.0000 (0.0000)  loss_objectness: 0.4134 (0.4134)  loss_rpn_box_reg: 0.2514 (0.2514)  time: 1.9784  data: 0.9801  max mem: 4171\n"
     ]
    },
    {
     "name": "stdout",
     "output_type": "stream",
     "text": [
      "Epoch: [10]  [ 100/2393]  eta: 0:26:33  lr: 0.000661  loss: 0.4852 (0.6082)  loss_classifier: 0.0221 (0.0406)  loss_box_reg: 0.0000 (0.0000)  loss_objectness: 0.3642 (0.3756)  loss_rpn_box_reg: 0.0901 (0.1919)  time: 0.6797  data: 0.0348  max mem: 4171\n"
     ]
    },
    {
     "name": "stdout",
     "output_type": "stream",
     "text": [
      "Epoch: [10]  [ 200/2393]  eta: 0:25:07  lr: 0.000661  loss: 0.4769 (0.6034)  loss_classifier: 0.0214 (0.0392)  loss_box_reg: 0.0000 (0.0000)  loss_objectness: 0.3650 (0.3757)  loss_rpn_box_reg: 0.1107 (0.1885)  time: 0.6727  data: 0.0333  max mem: 4171\n"
     ]
    },
    {
     "name": "stdout",
     "output_type": "stream",
     "text": [
      "Epoch: [10]  [ 300/2393]  eta: 0:23:53  lr: 0.000661  loss: 0.4568 (0.6064)  loss_classifier: 0.0272 (0.0402)  loss_box_reg: 0.0000 (0.0000)  loss_objectness: 0.3620 (0.3746)  loss_rpn_box_reg: 0.0889 (0.1915)  time: 0.6739  data: 0.0323  max mem: 4171\n"
     ]
    },
    {
     "name": "stdout",
     "output_type": "stream",
     "text": [
      "Epoch: [10]  [ 400/2393]  eta: 0:22:41  lr: 0.000661  loss: 0.5220 (0.6083)  loss_classifier: 0.0247 (0.0403)  loss_box_reg: 0.0000 (0.0000)  loss_objectness: 0.3656 (0.3746)  loss_rpn_box_reg: 0.1327 (0.1934)  time: 0.6744  data: 0.0336  max mem: 4171\n"
     ]
    },
    {
     "name": "stdout",
     "output_type": "stream",
     "text": [
      "Epoch: [10]  [ 500/2393]  eta: 0:21:32  lr: 0.000661  loss: 0.4804 (0.6032)  loss_classifier: 0.0256 (0.0398)  loss_box_reg: 0.0000 (0.0000)  loss_objectness: 0.3636 (0.3732)  loss_rpn_box_reg: 0.0635 (0.1902)  time: 0.6720  data: 0.0323  max mem: 4171\n"
     ]
    },
    {
     "name": "stdout",
     "output_type": "stream",
     "text": [
      "Epoch: [10]  [ 600/2393]  eta: 0:20:22  lr: 0.000661  loss: 0.5331 (0.6040)  loss_classifier: 0.0400 (0.0398)  loss_box_reg: 0.0000 (0.0000)  loss_objectness: 0.3484 (0.3731)  loss_rpn_box_reg: 0.1694 (0.1910)  time: 0.6714  data: 0.0325  max mem: 4171\n"
     ]
    },
    {
     "name": "stdout",
     "output_type": "stream",
     "text": [
      "Epoch: [10]  [ 700/2393]  eta: 0:19:15  lr: 0.000661  loss: 0.5488 (0.6044)  loss_classifier: 0.0346 (0.0396)  loss_box_reg: 0.0000 (0.0000)  loss_objectness: 0.3651 (0.3733)  loss_rpn_box_reg: 0.1631 (0.1914)  time: 0.6946  data: 0.0381  max mem: 4171\n"
     ]
    },
    {
     "name": "stdout",
     "output_type": "stream",
     "text": [
      "Epoch: [10]  [ 800/2393]  eta: 0:18:06  lr: 0.000661  loss: 0.4733 (0.6062)  loss_classifier: 0.0313 (0.0404)  loss_box_reg: 0.0000 (0.0000)  loss_objectness: 0.3611 (0.3736)  loss_rpn_box_reg: 0.1009 (0.1921)  time: 0.6886  data: 0.0333  max mem: 4171\n"
     ]
    },
    {
     "name": "stdout",
     "output_type": "stream",
     "text": [
      "Epoch: [10]  [ 900/2393]  eta: 0:16:57  lr: 0.000661  loss: 0.5389 (0.6068)  loss_classifier: 0.0525 (0.0404)  loss_box_reg: 0.0000 (0.0000)  loss_objectness: 0.3681 (0.3736)  loss_rpn_box_reg: 0.1612 (0.1928)  time: 0.6880  data: 0.0368  max mem: 4171\n"
     ]
    },
    {
     "name": "stdout",
     "output_type": "stream",
     "text": [
      "Epoch: [10]  [1000/2393]  eta: 0:15:49  lr: 0.000661  loss: 0.5313 (0.6036)  loss_classifier: 0.0276 (0.0403)  loss_box_reg: 0.0000 (0.0000)  loss_objectness: 0.3621 (0.3732)  loss_rpn_box_reg: 0.1437 (0.1901)  time: 0.6863  data: 0.0379  max mem: 4171\n"
     ]
    },
    {
     "name": "stdout",
     "output_type": "stream",
     "text": [
      "Epoch: [10]  [1100/2393]  eta: 0:14:40  lr: 0.000661  loss: 0.6042 (0.6021)  loss_classifier: 0.0430 (0.0400)  loss_box_reg: 0.0000 (0.0000)  loss_objectness: 0.3543 (0.3725)  loss_rpn_box_reg: 0.1931 (0.1895)  time: 0.6860  data: 0.0343  max mem: 4171\n"
     ]
    },
    {
     "name": "stdout",
     "output_type": "stream",
     "text": [
      "Epoch: [10]  [1200/2393]  eta: 0:13:32  lr: 0.000661  loss: 0.5141 (0.6036)  loss_classifier: 0.0326 (0.0403)  loss_box_reg: 0.0000 (0.0000)  loss_objectness: 0.3643 (0.3728)  loss_rpn_box_reg: 0.1120 (0.1904)  time: 0.6884  data: 0.0371  max mem: 4171\n"
     ]
    },
    {
     "name": "stdout",
     "output_type": "stream",
     "text": [
      "Epoch: [10]  [1300/2393]  eta: 0:12:23  lr: 0.000661  loss: 0.4877 (0.6049)  loss_classifier: 0.0329 (0.0402)  loss_box_reg: 0.0000 (0.0000)  loss_objectness: 0.3672 (0.3732)  loss_rpn_box_reg: 0.1055 (0.1915)  time: 0.6853  data: 0.0346  max mem: 4171\n"
     ]
    },
    {
     "name": "stdout",
     "output_type": "stream",
     "text": [
      "Epoch: [10]  [1400/2393]  eta: 0:11:15  lr: 0.000661  loss: 0.6088 (0.6103)  loss_classifier: 0.0403 (0.0407)  loss_box_reg: 0.0000 (0.0000)  loss_objectness: 0.3666 (0.3740)  loss_rpn_box_reg: 0.1946 (0.1956)  time: 0.6810  data: 0.0366  max mem: 4171\n"
     ]
    },
    {
     "name": "stdout",
     "output_type": "stream",
     "text": [
      "Epoch: [10]  [1500/2393]  eta: 0:10:06  lr: 0.000661  loss: 0.4999 (0.6096)  loss_classifier: 0.0243 (0.0405)  loss_box_reg: 0.0000 (0.0000)  loss_objectness: 0.3645 (0.3738)  loss_rpn_box_reg: 0.1143 (0.1952)  time: 0.6656  data: 0.0338  max mem: 4171\n"
     ]
    },
    {
     "name": "stdout",
     "output_type": "stream",
     "text": [
      "Epoch: [10]  [1600/2393]  eta: 0:08:59  lr: 0.000661  loss: 0.4771 (0.6089)  loss_classifier: 0.0342 (0.0405)  loss_box_reg: 0.0000 (0.0000)  loss_objectness: 0.3607 (0.3735)  loss_rpn_box_reg: 0.1061 (0.1949)  time: 0.6776  data: 0.0334  max mem: 4171\n"
     ]
    },
    {
     "name": "stdout",
     "output_type": "stream",
     "text": [
      "Epoch: [10]  [1700/2393]  eta: 0:07:51  lr: 0.000661  loss: 0.5348 (0.6078)  loss_classifier: 0.0310 (0.0404)  loss_box_reg: 0.0000 (0.0000)  loss_objectness: 0.3642 (0.3735)  loss_rpn_box_reg: 0.1443 (0.1939)  time: 0.6703  data: 0.0329  max mem: 4171\n"
     ]
    },
    {
     "name": "stdout",
     "output_type": "stream",
     "text": [
      "Epoch: [10]  [1800/2393]  eta: 0:06:43  lr: 0.000661  loss: 0.4917 (0.6052)  loss_classifier: 0.0365 (0.0402)  loss_box_reg: 0.0000 (0.0000)  loss_objectness: 0.3669 (0.3732)  loss_rpn_box_reg: 0.1072 (0.1918)  time: 0.6712  data: 0.0329  max mem: 4171\n"
     ]
    },
    {
     "name": "stdout",
     "output_type": "stream",
     "text": [
      "Epoch: [10]  [1900/2393]  eta: 0:05:35  lr: 0.000661  loss: 0.5362 (0.6055)  loss_classifier: 0.0412 (0.0402)  loss_box_reg: 0.0000 (0.0000)  loss_objectness: 0.3692 (0.3733)  loss_rpn_box_reg: 0.1282 (0.1920)  time: 0.6772  data: 0.0351  max mem: 4171\n"
     ]
    },
    {
     "name": "stdout",
     "output_type": "stream",
     "text": [
      "Epoch: [10]  [2000/2393]  eta: 0:04:27  lr: 0.000661  loss: 0.4239 (0.6053)  loss_classifier: 0.0157 (0.0400)  loss_box_reg: 0.0000 (0.0000)  loss_objectness: 0.3661 (0.3734)  loss_rpn_box_reg: 0.0470 (0.1919)  time: 0.6696  data: 0.0325  max mem: 4171\n"
     ]
    },
    {
     "name": "stdout",
     "output_type": "stream",
     "text": [
      "Epoch: [10]  [2100/2393]  eta: 0:03:19  lr: 0.000661  loss: 0.5265 (0.6065)  loss_classifier: 0.0404 (0.0402)  loss_box_reg: 0.0000 (0.0000)  loss_objectness: 0.3617 (0.3734)  loss_rpn_box_reg: 0.1240 (0.1929)  time: 0.6713  data: 0.0337  max mem: 4171\n"
     ]
    },
    {
     "name": "stdout",
     "output_type": "stream",
     "text": [
      "Epoch: [10]  [2200/2393]  eta: 0:02:11  lr: 0.000661  loss: 0.5562 (0.6072)  loss_classifier: 0.0347 (0.0402)  loss_box_reg: 0.0000 (0.0000)  loss_objectness: 0.3528 (0.3733)  loss_rpn_box_reg: 0.1486 (0.1937)  time: 0.6794  data: 0.0344  max mem: 4171\n"
     ]
    },
    {
     "name": "stdout",
     "output_type": "stream",
     "text": [
      "Epoch: [10]  [2300/2393]  eta: 0:01:03  lr: 0.000661  loss: 0.6243 (0.6076)  loss_classifier: 0.0389 (0.0404)  loss_box_reg: 0.0000 (0.0000)  loss_objectness: 0.3662 (0.3732)  loss_rpn_box_reg: 0.2023 (0.1941)  time: 0.6797  data: 0.0362  max mem: 4171\n"
     ]
    },
    {
     "name": "stdout",
     "output_type": "stream",
     "text": [
      "Epoch: [10]  [2392/2393]  eta: 0:00:00  lr: 0.000661  loss: 0.5657 (0.6076)  loss_classifier: 0.0334 (0.0405)  loss_box_reg: 0.0000 (0.0000)  loss_objectness: 0.3668 (0.3732)  loss_rpn_box_reg: 0.1727 (0.1939)  time: 0.6538  data: 0.0341  max mem: 4171\n",
      "Epoch: [10] Total time: 0:27:04 (0.6789 s / it)\n"
     ]
    },
    {
     "name": "stdout",
     "output_type": "stream",
     "text": [
      "creating index...\n",
      "index created!\n"
     ]
    },
    {
     "name": "stdout",
     "output_type": "stream",
     "text": [
      "Test:  [  0/303]  eta: 0:09:05  model_time: 0.4093 (0.4093)  evaluator_time: 0.0313 (0.0313)  time: 1.7991  data: 1.3216  max mem: 4171\n"
     ]
    },
    {
     "name": "stdout",
     "output_type": "stream",
     "text": [
      "Test:  [100/303]  eta: 0:01:12  model_time: 0.2679 (0.2732)  evaluator_time: 0.0071 (0.0100)  time: 0.3397  data: 0.0434  max mem: 4171\n"
     ]
    },
    {
     "name": "stdout",
     "output_type": "stream",
     "text": [
      "Test:  [200/303]  eta: 0:00:35  model_time: 0.2677 (0.2724)  evaluator_time: 0.0063 (0.0089)  time: 0.3369  data: 0.0418  max mem: 4171\n"
     ]
    },
    {
     "name": "stdout",
     "output_type": "stream",
     "text": [
      "Test:  [300/303]  eta: 0:00:01  model_time: 0.2671 (0.2718)  evaluator_time: 0.0051 (0.0080)  time: 0.3334  data: 0.0428  max mem: 4171\n"
     ]
    },
    {
     "name": "stdout",
     "output_type": "stream",
     "text": [
      "Test:  [302/303]  eta: 0:00:00  model_time: 0.2671 (0.2717)  evaluator_time: 0.0047 (0.0080)  time: 0.3264  data: 0.0399  max mem: 4171\n",
      "Test: Total time: 0:01:44 (0.3439 s / it)\n",
      "Averaged stats: model_time: 0.2671 (0.2717)  evaluator_time: 0.0047 (0.0080)\n",
      "Accumulating evaluation results...\n"
     ]
    },
    {
     "name": "stdout",
     "output_type": "stream",
     "text": [
      "DONE (t=0.32s).\n",
      "IoU metric: bbox\n",
      " Average Precision  (AP) @[ IoU=0.50:0.95 | area=   all | maxDets=100 ] = 0.000\n",
      " Average Precision  (AP) @[ IoU=0.50      | area=   all | maxDets=100 ] = 0.000\n",
      " Average Precision  (AP) @[ IoU=0.75      | area=   all | maxDets=100 ] = 0.000\n",
      " Average Precision  (AP) @[ IoU=0.50:0.95 | area= small | maxDets=100 ] = 0.000\n",
      " Average Precision  (AP) @[ IoU=0.50:0.95 | area=medium | maxDets=100 ] = 0.000\n",
      " Average Precision  (AP) @[ IoU=0.50:0.95 | area= large | maxDets=100 ] = 0.000\n",
      " Average Recall     (AR) @[ IoU=0.50:0.95 | area=   all | maxDets=  1 ] = 0.000\n",
      " Average Recall     (AR) @[ IoU=0.50:0.95 | area=   all | maxDets= 10 ] = 0.000\n",
      " Average Recall     (AR) @[ IoU=0.50:0.95 | area=   all | maxDets=100 ] = 0.000\n",
      " Average Recall     (AR) @[ IoU=0.50:0.95 | area= small | maxDets=100 ] = 0.000\n",
      " Average Recall     (AR) @[ IoU=0.50:0.95 | area=medium | maxDets=100 ] = 0.000\n",
      " Average Recall     (AR) @[ IoU=0.50:0.95 | area= large | maxDets=100 ] = 0.000\n"
     ]
    },
    {
     "name": "stdout",
     "output_type": "stream",
     "text": [
      "Epoch: [11]  [   0/2393]  eta: 1:18:59  lr: 0.000602  loss: 0.4410 (0.4410)  loss_classifier: 0.0186 (0.0186)  loss_box_reg: 0.0000 (0.0000)  loss_objectness: 0.3449 (0.3449)  loss_rpn_box_reg: 0.0775 (0.0775)  time: 1.9807  data: 1.0800  max mem: 4171\n"
     ]
    },
    {
     "name": "stdout",
     "output_type": "stream",
     "text": [
      "Epoch: [11]  [ 100/2393]  eta: 0:26:19  lr: 0.000602  loss: 0.4166 (0.5713)  loss_classifier: 0.0186 (0.0331)  loss_box_reg: 0.0000 (0.0000)  loss_objectness: 0.3637 (0.3697)  loss_rpn_box_reg: 0.0554 (0.1685)  time: 0.6679  data: 0.0320  max mem: 4171\n"
     ]
    },
    {
     "name": "stdout",
     "output_type": "stream",
     "text": [
      "Epoch: [11]  [ 200/2393]  eta: 0:24:55  lr: 0.000602  loss: 0.5552 (0.5935)  loss_classifier: 0.0249 (0.0357)  loss_box_reg: 0.0000 (0.0000)  loss_objectness: 0.3667 (0.3708)  loss_rpn_box_reg: 0.1658 (0.1870)  time: 0.6723  data: 0.0329  max mem: 4171\n"
     ]
    },
    {
     "name": "stdout",
     "output_type": "stream",
     "text": [
      "Epoch: [11]  [ 300/2393]  eta: 0:23:41  lr: 0.000602  loss: 0.4339 (0.5873)  loss_classifier: 0.0251 (0.0358)  loss_box_reg: 0.0000 (0.0000)  loss_objectness: 0.3644 (0.3709)  loss_rpn_box_reg: 0.0740 (0.1806)  time: 0.6694  data: 0.0342  max mem: 4171\n"
     ]
    },
    {
     "name": "stdout",
     "output_type": "stream",
     "text": [
      "Epoch: [11]  [ 400/2393]  eta: 0:22:32  lr: 0.000602  loss: 0.4745 (0.5972)  loss_classifier: 0.0354 (0.0381)  loss_box_reg: 0.0000 (0.0000)  loss_objectness: 0.3653 (0.3731)  loss_rpn_box_reg: 0.0984 (0.1861)  time: 0.6733  data: 0.0330  max mem: 4171\n"
     ]
    },
    {
     "name": "stdout",
     "output_type": "stream",
     "text": [
      "Epoch: [11]  [ 500/2393]  eta: 0:21:23  lr: 0.000602  loss: 0.5643 (0.6019)  loss_classifier: 0.0362 (0.0386)  loss_box_reg: 0.0000 (0.0000)  loss_objectness: 0.3652 (0.3739)  loss_rpn_box_reg: 0.1454 (0.1894)  time: 0.6702  data: 0.0323  max mem: 4171\n"
     ]
    },
    {
     "name": "stdout",
     "output_type": "stream",
     "text": [
      "Epoch: [11]  [ 600/2393]  eta: 0:20:17  lr: 0.000602  loss: 0.5139 (0.6005)  loss_classifier: 0.0467 (0.0390)  loss_box_reg: 0.0000 (0.0000)  loss_objectness: 0.3648 (0.3740)  loss_rpn_box_reg: 0.0818 (0.1875)  time: 0.6734  data: 0.0333  max mem: 4171\n"
     ]
    },
    {
     "name": "stdout",
     "output_type": "stream",
     "text": [
      "Epoch: [11]  [ 700/2393]  eta: 0:19:08  lr: 0.000602  loss: 0.5975 (0.5977)  loss_classifier: 0.0324 (0.0387)  loss_box_reg: 0.0000 (0.0000)  loss_objectness: 0.3488 (0.3733)  loss_rpn_box_reg: 0.1826 (0.1857)  time: 0.6712  data: 0.0356  max mem: 4171\n"
     ]
    },
    {
     "name": "stdout",
     "output_type": "stream",
     "text": [
      "Epoch: [11]  [ 800/2393]  eta: 0:18:00  lr: 0.000602  loss: 0.4901 (0.5991)  loss_classifier: 0.0282 (0.0391)  loss_box_reg: 0.0000 (0.0000)  loss_objectness: 0.3563 (0.3731)  loss_rpn_box_reg: 0.1161 (0.1868)  time: 0.6733  data: 0.0331  max mem: 4171\n"
     ]
    },
    {
     "name": "stdout",
     "output_type": "stream",
     "text": [
      "Epoch: [11]  [ 900/2393]  eta: 0:16:52  lr: 0.000602  loss: 0.5524 (0.6024)  loss_classifier: 0.0343 (0.0394)  loss_box_reg: 0.0000 (0.0000)  loss_objectness: 0.3674 (0.3737)  loss_rpn_box_reg: 0.1482 (0.1893)  time: 0.6775  data: 0.0342  max mem: 4171\n"
     ]
    },
    {
     "name": "stdout",
     "output_type": "stream",
     "text": [
      "Epoch: [11]  [1000/2393]  eta: 0:15:44  lr: 0.000602  loss: 0.5934 (0.6052)  loss_classifier: 0.0364 (0.0397)  loss_box_reg: 0.0000 (0.0000)  loss_objectness: 0.3690 (0.3733)  loss_rpn_box_reg: 0.1778 (0.1923)  time: 0.6694  data: 0.0327  max mem: 4171\n"
     ]
    },
    {
     "name": "stdout",
     "output_type": "stream",
     "text": [
      "Epoch: [11]  [1100/2393]  eta: 0:14:35  lr: 0.000602  loss: 0.5154 (0.6033)  loss_classifier: 0.0314 (0.0396)  loss_box_reg: 0.0000 (0.0000)  loss_objectness: 0.3658 (0.3732)  loss_rpn_box_reg: 0.1509 (0.1906)  time: 0.6732  data: 0.0330  max mem: 4171\n"
     ]
    },
    {
     "name": "stdout",
     "output_type": "stream",
     "text": [
      "Epoch: [11]  [1200/2393]  eta: 0:13:28  lr: 0.000602  loss: 0.5837 (0.6029)  loss_classifier: 0.0489 (0.0398)  loss_box_reg: 0.0000 (0.0000)  loss_objectness: 0.3644 (0.3729)  loss_rpn_box_reg: 0.1621 (0.1903)  time: 0.6724  data: 0.0320  max mem: 4171\n"
     ]
    },
    {
     "name": "stdout",
     "output_type": "stream",
     "text": [
      "Epoch: [11]  [1300/2393]  eta: 0:12:20  lr: 0.000602  loss: 0.5377 (0.6001)  loss_classifier: 0.0323 (0.0394)  loss_box_reg: 0.0000 (0.0000)  loss_objectness: 0.3626 (0.3726)  loss_rpn_box_reg: 0.1188 (0.1881)  time: 0.6761  data: 0.0351  max mem: 4171\n"
     ]
    },
    {
     "name": "stdout",
     "output_type": "stream",
     "text": [
      "Epoch: [11]  [1400/2393]  eta: 0:11:12  lr: 0.000602  loss: 0.6023 (0.5996)  loss_classifier: 0.0382 (0.0394)  loss_box_reg: 0.0000 (0.0000)  loss_objectness: 0.3686 (0.3724)  loss_rpn_box_reg: 0.1609 (0.1877)  time: 0.6772  data: 0.0343  max mem: 4171\n"
     ]
    },
    {
     "name": "stdout",
     "output_type": "stream",
     "text": [
      "Epoch: [11]  [1500/2393]  eta: 0:10:04  lr: 0.000602  loss: 0.4906 (0.6020)  loss_classifier: 0.0312 (0.0397)  loss_box_reg: 0.0000 (0.0000)  loss_objectness: 0.3660 (0.3729)  loss_rpn_box_reg: 0.1244 (0.1894)  time: 0.6814  data: 0.0359  max mem: 4171\n"
     ]
    },
    {
     "name": "stdout",
     "output_type": "stream",
     "text": [
      "Epoch: [11]  [1600/2393]  eta: 0:08:56  lr: 0.000602  loss: 0.5784 (0.6021)  loss_classifier: 0.0327 (0.0397)  loss_box_reg: 0.0000 (0.0000)  loss_objectness: 0.3639 (0.3726)  loss_rpn_box_reg: 0.1767 (0.1897)  time: 0.6884  data: 0.0355  max mem: 4171\n"
     ]
    },
    {
     "name": "stdout",
     "output_type": "stream",
     "text": [
      "Epoch: [11]  [1700/2393]  eta: 0:07:49  lr: 0.000602  loss: 0.4565 (0.6024)  loss_classifier: 0.0302 (0.0398)  loss_box_reg: 0.0000 (0.0000)  loss_objectness: 0.3645 (0.3728)  loss_rpn_box_reg: 0.0752 (0.1897)  time: 0.6774  data: 0.0340  max mem: 4171\n"
     ]
    },
    {
     "name": "stdout",
     "output_type": "stream",
     "text": [
      "Epoch: [11]  [1800/2393]  eta: 0:06:41  lr: 0.000602  loss: 0.5694 (0.6027)  loss_classifier: 0.0438 (0.0399)  loss_box_reg: 0.0000 (0.0000)  loss_objectness: 0.3595 (0.3727)  loss_rpn_box_reg: 0.1936 (0.1900)  time: 0.6783  data: 0.0361  max mem: 4171\n"
     ]
    },
    {
     "name": "stdout",
     "output_type": "stream",
     "text": [
      "Epoch: [11]  [1900/2393]  eta: 0:05:33  lr: 0.000602  loss: 0.4922 (0.6026)  loss_classifier: 0.0292 (0.0399)  loss_box_reg: 0.0000 (0.0000)  loss_objectness: 0.3607 (0.3727)  loss_rpn_box_reg: 0.1152 (0.1901)  time: 0.6791  data: 0.0360  max mem: 4171\n"
     ]
    },
    {
     "name": "stdout",
     "output_type": "stream",
     "text": [
      "Epoch: [11]  [2000/2393]  eta: 0:04:25  lr: 0.000602  loss: 0.5899 (0.6040)  loss_classifier: 0.0345 (0.0401)  loss_box_reg: 0.0000 (0.0000)  loss_objectness: 0.3702 (0.3727)  loss_rpn_box_reg: 0.1821 (0.1912)  time: 0.6786  data: 0.0355  max mem: 4171\n"
     ]
    },
    {
     "name": "stdout",
     "output_type": "stream",
     "text": [
      "Epoch: [11]  [2100/2393]  eta: 0:03:18  lr: 0.000602  loss: 0.4761 (0.6039)  loss_classifier: 0.0214 (0.0402)  loss_box_reg: 0.0000 (0.0000)  loss_objectness: 0.3670 (0.3727)  loss_rpn_box_reg: 0.0939 (0.1910)  time: 0.6725  data: 0.0331  max mem: 4171\n"
     ]
    },
    {
     "name": "stdout",
     "output_type": "stream",
     "text": [
      "Epoch: [11]  [2200/2393]  eta: 0:02:10  lr: 0.000602  loss: 0.5545 (0.6049)  loss_classifier: 0.0339 (0.0402)  loss_box_reg: 0.0000 (0.0000)  loss_objectness: 0.3650 (0.3729)  loss_rpn_box_reg: 0.1450 (0.1918)  time: 0.6724  data: 0.0330  max mem: 4171\n"
     ]
    },
    {
     "name": "stdout",
     "output_type": "stream",
     "text": [
      "Epoch: [11]  [2300/2393]  eta: 0:01:02  lr: 0.000602  loss: 0.5102 (0.6060)  loss_classifier: 0.0380 (0.0403)  loss_box_reg: 0.0000 (0.0000)  loss_objectness: 0.3663 (0.3730)  loss_rpn_box_reg: 0.1363 (0.1927)  time: 0.6740  data: 0.0342  max mem: 4171\n"
     ]
    },
    {
     "name": "stdout",
     "output_type": "stream",
     "text": [
      "Epoch: [11]  [2392/2393]  eta: 0:00:00  lr: 0.000602  loss: 0.5591 (0.6076)  loss_classifier: 0.0414 (0.0405)  loss_box_reg: 0.0000 (0.0000)  loss_objectness: 0.3635 (0.3732)  loss_rpn_box_reg: 0.1634 (0.1939)  time: 0.6547  data: 0.0334  max mem: 4171\n",
      "Epoch: [11] Total time: 0:26:58 (0.6764 s / it)\n"
     ]
    },
    {
     "name": "stdout",
     "output_type": "stream",
     "text": [
      "creating index...\n",
      "index created!\n"
     ]
    },
    {
     "name": "stdout",
     "output_type": "stream",
     "text": [
      "Test:  [  0/303]  eta: 0:08:52  model_time: 0.4304 (0.4304)  evaluator_time: 0.0693 (0.0693)  time: 1.7569  data: 1.2091  max mem: 4171\n"
     ]
    },
    {
     "name": "stdout",
     "output_type": "stream",
     "text": [
      "Test:  [100/303]  eta: 0:01:12  model_time: 0.2687 (0.2750)  evaluator_time: 0.0080 (0.0103)  time: 0.3608  data: 0.0460  max mem: 4171\n"
     ]
    },
    {
     "name": "stdout",
     "output_type": "stream",
     "text": [
      "Test:  [200/303]  eta: 0:00:35  model_time: 0.2682 (0.2733)  evaluator_time: 0.0060 (0.0088)  time: 0.3453  data: 0.0436  max mem: 4171\n"
     ]
    },
    {
     "name": "stdout",
     "output_type": "stream",
     "text": [
      "Test:  [300/303]  eta: 0:00:01  model_time: 0.2682 (0.2727)  evaluator_time: 0.0054 (0.0079)  time: 0.3364  data: 0.0428  max mem: 4171\n"
     ]
    },
    {
     "name": "stdout",
     "output_type": "stream",
     "text": [
      "Test:  [302/303]  eta: 0:00:00  model_time: 0.2676 (0.2726)  evaluator_time: 0.0052 (0.0078)  time: 0.3350  data: 0.0426  max mem: 4171\n",
      "Test: Total time: 0:01:44 (0.3451 s / it)\n",
      "Averaged stats: model_time: 0.2676 (0.2726)  evaluator_time: 0.0052 (0.0078)\n",
      "Accumulating evaluation results...\n"
     ]
    },
    {
     "name": "stdout",
     "output_type": "stream",
     "text": [
      "DONE (t=0.32s).\n",
      "IoU metric: bbox\n",
      " Average Precision  (AP) @[ IoU=0.50:0.95 | area=   all | maxDets=100 ] = 0.000\n",
      " Average Precision  (AP) @[ IoU=0.50      | area=   all | maxDets=100 ] = 0.000\n",
      " Average Precision  (AP) @[ IoU=0.75      | area=   all | maxDets=100 ] = 0.000\n",
      " Average Precision  (AP) @[ IoU=0.50:0.95 | area= small | maxDets=100 ] = 0.000\n",
      " Average Precision  (AP) @[ IoU=0.50:0.95 | area=medium | maxDets=100 ] = 0.000\n",
      " Average Precision  (AP) @[ IoU=0.50:0.95 | area= large | maxDets=100 ] = 0.000\n",
      " Average Recall     (AR) @[ IoU=0.50:0.95 | area=   all | maxDets=  1 ] = 0.000\n",
      " Average Recall     (AR) @[ IoU=0.50:0.95 | area=   all | maxDets= 10 ] = 0.000\n",
      " Average Recall     (AR) @[ IoU=0.50:0.95 | area=   all | maxDets=100 ] = 0.000\n",
      " Average Recall     (AR) @[ IoU=0.50:0.95 | area= small | maxDets=100 ] = 0.000\n",
      " Average Recall     (AR) @[ IoU=0.50:0.95 | area=medium | maxDets=100 ] = 0.000\n",
      " Average Recall     (AR) @[ IoU=0.50:0.95 | area= large | maxDets=100 ] = 0.000\n"
     ]
    },
    {
     "name": "stdout",
     "output_type": "stream",
     "text": [
      "Epoch: [12]  [   0/2393]  eta: 1:16:42  lr: 0.000541  loss: 0.4175 (0.4175)  loss_classifier: 0.0353 (0.0353)  loss_box_reg: 0.0000 (0.0000)  loss_objectness: 0.2985 (0.2985)  loss_rpn_box_reg: 0.0838 (0.0838)  time: 1.9235  data: 0.9881  max mem: 4171\n"
     ]
    },
    {
     "name": "stdout",
     "output_type": "stream",
     "text": [
      "Epoch: [12]  [ 100/2393]  eta: 0:26:24  lr: 0.000541  loss: 0.5420 (0.5854)  loss_classifier: 0.0364 (0.0415)  loss_box_reg: 0.0000 (0.0000)  loss_objectness: 0.3596 (0.3682)  loss_rpn_box_reg: 0.1295 (0.1757)  time: 0.6724  data: 0.0342  max mem: 4171\n"
     ]
    },
    {
     "name": "stdout",
     "output_type": "stream",
     "text": [
      "Epoch: [12]  [ 200/2393]  eta: 0:25:00  lr: 0.000541  loss: 0.6035 (0.6112)  loss_classifier: 0.0457 (0.0426)  loss_box_reg: 0.0000 (0.0000)  loss_objectness: 0.3674 (0.3739)  loss_rpn_box_reg: 0.1965 (0.1947)  time: 0.6734  data: 0.0320  max mem: 4171\n"
     ]
    },
    {
     "name": "stdout",
     "output_type": "stream",
     "text": [
      "Epoch: [12]  [ 300/2393]  eta: 0:23:45  lr: 0.000541  loss: 0.5370 (0.6065)  loss_classifier: 0.0366 (0.0426)  loss_box_reg: 0.0000 (0.0000)  loss_objectness: 0.3577 (0.3727)  loss_rpn_box_reg: 0.1246 (0.1912)  time: 0.6689  data: 0.0327  max mem: 4171\n"
     ]
    },
    {
     "name": "stdout",
     "output_type": "stream",
     "text": [
      "Epoch: [12]  [ 400/2393]  eta: 0:22:36  lr: 0.000541  loss: 0.5290 (0.6105)  loss_classifier: 0.0245 (0.0417)  loss_box_reg: 0.0000 (0.0000)  loss_objectness: 0.3675 (0.3739)  loss_rpn_box_reg: 0.1320 (0.1949)  time: 0.6743  data: 0.0323  max mem: 4171\n"
     ]
    },
    {
     "name": "stdout",
     "output_type": "stream",
     "text": [
      "Epoch: [12]  [ 500/2393]  eta: 0:21:27  lr: 0.000541  loss: 0.4724 (0.6141)  loss_classifier: 0.0200 (0.0420)  loss_box_reg: 0.0000 (0.0000)  loss_objectness: 0.3633 (0.3743)  loss_rpn_box_reg: 0.0699 (0.1977)  time: 0.6728  data: 0.0343  max mem: 4171\n"
     ]
    },
    {
     "name": "stdout",
     "output_type": "stream",
     "text": [
      "Epoch: [12]  [ 600/2393]  eta: 0:20:17  lr: 0.000541  loss: 0.5536 (0.6111)  loss_classifier: 0.0414 (0.0416)  loss_box_reg: 0.0000 (0.0000)  loss_objectness: 0.3673 (0.3735)  loss_rpn_box_reg: 0.1594 (0.1961)  time: 0.6673  data: 0.0319  max mem: 4171\n"
     ]
    },
    {
     "name": "stdout",
     "output_type": "stream",
     "text": [
      "Epoch: [12]  [ 700/2393]  eta: 0:19:08  lr: 0.000541  loss: 0.4931 (0.6076)  loss_classifier: 0.0243 (0.0409)  loss_box_reg: 0.0000 (0.0000)  loss_objectness: 0.3619 (0.3726)  loss_rpn_box_reg: 0.1205 (0.1941)  time: 0.6711  data: 0.0345  max mem: 4171\n"
     ]
    },
    {
     "name": "stdout",
     "output_type": "stream",
     "text": [
      "Epoch: [12]  [ 800/2393]  eta: 0:18:00  lr: 0.000541  loss: 0.5551 (0.6107)  loss_classifier: 0.0396 (0.0413)  loss_box_reg: 0.0000 (0.0000)  loss_objectness: 0.3661 (0.3729)  loss_rpn_box_reg: 0.1632 (0.1965)  time: 0.6861  data: 0.0364  max mem: 4171\n"
     ]
    },
    {
     "name": "stdout",
     "output_type": "stream",
     "text": [
      "Epoch: [12]  [ 900/2393]  eta: 0:16:51  lr: 0.000541  loss: 0.4667 (0.6088)  loss_classifier: 0.0278 (0.0409)  loss_box_reg: 0.0000 (0.0000)  loss_objectness: 0.3637 (0.3725)  loss_rpn_box_reg: 0.0864 (0.1954)  time: 0.6755  data: 0.0332  max mem: 4171\n"
     ]
    },
    {
     "name": "stdout",
     "output_type": "stream",
     "text": [
      "Epoch: [12]  [1000/2393]  eta: 0:15:43  lr: 0.000541  loss: 0.5041 (0.6079)  loss_classifier: 0.0368 (0.0407)  loss_box_reg: 0.0000 (0.0000)  loss_objectness: 0.3694 (0.3728)  loss_rpn_box_reg: 0.0936 (0.1944)  time: 0.6794  data: 0.0350  max mem: 4171\n"
     ]
    },
    {
     "name": "stdout",
     "output_type": "stream",
     "text": [
      "Epoch: [12]  [1100/2393]  eta: 0:14:35  lr: 0.000541  loss: 0.5146 (0.6065)  loss_classifier: 0.0361 (0.0406)  loss_box_reg: 0.0000 (0.0000)  loss_objectness: 0.3674 (0.3727)  loss_rpn_box_reg: 0.1069 (0.1932)  time: 0.6837  data: 0.0364  max mem: 4171\n"
     ]
    },
    {
     "name": "stdout",
     "output_type": "stream",
     "text": [
      "Epoch: [12]  [1200/2393]  eta: 0:13:27  lr: 0.000541  loss: 0.5605 (0.6073)  loss_classifier: 0.0358 (0.0407)  loss_box_reg: 0.0000 (0.0000)  loss_objectness: 0.3701 (0.3732)  loss_rpn_box_reg: 0.1392 (0.1935)  time: 0.6780  data: 0.0350  max mem: 4171\n"
     ]
    },
    {
     "name": "stdout",
     "output_type": "stream",
     "text": [
      "Epoch: [12]  [1300/2393]  eta: 0:12:19  lr: 0.000541  loss: 0.5240 (0.6066)  loss_classifier: 0.0322 (0.0407)  loss_box_reg: 0.0000 (0.0000)  loss_objectness: 0.3647 (0.3728)  loss_rpn_box_reg: 0.1373 (0.1931)  time: 0.6659  data: 0.0310  max mem: 4171\n"
     ]
    },
    {
     "name": "stdout",
     "output_type": "stream",
     "text": [
      "Epoch: [12]  [1400/2393]  eta: 0:11:12  lr: 0.000541  loss: 0.5113 (0.6058)  loss_classifier: 0.0353 (0.0406)  loss_box_reg: 0.0000 (0.0000)  loss_objectness: 0.3536 (0.3726)  loss_rpn_box_reg: 0.1331 (0.1926)  time: 0.6647  data: 0.0313  max mem: 4171\n"
     ]
    },
    {
     "name": "stdout",
     "output_type": "stream",
     "text": [
      "Epoch: [12]  [1500/2393]  eta: 0:10:04  lr: 0.000541  loss: 0.4956 (0.6056)  loss_classifier: 0.0281 (0.0404)  loss_box_reg: 0.0000 (0.0000)  loss_objectness: 0.3657 (0.3724)  loss_rpn_box_reg: 0.1328 (0.1927)  time: 0.6668  data: 0.0320  max mem: 4171\n"
     ]
    },
    {
     "name": "stdout",
     "output_type": "stream",
     "text": [
      "Epoch: [12]  [1600/2393]  eta: 0:08:56  lr: 0.000541  loss: 0.4856 (0.6056)  loss_classifier: 0.0254 (0.0403)  loss_box_reg: 0.0000 (0.0000)  loss_objectness: 0.3663 (0.3727)  loss_rpn_box_reg: 0.0922 (0.1926)  time: 0.6656  data: 0.0315  max mem: 4171\n"
     ]
    },
    {
     "name": "stdout",
     "output_type": "stream",
     "text": [
      "Epoch: [12]  [1700/2393]  eta: 0:07:48  lr: 0.000541  loss: 0.5451 (0.6058)  loss_classifier: 0.0309 (0.0403)  loss_box_reg: 0.0000 (0.0000)  loss_objectness: 0.3688 (0.3729)  loss_rpn_box_reg: 0.1304 (0.1926)  time: 0.6646  data: 0.0312  max mem: 4171\n"
     ]
    },
    {
     "name": "stdout",
     "output_type": "stream",
     "text": [
      "Epoch: [12]  [1800/2393]  eta: 0:06:41  lr: 0.000541  loss: 0.5430 (0.6065)  loss_classifier: 0.0311 (0.0402)  loss_box_reg: 0.0000 (0.0000)  loss_objectness: 0.3673 (0.3730)  loss_rpn_box_reg: 0.1268 (0.1932)  time: 0.6751  data: 0.0338  max mem: 4171\n"
     ]
    },
    {
     "name": "stdout",
     "output_type": "stream",
     "text": [
      "Epoch: [12]  [1900/2393]  eta: 0:05:33  lr: 0.000541  loss: 0.5070 (0.6068)  loss_classifier: 0.0355 (0.0403)  loss_box_reg: 0.0000 (0.0000)  loss_objectness: 0.3665 (0.3730)  loss_rpn_box_reg: 0.1248 (0.1935)  time: 0.6675  data: 0.0320  max mem: 4171\n"
     ]
    },
    {
     "name": "stdout",
     "output_type": "stream",
     "text": [
      "Epoch: [12]  [2000/2393]  eta: 0:04:25  lr: 0.000541  loss: 0.4946 (0.6077)  loss_classifier: 0.0214 (0.0405)  loss_box_reg: 0.0000 (0.0000)  loss_objectness: 0.3649 (0.3731)  loss_rpn_box_reg: 0.1133 (0.1941)  time: 0.6748  data: 0.0340  max mem: 4171\n"
     ]
    },
    {
     "name": "stdout",
     "output_type": "stream",
     "text": [
      "Epoch: [12]  [2100/2393]  eta: 0:03:18  lr: 0.000541  loss: 0.4882 (0.6068)  loss_classifier: 0.0280 (0.0405)  loss_box_reg: 0.0000 (0.0000)  loss_objectness: 0.3644 (0.3730)  loss_rpn_box_reg: 0.1213 (0.1933)  time: 0.6891  data: 0.0352  max mem: 4171\n"
     ]
    },
    {
     "name": "stdout",
     "output_type": "stream",
     "text": [
      "Epoch: [12]  [2200/2393]  eta: 0:02:10  lr: 0.000541  loss: 0.4539 (0.6066)  loss_classifier: 0.0276 (0.0403)  loss_box_reg: 0.0000 (0.0000)  loss_objectness: 0.3611 (0.3730)  loss_rpn_box_reg: 0.0768 (0.1932)  time: 0.6842  data: 0.0355  max mem: 4171\n"
     ]
    },
    {
     "name": "stdout",
     "output_type": "stream",
     "text": [
      "Epoch: [12]  [2300/2393]  eta: 0:01:02  lr: 0.000541  loss: 0.5092 (0.6053)  loss_classifier: 0.0315 (0.0402)  loss_box_reg: 0.0000 (0.0000)  loss_objectness: 0.3598 (0.3730)  loss_rpn_box_reg: 0.1130 (0.1922)  time: 0.6850  data: 0.0349  max mem: 4171\n"
     ]
    },
    {
     "name": "stdout",
     "output_type": "stream",
     "text": [
      "Epoch: [12]  [2392/2393]  eta: 0:00:00  lr: 0.000541  loss: 0.5800 (0.6076)  loss_classifier: 0.0284 (0.0405)  loss_box_reg: 0.0000 (0.0000)  loss_objectness: 0.3663 (0.3732)  loss_rpn_box_reg: 0.1345 (0.1939)  time: 0.6630  data: 0.0350  max mem: 4171\n",
      "Epoch: [12] Total time: 0:26:58 (0.6764 s / it)\n"
     ]
    },
    {
     "name": "stdout",
     "output_type": "stream",
     "text": [
      "creating index...\n",
      "index created!\n"
     ]
    },
    {
     "name": "stdout",
     "output_type": "stream",
     "text": [
      "Test:  [  0/303]  eta: 0:08:23  model_time: 0.3990 (0.3990)  evaluator_time: 0.0300 (0.0300)  time: 1.6602  data: 1.1938  max mem: 4171\n"
     ]
    },
    {
     "name": "stdout",
     "output_type": "stream",
     "text": [
      "Test:  [100/303]  eta: 0:01:13  model_time: 0.2696 (0.2746)  evaluator_time: 0.0080 (0.0100)  time: 0.3352  data: 0.0403  max mem: 4171\n"
     ]
    },
    {
     "name": "stdout",
     "output_type": "stream",
     "text": [
      "Test:  [200/303]  eta: 0:00:36  model_time: 0.2700 (0.2747)  evaluator_time: 0.0071 (0.0091)  time: 0.3537  data: 0.0520  max mem: 4171\n"
     ]
    },
    {
     "name": "stdout",
     "output_type": "stream",
     "text": [
      "Test:  [300/303]  eta: 0:00:01  model_time: 0.2691 (0.2742)  evaluator_time: 0.0054 (0.0083)  time: 0.3384  data: 0.0472  max mem: 4171\n"
     ]
    },
    {
     "name": "stdout",
     "output_type": "stream",
     "text": [
      "Test:  [302/303]  eta: 0:00:00  model_time: 0.2679 (0.2741)  evaluator_time: 0.0054 (0.0083)  time: 0.3373  data: 0.0472  max mem: 4171\n",
      "Test: Total time: 0:01:47 (0.3539 s / it)\n",
      "Averaged stats: model_time: 0.2679 (0.2741)  evaluator_time: 0.0054 (0.0083)\n",
      "Accumulating evaluation results...\n"
     ]
    },
    {
     "name": "stdout",
     "output_type": "stream",
     "text": [
      "DONE (t=0.32s).\n",
      "IoU metric: bbox\n",
      " Average Precision  (AP) @[ IoU=0.50:0.95 | area=   all | maxDets=100 ] = 0.000\n",
      " Average Precision  (AP) @[ IoU=0.50      | area=   all | maxDets=100 ] = 0.000\n",
      " Average Precision  (AP) @[ IoU=0.75      | area=   all | maxDets=100 ] = 0.000\n",
      " Average Precision  (AP) @[ IoU=0.50:0.95 | area= small | maxDets=100 ] = 0.000\n",
      " Average Precision  (AP) @[ IoU=0.50:0.95 | area=medium | maxDets=100 ] = 0.000\n",
      " Average Precision  (AP) @[ IoU=0.50:0.95 | area= large | maxDets=100 ] = 0.000\n",
      " Average Recall     (AR) @[ IoU=0.50:0.95 | area=   all | maxDets=  1 ] = 0.000\n",
      " Average Recall     (AR) @[ IoU=0.50:0.95 | area=   all | maxDets= 10 ] = 0.000\n",
      " Average Recall     (AR) @[ IoU=0.50:0.95 | area=   all | maxDets=100 ] = 0.000\n",
      " Average Recall     (AR) @[ IoU=0.50:0.95 | area= small | maxDets=100 ] = 0.000\n",
      " Average Recall     (AR) @[ IoU=0.50:0.95 | area=medium | maxDets=100 ] = 0.000\n",
      " Average Recall     (AR) @[ IoU=0.50:0.95 | area= large | maxDets=100 ] = 0.000\n"
     ]
    },
    {
     "name": "stdout",
     "output_type": "stream",
     "text": [
      "Epoch: [13]  [   0/2393]  eta: 1:28:55  lr: 0.000479  loss: 0.6030 (0.6030)  loss_classifier: 0.0466 (0.0466)  loss_box_reg: 0.0000 (0.0000)  loss_objectness: 0.3474 (0.3474)  loss_rpn_box_reg: 0.2089 (0.2089)  time: 2.2297  data: 1.3853  max mem: 4171\n"
     ]
    },
    {
     "name": "stdout",
     "output_type": "stream",
     "text": [
      "Epoch: [13]  [ 100/2393]  eta: 0:26:31  lr: 0.000479  loss: 0.6109 (0.5997)  loss_classifier: 0.0347 (0.0401)  loss_box_reg: 0.0000 (0.0000)  loss_objectness: 0.3711 (0.3716)  loss_rpn_box_reg: 0.1866 (0.1880)  time: 0.6739  data: 0.0319  max mem: 4171\n"
     ]
    },
    {
     "name": "stdout",
     "output_type": "stream",
     "text": [
      "Epoch: [13]  [ 200/2393]  eta: 0:25:05  lr: 0.000479  loss: 0.6614 (0.6064)  loss_classifier: 0.0446 (0.0389)  loss_box_reg: 0.0000 (0.0000)  loss_objectness: 0.3839 (0.3736)  loss_rpn_box_reg: 0.2213 (0.1938)  time: 0.6714  data: 0.0317  max mem: 4171\n"
     ]
    },
    {
     "name": "stdout",
     "output_type": "stream",
     "text": [
      "Epoch: [13]  [ 300/2393]  eta: 0:23:51  lr: 0.000479  loss: 0.4757 (0.5920)  loss_classifier: 0.0220 (0.0384)  loss_box_reg: 0.0000 (0.0000)  loss_objectness: 0.3653 (0.3712)  loss_rpn_box_reg: 0.0962 (0.1824)  time: 0.6780  data: 0.0354  max mem: 4171\n"
     ]
    },
    {
     "name": "stdout",
     "output_type": "stream",
     "text": [
      "Epoch: [13]  [ 400/2393]  eta: 0:22:39  lr: 0.000479  loss: 0.6317 (0.6021)  loss_classifier: 0.0490 (0.0398)  loss_box_reg: 0.0000 (0.0000)  loss_objectness: 0.3755 (0.3739)  loss_rpn_box_reg: 0.2247 (0.1884)  time: 0.6794  data: 0.0334  max mem: 4171\n"
     ]
    },
    {
     "name": "stdout",
     "output_type": "stream",
     "text": [
      "Epoch: [13]  [ 500/2393]  eta: 0:21:31  lr: 0.000479  loss: 0.4874 (0.6024)  loss_classifier: 0.0256 (0.0398)  loss_box_reg: 0.0000 (0.0000)  loss_objectness: 0.3662 (0.3738)  loss_rpn_box_reg: 0.1030 (0.1888)  time: 0.6871  data: 0.0357  max mem: 4171\n"
     ]
    },
    {
     "name": "stdout",
     "output_type": "stream",
     "text": [
      "Epoch: [13]  [ 600/2393]  eta: 0:20:22  lr: 0.000479  loss: 0.5710 (0.6015)  loss_classifier: 0.0388 (0.0400)  loss_box_reg: 0.0000 (0.0000)  loss_objectness: 0.3694 (0.3732)  loss_rpn_box_reg: 0.1426 (0.1883)  time: 0.6816  data: 0.0375  max mem: 4171\n"
     ]
    },
    {
     "name": "stdout",
     "output_type": "stream",
     "text": [
      "Epoch: [13]  [ 700/2393]  eta: 0:19:13  lr: 0.000479  loss: 0.4782 (0.5978)  loss_classifier: 0.0280 (0.0397)  loss_box_reg: 0.0000 (0.0000)  loss_objectness: 0.3537 (0.3725)  loss_rpn_box_reg: 0.1164 (0.1857)  time: 0.6849  data: 0.0362  max mem: 4171\n"
     ]
    },
    {
     "name": "stdout",
     "output_type": "stream",
     "text": [
      "Epoch: [13]  [ 800/2393]  eta: 0:18:05  lr: 0.000479  loss: 0.5051 (0.5960)  loss_classifier: 0.0214 (0.0392)  loss_box_reg: 0.0000 (0.0000)  loss_objectness: 0.3673 (0.3726)  loss_rpn_box_reg: 0.1177 (0.1842)  time: 0.6854  data: 0.0351  max mem: 4171\n"
     ]
    },
    {
     "name": "stdout",
     "output_type": "stream",
     "text": [
      "Epoch: [13]  [ 900/2393]  eta: 0:16:56  lr: 0.000479  loss: 0.4011 (0.5979)  loss_classifier: 0.0210 (0.0392)  loss_box_reg: 0.0000 (0.0000)  loss_objectness: 0.3678 (0.3728)  loss_rpn_box_reg: 0.0404 (0.1859)  time: 0.6843  data: 0.0359  max mem: 4171\n"
     ]
    },
    {
     "name": "stdout",
     "output_type": "stream",
     "text": [
      "Epoch: [13]  [1000/2393]  eta: 0:15:47  lr: 0.000479  loss: 0.5548 (0.5975)  loss_classifier: 0.0356 (0.0392)  loss_box_reg: 0.0000 (0.0000)  loss_objectness: 0.3665 (0.3725)  loss_rpn_box_reg: 0.1666 (0.1857)  time: 0.6779  data: 0.0345  max mem: 4171\n"
     ]
    },
    {
     "name": "stdout",
     "output_type": "stream",
     "text": [
      "Epoch: [13]  [1100/2393]  eta: 0:14:38  lr: 0.000479  loss: 0.5589 (0.6014)  loss_classifier: 0.0412 (0.0396)  loss_box_reg: 0.0000 (0.0000)  loss_objectness: 0.3800 (0.3731)  loss_rpn_box_reg: 0.1101 (0.1886)  time: 0.6668  data: 0.0320  max mem: 4171\n"
     ]
    },
    {
     "name": "stdout",
     "output_type": "stream",
     "text": [
      "Epoch: [13]  [1200/2393]  eta: 0:13:30  lr: 0.000479  loss: 0.6735 (0.6012)  loss_classifier: 0.0483 (0.0396)  loss_box_reg: 0.0000 (0.0000)  loss_objectness: 0.3774 (0.3730)  loss_rpn_box_reg: 0.2639 (0.1886)  time: 0.6692  data: 0.0333  max mem: 4171\n"
     ]
    },
    {
     "name": "stdout",
     "output_type": "stream",
     "text": [
      "Epoch: [13]  [1300/2393]  eta: 0:12:22  lr: 0.000479  loss: 0.6321 (0.6032)  loss_classifier: 0.0300 (0.0400)  loss_box_reg: 0.0000 (0.0000)  loss_objectness: 0.3667 (0.3728)  loss_rpn_box_reg: 0.2225 (0.1903)  time: 0.6715  data: 0.0325  max mem: 4171\n"
     ]
    },
    {
     "name": "stdout",
     "output_type": "stream",
     "text": [
      "Epoch: [13]  [1400/2393]  eta: 0:11:14  lr: 0.000479  loss: 0.5154 (0.6051)  loss_classifier: 0.0296 (0.0403)  loss_box_reg: 0.0000 (0.0000)  loss_objectness: 0.3670 (0.3734)  loss_rpn_box_reg: 0.1525 (0.1915)  time: 0.6762  data: 0.0342  max mem: 4171\n"
     ]
    },
    {
     "name": "stdout",
     "output_type": "stream",
     "text": [
      "Epoch: [13]  [1500/2393]  eta: 0:10:06  lr: 0.000479  loss: 0.4490 (0.6038)  loss_classifier: 0.0223 (0.0401)  loss_box_reg: 0.0000 (0.0000)  loss_objectness: 0.3617 (0.3730)  loss_rpn_box_reg: 0.0979 (0.1906)  time: 0.6796  data: 0.0358  max mem: 4171\n"
     ]
    },
    {
     "name": "stdout",
     "output_type": "stream",
     "text": [
      "Epoch: [13]  [1600/2393]  eta: 0:08:58  lr: 0.000479  loss: 0.4798 (0.6026)  loss_classifier: 0.0281 (0.0399)  loss_box_reg: 0.0000 (0.0000)  loss_objectness: 0.3658 (0.3727)  loss_rpn_box_reg: 0.0891 (0.1900)  time: 0.6739  data: 0.0349  max mem: 4171\n"
     ]
    },
    {
     "name": "stdout",
     "output_type": "stream",
     "text": [
      "Epoch: [13]  [1700/2393]  eta: 0:07:50  lr: 0.000479  loss: 0.5391 (0.6014)  loss_classifier: 0.0290 (0.0398)  loss_box_reg: 0.0000 (0.0000)  loss_objectness: 0.3664 (0.3727)  loss_rpn_box_reg: 0.1282 (0.1889)  time: 0.6706  data: 0.0327  max mem: 4171\n"
     ]
    },
    {
     "name": "stdout",
     "output_type": "stream",
     "text": [
      "Epoch: [13]  [1800/2393]  eta: 0:06:42  lr: 0.000479  loss: 0.6475 (0.6041)  loss_classifier: 0.0382 (0.0401)  loss_box_reg: 0.0000 (0.0000)  loss_objectness: 0.3719 (0.3729)  loss_rpn_box_reg: 0.2540 (0.1911)  time: 0.6810  data: 0.0373  max mem: 4171\n"
     ]
    },
    {
     "name": "stdout",
     "output_type": "stream",
     "text": [
      "Epoch: [13]  [1900/2393]  eta: 0:05:34  lr: 0.000479  loss: 0.6298 (0.6067)  loss_classifier: 0.0507 (0.0403)  loss_box_reg: 0.0000 (0.0000)  loss_objectness: 0.3651 (0.3732)  loss_rpn_box_reg: 0.2124 (0.1932)  time: 0.6838  data: 0.0364  max mem: 4171\n"
     ]
    },
    {
     "name": "stdout",
     "output_type": "stream",
     "text": [
      "Epoch: [13]  [2000/2393]  eta: 0:04:27  lr: 0.000479  loss: 0.5181 (0.6079)  loss_classifier: 0.0407 (0.0405)  loss_box_reg: 0.0000 (0.0000)  loss_objectness: 0.3660 (0.3733)  loss_rpn_box_reg: 0.1383 (0.1941)  time: 0.6939  data: 0.0388  max mem: 4171\n"
     ]
    },
    {
     "name": "stdout",
     "output_type": "stream",
     "text": [
      "Epoch: [13]  [2100/2393]  eta: 0:03:19  lr: 0.000479  loss: 0.5287 (0.6076)  loss_classifier: 0.0438 (0.0404)  loss_box_reg: 0.0000 (0.0000)  loss_objectness: 0.3660 (0.3732)  loss_rpn_box_reg: 0.1320 (0.1940)  time: 0.6815  data: 0.0354  max mem: 4171\n"
     ]
    },
    {
     "name": "stdout",
     "output_type": "stream",
     "text": [
      "Epoch: [13]  [2200/2393]  eta: 0:02:11  lr: 0.000479  loss: 0.5618 (0.6076)  loss_classifier: 0.0318 (0.0404)  loss_box_reg: 0.0000 (0.0000)  loss_objectness: 0.3480 (0.3730)  loss_rpn_box_reg: 0.1596 (0.1942)  time: 0.6770  data: 0.0336  max mem: 4171\n"
     ]
    },
    {
     "name": "stdout",
     "output_type": "stream",
     "text": [
      "Epoch: [13]  [2300/2393]  eta: 0:01:03  lr: 0.000479  loss: 0.5779 (0.6064)  loss_classifier: 0.0242 (0.0403)  loss_box_reg: 0.0000 (0.0000)  loss_objectness: 0.3657 (0.3731)  loss_rpn_box_reg: 0.1981 (0.1930)  time: 0.6808  data: 0.0337  max mem: 4171\n"
     ]
    },
    {
     "name": "stdout",
     "output_type": "stream",
     "text": [
      "Epoch: [13]  [2392/2393]  eta: 0:00:00  lr: 0.000479  loss: 0.6370 (0.6076)  loss_classifier: 0.0433 (0.0405)  loss_box_reg: 0.0000 (0.0000)  loss_objectness: 0.3686 (0.3733)  loss_rpn_box_reg: 0.2115 (0.1939)  time: 0.6510  data: 0.0320  max mem: 4171\n",
      "Epoch: [13] Total time: 0:27:06 (0.6797 s / it)\n"
     ]
    },
    {
     "name": "stdout",
     "output_type": "stream",
     "text": [
      "creating index...\n",
      "index created!\n"
     ]
    },
    {
     "name": "stdout",
     "output_type": "stream",
     "text": [
      "Test:  [  0/303]  eta: 0:08:58  model_time: 0.4189 (0.4189)  evaluator_time: 0.0260 (0.0260)  time: 1.7786  data: 1.2937  max mem: 4171\n"
     ]
    },
    {
     "name": "stdout",
     "output_type": "stream",
     "text": [
      "Test:  [100/303]  eta: 0:01:11  model_time: 0.2662 (0.2726)  evaluator_time: 0.0064 (0.0091)  time: 0.3259  data: 0.0362  max mem: 4171\n"
     ]
    },
    {
     "name": "stdout",
     "output_type": "stream",
     "text": [
      "Test:  [200/303]  eta: 0:00:35  model_time: 0.2664 (0.2723)  evaluator_time: 0.0055 (0.0081)  time: 0.3308  data: 0.0413  max mem: 4171\n"
     ]
    },
    {
     "name": "stdout",
     "output_type": "stream",
     "text": [
      "Test:  [300/303]  eta: 0:00:01  model_time: 0.2642 (0.2714)  evaluator_time: 0.0034 (0.0072)  time: 0.3144  data: 0.0345  max mem: 4171\n"
     ]
    },
    {
     "name": "stdout",
     "output_type": "stream",
     "text": [
      "Test:  [302/303]  eta: 0:00:00  model_time: 0.2642 (0.2713)  evaluator_time: 0.0034 (0.0072)  time: 0.3143  data: 0.0351  max mem: 4171\n",
      "Test: Total time: 0:01:43 (0.3424 s / it)\n",
      "Averaged stats: model_time: 0.2642 (0.2713)  evaluator_time: 0.0034 (0.0072)\n",
      "Accumulating evaluation results...\n"
     ]
    },
    {
     "name": "stdout",
     "output_type": "stream",
     "text": [
      "DONE (t=0.31s).\n",
      "IoU metric: bbox\n",
      " Average Precision  (AP) @[ IoU=0.50:0.95 | area=   all | maxDets=100 ] = 0.000\n",
      " Average Precision  (AP) @[ IoU=0.50      | area=   all | maxDets=100 ] = 0.000\n",
      " Average Precision  (AP) @[ IoU=0.75      | area=   all | maxDets=100 ] = 0.000\n",
      " Average Precision  (AP) @[ IoU=0.50:0.95 | area= small | maxDets=100 ] = 0.000\n",
      " Average Precision  (AP) @[ IoU=0.50:0.95 | area=medium | maxDets=100 ] = 0.000\n",
      " Average Precision  (AP) @[ IoU=0.50:0.95 | area= large | maxDets=100 ] = 0.000\n",
      " Average Recall     (AR) @[ IoU=0.50:0.95 | area=   all | maxDets=  1 ] = 0.000\n",
      " Average Recall     (AR) @[ IoU=0.50:0.95 | area=   all | maxDets= 10 ] = 0.000\n",
      " Average Recall     (AR) @[ IoU=0.50:0.95 | area=   all | maxDets=100 ] = 0.000\n",
      " Average Recall     (AR) @[ IoU=0.50:0.95 | area= small | maxDets=100 ] = 0.000\n",
      " Average Recall     (AR) @[ IoU=0.50:0.95 | area=medium | maxDets=100 ] = 0.000\n",
      " Average Recall     (AR) @[ IoU=0.50:0.95 | area= large | maxDets=100 ] = 0.000\n"
     ]
    },
    {
     "name": "stdout",
     "output_type": "stream",
     "text": [
      "Epoch: [14]  [   0/2393]  eta: 1:56:20  lr: 0.000418  loss: 0.4019 (0.4019)  loss_classifier: 0.0047 (0.0047)  loss_box_reg: 0.0000 (0.0000)  loss_objectness: 0.3717 (0.3717)  loss_rpn_box_reg: 0.0255 (0.0255)  time: 2.9170  data: 1.4001  max mem: 4171\n"
     ]
    },
    {
     "name": "stdout",
     "output_type": "stream",
     "text": [
      "Epoch: [14]  [ 100/2393]  eta: 0:26:41  lr: 0.000418  loss: 0.5021 (0.5803)  loss_classifier: 0.0224 (0.0374)  loss_box_reg: 0.0000 (0.0000)  loss_objectness: 0.3634 (0.3756)  loss_rpn_box_reg: 0.0980 (0.1672)  time: 0.6799  data: 0.0385  max mem: 4171\n"
     ]
    },
    {
     "name": "stdout",
     "output_type": "stream",
     "text": [
      "Epoch: [14]  [ 200/2393]  eta: 0:25:08  lr: 0.000418  loss: 0.4988 (0.5741)  loss_classifier: 0.0358 (0.0377)  loss_box_reg: 0.0000 (0.0000)  loss_objectness: 0.3553 (0.3683)  loss_rpn_box_reg: 0.1194 (0.1681)  time: 0.6906  data: 0.0373  max mem: 4171\n"
     ]
    },
    {
     "name": "stdout",
     "output_type": "stream",
     "text": [
      "Epoch: [14]  [ 300/2393]  eta: 0:23:51  lr: 0.000418  loss: 0.4965 (0.5758)  loss_classifier: 0.0253 (0.0370)  loss_box_reg: 0.0000 (0.0000)  loss_objectness: 0.3674 (0.3688)  loss_rpn_box_reg: 0.1120 (0.1700)  time: 0.6822  data: 0.0375  max mem: 4171\n"
     ]
    },
    {
     "name": "stdout",
     "output_type": "stream",
     "text": [
      "Epoch: [14]  [ 400/2393]  eta: 0:22:38  lr: 0.000418  loss: 0.5113 (0.5768)  loss_classifier: 0.0295 (0.0365)  loss_box_reg: 0.0000 (0.0000)  loss_objectness: 0.3641 (0.3686)  loss_rpn_box_reg: 0.1293 (0.1716)  time: 0.6840  data: 0.0354  max mem: 4171\n"
     ]
    },
    {
     "name": "stdout",
     "output_type": "stream",
     "text": [
      "Epoch: [14]  [ 500/2393]  eta: 0:21:28  lr: 0.000418  loss: 0.4993 (0.5783)  loss_classifier: 0.0353 (0.0370)  loss_box_reg: 0.0000 (0.0000)  loss_objectness: 0.3650 (0.3694)  loss_rpn_box_reg: 0.1017 (0.1719)  time: 0.6915  data: 0.0353  max mem: 4171\n"
     ]
    },
    {
     "name": "stdout",
     "output_type": "stream",
     "text": [
      "Epoch: [14]  [ 600/2393]  eta: 0:20:19  lr: 0.000418  loss: 0.5092 (0.5839)  loss_classifier: 0.0325 (0.0375)  loss_box_reg: 0.0000 (0.0000)  loss_objectness: 0.3638 (0.3704)  loss_rpn_box_reg: 0.1110 (0.1760)  time: 0.6838  data: 0.0389  max mem: 4171\n"
     ]
    },
    {
     "name": "stdout",
     "output_type": "stream",
     "text": [
      "Epoch: [14]  [ 700/2393]  eta: 0:19:11  lr: 0.000418  loss: 0.4971 (0.5898)  loss_classifier: 0.0312 (0.0381)  loss_box_reg: 0.0000 (0.0000)  loss_objectness: 0.3673 (0.3715)  loss_rpn_box_reg: 0.1215 (0.1802)  time: 0.6924  data: 0.0360  max mem: 4171\n"
     ]
    },
    {
     "name": "stdout",
     "output_type": "stream",
     "text": [
      "Epoch: [14]  [ 800/2393]  eta: 0:18:01  lr: 0.000418  loss: 0.5371 (0.5936)  loss_classifier: 0.0354 (0.0385)  loss_box_reg: 0.0000 (0.0000)  loss_objectness: 0.3594 (0.3728)  loss_rpn_box_reg: 0.1427 (0.1823)  time: 0.6696  data: 0.0322  max mem: 4171\n"
     ]
    },
    {
     "name": "stdout",
     "output_type": "stream",
     "text": [
      "Epoch: [14]  [ 900/2393]  eta: 0:16:53  lr: 0.000418  loss: 0.5884 (0.5995)  loss_classifier: 0.0362 (0.0392)  loss_box_reg: 0.0000 (0.0000)  loss_objectness: 0.3693 (0.3733)  loss_rpn_box_reg: 0.2064 (0.1870)  time: 0.6680  data: 0.0317  max mem: 4171\n"
     ]
    },
    {
     "name": "stdout",
     "output_type": "stream",
     "text": [
      "Epoch: [14]  [1000/2393]  eta: 0:15:46  lr: 0.000418  loss: 0.5237 (0.6041)  loss_classifier: 0.0318 (0.0400)  loss_box_reg: 0.0000 (0.0000)  loss_objectness: 0.3672 (0.3735)  loss_rpn_box_reg: 0.1448 (0.1906)  time: 0.6751  data: 0.0343  max mem: 4171\n"
     ]
    },
    {
     "name": "stdout",
     "output_type": "stream",
     "text": [
      "Epoch: [14]  [1100/2393]  eta: 0:14:38  lr: 0.000418  loss: 0.5448 (0.6024)  loss_classifier: 0.0357 (0.0397)  loss_box_reg: 0.0000 (0.0000)  loss_objectness: 0.3662 (0.3732)  loss_rpn_box_reg: 0.1509 (0.1894)  time: 0.6733  data: 0.0326  max mem: 4171\n"
     ]
    },
    {
     "name": "stdout",
     "output_type": "stream",
     "text": [
      "Epoch: [14]  [1200/2393]  eta: 0:13:31  lr: 0.000418  loss: 0.4556 (0.6020)  loss_classifier: 0.0193 (0.0397)  loss_box_reg: 0.0000 (0.0000)  loss_objectness: 0.3659 (0.3728)  loss_rpn_box_reg: 0.0883 (0.1894)  time: 0.6785  data: 0.0333  max mem: 4171\n"
     ]
    },
    {
     "name": "stdout",
     "output_type": "stream",
     "text": [
      "Epoch: [14]  [1300/2393]  eta: 0:12:23  lr: 0.000418  loss: 0.5649 (0.6033)  loss_classifier: 0.0364 (0.0401)  loss_box_reg: 0.0000 (0.0000)  loss_objectness: 0.3674 (0.3730)  loss_rpn_box_reg: 0.1814 (0.1902)  time: 0.6743  data: 0.0337  max mem: 4171\n"
     ]
    },
    {
     "name": "stdout",
     "output_type": "stream",
     "text": [
      "Epoch: [14]  [1400/2393]  eta: 0:11:15  lr: 0.000418  loss: 0.4529 (0.6047)  loss_classifier: 0.0188 (0.0403)  loss_box_reg: 0.0000 (0.0000)  loss_objectness: 0.3676 (0.3730)  loss_rpn_box_reg: 0.0885 (0.1914)  time: 0.6718  data: 0.0321  max mem: 4171\n"
     ]
    },
    {
     "name": "stdout",
     "output_type": "stream",
     "text": [
      "Epoch: [14]  [1500/2393]  eta: 0:10:07  lr: 0.000418  loss: 0.5768 (0.6054)  loss_classifier: 0.0401 (0.0403)  loss_box_reg: 0.0000 (0.0000)  loss_objectness: 0.3687 (0.3731)  loss_rpn_box_reg: 0.1713 (0.1920)  time: 0.6726  data: 0.0334  max mem: 4171\n"
     ]
    },
    {
     "name": "stdout",
     "output_type": "stream",
     "text": [
      "Epoch: [14]  [1600/2393]  eta: 0:08:59  lr: 0.000418  loss: 0.4539 (0.6036)  loss_classifier: 0.0185 (0.0402)  loss_box_reg: 0.0000 (0.0000)  loss_objectness: 0.3663 (0.3727)  loss_rpn_box_reg: 0.0729 (0.1907)  time: 0.6839  data: 0.0355  max mem: 4171\n"
     ]
    },
    {
     "name": "stdout",
     "output_type": "stream",
     "text": [
      "Epoch: [14]  [1700/2393]  eta: 0:07:51  lr: 0.000418  loss: 0.4432 (0.6046)  loss_classifier: 0.0283 (0.0402)  loss_box_reg: 0.0000 (0.0000)  loss_objectness: 0.3666 (0.3731)  loss_rpn_box_reg: 0.0603 (0.1912)  time: 0.6883  data: 0.0371  max mem: 4171\n"
     ]
    },
    {
     "name": "stdout",
     "output_type": "stream",
     "text": [
      "Epoch: [14]  [1800/2393]  eta: 0:06:43  lr: 0.000418  loss: 0.5729 (0.6063)  loss_classifier: 0.0462 (0.0405)  loss_box_reg: 0.0000 (0.0000)  loss_objectness: 0.3671 (0.3732)  loss_rpn_box_reg: 0.1838 (0.1926)  time: 0.6904  data: 0.0359  max mem: 4171\n"
     ]
    },
    {
     "name": "stdout",
     "output_type": "stream",
     "text": [
      "Epoch: [14]  [1900/2393]  eta: 0:05:35  lr: 0.000418  loss: 0.4861 (0.6063)  loss_classifier: 0.0243 (0.0404)  loss_box_reg: 0.0000 (0.0000)  loss_objectness: 0.3586 (0.3731)  loss_rpn_box_reg: 0.1120 (0.1928)  time: 0.6836  data: 0.0355  max mem: 4171\n"
     ]
    },
    {
     "name": "stdout",
     "output_type": "stream",
     "text": [
      "Epoch: [14]  [2000/2393]  eta: 0:04:27  lr: 0.000418  loss: 0.5838 (0.6081)  loss_classifier: 0.0330 (0.0406)  loss_box_reg: 0.0000 (0.0000)  loss_objectness: 0.3661 (0.3731)  loss_rpn_box_reg: 0.1803 (0.1945)  time: 0.6856  data: 0.0367  max mem: 4171\n"
     ]
    },
    {
     "name": "stdout",
     "output_type": "stream",
     "text": [
      "Epoch: [14]  [2100/2393]  eta: 0:03:19  lr: 0.000418  loss: 0.5330 (0.6071)  loss_classifier: 0.0274 (0.0403)  loss_box_reg: 0.0000 (0.0000)  loss_objectness: 0.3640 (0.3729)  loss_rpn_box_reg: 0.1333 (0.1939)  time: 0.6738  data: 0.0362  max mem: 4171\n"
     ]
    },
    {
     "name": "stdout",
     "output_type": "stream",
     "text": [
      "Epoch: [14]  [2200/2393]  eta: 0:02:11  lr: 0.000418  loss: 0.4517 (0.6067)  loss_classifier: 0.0204 (0.0403)  loss_box_reg: 0.0000 (0.0000)  loss_objectness: 0.3540 (0.3729)  loss_rpn_box_reg: 0.1015 (0.1934)  time: 0.6730  data: 0.0334  max mem: 4171\n"
     ]
    },
    {
     "name": "stdout",
     "output_type": "stream",
     "text": [
      "Epoch: [14]  [2300/2393]  eta: 0:01:03  lr: 0.000418  loss: 0.6349 (0.6086)  loss_classifier: 0.0347 (0.0406)  loss_box_reg: 0.0000 (0.0000)  loss_objectness: 0.3704 (0.3733)  loss_rpn_box_reg: 0.1705 (0.1947)  time: 0.6845  data: 0.0340  max mem: 4171\n"
     ]
    },
    {
     "name": "stdout",
     "output_type": "stream",
     "text": [
      "Epoch: [14]  [2392/2393]  eta: 0:00:00  lr: 0.000418  loss: 0.5529 (0.6075)  loss_classifier: 0.0333 (0.0405)  loss_box_reg: 0.0000 (0.0000)  loss_objectness: 0.3650 (0.3732)  loss_rpn_box_reg: 0.1582 (0.1939)  time: 0.6572  data: 0.0327  max mem: 4171\n",
      "Epoch: [14] Total time: 0:27:07 (0.6801 s / it)\n"
     ]
    },
    {
     "name": "stdout",
     "output_type": "stream",
     "text": [
      "creating index...\n",
      "index created!\n"
     ]
    },
    {
     "name": "stdout",
     "output_type": "stream",
     "text": [
      "Test:  [  0/303]  eta: 0:11:29  model_time: 0.3991 (0.3991)  evaluator_time: 0.0411 (0.0411)  time: 2.2740  data: 1.7995  max mem: 4171\n"
     ]
    },
    {
     "name": "stdout",
     "output_type": "stream",
     "text": [
      "Test:  [100/303]  eta: 0:01:14  model_time: 0.2692 (0.2756)  evaluator_time: 0.0079 (0.0100)  time: 0.3471  data: 0.0458  max mem: 4171\n"
     ]
    },
    {
     "name": "stdout",
     "output_type": "stream",
     "text": [
      "Test:  [200/303]  eta: 0:00:37  model_time: 0.2701 (0.2752)  evaluator_time: 0.0064 (0.0090)  time: 0.3670  data: 0.0549  max mem: 4171\n"
     ]
    },
    {
     "name": "stdout",
     "output_type": "stream",
     "text": [
      "Test:  [300/303]  eta: 0:00:01  model_time: 0.2678 (0.2739)  evaluator_time: 0.0052 (0.0082)  time: 0.3531  data: 0.0549  max mem: 4171\n"
     ]
    },
    {
     "name": "stdout",
     "output_type": "stream",
     "text": [
      "Test:  [302/303]  eta: 0:00:00  model_time: 0.2669 (0.2738)  evaluator_time: 0.0050 (0.0082)  time: 0.3460  data: 0.0521  max mem: 4171\n",
      "Test: Total time: 0:01:47 (0.3562 s / it)\n",
      "Averaged stats: model_time: 0.2669 (0.2738)  evaluator_time: 0.0050 (0.0082)\n",
      "Accumulating evaluation results...\n"
     ]
    },
    {
     "name": "stdout",
     "output_type": "stream",
     "text": [
      "DONE (t=0.32s).\n",
      "IoU metric: bbox\n",
      " Average Precision  (AP) @[ IoU=0.50:0.95 | area=   all | maxDets=100 ] = 0.000\n",
      " Average Precision  (AP) @[ IoU=0.50      | area=   all | maxDets=100 ] = 0.000\n",
      " Average Precision  (AP) @[ IoU=0.75      | area=   all | maxDets=100 ] = 0.000\n",
      " Average Precision  (AP) @[ IoU=0.50:0.95 | area= small | maxDets=100 ] = 0.000\n",
      " Average Precision  (AP) @[ IoU=0.50:0.95 | area=medium | maxDets=100 ] = 0.000\n",
      " Average Precision  (AP) @[ IoU=0.50:0.95 | area= large | maxDets=100 ] = 0.000\n",
      " Average Recall     (AR) @[ IoU=0.50:0.95 | area=   all | maxDets=  1 ] = 0.000\n",
      " Average Recall     (AR) @[ IoU=0.50:0.95 | area=   all | maxDets= 10 ] = 0.000\n",
      " Average Recall     (AR) @[ IoU=0.50:0.95 | area=   all | maxDets=100 ] = 0.000\n",
      " Average Recall     (AR) @[ IoU=0.50:0.95 | area= small | maxDets=100 ] = 0.000\n",
      " Average Recall     (AR) @[ IoU=0.50:0.95 | area=medium | maxDets=100 ] = 0.000\n",
      " Average Recall     (AR) @[ IoU=0.50:0.95 | area= large | maxDets=100 ] = 0.000\n"
     ]
    },
    {
     "name": "stdout",
     "output_type": "stream",
     "text": [
      "Epoch: [15]  [   0/2393]  eta: 1:37:15  lr: 0.000359  loss: 0.6496 (0.6496)  loss_classifier: 0.0405 (0.0405)  loss_box_reg: 0.0000 (0.0000)  loss_objectness: 0.3505 (0.3505)  loss_rpn_box_reg: 0.2585 (0.2585)  time: 2.4385  data: 1.4148  max mem: 4171\n"
     ]
    },
    {
     "name": "stdout",
     "output_type": "stream",
     "text": [
      "Epoch: [15]  [ 100/2393]  eta: 0:26:40  lr: 0.000359  loss: 0.4555 (0.5950)  loss_classifier: 0.0278 (0.0396)  loss_box_reg: 0.0000 (0.0000)  loss_objectness: 0.3516 (0.3694)  loss_rpn_box_reg: 0.0987 (0.1860)  time: 0.6920  data: 0.0353  max mem: 4171\n"
     ]
    },
    {
     "name": "stdout",
     "output_type": "stream",
     "text": [
      "Epoch: [15]  [ 200/2393]  eta: 0:25:12  lr: 0.000359  loss: 0.5677 (0.6084)  loss_classifier: 0.0366 (0.0418)  loss_box_reg: 0.0000 (0.0000)  loss_objectness: 0.3664 (0.3718)  loss_rpn_box_reg: 0.1593 (0.1948)  time: 0.6845  data: 0.0360  max mem: 4171\n"
     ]
    },
    {
     "name": "stdout",
     "output_type": "stream",
     "text": [
      "Epoch: [15]  [ 300/2393]  eta: 0:23:56  lr: 0.000359  loss: 0.5555 (0.5980)  loss_classifier: 0.0269 (0.0394)  loss_box_reg: 0.0000 (0.0000)  loss_objectness: 0.3588 (0.3708)  loss_rpn_box_reg: 0.1732 (0.1877)  time: 0.6833  data: 0.0344  max mem: 4171\n"
     ]
    },
    {
     "name": "stdout",
     "output_type": "stream",
     "text": [
      "Epoch: [15]  [ 400/2393]  eta: 0:22:44  lr: 0.000359  loss: 0.5740 (0.5911)  loss_classifier: 0.0334 (0.0393)  loss_box_reg: 0.0000 (0.0000)  loss_objectness: 0.3659 (0.3704)  loss_rpn_box_reg: 0.1725 (0.1814)  time: 0.6749  data: 0.0332  max mem: 4171\n"
     ]
    },
    {
     "name": "stdout",
     "output_type": "stream",
     "text": [
      "Epoch: [15]  [ 500/2393]  eta: 0:21:34  lr: 0.000359  loss: 0.4812 (0.6001)  loss_classifier: 0.0213 (0.0402)  loss_box_reg: 0.0000 (0.0000)  loss_objectness: 0.3641 (0.3718)  loss_rpn_box_reg: 0.0873 (0.1881)  time: 0.6741  data: 0.0334  max mem: 4171\n"
     ]
    },
    {
     "name": "stdout",
     "output_type": "stream",
     "text": [
      "Epoch: [15]  [ 600/2393]  eta: 0:20:25  lr: 0.000359  loss: 0.5005 (0.5999)  loss_classifier: 0.0303 (0.0401)  loss_box_reg: 0.0000 (0.0000)  loss_objectness: 0.3631 (0.3725)  loss_rpn_box_reg: 0.1085 (0.1874)  time: 0.6805  data: 0.0356  max mem: 4171\n"
     ]
    },
    {
     "name": "stdout",
     "output_type": "stream",
     "text": [
      "Epoch: [15]  [ 700/2393]  eta: 0:19:16  lr: 0.000359  loss: 0.4752 (0.5978)  loss_classifier: 0.0243 (0.0402)  loss_box_reg: 0.0000 (0.0000)  loss_objectness: 0.3516 (0.3719)  loss_rpn_box_reg: 0.0931 (0.1858)  time: 0.6732  data: 0.0346  max mem: 4171\n"
     ]
    },
    {
     "name": "stdout",
     "output_type": "stream",
     "text": [
      "Epoch: [15]  [ 800/2393]  eta: 0:18:07  lr: 0.000359  loss: 0.5269 (0.6004)  loss_classifier: 0.0277 (0.0401)  loss_box_reg: 0.0000 (0.0000)  loss_objectness: 0.3667 (0.3726)  loss_rpn_box_reg: 0.1150 (0.1876)  time: 0.6724  data: 0.0325  max mem: 4171\n"
     ]
    },
    {
     "name": "stdout",
     "output_type": "stream",
     "text": [
      "Epoch: [15]  [ 900/2393]  eta: 0:16:59  lr: 0.000359  loss: 0.5903 (0.6057)  loss_classifier: 0.0330 (0.0407)  loss_box_reg: 0.0000 (0.0000)  loss_objectness: 0.3695 (0.3738)  loss_rpn_box_reg: 0.1707 (0.1912)  time: 0.6734  data: 0.0342  max mem: 4171\n"
     ]
    },
    {
     "name": "stdout",
     "output_type": "stream",
     "text": [
      "Epoch: [15]  [1000/2393]  eta: 0:15:50  lr: 0.000359  loss: 0.5965 (0.6089)  loss_classifier: 0.0285 (0.0412)  loss_box_reg: 0.0000 (0.0000)  loss_objectness: 0.3653 (0.3743)  loss_rpn_box_reg: 0.1789 (0.1935)  time: 0.6778  data: 0.0338  max mem: 4171\n"
     ]
    },
    {
     "name": "stdout",
     "output_type": "stream",
     "text": [
      "Epoch: [15]  [1100/2393]  eta: 0:14:42  lr: 0.000359  loss: 0.4831 (0.6092)  loss_classifier: 0.0272 (0.0408)  loss_box_reg: 0.0000 (0.0000)  loss_objectness: 0.3681 (0.3741)  loss_rpn_box_reg: 0.0967 (0.1942)  time: 0.6884  data: 0.0356  max mem: 4171\n"
     ]
    },
    {
     "name": "stdout",
     "output_type": "stream",
     "text": [
      "Epoch: [15]  [1200/2393]  eta: 0:13:34  lr: 0.000359  loss: 0.5471 (0.6088)  loss_classifier: 0.0299 (0.0409)  loss_box_reg: 0.0000 (0.0000)  loss_objectness: 0.3677 (0.3740)  loss_rpn_box_reg: 0.1586 (0.1939)  time: 0.6883  data: 0.0374  max mem: 4171\n"
     ]
    },
    {
     "name": "stdout",
     "output_type": "stream",
     "text": [
      "Epoch: [15]  [1300/2393]  eta: 0:12:25  lr: 0.000359  loss: 0.4340 (0.6097)  loss_classifier: 0.0277 (0.0410)  loss_box_reg: 0.0000 (0.0000)  loss_objectness: 0.3637 (0.3743)  loss_rpn_box_reg: 0.0629 (0.1945)  time: 0.6878  data: 0.0366  max mem: 4171\n"
     ]
    },
    {
     "name": "stdout",
     "output_type": "stream",
     "text": [
      "Epoch: [15]  [1400/2393]  eta: 0:11:17  lr: 0.000359  loss: 0.5308 (0.6100)  loss_classifier: 0.0436 (0.0411)  loss_box_reg: 0.0000 (0.0000)  loss_objectness: 0.3611 (0.3739)  loss_rpn_box_reg: 0.1555 (0.1951)  time: 0.6848  data: 0.0365  max mem: 4171\n"
     ]
    },
    {
     "name": "stdout",
     "output_type": "stream",
     "text": [
      "Epoch: [15]  [1500/2393]  eta: 0:10:08  lr: 0.000359  loss: 0.6367 (0.6121)  loss_classifier: 0.0360 (0.0411)  loss_box_reg: 0.0000 (0.0000)  loss_objectness: 0.3678 (0.3742)  loss_rpn_box_reg: 0.2070 (0.1967)  time: 0.6859  data: 0.0368  max mem: 4171\n"
     ]
    },
    {
     "name": "stdout",
     "output_type": "stream",
     "text": [
      "Epoch: [15]  [1600/2393]  eta: 0:09:00  lr: 0.000359  loss: 0.5342 (0.6128)  loss_classifier: 0.0308 (0.0412)  loss_box_reg: 0.0000 (0.0000)  loss_objectness: 0.3550 (0.3743)  loss_rpn_box_reg: 0.1572 (0.1973)  time: 0.6833  data: 0.0345  max mem: 4171\n"
     ]
    },
    {
     "name": "stdout",
     "output_type": "stream",
     "text": [
      "Epoch: [15]  [1700/2393]  eta: 0:07:52  lr: 0.000359  loss: 0.5003 (0.6123)  loss_classifier: 0.0391 (0.0410)  loss_box_reg: 0.0000 (0.0000)  loss_objectness: 0.3549 (0.3740)  loss_rpn_box_reg: 0.1246 (0.1974)  time: 0.6809  data: 0.0334  max mem: 4171\n"
     ]
    },
    {
     "name": "stdout",
     "output_type": "stream",
     "text": [
      "Epoch: [15]  [1800/2393]  eta: 0:06:44  lr: 0.000359  loss: 0.4957 (0.6139)  loss_classifier: 0.0271 (0.0413)  loss_box_reg: 0.0000 (0.0000)  loss_objectness: 0.3684 (0.3745)  loss_rpn_box_reg: 0.1173 (0.1980)  time: 0.6739  data: 0.0337  max mem: 4171\n"
     ]
    },
    {
     "name": "stdout",
     "output_type": "stream",
     "text": [
      "Epoch: [15]  [1900/2393]  eta: 0:05:35  lr: 0.000359  loss: 0.5685 (0.6123)  loss_classifier: 0.0365 (0.0410)  loss_box_reg: 0.0000 (0.0000)  loss_objectness: 0.3557 (0.3742)  loss_rpn_box_reg: 0.1951 (0.1970)  time: 0.6683  data: 0.0321  max mem: 4171\n"
     ]
    },
    {
     "name": "stdout",
     "output_type": "stream",
     "text": [
      "Epoch: [15]  [2000/2393]  eta: 0:04:27  lr: 0.000359  loss: 0.5811 (0.6107)  loss_classifier: 0.0327 (0.0408)  loss_box_reg: 0.0000 (0.0000)  loss_objectness: 0.3599 (0.3736)  loss_rpn_box_reg: 0.1824 (0.1962)  time: 0.6658  data: 0.0327  max mem: 4171\n"
     ]
    },
    {
     "name": "stdout",
     "output_type": "stream",
     "text": [
      "Epoch: [15]  [2100/2393]  eta: 0:03:19  lr: 0.000359  loss: 0.4942 (0.6090)  loss_classifier: 0.0223 (0.0406)  loss_box_reg: 0.0000 (0.0000)  loss_objectness: 0.3637 (0.3734)  loss_rpn_box_reg: 0.0935 (0.1950)  time: 0.6715  data: 0.0322  max mem: 4171\n"
     ]
    },
    {
     "name": "stdout",
     "output_type": "stream",
     "text": [
      "Epoch: [15]  [2200/2393]  eta: 0:02:11  lr: 0.000359  loss: 0.4820 (0.6080)  loss_classifier: 0.0324 (0.0406)  loss_box_reg: 0.0000 (0.0000)  loss_objectness: 0.3569 (0.3731)  loss_rpn_box_reg: 0.1189 (0.1944)  time: 0.6759  data: 0.0332  max mem: 4171\n"
     ]
    },
    {
     "name": "stdout",
     "output_type": "stream",
     "text": [
      "Epoch: [15]  [2300/2393]  eta: 0:01:03  lr: 0.000359  loss: 0.6359 (0.6072)  loss_classifier: 0.0397 (0.0405)  loss_box_reg: 0.0000 (0.0000)  loss_objectness: 0.3762 (0.3730)  loss_rpn_box_reg: 0.2270 (0.1937)  time: 0.6782  data: 0.0348  max mem: 4171\n"
     ]
    },
    {
     "name": "stdout",
     "output_type": "stream",
     "text": [
      "Epoch: [15]  [2392/2393]  eta: 0:00:00  lr: 0.000359  loss: 0.5520 (0.6075)  loss_classifier: 0.0298 (0.0405)  loss_box_reg: 0.0000 (0.0000)  loss_objectness: 0.3667 (0.3732)  loss_rpn_box_reg: 0.1398 (0.1938)  time: 0.6571  data: 0.0323  max mem: 4171\n",
      "Epoch: [15] Total time: 0:27:08 (0.6806 s / it)\n"
     ]
    },
    {
     "name": "stdout",
     "output_type": "stream",
     "text": [
      "creating index...\n",
      "index created!\n"
     ]
    },
    {
     "name": "stdout",
     "output_type": "stream",
     "text": [
      "Test:  [  0/303]  eta: 0:07:38  model_time: 0.3767 (0.3767)  evaluator_time: 0.0400 (0.0400)  time: 1.5146  data: 1.0592  max mem: 4171\n"
     ]
    },
    {
     "name": "stdout",
     "output_type": "stream",
     "text": [
      "Test:  [100/303]  eta: 0:01:13  model_time: 0.2699 (0.2739)  evaluator_time: 0.0083 (0.0094)  time: 0.3704  data: 0.0591  max mem: 4171\n"
     ]
    },
    {
     "name": "stdout",
     "output_type": "stream",
     "text": [
      "Test:  [200/303]  eta: 0:00:36  model_time: 0.2684 (0.2736)  evaluator_time: 0.0053 (0.0083)  time: 0.3453  data: 0.0467  max mem: 4171\n"
     ]
    },
    {
     "name": "stdout",
     "output_type": "stream",
     "text": [
      "Test:  [300/303]  eta: 0:00:01  model_time: 0.2680 (0.2726)  evaluator_time: 0.0051 (0.0074)  time: 0.3228  data: 0.0382  max mem: 4171\n"
     ]
    },
    {
     "name": "stdout",
     "output_type": "stream",
     "text": [
      "Test:  [302/303]  eta: 0:00:00  model_time: 0.2671 (0.2726)  evaluator_time: 0.0051 (0.0074)  time: 0.3207  data: 0.0381  max mem: 4171\n",
      "Test: Total time: 0:01:45 (0.3497 s / it)\n",
      "Averaged stats: model_time: 0.2671 (0.2726)  evaluator_time: 0.0051 (0.0074)\n",
      "Accumulating evaluation results...\n"
     ]
    },
    {
     "name": "stdout",
     "output_type": "stream",
     "text": [
      "DONE (t=0.33s).\n",
      "IoU metric: bbox\n",
      " Average Precision  (AP) @[ IoU=0.50:0.95 | area=   all | maxDets=100 ] = 0.000\n",
      " Average Precision  (AP) @[ IoU=0.50      | area=   all | maxDets=100 ] = 0.000\n",
      " Average Precision  (AP) @[ IoU=0.75      | area=   all | maxDets=100 ] = 0.000\n",
      " Average Precision  (AP) @[ IoU=0.50:0.95 | area= small | maxDets=100 ] = 0.000\n",
      " Average Precision  (AP) @[ IoU=0.50:0.95 | area=medium | maxDets=100 ] = 0.000\n",
      " Average Precision  (AP) @[ IoU=0.50:0.95 | area= large | maxDets=100 ] = 0.000\n",
      " Average Recall     (AR) @[ IoU=0.50:0.95 | area=   all | maxDets=  1 ] = 0.000\n",
      " Average Recall     (AR) @[ IoU=0.50:0.95 | area=   all | maxDets= 10 ] = 0.000\n",
      " Average Recall     (AR) @[ IoU=0.50:0.95 | area=   all | maxDets=100 ] = 0.000\n",
      " Average Recall     (AR) @[ IoU=0.50:0.95 | area= small | maxDets=100 ] = 0.000\n",
      " Average Recall     (AR) @[ IoU=0.50:0.95 | area=medium | maxDets=100 ] = 0.000\n",
      " Average Recall     (AR) @[ IoU=0.50:0.95 | area= large | maxDets=100 ] = 0.000\n"
     ]
    },
    {
     "name": "stdout",
     "output_type": "stream",
     "text": [
      "Epoch: [16]  [   0/2393]  eta: 1:21:49  lr: 0.000301  loss: 0.6540 (0.6540)  loss_classifier: 0.0766 (0.0766)  loss_box_reg: 0.0000 (0.0000)  loss_objectness: 0.3844 (0.3844)  loss_rpn_box_reg: 0.1930 (0.1930)  time: 2.0514  data: 1.1193  max mem: 4171\n"
     ]
    },
    {
     "name": "stdout",
     "output_type": "stream",
     "text": [
      "Epoch: [16]  [ 100/2393]  eta: 0:26:39  lr: 0.000301  loss: 0.6843 (0.6191)  loss_classifier: 0.0565 (0.0415)  loss_box_reg: 0.0000 (0.0000)  loss_objectness: 0.3678 (0.3753)  loss_rpn_box_reg: 0.2128 (0.2023)  time: 0.6829  data: 0.0376  max mem: 4171\n"
     ]
    },
    {
     "name": "stdout",
     "output_type": "stream",
     "text": [
      "Epoch: [16]  [ 200/2393]  eta: 0:25:10  lr: 0.000301  loss: 0.4764 (0.5856)  loss_classifier: 0.0295 (0.0368)  loss_box_reg: 0.0000 (0.0000)  loss_objectness: 0.3639 (0.3717)  loss_rpn_box_reg: 0.1001 (0.1771)  time: 0.6726  data: 0.0341  max mem: 4171\n"
     ]
    },
    {
     "name": "stdout",
     "output_type": "stream",
     "text": [
      "Epoch: [16]  [ 300/2393]  eta: 0:23:55  lr: 0.000301  loss: 0.5217 (0.5948)  loss_classifier: 0.0365 (0.0380)  loss_box_reg: 0.0000 (0.0000)  loss_objectness: 0.3660 (0.3736)  loss_rpn_box_reg: 0.1177 (0.1831)  time: 0.6744  data: 0.0340  max mem: 4171\n"
     ]
    },
    {
     "name": "stdout",
     "output_type": "stream",
     "text": [
      "Epoch: [16]  [ 400/2393]  eta: 0:22:43  lr: 0.000301  loss: 0.5507 (0.5983)  loss_classifier: 0.0359 (0.0384)  loss_box_reg: 0.0000 (0.0000)  loss_objectness: 0.3565 (0.3729)  loss_rpn_box_reg: 0.1556 (0.1871)  time: 0.6730  data: 0.0333  max mem: 4171\n"
     ]
    },
    {
     "name": "stdout",
     "output_type": "stream",
     "text": [
      "Epoch: [16]  [ 500/2393]  eta: 0:21:33  lr: 0.000301  loss: 0.4728 (0.5970)  loss_classifier: 0.0314 (0.0383)  loss_box_reg: 0.0000 (0.0000)  loss_objectness: 0.3643 (0.3717)  loss_rpn_box_reg: 0.1099 (0.1871)  time: 0.6749  data: 0.0329  max mem: 4171\n"
     ]
    },
    {
     "name": "stdout",
     "output_type": "stream",
     "text": [
      "Epoch: [16]  [ 600/2393]  eta: 0:20:26  lr: 0.000301  loss: 0.4985 (0.6054)  loss_classifier: 0.0240 (0.0390)  loss_box_reg: 0.0000 (0.0000)  loss_objectness: 0.3532 (0.3726)  loss_rpn_box_reg: 0.1056 (0.1938)  time: 0.7008  data: 0.0421  max mem: 4171\n"
     ]
    },
    {
     "name": "stdout",
     "output_type": "stream",
     "text": [
      "Epoch: [16]  [ 700/2393]  eta: 0:19:17  lr: 0.000301  loss: 0.5671 (0.6063)  loss_classifier: 0.0438 (0.0392)  loss_box_reg: 0.0000 (0.0000)  loss_objectness: 0.3540 (0.3733)  loss_rpn_box_reg: 0.1717 (0.1938)  time: 0.6904  data: 0.0404  max mem: 4171\n"
     ]
    },
    {
     "name": "stdout",
     "output_type": "stream",
     "text": [
      "Epoch: [16]  [ 800/2393]  eta: 0:18:08  lr: 0.000301  loss: 0.6012 (0.6080)  loss_classifier: 0.0406 (0.0395)  loss_box_reg: 0.0000 (0.0000)  loss_objectness: 0.3776 (0.3731)  loss_rpn_box_reg: 0.1944 (0.1955)  time: 0.6847  data: 0.0348  max mem: 4171\n"
     ]
    },
    {
     "name": "stdout",
     "output_type": "stream",
     "text": [
      "Epoch: [16]  [ 900/2393]  eta: 0:16:59  lr: 0.000301  loss: 0.5267 (0.6084)  loss_classifier: 0.0340 (0.0398)  loss_box_reg: 0.0000 (0.0000)  loss_objectness: 0.3650 (0.3730)  loss_rpn_box_reg: 0.1075 (0.1956)  time: 0.6880  data: 0.0370  max mem: 4171\n"
     ]
    },
    {
     "name": "stdout",
     "output_type": "stream",
     "text": [
      "Epoch: [16]  [1000/2393]  eta: 0:15:51  lr: 0.000301  loss: 0.4508 (0.6059)  loss_classifier: 0.0220 (0.0396)  loss_box_reg: 0.0000 (0.0000)  loss_objectness: 0.3560 (0.3723)  loss_rpn_box_reg: 0.0803 (0.1940)  time: 0.6714  data: 0.0333  max mem: 4171\n"
     ]
    },
    {
     "name": "stdout",
     "output_type": "stream",
     "text": [
      "Epoch: [16]  [1100/2393]  eta: 0:14:42  lr: 0.000301  loss: 0.5735 (0.6040)  loss_classifier: 0.0444 (0.0395)  loss_box_reg: 0.0000 (0.0000)  loss_objectness: 0.3662 (0.3723)  loss_rpn_box_reg: 0.1680 (0.1922)  time: 0.6821  data: 0.0361  max mem: 4171\n"
     ]
    },
    {
     "name": "stdout",
     "output_type": "stream",
     "text": [
      "Epoch: [16]  [1200/2393]  eta: 0:13:34  lr: 0.000301  loss: 0.6108 (0.6039)  loss_classifier: 0.0412 (0.0396)  loss_box_reg: 0.0000 (0.0000)  loss_objectness: 0.3675 (0.3725)  loss_rpn_box_reg: 0.1774 (0.1918)  time: 0.6731  data: 0.0351  max mem: 4171\n"
     ]
    },
    {
     "name": "stdout",
     "output_type": "stream",
     "text": [
      "Epoch: [16]  [1300/2393]  eta: 0:12:25  lr: 0.000301  loss: 0.5026 (0.6043)  loss_classifier: 0.0334 (0.0398)  loss_box_reg: 0.0000 (0.0000)  loss_objectness: 0.3645 (0.3726)  loss_rpn_box_reg: 0.1249 (0.1919)  time: 0.6729  data: 0.0339  max mem: 4171\n"
     ]
    },
    {
     "name": "stdout",
     "output_type": "stream",
     "text": [
      "Epoch: [16]  [1400/2393]  eta: 0:11:17  lr: 0.000301  loss: 0.4742 (0.6037)  loss_classifier: 0.0281 (0.0398)  loss_box_reg: 0.0000 (0.0000)  loss_objectness: 0.3612 (0.3727)  loss_rpn_box_reg: 0.0816 (0.1911)  time: 0.6717  data: 0.0335  max mem: 4171\n"
     ]
    },
    {
     "name": "stdout",
     "output_type": "stream",
     "text": [
      "Epoch: [16]  [1500/2393]  eta: 0:10:08  lr: 0.000301  loss: 0.4947 (0.6019)  loss_classifier: 0.0313 (0.0396)  loss_box_reg: 0.0000 (0.0000)  loss_objectness: 0.3522 (0.3725)  loss_rpn_box_reg: 0.1277 (0.1898)  time: 0.6746  data: 0.0325  max mem: 4171\n"
     ]
    },
    {
     "name": "stdout",
     "output_type": "stream",
     "text": [
      "Epoch: [16]  [1600/2393]  eta: 0:09:01  lr: 0.000301  loss: 0.4241 (0.6026)  loss_classifier: 0.0188 (0.0399)  loss_box_reg: 0.0000 (0.0000)  loss_objectness: 0.3629 (0.3726)  loss_rpn_box_reg: 0.0673 (0.1900)  time: 0.6969  data: 0.0414  max mem: 4171\n"
     ]
    },
    {
     "name": "stdout",
     "output_type": "stream",
     "text": [
      "Epoch: [16]  [1700/2393]  eta: 0:07:52  lr: 0.000301  loss: 0.4890 (0.6010)  loss_classifier: 0.0260 (0.0398)  loss_box_reg: 0.0000 (0.0000)  loss_objectness: 0.3527 (0.3727)  loss_rpn_box_reg: 0.1208 (0.1885)  time: 0.6928  data: 0.0368  max mem: 4171\n"
     ]
    },
    {
     "name": "stdout",
     "output_type": "stream",
     "text": [
      "Epoch: [16]  [1800/2393]  eta: 0:06:44  lr: 0.000301  loss: 0.4559 (0.6043)  loss_classifier: 0.0301 (0.0400)  loss_box_reg: 0.0000 (0.0000)  loss_objectness: 0.3672 (0.3731)  loss_rpn_box_reg: 0.0856 (0.1912)  time: 0.6897  data: 0.0388  max mem: 4171\n"
     ]
    },
    {
     "name": "stdout",
     "output_type": "stream",
     "text": [
      "Epoch: [16]  [1900/2393]  eta: 0:05:36  lr: 0.000301  loss: 0.4834 (0.6047)  loss_classifier: 0.0218 (0.0399)  loss_box_reg: 0.0000 (0.0000)  loss_objectness: 0.3602 (0.3729)  loss_rpn_box_reg: 0.0999 (0.1919)  time: 0.6948  data: 0.0374  max mem: 4171\n"
     ]
    },
    {
     "name": "stdout",
     "output_type": "stream",
     "text": [
      "Epoch: [16]  [2000/2393]  eta: 0:04:28  lr: 0.000301  loss: 0.5849 (0.6073)  loss_classifier: 0.0548 (0.0401)  loss_box_reg: 0.0000 (0.0000)  loss_objectness: 0.3583 (0.3733)  loss_rpn_box_reg: 0.1686 (0.1939)  time: 0.7008  data: 0.0399  max mem: 4171\n"
     ]
    },
    {
     "name": "stdout",
     "output_type": "stream",
     "text": [
      "Epoch: [16]  [2100/2393]  eta: 0:03:20  lr: 0.000301  loss: 0.4749 (0.6065)  loss_classifier: 0.0345 (0.0400)  loss_box_reg: 0.0000 (0.0000)  loss_objectness: 0.3651 (0.3734)  loss_rpn_box_reg: 0.0920 (0.1931)  time: 0.6813  data: 0.0390  max mem: 4171\n"
     ]
    },
    {
     "name": "stdout",
     "output_type": "stream",
     "text": [
      "Epoch: [16]  [2200/2393]  eta: 0:02:11  lr: 0.000301  loss: 0.5609 (0.6074)  loss_classifier: 0.0418 (0.0404)  loss_box_reg: 0.0000 (0.0000)  loss_objectness: 0.3716 (0.3732)  loss_rpn_box_reg: 0.1278 (0.1938)  time: 0.6739  data: 0.0335  max mem: 4171\n"
     ]
    },
    {
     "name": "stdout",
     "output_type": "stream",
     "text": [
      "Epoch: [16]  [2300/2393]  eta: 0:01:03  lr: 0.000301  loss: 0.5476 (0.6071)  loss_classifier: 0.0334 (0.0404)  loss_box_reg: 0.0000 (0.0000)  loss_objectness: 0.3677 (0.3733)  loss_rpn_box_reg: 0.1438 (0.1935)  time: 0.6715  data: 0.0328  max mem: 4171\n"
     ]
    },
    {
     "name": "stdout",
     "output_type": "stream",
     "text": [
      "Epoch: [16]  [2392/2393]  eta: 0:00:00  lr: 0.000301  loss: 0.5779 (0.6076)  loss_classifier: 0.0302 (0.0405)  loss_box_reg: 0.0000 (0.0000)  loss_objectness: 0.3687 (0.3733)  loss_rpn_box_reg: 0.1843 (0.1938)  time: 0.6552  data: 0.0325  max mem: 4171\n",
      "Epoch: [16] Total time: 0:27:13 (0.6826 s / it)\n"
     ]
    },
    {
     "name": "stdout",
     "output_type": "stream",
     "text": [
      "creating index...\n",
      "index created!\n"
     ]
    },
    {
     "name": "stdout",
     "output_type": "stream",
     "text": [
      "Test:  [  0/303]  eta: 0:08:51  model_time: 0.4009 (0.4009)  evaluator_time: 0.0295 (0.0295)  time: 1.7532  data: 1.2733  max mem: 4171\n"
     ]
    },
    {
     "name": "stdout",
     "output_type": "stream",
     "text": [
      "Test:  [100/303]  eta: 0:01:14  model_time: 0.2694 (0.2757)  evaluator_time: 0.0081 (0.0103)  time: 0.3452  data: 0.0424  max mem: 4171\n"
     ]
    },
    {
     "name": "stdout",
     "output_type": "stream",
     "text": [
      "Test:  [200/303]  eta: 0:00:37  model_time: 0.2695 (0.2755)  evaluator_time: 0.0070 (0.0093)  time: 0.3484  data: 0.0477  max mem: 4171\n"
     ]
    },
    {
     "name": "stdout",
     "output_type": "stream",
     "text": [
      "Test:  [300/303]  eta: 0:00:01  model_time: 0.2699 (0.2748)  evaluator_time: 0.0056 (0.0084)  time: 0.3379  data: 0.0446  max mem: 4171\n"
     ]
    },
    {
     "name": "stdout",
     "output_type": "stream",
     "text": [
      "Test:  [302/303]  eta: 0:00:00  model_time: 0.2688 (0.2747)  evaluator_time: 0.0054 (0.0084)  time: 0.3367  data: 0.0445  max mem: 4171\n",
      "Test: Total time: 0:01:47 (0.3559 s / it)\n",
      "Averaged stats: model_time: 0.2688 (0.2747)  evaluator_time: 0.0054 (0.0084)\n",
      "Accumulating evaluation results...\n"
     ]
    },
    {
     "name": "stdout",
     "output_type": "stream",
     "text": [
      "DONE (t=0.33s).\n",
      "IoU metric: bbox\n",
      " Average Precision  (AP) @[ IoU=0.50:0.95 | area=   all | maxDets=100 ] = 0.000\n",
      " Average Precision  (AP) @[ IoU=0.50      | area=   all | maxDets=100 ] = 0.000\n",
      " Average Precision  (AP) @[ IoU=0.75      | area=   all | maxDets=100 ] = 0.000\n",
      " Average Precision  (AP) @[ IoU=0.50:0.95 | area= small | maxDets=100 ] = 0.000\n",
      " Average Precision  (AP) @[ IoU=0.50:0.95 | area=medium | maxDets=100 ] = 0.000\n",
      " Average Precision  (AP) @[ IoU=0.50:0.95 | area= large | maxDets=100 ] = 0.000\n",
      " Average Recall     (AR) @[ IoU=0.50:0.95 | area=   all | maxDets=  1 ] = 0.000\n",
      " Average Recall     (AR) @[ IoU=0.50:0.95 | area=   all | maxDets= 10 ] = 0.000\n",
      " Average Recall     (AR) @[ IoU=0.50:0.95 | area=   all | maxDets=100 ] = 0.000\n",
      " Average Recall     (AR) @[ IoU=0.50:0.95 | area= small | maxDets=100 ] = 0.000\n",
      " Average Recall     (AR) @[ IoU=0.50:0.95 | area=medium | maxDets=100 ] = 0.000\n",
      " Average Recall     (AR) @[ IoU=0.50:0.95 | area= large | maxDets=100 ] = 0.000\n"
     ]
    },
    {
     "name": "stdout",
     "output_type": "stream",
     "text": [
      "Epoch: [17]  [   0/2393]  eta: 1:20:50  lr: 0.000247  loss: 0.5839 (0.5839)  loss_classifier: 0.0286 (0.0286)  loss_box_reg: 0.0000 (0.0000)  loss_objectness: 0.3706 (0.3706)  loss_rpn_box_reg: 0.1848 (0.1848)  time: 2.0270  data: 1.0443  max mem: 4171\n"
     ]
    },
    {
     "name": "stdout",
     "output_type": "stream",
     "text": [
      "Epoch: [17]  [ 100/2393]  eta: 0:26:38  lr: 0.000247  loss: 0.4937 (0.5924)  loss_classifier: 0.0225 (0.0394)  loss_box_reg: 0.0000 (0.0000)  loss_objectness: 0.3620 (0.3728)  loss_rpn_box_reg: 0.1049 (0.1802)  time: 0.6749  data: 0.0347  max mem: 4171\n"
     ]
    },
    {
     "name": "stdout",
     "output_type": "stream",
     "text": [
      "Epoch: [17]  [ 200/2393]  eta: 0:25:18  lr: 0.000247  loss: 0.5069 (0.5998)  loss_classifier: 0.0369 (0.0393)  loss_box_reg: 0.0000 (0.0000)  loss_objectness: 0.3637 (0.3732)  loss_rpn_box_reg: 0.1261 (0.1873)  time: 0.6839  data: 0.0360  max mem: 4171\n"
     ]
    },
    {
     "name": "stdout",
     "output_type": "stream",
     "text": [
      "Epoch: [17]  [ 300/2393]  eta: 0:24:04  lr: 0.000247  loss: 0.5510 (0.6017)  loss_classifier: 0.0353 (0.0388)  loss_box_reg: 0.0000 (0.0000)  loss_objectness: 0.3643 (0.3738)  loss_rpn_box_reg: 0.1526 (0.1890)  time: 0.6777  data: 0.0330  max mem: 4171\n"
     ]
    },
    {
     "name": "stdout",
     "output_type": "stream",
     "text": [
      "Epoch: [17]  [ 400/2393]  eta: 0:22:51  lr: 0.000247  loss: 0.5663 (0.5982)  loss_classifier: 0.0414 (0.0388)  loss_box_reg: 0.0000 (0.0000)  loss_objectness: 0.3617 (0.3721)  loss_rpn_box_reg: 0.1375 (0.1873)  time: 0.6743  data: 0.0332  max mem: 4171\n"
     ]
    },
    {
     "name": "stdout",
     "output_type": "stream",
     "text": [
      "Epoch: [17]  [ 500/2393]  eta: 0:21:40  lr: 0.000247  loss: 0.4674 (0.5960)  loss_classifier: 0.0270 (0.0386)  loss_box_reg: 0.0000 (0.0000)  loss_objectness: 0.3497 (0.3707)  loss_rpn_box_reg: 0.0997 (0.1867)  time: 0.6771  data: 0.0339  max mem: 4171\n"
     ]
    },
    {
     "name": "stdout",
     "output_type": "stream",
     "text": [
      "Epoch: [17]  [ 600/2393]  eta: 0:20:31  lr: 0.000247  loss: 0.5082 (0.5975)  loss_classifier: 0.0283 (0.0394)  loss_box_reg: 0.0000 (0.0000)  loss_objectness: 0.3622 (0.3706)  loss_rpn_box_reg: 0.1012 (0.1876)  time: 0.6809  data: 0.0362  max mem: 4171\n"
     ]
    },
    {
     "name": "stdout",
     "output_type": "stream",
     "text": [
      "Epoch: [17]  [ 700/2393]  eta: 0:19:22  lr: 0.000247  loss: 0.4682 (0.6019)  loss_classifier: 0.0366 (0.0403)  loss_box_reg: 0.0000 (0.0000)  loss_objectness: 0.3640 (0.3719)  loss_rpn_box_reg: 0.0961 (0.1897)  time: 0.7041  data: 0.0397  max mem: 4171\n"
     ]
    },
    {
     "name": "stdout",
     "output_type": "stream",
     "text": [
      "Epoch: [17]  [ 800/2393]  eta: 0:18:14  lr: 0.000247  loss: 0.5312 (0.6072)  loss_classifier: 0.0454 (0.0407)  loss_box_reg: 0.0000 (0.0000)  loss_objectness: 0.3704 (0.3728)  loss_rpn_box_reg: 0.1390 (0.1937)  time: 0.6951  data: 0.0360  max mem: 4171\n"
     ]
    },
    {
     "name": "stdout",
     "output_type": "stream",
     "text": [
      "Epoch: [17]  [ 900/2393]  eta: 0:17:04  lr: 0.000247  loss: 0.5320 (0.6077)  loss_classifier: 0.0349 (0.0409)  loss_box_reg: 0.0000 (0.0000)  loss_objectness: 0.3643 (0.3735)  loss_rpn_box_reg: 0.1319 (0.1934)  time: 0.6836  data: 0.0356  max mem: 4171\n"
     ]
    },
    {
     "name": "stdout",
     "output_type": "stream",
     "text": [
      "Epoch: [17]  [1000/2393]  eta: 0:15:55  lr: 0.000247  loss: 0.5144 (0.6081)  loss_classifier: 0.0309 (0.0407)  loss_box_reg: 0.0000 (0.0000)  loss_objectness: 0.3599 (0.3735)  loss_rpn_box_reg: 0.1460 (0.1939)  time: 0.6751  data: 0.0350  max mem: 4171\n"
     ]
    },
    {
     "name": "stdout",
     "output_type": "stream",
     "text": [
      "Epoch: [17]  [1100/2393]  eta: 0:14:46  lr: 0.000247  loss: 0.5271 (0.6056)  loss_classifier: 0.0403 (0.0404)  loss_box_reg: 0.0000 (0.0000)  loss_objectness: 0.3552 (0.3732)  loss_rpn_box_reg: 0.1577 (0.1920)  time: 0.6793  data: 0.0358  max mem: 4171\n"
     ]
    },
    {
     "name": "stdout",
     "output_type": "stream",
     "text": [
      "Epoch: [17]  [1200/2393]  eta: 0:13:38  lr: 0.000247  loss: 0.6369 (0.6072)  loss_classifier: 0.0538 (0.0408)  loss_box_reg: 0.0000 (0.0000)  loss_objectness: 0.3700 (0.3735)  loss_rpn_box_reg: 0.1831 (0.1930)  time: 0.6751  data: 0.0333  max mem: 4171\n"
     ]
    },
    {
     "name": "stdout",
     "output_type": "stream",
     "text": [
      "Epoch: [17]  [1300/2393]  eta: 0:12:29  lr: 0.000247  loss: 0.5330 (0.6067)  loss_classifier: 0.0341 (0.0408)  loss_box_reg: 0.0000 (0.0000)  loss_objectness: 0.3656 (0.3733)  loss_rpn_box_reg: 0.1643 (0.1926)  time: 0.6751  data: 0.0338  max mem: 4171\n"
     ]
    },
    {
     "name": "stdout",
     "output_type": "stream",
     "text": [
      "Epoch: [17]  [1400/2393]  eta: 0:11:20  lr: 0.000247  loss: 0.4925 (0.6060)  loss_classifier: 0.0274 (0.0406)  loss_box_reg: 0.0000 (0.0000)  loss_objectness: 0.3627 (0.3732)  loss_rpn_box_reg: 0.0821 (0.1922)  time: 0.6751  data: 0.0331  max mem: 4171\n"
     ]
    },
    {
     "name": "stdout",
     "output_type": "stream",
     "text": [
      "Epoch: [17]  [1500/2393]  eta: 0:10:11  lr: 0.000247  loss: 0.4761 (0.6065)  loss_classifier: 0.0227 (0.0406)  loss_box_reg: 0.0000 (0.0000)  loss_objectness: 0.3666 (0.3735)  loss_rpn_box_reg: 0.0868 (0.1923)  time: 0.6784  data: 0.0342  max mem: 4171\n"
     ]
    },
    {
     "name": "stdout",
     "output_type": "stream",
     "text": [
      "Epoch: [17]  [1600/2393]  eta: 0:09:03  lr: 0.000247  loss: 0.5770 (0.6077)  loss_classifier: 0.0474 (0.0407)  loss_box_reg: 0.0000 (0.0000)  loss_objectness: 0.3609 (0.3733)  loss_rpn_box_reg: 0.1783 (0.1938)  time: 0.6805  data: 0.0363  max mem: 4171\n"
     ]
    },
    {
     "name": "stdout",
     "output_type": "stream",
     "text": [
      "Epoch: [17]  [1700/2393]  eta: 0:07:54  lr: 0.000247  loss: 0.5977 (0.6073)  loss_classifier: 0.0419 (0.0406)  loss_box_reg: 0.0000 (0.0000)  loss_objectness: 0.3685 (0.3731)  loss_rpn_box_reg: 0.2015 (0.1936)  time: 0.6813  data: 0.0333  max mem: 4171\n"
     ]
    },
    {
     "name": "stdout",
     "output_type": "stream",
     "text": [
      "Epoch: [17]  [1800/2393]  eta: 0:06:46  lr: 0.000247  loss: 0.5385 (0.6075)  loss_classifier: 0.0296 (0.0406)  loss_box_reg: 0.0000 (0.0000)  loss_objectness: 0.3665 (0.3731)  loss_rpn_box_reg: 0.1083 (0.1938)  time: 0.6842  data: 0.0361  max mem: 4171\n"
     ]
    },
    {
     "name": "stdout",
     "output_type": "stream",
     "text": [
      "Epoch: [17]  [1900/2393]  eta: 0:05:37  lr: 0.000247  loss: 0.5384 (0.6079)  loss_classifier: 0.0406 (0.0407)  loss_box_reg: 0.0000 (0.0000)  loss_objectness: 0.3584 (0.3732)  loss_rpn_box_reg: 0.1423 (0.1941)  time: 0.6892  data: 0.0376  max mem: 4171\n"
     ]
    },
    {
     "name": "stdout",
     "output_type": "stream",
     "text": [
      "Epoch: [17]  [2000/2393]  eta: 0:04:29  lr: 0.000247  loss: 0.5165 (0.6062)  loss_classifier: 0.0276 (0.0404)  loss_box_reg: 0.0000 (0.0000)  loss_objectness: 0.3659 (0.3730)  loss_rpn_box_reg: 0.1500 (0.1929)  time: 0.6891  data: 0.0363  max mem: 4171\n"
     ]
    },
    {
     "name": "stdout",
     "output_type": "stream",
     "text": [
      "Epoch: [17]  [2100/2393]  eta: 0:03:20  lr: 0.000247  loss: 0.4301 (0.6046)  loss_classifier: 0.0213 (0.0402)  loss_box_reg: 0.0000 (0.0000)  loss_objectness: 0.3575 (0.3728)  loss_rpn_box_reg: 0.0581 (0.1917)  time: 0.6906  data: 0.0363  max mem: 4171\n"
     ]
    },
    {
     "name": "stdout",
     "output_type": "stream",
     "text": [
      "Epoch: [17]  [2200/2393]  eta: 0:02:12  lr: 0.000247  loss: 0.5329 (0.6063)  loss_classifier: 0.0289 (0.0403)  loss_box_reg: 0.0000 (0.0000)  loss_objectness: 0.3672 (0.3730)  loss_rpn_box_reg: 0.1398 (0.1930)  time: 0.6879  data: 0.0349  max mem: 4171\n"
     ]
    },
    {
     "name": "stdout",
     "output_type": "stream",
     "text": [
      "Epoch: [17]  [2300/2393]  eta: 0:01:03  lr: 0.000247  loss: 0.4808 (0.6078)  loss_classifier: 0.0239 (0.0406)  loss_box_reg: 0.0000 (0.0000)  loss_objectness: 0.3640 (0.3733)  loss_rpn_box_reg: 0.1067 (0.1939)  time: 0.6815  data: 0.0343  max mem: 4171\n"
     ]
    },
    {
     "name": "stdout",
     "output_type": "stream",
     "text": [
      "Epoch: [17]  [2392/2393]  eta: 0:00:00  lr: 0.000247  loss: 0.4873 (0.6076)  loss_classifier: 0.0219 (0.0405)  loss_box_reg: 0.0000 (0.0000)  loss_objectness: 0.3646 (0.3732)  loss_rpn_box_reg: 0.0897 (0.1938)  time: 0.6661  data: 0.0364  max mem: 4171\n",
      "Epoch: [17] Total time: 0:27:17 (0.6844 s / it)\n"
     ]
    },
    {
     "name": "stdout",
     "output_type": "stream",
     "text": [
      "creating index...\n",
      "index created!\n"
     ]
    },
    {
     "name": "stdout",
     "output_type": "stream",
     "text": [
      "Test:  [  0/303]  eta: 0:09:03  model_time: 0.3926 (0.3926)  evaluator_time: 0.0130 (0.0130)  time: 1.7935  data: 1.3562  max mem: 4171\n"
     ]
    },
    {
     "name": "stdout",
     "output_type": "stream",
     "text": [
      "Test:  [100/303]  eta: 0:01:15  model_time: 0.2701 (0.2755)  evaluator_time: 0.0078 (0.0101)  time: 0.3406  data: 0.0446  max mem: 4171\n"
     ]
    },
    {
     "name": "stdout",
     "output_type": "stream",
     "text": [
      "Test:  [200/303]  eta: 0:00:37  model_time: 0.2692 (0.2760)  evaluator_time: 0.0070 (0.0092)  time: 0.3541  data: 0.0515  max mem: 4171\n"
     ]
    },
    {
     "name": "stdout",
     "output_type": "stream",
     "text": [
      "Test:  [300/303]  eta: 0:00:01  model_time: 0.2686 (0.2755)  evaluator_time: 0.0052 (0.0084)  time: 0.3436  data: 0.0494  max mem: 4171\n"
     ]
    },
    {
     "name": "stdout",
     "output_type": "stream",
     "text": [
      "Test:  [302/303]  eta: 0:00:00  model_time: 0.2686 (0.2756)  evaluator_time: 0.0052 (0.0084)  time: 0.3454  data: 0.0496  max mem: 4171\n",
      "Test: Total time: 0:01:49 (0.3601 s / it)\n",
      "Averaged stats: model_time: 0.2686 (0.2756)  evaluator_time: 0.0052 (0.0084)\n",
      "Accumulating evaluation results...\n"
     ]
    },
    {
     "name": "stdout",
     "output_type": "stream",
     "text": [
      "DONE (t=0.33s).\n",
      "IoU metric: bbox\n",
      " Average Precision  (AP) @[ IoU=0.50:0.95 | area=   all | maxDets=100 ] = 0.000\n",
      " Average Precision  (AP) @[ IoU=0.50      | area=   all | maxDets=100 ] = 0.000\n",
      " Average Precision  (AP) @[ IoU=0.75      | area=   all | maxDets=100 ] = 0.000\n",
      " Average Precision  (AP) @[ IoU=0.50:0.95 | area= small | maxDets=100 ] = 0.000\n",
      " Average Precision  (AP) @[ IoU=0.50:0.95 | area=medium | maxDets=100 ] = 0.000\n",
      " Average Precision  (AP) @[ IoU=0.50:0.95 | area= large | maxDets=100 ] = 0.000\n",
      " Average Recall     (AR) @[ IoU=0.50:0.95 | area=   all | maxDets=  1 ] = 0.000\n",
      " Average Recall     (AR) @[ IoU=0.50:0.95 | area=   all | maxDets= 10 ] = 0.000\n",
      " Average Recall     (AR) @[ IoU=0.50:0.95 | area=   all | maxDets=100 ] = 0.000\n",
      " Average Recall     (AR) @[ IoU=0.50:0.95 | area= small | maxDets=100 ] = 0.000\n",
      " Average Recall     (AR) @[ IoU=0.50:0.95 | area=medium | maxDets=100 ] = 0.000\n",
      " Average Recall     (AR) @[ IoU=0.50:0.95 | area= large | maxDets=100 ] = 0.000\n"
     ]
    },
    {
     "name": "stdout",
     "output_type": "stream",
     "text": [
      "Epoch: [18]  [   0/2393]  eta: 1:29:35  lr: 0.000198  loss: 0.5869 (0.5869)  loss_classifier: 0.0380 (0.0380)  loss_box_reg: 0.0000 (0.0000)  loss_objectness: 0.3532 (0.3532)  loss_rpn_box_reg: 0.1957 (0.1957)  time: 2.2462  data: 1.3244  max mem: 4171\n"
     ]
    },
    {
     "name": "stdout",
     "output_type": "stream",
     "text": [
      "Epoch: [18]  [ 100/2393]  eta: 0:26:44  lr: 0.000198  loss: 0.4471 (0.5949)  loss_classifier: 0.0257 (0.0382)  loss_box_reg: 0.0000 (0.0000)  loss_objectness: 0.3650 (0.3770)  loss_rpn_box_reg: 0.0775 (0.1797)  time: 0.6868  data: 0.0357  max mem: 4171\n"
     ]
    },
    {
     "name": "stdout",
     "output_type": "stream",
     "text": [
      "Epoch: [18]  [ 200/2393]  eta: 0:25:16  lr: 0.000198  loss: 0.5380 (0.6047)  loss_classifier: 0.0385 (0.0406)  loss_box_reg: 0.0000 (0.0000)  loss_objectness: 0.3584 (0.3756)  loss_rpn_box_reg: 0.1550 (0.1885)  time: 0.6928  data: 0.0361  max mem: 4171\n"
     ]
    },
    {
     "name": "stdout",
     "output_type": "stream",
     "text": [
      "Epoch: [18]  [ 300/2393]  eta: 0:23:59  lr: 0.000198  loss: 0.5349 (0.6003)  loss_classifier: 0.0364 (0.0392)  loss_box_reg: 0.0000 (0.0000)  loss_objectness: 0.3644 (0.3741)  loss_rpn_box_reg: 0.1366 (0.1870)  time: 0.6823  data: 0.0351  max mem: 4171\n"
     ]
    },
    {
     "name": "stdout",
     "output_type": "stream",
     "text": [
      "Epoch: [18]  [ 400/2393]  eta: 0:22:46  lr: 0.000198  loss: 0.5622 (0.5984)  loss_classifier: 0.0357 (0.0388)  loss_box_reg: 0.0000 (0.0000)  loss_objectness: 0.3658 (0.3737)  loss_rpn_box_reg: 0.1609 (0.1859)  time: 0.6807  data: 0.0339  max mem: 4171\n"
     ]
    },
    {
     "name": "stdout",
     "output_type": "stream",
     "text": [
      "Epoch: [18]  [ 500/2393]  eta: 0:21:35  lr: 0.000198  loss: 0.5732 (0.6039)  loss_classifier: 0.0272 (0.0397)  loss_box_reg: 0.0000 (0.0000)  loss_objectness: 0.3647 (0.3737)  loss_rpn_box_reg: 0.1752 (0.1904)  time: 0.6742  data: 0.0327  max mem: 4171\n"
     ]
    },
    {
     "name": "stdout",
     "output_type": "stream",
     "text": [
      "Epoch: [18]  [ 600/2393]  eta: 0:20:25  lr: 0.000198  loss: 0.6179 (0.6077)  loss_classifier: 0.0502 (0.0403)  loss_box_reg: 0.0000 (0.0000)  loss_objectness: 0.3746 (0.3739)  loss_rpn_box_reg: 0.1790 (0.1935)  time: 0.6741  data: 0.0333  max mem: 4171\n"
     ]
    }
   ],
   "source": [
    "# Train the model\n",
    "device = torch.device('cuda') if torch.cuda.is_available() else torch.device('cpu')\n",
    "\n",
    "model.to(device)\n",
    "\n",
    "# Hyperparameters\n",
    "learning_rate = 0.001\n",
    "weight_decay = 0\n",
    "num_epochs = 25\n",
    "\n",
    "params = [p for p in model.parameters() if p.requires_grad]\n",
    "\n",
    "optimizer = Adam(params, lr=learning_rate, weight_decay=weight_decay)\n",
    "lr_scheduler = CosineAnnealingLR(optimizer, T_max=num_epochs, eta_min=0.00002)\n",
    "\n",
    "# Create a folder for saving the model weights\n",
    "%mkdir model_weights\n",
    "%mkdir stats\n",
    "\n",
    "train_meters = []\n",
    "coco_evals = []\n",
    "t_start = time.time()\n",
    "\n",
    "for epoch in range(num_epochs):\n",
    "    # Train over the epoch\n",
    "    logger = train_one_epoch(model, optimizer, data_loader_train, device, epoch, print_freq=100)\n",
    "    train_meters.append(logger.meters)\n",
    "    \n",
    "    # Evaluate on the validation set\n",
    "    coco_eval = evaluate(model, data_loader_val, device)\n",
    "    coco_evals.append(coco_eval.coco_eval)\n",
    "    \n",
    "    # Update the learning rate\n",
    "    lr_scheduler.step()\n",
    "\n",
    "# Validation statistics for every class\n",
    "coco_evals_class = []\n",
    "for class_id in range(0,15):\n",
    "    class_val_dataset = VinBigDataset(val_img_dir, df_val, create_transforms(train=False), class_id=class_id)\n",
    "\n",
    "    data_loader_class_val = DataLoader(\\\n",
    "        class_val_dataset, batch_size=5, shuffle=False, num_workers=4, collate_fn=utils.collate_fn)\n",
    "    \n",
    "    if len(class_val_dataset) == 0:\n",
    "        continue\n",
    "        \n",
    "    coco_eval_class = evaluate(model, data_loader_class_val, device)\n",
    "    coco_evals_class.append(coco_eval_class.coco_eval)\n",
    "    \n",
    "t_end = time.time()\n",
    "print(f\"Training took {t_end - t_start}\")\n",
    "      \n",
    "# Save the model weights\n",
    "torch.save(model.state_dict(), f\"model_weights/model_weights.bin\")\n",
    "\n",
    "# Save the stats\n",
    "pickle.dump(train_meters, open(f\"stats/train_stats.pkl\", 'wb'))\n",
    "pickle.dump(coco_evals, open(f\"stats/val_stats.pkl\", 'wb'))\n",
    "pickle.dump(coco_evals_class, open(f\"stats/val_stats_2.pkl\", 'wb'))\n",
    "    "
   ]
  },
  {
   "cell_type": "code",
   "execution_count": null,
   "metadata": {
    "papermill": {
     "duration": null,
     "end_time": null,
     "exception": null,
     "start_time": null,
     "status": "pending"
    },
    "tags": []
   },
   "outputs": [],
   "source": [
    "%%bash \n",
    "zip -r -q stats.zip stats/*.*"
   ]
  },
  {
   "cell_type": "markdown",
   "metadata": {
    "papermill": {
     "duration": null,
     "end_time": null,
     "exception": null,
     "start_time": null,
     "status": "pending"
    },
    "tags": []
   },
   "source": [
    "# Plot statistics"
   ]
  },
  {
   "cell_type": "code",
   "execution_count": null,
   "metadata": {
    "papermill": {
     "duration": null,
     "end_time": null,
     "exception": null,
     "start_time": null,
     "status": "pending"
    },
    "tags": []
   },
   "outputs": [],
   "source": [
    "# Functions for getting and plotting training stats\n",
    "\n",
    "def get_train_stats(name, stats):\n",
    "    return [s[name].value for s in stats]\n",
    "\n",
    "def plot_train_stats(train_stats, name):\n",
    "    loss = get_train_stats('loss', train_stats)\n",
    "    loss_classifier = get_train_stats('loss_classifier', train_stats)\n",
    "    loss_box_reg = get_train_stats('loss_box_reg', train_stats)\n",
    "    loss_objectness = get_train_stats('loss_objectness', train_stats)\n",
    "    loss_rpn_box_reg = get_train_stats('loss_rpn_box_reg', train_stats)\n",
    "    # Plot the training stats\n",
    "    fig = plt.figure(figsize=(12,8))\n",
    "    plt.plot(loss, label='loss')\n",
    "    plt.plot(loss_classifier, label='loss_classifier')\n",
    "    plt.plot(loss_box_reg, label='loss_box_reg')\n",
    "    plt.plot(loss_objectness, label='loss_objectness')\n",
    "    plt.plot(loss_rpn_box_reg, label='loss_rpn_box_reg')\n",
    "    plt.legend()\n",
    "    plt.xticks(range(0, len(loss), 5))\n",
    "    plt.xlabel('Epoch')\n",
    "    plt.title(f'Training stats {name}')"
   ]
  },
  {
   "cell_type": "code",
   "execution_count": null,
   "metadata": {
    "papermill": {
     "duration": null,
     "end_time": null,
     "exception": null,
     "start_time": null,
     "status": "pending"
    },
    "tags": []
   },
   "outputs": [],
   "source": [
    "# Functions for getting and plotting validation stats\n",
    "\n",
    "def get_val_stats(idx, stats):\n",
    "    return [s['bbox'].stats[idx] for s in stats]\n",
    "\n",
    "def plot_val_stats(val_stats, name):\n",
    "    ap_50_95 = get_val_stats(0, val_stats)\n",
    "    ap_50 = get_val_stats(1, val_stats)\n",
    "    ap_75 = get_val_stats(2, val_stats)\n",
    "    ar_all_md100 = get_val_stats(8, val_stats)\n",
    "\n",
    "     # Plot the validation stats\n",
    "    fig = plt.figure(figsize=(12,8))\n",
    "    plt.plot(ap_50_95, label='AP .50:.95')\n",
    "    plt.plot(ap_50, label='AP .50')\n",
    "    plt.plot(ap_75, label='AP .75')\n",
    "    plt.plot(ar_all_md100, label='AR All Max Dets 100')\n",
    "    plt.legend()\n",
    "    plt.xticks(range(0, len(ap_50), 5))\n",
    "    plt.xlabel('Epoch')\n",
    "    plt.title(f'Validation stats {name}')"
   ]
  },
  {
   "cell_type": "code",
   "execution_count": null,
   "metadata": {
    "papermill": {
     "duration": null,
     "end_time": null,
     "exception": null,
     "start_time": null,
     "status": "pending"
    },
    "tags": []
   },
   "outputs": [],
   "source": [
    "# Plot the stats\n",
    "plot_train_stats(train_meters, 'baseline')\n",
    "plot_val_stats(coco_evals, 'baseline')"
   ]
  },
  {
   "cell_type": "code",
   "execution_count": null,
   "metadata": {
    "papermill": {
     "duration": null,
     "end_time": null,
     "exception": null,
     "start_time": null,
     "status": "pending"
    },
    "tags": []
   },
   "outputs": [],
   "source": [
    "for i in range(15):\n",
    "    plot_val_stats(coco_evals_class[i], f'baseline class {i}')\n",
    "    "
   ]
  },
  {
   "cell_type": "code",
   "execution_count": null,
   "metadata": {
    "papermill": {
     "duration": null,
     "end_time": null,
     "exception": null,
     "start_time": null,
     "status": "pending"
    },
    "tags": []
   },
   "outputs": [],
   "source": [
    "coco_evals_class[0]['bbox']"
   ]
  }
 ],
 "metadata": {
  "kernelspec": {
   "display_name": "Python 3",
   "language": "python",
   "name": "python3"
  },
  "language_info": {
   "codemirror_mode": {
    "name": "ipython",
    "version": 3
   },
   "file_extension": ".py",
   "mimetype": "text/x-python",
   "name": "python",
   "nbconvert_exporter": "python",
   "pygments_lexer": "ipython3",
   "version": "3.6.4"
  },
  "papermill": {
   "default_parameters": {},
   "duration": null,
   "end_time": null,
   "environment_variables": {},
   "exception": null,
   "input_path": "__notebook__.ipynb",
   "output_path": "__notebook__.ipynb",
   "parameters": {},
   "start_time": "2021-03-21T19:56:59.562148",
   "version": "2.2.2"
  }
 },
 "nbformat": 4,
 "nbformat_minor": 4
}