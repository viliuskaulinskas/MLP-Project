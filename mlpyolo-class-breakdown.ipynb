{
 "cells": [
  {
   "cell_type": "code",
   "execution_count": 1,
   "metadata": {
    "_cell_guid": "e929f0af-2c79-4171-902f-29b627a61ee1",
    "_uuid": "e55b7e63-df5f-432e-ba65-396e7da8d8a1",
    "execution": {
     "iopub.execute_input": "2021-04-01T13:15:30.888442Z",
     "iopub.status.busy": "2021-04-01T13:15:30.887561Z",
     "iopub.status.idle": "2021-04-01T13:15:30.896270Z",
     "shell.execute_reply": "2021-04-01T13:15:30.895505Z"
    },
    "papermill": {
     "duration": 0.023956,
     "end_time": "2021-04-01T13:15:30.896457",
     "exception": false,
     "start_time": "2021-04-01T13:15:30.872501",
     "status": "completed"
    },
    "tags": []
   },
   "outputs": [],
   "source": [
    "import numpy as np\n",
    "import os\n",
    "from tqdm.auto import tqdm\n",
    "# from pathos.multiprocessing import ProcessingPool as Pool\n",
    "# from functools import partial\n",
    "import pandas as pd\n",
    "from PIL import Image"
   ]
  },
  {
   "cell_type": "code",
   "execution_count": 2,
   "metadata": {
    "_cell_guid": "a924c3e4-042b-4112-bdbb-4f66f172bd76",
    "_uuid": "8968f308-efd6-4117-ac4d-0857768406f9",
    "execution": {
     "iopub.execute_input": "2021-04-01T13:15:30.919108Z",
     "iopub.status.busy": "2021-04-01T13:15:30.918286Z",
     "iopub.status.idle": "2021-04-01T13:15:33.864884Z",
     "shell.execute_reply": "2021-04-01T13:15:33.864029Z"
    },
    "papermill": {
     "duration": 2.960273,
     "end_time": "2021-04-01T13:15:33.865071",
     "exception": false,
     "start_time": "2021-04-01T13:15:30.904798",
     "status": "completed"
    },
    "tags": []
   },
   "outputs": [
    {
     "name": "stdout",
     "output_type": "stream",
     "text": [
      "Cloning into 'ScaledYOLOv4'...\r\n",
      "remote: Enumerating objects: 92, done.\u001b[K\r\n",
      "remote: Counting objects: 100% (92/92), done.\u001b[K\r\n",
      "remote: Compressing objects: 100% (62/62), done.\u001b[K\r\n",
      "remote: Total 220 (delta 61), reused 60 (delta 30), pack-reused 128\u001b[K\r\n",
      "Receiving objects: 100% (220/220), 401.93 KiB | 1.58 MiB/s, done.\r\n",
      "Resolving deltas: 100% (113/113), done.\r\n",
      "/kaggle/working/ScaledYOLOv4\n",
      "Branch 'yolov4-large' set up to track remote branch 'yolov4-large' from 'origin'.\r\n",
      "Switched to a new branch 'yolov4-large'\r\n"
     ]
    }
   ],
   "source": [
    "# clone Scaled_YOLOv4\n",
    "!git clone https://github.com/tom-auger/ScaledYOLOv4.git\n",
    "%cd ScaledYOLOv4/\n",
    "#checkout the yolov4-large branch\n",
    "!git checkout yolov4-large"
   ]
  },
  {
   "cell_type": "code",
   "execution_count": 3,
   "metadata": {
    "_cell_guid": "b30fc6aa-0e3a-4247-aa28-c038c3904fb9",
    "_uuid": "41baac93-e497-4107-951b-411eafb8cf0f",
    "execution": {
     "iopub.execute_input": "2021-04-01T13:15:33.909820Z",
     "iopub.status.busy": "2021-04-01T13:15:33.909189Z",
     "iopub.status.idle": "2021-04-01T13:15:34.128309Z",
     "shell.execute_reply": "2021-04-01T13:15:34.127134Z"
    },
    "papermill": {
     "duration": 0.250903,
     "end_time": "2021-04-01T13:15:34.128453",
     "exception": false,
     "start_time": "2021-04-01T13:15:33.877550",
     "status": "completed"
    },
    "tags": []
   },
   "outputs": [],
   "source": [
    "df_train = pd.read_csv('/kaggle/input/vinbigstratifiedyolo/vinbigstratified/train_orig.csv')\n",
    "df_val = pd.read_csv('/kaggle/input/vinbigstratifiedyolo/vinbigstratified/validation_orig.csv')\n",
    "df_test = pd.read_csv('/kaggle/input/vinbigstratifiedyolo/vinbigstratified/test_orig.csv')"
   ]
  },
  {
   "cell_type": "code",
   "execution_count": 4,
   "metadata": {
    "_cell_guid": "c80a482f-d445-4b38-97ba-bbcb83c34c07",
    "_uuid": "1ac0692d-1bf0-45aa-93be-c6c3cf0f850a",
    "execution": {
     "iopub.execute_input": "2021-04-01T13:15:34.158492Z",
     "iopub.status.busy": "2021-04-01T13:15:34.157546Z",
     "iopub.status.idle": "2021-04-01T13:15:36.472732Z",
     "shell.execute_reply": "2021-04-01T13:15:36.472199Z"
    },
    "papermill": {
     "duration": 2.332021,
     "end_time": "2021-04-01T13:15:36.472895",
     "exception": false,
     "start_time": "2021-04-01T13:15:34.140874",
     "status": "completed"
    },
    "tags": []
   },
   "outputs": [
    {
     "name": "stdout",
     "output_type": "stream",
     "text": [
      "Using torch 1.7.0 _CudaDeviceProperties(name='Tesla P100-PCIE-16GB', major=6, minor=0, total_memory=16280MB, multi_processor_count=56)\n"
     ]
    }
   ],
   "source": [
    "import torch\n",
    "print('Using torch %s %s' % (torch.__version__, torch.cuda.get_device_properties(0) if torch.cuda.is_available() else 'CPU'))"
   ]
  },
  {
   "cell_type": "code",
   "execution_count": 5,
   "metadata": {
    "_cell_guid": "17efef9b-6269-4510-8d3c-c24f58e4ed4e",
    "_uuid": "a81366fb-e0b3-40a1-844e-f4098f6789ac",
    "execution": {
     "iopub.execute_input": "2021-04-01T13:15:36.509175Z",
     "iopub.status.busy": "2021-04-01T13:15:36.508187Z",
     "iopub.status.idle": "2021-04-01T13:16:39.867890Z",
     "shell.execute_reply": "2021-04-01T13:16:39.868446Z"
    },
    "papermill": {
     "duration": 63.382789,
     "end_time": "2021-04-01T13:16:39.868643",
     "exception": false,
     "start_time": "2021-04-01T13:15:36.485854",
     "status": "completed"
    },
    "tags": []
   },
   "outputs": [
    {
     "name": "stdout",
     "output_type": "stream",
     "text": [
      "/kaggle/working\n",
      "Cloning into 'mish-cuda'...\r\n",
      "remote: Enumerating objects: 88, done.\u001b[K\r\n",
      "remote: Counting objects: 100% (88/88), done.\u001b[K\r\n",
      "remote: Compressing objects: 100% (75/75), done.\u001b[K\r\n",
      "remote: Total 195 (delta 7), reused 79 (delta 3), pack-reused 107\u001b[K\r\n",
      "Receiving objects: 100% (195/195), 208.77 KiB | 1.22 MiB/s, done.\r\n",
      "Resolving deltas: 100% (56/56), done.\r\n",
      "/kaggle/working/mish-cuda\n",
      "/opt/conda/lib/python3.7/distutils/extension.py:131: UserWarning: Unknown Extension options: 'headers'\r\n",
      "  warnings.warn(msg)\r\n",
      "running build\r\n",
      "running build_py\r\n",
      "creating build\r\n",
      "creating build/lib.linux-x86_64-3.7\r\n",
      "creating build/lib.linux-x86_64-3.7/mish_cuda\r\n",
      "copying src/mish_cuda/__init__.py -> build/lib.linux-x86_64-3.7/mish_cuda\r\n",
      "running egg_info\r\n",
      "creating src/mish_cuda.egg-info\r\n",
      "writing src/mish_cuda.egg-info/PKG-INFO\r\n",
      "writing dependency_links to src/mish_cuda.egg-info/dependency_links.txt\r\n",
      "writing requirements to src/mish_cuda.egg-info/requires.txt\r\n",
      "writing top-level names to src/mish_cuda.egg-info/top_level.txt\r\n",
      "writing manifest file 'src/mish_cuda.egg-info/SOURCES.txt'\r\n",
      "writing manifest file 'src/mish_cuda.egg-info/SOURCES.txt'\r\n",
      "running build_ext\r\n",
      "building 'mish_cuda._C' extension\r\n",
      "creating /kaggle/working/mish-cuda/build/temp.linux-x86_64-3.7\r\n",
      "creating /kaggle/working/mish-cuda/build/temp.linux-x86_64-3.7/csrc\r\n",
      "creating /kaggle/working/mish-cuda/build/temp.linux-x86_64-3.7/csrc/cpu\r\n",
      "creating /kaggle/working/mish-cuda/build/temp.linux-x86_64-3.7/csrc/cuda\r\n",
      "Emitting ninja build file /kaggle/working/mish-cuda/build/temp.linux-x86_64-3.7/build.ninja...\r\n",
      "Compiling objects...\r\n",
      "Allowing ninja to set a default number of workers... (overridable by setting the environment variable MAX_JOBS=N)\r\n",
      "[1/3] c++ -MMD -MF /kaggle/working/mish-cuda/build/temp.linux-x86_64-3.7/csrc/cpu/mish_cpu.o.d -pthread -B /opt/conda/compiler_compat -Wl,--sysroot=/ -Wsign-compare -DNDEBUG -g -fwrapv -O3 -Wall -Wstrict-prototypes -fPIC -I/opt/conda/lib/python3.7/site-packages/torch/include -I/opt/conda/lib/python3.7/site-packages/torch/include/torch/csrc/api/include -I/opt/conda/lib/python3.7/site-packages/torch/include/TH -I/opt/conda/lib/python3.7/site-packages/torch/include/THC -I/usr/local/cuda/include -I/opt/conda/include/python3.7m -c -c /kaggle/working/mish-cuda/csrc/cpu/mish_cpu.cpp -o /kaggle/working/mish-cuda/build/temp.linux-x86_64-3.7/csrc/cpu/mish_cpu.o -DTORCH_API_INCLUDE_EXTENSION_H -DTORCH_EXTENSION_NAME=_C -D_GLIBCXX_USE_CXX11_ABI=0 -std=c++14\r\n",
      "cc1plus: warning: command line option ‘-Wstrict-prototypes’ is valid for C/ObjC but not for C++\r\n",
      "In file included from /opt/conda/lib/python3.7/site-packages/torch/include/ATen/Parallel.h:149:0,\r\n",
      "                 from /opt/conda/lib/python3.7/site-packages/torch/include/ATen/CPUApplyUtils.h:3,\r\n",
      "                 from /kaggle/working/mish-cuda/csrc/cpu/mish_cpu.cpp:3:\r\n",
      "/opt/conda/lib/python3.7/site-packages/torch/include/ATen/ParallelOpenMP.h:84:0: warning: ignoring #pragma omp parallel [-Wunknown-pragmas]\r\n",
      " #pragma omp parallel for if ((end - begin) >= grain_size)\r\n",
      " \r\n",
      "[2/3] c++ -MMD -MF /kaggle/working/mish-cuda/build/temp.linux-x86_64-3.7/csrc/cuda/mish_cuda.o.d -pthread -B /opt/conda/compiler_compat -Wl,--sysroot=/ -Wsign-compare -DNDEBUG -g -fwrapv -O3 -Wall -Wstrict-prototypes -fPIC -I/opt/conda/lib/python3.7/site-packages/torch/include -I/opt/conda/lib/python3.7/site-packages/torch/include/torch/csrc/api/include -I/opt/conda/lib/python3.7/site-packages/torch/include/TH -I/opt/conda/lib/python3.7/site-packages/torch/include/THC -I/usr/local/cuda/include -I/opt/conda/include/python3.7m -c -c /kaggle/working/mish-cuda/csrc/cuda/mish_cuda.cpp -o /kaggle/working/mish-cuda/build/temp.linux-x86_64-3.7/csrc/cuda/mish_cuda.o -DTORCH_API_INCLUDE_EXTENSION_H -DTORCH_EXTENSION_NAME=_C -D_GLIBCXX_USE_CXX11_ABI=0 -std=c++14\r\n",
      "cc1plus: warning: command line option ‘-Wstrict-prototypes’ is valid for C/ObjC but not for C++\r\n",
      "In file included from /opt/conda/lib/python3.7/site-packages/torch/include/ATen/Parallel.h:149:0,\r\n",
      "                 from /opt/conda/lib/python3.7/site-packages/torch/include/torch/csrc/api/include/torch/utils.h:3,\r\n",
      "                 from /opt/conda/lib/python3.7/site-packages/torch/include/torch/csrc/api/include/torch/nn/cloneable.h:5,\r\n",
      "                 from /opt/conda/lib/python3.7/site-packages/torch/include/torch/csrc/api/include/torch/nn.h:3,\r\n",
      "                 from /opt/conda/lib/python3.7/site-packages/torch/include/torch/csrc/api/include/torch/all.h:12,\r\n",
      "                 from /opt/conda/lib/python3.7/site-packages/torch/include/torch/extension.h:4,\r\n",
      "                 from /kaggle/working/mish-cuda/csrc/cuda/mish_cuda.cpp:2:\r\n",
      "/opt/conda/lib/python3.7/site-packages/torch/include/ATen/ParallelOpenMP.h:84:0: warning: ignoring #pragma omp parallel [-Wunknown-pragmas]\r\n",
      " #pragma omp parallel for if ((end - begin) >= grain_size)\r\n",
      " \r\n",
      "[3/3] /usr/local/cuda/bin/nvcc -I/opt/conda/lib/python3.7/site-packages/torch/include -I/opt/conda/lib/python3.7/site-packages/torch/include/torch/csrc/api/include -I/opt/conda/lib/python3.7/site-packages/torch/include/TH -I/opt/conda/lib/python3.7/site-packages/torch/include/THC -I/usr/local/cuda/include -I/opt/conda/include/python3.7m -c -c /kaggle/working/mish-cuda/csrc/cuda/mish_kernel.cu -o /kaggle/working/mish-cuda/build/temp.linux-x86_64-3.7/csrc/cuda/mish_kernel.o -D__CUDA_NO_HALF_OPERATORS__ -D__CUDA_NO_HALF_CONVERSIONS__ -D__CUDA_NO_HALF2_OPERATORS__ --expt-relaxed-constexpr --compiler-options ''\"'\"'-fPIC'\"'\"'' --expt-extended-lambda -DTORCH_API_INCLUDE_EXTENSION_H -DTORCH_EXTENSION_NAME=_C -D_GLIBCXX_USE_CXX11_ABI=0 -gencode=arch=compute_60,code=sm_60 -std=c++14\r\n",
      "/opt/conda/lib/python3.7/site-packages/torch/include/ATen/core/boxing/impl/boxing.h(100): warning: integer conversion resulted in a change of sign\r\n",
      "\r\n",
      "/opt/conda/lib/python3.7/site-packages/torch/include/ATen/core/op_registration/op_whitelist.h(39): warning: integer conversion resulted in a change of sign\r\n",
      "\r\n",
      "/opt/conda/lib/python3.7/site-packages/torch/include/ATen/core/boxing/impl/boxing.h(100): warning: integer conversion resulted in a change of sign\r\n",
      "\r\n",
      "/opt/conda/lib/python3.7/site-packages/torch/include/ATen/core/op_registration/op_whitelist.h(39): warning: integer conversion resulted in a change of sign\r\n",
      "\r\n",
      "g++ -pthread -shared -B /opt/conda/compiler_compat -L/opt/conda/lib -Wl,-rpath=/opt/conda/lib -Wl,--no-as-needed -Wl,--sysroot=/ /kaggle/working/mish-cuda/build/temp.linux-x86_64-3.7/csrc/cpu/mish_cpu.o /kaggle/working/mish-cuda/build/temp.linux-x86_64-3.7/csrc/cuda/mish_cuda.o /kaggle/working/mish-cuda/build/temp.linux-x86_64-3.7/csrc/cuda/mish_kernel.o -L/opt/conda/lib/python3.7/site-packages/torch/lib -L/usr/local/cuda/lib64 -lc10 -ltorch -ltorch_cpu -ltorch_python -lcudart -lc10_cuda -ltorch_cuda -o build/lib.linux-x86_64-3.7/mish_cuda/_C.cpython-37m-x86_64-linux-gnu.so\r\n",
      "running install\r\n",
      "running bdist_egg\r\n",
      "installing library code to build/bdist.linux-x86_64/egg\r\n",
      "running install_lib\r\n",
      "creating build/bdist.linux-x86_64\r\n",
      "creating build/bdist.linux-x86_64/egg\r\n",
      "creating build/bdist.linux-x86_64/egg/mish_cuda\r\n",
      "copying build/lib.linux-x86_64-3.7/mish_cuda/__init__.py -> build/bdist.linux-x86_64/egg/mish_cuda\r\n",
      "copying build/lib.linux-x86_64-3.7/mish_cuda/_C.cpython-37m-x86_64-linux-gnu.so -> build/bdist.linux-x86_64/egg/mish_cuda\r\n",
      "byte-compiling build/bdist.linux-x86_64/egg/mish_cuda/__init__.py to __init__.cpython-37.pyc\r\n",
      "creating stub loader for mish_cuda/_C.cpython-37m-x86_64-linux-gnu.so\r\n",
      "byte-compiling build/bdist.linux-x86_64/egg/mish_cuda/_C.py to _C.cpython-37.pyc\r\n",
      "creating build/bdist.linux-x86_64/egg/EGG-INFO\r\n",
      "copying src/mish_cuda.egg-info/PKG-INFO -> build/bdist.linux-x86_64/egg/EGG-INFO\r\n",
      "copying src/mish_cuda.egg-info/SOURCES.txt -> build/bdist.linux-x86_64/egg/EGG-INFO\r\n",
      "copying src/mish_cuda.egg-info/dependency_links.txt -> build/bdist.linux-x86_64/egg/EGG-INFO\r\n",
      "copying src/mish_cuda.egg-info/not-zip-safe -> build/bdist.linux-x86_64/egg/EGG-INFO\r\n",
      "copying src/mish_cuda.egg-info/requires.txt -> build/bdist.linux-x86_64/egg/EGG-INFO\r\n",
      "copying src/mish_cuda.egg-info/top_level.txt -> build/bdist.linux-x86_64/egg/EGG-INFO\r\n",
      "writing build/bdist.linux-x86_64/egg/EGG-INFO/native_libs.txt\r\n",
      "creating dist\r\n",
      "creating 'dist/mish_cuda-0.0.3-py3.7-linux-x86_64.egg' and adding 'build/bdist.linux-x86_64/egg' to it\r\n",
      "removing 'build/bdist.linux-x86_64/egg' (and everything under it)\r\n",
      "Processing mish_cuda-0.0.3-py3.7-linux-x86_64.egg\r\n",
      "creating /opt/conda/lib/python3.7/site-packages/mish_cuda-0.0.3-py3.7-linux-x86_64.egg\r\n",
      "Extracting mish_cuda-0.0.3-py3.7-linux-x86_64.egg to /opt/conda/lib/python3.7/site-packages\r\n",
      "Adding mish-cuda 0.0.3 to easy-install.pth file\r\n",
      "\r\n",
      "Installed /opt/conda/lib/python3.7/site-packages/mish_cuda-0.0.3-py3.7-linux-x86_64.egg\r\n",
      "Processing dependencies for mish-cuda==0.0.3\r\n",
      "Searching for torch==1.7.0\r\n",
      "Best match: torch 1.7.0\r\n",
      "Adding torch 1.7.0 to easy-install.pth file\r\n",
      "Installing convert-caffe2-to-onnx script to /opt/conda/bin\r\n",
      "Installing convert-onnx-to-caffe2 script to /opt/conda/bin\r\n",
      "\r\n",
      "Using /opt/conda/lib/python3.7/site-packages\r\n",
      "Searching for numpy==1.19.5\r\n",
      "Best match: numpy 1.19.5\r\n",
      "Adding numpy 1.19.5 to easy-install.pth file\r\n",
      "Installing f2py script to /opt/conda/bin\r\n",
      "Installing f2py3 script to /opt/conda/bin\r\n",
      "Installing f2py3.7 script to /opt/conda/bin\r\n",
      "\r\n",
      "Using /opt/conda/lib/python3.7/site-packages\r\n",
      "Searching for dataclasses==0.6\r\n",
      "Best match: dataclasses 0.6\r\n",
      "Adding dataclasses 0.6 to easy-install.pth file\r\n",
      "\r\n",
      "Using /opt/conda/lib/python3.7/site-packages\r\n",
      "Searching for typing-extensions==3.7.4.3\r\n",
      "Best match: typing-extensions 3.7.4.3\r\n",
      "Adding typing-extensions 3.7.4.3 to easy-install.pth file\r\n",
      "\r\n",
      "Using /opt/conda/lib/python3.7/site-packages\r\n",
      "Searching for future==0.18.2\r\n",
      "Best match: future 0.18.2\r\n",
      "Adding future 0.18.2 to easy-install.pth file\r\n",
      "Installing futurize script to /opt/conda/bin\r\n",
      "Installing pasteurize script to /opt/conda/bin\r\n",
      "\r\n",
      "Using /opt/conda/lib/python3.7/site-packages\r\n",
      "Finished processing dependencies for mish-cuda==0.0.3\r\n",
      "/kaggle/working\n"
     ]
    }
   ],
   "source": [
    "#install mish activation funciton for cuda\n",
    "%cd ..\n",
    "!git clone https://github.com/JunnYu/mish-cuda\n",
    "%cd mish-cuda\n",
    "!python setup.py build install\n",
    "%cd .."
   ]
  },
  {
   "cell_type": "code",
   "execution_count": 6,
   "metadata": {
    "execution": {
     "iopub.execute_input": "2021-04-01T13:16:39.924401Z",
     "iopub.status.busy": "2021-04-01T13:16:39.919238Z",
     "iopub.status.idle": "2021-04-01T13:16:40.737116Z",
     "shell.execute_reply": "2021-04-01T13:16:40.736481Z"
    },
    "papermill": {
     "duration": 0.847065,
     "end_time": "2021-04-01T13:16:40.737273",
     "exception": false,
     "start_time": "2021-04-01T13:16:39.890208",
     "status": "completed"
    },
    "tags": []
   },
   "outputs": [],
   "source": [
    "%mkdir data\n",
    "def write_to_file(imgs, dataset_name):\n",
    "    with open(f\"data/{dataset_name}_abnormsonly.txt\", 'wt') as f:\n",
    "        for img in imgs:\n",
    "            f.write(f\"/kaggle/input/vinbigstratifiedyolo/vinbigstratified/{dataset_name}/{img}.png\\n\")\n",
    "\n",
    "train_imgs = df_train[df_train['class_id'] != 14]['image_id'].unique()\n",
    "val_imgs = df_val[df_val['class_id'] != 14]['image_id'].unique()\n",
    "test_imgs = df_test[df_test['class_id'] != 14]['image_id'].unique()\n",
    "\n",
    "write_to_file(train_imgs, 'train')\n",
    "write_to_file(val_imgs, 'validation')\n",
    "write_to_file(test_imgs, 'test')"
   ]
  },
  {
   "cell_type": "code",
   "execution_count": 7,
   "metadata": {
    "_cell_guid": "ca6e2aef-53eb-42cc-a244-82248f099f12",
    "_uuid": "cd130663-0192-43be-8e64-38d689b721e3",
    "execution": {
     "iopub.execute_input": "2021-04-01T13:16:40.801553Z",
     "iopub.status.busy": "2021-04-01T13:16:40.800413Z",
     "iopub.status.idle": "2021-04-01T13:16:40.803843Z",
     "shell.execute_reply": "2021-04-01T13:16:40.804887Z"
    },
    "papermill": {
     "duration": 0.047043,
     "end_time": "2021-04-01T13:16:40.805172",
     "exception": false,
     "start_time": "2021-04-01T13:16:40.758129",
     "status": "completed"
    },
    "tags": []
   },
   "outputs": [],
   "source": [
    "with open(f\"data.yaml\", 'wt') as f:\n",
    "        f.write(f\"\"\"train: ../data/train_abnormsonly.txt\n",
    "val: ../data/validation_abnormsonly.txt\n",
    "\n",
    "nc: 14\n",
    "names: ['Aortic enlargement', 'Atelectasis', 'Calcification', 'Cardiomegaly', 'Consolidation', 'ILD', 'Infiltration', 'Lung Opacity', 'Nodule/Mass', 'Other lesion', 'Pleural effusion', 'Pleural thickening', 'Pneumothorax', 'Pulmonary fibrosis']\n",
    "\"\"\")"
   ]
  },
  {
   "cell_type": "code",
   "execution_count": 8,
   "metadata": {
    "execution": {
     "iopub.execute_input": "2021-04-01T13:16:40.903230Z",
     "iopub.status.busy": "2021-04-01T13:16:40.902124Z",
     "iopub.status.idle": "2021-04-01T13:16:40.910235Z",
     "shell.execute_reply": "2021-04-01T13:16:40.912506Z"
    },
    "papermill": {
     "duration": 0.062371,
     "end_time": "2021-04-01T13:16:40.912803",
     "exception": false,
     "start_time": "2021-04-01T13:16:40.850432",
     "status": "completed"
    },
    "tags": []
   },
   "outputs": [],
   "source": [
    "with open(f\"data_all.yaml\", 'wt') as f:\n",
    "        f.write(f\"\"\"train: /kaggle/input/vinbigstratifiedyolo/vinbigstratified/train\n",
    "val: /kaggle/input/vinbigstratifiedyolo/vinbigstratified/validation\n",
    "\n",
    "nc: 14\n",
    "names: ['Aortic enlargement', 'Atelectasis', 'Calcification', 'Cardiomegaly', 'Consolidation', 'ILD', 'Infiltration', 'Lung Opacity', 'Nodule/Mass', 'Other lesion', 'Pleural effusion', 'Pleural thickening', 'Pneumothorax', 'Pulmonary fibrosis']\n",
    "\"\"\")"
   ]
  },
  {
   "cell_type": "code",
   "execution_count": 9,
   "metadata": {
    "_cell_guid": "df4e76da-fc84-4f7b-acc8-3473273e45ab",
    "_uuid": "e5d9a48f-292d-44c1-8aa6-6451375155be",
    "execution": {
     "iopub.execute_input": "2021-04-01T13:16:40.998887Z",
     "iopub.status.busy": "2021-04-01T13:16:40.997702Z",
     "iopub.status.idle": "2021-04-01T13:16:41.012559Z",
     "shell.execute_reply": "2021-04-01T13:16:41.014173Z"
    },
    "papermill": {
     "duration": 0.058007,
     "end_time": "2021-04-01T13:16:41.014390",
     "exception": false,
     "start_time": "2021-04-01T13:16:40.956383",
     "status": "completed"
    },
    "tags": []
   },
   "outputs": [
    {
     "name": "stdout",
     "output_type": "stream",
     "text": [
      "/kaggle/working/ScaledYOLOv4\n"
     ]
    }
   ],
   "source": [
    "%cd ScaledYOLOv4/"
   ]
  },
  {
   "cell_type": "code",
   "execution_count": 10,
   "metadata": {
    "execution": {
     "iopub.execute_input": "2021-04-01T13:16:41.132319Z",
     "iopub.status.busy": "2021-04-01T13:16:41.131275Z",
     "iopub.status.idle": "2021-04-01T13:17:24.156889Z",
     "shell.execute_reply": "2021-04-01T13:17:24.156171Z"
    },
    "papermill": {
     "duration": 43.085772,
     "end_time": "2021-04-01T13:17:24.157048",
     "exception": false,
     "start_time": "2021-04-01T13:16:41.071276",
     "status": "completed"
    },
    "tags": []
   },
   "outputs": [
    {
     "name": "stdout",
     "output_type": "stream",
     "text": [
      "Namespace(augment=False, batch_size=16, conf_thres=0.001, data='../data.yaml', device='', filterclass=-1, img_size=640, iou_thres=0.65, labels='labels_all', merge=False, onlyclass=-1, save_json=False, save_txt=False, single_cls=False, task='val', verbose=True, weights=['/kaggle/input/mlpyoloweighted-labels-all-20-40/ScaledYOLOv4/runs/exp0_yolov4-csp-results/weights/best_yolov4-csp-results.pt'])\r\n",
      "Using CUDA device0 _CudaDeviceProperties(name='Tesla P100-PCIE-16GB', total_memory=16280MB)\r\n",
      "\r\n",
      "Fusing layers... Model Summary: 235 layers, 5.25406e+07 parameters, 5.04494e+07 gradients\r\n",
      "Scanning images: 100%|████████████████████████| 460/460 [00:09<00:00, 48.41it/s]\r\n",
      "Scanning labels /kaggle/working/cache/labels_all (460 found, 0 missing, 0 empty,\r\n",
      "               Class      Images     Targets           P           R      mAP@.5\r\n",
      "                 all         460     3.7e+03       0.358       0.358        0.32       0.134\r\n",
      "  Aortic enlargement         460         737       0.685       0.533       0.669       0.372\r\n",
      "         Atelectasis         460          29       0.325        0.31       0.273      0.0974\r\n",
      "       Calcification         460          82        0.17       0.183       0.117       0.037\r\n",
      "        Cardiomegaly         460         547       0.705        0.45       0.581       0.366\r\n",
      "       Consolidation         460          50       0.532        0.28       0.329       0.108\r\n",
      "                 ILD         460          93       0.337       0.409       0.356       0.164\r\n",
      "        Infiltration         460         129       0.434       0.302       0.299       0.117\r\n",
      "        Lung Opacity         460         265        0.37       0.302       0.267       0.078\r\n",
      "         Nodule/Mass         460         296       0.389       0.216       0.219      0.0882\r\n",
      "        Other lesion         460         228       0.206       0.124       0.108      0.0339\r\n",
      "    Pleural effusion         460         275       0.257       0.524       0.362       0.121\r\n",
      "  Pleural thickening         460         504       0.219       0.425        0.25      0.0681\r\n",
      "        Pneumothorax         460          28        0.13       0.607       0.408       0.144\r\n",
      "  Pulmonary fibrosis         460         439       0.259       0.353       0.246       0.078\r\n",
      "Speed: 18.9/3.1/22.0 ms inference/NMS/total per 640x640 image at batch-size 16\r\n"
     ]
    }
   ],
   "source": [
    "!python test.py --iou-thres 0.65 --conf 0.001 --verbose --labels 'labels_all' --img 640 --batch 16 --data '../data.yaml' --weights '/kaggle/input/mlpyoloweighted-labels-all-20-40/ScaledYOLOv4/runs/exp0_yolov4-csp-results/weights/best_yolov4-csp-results.pt'"
   ]
  },
  {
   "cell_type": "code",
   "execution_count": 11,
   "metadata": {
    "execution": {
     "iopub.execute_input": "2021-04-01T13:17:24.293256Z",
     "iopub.status.busy": "2021-04-01T13:17:24.288745Z",
     "iopub.status.idle": "2021-04-01T13:17:51.346618Z",
     "shell.execute_reply": "2021-04-01T13:17:51.345505Z"
    },
    "papermill": {
     "duration": 27.127731,
     "end_time": "2021-04-01T13:17:51.346814",
     "exception": false,
     "start_time": "2021-04-01T13:17:24.219083",
     "status": "completed"
    },
    "tags": []
   },
   "outputs": [
    {
     "name": "stdout",
     "output_type": "stream",
     "text": [
      "Namespace(augment=False, batch_size=16, conf_thres=0.001, data='../data.yaml', device='', filterclass=-1, img_size=640, iou_thres=0.65, labels='labels_all', merge=False, onlyclass=-1, save_json=False, save_txt=False, single_cls=False, task='val', verbose=True, weights=['/kaggle/input/mlpyoloabnormsonly-labels-all/ScaledYOLOv4/runs/exp0_yolov4-csp-results/weights/best_yolov4-csp-results.pt'])\r\n",
      "Using CUDA device0 _CudaDeviceProperties(name='Tesla P100-PCIE-16GB', total_memory=16280MB)\r\n",
      "\r\n",
      "Fusing layers... Model Summary: 235 layers, 5.25406e+07 parameters, 5.04494e+07 gradients\r\n",
      "Scanning labels /kaggle/working/cache/labels_all (460 found, 0 missing, 0 empty,\r\n",
      "               Class      Images     Targets           P           R      mAP@.5\r\n",
      "                 all         460     3.7e+03       0.361       0.364        0.33       0.139\r\n",
      "  Aortic enlargement         460         737       0.629       0.552       0.677       0.376\r\n",
      "         Atelectasis         460          29       0.492        0.31       0.335       0.133\r\n",
      "       Calcification         460          82        0.14       0.207       0.158      0.0593\r\n",
      "        Cardiomegaly         460         547       0.697       0.424       0.615       0.375\r\n",
      "       Consolidation         460          50       0.479        0.32       0.311       0.131\r\n",
      "                 ILD         460          93        0.35       0.376       0.379        0.15\r\n",
      "        Infiltration         460         129       0.358       0.272        0.27       0.101\r\n",
      "        Lung Opacity         460         265       0.331       0.339       0.256      0.0819\r\n",
      "         Nodule/Mass         460         296       0.431       0.269       0.261       0.112\r\n",
      "        Other lesion         460         228       0.195       0.211       0.136      0.0445\r\n",
      "    Pleural effusion         460         275       0.336       0.549       0.418        0.15\r\n",
      "  Pleural thickening         460         504       0.243       0.405       0.263      0.0752\r\n",
      "        Pneumothorax         460          28       0.153       0.464       0.296      0.0867\r\n",
      "  Pulmonary fibrosis         460         439       0.222       0.396       0.244      0.0752\r\n",
      "Speed: 18.8/2.8/21.6 ms inference/NMS/total per 640x640 image at batch-size 16\r\n"
     ]
    }
   ],
   "source": [
    "!python test.py --iou-thres 0.65 --conf 0.001 --verbose --labels 'labels_all' --img 640 --batch 16 --data '../data.yaml' --weights '/kaggle/input/mlpyoloabnormsonly-labels-all/ScaledYOLOv4/runs/exp0_yolov4-csp-results/weights/best_yolov4-csp-results.pt'"
   ]
  }
 ],
 "metadata": {
  "kernelspec": {
   "display_name": "Python 3",
   "language": "python",
   "name": "python3"
  },
  "language_info": {
   "codemirror_mode": {
    "name": "ipython",
    "version": 3
   },
   "file_extension": ".py",
   "mimetype": "text/x-python",
   "name": "python",
   "nbconvert_exporter": "python",
   "pygments_lexer": "ipython3",
   "version": "3.7.9"
  },
  "papermill": {
   "default_parameters": {},
   "duration": 147.911371,
   "end_time": "2021-04-01T13:17:52.957583",
   "environment_variables": {},
   "exception": null,
   "input_path": "__notebook__.ipynb",
   "output_path": "__notebook__.ipynb",
   "parameters": {},
   "start_time": "2021-04-01T13:15:25.046212",
   "version": "2.2.2"
  }
 },
 "nbformat": 4,
 "nbformat_minor": 4
}
