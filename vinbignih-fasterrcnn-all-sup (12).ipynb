{
 "cells": [
  {
   "cell_type": "code",
   "execution_count": null,
   "metadata": {
    "_cell_guid": "b1076dfc-b9ad-4769-8c92-a6c4dae69d19",
    "_uuid": "8f2839f25d086af736a60e9eeb907d3b93b6e0e5",
    "execution": {
     "iopub.execute_input": "2021-03-27T16:14:51.359538Z",
     "iopub.status.busy": "2021-03-27T16:14:51.347453Z",
     "iopub.status.idle": "2021-03-27T16:15:08.277008Z",
     "shell.execute_reply": "2021-03-27T16:15:08.277857Z"
    },
    "papermill": {
     "duration": 16.95493,
     "end_time": "2021-03-27T16:15:08.278180",
     "exception": false,
     "start_time": "2021-03-27T16:14:51.323250",
     "status": "completed"
    },
    "tags": []
   },
   "outputs": [],
   "source": [
    "# Install prerequisites\n",
    "\n",
    "# Install PyCocoTools needed for FasterRCNN\n",
    "!pip install git+https://github.com/gautamchitnis/cocoapi.git@cocodataset-master#subdirectory=PythonAPI\n",
    "\n",
    "# Copy useful functions from pytorch vision tools\n",
    "%cp ../input/pytorch-vision-tools/references/detection/*.* ."
   ]
  },
  {
   "cell_type": "code",
   "execution_count": null,
   "metadata": {
    "execution": {
     "iopub.execute_input": "2021-03-27T16:15:08.330070Z",
     "iopub.status.busy": "2021-03-27T16:15:08.329401Z",
     "iopub.status.idle": "2021-03-27T16:15:12.504677Z",
     "shell.execute_reply": "2021-03-27T16:15:12.504108Z"
    },
    "papermill": {
     "duration": 4.204553,
     "end_time": "2021-03-27T16:15:12.504829",
     "exception": false,
     "start_time": "2021-03-27T16:15:08.300276",
     "status": "completed"
    },
    "tags": []
   },
   "outputs": [],
   "source": [
    "# Import required libraries\n",
    "import numpy as np\n",
    "import pandas as pd\n",
    "from torch.utils.data import Dataset, DataLoader, Subset\n",
    "from PIL import Image\n",
    "from PIL import ImageDraw\n",
    "import torchvision\n",
    "from torchvision import transforms\n",
    "from torchvision.models.detection.faster_rcnn import FastRCNNPredictor\n",
    "from os import path\n",
    "import torch\n",
    "import torchvision.utils\n",
    "import utils\n",
    "from engine import train_one_epoch, evaluate\n",
    "from torch.optim.lr_scheduler import CosineAnnealingLR\n",
    "from torch.optim import Adam\n",
    "import albumentations as A\n",
    "from albumentations.pytorch.transforms import ToTensorV2\n",
    "import pickle\n",
    "import time\n",
    "import matplotlib.pyplot as plt\n",
    "%matplotlib inline"
   ]
  },
  {
   "cell_type": "code",
   "execution_count": null,
   "metadata": {
    "execution": {
     "iopub.execute_input": "2021-03-27T16:15:12.558929Z",
     "iopub.status.busy": "2021-03-27T16:15:12.558330Z",
     "iopub.status.idle": "2021-03-27T16:15:12.562585Z",
     "shell.execute_reply": "2021-03-27T16:15:12.562189Z"
    },
    "papermill": {
     "duration": 0.036553,
     "end_time": "2021-03-27T16:15:12.562711",
     "exception": false,
     "start_time": "2021-03-27T16:15:12.526158",
     "status": "completed"
    },
    "tags": []
   },
   "outputs": [],
   "source": [
    "# Define a dataset class which defines how to load images,targets for training and validation\n",
    "class VinBigDataset(Dataset):\n",
    "    def __init__(self, img_dir, df, transforms, class_id=None):\n",
    "        self.img_dir = img_dir\n",
    "        if class_id:\n",
    "            df = df[df[\"class_id\"] == class_id]\n",
    "        self.df = df\n",
    "        self.imgs = df[\"image_id\"].unique()\n",
    "        self.transforms = transforms\n",
    "        \n",
    "    def __len__(self):\n",
    "        # Return the number of elements in the dataset\n",
    "        return len(self.imgs)\n",
    "    \n",
    "    def __getitem__(self, idx):\n",
    "        # The dataset iterates over each image id\n",
    "        # Return the requested image,target from the dataset\n",
    "        \n",
    "        # Get the id of the current image\n",
    "        img_id = self.imgs[idx]\n",
    "        \n",
    "        # Get the rows containing annotations for this image\n",
    "        data_rows = self.df[self.df[\"image_id\"] == img_id]\n",
    "        boxes = data_rows[[\"x_min\", \"y_min\", \"x_max\", \"y_max\"]].values\n",
    "        \n",
    "        # Convert into a torch.Tensor\n",
    "        boxes = torch.as_tensor(boxes, dtype=torch.float32)\n",
    "        \n",
    "        # Load the image\n",
    "        img_path = path.join(self.img_dir, f\"{img_id}.png\")\n",
    "        img = Image.open(img_path).convert(\"RGB\")\n",
    "        \n",
    "        # Compute the area of the annotated box\n",
    "        area = (boxes[:, 3] - boxes[:, 1]) * (boxes[:, 2] - boxes[:,0])\n",
    "        \n",
    "        # Suppose all instances are not crowd (?)\n",
    "        num_objs = len(boxes)\n",
    "        iscrowd = torch.zeros((num_objs,), dtype=torch.int64)\n",
    "        \n",
    "        labels = torch.tensor(data_rows[\"class_id\"].values, dtype=torch.int64)\n",
    "        \n",
    "        # Define the target for this training data point\n",
    "        target = {}\n",
    "        target[\"boxes\"] = boxes\n",
    "        target[\"labels\"] = labels\n",
    "        target[\"image_id\"] = torch.tensor([idx])\n",
    "        target[\"area\"] = area\n",
    "        target[\"iscrowd\"] = iscrowd\n",
    "        \n",
    "        if self.transforms is not None:\n",
    "            to_transform = {\n",
    "                'image': np.array(img),\n",
    "                'bboxes': target['boxes'],\n",
    "                'labels': labels\n",
    "            }\n",
    "            transformed = self.transforms(**to_transform)\n",
    "            img = transformed['image']    \n",
    "            target['boxes'] = torch.tensor(transformed['bboxes'])\n",
    "        \n",
    "#         if self.transforms is not None:\n",
    "#             img = self.transforms(img)\n",
    "        \n",
    "        return img, target"
   ]
  },
  {
   "cell_type": "code",
   "execution_count": null,
   "metadata": {
    "execution": {
     "iopub.execute_input": "2021-03-27T16:15:12.611364Z",
     "iopub.status.busy": "2021-03-27T16:15:12.610493Z",
     "iopub.status.idle": "2021-03-27T16:15:12.612573Z",
     "shell.execute_reply": "2021-03-27T16:15:12.612973Z"
    },
    "papermill": {
     "duration": 0.028795,
     "end_time": "2021-03-27T16:15:12.613095",
     "exception": false,
     "start_time": "2021-03-27T16:15:12.584300",
     "status": "completed"
    },
    "tags": []
   },
   "outputs": [],
   "source": [
    "# Function to create transforms for preprocessing\n",
    "def create_transforms(train):\n",
    "    if train:\n",
    "        return A.Compose([\n",
    "            A.Normalize(mean=(0, 0, 0), std=(1, 1, 1), max_pixel_value=255.0, p=1.0),\n",
    "            ToTensorV2(p=1.0)\n",
    "        ])\n",
    "    else:\n",
    "        return A.Compose([\n",
    "            A.Normalize(mean=(0, 0, 0), std=(1, 1, 1), max_pixel_value=255.0, p=1.0),\n",
    "            ToTensorV2(p=1.0)\n",
    "        ])\n",
    "#     transforms.Compose([\n",
    "#             transforms.ToTensor(),\n",
    "#        #     transforms.Normalize((0.485, 0.456, 0.406), (0.229, 0.224, 0.225))\n",
    "#         ])"
   ]
  },
  {
   "cell_type": "code",
   "execution_count": null,
   "metadata": {
    "execution": {
     "iopub.execute_input": "2021-03-27T16:15:12.661007Z",
     "iopub.status.busy": "2021-03-27T16:15:12.660280Z",
     "iopub.status.idle": "2021-03-27T16:15:12.663215Z",
     "shell.execute_reply": "2021-03-27T16:15:12.662826Z"
    },
    "papermill": {
     "duration": 0.028144,
     "end_time": "2021-03-27T16:15:12.663316",
     "exception": false,
     "start_time": "2021-03-27T16:15:12.635172",
     "status": "completed"
    },
    "tags": []
   },
   "outputs": [],
   "source": [
    "# Function to create an instance of the model\n",
    "def create_model():\n",
    "    # The model has 15 classes (14 abnormalities and no abnormalities)\n",
    "    num_classes = 15\n",
    "    \n",
    "    # Use resnet50 pre-trained on COCO\n",
    "    model = torchvision.models.detection.fasterrcnn_resnet50_fpn(pretrained=True)\n",
    "        \n",
    "    # Fetch the number of input features for the classifier\n",
    "    in_features = model.roi_heads.box_predictor.cls_score.in_features\n",
    "    \n",
    "    # Replace the pre-trained head with a new one\n",
    "    model.roi_heads.box_predictor = FastRCNNPredictor(in_features, num_classes)\n",
    "   \n",
    "    return model"
   ]
  },
  {
   "cell_type": "markdown",
   "metadata": {
    "papermill": {
     "duration": 0.020778,
     "end_time": "2021-03-27T16:15:12.705067",
     "exception": false,
     "start_time": "2021-03-27T16:15:12.684289",
     "status": "completed"
    },
    "tags": []
   },
   "source": [
    "# Load training data"
   ]
  },
  {
   "cell_type": "code",
   "execution_count": null,
   "metadata": {
    "execution": {
     "iopub.execute_input": "2021-03-27T16:15:12.755628Z",
     "iopub.status.busy": "2021-03-27T16:15:12.755110Z",
     "iopub.status.idle": "2021-03-27T16:15:12.942835Z",
     "shell.execute_reply": "2021-03-27T16:15:12.943450Z"
    },
    "papermill": {
     "duration": 0.217605,
     "end_time": "2021-03-27T16:15:12.943666",
     "exception": false,
     "start_time": "2021-03-27T16:15:12.726061",
     "status": "completed"
    },
    "tags": []
   },
   "outputs": [],
   "source": [
    "# Load the training data csv file\n",
    "data_dir = \"../input/vinbig1024stratified/\"\n",
    "\n",
    "df_train = pd.read_csv(f\"{data_dir}/train.csv\")\n",
    "df_train.fillna(0, inplace=True)\n",
    "df_train.loc[df_train[\"class_id\"] == 14, ['x_max', 'y_max']] = 1.0\n",
    "\n",
    "# FasterRCNN handles class_id==0 as the background.\n",
    "df_train[\"class_id\"] = df_train[\"class_id\"] + 1\n",
    "df_train.loc[df_train[\"class_id\"] == 15, [\"class_id\"]] = 0\n",
    "\n",
    "# Print out the total number of images and the total number of annotations \n",
    "print(f\"{df_train['image_id'].nunique()} images\")\n",
    "print(f\"{len(df_train.index)} annotations\")"
   ]
  },
  {
   "cell_type": "code",
   "execution_count": null,
   "metadata": {
    "execution": {
     "iopub.execute_input": "2021-03-27T16:15:12.993640Z",
     "iopub.status.busy": "2021-03-27T16:15:12.993109Z",
     "iopub.status.idle": "2021-03-27T16:15:13.015091Z",
     "shell.execute_reply": "2021-03-27T16:15:13.015481Z"
    },
    "papermill": {
     "duration": 0.048765,
     "end_time": "2021-03-27T16:15:13.015612",
     "exception": false,
     "start_time": "2021-03-27T16:15:12.966847",
     "status": "completed"
    },
    "tags": []
   },
   "outputs": [],
   "source": [
    "# Remove no abnormality\n",
    "df_train = df_train[df_train['class_id'] != 0]\n",
    "df_train.reset_index(drop=True, inplace=True)\n",
    "df_train.head()"
   ]
  },
  {
   "cell_type": "code",
   "execution_count": null,
   "metadata": {
    "execution": {
     "iopub.execute_input": "2021-03-27T16:15:13.063873Z",
     "iopub.status.busy": "2021-03-27T16:15:13.063352Z",
     "iopub.status.idle": "2021-03-27T16:15:13.067153Z",
     "shell.execute_reply": "2021-03-27T16:15:13.066585Z"
    },
    "papermill": {
     "duration": 0.028674,
     "end_time": "2021-03-27T16:15:13.067265",
     "exception": false,
     "start_time": "2021-03-27T16:15:13.038591",
     "status": "completed"
    },
    "tags": []
   },
   "outputs": [],
   "source": [
    "# df_train_14_no_duplicates = df_train_14.drop_duplicates(subset=['image_id', 'class_id'], keep='first')\n",
    "# df_train = df_train_no14.append(df_train_14_no_duplicates, ignore_index=True)"
   ]
  },
  {
   "cell_type": "code",
   "execution_count": null,
   "metadata": {
    "execution": {
     "iopub.execute_input": "2021-03-27T16:15:13.118837Z",
     "iopub.status.busy": "2021-03-27T16:15:13.118097Z",
     "iopub.status.idle": "2021-03-27T16:15:13.123964Z",
     "shell.execute_reply": "2021-03-27T16:15:13.124638Z"
    },
    "papermill": {
     "duration": 0.035336,
     "end_time": "2021-03-27T16:15:13.124804",
     "exception": false,
     "start_time": "2021-03-27T16:15:13.089468",
     "status": "completed"
    },
    "tags": []
   },
   "outputs": [],
   "source": [
    "# Create an instance of the dataset and transformations for training and validation\n",
    "\n",
    "train_img_dir = '../input/vinbig1024stratified/output/dataset/train'\n",
    "# train_img_dir = path.join(data_dir, 'train/train')\n",
    "train_dataset = VinBigDataset(train_img_dir, df_train, create_transforms(train=True))\n",
    "\n",
    "# Create data loaders for the training set. The collate function\n",
    "# defines how to form a minibatch from the indiviaual data items. In our case we\n",
    "# just want to collate them into a single list.\n",
    "\n",
    "data_loader_train = DataLoader(\\\n",
    "    train_dataset, batch_size=5, shuffle=True, num_workers=4, collate_fn=utils.collate_fn)\n",
    "\n",
    "# Print the number of elements in the test and training set\n",
    "print(f\"{len(train_dataset)} items in the training set\")"
   ]
  },
  {
   "cell_type": "markdown",
   "metadata": {
    "papermill": {
     "duration": 0.022302,
     "end_time": "2021-03-27T16:15:13.170103",
     "exception": false,
     "start_time": "2021-03-27T16:15:13.147801",
     "status": "completed"
    },
    "tags": []
   },
   "source": [
    "# Load validation data"
   ]
  },
  {
   "cell_type": "code",
   "execution_count": null,
   "metadata": {
    "execution": {
     "iopub.execute_input": "2021-03-27T16:15:13.224381Z",
     "iopub.status.busy": "2021-03-27T16:15:13.223880Z",
     "iopub.status.idle": "2021-03-27T16:15:13.256371Z",
     "shell.execute_reply": "2021-03-27T16:15:13.256919Z"
    },
    "papermill": {
     "duration": 0.064121,
     "end_time": "2021-03-27T16:15:13.257086",
     "exception": false,
     "start_time": "2021-03-27T16:15:13.192965",
     "status": "completed"
    },
    "tags": []
   },
   "outputs": [],
   "source": [
    "# Load the VALIDATION data csv file\n",
    "data_dir = \"../input/vinbig1024stratified/\"\n",
    "\n",
    "df_val = pd.read_csv(f\"{data_dir}/validation.csv\")\n",
    "df_val.fillna(0, inplace=True)\n",
    "df_val.loc[df_val[\"class_id\"] == 14, ['x_max', 'y_max']] = 1.0\n",
    "\n",
    "# FasterRCNN handles class_id==0 as the background.\n",
    "df_val[\"class_id\"] = df_val[\"class_id\"] + 1\n",
    "df_val.loc[df_val[\"class_id\"] == 15, [\"class_id\"]] = 0\n",
    "\n",
    "# Print out the total number of images and the total number of annotations \n",
    "print(f\"{df_val['image_id'].nunique()} images\")\n",
    "print(f\"{len(df_val.index)} annotations\")"
   ]
  },
  {
   "cell_type": "code",
   "execution_count": null,
   "metadata": {
    "execution": {
     "iopub.execute_input": "2021-03-27T16:15:13.308746Z",
     "iopub.status.busy": "2021-03-27T16:15:13.307944Z",
     "iopub.status.idle": "2021-03-27T16:15:13.327130Z",
     "shell.execute_reply": "2021-03-27T16:15:13.327751Z"
    },
    "papermill": {
     "duration": 0.047215,
     "end_time": "2021-03-27T16:15:13.327901",
     "exception": false,
     "start_time": "2021-03-27T16:15:13.280686",
     "status": "completed"
    },
    "tags": []
   },
   "outputs": [],
   "source": [
    "# Remove no abnormality\n",
    "df_val = df_val[df_val['class_id'] != 0]\n",
    "df_val.reset_index(drop=True, inplace=True)\n",
    "# Print out the total number of images and the total number of annotations \n",
    "print(f\"{df_val['image_id'].nunique()} images\")\n",
    "print(f\"{len(df_val.index)} annotations\")\n",
    "df_val.head(10)"
   ]
  },
  {
   "cell_type": "code",
   "execution_count": null,
   "metadata": {
    "execution": {
     "iopub.execute_input": "2021-03-27T16:15:13.381572Z",
     "iopub.status.busy": "2021-03-27T16:15:13.380713Z",
     "iopub.status.idle": "2021-03-27T16:15:13.385232Z",
     "shell.execute_reply": "2021-03-27T16:15:13.385919Z"
    },
    "papermill": {
     "duration": 0.03372,
     "end_time": "2021-03-27T16:15:13.386081",
     "exception": false,
     "start_time": "2021-03-27T16:15:13.352361",
     "status": "completed"
    },
    "tags": []
   },
   "outputs": [],
   "source": [
    "# Create an instance of the dataset and transformations for training and validation\n",
    "\n",
    "val_img_dir = '../input/vinbig1024stratified/output/dataset/validation/'\n",
    "# train_img_dir = path.join(data_dir, 'train/train')\n",
    "val_dataset = VinBigDataset(val_img_dir, df_val, create_transforms(train=False))\n",
    "\n",
    "# Create data loaders for the training set. The collate function\n",
    "# defines how to form a minibatch from the indiviaual data items. In our case we\n",
    "# just want to collate them into a single list.\n",
    "\n",
    "data_loader_val = DataLoader(val_dataset, batch_size=5, shuffle=False, num_workers=4, collate_fn=utils.collate_fn)\n",
    "\n",
    "# Print the number of elements in the test and training set\n",
    "print(f\"{len(val_dataset)} items in the validation set\")"
   ]
  },
  {
   "cell_type": "markdown",
   "metadata": {
    "papermill": {
     "duration": 0.023999,
     "end_time": "2021-03-27T16:15:13.435391",
     "exception": false,
     "start_time": "2021-03-27T16:15:13.411392",
     "status": "completed"
    },
    "tags": []
   },
   "source": [
    "# Run the notebook"
   ]
  },
  {
   "cell_type": "code",
   "execution_count": null,
   "metadata": {
    "execution": {
     "iopub.execute_input": "2021-03-27T16:15:13.488379Z",
     "iopub.status.busy": "2021-03-27T16:15:13.487901Z",
     "iopub.status.idle": "2021-03-27T16:15:16.890542Z",
     "shell.execute_reply": "2021-03-27T16:15:16.890968Z"
    },
    "papermill": {
     "duration": 3.431422,
     "end_time": "2021-03-27T16:15:16.891135",
     "exception": false,
     "start_time": "2021-03-27T16:15:13.459713",
     "status": "completed"
    },
    "tags": []
   },
   "outputs": [],
   "source": [
    "model = create_model()\n",
    "use_pre_trained = True"
   ]
  },
  {
   "cell_type": "code",
   "execution_count": null,
   "metadata": {
    "execution": {
     "iopub.execute_input": "2021-03-27T16:15:16.996021Z",
     "iopub.status.busy": "2021-03-27T16:15:16.995094Z",
     "iopub.status.idle": "2021-03-27T16:15:17.145017Z",
     "shell.execute_reply": "2021-03-27T16:15:17.145637Z"
    },
    "papermill": {
     "duration": 0.211395,
     "end_time": "2021-03-27T16:15:17.145852",
     "exception": false,
     "start_time": "2021-03-27T16:15:16.934457",
     "status": "completed"
    },
    "tags": []
   },
   "outputs": [],
   "source": [
    "train_dataset[3]"
   ]
  },
  {
   "cell_type": "code",
   "execution_count": null,
   "metadata": {
    "execution": {
     "iopub.execute_input": "2021-03-27T16:15:17.234138Z",
     "iopub.status.busy": "2021-03-27T16:15:17.233462Z",
     "iopub.status.idle": "2021-03-27T16:15:17.236505Z",
     "shell.execute_reply": "2021-03-27T16:15:17.237099Z"
    },
    "papermill": {
     "duration": 0.048811,
     "end_time": "2021-03-27T16:15:17.237275",
     "exception": false,
     "start_time": "2021-03-27T16:15:17.188464",
     "status": "completed"
    },
    "tags": []
   },
   "outputs": [],
   "source": [
    "# image = Image.open(\"../input/vinbig1024stratified/output/dataset/train/0007d316f756b3fa0baea2ff514ce945.png\")\n",
    "# image"
   ]
  },
  {
   "cell_type": "code",
   "execution_count": null,
   "metadata": {
    "execution": {
     "iopub.execute_input": "2021-03-27T16:15:17.326735Z",
     "iopub.status.busy": "2021-03-27T16:15:17.325933Z",
     "iopub.status.idle": "2021-03-27T16:15:17.328077Z",
     "shell.execute_reply": "2021-03-27T16:15:17.327438Z"
    },
    "papermill": {
     "duration": 0.049317,
     "end_time": "2021-03-27T16:15:17.328226",
     "exception": false,
     "start_time": "2021-03-27T16:15:17.278909",
     "status": "completed"
    },
    "tags": []
   },
   "outputs": [],
   "source": [
    "# details = df_train[df_train['image_id'] == '0007d316f756b3fa0baea2ff514ce945']\n",
    "# details"
   ]
  },
  {
   "cell_type": "code",
   "execution_count": null,
   "metadata": {
    "execution": {
     "iopub.execute_input": "2021-03-27T16:15:17.417699Z",
     "iopub.status.busy": "2021-03-27T16:15:17.416872Z",
     "iopub.status.idle": "2021-03-27T16:15:17.419029Z",
     "shell.execute_reply": "2021-03-27T16:15:17.418393Z"
    },
    "papermill": {
     "duration": 0.049368,
     "end_time": "2021-03-27T16:15:17.419167",
     "exception": false,
     "start_time": "2021-03-27T16:15:17.369799",
     "status": "completed"
    },
    "tags": []
   },
   "outputs": [],
   "source": [
    "# from PIL import Image\n",
    "# from PIL import ImageDraw\n",
    "# draw = ImageDraw.Draw(image)\n",
    "# for i in range(len(details)):\n",
    "#     draw.rectangle([(details[i:i+1]['x_min'], details[i:i+1]['y_min']), (details[i:i+1]['x_max'], details[i:i+1]['y_max'])], outline =\"red\", width=3)\n",
    "# image"
   ]
  },
  {
   "cell_type": "code",
   "execution_count": null,
   "metadata": {
    "execution": {
     "iopub.execute_input": "2021-03-27T16:15:17.528998Z",
     "iopub.status.busy": "2021-03-27T16:15:17.528114Z",
     "iopub.status.idle": "2021-03-27T19:46:45.516572Z",
     "shell.execute_reply": "2021-03-27T19:46:45.515445Z"
    },
    "papermill": {
     "duration": 12688.056665,
     "end_time": "2021-03-27T19:46:45.516742",
     "exception": false,
     "start_time": "2021-03-27T16:15:17.460077",
     "status": "completed"
    },
    "tags": []
   },
   "outputs": [],
   "source": [
    "# Train the model\n",
    "device = torch.device('cuda') if torch.cuda.is_available() else torch.device('cpu')\n",
    "\n",
    "model.to(device)\n",
    "\n",
    "# Hyperparameters\n",
    "learning_rate = 0.00001\n",
    "weight_decay = 0.0001\n",
    "num_epochs = 25\n",
    "\n",
    "params = [p for p in model.parameters() if p.requires_grad]\n",
    "\n",
    "optimizer = Adam(params, lr=learning_rate, weight_decay=weight_decay)\n",
    "lr_scheduler = CosineAnnealingLR(optimizer, T_max=num_epochs, eta_min=0.00002)\n",
    "\n",
    "# checkpoint = torch.load(\"../input/model-18/model_18.bin\")\n",
    "# model.load_state_dict(checkpoint['model_state_dict'])\n",
    "# optimizer.load_state_dict(checkpoint['optimizer_state_dict'])\n",
    "# last_epoch = checkpoint['epoch']\n",
    "model.train()\n",
    "# print('Epoch = ', last_epoch)\n",
    "# Create a folder for saving the model weights\n",
    "%mkdir model\n",
    "%mkdir stats\n",
    "\n",
    "train_meters = []\n",
    "coco_evals = []\n",
    "t_start = time.time()\n",
    "\n",
    "for epoch in range(num_epochs):\n",
    "    # Train over the epoch\n",
    "    logger = train_one_epoch(model, optimizer, data_loader_train, device, epoch, print_freq=100)\n",
    "    train_meters.append(logger.meters)\n",
    "    \n",
    "    # Evaluate on the validation set\n",
    "    coco_eval = evaluate(model, data_loader_val, device)\n",
    "    coco_evals.append(coco_eval.coco_eval)\n",
    "    \n",
    "    # Update the learning rate\n",
    "    lr_scheduler.step()\n",
    "    \n",
    "    # Save the model weights at every epoch\n",
    "    torch.save({\n",
    "        'epoch': epoch,\n",
    "        'model_state_dict': model.state_dict(),\n",
    "        'optimizer_state_dict': optimizer.state_dict()\n",
    "        }, f\"model/model_{epoch}.bin\")\n",
    "    \n",
    "    # Save the stats at every epoch from epoch 15\n",
    "    if epoch > 15:\n",
    "        pickle.dump(train_meters, open(f\"stats/train_stats_{epoch}.pkl\", 'wb'))\n",
    "        pickle.dump(coco_evals, open(f\"stats/val_stats_{epoch}.pkl\", 'wb'))\n",
    "\n",
    "print('TRAINING AND VALIDATION DONE')\n",
    "t_end = time.time()\n",
    "print(f\"Training took {t_end - t_start}\")\n",
    "\n",
    "t_start = time.time()\n",
    "# Validation statistics for every class at the end\n",
    "coco_evals_class = []\n",
    "for class_id in range(0, 15):\n",
    "    class_val_dataset = VinBigDataset(val_img_dir, df_val, create_transforms(train=False), class_id=class_id)\n",
    "\n",
    "    data_loader_class_val = DataLoader(class_val_dataset, batch_size=5, shuffle=False, num_workers=4, collate_fn=utils.collate_fn)\n",
    "    \n",
    "    if len(class_val_dataset) == 0:\n",
    "        continue\n",
    "        \n",
    "    coco_eval_class = evaluate(model, data_loader_class_val, device)\n",
    "    coco_evals_class.append(coco_eval_class.coco_eval)\n",
    "\n",
    "t_end = time.time()\n",
    "print(f\"Validation for every class took {t_end - t_start}\")\n",
    "\n",
    "# Save the model weights\n",
    "torch.save({\n",
    "            'epoch': epoch,\n",
    "            'model_state_dict': model.state_dict(),\n",
    "            'optimizer_state_dict': optimizer.state_dict()\n",
    "            }, f\"model/model.bin\")\n",
    "\n",
    "# Save the stats\n",
    "pickle.dump(train_meters, open(f\"stats/train_stats.pkl\", 'wb'))\n",
    "pickle.dump(coco_evals, open(f\"stats/val_stats.pkl\", 'wb'))\n",
    "pickle.dump(coco_evals_class, open(f\"stats/val_stats_classes.pkl\", 'wb'))"
   ]
  },
  {
   "cell_type": "code",
   "execution_count": null,
   "metadata": {
    "execution": {
     "iopub.execute_input": "2021-03-27T19:46:45.792617Z",
     "iopub.status.busy": "2021-03-27T19:46:45.761592Z",
     "iopub.status.idle": "2021-03-27T19:48:34.050537Z",
     "shell.execute_reply": "2021-03-27T19:48:34.049481Z"
    },
    "papermill": {
     "duration": 108.413562,
     "end_time": "2021-03-27T19:48:34.050777",
     "exception": false,
     "start_time": "2021-03-27T19:46:45.637215",
     "status": "completed"
    },
    "tags": []
   },
   "outputs": [],
   "source": [
    "%%bash \n",
    "zip -r -q stats.zip stats/*.*"
   ]
  },
  {
   "cell_type": "markdown",
   "metadata": {
    "papermill": {
     "duration": 0.126611,
     "end_time": "2021-03-27T19:48:34.301844",
     "exception": false,
     "start_time": "2021-03-27T19:48:34.175233",
     "status": "completed"
    },
    "tags": []
   },
   "source": [
    "# Plot statistics"
   ]
  },
  {
   "cell_type": "code",
   "execution_count": null,
   "metadata": {
    "execution": {
     "iopub.execute_input": "2021-03-27T19:48:34.710741Z",
     "iopub.status.busy": "2021-03-27T19:48:34.709959Z",
     "iopub.status.idle": "2021-03-27T19:48:34.727704Z",
     "shell.execute_reply": "2021-03-27T19:48:34.728688Z"
    },
    "papermill": {
     "duration": 0.225358,
     "end_time": "2021-03-27T19:48:34.728896",
     "exception": false,
     "start_time": "2021-03-27T19:48:34.503538",
     "status": "completed"
    },
    "tags": []
   },
   "outputs": [],
   "source": [
    "# Functions for getting and plotting training stats\n",
    "\n",
    "def get_train_stats(name, stats):\n",
    "    return [s[name].value for s in stats]\n",
    "\n",
    "def plot_train_stats(train_stats, name):\n",
    "    loss = get_train_stats('loss', train_stats)\n",
    "    loss_classifier = get_train_stats('loss_classifier', train_stats)\n",
    "    loss_box_reg = get_train_stats('loss_box_reg', train_stats)\n",
    "    loss_objectness = get_train_stats('loss_objectness', train_stats)\n",
    "    loss_rpn_box_reg = get_train_stats('loss_rpn_box_reg', train_stats)\n",
    "    # Plot the training stats\n",
    "    fig = plt.figure(figsize=(12,8))\n",
    "    plt.plot(loss, label='loss')\n",
    "    plt.plot(loss_classifier, label='loss_classifier')\n",
    "    plt.plot(loss_box_reg, label='loss_box_reg')\n",
    "    plt.plot(loss_objectness, label='loss_objectness')\n",
    "    plt.plot(loss_rpn_box_reg, label='loss_rpn_box_reg')\n",
    "    plt.legend()\n",
    "    plt.xticks(range(0, len(loss), 5))\n",
    "    plt.xlabel('Epoch')\n",
    "    plt.title(f'Training stats {name}')"
   ]
  },
  {
   "cell_type": "code",
   "execution_count": null,
   "metadata": {
    "execution": {
     "iopub.execute_input": "2021-03-27T19:48:35.133244Z",
     "iopub.status.busy": "2021-03-27T19:48:35.132465Z",
     "iopub.status.idle": "2021-03-27T19:48:35.136379Z",
     "shell.execute_reply": "2021-03-27T19:48:35.137335Z"
    },
    "papermill": {
     "duration": 0.217364,
     "end_time": "2021-03-27T19:48:35.137510",
     "exception": false,
     "start_time": "2021-03-27T19:48:34.920146",
     "status": "completed"
    },
    "tags": []
   },
   "outputs": [],
   "source": [
    "# Functions for getting and plotting validation stats\n",
    "\n",
    "def get_val_stats(idx, stats):\n",
    "    return [s['bbox'].stats[idx] for s in stats]\n",
    "\n",
    "def plot_val_stats(val_stats, name):\n",
    "    ap_50_95 = get_val_stats(0, val_stats)\n",
    "    ap_50 = get_val_stats(1, val_stats)\n",
    "    ap_75 = get_val_stats(2, val_stats)\n",
    "    ar_all_md100 = get_val_stats(8, val_stats)\n",
    "\n",
    "     # Plot the validation stats\n",
    "    fig = plt.figure(figsize=(12,8))\n",
    "    plt.plot(ap_50_95, label='AP .50:.95')\n",
    "    plt.plot(ap_50, label='AP .50')\n",
    "    plt.plot(ap_75, label='AP .75')\n",
    "    plt.plot(ar_all_md100, label='AR All Max Dets 100')\n",
    "    plt.legend()\n",
    "    plt.xticks(range(0, len(ap_50), 5))\n",
    "    plt.xlabel('Epoch')\n",
    "    plt.title(f'Validation stats {name}')"
   ]
  },
  {
   "cell_type": "code",
   "execution_count": null,
   "metadata": {
    "execution": {
     "iopub.execute_input": "2021-03-27T19:48:35.519926Z",
     "iopub.status.busy": "2021-03-27T19:48:35.519087Z",
     "iopub.status.idle": "2021-03-27T19:48:35.914669Z",
     "shell.execute_reply": "2021-03-27T19:48:35.915090Z"
    },
    "papermill": {
     "duration": 0.580528,
     "end_time": "2021-03-27T19:48:35.915244",
     "exception": false,
     "start_time": "2021-03-27T19:48:35.334716",
     "status": "completed"
    },
    "tags": []
   },
   "outputs": [],
   "source": [
    "# Plot the stats\n",
    "plot_train_stats(train_meters, 'baseline')\n",
    "plot_val_stats(coco_evals, 'baseline')"
   ]
  },
  {
   "cell_type": "code",
   "execution_count": null,
   "metadata": {
    "execution": {
     "iopub.execute_input": "2021-03-27T19:48:36.167114Z",
     "iopub.status.busy": "2021-03-27T19:48:36.166444Z",
     "iopub.status.idle": "2021-03-27T19:48:36.169482Z",
     "shell.execute_reply": "2021-03-27T19:48:36.169064Z"
    },
    "papermill": {
     "duration": 0.129408,
     "end_time": "2021-03-27T19:48:36.169585",
     "exception": false,
     "start_time": "2021-03-27T19:48:36.040177",
     "status": "completed"
    },
    "tags": []
   },
   "outputs": [],
   "source": [
    "# for i in range(15):\n",
    "#     plot_val_stats(coco_evals_class[i], f'baseline class {i}')"
   ]
  },
  {
   "cell_type": "code",
   "execution_count": null,
   "metadata": {
    "execution": {
     "iopub.execute_input": "2021-03-27T19:48:36.419146Z",
     "iopub.status.busy": "2021-03-27T19:48:36.418497Z",
     "iopub.status.idle": "2021-03-27T19:48:36.421308Z",
     "shell.execute_reply": "2021-03-27T19:48:36.420914Z"
    },
    "papermill": {
     "duration": 0.128719,
     "end_time": "2021-03-27T19:48:36.421423",
     "exception": false,
     "start_time": "2021-03-27T19:48:36.292704",
     "status": "completed"
    },
    "tags": []
   },
   "outputs": [],
   "source": [
    "# model.eval()\n",
    "# for images, targets in metric_logger.log_every(data_loader_train, 10, header):\n",
    "#     images = list(image.to(device) for image in images)\n",
    "#     targets = [{k: v.to(device) for k, v in t.items()} for t in targets]\n",
    "#     outs = model(images)\n",
    "#     break\n",
    "# print(outs)\n",
    "# print(targets)"
   ]
  },
  {
   "cell_type": "markdown",
   "metadata": {
    "papermill": {
     "duration": 0.122955,
     "end_time": "2021-03-27T19:48:36.667286",
     "exception": false,
     "start_time": "2021-03-27T19:48:36.544331",
     "status": "completed"
    },
    "tags": []
   },
   "source": [
    "# Draw prediction"
   ]
  },
  {
   "cell_type": "code",
   "execution_count": null,
   "metadata": {
    "execution": {
     "iopub.execute_input": "2021-03-27T19:48:36.919156Z",
     "iopub.status.busy": "2021-03-27T19:48:36.918485Z",
     "iopub.status.idle": "2021-03-27T19:48:36.921496Z",
     "shell.execute_reply": "2021-03-27T19:48:36.921106Z"
    },
    "papermill": {
     "duration": 0.130485,
     "end_time": "2021-03-27T19:48:36.921603",
     "exception": false,
     "start_time": "2021-03-27T19:48:36.791118",
     "status": "completed"
    },
    "tags": []
   },
   "outputs": [],
   "source": [
    "# Train the model\n",
    "# device = torch.device('cuda') if torch.cuda.is_available() else torch.device('cpu')\n",
    "\n",
    "# model.to(device)\n",
    "\n",
    "# Hyperparameters\n",
    "# learning_rate = 0.0001\n",
    "# weight_decay = 0\n",
    "# num_epochs = 25\n",
    "# params = [p for p in model.parameters() if p.requires_grad]\n",
    "# optimizer = Adam(params, lr=learning_rate, weight_decay=weight_decay)\n",
    "# lr_scheduler = CosineAnnealingLR(optimizer, T_max=num_epochs, eta_min=0.00002)\n",
    "\n",
    "# checkpoint = torch.load(\"../input/model24/model_24.bin\")\n",
    "# model.load_state_dict(checkpoint['model_state_dict'])\n",
    "# optimizer.load_state_dict(checkpoint['optimizer_state_dict'])\n",
    "# last_epoch = checkpoint['epoch']\n",
    "# model.eval()\n",
    "# if torch.cuda.is_available():\n",
    "#     model.cuda()"
   ]
  },
  {
   "cell_type": "code",
   "execution_count": null,
   "metadata": {
    "execution": {
     "iopub.execute_input": "2021-03-27T19:48:37.185331Z",
     "iopub.status.busy": "2021-03-27T19:48:37.184570Z",
     "iopub.status.idle": "2021-03-27T19:50:31.166227Z",
     "shell.execute_reply": "2021-03-27T19:50:31.166942Z"
    },
    "papermill": {
     "duration": 114.122322,
     "end_time": "2021-03-27T19:50:31.167172",
     "exception": false,
     "start_time": "2021-03-27T19:48:37.044850",
     "status": "completed"
    },
    "tags": []
   },
   "outputs": [],
   "source": [
    "loaded_model = create_model()\n",
    "checkpoint = torch.load(\"model/model.bin\")\n",
    "loaded_model.load_state_dict(checkpoint['model_state_dict'])\n",
    "\n",
    "%mkdir image_predictions\n",
    "\n",
    "for idx in range(10):\n",
    "    img, _ = val_dataset[idx]\n",
    "    label_boxes = np.array(val_dataset[idx][1][\"boxes\"])\n",
    "    #put the model in evaluation mode\n",
    "    loaded_model.eval()\n",
    "    with torch.no_grad():\n",
    "        prediction = loaded_model([img])\n",
    "    image = Image.fromarray(img.mul(255).permute(1, 2, 0).byte().numpy())\n",
    "    draw = ImageDraw.Draw(image)\n",
    "\n",
    "    # draw groundtruth\n",
    "    for elem in range(len(label_boxes)):\n",
    "        draw.rectangle([(label_boxes[elem][0], label_boxes[elem][1]), (label_boxes[elem][2], label_boxes[elem][3])], outline =\"green\", width=3)\n",
    "\n",
    "    for element in range(len(prediction[0][\"boxes\"])):\n",
    "        boxes = prediction[0][\"boxes\"][element].cpu().numpy()\n",
    "        score = np.round(prediction[0][\"scores\"][element].cpu().numpy(), decimals= 4)\n",
    "        if score > 0.4:\n",
    "            draw.rectangle([(boxes[0], boxes[1]), (boxes[2], boxes[3])], outline =\"red\", width =3)\n",
    "            draw.text((boxes[0], boxes[1]), text = str(score))\n",
    "\n",
    "    image_name = df_val.at[idx, 'image_id']\n",
    "    image.save(f\"image_predictions/{image_name}.jpg\")"
   ]
  },
  {
   "cell_type": "code",
   "execution_count": null,
   "metadata": {
    "execution": {
     "iopub.execute_input": "2021-03-27T19:50:31.614726Z",
     "iopub.status.busy": "2021-03-27T19:50:31.613858Z",
     "iopub.status.idle": "2021-03-27T19:50:45.558910Z",
     "shell.execute_reply": "2021-03-27T19:50:45.559319Z"
    },
    "papermill": {
     "duration": 14.164889,
     "end_time": "2021-03-27T19:50:45.559468",
     "exception": false,
     "start_time": "2021-03-27T19:50:31.394579",
     "status": "completed"
    },
    "tags": []
   },
   "outputs": [],
   "source": [
    "loaded_model = create_model()\n",
    "checkpoint = torch.load(\"model/model.bin\")\n",
    "loaded_model.load_state_dict(checkpoint['model_state_dict'])\n",
    "\n",
    "%mkdir image_predictions\n",
    "\n",
    "# for idx in range(10):\n",
    "idx = 3\n",
    "img, _ = val_dataset[idx]\n",
    "label_boxes = np.array(val_dataset[idx][1][\"boxes\"])\n",
    "#put the model in evaluation mode\n",
    "loaded_model.eval()\n",
    "with torch.no_grad():\n",
    "    prediction = loaded_model([img])\n",
    "image = Image.fromarray(img.mul(255).permute(1, 2, 0).byte().numpy())\n",
    "draw = ImageDraw.Draw(image)\n",
    "\n",
    "# draw groundtruth\n",
    "for elem in range(len(label_boxes)):\n",
    "    draw.rectangle([(label_boxes[elem][0], label_boxes[elem][1]), (label_boxes[elem][2], label_boxes[elem][3])], outline =\"green\", width=3)\n",
    "\n",
    "for element in range(len(prediction[0][\"boxes\"])):\n",
    "    boxes = prediction[0][\"boxes\"][element].cpu().numpy()\n",
    "    score = np.round(prediction[0][\"scores\"][element].cpu().numpy(), decimals= 4)\n",
    "    if score > 0.4:\n",
    "        draw.rectangle([(boxes[0], boxes[1]), (boxes[2], boxes[3])], outline =\"red\", width =3)\n",
    "        draw.text((boxes[0], boxes[1]), text = str(score))\n",
    "\n",
    "image_name = df_val.at[idx, 'image_id']\n",
    "# image.save(f\"image_predictions/{image_name}.jpg\")\n",
    "image"
   ]
  },
  {
   "cell_type": "code",
   "execution_count": null,
   "metadata": {
    "execution": {
     "iopub.execute_input": "2021-03-27T19:50:45.852402Z",
     "iopub.status.busy": "2021-03-27T19:50:45.851898Z",
     "iopub.status.idle": "2021-03-27T19:50:57.125300Z",
     "shell.execute_reply": "2021-03-27T19:50:57.125697Z"
    },
    "papermill": {
     "duration": 11.425111,
     "end_time": "2021-03-27T19:50:57.125877",
     "exception": false,
     "start_time": "2021-03-27T19:50:45.700766",
     "status": "completed"
    },
    "tags": []
   },
   "outputs": [],
   "source": [
    "# loaded_model = create_model()\n",
    "# checkpoint = torch.load(\"model/model.bin\")\n",
    "# loaded_model.load_state_dict(checkpoint['model_state_dict'])\n",
    "\n",
    "# %mkdir image_predictions\n",
    "\n",
    "# for idx in range(10):\n",
    "idx = 5\n",
    "img, _ = val_dataset[idx]\n",
    "label_boxes = np.array(val_dataset[idx][1][\"boxes\"])\n",
    "#put the model in evaluation mode\n",
    "loaded_model.eval()\n",
    "with torch.no_grad():\n",
    "    prediction = loaded_model([img])\n",
    "image = Image.fromarray(img.mul(255).permute(1, 2, 0).byte().numpy())\n",
    "draw = ImageDraw.Draw(image)\n",
    "\n",
    "# draw groundtruth\n",
    "for elem in range(len(label_boxes)):\n",
    "    draw.rectangle([(label_boxes[elem][0], label_boxes[elem][1]), (label_boxes[elem][2], label_boxes[elem][3])], outline =\"green\", width=3)\n",
    "\n",
    "for element in range(len(prediction[0][\"boxes\"])):\n",
    "    boxes = prediction[0][\"boxes\"][element].cpu().numpy()\n",
    "    score = np.round(prediction[0][\"scores\"][element].cpu().numpy(), decimals= 4)\n",
    "    if score > 0.4:\n",
    "        draw.rectangle([(boxes[0], boxes[1]), (boxes[2], boxes[3])], outline =\"red\", width =3)\n",
    "        draw.text((boxes[0], boxes[1]), text = str(score))\n",
    "\n",
    "image_name = df_val.at[idx, 'image_id']\n",
    "# image.save(f\"image_predictions/{image_name}.jpg\")\n",
    "image"
   ]
  },
  {
   "cell_type": "code",
   "execution_count": null,
   "metadata": {
    "execution": {
     "iopub.execute_input": "2021-03-27T19:50:57.449025Z",
     "iopub.status.busy": "2021-03-27T19:50:57.448010Z",
     "iopub.status.idle": "2021-03-27T19:51:09.256334Z",
     "shell.execute_reply": "2021-03-27T19:51:09.256736Z"
    },
    "papermill": {
     "duration": 11.974995,
     "end_time": "2021-03-27T19:51:09.256906",
     "exception": false,
     "start_time": "2021-03-27T19:50:57.281911",
     "status": "completed"
    },
    "tags": []
   },
   "outputs": [],
   "source": [
    "# loaded_model = create_model()\n",
    "# checkpoint = torch.load(\"model/model.bin\")\n",
    "# loaded_model.load_state_dict(checkpoint['model_state_dict'])\n",
    "\n",
    "# %mkdir image_predictions\n",
    "\n",
    "# for idx in range(10):\n",
    "idx = 6\n",
    "img, _ = val_dataset[idx]\n",
    "label_boxes = np.array(val_dataset[idx][1][\"boxes\"])\n",
    "#put the model in evaluation mode\n",
    "loaded_model.eval()\n",
    "with torch.no_grad():\n",
    "    prediction = loaded_model([img])\n",
    "image = Image.fromarray(img.mul(255).permute(1, 2, 0).byte().numpy())\n",
    "draw = ImageDraw.Draw(image)\n",
    "\n",
    "# draw groundtruth\n",
    "for elem in range(len(label_boxes)):\n",
    "    draw.rectangle([(label_boxes[elem][0], label_boxes[elem][1]), (label_boxes[elem][2], label_boxes[elem][3])], outline =\"green\", width=3)\n",
    "\n",
    "for element in range(len(prediction[0][\"boxes\"])):\n",
    "    boxes = prediction[0][\"boxes\"][element].cpu().numpy()\n",
    "    score = np.round(prediction[0][\"scores\"][element].cpu().numpy(), decimals= 4)\n",
    "    if score > 0.4:\n",
    "        draw.rectangle([(boxes[0], boxes[1]), (boxes[2], boxes[3])], outline =\"red\", width =3)\n",
    "        draw.text((boxes[0], boxes[1]), text = str(score))\n",
    "\n",
    "image_name = df_val.at[idx, 'image_id']\n",
    "# image.save(f\"image_predictions/{image_name}.jpg\")\n",
    "image"
   ]
  },
  {
   "cell_type": "code",
   "execution_count": null,
   "metadata": {
    "execution": {
     "iopub.execute_input": "2021-03-27T19:51:09.624660Z",
     "iopub.status.busy": "2021-03-27T19:51:09.623544Z",
     "iopub.status.idle": "2021-03-27T19:51:21.210450Z",
     "shell.execute_reply": "2021-03-27T19:51:21.210867Z"
    },
    "papermill": {
     "duration": 11.776279,
     "end_time": "2021-03-27T19:51:21.211018",
     "exception": false,
     "start_time": "2021-03-27T19:51:09.434739",
     "status": "completed"
    },
    "tags": []
   },
   "outputs": [],
   "source": [
    "idx = 7\n",
    "img, _ = val_dataset[idx]\n",
    "label_boxes = np.array(val_dataset[idx][1][\"boxes\"])\n",
    "#put the model in evaluation mode\n",
    "loaded_model.eval()\n",
    "with torch.no_grad():\n",
    "    prediction = loaded_model([img])\n",
    "image = Image.fromarray(img.mul(255).permute(1, 2, 0).byte().numpy())\n",
    "draw = ImageDraw.Draw(image)\n",
    "\n",
    "# draw groundtruth\n",
    "for elem in range(len(label_boxes)):\n",
    "    draw.rectangle([(label_boxes[elem][0], label_boxes[elem][1]), (label_boxes[elem][2], label_boxes[elem][3])], outline =\"green\", width=3)\n",
    "\n",
    "for element in range(len(prediction[0][\"boxes\"])):\n",
    "    boxes = prediction[0][\"boxes\"][element].cpu().numpy()\n",
    "    score = np.round(prediction[0][\"scores\"][element].cpu().numpy(), decimals= 4)\n",
    "    if score > 0.4:\n",
    "        draw.rectangle([(boxes[0], boxes[1]), (boxes[2], boxes[3])], outline =\"red\", width =3)\n",
    "        draw.text((boxes[0], boxes[1]), text = str(score))\n",
    "\n",
    "image_name = df_val.at[idx, 'image_id']\n",
    "# image.save(f\"image_predictions/{image_name}.jpg\")\n",
    "image"
   ]
  },
  {
   "cell_type": "code",
   "execution_count": null,
   "metadata": {
    "execution": {
     "iopub.execute_input": "2021-03-27T19:51:21.615686Z",
     "iopub.status.busy": "2021-03-27T19:51:21.611535Z",
     "iopub.status.idle": "2021-03-27T19:51:33.011845Z",
     "shell.execute_reply": "2021-03-27T19:51:33.012247Z"
    },
    "papermill": {
     "duration": 11.60426,
     "end_time": "2021-03-27T19:51:33.012401",
     "exception": false,
     "start_time": "2021-03-27T19:51:21.408141",
     "status": "completed"
    },
    "tags": []
   },
   "outputs": [],
   "source": [
    "idx = 8\n",
    "img, _ = val_dataset[idx]\n",
    "label_boxes = np.array(val_dataset[idx][1][\"boxes\"])\n",
    "#put the model in evaluation mode\n",
    "loaded_model.eval()\n",
    "with torch.no_grad():\n",
    "    prediction = loaded_model([img])\n",
    "image = Image.fromarray(img.mul(255).permute(1, 2, 0).byte().numpy())\n",
    "draw = ImageDraw.Draw(image)\n",
    "\n",
    "# draw groundtruth\n",
    "for elem in range(len(label_boxes)):\n",
    "    draw.rectangle([(label_boxes[elem][0], label_boxes[elem][1]), (label_boxes[elem][2], label_boxes[elem][3])], outline =\"green\", width=3)\n",
    "\n",
    "for element in range(len(prediction[0][\"boxes\"])):\n",
    "    boxes = prediction[0][\"boxes\"][element].cpu().numpy()\n",
    "    score = np.round(prediction[0][\"scores\"][element].cpu().numpy(), decimals= 4)\n",
    "    if score > 0.4:\n",
    "        draw.rectangle([(boxes[0], boxes[1]), (boxes[2], boxes[3])], outline =\"red\", width =3)\n",
    "        draw.text((boxes[0], boxes[1]), text = str(score))\n",
    "\n",
    "image_name = df_val.at[idx, 'image_id']\n",
    "# image.save(f\"image_predictions/{image_name}.jpg\")\n",
    "image"
   ]
  }
 ],
 "metadata": {
  "kernelspec": {
   "display_name": "Python 3",
   "language": "python",
   "name": "python3"
  },
  "language_info": {
   "codemirror_mode": {
    "name": "ipython",
    "version": 3
   },
   "file_extension": ".py",
   "mimetype": "text/x-python",
   "name": "python",
   "nbconvert_exporter": "python",
   "pygments_lexer": "ipython3",
   "version": "3.8.5"
  },
  "papermill": {
   "default_parameters": {},
   "duration": 13011.131951,
   "end_time": "2021-03-27T19:51:37.237290",
   "environment_variables": {},
   "exception": null,
   "input_path": "__notebook__.ipynb",
   "output_path": "__notebook__.ipynb",
   "parameters": {},
   "start_time": "2021-03-27T16:14:46.105339",
   "version": "2.2.2"
  },
  "widgets": {
   "application/vnd.jupyter.widget-state+json": {
    "state": {
     "044bdaa8bbe54424a5b048a8fb2ea1c2": {
      "model_module": "@jupyter-widgets/base",
      "model_module_version": "1.2.0",
      "model_name": "LayoutModel",
      "state": {
       "_model_module": "@jupyter-widgets/base",
       "_model_module_version": "1.2.0",
       "_model_name": "LayoutModel",
       "_view_count": null,
       "_view_module": "@jupyter-widgets/base",
       "_view_module_version": "1.2.0",
       "_view_name": "LayoutView",
       "align_content": null,
       "align_items": null,
       "align_self": null,
       "border": null,
       "bottom": null,
       "display": null,
       "flex": null,
       "flex_flow": null,
       "grid_area": null,
       "grid_auto_columns": null,
       "grid_auto_flow": null,
       "grid_auto_rows": null,
       "grid_column": null,
       "grid_gap": null,
       "grid_row": null,
       "grid_template_areas": null,
       "grid_template_columns": null,
       "grid_template_rows": null,
       "height": null,
       "justify_content": null,
       "justify_items": null,
       "left": null,
       "margin": null,
       "max_height": null,
       "max_width": null,
       "min_height": null,
       "min_width": null,
       "object_fit": null,
       "object_position": null,
       "order": null,
       "overflow": null,
       "overflow_x": null,
       "overflow_y": null,
       "padding": null,
       "right": null,
       "top": null,
       "visibility": null,
       "width": null
      }
     },
     "116e0ed97b8f41b4ad1c1c63ca1367e7": {
      "model_module": "@jupyter-widgets/base",
      "model_module_version": "1.2.0",
      "model_name": "LayoutModel",
      "state": {
       "_model_module": "@jupyter-widgets/base",
       "_model_module_version": "1.2.0",
       "_model_name": "LayoutModel",
       "_view_count": null,
       "_view_module": "@jupyter-widgets/base",
       "_view_module_version": "1.2.0",
       "_view_name": "LayoutView",
       "align_content": null,
       "align_items": null,
       "align_self": null,
       "border": null,
       "bottom": null,
       "display": null,
       "flex": null,
       "flex_flow": null,
       "grid_area": null,
       "grid_auto_columns": null,
       "grid_auto_flow": null,
       "grid_auto_rows": null,
       "grid_column": null,
       "grid_gap": null,
       "grid_row": null,
       "grid_template_areas": null,
       "grid_template_columns": null,
       "grid_template_rows": null,
       "height": null,
       "justify_content": null,
       "justify_items": null,
       "left": null,
       "margin": null,
       "max_height": null,
       "max_width": null,
       "min_height": null,
       "min_width": null,
       "object_fit": null,
       "object_position": null,
       "order": null,
       "overflow": null,
       "overflow_x": null,
       "overflow_y": null,
       "padding": null,
       "right": null,
       "top": null,
       "visibility": null,
       "width": null
      }
     },
     "3e6a8e1f87cb4967b3269d86cf3060c7": {
      "model_module": "@jupyter-widgets/base",
      "model_module_version": "1.2.0",
      "model_name": "LayoutModel",
      "state": {
       "_model_module": "@jupyter-widgets/base",
       "_model_module_version": "1.2.0",
       "_model_name": "LayoutModel",
       "_view_count": null,
       "_view_module": "@jupyter-widgets/base",
       "_view_module_version": "1.2.0",
       "_view_name": "LayoutView",
       "align_content": null,
       "align_items": null,
       "align_self": null,
       "border": null,
       "bottom": null,
       "display": null,
       "flex": null,
       "flex_flow": null,
       "grid_area": null,
       "grid_auto_columns": null,
       "grid_auto_flow": null,
       "grid_auto_rows": null,
       "grid_column": null,
       "grid_gap": null,
       "grid_row": null,
       "grid_template_areas": null,
       "grid_template_columns": null,
       "grid_template_rows": null,
       "height": null,
       "justify_content": null,
       "justify_items": null,
       "left": null,
       "margin": null,
       "max_height": null,
       "max_width": null,
       "min_height": null,
       "min_width": null,
       "object_fit": null,
       "object_position": null,
       "order": null,
       "overflow": null,
       "overflow_x": null,
       "overflow_y": null,
       "padding": null,
       "right": null,
       "top": null,
       "visibility": null,
       "width": null
      }
     },
     "435feaac97b4448f9051cdfb9a1e50e1": {
      "model_module": "@jupyter-widgets/base",
      "model_module_version": "1.2.0",
      "model_name": "LayoutModel",
      "state": {
       "_model_module": "@jupyter-widgets/base",
       "_model_module_version": "1.2.0",
       "_model_name": "LayoutModel",
       "_view_count": null,
       "_view_module": "@jupyter-widgets/base",
       "_view_module_version": "1.2.0",
       "_view_name": "LayoutView",
       "align_content": null,
       "align_items": null,
       "align_self": null,
       "border": null,
       "bottom": null,
       "display": null,
       "flex": null,
       "flex_flow": null,
       "grid_area": null,
       "grid_auto_columns": null,
       "grid_auto_flow": null,
       "grid_auto_rows": null,
       "grid_column": null,
       "grid_gap": null,
       "grid_row": null,
       "grid_template_areas": null,
       "grid_template_columns": null,
       "grid_template_rows": null,
       "height": null,
       "justify_content": null,
       "justify_items": null,
       "left": null,
       "margin": null,
       "max_height": null,
       "max_width": null,
       "min_height": null,
       "min_width": null,
       "object_fit": null,
       "object_position": null,
       "order": null,
       "overflow": null,
       "overflow_x": null,
       "overflow_y": null,
       "padding": null,
       "right": null,
       "top": null,
       "visibility": null,
       "width": null
      }
     },
     "75612ab408cf4bf7bdcdc62183c702cc": {
      "model_module": "@jupyter-widgets/controls",
      "model_module_version": "1.5.0",
      "model_name": "HTMLModel",
      "state": {
       "_dom_classes": [],
       "_model_module": "@jupyter-widgets/controls",
       "_model_module_version": "1.5.0",
       "_model_name": "HTMLModel",
       "_view_count": null,
       "_view_module": "@jupyter-widgets/controls",
       "_view_module_version": "1.5.0",
       "_view_name": "HTMLView",
       "description": "",
       "description_tooltip": null,
       "layout": "IPY_MODEL_044bdaa8bbe54424a5b048a8fb2ea1c2",
       "placeholder": "​",
       "style": "IPY_MODEL_fb3df79f154d425db4695631e60e6d35",
       "value": " 160M/160M [00:02&lt;00:00, 73.0MB/s]"
      }
     },
     "a2828850b0d14936a34b0f3f7f43b5f6": {
      "model_module": "@jupyter-widgets/controls",
      "model_module_version": "1.5.0",
      "model_name": "HTMLModel",
      "state": {
       "_dom_classes": [],
       "_model_module": "@jupyter-widgets/controls",
       "_model_module_version": "1.5.0",
       "_model_name": "HTMLModel",
       "_view_count": null,
       "_view_module": "@jupyter-widgets/controls",
       "_view_module_version": "1.5.0",
       "_view_name": "HTMLView",
       "description": "",
       "description_tooltip": null,
       "layout": "IPY_MODEL_116e0ed97b8f41b4ad1c1c63ca1367e7",
       "placeholder": "​",
       "style": "IPY_MODEL_be9f1ef0c4234b4e8e2cccee45ed3e53",
       "value": "100%"
      }
     },
     "b557777e82934a76adcbcb0b631e1253": {
      "model_module": "@jupyter-widgets/controls",
      "model_module_version": "1.5.0",
      "model_name": "FloatProgressModel",
      "state": {
       "_dom_classes": [],
       "_model_module": "@jupyter-widgets/controls",
       "_model_module_version": "1.5.0",
       "_model_name": "FloatProgressModel",
       "_view_count": null,
       "_view_module": "@jupyter-widgets/controls",
       "_view_module_version": "1.5.0",
       "_view_name": "ProgressView",
       "bar_style": "success",
       "description": "",
       "description_tooltip": null,
       "layout": "IPY_MODEL_3e6a8e1f87cb4967b3269d86cf3060c7",
       "max": 167502836,
       "min": 0,
       "orientation": "horizontal",
       "style": "IPY_MODEL_c9e6554f743749f3bd85ba6f8b069645",
       "value": 167502836
      }
     },
     "be9f1ef0c4234b4e8e2cccee45ed3e53": {
      "model_module": "@jupyter-widgets/controls",
      "model_module_version": "1.5.0",
      "model_name": "DescriptionStyleModel",
      "state": {
       "_model_module": "@jupyter-widgets/controls",
       "_model_module_version": "1.5.0",
       "_model_name": "DescriptionStyleModel",
       "_view_count": null,
       "_view_module": "@jupyter-widgets/base",
       "_view_module_version": "1.2.0",
       "_view_name": "StyleView",
       "description_width": ""
      }
     },
     "c9e6554f743749f3bd85ba6f8b069645": {
      "model_module": "@jupyter-widgets/controls",
      "model_module_version": "1.5.0",
      "model_name": "ProgressStyleModel",
      "state": {
       "_model_module": "@jupyter-widgets/controls",
       "_model_module_version": "1.5.0",
       "_model_name": "ProgressStyleModel",
       "_view_count": null,
       "_view_module": "@jupyter-widgets/base",
       "_view_module_version": "1.2.0",
       "_view_name": "StyleView",
       "bar_color": null,
       "description_width": ""
      }
     },
     "f5c68f5dbe614073aca796e09b887d76": {
      "model_module": "@jupyter-widgets/controls",
      "model_module_version": "1.5.0",
      "model_name": "HBoxModel",
      "state": {
       "_dom_classes": [],
       "_model_module": "@jupyter-widgets/controls",
       "_model_module_version": "1.5.0",
       "_model_name": "HBoxModel",
       "_view_count": null,
       "_view_module": "@jupyter-widgets/controls",
       "_view_module_version": "1.5.0",
       "_view_name": "HBoxView",
       "box_style": "",
       "children": [
        "IPY_MODEL_a2828850b0d14936a34b0f3f7f43b5f6",
        "IPY_MODEL_b557777e82934a76adcbcb0b631e1253",
        "IPY_MODEL_75612ab408cf4bf7bdcdc62183c702cc"
       ],
       "layout": "IPY_MODEL_435feaac97b4448f9051cdfb9a1e50e1"
      }
     },
     "fb3df79f154d425db4695631e60e6d35": {
      "model_module": "@jupyter-widgets/controls",
      "model_module_version": "1.5.0",
      "model_name": "DescriptionStyleModel",
      "state": {
       "_model_module": "@jupyter-widgets/controls",
       "_model_module_version": "1.5.0",
       "_model_name": "DescriptionStyleModel",
       "_view_count": null,
       "_view_module": "@jupyter-widgets/base",
       "_view_module_version": "1.2.0",
       "_view_name": "StyleView",
       "description_width": ""
      }
     }
    },
    "version_major": 2,
    "version_minor": 0
   }
  }
 },
 "nbformat": 4,
 "nbformat_minor": 4
}
