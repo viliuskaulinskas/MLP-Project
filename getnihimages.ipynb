{
 "cells": [
  {
   "cell_type": "code",
   "execution_count": 1,
   "metadata": {
    "execution": {
     "iopub.execute_input": "2021-03-29T15:45:05.567580Z",
     "iopub.status.busy": "2021-03-29T15:45:05.556613Z",
     "iopub.status.idle": "2021-03-29T15:45:06.348445Z",
     "shell.execute_reply": "2021-03-29T15:45:06.347783Z"
    },
    "papermill": {
     "duration": 0.803454,
     "end_time": "2021-03-29T15:45:06.348650",
     "exception": false,
     "start_time": "2021-03-29T15:45:05.545196",
     "status": "completed"
    },
    "tags": []
   },
   "outputs": [
    {
     "name": "stdout",
     "output_type": "stream",
     "text": [
      "/kaggle/working/vinbigdata-mlp-1024-images\n"
     ]
    }
   ],
   "source": [
    "# Create a directory under working to save everything\n",
    "%mkdir vinbigdata-mlp-1024-images\n",
    "%cd vinbigdata-mlp-1024-images"
   ]
  },
  {
   "cell_type": "code",
   "execution_count": 2,
   "metadata": {
    "execution": {
     "iopub.execute_input": "2021-03-29T15:45:06.361522Z",
     "iopub.status.busy": "2021-03-29T15:45:06.360913Z",
     "iopub.status.idle": "2021-03-29T15:45:07.985842Z",
     "shell.execute_reply": "2021-03-29T15:45:07.985246Z"
    },
    "papermill": {
     "duration": 1.632171,
     "end_time": "2021-03-29T15:45:07.986018",
     "exception": false,
     "start_time": "2021-03-29T15:45:06.353847",
     "status": "completed"
    },
    "tags": []
   },
   "outputs": [],
   "source": [
    "import numpy as np\n",
    "import pydicom\n",
    "import cv2\n",
    "import os\n",
    "from pydicom.pixel_data_handlers.util import apply_voi_lut\n",
    "from tqdm.auto import tqdm\n",
    "from pathos.multiprocessing import ProcessingPool as Pool\n",
    "from functools import partial\n",
    "import pandas as pd\n",
    "from PIL import Image\n",
    "from skmultilearn.model_selection import iterative_train_test_split"
   ]
  },
  {
   "cell_type": "code",
   "execution_count": 3,
   "metadata": {
    "execution": {
     "iopub.execute_input": "2021-03-29T15:45:08.001477Z",
     "iopub.status.busy": "2021-03-29T15:45:08.000289Z",
     "iopub.status.idle": "2021-03-29T15:45:08.779030Z",
     "shell.execute_reply": "2021-03-29T15:45:08.778407Z"
    },
    "papermill": {
     "duration": 0.788082,
     "end_time": "2021-03-29T15:45:08.779194",
     "exception": false,
     "start_time": "2021-03-29T15:45:07.991112",
     "status": "completed"
    },
    "tags": []
   },
   "outputs": [],
   "source": [
    "%mkdir images"
   ]
  },
  {
   "cell_type": "code",
   "execution_count": 4,
   "metadata": {
    "_cell_guid": "b1076dfc-b9ad-4769-8c92-a6c4dae69d19",
    "_uuid": "8f2839f25d086af736a60e9eeb907d3b93b6e0e5",
    "execution": {
     "iopub.execute_input": "2021-03-29T15:45:08.812633Z",
     "iopub.status.busy": "2021-03-29T15:45:08.807683Z",
     "iopub.status.idle": "2021-03-29T15:51:47.324258Z",
     "shell.execute_reply": "2021-03-29T15:51:47.324763Z"
    },
    "papermill": {
     "duration": 398.541098,
     "end_time": "2021-03-29T15:51:47.324977",
     "exception": false,
     "start_time": "2021-03-29T15:45:08.783879",
     "status": "completed"
    },
    "tags": []
   },
   "outputs": [],
   "source": [
    "# Add in images from NIH dataset\n",
    "targetsize = 1024\n",
    "\n",
    "def translate_class_name(name):\n",
    "    if name == 'Effusion':\n",
    "        return 'Pleural effusion'\n",
    "    elif name == 'Infiltrate':\n",
    "        return 'Infiltration'\n",
    "    elif name == 'Mass' or name == 'Nodule':\n",
    "        return 'Nodule/Mass'\n",
    "    else:\n",
    "        return name\n",
    "\n",
    "def get_class_id(name):\n",
    "    if name == 'Atelectasis':\n",
    "        return 1\n",
    "    elif name == 'Effusion':\n",
    "        return 10\n",
    "    elif name == 'Cardiomegaly':\n",
    "        return 3\n",
    "    elif name == 'Infiltrate':\n",
    "        return 6\n",
    "    elif name == 'Pneumothorax':\n",
    "        return 12\n",
    "    elif name == 'Mass' or name == 'Nodule':\n",
    "        return 8\n",
    "    else:\n",
    "        raise Exception(f'Unknown name {name}')\n",
    "    \n",
    "def resize_img(name):\n",
    "#     Try each folder \n",
    "    baseDir = '/kaggle/input/data/'\n",
    "    for i in range(1,13):\n",
    "        imgPath = os.path.join(baseDir, f\"images_{i:03d}/images/{name}\")\n",
    "        if os.path.isfile(imgPath):\n",
    "            im = Image.open(imgPath)\n",
    "            im = im.resize((targetsize,targetsize))\n",
    "            im.save(f\"./images/{name}\")\n",
    "            break\n",
    "\n",
    "def copy_image(name):\n",
    "#     Try each folder \n",
    "    baseDir = '/kaggle/input/data/'\n",
    "    for i in range(1,13):\n",
    "        imgPath = os.path.join(baseDir, f\"images_{i:03d}/images/{name}\")\n",
    "        if os.path.isfile(imgPath):\n",
    "            %cp {imgPath} ./images/{name}\n",
    "            break\n",
    "    \n",
    "    \n",
    "def get_box_coords(row):\n",
    "    # Scale the lengths and widths down to the new image size\n",
    "    x_min = row['Bbox [x'] * (targetsize / 1024)\n",
    "    x_max = x_min + row['w'] * (targetsize / 1024)\n",
    "    y_min = row['y'] * (targetsize / 1024)\n",
    "    y_max = y_min + row['h]'] * (targetsize / 1024)\n",
    "    return {'x_min': x_min, 'x_max': x_max, 'y_min': y_min, 'y_max': y_max}\n",
    "\n",
    "def get_yolo_coords(box):\n",
    "    x_center = (box['x_min'] + box['x_max']) / (2 * targetsize)\n",
    "    y_center = (box['y_min'] + box['y_max']) / (2 * targetsize)\n",
    "    width = (box['x_max'] - box['x_min']) / targetsize\n",
    "    height = (box['y_max'] - box['y_min']) / targetsize\n",
    "    return {'x_center': x_center, 'y_center': y_center, 'width': width, 'height': height}\n",
    "\n",
    "nihf = pd.read_csv('/kaggle/input/data/Data_Entry_2017.csv')\n",
    "nih = pd.read_csv('/kaggle/input/data/BBox_List_2017.csv')\n",
    "\n",
    "to_append = [] \n",
    "\n",
    "df = pd.read_csv('/kaggle/input/vinbig1024stratified/train.csv')\n",
    "\n",
    "for idx, row in nih.iterrows():\n",
    "    \n",
    "    # Skip Pneumonia as it's not in VinbigData\n",
    "    if row['Finding Label'] == 'Pneumonia':\n",
    "        continue\n",
    "    \n",
    "    # Only include images from NIH that have the same view\n",
    "    if nihf[nihf['Image Index'] == row['Image Index']]['View Position'].item() == 'PA':\n",
    "        copy_image(row['Image Index'])\n",
    "        box_coords = get_box_coords(row)\n",
    "#         yolo_coords = get_yolo_coords(box_coords)\n",
    "        class_name = translate_class_name(row['Finding Label'])\n",
    "        class_id = get_class_id(row['Finding Label'])\n",
    "        # Strip the file extension off\n",
    "        img_id = os.path.splitext(row['Image Index'])[0]\n",
    "        to_append.append({'image_id': img_id, 'class_name': class_name, 'class_id': class_id, **box_coords})\n",
    "\n",
    "df = df.append(to_append)"
   ]
  },
  {
   "cell_type": "code",
   "execution_count": 5,
   "metadata": {
    "execution": {
     "iopub.execute_input": "2021-03-29T15:51:47.339447Z",
     "iopub.status.busy": "2021-03-29T15:51:47.338475Z",
     "iopub.status.idle": "2021-03-29T15:51:47.605506Z",
     "shell.execute_reply": "2021-03-29T15:51:47.604768Z"
    },
    "papermill": {
     "duration": 0.275419,
     "end_time": "2021-03-29T15:51:47.605705",
     "exception": false,
     "start_time": "2021-03-29T15:51:47.330286",
     "status": "completed"
    },
    "tags": []
   },
   "outputs": [],
   "source": [
    "df.to_csv('train_with_nih.csv', index=False)"
   ]
  },
  {
   "cell_type": "code",
   "execution_count": 6,
   "metadata": {
    "execution": {
     "iopub.execute_input": "2021-03-29T15:51:47.619374Z",
     "iopub.status.busy": "2021-03-29T15:51:47.618476Z",
     "iopub.status.idle": "2021-03-29T15:51:54.522444Z",
     "shell.execute_reply": "2021-03-29T15:51:54.521797Z"
    },
    "papermill": {
     "duration": 6.911775,
     "end_time": "2021-03-29T15:51:54.522582",
     "exception": false,
     "start_time": "2021-03-29T15:51:47.610807",
     "status": "completed"
    },
    "tags": []
   },
   "outputs": [],
   "source": [
    "%%bash\n",
    "# Zip the contents of the folder and delete the original files\n",
    "zip -r -q ../output.zip .\n",
    "cd ..\n",
    "rm -rf vinbigdata-mlp-1024-images"
   ]
  }
 ],
 "metadata": {
  "kernelspec": {
   "display_name": "Python 3",
   "language": "python",
   "name": "python3"
  },
  "language_info": {
   "codemirror_mode": {
    "name": "ipython",
    "version": 3
   },
   "file_extension": ".py",
   "mimetype": "text/x-python",
   "name": "python",
   "nbconvert_exporter": "python",
   "pygments_lexer": "ipython3",
   "version": "3.7.9"
  },
  "papermill": {
   "default_parameters": {},
   "duration": 415.96113,
   "end_time": "2021-03-29T15:51:56.132335",
   "environment_variables": {},
   "exception": null,
   "input_path": "__notebook__.ipynb",
   "output_path": "__notebook__.ipynb",
   "parameters": {},
   "start_time": "2021-03-29T15:45:00.171205",
   "version": "2.2.2"
  }
 },
 "nbformat": 4,
 "nbformat_minor": 4
}
