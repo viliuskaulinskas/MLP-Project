{
 "cells": [
  {
   "cell_type": "code",
   "execution_count": 1,
   "metadata": {
    "_cell_guid": "47c21607-5593-41aa-b507-cd4171a8c2e6",
    "_uuid": "3716c3b0-e74b-450e-b97d-a84524da2694",
    "execution": {
     "iopub.execute_input": "2021-03-27T17:03:00.003930Z",
     "iopub.status.busy": "2021-03-27T17:03:00.003285Z",
     "iopub.status.idle": "2021-03-27T17:03:00.011556Z",
     "shell.execute_reply": "2021-03-27T17:03:00.010794Z"
    },
    "papermill": {
     "duration": 0.019481,
     "end_time": "2021-03-27T17:03:00.011757",
     "exception": false,
     "start_time": "2021-03-27T17:02:59.992276",
     "status": "completed"
    },
    "tags": []
   },
   "outputs": [],
   "source": [
    "import numpy as np\n",
    "import os\n",
    "from tqdm.auto import tqdm\n",
    "# from pathos.multiprocessing import ProcessingPool as Pool\n",
    "# from functools import partial\n",
    "import pandas as pd\n",
    "from PIL import Image"
   ]
  },
  {
   "cell_type": "code",
   "execution_count": 2,
   "metadata": {
    "_cell_guid": "bfa2131e-3ba6-4bcd-a22c-27b2c4bf04be",
    "_uuid": "8f7b9a58-5295-4165-9635-836347d6da58",
    "execution": {
     "iopub.execute_input": "2021-03-27T17:03:00.037292Z",
     "iopub.status.busy": "2021-03-27T17:03:00.027403Z",
     "iopub.status.idle": "2021-03-27T17:03:02.395776Z",
     "shell.execute_reply": "2021-03-27T17:03:02.395146Z"
    },
    "papermill": {
     "duration": 2.378833,
     "end_time": "2021-03-27T17:03:02.395913",
     "exception": false,
     "start_time": "2021-03-27T17:03:00.017080",
     "status": "completed"
    },
    "tags": []
   },
   "outputs": [
    {
     "name": "stdout",
     "output_type": "stream",
     "text": [
      "Cloning into 'ScaledYOLOv4'...\r\n",
      "remote: Enumerating objects: 28, done.\u001b[K\r\n",
      "remote: Counting objects: 100% (28/28), done.\u001b[K\r\n",
      "remote: Compressing objects: 100% (19/19), done.\u001b[K\r\n",
      "remote: Total 156 (delta 18), reused 19 (delta 9), pack-reused 128\u001b[K\r\n",
      "Receiving objects: 100% (156/156), 355.12 KiB | 4.38 MiB/s, done.\r\n",
      "Resolving deltas: 100% (70/70), done.\r\n",
      "/kaggle/working/ScaledYOLOv4\n",
      "Branch 'yolov4-large' set up to track remote branch 'yolov4-large' from 'origin'.\r\n",
      "Switched to a new branch 'yolov4-large'\r\n"
     ]
    }
   ],
   "source": [
    "# clone Scaled_YOLOv4\n",
    "!git clone https://github.com/tom-auger/ScaledYOLOv4.git\n",
    "%cd ScaledYOLOv4/\n",
    "#checkout the yolov4-large branch\n",
    "!git checkout yolov4-large"
   ]
  },
  {
   "cell_type": "code",
   "execution_count": 3,
   "metadata": {
    "_cell_guid": "826105be-5f89-49c5-8c14-05a0a1862383",
    "_uuid": "8f676f6f-d67f-4aac-91d6-b957d9b9b546",
    "execution": {
     "iopub.execute_input": "2021-03-27T17:03:02.416577Z",
     "iopub.status.busy": "2021-03-27T17:03:02.415826Z",
     "iopub.status.idle": "2021-03-27T17:03:02.678182Z",
     "shell.execute_reply": "2021-03-27T17:03:02.678749Z"
    },
    "papermill": {
     "duration": 0.275744,
     "end_time": "2021-03-27T17:03:02.678930",
     "exception": false,
     "start_time": "2021-03-27T17:03:02.403186",
     "status": "completed"
    },
    "tags": []
   },
   "outputs": [],
   "source": [
    "df_train = pd.read_csv('/kaggle/input/mlpyoloall/train.csv')\n",
    "df_val = pd.read_csv('/kaggle/input/mlpyoloall/validation.csv')\n",
    "df_test = pd.read_csv('/kaggle/input/mlpyoloall/test.csv')"
   ]
  },
  {
   "cell_type": "code",
   "execution_count": 4,
   "metadata": {
    "_cell_guid": "2cf6a501-c0e9-42f2-ad84-9d9894dbf0a9",
    "_uuid": "8e0d311e-0610-40df-86f1-a205744ad087",
    "execution": {
     "iopub.execute_input": "2021-03-27T17:03:02.698623Z",
     "iopub.status.busy": "2021-03-27T17:03:02.697918Z",
     "iopub.status.idle": "2021-03-27T17:03:03.715641Z",
     "shell.execute_reply": "2021-03-27T17:03:03.716389Z"
    },
    "papermill": {
     "duration": 1.030624,
     "end_time": "2021-03-27T17:03:03.716609",
     "exception": false,
     "start_time": "2021-03-27T17:03:02.685985",
     "status": "completed"
    },
    "tags": []
   },
   "outputs": [
    {
     "name": "stdout",
     "output_type": "stream",
     "text": [
      "Using torch 1.7.0 CPU\n"
     ]
    }
   ],
   "source": [
    "import torch\n",
    "print('Using torch %s %s' % (torch.__version__, torch.cuda.get_device_properties(0) if torch.cuda.is_available() else 'CPU'))"
   ]
  },
  {
   "cell_type": "code",
   "execution_count": 5,
   "metadata": {
    "_cell_guid": "0c1dc1a4-5d11-4aab-8991-d3f3c657ad91",
    "_uuid": "2e35b865-77af-4290-88d5-5f62dcf7f8d7",
    "execution": {
     "iopub.execute_input": "2021-03-27T17:03:03.740675Z",
     "iopub.status.busy": "2021-03-27T17:03:03.740131Z",
     "iopub.status.idle": "2021-03-27T17:03:07.397402Z",
     "shell.execute_reply": "2021-03-27T17:03:07.398151Z"
    },
    "papermill": {
     "duration": 3.673757,
     "end_time": "2021-03-27T17:03:07.398343",
     "exception": false,
     "start_time": "2021-03-27T17:03:03.724586",
     "status": "completed"
    },
    "tags": []
   },
   "outputs": [
    {
     "name": "stdout",
     "output_type": "stream",
     "text": [
      "/kaggle/working\n",
      "Cloning into 'mish-cuda'...\r\n",
      "remote: Enumerating objects: 88, done.\u001b[K\r\n",
      "remote: Counting objects: 100% (88/88), done.\u001b[K\r\n",
      "remote: Compressing objects: 100% (75/75), done.\u001b[K\r\n",
      "remote: Total 195 (delta 7), reused 79 (delta 3), pack-reused 107\u001b[K\r\n",
      "Receiving objects: 100% (195/195), 208.77 KiB | 2.75 MiB/s, done.\r\n",
      "Resolving deltas: 100% (56/56), done.\r\n",
      "/kaggle/working/mish-cuda\n",
      "Traceback (most recent call last):\r\n",
      "  File \"setup.py\", line 26, in <module>\r\n",
      "    'nvcc': ['--expt-extended-lambda']\r\n",
      "  File \"/opt/conda/lib/python3.7/site-packages/torch/utils/cpp_extension.py\", line 783, in CUDAExtension\r\n",
      "    library_dirs += library_paths(cuda=True)\r\n",
      "  File \"/opt/conda/lib/python3.7/site-packages/torch/utils/cpp_extension.py\", line 875, in library_paths\r\n",
      "    if (not os.path.exists(_join_cuda_home(lib_dir)) and\r\n",
      "  File \"/opt/conda/lib/python3.7/site-packages/torch/utils/cpp_extension.py\", line 1794, in _join_cuda_home\r\n",
      "    raise EnvironmentError('CUDA_HOME environment variable is not set. '\r\n",
      "OSError: CUDA_HOME environment variable is not set. Please set it to your CUDA install root.\r\n",
      "/kaggle/working\n"
     ]
    }
   ],
   "source": [
    "#install mish activation funciton for cuda\n",
    "%cd ..\n",
    "!git clone https://github.com/JunnYu/mish-cuda\n",
    "%cd mish-cuda\n",
    "!python setup.py build install\n",
    "%cd .."
   ]
  },
  {
   "cell_type": "code",
   "execution_count": 6,
   "metadata": {
    "_cell_guid": "20ee2477-bb85-4061-9a12-f6f4295cee26",
    "_uuid": "4cb3e3da-d2f6-4a82-b39d-2ec9a94fc2fe",
    "execution": {
     "iopub.execute_input": "2021-03-27T17:03:07.433709Z",
     "iopub.status.busy": "2021-03-27T17:03:07.433051Z",
     "iopub.status.idle": "2021-03-27T17:03:08.333242Z",
     "shell.execute_reply": "2021-03-27T17:03:08.332568Z"
    },
    "papermill": {
     "duration": 0.925036,
     "end_time": "2021-03-27T17:03:08.333392",
     "exception": false,
     "start_time": "2021-03-27T17:03:07.408356",
     "status": "completed"
    },
    "tags": []
   },
   "outputs": [],
   "source": [
    "abnormalities = ['Aortic enlargement', 'Atelectasis', 'Calcification', 'Cardiomegaly', 'Consolidation', 'ILD', 'Infiltration', 'Lung Opacity', 'Nodule/Mass', 'Other lesion', 'Pleural effusion', 'Pleural thickening', 'Pneumothorax', 'Pulmonary fibrosis']\n",
    "\n",
    "%mkdir data\n",
    "def write_to_file(imgs, dataset_name, ab_name):\n",
    "    with open(f\"data/{dataset_name}_{ab_name}.txt\", 'wt') as f:\n",
    "        for img in imgs:\n",
    "            f.write(f\"/kaggle/input/mlpyoloall/{dataset_name}/{img}.png\\n\")\n",
    "    \n",
    "def write_yaml_file(ab):\n",
    "    with open(f\"data/{ab}.yaml\", 'wt') as f:\n",
    "        f.write(f\"\"\"train: ../data/train_{ab}.txt\n",
    "val: ../data/validation_{ab}.txt\n",
    "\n",
    "nc: 14\n",
    "names: ['Aortic enlargement', 'Atelectasis', 'Calcification', 'Cardiomegaly', 'Consolidation', 'ILD', 'Infiltration', 'Lung Opacity', 'Nodule/Mass', 'Other lesion', 'Pleural effusion', 'Pleural thickening', 'Pneumothorax', 'Pulmonary fibrosis']\n",
    "\"\"\")\n",
    "        \n",
    "for ab in abnormalities:\n",
    "    train_imgs = df_train[df_train['class_name'] == ab]['image_id'].unique()\n",
    "    val_imgs = df_val[df_val['class_name'] == ab]['image_id'].unique()\n",
    "    test_imgs = df_test[df_test['class_name'] == ab]['image_id'].unique()\n",
    "    \n",
    "    # Write each list to a data spec file\n",
    "    ab = ab.replace('/', '_').replace(' ', '_')\n",
    "    write_to_file(train_imgs, 'train', ab)\n",
    "    write_to_file(val_imgs, 'validation', ab)\n",
    "    write_to_file(test_imgs, 'test', ab)\n",
    "    \n",
    "    # Write the data yaml file\n",
    "    write_yaml_file(ab)"
   ]
  },
  {
   "cell_type": "code",
   "execution_count": 7,
   "metadata": {
    "_cell_guid": "13a4ad2e-53d1-46d5-8e8f-581d4964f184",
    "_uuid": "06057630-b2a8-47f1-9dfb-d6d057b9228f",
    "execution": {
     "iopub.execute_input": "2021-03-27T17:03:08.359073Z",
     "iopub.status.busy": "2021-03-27T17:03:08.358315Z",
     "iopub.status.idle": "2021-03-27T17:03:08.362705Z",
     "shell.execute_reply": "2021-03-27T17:03:08.362146Z"
    },
    "papermill": {
     "duration": 0.019315,
     "end_time": "2021-03-27T17:03:08.362834",
     "exception": false,
     "start_time": "2021-03-27T17:03:08.343519",
     "status": "completed"
    },
    "tags": []
   },
   "outputs": [
    {
     "name": "stdout",
     "output_type": "stream",
     "text": [
      "/kaggle/working/ScaledYOLOv4\n"
     ]
    }
   ],
   "source": [
    "%cd ScaledYOLOv4/"
   ]
  },
  {
   "cell_type": "code",
   "execution_count": 8,
   "metadata": {
    "_cell_guid": "117d0661-3de1-418d-ada1-0456acbbfe47",
    "_uuid": "3cdca7d6-f8aa-4e58-b249-cb8ea20fb774",
    "execution": {
     "iopub.execute_input": "2021-03-27T17:03:08.388603Z",
     "iopub.status.busy": "2021-03-27T17:03:08.387949Z",
     "iopub.status.idle": "2021-03-27T17:03:10.112356Z",
     "shell.execute_reply": "2021-03-27T17:03:10.111789Z"
    },
    "papermill": {
     "duration": 1.739469,
     "end_time": "2021-03-27T17:03:10.112506",
     "exception": false,
     "start_time": "2021-03-27T17:03:08.373037",
     "status": "completed"
    },
    "tags": []
   },
   "outputs": [
    {
     "name": "stdout",
     "output_type": "stream",
     "text": [
      "Traceback (most recent call last):\r\n",
      "  File \"train.py\", line 20, in <module>\r\n",
      "    import test  # import test.py to get mAP after each epoch\r\n",
      "  File \"/kaggle/working/ScaledYOLOv4/test.py\", line 13, in <module>\r\n",
      "    from models.experimental import attempt_load\r\n",
      "  File \"/kaggle/working/ScaledYOLOv4/models/experimental.py\", line 7, in <module>\r\n",
      "    from models.common import Conv, DWConv\r\n",
      "  File \"/kaggle/working/ScaledYOLOv4/models/common.py\", line 7, in <module>\r\n",
      "    from mish_cuda import MishCuda as Mish\r\n",
      "ModuleNotFoundError: No module named 'mish_cuda'\r\n"
     ]
    }
   ],
   "source": [
    "!python train.py --img 640 --batch 16 --epochs 100 --data '../data/Calcification.yaml' --cfg ./models/yolov4-csp.yaml --weights '' --name yolov4-csp-results  --cache"
   ]
  }
 ],
 "metadata": {
  "kernelspec": {
   "display_name": "Python 3",
   "language": "python",
   "name": "python3"
  },
  "language_info": {
   "codemirror_mode": {
    "name": "ipython",
    "version": 3
   },
   "file_extension": ".py",
   "mimetype": "text/x-python",
   "name": "python",
   "nbconvert_exporter": "python",
   "pygments_lexer": "ipython3",
   "version": "3.7.9"
  },
  "papermill": {
   "default_parameters": {},
   "duration": 15.857957,
   "end_time": "2021-03-27T17:03:10.732408",
   "environment_variables": {},
   "exception": null,
   "input_path": "__notebook__.ipynb",
   "output_path": "__notebook__.ipynb",
   "parameters": {},
   "start_time": "2021-03-27T17:02:54.874451",
   "version": "2.2.2"
  }
 },
 "nbformat": 4,
 "nbformat_minor": 4
}
