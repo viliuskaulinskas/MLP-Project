{
 "cells": [
  {
   "cell_type": "code",
   "execution_count": 1,
   "metadata": {
    "_cell_guid": "b1076dfc-b9ad-4769-8c92-a6c4dae69d19",
    "_uuid": "8f2839f25d086af736a60e9eeb907d3b93b6e0e5",
    "execution": {
     "iopub.execute_input": "2021-03-30T15:37:32.539233Z",
     "iopub.status.busy": "2021-03-30T15:37:32.529655Z",
     "iopub.status.idle": "2021-03-30T15:37:49.706940Z",
     "shell.execute_reply": "2021-03-30T15:37:49.707353Z"
    },
    "papermill": {
     "duration": 17.19527,
     "end_time": "2021-03-30T15:37:49.707686",
     "exception": false,
     "start_time": "2021-03-30T15:37:32.512416",
     "status": "completed"
    },
    "tags": []
   },
   "outputs": [
    {
     "name": "stdout",
     "output_type": "stream",
     "text": [
      "Collecting git+https://github.com/gautamchitnis/cocoapi.git@cocodataset-master#subdirectory=PythonAPI\r\n",
      "  Cloning https://github.com/gautamchitnis/cocoapi.git (to revision cocodataset-master) to /tmp/pip-req-build-kbal019o\r\n",
      "  Running command git clone -q https://github.com/gautamchitnis/cocoapi.git /tmp/pip-req-build-kbal019o\r\n",
      "  Running command git checkout -b cocodataset-master --track origin/cocodataset-master\r\n",
      "  Switched to a new branch 'cocodataset-master'\r\n",
      "  Branch 'cocodataset-master' set up to track remote branch 'cocodataset-master' from 'origin'.\r\n",
      "Building wheels for collected packages: pycocotools\r\n",
      "  Building wheel for pycocotools (setup.py) ... \u001b[?25l-\b \b\\\b \b|\b \b/\b \b-\b \b\\\b \bdone\r\n",
      "\u001b[?25h  Created wheel for pycocotools: filename=pycocotools-2.0-cp37-cp37m-linux_x86_64.whl size=272670 sha256=642451f8d1d736654521b3477166564cd908cd4ce5aa6238bfdfc70b09710095\r\n",
      "  Stored in directory: /tmp/pip-ephem-wheel-cache-dyhrz36o/wheels/6e/c9/59/56484d4d5ac1ab292a452b4c3870277256551505954fc4a1db\r\n",
      "Successfully built pycocotools\r\n",
      "Installing collected packages: pycocotools\r\n",
      "Successfully installed pycocotools-2.0\r\n"
     ]
    }
   ],
   "source": [
    "# Install prerequisites\n",
    "\n",
    "# Install PyCocoTools needed for FasterRCNN\n",
    "!pip install git+https://github.com/gautamchitnis/cocoapi.git@cocodataset-master#subdirectory=PythonAPI\n",
    "\n",
    "# Copy useful functions from pytorch vision tools\n",
    "%cp ../input/pytorch-vision-tools/references/detection/*.* ."
   ]
  },
  {
   "cell_type": "code",
   "execution_count": 2,
   "metadata": {
    "execution": {
     "iopub.execute_input": "2021-03-30T15:37:49.742501Z",
     "iopub.status.busy": "2021-03-30T15:37:49.741700Z",
     "iopub.status.idle": "2021-03-30T15:37:53.438960Z",
     "shell.execute_reply": "2021-03-30T15:37:53.437916Z"
    },
    "papermill": {
     "duration": 3.717339,
     "end_time": "2021-03-30T15:37:53.439114",
     "exception": false,
     "start_time": "2021-03-30T15:37:49.721775",
     "status": "completed"
    },
    "tags": []
   },
   "outputs": [],
   "source": [
    "# Import required libraries\n",
    "import numpy as np\n",
    "import pandas as pd\n",
    "from torch import nn\n",
    "from torch.utils.data import Dataset, DataLoader, Subset\n",
    "from PIL import Image\n",
    "import torchvision\n",
    "from torchvision.models.detection.faster_rcnn import FastRCNNPredictor\n",
    "from torchvision import models\n",
    "from os import path\n",
    "import torch\n",
    "import torchvision.utils\n",
    "import utils\n",
    "from engine import train_one_epoch, evaluate\n",
    "from torch.optim.lr_scheduler import CosineAnnealingLR\n",
    "from torch.optim import Adam\n",
    "import albumentations as A\n",
    "from albumentations.pytorch.transforms import ToTensorV2\n",
    "import pickle\n",
    "import time\n",
    "import matplotlib.pyplot as plt\n",
    "import tqdm\n",
    "from sklearn.model_selection import train_test_split\n",
    "import os\n",
    "import argparse\n",
    "import torch\n",
    "import torch.nn as nn\n",
    "import torch.nn.functional as F\n",
    "import torch.optim as optim\n",
    "from torchvision import datasets, transforms\n",
    "from torch.optim.lr_scheduler import StepLR\n",
    "from sklearn.metrics import recall_score, precision_score\n",
    "import copy"
   ]
  },
  {
   "cell_type": "code",
   "execution_count": 3,
   "metadata": {
    "execution": {
     "iopub.execute_input": "2021-03-30T15:37:53.471833Z",
     "iopub.status.busy": "2021-03-30T15:37:53.471141Z",
     "iopub.status.idle": "2021-03-30T15:37:53.473585Z",
     "shell.execute_reply": "2021-03-30T15:37:53.474071Z"
    },
    "papermill": {
     "duration": 0.021052,
     "end_time": "2021-03-30T15:37:53.474199",
     "exception": false,
     "start_time": "2021-03-30T15:37:53.453147",
     "status": "completed"
    },
    "tags": []
   },
   "outputs": [],
   "source": [
    "%matplotlib inline\n",
    "import warnings\n",
    "warnings.filterwarnings(\"ignore\", category=DeprecationWarning)"
   ]
  },
  {
   "cell_type": "code",
   "execution_count": 4,
   "metadata": {
    "execution": {
     "iopub.execute_input": "2021-03-30T15:37:53.513551Z",
     "iopub.status.busy": "2021-03-30T15:37:53.512975Z",
     "iopub.status.idle": "2021-03-30T15:37:53.791589Z",
     "shell.execute_reply": "2021-03-30T15:37:53.791972Z"
    },
    "papermill": {
     "duration": 0.30496,
     "end_time": "2021-03-30T15:37:53.792135",
     "exception": false,
     "start_time": "2021-03-30T15:37:53.487175",
     "status": "completed"
    },
    "tags": []
   },
   "outputs": [
    {
     "name": "stdout",
     "output_type": "stream",
     "text": [
      "11965 images-train\n",
      "54046 annotations-train\n",
      "1515 images-val\n",
      "6867 annotations-val\n"
     ]
    }
   ],
   "source": [
    "# Load the training data csv file\n",
    "data_dir = \"../input/vinbig1024stratified\"\n",
    "\n",
    "df_train = pd.read_csv(f\"{data_dir}/train.csv\")\n",
    "df_val = pd.read_csv(f\"{data_dir}/validation.csv\")\n",
    "\n",
    "# Remove images that do not contain any anomolies\n",
    "#df_train = df_train[df_train[\"class_id\"]!=14]\n",
    "\n",
    "# Print out the total number of images and the total number of annotations \n",
    "print(f\"{df_train['image_id'].nunique()} images-train\")\n",
    "print(f\"{len(df_train.index)} annotations-train\")\n",
    "\n",
    "print(f\"{df_val['image_id'].nunique()} images-val\")\n",
    "print(f\"{len(df_val.index)} annotations-val\")"
   ]
  },
  {
   "cell_type": "code",
   "execution_count": 5,
   "metadata": {
    "execution": {
     "iopub.execute_input": "2021-03-30T15:37:53.827943Z",
     "iopub.status.busy": "2021-03-30T15:37:53.827200Z",
     "iopub.status.idle": "2021-03-30T15:37:53.854506Z",
     "shell.execute_reply": "2021-03-30T15:37:53.854079Z"
    },
    "papermill": {
     "duration": 0.048685,
     "end_time": "2021-03-30T15:37:53.854635",
     "exception": false,
     "start_time": "2021-03-30T15:37:53.805950",
     "status": "completed"
    },
    "tags": []
   },
   "outputs": [
    {
     "name": "stderr",
     "output_type": "stream",
     "text": [
      "/opt/conda/lib/python3.7/site-packages/ipykernel_launcher.py:2: SettingWithCopyWarning: \n",
      "A value is trying to be set on a copy of a slice from a DataFrame.\n",
      "Try using .loc[row_indexer,col_indexer] = value instead\n",
      "\n",
      "See the caveats in the documentation: https://pandas.pydata.org/pandas-docs/stable/user_guide/indexing.html#returning-a-view-versus-a-copy\n",
      "  \n"
     ]
    }
   ],
   "source": [
    "df_classificaition_train = df_train[[\"image_id\", \"class_id\"]]\n",
    "df_classificaition_train[\"class_id\"] = np.where((df_classificaition_train.class_id == 14),0,1)\n",
    "df_classificaition_train = df_classificaition_train.drop_duplicates()"
   ]
  },
  {
   "cell_type": "code",
   "execution_count": 6,
   "metadata": {
    "execution": {
     "iopub.execute_input": "2021-03-30T15:37:53.888886Z",
     "iopub.status.busy": "2021-03-30T15:37:53.888289Z",
     "iopub.status.idle": "2021-03-30T15:37:53.898419Z",
     "shell.execute_reply": "2021-03-30T15:37:53.897903Z"
    },
    "papermill": {
     "duration": 0.029763,
     "end_time": "2021-03-30T15:37:53.898560",
     "exception": false,
     "start_time": "2021-03-30T15:37:53.868797",
     "status": "completed"
    },
    "tags": []
   },
   "outputs": [
    {
     "data": {
      "text/plain": [
       "0    8480\n",
       "1    3485\n",
       "Name: class_id, dtype: int64"
      ]
     },
     "execution_count": 6,
     "metadata": {},
     "output_type": "execute_result"
    }
   ],
   "source": [
    "df_classificaition_train[\"class_id\"].value_counts()"
   ]
  },
  {
   "cell_type": "code",
   "execution_count": 7,
   "metadata": {
    "execution": {
     "iopub.execute_input": "2021-03-30T15:37:53.931250Z",
     "iopub.status.busy": "2021-03-30T15:37:53.930753Z",
     "iopub.status.idle": "2021-03-30T15:37:53.940972Z",
     "shell.execute_reply": "2021-03-30T15:37:53.940220Z"
    },
    "papermill": {
     "duration": 0.028341,
     "end_time": "2021-03-30T15:37:53.941105",
     "exception": false,
     "start_time": "2021-03-30T15:37:53.912764",
     "status": "completed"
    },
    "tags": []
   },
   "outputs": [],
   "source": [
    "excess_non_abnormal_imgs = df_classificaition_train[\"class_id\"].value_counts()[0] - df_classificaition_train[\"class_id\"].value_counts()[1]\n",
    "extra_abnormals_df = df_classificaition_train[df_classificaition_train[\"class_id\"]==1].sample(n=excess_non_abnormal_imgs, replace=True)\n",
    "df_classificaition_train = df_classificaition_train.append(extra_abnormals_df, ignore_index = True)"
   ]
  },
  {
   "cell_type": "code",
   "execution_count": 8,
   "metadata": {
    "execution": {
     "iopub.execute_input": "2021-03-30T15:37:53.973084Z",
     "iopub.status.busy": "2021-03-30T15:37:53.972581Z",
     "iopub.status.idle": "2021-03-30T15:37:53.980365Z",
     "shell.execute_reply": "2021-03-30T15:37:53.979941Z"
    },
    "papermill": {
     "duration": 0.025009,
     "end_time": "2021-03-30T15:37:53.980486",
     "exception": false,
     "start_time": "2021-03-30T15:37:53.955477",
     "status": "completed"
    },
    "tags": []
   },
   "outputs": [
    {
     "data": {
      "text/plain": [
       "1    8480\n",
       "0    8480\n",
       "Name: class_id, dtype: int64"
      ]
     },
     "execution_count": 8,
     "metadata": {},
     "output_type": "execute_result"
    }
   ],
   "source": [
    "df_classificaition_train[\"class_id\"].value_counts()"
   ]
  },
  {
   "cell_type": "code",
   "execution_count": 9,
   "metadata": {
    "execution": {
     "iopub.execute_input": "2021-03-30T15:37:54.019139Z",
     "iopub.status.busy": "2021-03-30T15:37:54.016262Z",
     "iopub.status.idle": "2021-03-30T15:37:54.022863Z",
     "shell.execute_reply": "2021-03-30T15:37:54.022416Z"
    },
    "papermill": {
     "duration": 0.02651,
     "end_time": "2021-03-30T15:37:54.022969",
     "exception": false,
     "start_time": "2021-03-30T15:37:53.996459",
     "status": "completed"
    },
    "tags": []
   },
   "outputs": [
    {
     "name": "stderr",
     "output_type": "stream",
     "text": [
      "/opt/conda/lib/python3.7/site-packages/ipykernel_launcher.py:2: SettingWithCopyWarning: \n",
      "A value is trying to be set on a copy of a slice from a DataFrame.\n",
      "Try using .loc[row_indexer,col_indexer] = value instead\n",
      "\n",
      "See the caveats in the documentation: https://pandas.pydata.org/pandas-docs/stable/user_guide/indexing.html#returning-a-view-versus-a-copy\n",
      "  \n"
     ]
    }
   ],
   "source": [
    "df_classificaition_val = df_val[[\"image_id\", \"class_id\"]]\n",
    "df_classificaition_val[\"class_id\"] = np.where((df_classificaition_val.class_id == 14),0,1)\n",
    "df_classificaition_val = df_classificaition_val.drop_duplicates()"
   ]
  },
  {
   "cell_type": "code",
   "execution_count": 10,
   "metadata": {
    "execution": {
     "iopub.execute_input": "2021-03-30T15:37:54.059974Z",
     "iopub.status.busy": "2021-03-30T15:37:54.059170Z",
     "iopub.status.idle": "2021-03-30T15:37:54.062777Z",
     "shell.execute_reply": "2021-03-30T15:37:54.063176Z"
    },
    "papermill": {
     "duration": 0.024057,
     "end_time": "2021-03-30T15:37:54.063336",
     "exception": false,
     "start_time": "2021-03-30T15:37:54.039279",
     "status": "completed"
    },
    "tags": []
   },
   "outputs": [
    {
     "data": {
      "text/plain": [
       "0    1055\n",
       "1     460\n",
       "Name: class_id, dtype: int64"
      ]
     },
     "execution_count": 10,
     "metadata": {},
     "output_type": "execute_result"
    }
   ],
   "source": [
    "df_classificaition_val[\"class_id\"].value_counts()"
   ]
  },
  {
   "cell_type": "code",
   "execution_count": 11,
   "metadata": {
    "execution": {
     "iopub.execute_input": "2021-03-30T15:37:54.101402Z",
     "iopub.status.busy": "2021-03-30T15:37:54.100718Z",
     "iopub.status.idle": "2021-03-30T15:37:54.103499Z",
     "shell.execute_reply": "2021-03-30T15:37:54.103091Z"
    },
    "papermill": {
     "duration": 0.024944,
     "end_time": "2021-03-30T15:37:54.103616",
     "exception": false,
     "start_time": "2021-03-30T15:37:54.078672",
     "status": "completed"
    },
    "tags": []
   },
   "outputs": [],
   "source": [
    "# Define a dataset class which defines how to load images,targets for training and validation\n",
    "class VinBigDataset(Dataset):\n",
    "    def __init__(self, img_dir, df, transform):\n",
    "        self.img_dir = img_dir\n",
    "        self.df = df\n",
    "        self.imgs = df[\"image_id\"]\n",
    "        self.transform = transform\n",
    "        \n",
    "    def __len__(self):\n",
    "        # Return the number of elements in the dataset\n",
    "        return len(self.imgs)\n",
    "    \n",
    "    def __getitem__(self, idx):\n",
    "        # The dataset iterates over each image id\n",
    "        # Return the requested image,target from the dataset\n",
    "        \n",
    "        img_file_name = self.imgs.iloc[idx] + \".png\"\n",
    "        img = np.asarray(Image.open(os.path.join(self.img_dir, img_file_name)).convert(\"RGB\"))\n",
    "        \n",
    "        y_label = torch.tensor(float(self.df.iloc[idx, 1]))\n",
    "        if self.transform is not None:\n",
    "            img = self.transform(image=img)['image']\n",
    "            \n",
    "        img = torch.Tensor(img)\n",
    "        \n",
    "\n",
    "        return img, y_label.long()"
   ]
  },
  {
   "cell_type": "code",
   "execution_count": 12,
   "metadata": {
    "execution": {
     "iopub.execute_input": "2021-03-30T15:37:54.140921Z",
     "iopub.status.busy": "2021-03-30T15:37:54.140289Z",
     "iopub.status.idle": "2021-03-30T15:37:54.143217Z",
     "shell.execute_reply": "2021-03-30T15:37:54.142723Z"
    },
    "papermill": {
     "duration": 0.024299,
     "end_time": "2021-03-30T15:37:54.143318",
     "exception": false,
     "start_time": "2021-03-30T15:37:54.119019",
     "status": "completed"
    },
    "tags": []
   },
   "outputs": [],
   "source": [
    "def create_augmentations(train):\n",
    "    if train:\n",
    "        return A.Compose([\n",
    "                \n",
    "                A.RandomCrop(height=800,width=800),\n",
    "                A.HorizontalFlip(p=0.5),\n",
    "                A.ShiftScaleRotate(p=0.2, rotate_limit=15),\n",
    "                A.RandomBrightnessContrast(p=0.4),\n",
    "                A.Normalize(mean=(0, 0, 0), std=(1, 1, 1), max_pixel_value=255.0, p=1.0),\n",
    "                ToTensorV2(p=1.0)\n",
    "                    \n",
    "        ])\n",
    "    else:\n",
    "        return A.Compose([\n",
    "             A.Normalize(mean=(0, 0, 0), std=(1, 1, 1), max_pixel_value=255.0, p=1.0),\n",
    "            ToTensorV2(p=1.0)\n",
    "            \n",
    "        ])"
   ]
  },
  {
   "cell_type": "code",
   "execution_count": 13,
   "metadata": {
    "execution": {
     "iopub.execute_input": "2021-03-30T15:37:54.181376Z",
     "iopub.status.busy": "2021-03-30T15:37:54.180870Z",
     "iopub.status.idle": "2021-03-30T15:37:54.188266Z",
     "shell.execute_reply": "2021-03-30T15:37:54.187876Z"
    },
    "papermill": {
     "duration": 0.029433,
     "end_time": "2021-03-30T15:37:54.188372",
     "exception": false,
     "start_time": "2021-03-30T15:37:54.158939",
     "status": "completed"
    },
    "tags": []
   },
   "outputs": [
    {
     "name": "stdout",
     "output_type": "stream",
     "text": [
      "16960 items in the training set\n",
      "1515 items in the validation set\n"
     ]
    }
   ],
   "source": [
    "# Create an instance of the dataset and transformations for training\n",
    "# and validation\n",
    "img_folders = \"../input/vinbig1024stratified/output/dataset\"\n",
    "\n",
    "# train_img_dir = path.join(data_dir, 'train/train')\n",
    "train_dataset = VinBigDataset(os.path.join(img_folders, \"train\"),\n",
    "                              df_classificaition_train,\n",
    "                              create_augmentations(train=True))\n",
    "val_dataset = VinBigDataset(os.path.join(img_folders, \"validation\"),\n",
    "                            df_classificaition_val,\n",
    "                            create_augmentations(train=False))\n",
    "\n",
    "# Permute the dataset and split into training and validation set 9:1\n",
    "torch.manual_seed(5262394)\n",
    "# indices = torch.randperm(len(train_dataset)).tolist()\n",
    "# val_set_size = len(train_dataset) // 10\n",
    "\n",
    "# train_dataset = Subset(train_dataset, indices[:-val_set_size])\n",
    "# val_dataset = Subset(val_dataset, indices[-val_set_size:])\n",
    "\n",
    "# Create data loaders for the training and validation set. The collate function\n",
    "# defines how to form a minibatch from the indiviaual data items. In our case we\n",
    "# just want to collate them into a single list.\n",
    "\n",
    "data_loader_train = DataLoader(\\\n",
    "    train_dataset, batch_size=5, shuffle=True, num_workers=4)\n",
    "\n",
    "data_loader_val = DataLoader(\\\n",
    "    val_dataset, batch_size=1, shuffle=False, num_workers=4)\n",
    "\n",
    "# Print the number of elements in the test and training set\n",
    "print(f\"{len(train_dataset)} items in the training set\")\n",
    "print(f\"{len(val_dataset)} items in the validation set\")"
   ]
  },
  {
   "cell_type": "code",
   "execution_count": 14,
   "metadata": {
    "execution": {
     "iopub.execute_input": "2021-03-30T15:37:54.238718Z",
     "iopub.status.busy": "2021-03-30T15:37:54.237809Z",
     "iopub.status.idle": "2021-03-30T15:37:54.240561Z",
     "shell.execute_reply": "2021-03-30T15:37:54.240052Z"
    },
    "papermill": {
     "duration": 0.036496,
     "end_time": "2021-03-30T15:37:54.240750",
     "exception": false,
     "start_time": "2021-03-30T15:37:54.204254",
     "status": "completed"
    },
    "tags": []
   },
   "outputs": [],
   "source": [
    "def train_model(model, dataloaders, criterion, optimizer, num_epochs=25, is_inception=False):\n",
    "    since = time.time()\n",
    "\n",
    "    val_acc_history = []\n",
    "    val_precision_recall_history = []\n",
    "    train_acc_history = []\n",
    "    train_precision_recall_history = []\n",
    "\n",
    "    best_model_wts = copy.deepcopy(model.state_dict())\n",
    "    best_acc = 0.0\n",
    "    \n",
    "    lr_scheduler = None\n",
    "    # set lr schedule\n",
    "    warmup_factor = 1. / 1000\n",
    "    warmup_iters = min(1000, len(dataloaders['train']) - 1)\n",
    "\n",
    "    lr_scheduler = utils.warmup_lr_scheduler(optimizer, warmup_iters, warmup_factor)\n",
    "\n",
    "    for epoch in range(num_epochs):\n",
    "        print('Epoch {}/{}'.format(epoch, num_epochs - 1))\n",
    "        print('-' * 10)\n",
    "\n",
    "        # Each epoch has a training and validation phase\n",
    "        for phase in ['train', 'val']:\n",
    "            if phase == 'train':\n",
    "                model.train()  # Set model to training mode\n",
    "            else:\n",
    "                model.eval()   # Set model to evaluate mode\n",
    "\n",
    "            running_loss = 0.0\n",
    "            running_corrects = 0\n",
    "            running_precision = 0\n",
    "            running_recall = 0\n",
    "\n",
    "            # Iterate over data.\n",
    "            for inputs, labels in tqdm.tqdm(dataloaders[phase]):\n",
    "                inputs = inputs.to(device)\n",
    "                labels = labels.to(device)\n",
    "\n",
    "                # zero the parameter gradients\n",
    "                optimizer.zero_grad()\n",
    "\n",
    "                # forward\n",
    "                # track history if only in train\n",
    "                with torch.set_grad_enabled(phase == 'train'):\n",
    "                    # Get model outputs and calculate loss\n",
    "                    # Special case for inception because in training it has an auxiliary output. In train\n",
    "                    #   mode we calculate the loss by summing the final output and the auxiliary output\n",
    "                    #   but in testing we only consider the final output.\n",
    "                    if is_inception and phase == 'train':\n",
    "                        # From https://discuss.pytorch.org/t/how-to-optimize-inception-model-with-auxiliary-classifiers/7958\n",
    "                        outputs, aux_outputs = model(inputs)\n",
    "                        loss1 = criterion(outputs, labels)\n",
    "                        loss2 = criterion(aux_outputs, labels)\n",
    "                        loss = loss1 + 0.4*loss2\n",
    "                    else:\n",
    "                        outputs = model(inputs)\n",
    "                        loss = criterion(outputs, labels)\n",
    "\n",
    "                    _, preds = torch.max(outputs, 1)\n",
    "\n",
    "                    # backward + optimize only if in training phase\n",
    "                    if phase == 'train':\n",
    "                        loss.backward()\n",
    "                        optimizer.step()\n",
    "\n",
    "                # statistics\n",
    "                running_precision += precision_score(y_true=labels.cpu().detach().numpy(), y_pred=preds.cpu().detach().numpy(),\n",
    "                                                    zero_division=0)\n",
    "                running_recall += recall_score(y_true=labels.cpu().detach().numpy(), y_pred=preds.cpu().detach().numpy(),\n",
    "                                              zero_division=0)\n",
    "                running_loss += loss.item() * inputs.size(0)\n",
    "                running_corrects += torch.sum(preds == labels.data)\n",
    "\n",
    "            epoch_precision = running_precision / len(dataloaders[phase].dataset)\n",
    "            epoch_recall = running_recall / len(dataloaders[phase].dataset)\n",
    "            epoch_loss = running_loss / len(dataloaders[phase].dataset)\n",
    "            epoch_acc = running_corrects.double() / len(dataloaders[phase].dataset)\n",
    "\n",
    "            print('{} Loss: {:.4f} Acc: {:.4f}'.format(phase, epoch_loss, epoch_acc))\n",
    "            print('{} Precision: {:.4f} Recall: {:.4f}'.format(phase, epoch_precision, epoch_recall))\n",
    "            \n",
    "            # deep copy the model\n",
    "            if phase == 'val' and epoch_acc > best_acc:\n",
    "                best_acc = epoch_acc\n",
    "                best_model_wts = copy.deepcopy(model.state_dict())\n",
    "            if phase == 'val':\n",
    "                val_acc_history.append(epoch_acc)\n",
    "                val_precision_recall_history.append([epoch_precision, epoch_recall])\n",
    "            elif phase == 'train':\n",
    "                train_acc_history.append(epoch_acc)\n",
    "                train_precision_recall_history.append([epoch_precision, epoch_recall])\n",
    "        \n",
    "        if lr_scheduler is not None:\n",
    "            lr_scheduler.step()\n",
    "        \n",
    "        print()\n",
    "\n",
    "    time_elapsed = time.time() - since\n",
    "    print('Training complete in {:.0f}m {:.0f}s'.format(time_elapsed // 60, time_elapsed % 60))\n",
    "    print('Best val Acc: {:4f}'.format(best_acc))\n",
    "    \n",
    "    \n",
    "\n",
    "    # load best model weights\n",
    "    model.load_state_dict(best_model_wts)\n",
    "    return model, [train_acc_history, train_precision_recall_history], [val_acc_history, val_precision_recall_history]"
   ]
  },
  {
   "cell_type": "code",
   "execution_count": 15,
   "metadata": {
    "execution": {
     "iopub.execute_input": "2021-03-30T15:37:54.279635Z",
     "iopub.status.busy": "2021-03-30T15:37:54.279021Z",
     "iopub.status.idle": "2021-03-30T15:37:57.804300Z",
     "shell.execute_reply": "2021-03-30T15:37:57.803818Z"
    },
    "papermill": {
     "duration": 3.547674,
     "end_time": "2021-03-30T15:37:57.804424",
     "exception": false,
     "start_time": "2021-03-30T15:37:54.256750",
     "status": "completed"
    },
    "tags": []
   },
   "outputs": [
    {
     "name": "stderr",
     "output_type": "stream",
     "text": [
      "Downloading: \"https://download.pytorch.org/models/inception_v3_google-1a9a5a14.pth\" to /root/.cache/torch/hub/checkpoints/inception_v3_google-1a9a5a14.pth\n"
     ]
    },
    {
     "data": {
      "application/vnd.jupyter.widget-view+json": {
       "model_id": "aed9338afe84476c8614d4e2d1738f5b",
       "version_major": 2,
       "version_minor": 0
      },
      "text/plain": [
       "  0%|          | 0.00/104M [00:00<?, ?B/s]"
      ]
     },
     "metadata": {},
     "output_type": "display_data"
    }
   ],
   "source": [
    "def set_parameter_requires_grad(model, feature_extracting):\n",
    "    if feature_extracting:\n",
    "        for param in model.parameters():\n",
    "            param.requires_grad = False\n",
    "            \n",
    "            \n",
    "def initialize_model(num_classes, feature_extract, use_pretrained=True):\n",
    "    # Initialize these variables which will be set in this if statement. Each of these\n",
    "    #   variables is model specific.\n",
    "    model_ft = None\n",
    "    input_size = 0\n",
    "\n",
    "    model_name = \"inception\"\n",
    "    \"\"\" Inception v3\n",
    "    Be careful, expects (299,299) sized images and has auxiliary output\n",
    "    \"\"\"\n",
    "    model_ft = models.inception_v3(pretrained=use_pretrained)\n",
    "    set_parameter_requires_grad(model_ft, feature_extract)\n",
    "    # Handle the auxilary net\n",
    "    num_ftrs = model_ft.AuxLogits.fc.in_features\n",
    "    model_ft.AuxLogits.fc = nn.Linear(num_ftrs, num_classes)\n",
    "    # Handle the primary net\n",
    "    num_ftrs = model_ft.fc.in_features\n",
    "    model_ft.fc = nn.Linear(num_ftrs,num_classes)\n",
    "    input_size = 800\n",
    "\n",
    "    return model_ft, input_size\n",
    "\n",
    "\n",
    "# Initialize the model for this run\n",
    "feature_extract=True\n",
    "model_ft, input_size = initialize_model(num_classes=2, feature_extract=True, use_pretrained=True)"
   ]
  },
  {
   "cell_type": "code",
   "execution_count": 16,
   "metadata": {
    "execution": {
     "iopub.execute_input": "2021-03-30T15:37:58.209272Z",
     "iopub.status.busy": "2021-03-30T15:37:58.204353Z",
     "iopub.status.idle": "2021-03-30T15:38:02.159110Z",
     "shell.execute_reply": "2021-03-30T15:38:02.157606Z"
    },
    "papermill": {
     "duration": 4.33743,
     "end_time": "2021-03-30T15:38:02.159241",
     "exception": false,
     "start_time": "2021-03-30T15:37:57.821811",
     "status": "completed"
    },
    "tags": []
   },
   "outputs": [
    {
     "name": "stdout",
     "output_type": "stream",
     "text": [
      "Params to learn:\n",
      "\t AuxLogits.fc.weight\n",
      "\t AuxLogits.fc.bias\n",
      "\t fc.weight\n",
      "\t fc.bias\n"
     ]
    }
   ],
   "source": [
    "# Send the model to GPU\n",
    "device = torch.device('cuda') if torch.cuda.is_available() else torch.device('cpu')\n",
    "model_ft = model_ft.to(device)\n",
    "\n",
    "# Gather the parameters to be optimized/updated in this run. If we are\n",
    "#  finetuning we will be updating all parameters. However, if we are\n",
    "#  doing feature extract method, we will only update the parameters\n",
    "#  that we have just initialized, i.e. the parameters with requires_grad\n",
    "#  is True.\n",
    "params_to_update = model_ft.parameters()\n",
    "print(\"Params to learn:\")\n",
    "if feature_extract:\n",
    "    params_to_update = []\n",
    "    for name,param in model_ft.named_parameters():\n",
    "        if param.requires_grad == True:\n",
    "            params_to_update.append(param)\n",
    "            print(\"\\t\",name)\n",
    "else:\n",
    "    for name,param in model_ft.named_parameters():\n",
    "        if param.requires_grad == True:\n",
    "            print(\"\\t\",name)\n",
    "\n",
    "# Observe that all parameters are being optimized\n",
    "optimizer_ft = optim.Adam(params_to_update, lr=0.001)\n",
    "\n",
    "\n"
   ]
  },
  {
   "cell_type": "code",
   "execution_count": 17,
   "metadata": {
    "execution": {
     "iopub.execute_input": "2021-03-30T15:38:02.200928Z",
     "iopub.status.busy": "2021-03-30T15:38:02.200153Z",
     "iopub.status.idle": "2021-03-30T20:23:35.154734Z",
     "shell.execute_reply": "2021-03-30T20:23:35.155117Z"
    },
    "papermill": {
     "duration": 17132.97815,
     "end_time": "2021-03-30T20:23:35.155297",
     "exception": false,
     "start_time": "2021-03-30T15:38:02.177147",
     "status": "completed"
    },
    "tags": []
   },
   "outputs": [
    {
     "name": "stderr",
     "output_type": "stream",
     "text": [
      "  0%|          | 0/3392 [00:00<?, ?it/s]"
     ]
    },
    {
     "name": "stdout",
     "output_type": "stream",
     "text": [
      "Epoch 0/24\n",
      "----------\n"
     ]
    },
    {
     "name": "stderr",
     "output_type": "stream",
     "text": [
      "100%|██████████| 3392/3392 [09:55<00:00,  5.69it/s]\n",
      "  0%|          | 0/1515 [00:00<?, ?it/s]"
     ]
    },
    {
     "name": "stdout",
     "output_type": "stream",
     "text": [
      "train Loss: 0.9874 Acc: 0.5081\n",
      "train Precision: 0.1016 Recall: 0.1346\n"
     ]
    },
    {
     "name": "stderr",
     "output_type": "stream",
     "text": [
      "100%|██████████| 1515/1515 [01:28<00:00, 17.05it/s]\n",
      "  0%|          | 0/3392 [00:00<?, ?it/s]"
     ]
    },
    {
     "name": "stdout",
     "output_type": "stream",
     "text": [
      "val Loss: 0.6997 Acc: 0.4172\n",
      "val Precision: 0.2396 Recall: 0.2396\n",
      "\n",
      "Epoch 1/24\n",
      "----------\n"
     ]
    },
    {
     "name": "stderr",
     "output_type": "stream",
     "text": [
      "100%|██████████| 3392/3392 [09:56<00:00,  5.68it/s]\n",
      "  0%|          | 0/1515 [00:00<?, ?it/s]"
     ]
    },
    {
     "name": "stdout",
     "output_type": "stream",
     "text": [
      "train Loss: 0.9717 Acc: 0.5193\n",
      "train Precision: 0.1029 Recall: 0.1075\n"
     ]
    },
    {
     "name": "stderr",
     "output_type": "stream",
     "text": [
      "100%|██████████| 1515/1515 [01:27<00:00, 17.26it/s]\n",
      "  0%|          | 0/3392 [00:00<?, ?it/s]"
     ]
    },
    {
     "name": "stdout",
     "output_type": "stream",
     "text": [
      "val Loss: 0.6937 Acc: 0.4812\n",
      "val Precision: 0.2191 Recall: 0.2191\n",
      "\n",
      "Epoch 2/24\n",
      "----------\n"
     ]
    },
    {
     "name": "stderr",
     "output_type": "stream",
     "text": [
      "100%|██████████| 3392/3392 [09:59<00:00,  5.66it/s]\n",
      "  0%|          | 0/1515 [00:00<?, ?it/s]"
     ]
    },
    {
     "name": "stdout",
     "output_type": "stream",
     "text": [
      "train Loss: 0.9634 Acc: 0.5259\n",
      "train Precision: 0.1038 Recall: 0.1040\n"
     ]
    },
    {
     "name": "stderr",
     "output_type": "stream",
     "text": [
      "100%|██████████| 1515/1515 [01:27<00:00, 17.35it/s]\n",
      "  0%|          | 0/3392 [00:00<?, ?it/s]"
     ]
    },
    {
     "name": "stdout",
     "output_type": "stream",
     "text": [
      "val Loss: 0.6956 Acc: 0.4475\n",
      "val Precision: 0.2502 Recall: 0.2502\n",
      "\n",
      "Epoch 3/24\n",
      "----------\n"
     ]
    },
    {
     "name": "stderr",
     "output_type": "stream",
     "text": [
      "100%|██████████| 3392/3392 [09:55<00:00,  5.70it/s]\n",
      "  0%|          | 0/1515 [00:00<?, ?it/s]"
     ]
    },
    {
     "name": "stdout",
     "output_type": "stream",
     "text": [
      "train Loss: 0.9547 Acc: 0.5373\n",
      "train Precision: 0.1072 Recall: 0.1083\n"
     ]
    },
    {
     "name": "stderr",
     "output_type": "stream",
     "text": [
      "100%|██████████| 1515/1515 [01:27<00:00, 17.31it/s]\n",
      "  0%|          | 0/3392 [00:00<?, ?it/s]"
     ]
    },
    {
     "name": "stdout",
     "output_type": "stream",
     "text": [
      "val Loss: 0.6938 Acc: 0.4581\n",
      "val Precision: 0.2587 Recall: 0.2587\n",
      "\n",
      "Epoch 4/24\n",
      "----------\n"
     ]
    },
    {
     "name": "stderr",
     "output_type": "stream",
     "text": [
      "100%|██████████| 3392/3392 [09:54<00:00,  5.70it/s]\n",
      "  0%|          | 0/1515 [00:00<?, ?it/s]"
     ]
    },
    {
     "name": "stdout",
     "output_type": "stream",
     "text": [
      "train Loss: 0.9441 Acc: 0.5556\n",
      "train Precision: 0.1104 Recall: 0.1124\n"
     ]
    },
    {
     "name": "stderr",
     "output_type": "stream",
     "text": [
      "100%|██████████| 1515/1515 [01:25<00:00, 17.73it/s]\n",
      "  0%|          | 0/3392 [00:00<?, ?it/s]"
     ]
    },
    {
     "name": "stdout",
     "output_type": "stream",
     "text": [
      "val Loss: 0.6843 Acc: 0.5413\n",
      "val Precision: 0.2508 Recall: 0.2508\n",
      "\n",
      "Epoch 5/24\n",
      "----------\n"
     ]
    },
    {
     "name": "stderr",
     "output_type": "stream",
     "text": [
      "100%|██████████| 3392/3392 [09:57<00:00,  5.68it/s]\n",
      "  0%|          | 0/1515 [00:00<?, ?it/s]"
     ]
    },
    {
     "name": "stdout",
     "output_type": "stream",
     "text": [
      "train Loss: 0.9310 Acc: 0.5723\n",
      "train Precision: 0.1150 Recall: 0.1164\n"
     ]
    },
    {
     "name": "stderr",
     "output_type": "stream",
     "text": [
      "100%|██████████| 1515/1515 [01:24<00:00, 17.93it/s]\n",
      "  0%|          | 0/3392 [00:00<?, ?it/s]"
     ]
    },
    {
     "name": "stdout",
     "output_type": "stream",
     "text": [
      "val Loss: 0.6771 Acc: 0.5776\n",
      "val Precision: 0.2376 Recall: 0.2376\n",
      "\n",
      "Epoch 6/24\n",
      "----------\n"
     ]
    },
    {
     "name": "stderr",
     "output_type": "stream",
     "text": [
      "100%|██████████| 3392/3392 [10:01<00:00,  5.64it/s]\n",
      "  0%|          | 0/1515 [00:00<?, ?it/s]"
     ]
    },
    {
     "name": "stdout",
     "output_type": "stream",
     "text": [
      "train Loss: 0.9185 Acc: 0.5889\n",
      "train Precision: 0.1192 Recall: 0.1219\n"
     ]
    },
    {
     "name": "stderr",
     "output_type": "stream",
     "text": [
      "100%|██████████| 1515/1515 [01:26<00:00, 17.60it/s]\n",
      "  0%|          | 0/3392 [00:00<?, ?it/s]"
     ]
    },
    {
     "name": "stdout",
     "output_type": "stream",
     "text": [
      "val Loss: 0.6638 Acc: 0.6779\n",
      "val Precision: 0.2257 Recall: 0.2257\n",
      "\n",
      "Epoch 7/24\n",
      "----------\n"
     ]
    },
    {
     "name": "stderr",
     "output_type": "stream",
     "text": [
      "100%|██████████| 3392/3392 [10:00<00:00,  5.65it/s]\n",
      "  0%|          | 0/1515 [00:00<?, ?it/s]"
     ]
    },
    {
     "name": "stdout",
     "output_type": "stream",
     "text": [
      "train Loss: 0.9076 Acc: 0.6030\n",
      "train Precision: 0.1228 Recall: 0.1241\n"
     ]
    },
    {
     "name": "stderr",
     "output_type": "stream",
     "text": [
      "100%|██████████| 1515/1515 [01:25<00:00, 17.80it/s]\n",
      "  0%|          | 0/3392 [00:00<?, ?it/s]"
     ]
    },
    {
     "name": "stdout",
     "output_type": "stream",
     "text": [
      "val Loss: 0.6585 Acc: 0.6587\n",
      "val Precision: 0.2264 Recall: 0.2264\n",
      "\n",
      "Epoch 8/24\n",
      "----------\n"
     ]
    },
    {
     "name": "stderr",
     "output_type": "stream",
     "text": [
      "100%|██████████| 3392/3392 [10:01<00:00,  5.64it/s]\n",
      "  0%|          | 0/1515 [00:00<?, ?it/s]"
     ]
    },
    {
     "name": "stdout",
     "output_type": "stream",
     "text": [
      "train Loss: 0.8966 Acc: 0.6152\n",
      "train Precision: 0.1249 Recall: 0.1264\n"
     ]
    },
    {
     "name": "stderr",
     "output_type": "stream",
     "text": [
      "100%|██████████| 1515/1515 [01:31<00:00, 16.52it/s]\n",
      "  0%|          | 0/3392 [00:00<?, ?it/s]"
     ]
    },
    {
     "name": "stdout",
     "output_type": "stream",
     "text": [
      "val Loss: 0.6472 Acc: 0.7089\n",
      "val Precision: 0.2238 Recall: 0.2238\n",
      "\n",
      "Epoch 9/24\n",
      "----------\n"
     ]
    },
    {
     "name": "stderr",
     "output_type": "stream",
     "text": [
      "100%|██████████| 3392/3392 [10:01<00:00,  5.64it/s]\n",
      "  0%|          | 0/1515 [00:00<?, ?it/s]"
     ]
    },
    {
     "name": "stdout",
     "output_type": "stream",
     "text": [
      "train Loss: 0.8863 Acc: 0.6279\n",
      "train Precision: 0.1280 Recall: 0.1266\n"
     ]
    },
    {
     "name": "stderr",
     "output_type": "stream",
     "text": [
      "100%|██████████| 1515/1515 [01:26<00:00, 17.61it/s]\n",
      "  0%|          | 0/3392 [00:00<?, ?it/s]"
     ]
    },
    {
     "name": "stdout",
     "output_type": "stream",
     "text": [
      "val Loss: 0.6332 Acc: 0.7149\n",
      "val Precision: 0.2092 Recall: 0.2092\n",
      "\n",
      "Epoch 10/24\n",
      "----------\n"
     ]
    },
    {
     "name": "stderr",
     "output_type": "stream",
     "text": [
      "100%|██████████| 3392/3392 [10:03<00:00,  5.62it/s]\n",
      "  0%|          | 0/1515 [00:00<?, ?it/s]"
     ]
    },
    {
     "name": "stdout",
     "output_type": "stream",
     "text": [
      "train Loss: 0.8750 Acc: 0.6330\n",
      "train Precision: 0.1300 Recall: 0.1292\n"
     ]
    },
    {
     "name": "stderr",
     "output_type": "stream",
     "text": [
      "100%|██████████| 1515/1515 [01:24<00:00, 17.90it/s]\n",
      "  0%|          | 0/3392 [00:00<?, ?it/s]"
     ]
    },
    {
     "name": "stdout",
     "output_type": "stream",
     "text": [
      "val Loss: 0.6469 Acc: 0.6508\n",
      "val Precision: 0.2449 Recall: 0.2449\n",
      "\n",
      "Epoch 11/24\n",
      "----------\n"
     ]
    },
    {
     "name": "stderr",
     "output_type": "stream",
     "text": [
      "100%|██████████| 3392/3392 [09:53<00:00,  5.72it/s]\n",
      "  0%|          | 0/1515 [00:00<?, ?it/s]"
     ]
    },
    {
     "name": "stdout",
     "output_type": "stream",
     "text": [
      "train Loss: 0.8675 Acc: 0.6419\n",
      "train Precision: 0.1313 Recall: 0.1304\n"
     ]
    },
    {
     "name": "stderr",
     "output_type": "stream",
     "text": [
      "100%|██████████| 1515/1515 [01:25<00:00, 17.81it/s]\n",
      "  0%|          | 0/3392 [00:00<?, ?it/s]"
     ]
    },
    {
     "name": "stdout",
     "output_type": "stream",
     "text": [
      "val Loss: 0.6588 Acc: 0.5993\n",
      "val Precision: 0.2812 Recall: 0.2812\n",
      "\n",
      "Epoch 12/24\n",
      "----------\n"
     ]
    },
    {
     "name": "stderr",
     "output_type": "stream",
     "text": [
      "100%|██████████| 3392/3392 [09:58<00:00,  5.67it/s]\n",
      "  0%|          | 0/1515 [00:00<?, ?it/s]"
     ]
    },
    {
     "name": "stdout",
     "output_type": "stream",
     "text": [
      "train Loss: 0.8571 Acc: 0.6514\n",
      "train Precision: 0.1334 Recall: 0.1322\n"
     ]
    },
    {
     "name": "stderr",
     "output_type": "stream",
     "text": [
      "100%|██████████| 1515/1515 [01:33<00:00, 16.27it/s]\n",
      "  0%|          | 0/3392 [00:00<?, ?it/s]"
     ]
    },
    {
     "name": "stdout",
     "output_type": "stream",
     "text": [
      "val Loss: 0.6312 Acc: 0.6752\n",
      "val Precision: 0.2462 Recall: 0.2462\n",
      "\n",
      "Epoch 13/24\n",
      "----------\n"
     ]
    },
    {
     "name": "stderr",
     "output_type": "stream",
     "text": [
      "100%|██████████| 3392/3392 [09:56<00:00,  5.69it/s]\n",
      "  0%|          | 0/1515 [00:00<?, ?it/s]"
     ]
    },
    {
     "name": "stdout",
     "output_type": "stream",
     "text": [
      "train Loss: 0.8490 Acc: 0.6566\n",
      "train Precision: 0.1341 Recall: 0.1347\n"
     ]
    },
    {
     "name": "stderr",
     "output_type": "stream",
     "text": [
      "100%|██████████| 1515/1515 [01:25<00:00, 17.78it/s]\n",
      "  0%|          | 0/3392 [00:00<?, ?it/s]"
     ]
    },
    {
     "name": "stdout",
     "output_type": "stream",
     "text": [
      "val Loss: 0.6244 Acc: 0.6825\n",
      "val Precision: 0.2561 Recall: 0.2561\n",
      "\n",
      "Epoch 14/24\n",
      "----------\n"
     ]
    },
    {
     "name": "stderr",
     "output_type": "stream",
     "text": [
      "100%|██████████| 3392/3392 [09:55<00:00,  5.69it/s]\n",
      "  0%|          | 0/1515 [00:00<?, ?it/s]"
     ]
    },
    {
     "name": "stdout",
     "output_type": "stream",
     "text": [
      "train Loss: 0.8409 Acc: 0.6620\n",
      "train Precision: 0.1360 Recall: 0.1357\n"
     ]
    },
    {
     "name": "stderr",
     "output_type": "stream",
     "text": [
      "100%|██████████| 1515/1515 [01:25<00:00, 17.71it/s]\n",
      "  0%|          | 0/3392 [00:00<?, ?it/s]"
     ]
    },
    {
     "name": "stdout",
     "output_type": "stream",
     "text": [
      "val Loss: 0.6145 Acc: 0.7122\n",
      "val Precision: 0.2495 Recall: 0.2495\n",
      "\n",
      "Epoch 15/24\n",
      "----------\n"
     ]
    },
    {
     "name": "stderr",
     "output_type": "stream",
     "text": [
      "100%|██████████| 3392/3392 [09:56<00:00,  5.69it/s]\n",
      "  0%|          | 0/1515 [00:00<?, ?it/s]"
     ]
    },
    {
     "name": "stdout",
     "output_type": "stream",
     "text": [
      "train Loss: 0.8331 Acc: 0.6728\n",
      "train Precision: 0.1373 Recall: 0.1357\n"
     ]
    },
    {
     "name": "stderr",
     "output_type": "stream",
     "text": [
      "100%|██████████| 1515/1515 [01:25<00:00, 17.75it/s]\n",
      "  0%|          | 0/3392 [00:00<?, ?it/s]"
     ]
    },
    {
     "name": "stdout",
     "output_type": "stream",
     "text": [
      "val Loss: 0.6580 Acc: 0.5743\n",
      "val Precision: 0.2924 Recall: 0.2924\n",
      "\n",
      "Epoch 16/24\n",
      "----------\n"
     ]
    },
    {
     "name": "stderr",
     "output_type": "stream",
     "text": [
      "100%|██████████| 3392/3392 [09:55<00:00,  5.69it/s]\n",
      "  0%|          | 0/1515 [00:00<?, ?it/s]"
     ]
    },
    {
     "name": "stdout",
     "output_type": "stream",
     "text": [
      "train Loss: 0.8276 Acc: 0.6712\n",
      "train Precision: 0.1376 Recall: 0.1384\n"
     ]
    },
    {
     "name": "stderr",
     "output_type": "stream",
     "text": [
      "100%|██████████| 1515/1515 [01:25<00:00, 17.62it/s]\n",
      "  0%|          | 0/3392 [00:00<?, ?it/s]"
     ]
    },
    {
     "name": "stdout",
     "output_type": "stream",
     "text": [
      "val Loss: 0.5979 Acc: 0.7393\n",
      "val Precision: 0.2508 Recall: 0.2508\n",
      "\n",
      "Epoch 17/24\n",
      "----------\n"
     ]
    },
    {
     "name": "stderr",
     "output_type": "stream",
     "text": [
      "100%|██████████| 3392/3392 [09:57<00:00,  5.68it/s]\n",
      "  0%|          | 0/1515 [00:00<?, ?it/s]"
     ]
    },
    {
     "name": "stdout",
     "output_type": "stream",
     "text": [
      "train Loss: 0.8229 Acc: 0.6746\n",
      "train Precision: 0.1383 Recall: 0.1375\n"
     ]
    },
    {
     "name": "stderr",
     "output_type": "stream",
     "text": [
      "100%|██████████| 1515/1515 [01:37<00:00, 15.54it/s]\n",
      "  0%|          | 0/3392 [00:00<?, ?it/s]"
     ]
    },
    {
     "name": "stdout",
     "output_type": "stream",
     "text": [
      "val Loss: 0.6192 Acc: 0.6634\n",
      "val Precision: 0.2779 Recall: 0.2779\n",
      "\n",
      "Epoch 18/24\n",
      "----------\n"
     ]
    },
    {
     "name": "stderr",
     "output_type": "stream",
     "text": [
      "100%|██████████| 3392/3392 [09:58<00:00,  5.67it/s]\n",
      "  0%|          | 0/1515 [00:00<?, ?it/s]"
     ]
    },
    {
     "name": "stdout",
     "output_type": "stream",
     "text": [
      "train Loss: 0.8167 Acc: 0.6787\n",
      "train Precision: 0.1381 Recall: 0.1384\n"
     ]
    },
    {
     "name": "stderr",
     "output_type": "stream",
     "text": [
      "100%|██████████| 1515/1515 [01:26<00:00, 17.53it/s]\n",
      "  0%|          | 0/3392 [00:00<?, ?it/s]"
     ]
    },
    {
     "name": "stdout",
     "output_type": "stream",
     "text": [
      "val Loss: 0.5581 Acc: 0.7974\n",
      "val Precision: 0.2073 Recall: 0.2073\n",
      "\n",
      "Epoch 19/24\n",
      "----------\n"
     ]
    },
    {
     "name": "stderr",
     "output_type": "stream",
     "text": [
      "100%|██████████| 3392/3392 [10:04<00:00,  5.61it/s]\n",
      "  0%|          | 0/1515 [00:00<?, ?it/s]"
     ]
    },
    {
     "name": "stdout",
     "output_type": "stream",
     "text": [
      "train Loss: 0.8119 Acc: 0.6790\n",
      "train Precision: 0.1392 Recall: 0.1383\n"
     ]
    },
    {
     "name": "stderr",
     "output_type": "stream",
     "text": [
      "100%|██████████| 1515/1515 [01:24<00:00, 17.83it/s]\n",
      "  0%|          | 0/3392 [00:00<?, ?it/s]"
     ]
    },
    {
     "name": "stdout",
     "output_type": "stream",
     "text": [
      "val Loss: 0.5890 Acc: 0.7168\n",
      "val Precision: 0.2667 Recall: 0.2667\n",
      "\n",
      "Epoch 20/24\n",
      "----------\n"
     ]
    },
    {
     "name": "stderr",
     "output_type": "stream",
     "text": [
      "100%|██████████| 3392/3392 [09:59<00:00,  5.66it/s]\n",
      "  0%|          | 0/1515 [00:00<?, ?it/s]"
     ]
    },
    {
     "name": "stdout",
     "output_type": "stream",
     "text": [
      "train Loss: 0.8100 Acc: 0.6795\n",
      "train Precision: 0.1385 Recall: 0.1386\n"
     ]
    },
    {
     "name": "stderr",
     "output_type": "stream",
     "text": [
      "100%|██████████| 1515/1515 [01:24<00:00, 17.82it/s]\n",
      "  0%|          | 0/3392 [00:00<?, ?it/s]"
     ]
    },
    {
     "name": "stdout",
     "output_type": "stream",
     "text": [
      "val Loss: 0.5906 Acc: 0.7248\n",
      "val Precision: 0.2713 Recall: 0.2713\n",
      "\n",
      "Epoch 21/24\n",
      "----------\n"
     ]
    },
    {
     "name": "stderr",
     "output_type": "stream",
     "text": [
      "100%|██████████| 3392/3392 [10:03<00:00,  5.62it/s]\n",
      "  0%|          | 0/1515 [00:00<?, ?it/s]"
     ]
    },
    {
     "name": "stdout",
     "output_type": "stream",
     "text": [
      "train Loss: 0.8061 Acc: 0.6848\n",
      "train Precision: 0.1404 Recall: 0.1410\n"
     ]
    },
    {
     "name": "stderr",
     "output_type": "stream",
     "text": [
      "100%|██████████| 1515/1515 [01:26<00:00, 17.56it/s]\n",
      "  0%|          | 0/3392 [00:00<?, ?it/s]"
     ]
    },
    {
     "name": "stdout",
     "output_type": "stream",
     "text": [
      "val Loss: 0.5716 Acc: 0.7472\n",
      "val Precision: 0.2607 Recall: 0.2607\n",
      "\n",
      "Epoch 22/24\n",
      "----------\n"
     ]
    },
    {
     "name": "stderr",
     "output_type": "stream",
     "text": [
      "100%|██████████| 3392/3392 [09:52<00:00,  5.73it/s]\n",
      "  0%|          | 0/1515 [00:00<?, ?it/s]"
     ]
    },
    {
     "name": "stdout",
     "output_type": "stream",
     "text": [
      "train Loss: 0.8019 Acc: 0.6810\n",
      "train Precision: 0.1399 Recall: 0.1392\n"
     ]
    },
    {
     "name": "stderr",
     "output_type": "stream",
     "text": [
      "100%|██████████| 1515/1515 [01:35<00:00, 15.84it/s]\n",
      "  0%|          | 0/3392 [00:00<?, ?it/s]"
     ]
    },
    {
     "name": "stdout",
     "output_type": "stream",
     "text": [
      "val Loss: 0.5520 Acc: 0.7921\n",
      "val Precision: 0.2429 Recall: 0.2429\n",
      "\n",
      "Epoch 23/24\n",
      "----------\n"
     ]
    },
    {
     "name": "stderr",
     "output_type": "stream",
     "text": [
      "100%|██████████| 3392/3392 [09:47<00:00,  5.77it/s]\n",
      "  0%|          | 0/1515 [00:00<?, ?it/s]"
     ]
    },
    {
     "name": "stdout",
     "output_type": "stream",
     "text": [
      "train Loss: 0.7991 Acc: 0.6880\n",
      "train Precision: 0.1411 Recall: 0.1400\n"
     ]
    },
    {
     "name": "stderr",
     "output_type": "stream",
     "text": [
      "100%|██████████| 1515/1515 [01:24<00:00, 17.84it/s]\n",
      "  0%|          | 0/3392 [00:00<?, ?it/s]"
     ]
    },
    {
     "name": "stdout",
     "output_type": "stream",
     "text": [
      "val Loss: 0.5798 Acc: 0.7063\n",
      "val Precision: 0.2686 Recall: 0.2686\n",
      "\n",
      "Epoch 24/24\n",
      "----------\n"
     ]
    },
    {
     "name": "stderr",
     "output_type": "stream",
     "text": [
      "100%|██████████| 3392/3392 [10:03<00:00,  5.62it/s]\n",
      "  0%|          | 0/1515 [00:00<?, ?it/s]"
     ]
    },
    {
     "name": "stdout",
     "output_type": "stream",
     "text": [
      "train Loss: 0.7972 Acc: 0.6847\n",
      "train Precision: 0.1407 Recall: 0.1413\n"
     ]
    },
    {
     "name": "stderr",
     "output_type": "stream",
     "text": [
      "100%|██████████| 1515/1515 [01:25<00:00, 17.71it/s]"
     ]
    },
    {
     "name": "stdout",
     "output_type": "stream",
     "text": [
      "val Loss: 0.5637 Acc: 0.7498\n",
      "val Precision: 0.2693 Recall: 0.2693\n",
      "\n",
      "Training complete in 285m 33s\n",
      "Best val Acc: 0.797360\n"
     ]
    },
    {
     "name": "stderr",
     "output_type": "stream",
     "text": [
      "\n"
     ]
    }
   ],
   "source": [
    "# Setup the loss fxn\n",
    "criterion = nn.CrossEntropyLoss()\n",
    "\n",
    "dataloaders_dict = {'train': data_loader_train, 'val': data_loader_val}\n",
    "\n",
    "# Train and evaluate\n",
    "model_ft, train_stats, val_stats = train_model(model_ft, dataloaders_dict, criterion, optimizer_ft, num_epochs=25, is_inception=True)"
   ]
  },
  {
   "cell_type": "code",
   "execution_count": 18,
   "metadata": {
    "execution": {
     "iopub.execute_input": "2021-03-30T20:24:29.687836Z",
     "iopub.status.busy": "2021-03-30T20:24:29.687026Z",
     "iopub.status.idle": "2021-03-30T20:24:29.906242Z",
     "shell.execute_reply": "2021-03-30T20:24:29.905782Z"
    },
    "papermill": {
     "duration": 27.323513,
     "end_time": "2021-03-30T20:24:29.906375",
     "exception": false,
     "start_time": "2021-03-30T20:24:02.582862",
     "status": "completed"
    },
    "tags": []
   },
   "outputs": [],
   "source": [
    "torch.save(model_ft.state_dict(), f\"classification_model_weights.bin\")\n",
    "pickle.dump(train_stats, open(f\"train_stats.pkl\", 'wb'))\n",
    "pickle.dump(val_stats, open(f\"val_stats.pkl\", 'wb'))"
   ]
  }
 ],
 "metadata": {
  "kernelspec": {
   "display_name": "Python 3",
   "language": "python",
   "name": "python3"
  },
  "language_info": {
   "codemirror_mode": {
    "name": "ipython",
    "version": 3
   },
   "file_extension": ".py",
   "mimetype": "text/x-python",
   "name": "python",
   "nbconvert_exporter": "python",
   "pygments_lexer": "ipython3",
   "version": "3.7.9"
  },
  "papermill": {
   "default_parameters": {},
   "duration": 17251.922057,
   "end_time": "2021-03-30T20:24:59.501910",
   "environment_variables": {},
   "exception": null,
   "input_path": "__notebook__.ipynb",
   "output_path": "__notebook__.ipynb",
   "parameters": {},
   "start_time": "2021-03-30T15:37:27.579853",
   "version": "2.2.2"
  },
  "widgets": {
   "application/vnd.jupyter.widget-state+json": {
    "state": {
     "057ee4d0551f449686d9f7b16452be6a": {
      "model_module": "@jupyter-widgets/base",
      "model_module_version": "1.2.0",
      "model_name": "LayoutModel",
      "state": {
       "_model_module": "@jupyter-widgets/base",
       "_model_module_version": "1.2.0",
       "_model_name": "LayoutModel",
       "_view_count": null,
       "_view_module": "@jupyter-widgets/base",
       "_view_module_version": "1.2.0",
       "_view_name": "LayoutView",
       "align_content": null,
       "align_items": null,
       "align_self": null,
       "border": null,
       "bottom": null,
       "display": null,
       "flex": null,
       "flex_flow": null,
       "grid_area": null,
       "grid_auto_columns": null,
       "grid_auto_flow": null,
       "grid_auto_rows": null,
       "grid_column": null,
       "grid_gap": null,
       "grid_row": null,
       "grid_template_areas": null,
       "grid_template_columns": null,
       "grid_template_rows": null,
       "height": null,
       "justify_content": null,
       "justify_items": null,
       "left": null,
       "margin": null,
       "max_height": null,
       "max_width": null,
       "min_height": null,
       "min_width": null,
       "object_fit": null,
       "object_position": null,
       "order": null,
       "overflow": null,
       "overflow_x": null,
       "overflow_y": null,
       "padding": null,
       "right": null,
       "top": null,
       "visibility": null,
       "width": null
      }
     },
     "127ace26234a45e080c47289649faa1d": {
      "model_module": "@jupyter-widgets/base",
      "model_module_version": "1.2.0",
      "model_name": "LayoutModel",
      "state": {
       "_model_module": "@jupyter-widgets/base",
       "_model_module_version": "1.2.0",
       "_model_name": "LayoutModel",
       "_view_count": null,
       "_view_module": "@jupyter-widgets/base",
       "_view_module_version": "1.2.0",
       "_view_name": "LayoutView",
       "align_content": null,
       "align_items": null,
       "align_self": null,
       "border": null,
       "bottom": null,
       "display": null,
       "flex": null,
       "flex_flow": null,
       "grid_area": null,
       "grid_auto_columns": null,
       "grid_auto_flow": null,
       "grid_auto_rows": null,
       "grid_column": null,
       "grid_gap": null,
       "grid_row": null,
       "grid_template_areas": null,
       "grid_template_columns": null,
       "grid_template_rows": null,
       "height": null,
       "justify_content": null,
       "justify_items": null,
       "left": null,
       "margin": null,
       "max_height": null,
       "max_width": null,
       "min_height": null,
       "min_width": null,
       "object_fit": null,
       "object_position": null,
       "order": null,
       "overflow": null,
       "overflow_x": null,
       "overflow_y": null,
       "padding": null,
       "right": null,
       "top": null,
       "visibility": null,
       "width": null
      }
     },
     "4856a3e45faf40ffa22e875df03da2fb": {
      "model_module": "@jupyter-widgets/controls",
      "model_module_version": "1.5.0",
      "model_name": "ProgressStyleModel",
      "state": {
       "_model_module": "@jupyter-widgets/controls",
       "_model_module_version": "1.5.0",
       "_model_name": "ProgressStyleModel",
       "_view_count": null,
       "_view_module": "@jupyter-widgets/base",
       "_view_module_version": "1.2.0",
       "_view_name": "StyleView",
       "bar_color": null,
       "description_width": ""
      }
     },
     "5de50a315b6f48398c0d7c96b6e89fec": {
      "model_module": "@jupyter-widgets/controls",
      "model_module_version": "1.5.0",
      "model_name": "DescriptionStyleModel",
      "state": {
       "_model_module": "@jupyter-widgets/controls",
       "_model_module_version": "1.5.0",
       "_model_name": "DescriptionStyleModel",
       "_view_count": null,
       "_view_module": "@jupyter-widgets/base",
       "_view_module_version": "1.2.0",
       "_view_name": "StyleView",
       "description_width": ""
      }
     },
     "77dfb004acd04041b81af30e9944dd42": {
      "model_module": "@jupyter-widgets/controls",
      "model_module_version": "1.5.0",
      "model_name": "HTMLModel",
      "state": {
       "_dom_classes": [],
       "_model_module": "@jupyter-widgets/controls",
       "_model_module_version": "1.5.0",
       "_model_name": "HTMLModel",
       "_view_count": null,
       "_view_module": "@jupyter-widgets/controls",
       "_view_module_version": "1.5.0",
       "_view_name": "HTMLView",
       "description": "",
       "description_tooltip": null,
       "layout": "IPY_MODEL_ecebadd108fc4ce6b7cf77343cb62ad8",
       "placeholder": "​",
       "style": "IPY_MODEL_5de50a315b6f48398c0d7c96b6e89fec",
       "value": " 104M/104M [00:02&lt;00:00, 41.9MB/s]"
      }
     },
     "86990de511f94e2aa6b038d66325a4df": {
      "model_module": "@jupyter-widgets/controls",
      "model_module_version": "1.5.0",
      "model_name": "DescriptionStyleModel",
      "state": {
       "_model_module": "@jupyter-widgets/controls",
       "_model_module_version": "1.5.0",
       "_model_name": "DescriptionStyleModel",
       "_view_count": null,
       "_view_module": "@jupyter-widgets/base",
       "_view_module_version": "1.2.0",
       "_view_name": "StyleView",
       "description_width": ""
      }
     },
     "aed9338afe84476c8614d4e2d1738f5b": {
      "model_module": "@jupyter-widgets/controls",
      "model_module_version": "1.5.0",
      "model_name": "HBoxModel",
      "state": {
       "_dom_classes": [],
       "_model_module": "@jupyter-widgets/controls",
       "_model_module_version": "1.5.0",
       "_model_name": "HBoxModel",
       "_view_count": null,
       "_view_module": "@jupyter-widgets/controls",
       "_view_module_version": "1.5.0",
       "_view_name": "HBoxView",
       "box_style": "",
       "children": [
        "IPY_MODEL_ddc87735ea1f4d1b833798622ea52e3f",
        "IPY_MODEL_fd8c3ff61f3141e081fbeb6cd03f65e4",
        "IPY_MODEL_77dfb004acd04041b81af30e9944dd42"
       ],
       "layout": "IPY_MODEL_127ace26234a45e080c47289649faa1d"
      }
     },
     "bfc0dc589c1d4a2885e7593cb7ce5a87": {
      "model_module": "@jupyter-widgets/base",
      "model_module_version": "1.2.0",
      "model_name": "LayoutModel",
      "state": {
       "_model_module": "@jupyter-widgets/base",
       "_model_module_version": "1.2.0",
       "_model_name": "LayoutModel",
       "_view_count": null,
       "_view_module": "@jupyter-widgets/base",
       "_view_module_version": "1.2.0",
       "_view_name": "LayoutView",
       "align_content": null,
       "align_items": null,
       "align_self": null,
       "border": null,
       "bottom": null,
       "display": null,
       "flex": null,
       "flex_flow": null,
       "grid_area": null,
       "grid_auto_columns": null,
       "grid_auto_flow": null,
       "grid_auto_rows": null,
       "grid_column": null,
       "grid_gap": null,
       "grid_row": null,
       "grid_template_areas": null,
       "grid_template_columns": null,
       "grid_template_rows": null,
       "height": null,
       "justify_content": null,
       "justify_items": null,
       "left": null,
       "margin": null,
       "max_height": null,
       "max_width": null,
       "min_height": null,
       "min_width": null,
       "object_fit": null,
       "object_position": null,
       "order": null,
       "overflow": null,
       "overflow_x": null,
       "overflow_y": null,
       "padding": null,
       "right": null,
       "top": null,
       "visibility": null,
       "width": null
      }
     },
     "ddc87735ea1f4d1b833798622ea52e3f": {
      "model_module": "@jupyter-widgets/controls",
      "model_module_version": "1.5.0",
      "model_name": "HTMLModel",
      "state": {
       "_dom_classes": [],
       "_model_module": "@jupyter-widgets/controls",
       "_model_module_version": "1.5.0",
       "_model_name": "HTMLModel",
       "_view_count": null,
       "_view_module": "@jupyter-widgets/controls",
       "_view_module_version": "1.5.0",
       "_view_name": "HTMLView",
       "description": "",
       "description_tooltip": null,
       "layout": "IPY_MODEL_057ee4d0551f449686d9f7b16452be6a",
       "placeholder": "​",
       "style": "IPY_MODEL_86990de511f94e2aa6b038d66325a4df",
       "value": "100%"
      }
     },
     "ecebadd108fc4ce6b7cf77343cb62ad8": {
      "model_module": "@jupyter-widgets/base",
      "model_module_version": "1.2.0",
      "model_name": "LayoutModel",
      "state": {
       "_model_module": "@jupyter-widgets/base",
       "_model_module_version": "1.2.0",
       "_model_name": "LayoutModel",
       "_view_count": null,
       "_view_module": "@jupyter-widgets/base",
       "_view_module_version": "1.2.0",
       "_view_name": "LayoutView",
       "align_content": null,
       "align_items": null,
       "align_self": null,
       "border": null,
       "bottom": null,
       "display": null,
       "flex": null,
       "flex_flow": null,
       "grid_area": null,
       "grid_auto_columns": null,
       "grid_auto_flow": null,
       "grid_auto_rows": null,
       "grid_column": null,
       "grid_gap": null,
       "grid_row": null,
       "grid_template_areas": null,
       "grid_template_columns": null,
       "grid_template_rows": null,
       "height": null,
       "justify_content": null,
       "justify_items": null,
       "left": null,
       "margin": null,
       "max_height": null,
       "max_width": null,
       "min_height": null,
       "min_width": null,
       "object_fit": null,
       "object_position": null,
       "order": null,
       "overflow": null,
       "overflow_x": null,
       "overflow_y": null,
       "padding": null,
       "right": null,
       "top": null,
       "visibility": null,
       "width": null
      }
     },
     "fd8c3ff61f3141e081fbeb6cd03f65e4": {
      "model_module": "@jupyter-widgets/controls",
      "model_module_version": "1.5.0",
      "model_name": "FloatProgressModel",
      "state": {
       "_dom_classes": [],
       "_model_module": "@jupyter-widgets/controls",
       "_model_module_version": "1.5.0",
       "_model_name": "FloatProgressModel",
       "_view_count": null,
       "_view_module": "@jupyter-widgets/controls",
       "_view_module_version": "1.5.0",
       "_view_name": "ProgressView",
       "bar_style": "success",
       "description": "",
       "description_tooltip": null,
       "layout": "IPY_MODEL_bfc0dc589c1d4a2885e7593cb7ce5a87",
       "max": 108857766.0,
       "min": 0.0,
       "orientation": "horizontal",
       "style": "IPY_MODEL_4856a3e45faf40ffa22e875df03da2fb",
       "value": 108857766.0
      }
     }
    },
    "version_major": 2,
    "version_minor": 0
   }
  }
 },
 "nbformat": 4,
 "nbformat_minor": 4
}
