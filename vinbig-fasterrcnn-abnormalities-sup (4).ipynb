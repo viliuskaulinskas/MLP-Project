{
 "cells": [
  {
   "cell_type": "code",
   "execution_count": null,
   "metadata": {
    "_cell_guid": "b1076dfc-b9ad-4769-8c92-a6c4dae69d19",
    "_uuid": "8f2839f25d086af736a60e9eeb907d3b93b6e0e5",
    "execution": {
     "iopub.execute_input": "2021-03-29T23:02:32.074965Z",
     "iopub.status.busy": "2021-03-29T23:02:32.074105Z",
     "iopub.status.idle": "2021-03-29T23:02:49.268321Z",
     "shell.execute_reply": "2021-03-29T23:02:49.267240Z"
    },
    "papermill": {
     "duration": 17.219756,
     "end_time": "2021-03-29T23:02:49.268569",
     "exception": false,
     "start_time": "2021-03-29T23:02:32.048813",
     "status": "completed"
    },
    "tags": []
   },
   "outputs": [],
   "source": [
    "# Install prerequisites\n",
    "\n",
    "# Install PyCocoTools needed for FasterRCNN\n",
    "!pip install git+https://github.com/gautamchitnis/cocoapi.git@cocodataset-master#subdirectory=PythonAPI\n",
    "\n",
    "# Copy useful functions from pytorch vision tools\n",
    "%cp ../input/pytorch-vision-tools/references/detection/*.* ."
   ]
  },
  {
   "cell_type": "code",
   "execution_count": null,
   "metadata": {
    "execution": {
     "iopub.execute_input": "2021-03-29T23:02:49.319861Z",
     "iopub.status.busy": "2021-03-29T23:02:49.319085Z",
     "iopub.status.idle": "2021-03-29T23:02:52.906801Z",
     "shell.execute_reply": "2021-03-29T23:02:52.905737Z"
    },
    "papermill": {
     "duration": 3.61652,
     "end_time": "2021-03-29T23:02:52.906952",
     "exception": false,
     "start_time": "2021-03-29T23:02:49.290432",
     "status": "completed"
    },
    "tags": []
   },
   "outputs": [],
   "source": [
    "# Import required libraries\n",
    "import numpy as np\n",
    "import pandas as pd\n",
    "from torch.utils.data import Dataset, DataLoader, Subset\n",
    "from PIL import Image, ImageFont, ImageDraw, ImageEnhance\n",
    "import torchvision\n",
    "from torchvision import transforms\n",
    "from torchvision.models.detection.faster_rcnn import FastRCNNPredictor\n",
    "from os import path\n",
    "import torch\n",
    "import torchvision.utils\n",
    "import utils\n",
    "from engine import train_one_epoch, evaluate\n",
    "from torch.optim.lr_scheduler import CosineAnnealingLR\n",
    "from torch.optim import Adam\n",
    "import albumentations as A\n",
    "from albumentations.pytorch.transforms import ToTensorV2\n",
    "import pickle\n",
    "import time\n",
    "import matplotlib.pyplot as plt\n",
    "%matplotlib inline"
   ]
  },
  {
   "cell_type": "code",
   "execution_count": null,
   "metadata": {
    "execution": {
     "iopub.execute_input": "2021-03-29T23:02:52.956491Z",
     "iopub.status.busy": "2021-03-29T23:02:52.955208Z",
     "iopub.status.idle": "2021-03-29T23:02:52.957061Z",
     "shell.execute_reply": "2021-03-29T23:02:52.957427Z"
    },
    "papermill": {
     "duration": 0.029357,
     "end_time": "2021-03-29T23:02:52.957586",
     "exception": false,
     "start_time": "2021-03-29T23:02:52.928229",
     "status": "completed"
    },
    "tags": []
   },
   "outputs": [],
   "source": [
    "class_dictionary = {\n",
    "    0: 'No finding',\n",
    "    1: 'Aortic enlargement',\n",
    "    2: 'Atelectasis',\n",
    "    3: 'Calcification',\n",
    "    4: 'Cardiomegaly',\n",
    "    5: 'Consolidation',\n",
    "    6: 'ILD',\n",
    "    7: 'Infiltration',\n",
    "    8: 'Lung Opacity',\n",
    "    9: 'Nodule/Mass',\n",
    "    10: 'Other lesion',\n",
    "    11: 'Pleural effusion',\n",
    "    12: 'Pleural thickening',\n",
    "    13: 'Pneumothorax',\n",
    "    14: 'Pulmonary fibrosis'\n",
    "}"
   ]
  },
  {
   "cell_type": "code",
   "execution_count": null,
   "metadata": {
    "execution": {
     "iopub.execute_input": "2021-03-29T23:02:53.015945Z",
     "iopub.status.busy": "2021-03-29T23:02:53.015233Z",
     "iopub.status.idle": "2021-03-29T23:02:53.018797Z",
     "shell.execute_reply": "2021-03-29T23:02:53.018349Z"
    },
    "papermill": {
     "duration": 0.039364,
     "end_time": "2021-03-29T23:02:53.018919",
     "exception": false,
     "start_time": "2021-03-29T23:02:52.979555",
     "status": "completed"
    },
    "tags": []
   },
   "outputs": [],
   "source": [
    "# Define a dataset class which defines how to load images,targets for training and validation\n",
    "class VinBigDataset(Dataset):\n",
    "    def __init__(self, img_dir, df, transforms, class_id=None):\n",
    "        self.img_dir = img_dir\n",
    "        if class_id:\n",
    "            df = df[df[\"class_id\"] == class_id]\n",
    "        self.df = df\n",
    "        self.imgs = df[\"image_id\"].unique()\n",
    "        self.transforms = transforms\n",
    "        \n",
    "    def __len__(self):\n",
    "        # Return the number of elements in the dataset\n",
    "        return len(self.imgs)\n",
    "    \n",
    "    def __getitem__(self, idx):\n",
    "        # The dataset iterates over each image id\n",
    "        # Return the requested image,target from the dataset\n",
    "        \n",
    "        # Get the id of the current image\n",
    "        img_id = self.imgs[idx]\n",
    "        \n",
    "        # Get the rows containing annotations for this image\n",
    "        data_rows = self.df[self.df[\"image_id\"] == img_id]\n",
    "        boxes = data_rows[[\"x_min\", \"y_min\", \"x_max\", \"y_max\"]].values\n",
    "        \n",
    "        # Convert into a torch.Tensor\n",
    "        boxes = torch.as_tensor(boxes, dtype=torch.float32)\n",
    "        \n",
    "        # Load the image\n",
    "        img_path = path.join(self.img_dir, f\"{img_id}.png\")\n",
    "        img = Image.open(img_path).convert(\"RGB\")\n",
    "        \n",
    "        # Compute the area of the annotated box\n",
    "        area = (boxes[:, 3] - boxes[:, 1]) * (boxes[:, 2] - boxes[:,0])\n",
    "        \n",
    "        # Suppose all instances are not crowd (?)\n",
    "        num_objs = len(boxes)\n",
    "        iscrowd = torch.zeros((num_objs,), dtype=torch.int64)\n",
    "        \n",
    "        labels = torch.tensor(data_rows[\"class_id\"].values, dtype=torch.int64)\n",
    "        \n",
    "        # Define the target for this training data point\n",
    "        target = {}\n",
    "        target[\"boxes\"] = boxes\n",
    "        target[\"labels\"] = labels\n",
    "        target[\"image_id\"] = torch.tensor([idx])\n",
    "        target[\"area\"] = area\n",
    "        target[\"iscrowd\"] = iscrowd\n",
    "        \n",
    "        if self.transforms is not None:\n",
    "            to_transform = {\n",
    "                'image': np.array(img),\n",
    "                'bboxes': target['boxes'],\n",
    "                'labels': labels\n",
    "            }\n",
    "            transformed = self.transforms(**to_transform)\n",
    "            img = transformed['image']    \n",
    "            target['boxes'] = torch.tensor(transformed['bboxes'])\n",
    "        \n",
    "#         if self.transforms is not None:\n",
    "#             img = self.transforms(img)\n",
    "        \n",
    "        return img, target"
   ]
  },
  {
   "cell_type": "code",
   "execution_count": null,
   "metadata": {
    "execution": {
     "iopub.execute_input": "2021-03-29T23:02:53.072997Z",
     "iopub.status.busy": "2021-03-29T23:02:53.072264Z",
     "iopub.status.idle": "2021-03-29T23:02:53.076308Z",
     "shell.execute_reply": "2021-03-29T23:02:53.075812Z"
    },
    "papermill": {
     "duration": 0.033078,
     "end_time": "2021-03-29T23:02:53.076450",
     "exception": false,
     "start_time": "2021-03-29T23:02:53.043372",
     "status": "completed"
    },
    "tags": []
   },
   "outputs": [],
   "source": [
    "# Function to create transforms for preprocessing\n",
    "def create_transforms(train):\n",
    "    if train:\n",
    "        return A.Compose([\n",
    "            A.Normalize(mean=(0, 0, 0), std=(1, 1, 1), max_pixel_value=255.0, p=1.0),\n",
    "            ToTensorV2(p=1.0)\n",
    "        ])\n",
    "    else:\n",
    "        return A.Compose([\n",
    "            A.Normalize(mean=(0, 0, 0), std=(1, 1, 1), max_pixel_value=255.0, p=1.0),\n",
    "            ToTensorV2(p=1.0)\n",
    "        ])\n",
    "#     transforms.Compose([\n",
    "#             transforms.ToTensor(),\n",
    "#        #     transforms.Normalize((0.485, 0.456, 0.406), (0.229, 0.224, 0.225))\n",
    "#         ])"
   ]
  },
  {
   "cell_type": "code",
   "execution_count": null,
   "metadata": {
    "execution": {
     "iopub.execute_input": "2021-03-29T23:02:53.128679Z",
     "iopub.status.busy": "2021-03-29T23:02:53.127777Z",
     "iopub.status.idle": "2021-03-29T23:02:53.131044Z",
     "shell.execute_reply": "2021-03-29T23:02:53.130561Z"
    },
    "papermill": {
     "duration": 0.031213,
     "end_time": "2021-03-29T23:02:53.131189",
     "exception": false,
     "start_time": "2021-03-29T23:02:53.099976",
     "status": "completed"
    },
    "tags": []
   },
   "outputs": [],
   "source": [
    "# Function to create an instance of the model\n",
    "def create_model():\n",
    "    # The model has 15 classes (14 abnormalities and no abnormalities)\n",
    "    num_classes = 15\n",
    "    \n",
    "    # Use resnet50 pre-trained on COCO\n",
    "    model = torchvision.models.detection.fasterrcnn_resnet50_fpn(pretrained=True)\n",
    "        \n",
    "    # Fetch the number of input features for the classifier\n",
    "    in_features = model.roi_heads.box_predictor.cls_score.in_features\n",
    "    \n",
    "    # Replace the pre-trained head with a new one\n",
    "    model.roi_heads.box_predictor = FastRCNNPredictor(in_features, num_classes)\n",
    "   \n",
    "    return model"
   ]
  },
  {
   "cell_type": "markdown",
   "metadata": {
    "papermill": {
     "duration": 0.02309,
     "end_time": "2021-03-29T23:02:53.178158",
     "exception": false,
     "start_time": "2021-03-29T23:02:53.155068",
     "status": "completed"
    },
    "tags": []
   },
   "source": [
    "# Load training data"
   ]
  },
  {
   "cell_type": "code",
   "execution_count": null,
   "metadata": {
    "execution": {
     "iopub.execute_input": "2021-03-29T23:02:53.240675Z",
     "iopub.status.busy": "2021-03-29T23:02:53.240130Z",
     "iopub.status.idle": "2021-03-29T23:02:53.406882Z",
     "shell.execute_reply": "2021-03-29T23:02:53.406099Z"
    },
    "papermill": {
     "duration": 0.204845,
     "end_time": "2021-03-29T23:02:53.407042",
     "exception": false,
     "start_time": "2021-03-29T23:02:53.202197",
     "status": "completed"
    },
    "tags": []
   },
   "outputs": [],
   "source": [
    "# Load the training data csv file\n",
    "data_dir = \"../input/vinbig1024stratified/\"\n",
    "\n",
    "df_train = pd.read_csv(f\"../input/vinbig1024stratified-anns-removed/train_sup.csv\")\n",
    "df_train.fillna(0, inplace=True)\n",
    "df_train.loc[df_train[\"class_id\"] == 14, ['x_max', 'y_max']] = 1.0\n",
    "\n",
    "# FasterRCNN handles class_id==0 as the background.\n",
    "df_train[\"class_id\"] = df_train[\"class_id\"] + 1\n",
    "df_train.loc[df_train[\"class_id\"] == 15, [\"class_id\"]] = 0\n",
    "\n",
    "# Print out the total number of images and the total number of annotations \n",
    "print(f\"{df_train['image_id'].nunique()} images\")\n",
    "print(f\"{len(df_train.index)} annotations\")"
   ]
  },
  {
   "cell_type": "code",
   "execution_count": null,
   "metadata": {
    "execution": {
     "iopub.execute_input": "2021-03-29T23:02:53.457365Z",
     "iopub.status.busy": "2021-03-29T23:02:53.456842Z",
     "iopub.status.idle": "2021-03-29T23:02:53.494002Z",
     "shell.execute_reply": "2021-03-29T23:02:53.494406Z"
    },
    "papermill": {
     "duration": 0.064935,
     "end_time": "2021-03-29T23:02:53.494564",
     "exception": false,
     "start_time": "2021-03-29T23:02:53.429629",
     "status": "completed"
    },
    "tags": []
   },
   "outputs": [],
   "source": [
    "df_train_0 = df_train[df_train['class_id'] == 0]\n",
    "df_train_no_0 = df_train[df_train['class_id'] != 0]\n",
    "df_train_0_no_duplicates = df_train_0.drop_duplicates(subset=['image_id', 'class_id'], keep='first')\n",
    "df_train = df_train_no_0.append(df_train_0_no_duplicates, ignore_index=True)\n",
    "df_train.reset_index(drop=True, inplace=True)\n",
    "df_train.head(10)"
   ]
  },
  {
   "cell_type": "code",
   "execution_count": null,
   "metadata": {
    "execution": {
     "iopub.execute_input": "2021-03-29T23:02:53.546981Z",
     "iopub.status.busy": "2021-03-29T23:02:53.545045Z",
     "iopub.status.idle": "2021-03-29T23:02:53.547596Z",
     "shell.execute_reply": "2021-03-29T23:02:53.548016Z"
    },
    "papermill": {
     "duration": 0.030169,
     "end_time": "2021-03-29T23:02:53.548142",
     "exception": false,
     "start_time": "2021-03-29T23:02:53.517973",
     "status": "completed"
    },
    "tags": []
   },
   "outputs": [],
   "source": [
    "# df_train_14_no_duplicates = df_train_14.drop_duplicates(subset=['image_id', 'class_id'], keep='first')\n",
    "# df_train = df_train_no14.append(df_train_14_no_duplicates, ignore_index=True)"
   ]
  },
  {
   "cell_type": "code",
   "execution_count": null,
   "metadata": {
    "execution": {
     "iopub.execute_input": "2021-03-29T23:02:53.602673Z",
     "iopub.status.busy": "2021-03-29T23:02:53.601782Z",
     "iopub.status.idle": "2021-03-29T23:02:53.608629Z",
     "shell.execute_reply": "2021-03-29T23:02:53.608086Z"
    },
    "papermill": {
     "duration": 0.036838,
     "end_time": "2021-03-29T23:02:53.608738",
     "exception": false,
     "start_time": "2021-03-29T23:02:53.571900",
     "status": "completed"
    },
    "tags": []
   },
   "outputs": [],
   "source": [
    "# Create an instance of the dataset and transformations for training and validation\n",
    "\n",
    "train_img_dir = '../input/vinbig1024stratified/output/dataset/train'\n",
    "# train_img_dir = path.join(data_dir, 'train/train')\n",
    "train_dataset = VinBigDataset(train_img_dir, df_train, create_transforms(train=True))\n",
    "\n",
    "# Create data loaders for the training set. The collate function\n",
    "# defines how to form a minibatch from the indiviaual data items. In our case we\n",
    "# just want to collate them into a single list.\n",
    "\n",
    "data_loader_train = DataLoader(\\\n",
    "    train_dataset, batch_size=5, shuffle=True, num_workers=4, collate_fn=utils.collate_fn)\n",
    "\n",
    "# Print the number of elements in the test and training set\n",
    "print(f\"{len(train_dataset)} items in the training set\")"
   ]
  },
  {
   "cell_type": "markdown",
   "metadata": {
    "papermill": {
     "duration": 0.022808,
     "end_time": "2021-03-29T23:02:53.655426",
     "exception": false,
     "start_time": "2021-03-29T23:02:53.632618",
     "status": "completed"
    },
    "tags": []
   },
   "source": [
    "# Load validation data"
   ]
  },
  {
   "cell_type": "code",
   "execution_count": null,
   "metadata": {
    "execution": {
     "iopub.execute_input": "2021-03-29T23:02:53.711744Z",
     "iopub.status.busy": "2021-03-29T23:02:53.711097Z",
     "iopub.status.idle": "2021-03-29T23:02:53.738918Z",
     "shell.execute_reply": "2021-03-29T23:02:53.739435Z"
    },
    "papermill": {
     "duration": 0.061003,
     "end_time": "2021-03-29T23:02:53.739579",
     "exception": false,
     "start_time": "2021-03-29T23:02:53.678576",
     "status": "completed"
    },
    "tags": []
   },
   "outputs": [],
   "source": [
    "# Load the VALIDATION data csv file\n",
    "data_dir = \"../input/vinbig1024stratified/\"\n",
    "\n",
    "df_val = pd.read_csv(f\"../input/vinbig1024stratified-anns-removed/val_sup.csv\")\n",
    "df_val.fillna(0, inplace=True)\n",
    "df_val.loc[df_val[\"class_id\"] == 14, ['x_max', 'y_max']] = 1.0\n",
    "\n",
    "# FasterRCNN handles class_id==0 as the background.\n",
    "df_val[\"class_id\"] = df_val[\"class_id\"] + 1\n",
    "df_val.loc[df_val[\"class_id\"] == 15, [\"class_id\"]] = 0\n",
    "\n",
    "# Print out the total number of images and the total number of annotations \n",
    "print(f\"{df_val['image_id'].nunique()} images\")\n",
    "print(f\"{len(df_val.index)} annotations\")"
   ]
  },
  {
   "cell_type": "code",
   "execution_count": null,
   "metadata": {
    "execution": {
     "iopub.execute_input": "2021-03-29T23:02:53.793878Z",
     "iopub.status.busy": "2021-03-29T23:02:53.793057Z",
     "iopub.status.idle": "2021-03-29T23:02:53.814417Z",
     "shell.execute_reply": "2021-03-29T23:02:53.813818Z"
    },
    "papermill": {
     "duration": 0.051771,
     "end_time": "2021-03-29T23:02:53.814574",
     "exception": false,
     "start_time": "2021-03-29T23:02:53.762803",
     "status": "completed"
    },
    "tags": []
   },
   "outputs": [],
   "source": [
    "# Don't remove no abnormality\n",
    "# df_val = df_val[df_val['class_id'] != 0]\n",
    "# df_val.reset_index(drop=True, inplace=True)\n",
    "\n",
    "df_val_0 = df_val[df_val['class_id'] == 0]\n",
    "df_val_no_0 = df_val[df_val['class_id'] != 0]\n",
    "df_val_0_no_duplicates = df_val_0.drop_duplicates(subset=['image_id', 'class_id'], keep='first')\n",
    "df_val = df_val_no_0.append(df_val_0_no_duplicates, ignore_index=True)\n",
    "df_val.reset_index(drop=True, inplace=True)\n",
    "df_val.head(10)"
   ]
  },
  {
   "cell_type": "code",
   "execution_count": null,
   "metadata": {
    "execution": {
     "iopub.execute_input": "2021-03-29T23:02:53.870127Z",
     "iopub.status.busy": "2021-03-29T23:02:53.869265Z",
     "iopub.status.idle": "2021-03-29T23:02:53.873843Z",
     "shell.execute_reply": "2021-03-29T23:02:53.873348Z"
    },
    "papermill": {
     "duration": 0.033753,
     "end_time": "2021-03-29T23:02:53.873948",
     "exception": false,
     "start_time": "2021-03-29T23:02:53.840195",
     "status": "completed"
    },
    "tags": []
   },
   "outputs": [],
   "source": [
    "# Create an instance of the dataset and transformations for training and validation\n",
    "\n",
    "val_img_dir = '../input/vinbig1024stratified/output/dataset/validation/'\n",
    "# train_img_dir = path.join(data_dir, 'train/train')\n",
    "val_dataset = VinBigDataset(val_img_dir, df_val, create_transforms(train=False))\n",
    "\n",
    "# Create data loaders for the training set. The collate function\n",
    "# defines how to form a minibatch from the indiviaual data items. In our case we\n",
    "# just want to collate them into a single list.\n",
    "\n",
    "data_loader_val = DataLoader(val_dataset, batch_size=5, shuffle=False, num_workers=4, collate_fn=utils.collate_fn)\n",
    "\n",
    "# Print the number of elements in the test and training set\n",
    "print(f\"{len(val_dataset)} items in the validation set\")"
   ]
  },
  {
   "cell_type": "markdown",
   "metadata": {
    "papermill": {
     "duration": 0.025034,
     "end_time": "2021-03-29T23:02:53.923678",
     "exception": false,
     "start_time": "2021-03-29T23:02:53.898644",
     "status": "completed"
    },
    "tags": []
   },
   "source": [
    "# Run the notebook"
   ]
  },
  {
   "cell_type": "code",
   "execution_count": null,
   "metadata": {
    "execution": {
     "iopub.execute_input": "2021-03-29T23:02:53.977738Z",
     "iopub.status.busy": "2021-03-29T23:02:53.977091Z",
     "iopub.status.idle": "2021-03-29T23:02:57.576942Z",
     "shell.execute_reply": "2021-03-29T23:02:57.576415Z"
    },
    "papermill": {
     "duration": 3.628821,
     "end_time": "2021-03-29T23:02:57.577072",
     "exception": false,
     "start_time": "2021-03-29T23:02:53.948251",
     "status": "completed"
    },
    "tags": []
   },
   "outputs": [],
   "source": [
    "model = create_model()\n",
    "use_pre_trained = True"
   ]
  },
  {
   "cell_type": "code",
   "execution_count": null,
   "metadata": {
    "execution": {
     "iopub.execute_input": "2021-03-29T23:02:57.636056Z",
     "iopub.status.busy": "2021-03-29T23:02:57.635255Z",
     "iopub.status.idle": "2021-03-29T23:02:57.789666Z",
     "shell.execute_reply": "2021-03-29T23:02:57.788819Z"
    },
    "papermill": {
     "duration": 0.187206,
     "end_time": "2021-03-29T23:02:57.789794",
     "exception": false,
     "start_time": "2021-03-29T23:02:57.602588",
     "status": "completed"
    },
    "tags": []
   },
   "outputs": [],
   "source": [
    "train_dataset[3]"
   ]
  },
  {
   "cell_type": "code",
   "execution_count": null,
   "metadata": {
    "execution": {
     "iopub.execute_input": "2021-03-29T23:02:57.846163Z",
     "iopub.status.busy": "2021-03-29T23:02:57.845643Z",
     "iopub.status.idle": "2021-03-29T23:02:57.849514Z",
     "shell.execute_reply": "2021-03-29T23:02:57.849070Z"
    },
    "papermill": {
     "duration": 0.033568,
     "end_time": "2021-03-29T23:02:57.849622",
     "exception": false,
     "start_time": "2021-03-29T23:02:57.816054",
     "status": "completed"
    },
    "tags": []
   },
   "outputs": [],
   "source": [
    "# image = Image.open(\"../input/vinbig1024stratified/output/dataset/train/0007d316f756b3fa0baea2ff514ce945.png\")\n",
    "# image"
   ]
  },
  {
   "cell_type": "code",
   "execution_count": null,
   "metadata": {
    "execution": {
     "iopub.execute_input": "2021-03-29T23:02:57.905363Z",
     "iopub.status.busy": "2021-03-29T23:02:57.904758Z",
     "iopub.status.idle": "2021-03-29T23:02:57.907763Z",
     "shell.execute_reply": "2021-03-29T23:02:57.907323Z"
    },
    "papermill": {
     "duration": 0.032059,
     "end_time": "2021-03-29T23:02:57.907867",
     "exception": false,
     "start_time": "2021-03-29T23:02:57.875808",
     "status": "completed"
    },
    "tags": []
   },
   "outputs": [],
   "source": [
    "# details = df_train[df_train['image_id'] == '0007d316f756b3fa0baea2ff514ce945']\n",
    "# details"
   ]
  },
  {
   "cell_type": "code",
   "execution_count": null,
   "metadata": {
    "execution": {
     "iopub.execute_input": "2021-03-29T23:02:57.964156Z",
     "iopub.status.busy": "2021-03-29T23:02:57.963438Z",
     "iopub.status.idle": "2021-03-29T23:02:57.966517Z",
     "shell.execute_reply": "2021-03-29T23:02:57.966058Z"
    },
    "papermill": {
     "duration": 0.032506,
     "end_time": "2021-03-29T23:02:57.966626",
     "exception": false,
     "start_time": "2021-03-29T23:02:57.934120",
     "status": "completed"
    },
    "tags": []
   },
   "outputs": [],
   "source": [
    "# from PIL import Image\n",
    "# from PIL import ImageDraw\n",
    "# draw = ImageDraw.Draw(image)\n",
    "# for i in range(len(details)):\n",
    "#     draw.rectangle([(details[i:i+1]['x_min'], details[i:i+1]['y_min']), (details[i:i+1]['x_max'], details[i:i+1]['y_max'])], outline =\"red\", width=3)\n",
    "# image"
   ]
  },
  {
   "cell_type": "code",
   "execution_count": null,
   "metadata": {
    "execution": {
     "iopub.execute_input": "2021-03-29T23:02:58.430783Z",
     "iopub.status.busy": "2021-03-29T23:02:58.424046Z",
     "iopub.status.idle": "2021-03-30T03:47:50.982836Z",
     "shell.execute_reply": "2021-03-30T03:47:50.982297Z"
    },
    "papermill": {
     "duration": 17092.990033,
     "end_time": "2021-03-30T03:47:50.982993",
     "exception": false,
     "start_time": "2021-03-29T23:02:57.992960",
     "status": "completed"
    },
    "tags": []
   },
   "outputs": [],
   "source": [
    "# Train the model\n",
    "device = torch.device('cuda') if torch.cuda.is_available() else torch.device('cpu')\n",
    "\n",
    "model.to(device)\n",
    "\n",
    "# Hyperparameters\n",
    "learning_rate = 0.0001\n",
    "weight_decay = 0.0001\n",
    "num_epochs = 25\n",
    "\n",
    "params = [p for p in model.parameters() if p.requires_grad]\n",
    "\n",
    "optimizer = Adam(params, lr=learning_rate, weight_decay=weight_decay)\n",
    "lr_scheduler = CosineAnnealingLR(optimizer, T_max=num_epochs, eta_min=0.00002)\n",
    "\n",
    "checkpoint = torch.load(\"../input/model14/model_14.bin\")\n",
    "model.load_state_dict(checkpoint['model_state_dict'])\n",
    "optimizer.load_state_dict(checkpoint['optimizer_state_dict'])\n",
    "last_epoch = checkpoint['epoch']\n",
    "model.train()\n",
    "print('Epoch = ', last_epoch)\n",
    "# Create a folder for saving the model weights\n",
    "%mkdir model\n",
    "%mkdir stats\n",
    "\n",
    "train_meters = []\n",
    "coco_evals = []\n",
    "t_start = time.time()\n",
    "\n",
    "for epoch in range(last_epoch+1, num_epochs):\n",
    "    # Train over the epoch\n",
    "    logger = train_one_epoch(model, optimizer, data_loader_train, device, epoch, print_freq=100)\n",
    "    train_meters.append(logger.meters)\n",
    "    \n",
    "    # Evaluate on the validation set\n",
    "    coco_eval = evaluate(model, data_loader_val, device)\n",
    "    coco_evals.append(coco_eval.coco_eval)\n",
    "    \n",
    "    # Update the learning rate\n",
    "    lr_scheduler.step()\n",
    "    \n",
    "    # Save the model weights at every epoch\n",
    "    torch.save({\n",
    "        'epoch': epoch,\n",
    "        'model_state_dict': model.state_dict(),\n",
    "        'optimizer_state_dict': optimizer.state_dict()\n",
    "        }, f\"model/model_{epoch}.bin\")\n",
    "    \n",
    "    # Save the stats at every epoch from epoch 10\n",
    "    if epoch > 15:\n",
    "        pickle.dump(train_meters, open(f\"stats/train_stats_{epoch}.pkl\", 'wb'))\n",
    "        pickle.dump(coco_evals, open(f\"stats/val_stats_{epoch}.pkl\", 'wb'))\n",
    "\n",
    "print('TRAINING AND VALIDATION DONE')\n",
    "t_end = time.time()\n",
    "print(f\"Training took {t_end - t_start}\")\n",
    "\n",
    "t_start = time.time()\n",
    "# Validation statistics for every class at the end\n",
    "coco_evals_class = []\n",
    "for class_id in range(0, 15):\n",
    "    class_val_dataset = VinBigDataset(val_img_dir, df_val, create_transforms(train=False), class_id=class_id)\n",
    "\n",
    "    data_loader_class_val = DataLoader(class_val_dataset, batch_size=5, shuffle=False, num_workers=4, collate_fn=utils.collate_fn)\n",
    "    \n",
    "    if len(class_val_dataset) == 0:\n",
    "        continue\n",
    "        \n",
    "    coco_eval_class = evaluate(model, data_loader_class_val, device)\n",
    "    coco_evals_class.append(coco_eval_class.coco_eval)\n",
    "\n",
    "t_end = time.time()\n",
    "print(f\"Validation for every class took {t_end - t_start}\")\n",
    "\n",
    "# Save the model weights\n",
    "torch.save({\n",
    "            'epoch': epoch,\n",
    "            'model_state_dict': model.state_dict(),\n",
    "            'optimizer_state_dict': optimizer.state_dict()\n",
    "            }, f\"model/model.bin\")\n",
    "\n",
    "# Save the stats\n",
    "pickle.dump(train_meters, open(f\"stats/train_stats.pkl\", 'wb'))\n",
    "pickle.dump(coco_evals, open(f\"stats/val_stats.pkl\", 'wb'))\n",
    "pickle.dump(coco_evals_class, open(f\"stats/val_stats_classes.pkl\", 'wb'))"
   ]
  },
  {
   "cell_type": "code",
   "execution_count": null,
   "metadata": {
    "execution": {
     "iopub.execute_input": "2021-03-30T03:47:51.298136Z",
     "iopub.status.busy": "2021-03-30T03:47:51.297518Z",
     "iopub.status.idle": "2021-03-30T03:48:25.971462Z",
     "shell.execute_reply": "2021-03-30T03:48:25.970834Z"
    },
    "papermill": {
     "duration": 34.861338,
     "end_time": "2021-03-30T03:48:25.971648",
     "exception": false,
     "start_time": "2021-03-30T03:47:51.110310",
     "status": "completed"
    },
    "tags": []
   },
   "outputs": [],
   "source": [
    "%%bash \n",
    "zip -r -q stats.zip stats/*.*"
   ]
  },
  {
   "cell_type": "markdown",
   "metadata": {
    "papermill": {
     "duration": 0.183233,
     "end_time": "2021-03-30T03:48:26.391607",
     "exception": false,
     "start_time": "2021-03-30T03:48:26.208374",
     "status": "completed"
    },
    "tags": []
   },
   "source": [
    "# Plot statistics"
   ]
  },
  {
   "cell_type": "code",
   "execution_count": null,
   "metadata": {
    "execution": {
     "iopub.execute_input": "2021-03-30T03:48:26.649228Z",
     "iopub.status.busy": "2021-03-30T03:48:26.648495Z",
     "iopub.status.idle": "2021-03-30T03:48:26.652060Z",
     "shell.execute_reply": "2021-03-30T03:48:26.651640Z"
    },
    "papermill": {
     "duration": 0.136304,
     "end_time": "2021-03-30T03:48:26.652172",
     "exception": false,
     "start_time": "2021-03-30T03:48:26.515868",
     "status": "completed"
    },
    "tags": []
   },
   "outputs": [],
   "source": [
    "# Functions for getting and plotting training stats\n",
    "\n",
    "def get_train_stats(name, stats):\n",
    "    return [s[name].value for s in stats]\n",
    "\n",
    "def plot_train_stats(train_stats, name):\n",
    "    loss = get_train_stats('loss', train_stats)\n",
    "    loss_classifier = get_train_stats('loss_classifier', train_stats)\n",
    "    loss_box_reg = get_train_stats('loss_box_reg', train_stats)\n",
    "    loss_objectness = get_train_stats('loss_objectness', train_stats)\n",
    "    loss_rpn_box_reg = get_train_stats('loss_rpn_box_reg', train_stats)\n",
    "    # Plot the training stats\n",
    "    fig = plt.figure(figsize=(12,8))\n",
    "    plt.plot(loss, label='loss')\n",
    "    plt.plot(loss_classifier, label='loss_classifier')\n",
    "    plt.plot(loss_box_reg, label='loss_box_reg')\n",
    "    plt.plot(loss_objectness, label='loss_objectness')\n",
    "    plt.plot(loss_rpn_box_reg, label='loss_rpn_box_reg')\n",
    "    plt.legend()\n",
    "    plt.xticks(range(0, len(loss), 5))\n",
    "    plt.xlabel('Epoch')\n",
    "    plt.title(f'Training stats {name}')"
   ]
  },
  {
   "cell_type": "code",
   "execution_count": null,
   "metadata": {
    "execution": {
     "iopub.execute_input": "2021-03-30T03:48:26.931265Z",
     "iopub.status.busy": "2021-03-30T03:48:26.930313Z",
     "iopub.status.idle": "2021-03-30T03:48:26.933417Z",
     "shell.execute_reply": "2021-03-30T03:48:26.932964Z"
    },
    "papermill": {
     "duration": 0.149579,
     "end_time": "2021-03-30T03:48:26.933555",
     "exception": false,
     "start_time": "2021-03-30T03:48:26.783976",
     "status": "completed"
    },
    "tags": []
   },
   "outputs": [],
   "source": [
    "# Functions for getting and plotting validation stats\n",
    "\n",
    "def get_val_stats(idx, stats):\n",
    "    return [s['bbox'].stats[idx] for s in stats]\n",
    "\n",
    "def plot_val_stats(val_stats, name):\n",
    "    ap_50_95 = get_val_stats(0, val_stats)\n",
    "    ap_50 = get_val_stats(1, val_stats)\n",
    "    ap_75 = get_val_stats(2, val_stats)\n",
    "    ar_all_md100 = get_val_stats(8, val_stats)\n",
    "\n",
    "     # Plot the validation stats\n",
    "    fig = plt.figure(figsize=(12,8))\n",
    "    plt.plot(ap_50_95, label='AP .50:.95')\n",
    "    plt.plot(ap_50, label='AP .50')\n",
    "    plt.plot(ap_75, label='AP .75')\n",
    "    plt.plot(ar_all_md100, label='AR All Max Dets 100')\n",
    "    plt.legend()\n",
    "    plt.xticks(range(0, len(ap_50), 5))\n",
    "    plt.xlabel('Epoch')\n",
    "    plt.title(f'Validation stats {name}')"
   ]
  },
  {
   "cell_type": "code",
   "execution_count": null,
   "metadata": {
    "execution": {
     "iopub.execute_input": "2021-03-30T03:48:27.215531Z",
     "iopub.status.busy": "2021-03-30T03:48:27.214263Z",
     "iopub.status.idle": "2021-03-30T03:48:27.575470Z",
     "shell.execute_reply": "2021-03-30T03:48:27.575031Z"
    },
    "papermill": {
     "duration": 0.507658,
     "end_time": "2021-03-30T03:48:27.575596",
     "exception": false,
     "start_time": "2021-03-30T03:48:27.067938",
     "status": "completed"
    },
    "tags": []
   },
   "outputs": [],
   "source": [
    "# Plot the stats\n",
    "plot_train_stats(train_meters, 'baseline')\n",
    "plot_val_stats(coco_evals, 'baseline')"
   ]
  },
  {
   "cell_type": "code",
   "execution_count": null,
   "metadata": {
    "execution": {
     "iopub.execute_input": "2021-03-30T03:48:27.838966Z",
     "iopub.status.busy": "2021-03-30T03:48:27.838161Z",
     "iopub.status.idle": "2021-03-30T03:48:27.840930Z",
     "shell.execute_reply": "2021-03-30T03:48:27.840514Z"
    },
    "papermill": {
     "duration": 0.133959,
     "end_time": "2021-03-30T03:48:27.841042",
     "exception": false,
     "start_time": "2021-03-30T03:48:27.707083",
     "status": "completed"
    },
    "tags": []
   },
   "outputs": [],
   "source": [
    "# for i in range(15):\n",
    "#     plot_val_stats(coco_evals_class[i], f'baseline class {i}')"
   ]
  },
  {
   "cell_type": "code",
   "execution_count": null,
   "metadata": {
    "execution": {
     "iopub.execute_input": "2021-03-30T03:48:28.099875Z",
     "iopub.status.busy": "2021-03-30T03:48:28.099186Z",
     "iopub.status.idle": "2021-03-30T03:48:28.102366Z",
     "shell.execute_reply": "2021-03-30T03:48:28.101956Z"
    },
    "papermill": {
     "duration": 0.134313,
     "end_time": "2021-03-30T03:48:28.102540",
     "exception": false,
     "start_time": "2021-03-30T03:48:27.968227",
     "status": "completed"
    },
    "tags": []
   },
   "outputs": [],
   "source": [
    "# model.eval()\n",
    "# for images, targets in metric_logger.log_every(data_loader_train, 10, header):\n",
    "#     images = list(image.to(device) for image in images)\n",
    "#     targets = [{k: v.to(device) for k, v in t.items()} for t in targets]\n",
    "#     outs = model(images)\n",
    "#     break\n",
    "# print(outs)\n",
    "# print(targets)"
   ]
  },
  {
   "cell_type": "markdown",
   "metadata": {
    "papermill": {
     "duration": 0.128117,
     "end_time": "2021-03-30T03:48:28.359969",
     "exception": false,
     "start_time": "2021-03-30T03:48:28.231852",
     "status": "completed"
    },
    "tags": []
   },
   "source": [
    "# Draw prediction"
   ]
  },
  {
   "cell_type": "code",
   "execution_count": null,
   "metadata": {
    "execution": {
     "iopub.execute_input": "2021-03-30T03:48:28.620058Z",
     "iopub.status.busy": "2021-03-30T03:48:28.619253Z",
     "iopub.status.idle": "2021-03-30T03:48:28.622098Z",
     "shell.execute_reply": "2021-03-30T03:48:28.621682Z"
    },
    "papermill": {
     "duration": 0.134326,
     "end_time": "2021-03-30T03:48:28.622212",
     "exception": false,
     "start_time": "2021-03-30T03:48:28.487886",
     "status": "completed"
    },
    "tags": []
   },
   "outputs": [],
   "source": [
    "# Train the model\n",
    "# device = torch.device('cuda') if torch.cuda.is_available() else torch.device('cpu')\n",
    "\n",
    "# model.to(device)\n",
    "\n",
    "# Hyperparameters\n",
    "# learning_rate = 0.0001\n",
    "# weight_decay = 0\n",
    "# num_epochs = 25\n",
    "# params = [p for p in model.parameters() if p.requires_grad]\n",
    "# optimizer = Adam(params, lr=learning_rate, weight_decay=weight_decay)\n",
    "# lr_scheduler = CosineAnnealingLR(optimizer, T_max=num_epochs, eta_min=0.00002)\n",
    "\n",
    "# checkpoint = torch.load(\"../input/model24/model_24.bin\")\n",
    "# model.load_state_dict(checkpoint['model_state_dict'])\n",
    "# optimizer.load_state_dict(checkpoint['optimizer_state_dict'])\n",
    "# last_epoch = checkpoint['epoch']\n",
    "# model.eval()\n",
    "# if torch.cuda.is_available():\n",
    "#     model.cuda()"
   ]
  },
  {
   "cell_type": "code",
   "execution_count": null,
   "metadata": {
    "execution": {
     "iopub.execute_input": "2021-03-30T03:48:28.896707Z",
     "iopub.status.busy": "2021-03-30T03:48:28.895933Z",
     "iopub.status.idle": "2021-03-30T03:49:08.719601Z",
     "shell.execute_reply": "2021-03-30T03:49:08.720050Z"
    },
    "papermill": {
     "duration": 39.970645,
     "end_time": "2021-03-30T03:49:08.720206",
     "exception": false,
     "start_time": "2021-03-30T03:48:28.749561",
     "status": "completed"
    },
    "tags": []
   },
   "outputs": [],
   "source": [
    "loaded_model = create_model()\n",
    "checkpoint = torch.load(\"../input/model14/model_14.bin\")\n",
    "loaded_model.load_state_dict(checkpoint['model_state_dict'])\n",
    "\n",
    "%mkdir image_predictions\n",
    "\n",
    "font = ImageFont.truetype('../input/arial-font/arial.ttf', 16)\n",
    "\n",
    "# for idx in range(10):\n",
    "idx = 4\n",
    "img, _ = val_dataset[idx]\n",
    "label_boxes = np.array(val_dataset[idx][1][\"boxes\"])\n",
    "#put the model in evaluation mode\n",
    "loaded_model.eval()\n",
    "with torch.no_grad():\n",
    "    prediction = loaded_model([img])\n",
    "image = Image.fromarray(img.mul(255).permute(1, 2, 0).byte().numpy())\n",
    "draw = ImageDraw.Draw(image, \"RGBA\")\n",
    "\n",
    "# draw groundtruth\n",
    "for elem in range(len(label_boxes)):\n",
    "    draw.rectangle([(label_boxes[elem][0], label_boxes[elem][1]), (label_boxes[elem][2], label_boxes[elem][3])], outline=(78, 186, 74), width=5)\n",
    "#     draw.text((label_boxes[elem][0], label_boxes[elem][1]-20), text=class_dictionary[val_dataset[idx][1][\"labels\"][elem].item()], font=font)\n",
    "\n",
    "for element in range(len(prediction[0][\"boxes\"])):\n",
    "    boxes = prediction[0][\"boxes\"][element].cpu().numpy()\n",
    "    score = np.round(prediction[0][\"scores\"][element].cpu().numpy(), decimals= 3)\n",
    "    if score > 0.4:\n",
    "        draw.rectangle([(boxes[0], boxes[1]), (boxes[2], boxes[3])], outline=(235, 64, 52), width=3)\n",
    "#         if (boxes[1] + 100 < boxesp[1])\n",
    "        score = \"{:.3f}\".format(score)\n",
    "        text = f'{class_dictionary[prediction[0][\"labels\"][element].item()]} {score}'\n",
    "        size_width, _ = draw.textsize(text, font)\n",
    "        draw.rectangle([(boxes[0], boxes[1]-20), (boxes[0] + size_width, boxes[1])], fill=(235, 64, 52, 127))\n",
    "        draw.text((boxes[0], boxes[1]-20), text=text, font=font)\n",
    "\n",
    "# image_name = df_val.at[idx, 'image_id']\n",
    "# image.save(f\"image_predictions/{image_name}.jpg\")\n",
    "image"
   ]
  },
  {
   "cell_type": "code",
   "execution_count": null,
   "metadata": {
    "execution": {
     "iopub.execute_input": "2021-03-30T03:49:09.020138Z",
     "iopub.status.busy": "2021-03-30T03:49:09.019594Z",
     "iopub.status.idle": "2021-03-30T03:49:39.643104Z",
     "shell.execute_reply": "2021-03-30T03:49:39.643581Z"
    },
    "papermill": {
     "duration": 30.781306,
     "end_time": "2021-03-30T03:49:39.643731",
     "exception": false,
     "start_time": "2021-03-30T03:49:08.862425",
     "status": "completed"
    },
    "tags": []
   },
   "outputs": [],
   "source": [
    "idx = 5\n",
    "img, _ = val_dataset[idx]\n",
    "label_boxes = np.array(val_dataset[idx][1][\"boxes\"])\n",
    "#put the model in evaluation mode\n",
    "loaded_model.eval()\n",
    "with torch.no_grad():\n",
    "    prediction = loaded_model([img])\n",
    "image = Image.fromarray(img.mul(255).permute(1, 2, 0).byte().numpy())\n",
    "draw = ImageDraw.Draw(image, \"RGBA\")\n",
    "\n",
    "# draw groundtruth\n",
    "for elem in range(len(label_boxes)):\n",
    "    draw.rectangle([(label_boxes[elem][0], label_boxes[elem][1]), (label_boxes[elem][2], label_boxes[elem][3])], outline=(78, 186, 74), width=5)\n",
    "#     draw.text((label_boxes[elem][0], label_boxes[elem][1]-20), text=class_dictionary[val_dataset[idx][1][\"labels\"][elem].item()], font=font)\n",
    "\n",
    "for element in range(len(prediction[0][\"boxes\"])):\n",
    "    boxes = prediction[0][\"boxes\"][element].cpu().numpy()\n",
    "    score = np.round(prediction[0][\"scores\"][element].cpu().numpy(), decimals= 3)\n",
    "    if score > 0.4:\n",
    "        draw.rectangle([(boxes[0], boxes[1]), (boxes[2], boxes[3])], outline=(235, 64, 52), width=3)\n",
    "#         if (boxes[1] + 100 < boxesp[1])\n",
    "        score = \"{:.3f}\".format(score)\n",
    "        text = f'{class_dictionary[prediction[0][\"labels\"][element].item()]} {score}'\n",
    "        size_width, _ = draw.textsize(text, font)\n",
    "        draw.rectangle([(boxes[0], boxes[1]-20), (boxes[0] + size_width, boxes[1])], fill=(235, 64, 52, 127))\n",
    "        draw.text((boxes[0], boxes[1]-20), text=text, font=font)\n",
    "\n",
    "# image_name = df_val.at[idx, 'image_id']\n",
    "# image.save(f\"image_predictions/{image_name}.jpg\")\n",
    "image"
   ]
  },
  {
   "cell_type": "code",
   "execution_count": null,
   "metadata": {
    "execution": {
     "iopub.execute_input": "2021-03-30T03:49:39.965915Z",
     "iopub.status.busy": "2021-03-30T03:49:39.965352Z",
     "iopub.status.idle": "2021-03-30T03:50:09.799211Z",
     "shell.execute_reply": "2021-03-30T03:50:09.799656Z"
    },
    "papermill": {
     "duration": 30.003531,
     "end_time": "2021-03-30T03:50:09.799814",
     "exception": false,
     "start_time": "2021-03-30T03:49:39.796283",
     "status": "completed"
    },
    "tags": []
   },
   "outputs": [],
   "source": [
    "idx = 6\n",
    "img, _ = val_dataset[idx]\n",
    "label_boxes = np.array(val_dataset[idx][1][\"boxes\"])\n",
    "#put the model in evaluation mode\n",
    "loaded_model.eval()\n",
    "with torch.no_grad():\n",
    "    prediction = loaded_model([img])\n",
    "image = Image.fromarray(img.mul(255).permute(1, 2, 0).byte().numpy())\n",
    "draw = ImageDraw.Draw(image, \"RGBA\")\n",
    "\n",
    "# draw groundtruth\n",
    "for elem in range(len(label_boxes)):\n",
    "    draw.rectangle([(label_boxes[elem][0], label_boxes[elem][1]), (label_boxes[elem][2], label_boxes[elem][3])], outline=(78, 186, 74), width=5)\n",
    "#     draw.text((label_boxes[elem][0], label_boxes[elem][1]-20), text=class_dictionary[val_dataset[idx][1][\"labels\"][elem].item()], font=font)\n",
    "\n",
    "for element in range(len(prediction[0][\"boxes\"])):\n",
    "    boxes = prediction[0][\"boxes\"][element].cpu().numpy()\n",
    "    score = np.round(prediction[0][\"scores\"][element].cpu().numpy(), decimals= 3)\n",
    "    if score > 0.4:\n",
    "        draw.rectangle([(boxes[0], boxes[1]), (boxes[2], boxes[3])], outline=(235, 64, 52), width=3)\n",
    "#         if (boxes[1] + 100 < boxesp[1])\n",
    "        score = \"{:.3f}\".format(score)\n",
    "        text = f'{class_dictionary[prediction[0][\"labels\"][element].item()]} {score}'\n",
    "        size_width, _ = draw.textsize(text, font)\n",
    "        draw.rectangle([(boxes[0], boxes[1]-20), (boxes[0] + size_width, boxes[1])], fill=(235, 64, 52, 127))\n",
    "        draw.text((boxes[0], boxes[1]-20), text=text, font=font)\n",
    "\n",
    "# image_name = df_val.at[idx, 'image_id']\n",
    "# image.save(f\"image_predictions/{image_name}.jpg\")\n",
    "image"
   ]
  },
  {
   "cell_type": "code",
   "execution_count": null,
   "metadata": {
    "execution": {
     "iopub.execute_input": "2021-03-30T03:50:10.159506Z",
     "iopub.status.busy": "2021-03-30T03:50:10.158616Z",
     "iopub.status.idle": "2021-03-30T03:50:40.969778Z",
     "shell.execute_reply": "2021-03-30T03:50:40.970235Z"
    },
    "papermill": {
     "duration": 30.992212,
     "end_time": "2021-03-30T03:50:40.970400",
     "exception": false,
     "start_time": "2021-03-30T03:50:09.978188",
     "status": "completed"
    },
    "tags": []
   },
   "outputs": [],
   "source": [
    "idx = 7\n",
    "img, _ = val_dataset[idx]\n",
    "label_boxes = np.array(val_dataset[idx][1][\"boxes\"])\n",
    "#put the model in evaluation mode\n",
    "loaded_model.eval()\n",
    "with torch.no_grad():\n",
    "    prediction = loaded_model([img])\n",
    "image = Image.fromarray(img.mul(255).permute(1, 2, 0).byte().numpy())\n",
    "draw = ImageDraw.Draw(image, \"RGBA\")\n",
    "\n",
    "# draw groundtruth\n",
    "for elem in range(len(label_boxes)):\n",
    "    draw.rectangle([(label_boxes[elem][0], label_boxes[elem][1]), (label_boxes[elem][2], label_boxes[elem][3])], outline=(78, 186, 74), width=5)\n",
    "#     draw.text((label_boxes[elem][0], label_boxes[elem][1]-20), text=class_dictionary[val_dataset[idx][1][\"labels\"][elem].item()], font=font)\n",
    "\n",
    "for element in range(len(prediction[0][\"boxes\"])):\n",
    "    boxes = prediction[0][\"boxes\"][element].cpu().numpy()\n",
    "    score = np.round(prediction[0][\"scores\"][element].cpu().numpy(), decimals= 3)\n",
    "    if score > 0.4:\n",
    "        draw.rectangle([(boxes[0], boxes[1]), (boxes[2], boxes[3])], outline=(235, 64, 52), width=3)\n",
    "#         if (boxes[1] + 100 < boxesp[1])\n",
    "        score = \"{:.3f}\".format(score)\n",
    "        text = f'{class_dictionary[prediction[0][\"labels\"][element].item()]} {score}'\n",
    "        size_width, _ = draw.textsize(text, font)\n",
    "        draw.rectangle([(boxes[0], boxes[1]-20), (boxes[0] + size_width, boxes[1])], fill=(235, 64, 52, 127))\n",
    "        draw.text((boxes[0], boxes[1]-20), text=text, font=font)\n",
    "\n",
    "# image_name = df_val.at[idx, 'image_id']\n",
    "# image.save(f\"image_predictions/{image_name}.jpg\")\n",
    "image"
   ]
  },
  {
   "cell_type": "code",
   "execution_count": null,
   "metadata": {
    "execution": {
     "iopub.execute_input": "2021-03-30T03:50:41.374598Z",
     "iopub.status.busy": "2021-03-30T03:50:41.374051Z",
     "iopub.status.idle": "2021-03-30T03:51:11.350772Z",
     "shell.execute_reply": "2021-03-30T03:51:11.348276Z"
    },
    "papermill": {
     "duration": 30.186765,
     "end_time": "2021-03-30T03:51:11.350999",
     "exception": false,
     "start_time": "2021-03-30T03:50:41.164234",
     "status": "completed"
    },
    "tags": []
   },
   "outputs": [],
   "source": [
    "idx = 8\n",
    "img, _ = val_dataset[idx]\n",
    "label_boxes = np.array(val_dataset[idx][1][\"boxes\"])\n",
    "#put the model in evaluation mode\n",
    "loaded_model.eval()\n",
    "with torch.no_grad():\n",
    "    prediction = loaded_model([img])\n",
    "image = Image.fromarray(img.mul(255).permute(1, 2, 0).byte().numpy())\n",
    "draw = ImageDraw.Draw(image, \"RGBA\")\n",
    "\n",
    "# draw groundtruth\n",
    "for elem in range(len(label_boxes)):\n",
    "    draw.rectangle([(label_boxes[elem][0], label_boxes[elem][1]), (label_boxes[elem][2], label_boxes[elem][3])], outline=(78, 186, 74), width=5)\n",
    "#     draw.text((label_boxes[elem][0], label_boxes[elem][1]-20), text=class_dictionary[val_dataset[idx][1][\"labels\"][elem].item()], font=font)\n",
    "\n",
    "for element in range(len(prediction[0][\"boxes\"])):\n",
    "    boxes = prediction[0][\"boxes\"][element].cpu().numpy()\n",
    "    score = np.round(prediction[0][\"scores\"][element].cpu().numpy(), decimals= 3)\n",
    "    if score > 0.4:\n",
    "        draw.rectangle([(boxes[0], boxes[1]), (boxes[2], boxes[3])], outline=(235, 64, 52), width=3)\n",
    "#         if (boxes[1] + 100 < boxesp[1])\n",
    "        score = \"{:.3f}\".format(score)\n",
    "        text = f'{class_dictionary[prediction[0][\"labels\"][element].item()]} {score}'\n",
    "        size_width, _ = draw.textsize(text, font)\n",
    "        draw.rectangle([(boxes[0], boxes[1]-20), (boxes[0] + size_width, boxes[1])], fill=(235, 64, 52, 127))\n",
    "        draw.text((boxes[0], boxes[1]-20), text=text, font=font)\n",
    "\n",
    "# image_name = df_val.at[idx, 'image_id']\n",
    "# image.save(f\"image_predictions/{image_name}.jpg\")\n",
    "image"
   ]
  }
 ],
 "metadata": {
  "kernelspec": {
   "display_name": "Python 3",
   "language": "python",
   "name": "python3"
  },
  "language_info": {
   "codemirror_mode": {
    "name": "ipython",
    "version": 3
   },
   "file_extension": ".py",
   "mimetype": "text/x-python",
   "name": "python",
   "nbconvert_exporter": "python",
   "pygments_lexer": "ipython3",
   "version": "3.8.5"
  },
  "papermill": {
   "default_parameters": {},
   "duration": 17327.898861,
   "end_time": "2021-03-30T03:51:14.925794",
   "environment_variables": {},
   "exception": null,
   "input_path": "__notebook__.ipynb",
   "output_path": "__notebook__.ipynb",
   "parameters": {},
   "start_time": "2021-03-29T23:02:27.026933",
   "version": "2.2.2"
  },
  "widgets": {
   "application/vnd.jupyter.widget-state+json": {
    "state": {
     "46cf7e02f5484c81b176f69f25834297": {
      "model_module": "@jupyter-widgets/controls",
      "model_module_version": "1.5.0",
      "model_name": "DescriptionStyleModel",
      "state": {
       "_model_module": "@jupyter-widgets/controls",
       "_model_module_version": "1.5.0",
       "_model_name": "DescriptionStyleModel",
       "_view_count": null,
       "_view_module": "@jupyter-widgets/base",
       "_view_module_version": "1.2.0",
       "_view_name": "StyleView",
       "description_width": ""
      }
     },
     "4f4c56ead9b14874ab2fcf3267752c37": {
      "model_module": "@jupyter-widgets/base",
      "model_module_version": "1.2.0",
      "model_name": "LayoutModel",
      "state": {
       "_model_module": "@jupyter-widgets/base",
       "_model_module_version": "1.2.0",
       "_model_name": "LayoutModel",
       "_view_count": null,
       "_view_module": "@jupyter-widgets/base",
       "_view_module_version": "1.2.0",
       "_view_name": "LayoutView",
       "align_content": null,
       "align_items": null,
       "align_self": null,
       "border": null,
       "bottom": null,
       "display": null,
       "flex": null,
       "flex_flow": null,
       "grid_area": null,
       "grid_auto_columns": null,
       "grid_auto_flow": null,
       "grid_auto_rows": null,
       "grid_column": null,
       "grid_gap": null,
       "grid_row": null,
       "grid_template_areas": null,
       "grid_template_columns": null,
       "grid_template_rows": null,
       "height": null,
       "justify_content": null,
       "justify_items": null,
       "left": null,
       "margin": null,
       "max_height": null,
       "max_width": null,
       "min_height": null,
       "min_width": null,
       "object_fit": null,
       "object_position": null,
       "order": null,
       "overflow": null,
       "overflow_x": null,
       "overflow_y": null,
       "padding": null,
       "right": null,
       "top": null,
       "visibility": null,
       "width": null
      }
     },
     "62d3a66a963c440f8dc655a6bf567e5e": {
      "model_module": "@jupyter-widgets/base",
      "model_module_version": "1.2.0",
      "model_name": "LayoutModel",
      "state": {
       "_model_module": "@jupyter-widgets/base",
       "_model_module_version": "1.2.0",
       "_model_name": "LayoutModel",
       "_view_count": null,
       "_view_module": "@jupyter-widgets/base",
       "_view_module_version": "1.2.0",
       "_view_name": "LayoutView",
       "align_content": null,
       "align_items": null,
       "align_self": null,
       "border": null,
       "bottom": null,
       "display": null,
       "flex": null,
       "flex_flow": null,
       "grid_area": null,
       "grid_auto_columns": null,
       "grid_auto_flow": null,
       "grid_auto_rows": null,
       "grid_column": null,
       "grid_gap": null,
       "grid_row": null,
       "grid_template_areas": null,
       "grid_template_columns": null,
       "grid_template_rows": null,
       "height": null,
       "justify_content": null,
       "justify_items": null,
       "left": null,
       "margin": null,
       "max_height": null,
       "max_width": null,
       "min_height": null,
       "min_width": null,
       "object_fit": null,
       "object_position": null,
       "order": null,
       "overflow": null,
       "overflow_x": null,
       "overflow_y": null,
       "padding": null,
       "right": null,
       "top": null,
       "visibility": null,
       "width": null
      }
     },
     "71382bce0f3b4ea9875a703ea3234e07": {
      "model_module": "@jupyter-widgets/controls",
      "model_module_version": "1.5.0",
      "model_name": "ProgressStyleModel",
      "state": {
       "_model_module": "@jupyter-widgets/controls",
       "_model_module_version": "1.5.0",
       "_model_name": "ProgressStyleModel",
       "_view_count": null,
       "_view_module": "@jupyter-widgets/base",
       "_view_module_version": "1.2.0",
       "_view_name": "StyleView",
       "bar_color": null,
       "description_width": ""
      }
     },
     "715e88d4409d46a892d26cf78c25eff7": {
      "model_module": "@jupyter-widgets/controls",
      "model_module_version": "1.5.0",
      "model_name": "HTMLModel",
      "state": {
       "_dom_classes": [],
       "_model_module": "@jupyter-widgets/controls",
       "_model_module_version": "1.5.0",
       "_model_name": "HTMLModel",
       "_view_count": null,
       "_view_module": "@jupyter-widgets/controls",
       "_view_module_version": "1.5.0",
       "_view_name": "HTMLView",
       "description": "",
       "description_tooltip": null,
       "layout": "IPY_MODEL_d50d5f91592e473e9752a7c78e1dab77",
       "placeholder": "​",
       "style": "IPY_MODEL_46cf7e02f5484c81b176f69f25834297",
       "value": "100%"
      }
     },
     "95e65df2f52140339ee3965722aa4715": {
      "model_module": "@jupyter-widgets/base",
      "model_module_version": "1.2.0",
      "model_name": "LayoutModel",
      "state": {
       "_model_module": "@jupyter-widgets/base",
       "_model_module_version": "1.2.0",
       "_model_name": "LayoutModel",
       "_view_count": null,
       "_view_module": "@jupyter-widgets/base",
       "_view_module_version": "1.2.0",
       "_view_name": "LayoutView",
       "align_content": null,
       "align_items": null,
       "align_self": null,
       "border": null,
       "bottom": null,
       "display": null,
       "flex": null,
       "flex_flow": null,
       "grid_area": null,
       "grid_auto_columns": null,
       "grid_auto_flow": null,
       "grid_auto_rows": null,
       "grid_column": null,
       "grid_gap": null,
       "grid_row": null,
       "grid_template_areas": null,
       "grid_template_columns": null,
       "grid_template_rows": null,
       "height": null,
       "justify_content": null,
       "justify_items": null,
       "left": null,
       "margin": null,
       "max_height": null,
       "max_width": null,
       "min_height": null,
       "min_width": null,
       "object_fit": null,
       "object_position": null,
       "order": null,
       "overflow": null,
       "overflow_x": null,
       "overflow_y": null,
       "padding": null,
       "right": null,
       "top": null,
       "visibility": null,
       "width": null
      }
     },
     "d50d5f91592e473e9752a7c78e1dab77": {
      "model_module": "@jupyter-widgets/base",
      "model_module_version": "1.2.0",
      "model_name": "LayoutModel",
      "state": {
       "_model_module": "@jupyter-widgets/base",
       "_model_module_version": "1.2.0",
       "_model_name": "LayoutModel",
       "_view_count": null,
       "_view_module": "@jupyter-widgets/base",
       "_view_module_version": "1.2.0",
       "_view_name": "LayoutView",
       "align_content": null,
       "align_items": null,
       "align_self": null,
       "border": null,
       "bottom": null,
       "display": null,
       "flex": null,
       "flex_flow": null,
       "grid_area": null,
       "grid_auto_columns": null,
       "grid_auto_flow": null,
       "grid_auto_rows": null,
       "grid_column": null,
       "grid_gap": null,
       "grid_row": null,
       "grid_template_areas": null,
       "grid_template_columns": null,
       "grid_template_rows": null,
       "height": null,
       "justify_content": null,
       "justify_items": null,
       "left": null,
       "margin": null,
       "max_height": null,
       "max_width": null,
       "min_height": null,
       "min_width": null,
       "object_fit": null,
       "object_position": null,
       "order": null,
       "overflow": null,
       "overflow_x": null,
       "overflow_y": null,
       "padding": null,
       "right": null,
       "top": null,
       "visibility": null,
       "width": null
      }
     },
     "ec2f10e9734843058e9bcf8d40273bfc": {
      "model_module": "@jupyter-widgets/controls",
      "model_module_version": "1.5.0",
      "model_name": "FloatProgressModel",
      "state": {
       "_dom_classes": [],
       "_model_module": "@jupyter-widgets/controls",
       "_model_module_version": "1.5.0",
       "_model_name": "FloatProgressModel",
       "_view_count": null,
       "_view_module": "@jupyter-widgets/controls",
       "_view_module_version": "1.5.0",
       "_view_name": "ProgressView",
       "bar_style": "success",
       "description": "",
       "description_tooltip": null,
       "layout": "IPY_MODEL_95e65df2f52140339ee3965722aa4715",
       "max": 167502836,
       "min": 0,
       "orientation": "horizontal",
       "style": "IPY_MODEL_71382bce0f3b4ea9875a703ea3234e07",
       "value": 167502836
      }
     },
     "efb18fd745454a928f0f464203c7cccc": {
      "model_module": "@jupyter-widgets/controls",
      "model_module_version": "1.5.0",
      "model_name": "DescriptionStyleModel",
      "state": {
       "_model_module": "@jupyter-widgets/controls",
       "_model_module_version": "1.5.0",
       "_model_name": "DescriptionStyleModel",
       "_view_count": null,
       "_view_module": "@jupyter-widgets/base",
       "_view_module_version": "1.2.0",
       "_view_name": "StyleView",
       "description_width": ""
      }
     },
     "f3bfd81d1bcd4accb04a9fb1f132862c": {
      "model_module": "@jupyter-widgets/controls",
      "model_module_version": "1.5.0",
      "model_name": "HTMLModel",
      "state": {
       "_dom_classes": [],
       "_model_module": "@jupyter-widgets/controls",
       "_model_module_version": "1.5.0",
       "_model_name": "HTMLModel",
       "_view_count": null,
       "_view_module": "@jupyter-widgets/controls",
       "_view_module_version": "1.5.0",
       "_view_name": "HTMLView",
       "description": "",
       "description_tooltip": null,
       "layout": "IPY_MODEL_4f4c56ead9b14874ab2fcf3267752c37",
       "placeholder": "​",
       "style": "IPY_MODEL_efb18fd745454a928f0f464203c7cccc",
       "value": " 160M/160M [00:02&lt;00:00, 72.2MB/s]"
      }
     },
     "fac54affa50343d0bda051eeaa4327c4": {
      "model_module": "@jupyter-widgets/controls",
      "model_module_version": "1.5.0",
      "model_name": "HBoxModel",
      "state": {
       "_dom_classes": [],
       "_model_module": "@jupyter-widgets/controls",
       "_model_module_version": "1.5.0",
       "_model_name": "HBoxModel",
       "_view_count": null,
       "_view_module": "@jupyter-widgets/controls",
       "_view_module_version": "1.5.0",
       "_view_name": "HBoxView",
       "box_style": "",
       "children": [
        "IPY_MODEL_715e88d4409d46a892d26cf78c25eff7",
        "IPY_MODEL_ec2f10e9734843058e9bcf8d40273bfc",
        "IPY_MODEL_f3bfd81d1bcd4accb04a9fb1f132862c"
       ],
       "layout": "IPY_MODEL_62d3a66a963c440f8dc655a6bf567e5e"
      }
     }
    },
    "version_major": 2,
    "version_minor": 0
   }
  }
 },
 "nbformat": 4,
 "nbformat_minor": 4
}
