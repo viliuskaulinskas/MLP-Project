{
 "cells": [
  {
   "cell_type": "code",
   "execution_count": 1,
   "id": "confirmed-builder",
   "metadata": {
    "_cell_guid": "2951d263-e7d8-4eab-9332-30ae13d9cb77",
    "_uuid": "1b3b48a8-0e7d-4c63-93ca-a2f77aac1692",
    "execution": {
     "iopub.execute_input": "2021-03-30T11:46:03.910479Z",
     "iopub.status.busy": "2021-03-30T11:46:03.909086Z",
     "iopub.status.idle": "2021-03-30T11:46:03.917245Z",
     "shell.execute_reply": "2021-03-30T11:46:03.916740Z"
    },
    "papermill": {
     "duration": 0.019545,
     "end_time": "2021-03-30T11:46:03.917362",
     "exception": false,
     "start_time": "2021-03-30T11:46:03.897817",
     "status": "completed"
    },
    "tags": []
   },
   "outputs": [],
   "source": [
    "import numpy as np\n",
    "import os\n",
    "from tqdm.auto import tqdm\n",
    "# from pathos.multiprocessing import ProcessingPool as Pool\n",
    "# from functools import partial\n",
    "import pandas as pd\n",
    "from PIL import Image"
   ]
  },
  {
   "cell_type": "code",
   "execution_count": 2,
   "id": "decent-genealogy",
   "metadata": {
    "_cell_guid": "0ed7678f-5dcf-4247-9c27-acfc27778302",
    "_uuid": "027832d5-a2e5-4b24-9e9c-c3aadb36d6dd",
    "execution": {
     "iopub.execute_input": "2021-03-30T11:46:03.935794Z",
     "iopub.status.busy": "2021-03-30T11:46:03.935220Z",
     "iopub.status.idle": "2021-03-30T11:46:06.356964Z",
     "shell.execute_reply": "2021-03-30T11:46:06.356526Z"
    },
    "papermill": {
     "duration": 2.432804,
     "end_time": "2021-03-30T11:46:06.357083",
     "exception": false,
     "start_time": "2021-03-30T11:46:03.924279",
     "status": "completed"
    },
    "tags": []
   },
   "outputs": [
    {
     "name": "stdout",
     "output_type": "stream",
     "text": [
      "Cloning into 'ScaledYOLOv4'...\r\n",
      "remote: Enumerating objects: 92, done.\u001b[K\r\n",
      "remote: Counting objects: 100% (92/92), done.\u001b[K\r\n",
      "remote: Compressing objects: 100% (62/62), done.\u001b[K\r\n",
      "remote: Total 220 (delta 61), reused 60 (delta 30), pack-reused 128\u001b[K\r\n",
      "Receiving objects: 100% (220/220), 401.93 KiB | 2.14 MiB/s, done.\r\n",
      "Resolving deltas: 100% (113/113), done.\r\n",
      "/kaggle/working/ScaledYOLOv4\n",
      "Branch 'yolov4-large' set up to track remote branch 'yolov4-large' from 'origin'.\r\n",
      "Switched to a new branch 'yolov4-large'\r\n"
     ]
    }
   ],
   "source": [
    "# clone Scaled_YOLOv4\n",
    "!git clone https://github.com/tom-auger/ScaledYOLOv4.git\n",
    "%cd ScaledYOLOv4/\n",
    "#checkout the yolov4-large branch\n",
    "!git checkout yolov4-large"
   ]
  },
  {
   "cell_type": "code",
   "execution_count": 3,
   "id": "greater-birthday",
   "metadata": {
    "_cell_guid": "024d95ac-8fe8-4275-b174-6276df095f53",
    "_uuid": "75ef516d-65a4-4d08-a969-7dd76b39f008",
    "execution": {
     "iopub.execute_input": "2021-03-30T11:46:06.387286Z",
     "iopub.status.busy": "2021-03-30T11:46:06.386793Z",
     "iopub.status.idle": "2021-03-30T11:46:06.562628Z",
     "shell.execute_reply": "2021-03-30T11:46:06.561536Z"
    },
    "papermill": {
     "duration": 0.195869,
     "end_time": "2021-03-30T11:46:06.562780",
     "exception": false,
     "start_time": "2021-03-30T11:46:06.366911",
     "status": "completed"
    },
    "tags": []
   },
   "outputs": [],
   "source": [
    "df_train = pd.read_csv('/kaggle/input/vinbigstratifiedyolo/vinbigstratified/train_orig.csv')\n",
    "df_val = pd.read_csv('/kaggle/input/vinbigstratifiedyolo/vinbigstratified/validation_orig.csv')\n",
    "df_test = pd.read_csv('/kaggle/input/vinbigstratifiedyolo/vinbigstratified/test_orig.csv')"
   ]
  },
  {
   "cell_type": "code",
   "execution_count": 4,
   "id": "listed-antenna",
   "metadata": {
    "_cell_guid": "9e7e3771-2c37-4f04-bce9-a6b0b7565157",
    "_uuid": "e48b4fe7-29eb-45c8-a190-e9273a602c85",
    "execution": {
     "iopub.execute_input": "2021-03-30T11:46:06.586380Z",
     "iopub.status.busy": "2021-03-30T11:46:06.585870Z",
     "iopub.status.idle": "2021-03-30T11:46:08.294796Z",
     "shell.execute_reply": "2021-03-30T11:46:08.293576Z"
    },
    "papermill": {
     "duration": 1.722512,
     "end_time": "2021-03-30T11:46:08.294965",
     "exception": false,
     "start_time": "2021-03-30T11:46:06.572453",
     "status": "completed"
    },
    "tags": []
   },
   "outputs": [
    {
     "name": "stdout",
     "output_type": "stream",
     "text": [
      "Using torch 1.7.0 _CudaDeviceProperties(name='Tesla P100-PCIE-16GB', major=6, minor=0, total_memory=16280MB, multi_processor_count=56)\n"
     ]
    }
   ],
   "source": [
    "import torch\n",
    "print('Using torch %s %s' % (torch.__version__, torch.cuda.get_device_properties(0) if torch.cuda.is_available() else 'CPU'))"
   ]
  },
  {
   "cell_type": "code",
   "execution_count": 5,
   "id": "alien-workplace",
   "metadata": {
    "_cell_guid": "b93d0894-7529-4789-afcf-ab50804ff7eb",
    "_uuid": "c9e316e2-cf48-4718-bf3f-79964f2a1839",
    "execution": {
     "iopub.execute_input": "2021-03-30T11:46:08.323776Z",
     "iopub.status.busy": "2021-03-30T11:46:08.322945Z",
     "iopub.status.idle": "2021-03-30T11:46:55.783421Z",
     "shell.execute_reply": "2021-03-30T11:46:55.784177Z"
    },
    "papermill": {
     "duration": 47.478629,
     "end_time": "2021-03-30T11:46:55.784441",
     "exception": false,
     "start_time": "2021-03-30T11:46:08.305812",
     "status": "completed"
    },
    "tags": []
   },
   "outputs": [
    {
     "name": "stdout",
     "output_type": "stream",
     "text": [
      "/kaggle/working\n",
      "Cloning into 'mish-cuda'...\r\n",
      "remote: Enumerating objects: 88, done.\u001b[K\r\n",
      "remote: Counting objects: 100% (88/88), done.\u001b[K\r\n",
      "remote: Compressing objects: 100% (75/75), done.\u001b[K\r\n",
      "remote: Total 195 (delta 7), reused 79 (delta 3), pack-reused 107\u001b[K\r\n",
      "Receiving objects: 100% (195/195), 208.77 KiB | 1.22 MiB/s, done.\r\n",
      "Resolving deltas: 100% (56/56), done.\r\n",
      "/kaggle/working/mish-cuda\n",
      "/opt/conda/lib/python3.7/distutils/extension.py:131: UserWarning: Unknown Extension options: 'headers'\r\n",
      "  warnings.warn(msg)\r\n",
      "running build\r\n",
      "running build_py\r\n",
      "creating build\r\n",
      "creating build/lib.linux-x86_64-3.7\r\n",
      "creating build/lib.linux-x86_64-3.7/mish_cuda\r\n",
      "copying src/mish_cuda/__init__.py -> build/lib.linux-x86_64-3.7/mish_cuda\r\n",
      "running egg_info\r\n",
      "creating src/mish_cuda.egg-info\r\n",
      "writing src/mish_cuda.egg-info/PKG-INFO\r\n",
      "writing dependency_links to src/mish_cuda.egg-info/dependency_links.txt\r\n",
      "writing requirements to src/mish_cuda.egg-info/requires.txt\r\n",
      "writing top-level names to src/mish_cuda.egg-info/top_level.txt\r\n",
      "writing manifest file 'src/mish_cuda.egg-info/SOURCES.txt'\r\n",
      "writing manifest file 'src/mish_cuda.egg-info/SOURCES.txt'\r\n",
      "running build_ext\r\n",
      "building 'mish_cuda._C' extension\r\n",
      "creating /kaggle/working/mish-cuda/build/temp.linux-x86_64-3.7\r\n",
      "creating /kaggle/working/mish-cuda/build/temp.linux-x86_64-3.7/csrc\r\n",
      "creating /kaggle/working/mish-cuda/build/temp.linux-x86_64-3.7/csrc/cpu\r\n",
      "creating /kaggle/working/mish-cuda/build/temp.linux-x86_64-3.7/csrc/cuda\r\n",
      "Emitting ninja build file /kaggle/working/mish-cuda/build/temp.linux-x86_64-3.7/build.ninja...\r\n",
      "Compiling objects...\r\n",
      "Allowing ninja to set a default number of workers... (overridable by setting the environment variable MAX_JOBS=N)\r\n",
      "[1/3] c++ -MMD -MF /kaggle/working/mish-cuda/build/temp.linux-x86_64-3.7/csrc/cpu/mish_cpu.o.d -pthread -B /opt/conda/compiler_compat -Wl,--sysroot=/ -Wsign-compare -DNDEBUG -g -fwrapv -O3 -Wall -Wstrict-prototypes -fPIC -I/opt/conda/lib/python3.7/site-packages/torch/include -I/opt/conda/lib/python3.7/site-packages/torch/include/torch/csrc/api/include -I/opt/conda/lib/python3.7/site-packages/torch/include/TH -I/opt/conda/lib/python3.7/site-packages/torch/include/THC -I/usr/local/cuda/include -I/opt/conda/include/python3.7m -c -c /kaggle/working/mish-cuda/csrc/cpu/mish_cpu.cpp -o /kaggle/working/mish-cuda/build/temp.linux-x86_64-3.7/csrc/cpu/mish_cpu.o -DTORCH_API_INCLUDE_EXTENSION_H -DTORCH_EXTENSION_NAME=_C -D_GLIBCXX_USE_CXX11_ABI=0 -std=c++14\r\n",
      "cc1plus: warning: command line option ‘-Wstrict-prototypes’ is valid for C/ObjC but not for C++\r\n",
      "In file included from /opt/conda/lib/python3.7/site-packages/torch/include/ATen/Parallel.h:149:0,\r\n",
      "                 from /opt/conda/lib/python3.7/site-packages/torch/include/ATen/CPUApplyUtils.h:3,\r\n",
      "                 from /kaggle/working/mish-cuda/csrc/cpu/mish_cpu.cpp:3:\r\n",
      "/opt/conda/lib/python3.7/site-packages/torch/include/ATen/ParallelOpenMP.h:84:0: warning: ignoring #pragma omp parallel [-Wunknown-pragmas]\r\n",
      " #pragma omp parallel for if ((end - begin) >= grain_size)\r\n",
      " \r\n",
      "[2/3] c++ -MMD -MF /kaggle/working/mish-cuda/build/temp.linux-x86_64-3.7/csrc/cuda/mish_cuda.o.d -pthread -B /opt/conda/compiler_compat -Wl,--sysroot=/ -Wsign-compare -DNDEBUG -g -fwrapv -O3 -Wall -Wstrict-prototypes -fPIC -I/opt/conda/lib/python3.7/site-packages/torch/include -I/opt/conda/lib/python3.7/site-packages/torch/include/torch/csrc/api/include -I/opt/conda/lib/python3.7/site-packages/torch/include/TH -I/opt/conda/lib/python3.7/site-packages/torch/include/THC -I/usr/local/cuda/include -I/opt/conda/include/python3.7m -c -c /kaggle/working/mish-cuda/csrc/cuda/mish_cuda.cpp -o /kaggle/working/mish-cuda/build/temp.linux-x86_64-3.7/csrc/cuda/mish_cuda.o -DTORCH_API_INCLUDE_EXTENSION_H -DTORCH_EXTENSION_NAME=_C -D_GLIBCXX_USE_CXX11_ABI=0 -std=c++14\r\n",
      "cc1plus: warning: command line option ‘-Wstrict-prototypes’ is valid for C/ObjC but not for C++\r\n",
      "In file included from /opt/conda/lib/python3.7/site-packages/torch/include/ATen/Parallel.h:149:0,\r\n",
      "                 from /opt/conda/lib/python3.7/site-packages/torch/include/torch/csrc/api/include/torch/utils.h:3,\r\n",
      "                 from /opt/conda/lib/python3.7/site-packages/torch/include/torch/csrc/api/include/torch/nn/cloneable.h:5,\r\n",
      "                 from /opt/conda/lib/python3.7/site-packages/torch/include/torch/csrc/api/include/torch/nn.h:3,\r\n",
      "                 from /opt/conda/lib/python3.7/site-packages/torch/include/torch/csrc/api/include/torch/all.h:12,\r\n",
      "                 from /opt/conda/lib/python3.7/site-packages/torch/include/torch/extension.h:4,\r\n",
      "                 from /kaggle/working/mish-cuda/csrc/cuda/mish_cuda.cpp:2:\r\n",
      "/opt/conda/lib/python3.7/site-packages/torch/include/ATen/ParallelOpenMP.h:84:0: warning: ignoring #pragma omp parallel [-Wunknown-pragmas]\r\n",
      " #pragma omp parallel for if ((end - begin) >= grain_size)\r\n",
      " \r\n",
      "[3/3] /usr/local/cuda/bin/nvcc -I/opt/conda/lib/python3.7/site-packages/torch/include -I/opt/conda/lib/python3.7/site-packages/torch/include/torch/csrc/api/include -I/opt/conda/lib/python3.7/site-packages/torch/include/TH -I/opt/conda/lib/python3.7/site-packages/torch/include/THC -I/usr/local/cuda/include -I/opt/conda/include/python3.7m -c -c /kaggle/working/mish-cuda/csrc/cuda/mish_kernel.cu -o /kaggle/working/mish-cuda/build/temp.linux-x86_64-3.7/csrc/cuda/mish_kernel.o -D__CUDA_NO_HALF_OPERATORS__ -D__CUDA_NO_HALF_CONVERSIONS__ -D__CUDA_NO_HALF2_OPERATORS__ --expt-relaxed-constexpr --compiler-options ''\"'\"'-fPIC'\"'\"'' --expt-extended-lambda -DTORCH_API_INCLUDE_EXTENSION_H -DTORCH_EXTENSION_NAME=_C -D_GLIBCXX_USE_CXX11_ABI=0 -gencode=arch=compute_60,code=sm_60 -std=c++14\r\n",
      "/opt/conda/lib/python3.7/site-packages/torch/include/ATen/core/boxing/impl/boxing.h(100): warning: integer conversion resulted in a change of sign\r\n",
      "\r\n",
      "/opt/conda/lib/python3.7/site-packages/torch/include/ATen/core/op_registration/op_whitelist.h(39): warning: integer conversion resulted in a change of sign\r\n",
      "\r\n",
      "/opt/conda/lib/python3.7/site-packages/torch/include/ATen/core/boxing/impl/boxing.h(100): warning: integer conversion resulted in a change of sign\r\n",
      "\r\n",
      "/opt/conda/lib/python3.7/site-packages/torch/include/ATen/core/op_registration/op_whitelist.h(39): warning: integer conversion resulted in a change of sign\r\n",
      "\r\n",
      "g++ -pthread -shared -B /opt/conda/compiler_compat -L/opt/conda/lib -Wl,-rpath=/opt/conda/lib -Wl,--no-as-needed -Wl,--sysroot=/ /kaggle/working/mish-cuda/build/temp.linux-x86_64-3.7/csrc/cpu/mish_cpu.o /kaggle/working/mish-cuda/build/temp.linux-x86_64-3.7/csrc/cuda/mish_cuda.o /kaggle/working/mish-cuda/build/temp.linux-x86_64-3.7/csrc/cuda/mish_kernel.o -L/opt/conda/lib/python3.7/site-packages/torch/lib -L/usr/local/cuda/lib64 -lc10 -ltorch -ltorch_cpu -ltorch_python -lcudart -lc10_cuda -ltorch_cuda -o build/lib.linux-x86_64-3.7/mish_cuda/_C.cpython-37m-x86_64-linux-gnu.so\r\n",
      "running install\r\n",
      "running bdist_egg\r\n",
      "installing library code to build/bdist.linux-x86_64/egg\r\n",
      "running install_lib\r\n",
      "creating build/bdist.linux-x86_64\r\n",
      "creating build/bdist.linux-x86_64/egg\r\n",
      "creating build/bdist.linux-x86_64/egg/mish_cuda\r\n",
      "copying build/lib.linux-x86_64-3.7/mish_cuda/__init__.py -> build/bdist.linux-x86_64/egg/mish_cuda\r\n",
      "copying build/lib.linux-x86_64-3.7/mish_cuda/_C.cpython-37m-x86_64-linux-gnu.so -> build/bdist.linux-x86_64/egg/mish_cuda\r\n",
      "byte-compiling build/bdist.linux-x86_64/egg/mish_cuda/__init__.py to __init__.cpython-37.pyc\r\n",
      "creating stub loader for mish_cuda/_C.cpython-37m-x86_64-linux-gnu.so\r\n",
      "byte-compiling build/bdist.linux-x86_64/egg/mish_cuda/_C.py to _C.cpython-37.pyc\r\n",
      "creating build/bdist.linux-x86_64/egg/EGG-INFO\r\n",
      "copying src/mish_cuda.egg-info/PKG-INFO -> build/bdist.linux-x86_64/egg/EGG-INFO\r\n",
      "copying src/mish_cuda.egg-info/SOURCES.txt -> build/bdist.linux-x86_64/egg/EGG-INFO\r\n",
      "copying src/mish_cuda.egg-info/dependency_links.txt -> build/bdist.linux-x86_64/egg/EGG-INFO\r\n",
      "copying src/mish_cuda.egg-info/not-zip-safe -> build/bdist.linux-x86_64/egg/EGG-INFO\r\n",
      "copying src/mish_cuda.egg-info/requires.txt -> build/bdist.linux-x86_64/egg/EGG-INFO\r\n",
      "copying src/mish_cuda.egg-info/top_level.txt -> build/bdist.linux-x86_64/egg/EGG-INFO\r\n",
      "writing build/bdist.linux-x86_64/egg/EGG-INFO/native_libs.txt\r\n",
      "creating dist\r\n",
      "creating 'dist/mish_cuda-0.0.3-py3.7-linux-x86_64.egg' and adding 'build/bdist.linux-x86_64/egg' to it\r\n",
      "removing 'build/bdist.linux-x86_64/egg' (and everything under it)\r\n",
      "Processing mish_cuda-0.0.3-py3.7-linux-x86_64.egg\r\n",
      "creating /opt/conda/lib/python3.7/site-packages/mish_cuda-0.0.3-py3.7-linux-x86_64.egg\r\n",
      "Extracting mish_cuda-0.0.3-py3.7-linux-x86_64.egg to /opt/conda/lib/python3.7/site-packages\r\n",
      "Adding mish-cuda 0.0.3 to easy-install.pth file\r\n",
      "\r\n",
      "Installed /opt/conda/lib/python3.7/site-packages/mish_cuda-0.0.3-py3.7-linux-x86_64.egg\r\n",
      "Processing dependencies for mish-cuda==0.0.3\r\n",
      "Searching for torch==1.7.0\r\n",
      "Best match: torch 1.7.0\r\n",
      "Adding torch 1.7.0 to easy-install.pth file\r\n",
      "Installing convert-caffe2-to-onnx script to /opt/conda/bin\r\n",
      "Installing convert-onnx-to-caffe2 script to /opt/conda/bin\r\n",
      "\r\n",
      "Using /opt/conda/lib/python3.7/site-packages\r\n",
      "Searching for numpy==1.19.5\r\n",
      "Best match: numpy 1.19.5\r\n",
      "Adding numpy 1.19.5 to easy-install.pth file\r\n",
      "Installing f2py script to /opt/conda/bin\r\n",
      "Installing f2py3 script to /opt/conda/bin\r\n",
      "Installing f2py3.7 script to /opt/conda/bin\r\n",
      "\r\n",
      "Using /opt/conda/lib/python3.7/site-packages\r\n",
      "Searching for dataclasses==0.6\r\n",
      "Best match: dataclasses 0.6\r\n",
      "Adding dataclasses 0.6 to easy-install.pth file\r\n",
      "\r\n",
      "Using /opt/conda/lib/python3.7/site-packages\r\n",
      "Searching for typing-extensions==3.7.4.3\r\n",
      "Best match: typing-extensions 3.7.4.3\r\n",
      "Adding typing-extensions 3.7.4.3 to easy-install.pth file\r\n",
      "\r\n",
      "Using /opt/conda/lib/python3.7/site-packages\r\n",
      "Searching for future==0.18.2\r\n",
      "Best match: future 0.18.2\r\n",
      "Adding future 0.18.2 to easy-install.pth file\r\n",
      "Installing futurize script to /opt/conda/bin\r\n",
      "Installing pasteurize script to /opt/conda/bin\r\n",
      "\r\n",
      "Using /opt/conda/lib/python3.7/site-packages\r\n",
      "Finished processing dependencies for mish-cuda==0.0.3\r\n",
      "/kaggle/working\n"
     ]
    }
   ],
   "source": [
    "#install mish activation funciton for cuda\n",
    "%cd ..\n",
    "!git clone https://github.com/JunnYu/mish-cuda\n",
    "%cd mish-cuda\n",
    "!python setup.py build install\n",
    "%cd .."
   ]
  },
  {
   "cell_type": "code",
   "execution_count": 6,
   "id": "bronze-phoenix",
   "metadata": {
    "_cell_guid": "22aaa81b-051b-41f2-ac1c-020ce2d00e23",
    "_uuid": "040b4c54-3ae0-4a93-a31a-1e77f98a276e",
    "execution": {
     "iopub.execute_input": "2021-03-30T11:46:55.831653Z",
     "iopub.status.busy": "2021-03-30T11:46:55.830875Z",
     "iopub.status.idle": "2021-03-30T11:46:56.543325Z",
     "shell.execute_reply": "2021-03-30T11:46:56.544348Z"
    },
    "papermill": {
     "duration": 0.741522,
     "end_time": "2021-03-30T11:46:56.544670",
     "exception": false,
     "start_time": "2021-03-30T11:46:55.803148",
     "status": "completed"
    },
    "tags": []
   },
   "outputs": [],
   "source": [
    "%mkdir data\n",
    "def write_to_file(imgs, dataset_name):\n",
    "    with open(f\"data/{dataset_name}_abnormsonly.txt\", 'wt') as f:\n",
    "        for img in imgs:\n",
    "            f.write(f\"/kaggle/input/vinbigstratifiedyolo/vinbigstratified/{dataset_name}/{img}.png\\n\")\n",
    "\n",
    "train_imgs = df_train[df_train['class_id'] != 14]['image_id'].unique()\n",
    "val_imgs = df_val[df_val['class_id'] != 14]['image_id'].unique()\n",
    "test_imgs = df_test[df_test['class_id'] != 14]['image_id'].unique()\n",
    "\n",
    "write_to_file(train_imgs, 'train')\n",
    "write_to_file(val_imgs, 'validation')\n",
    "write_to_file(test_imgs, 'test')"
   ]
  },
  {
   "cell_type": "code",
   "execution_count": 7,
   "id": "liquid-function",
   "metadata": {
    "_cell_guid": "a17d76f3-ed54-404a-aeb0-890c58707153",
    "_uuid": "95984d9c-c1ec-4cf0-8e99-dc0b828c9827",
    "execution": {
     "iopub.execute_input": "2021-03-30T11:46:56.589696Z",
     "iopub.status.busy": "2021-03-30T11:46:56.587572Z",
     "iopub.status.idle": "2021-03-30T11:46:56.590384Z",
     "shell.execute_reply": "2021-03-30T11:46:56.590827Z"
    },
    "papermill": {
     "duration": 0.026157,
     "end_time": "2021-03-30T11:46:56.590959",
     "exception": false,
     "start_time": "2021-03-30T11:46:56.564802",
     "status": "completed"
    },
    "tags": []
   },
   "outputs": [],
   "source": [
    "with open(f\"data.yaml\", 'wt') as f:\n",
    "        f.write(f\"\"\"train: ../data/train_abnormsonly.txt\n",
    "val: ../data/validation_abnormsonly.txt\n",
    "\n",
    "nc: 14\n",
    "names: ['Aortic enlargement', 'Atelectasis', 'Calcification', 'Cardiomegaly', 'Consolidation', 'ILD', 'Infiltration', 'Lung Opacity', 'Nodule/Mass', 'Other lesion', 'Pleural effusion', 'Pleural thickening', 'Pneumothorax', 'Pulmonary fibrosis']\n",
    "\"\"\")"
   ]
  },
  {
   "cell_type": "code",
   "execution_count": 8,
   "id": "sophisticated-exercise",
   "metadata": {
    "_cell_guid": "4ee792ef-ca93-412f-ac03-fbb91038c89c",
    "_uuid": "e13a5bb2-3402-40c7-8c0b-6c7e3d4b5c0e",
    "execution": {
     "iopub.execute_input": "2021-03-30T11:46:56.635578Z",
     "iopub.status.busy": "2021-03-30T11:46:56.634897Z",
     "iopub.status.idle": "2021-03-30T11:46:56.638165Z",
     "shell.execute_reply": "2021-03-30T11:46:56.637493Z"
    },
    "papermill": {
     "duration": 0.027087,
     "end_time": "2021-03-30T11:46:56.638280",
     "exception": false,
     "start_time": "2021-03-30T11:46:56.611193",
     "status": "completed"
    },
    "tags": []
   },
   "outputs": [],
   "source": [
    "with open(\"hypparams.yaml\", 'wt') as f:\n",
    "    f.write(\"\"\"# Hyperparameters for COCO training from scratch\n",
    "# python train.py --batch 40 --cfg yolov5m.yaml --weights '' --data coco.yaml --img 640 --epochs 300\n",
    "# See tutorials for hyperparameter evolution https://github.com/ultralytics/yolov5#tutorials\n",
    "\n",
    "\n",
    "lr0: 0.01  # initial learning rate (SGD=1E-2, Adam=1E-3)\n",
    "momentum: 0.937  # SGD momentum/Adam beta1\n",
    "weight_decay: 0.0005  # optimizer weight decay 5e-4\n",
    "giou: 0.05  # GIoU loss gain\n",
    "cls: 0.5  # cls loss gain\n",
    "cls_pw: 1.0  # cls BCELoss positive_weight\n",
    "obj: 1.0  # obj loss gain (scale with pixels)\n",
    "obj_pw: 1.0  # obj BCELoss positive_weight\n",
    "iou_t: 0.20  # IoU training threshold\n",
    "anchor_t: 4.0  # anchor-multiple threshold\n",
    "fl_gamma: 0.0  # focal loss gamma (efficientDet default gamma=1.5)\n",
    "hsv_h: 0.015  # image HSV-Hue augmentation (fraction)\n",
    "hsv_s: 0.7  # image HSV-Saturation augmentation (fraction)\n",
    "hsv_v: 0.4  # image HSV-Value augmentation (fraction)\n",
    "degrees: 0.0  # image rotation (+/- deg)\n",
    "translate: 0.5  # image translation (+/- fraction)\n",
    "scale: 0.5  # image scale (+/- gain)\n",
    "shear: 0.0  # image shear (+/- deg)\n",
    "perspective: 0.0  # image perspective (+/- fraction), range 0-0.001\n",
    "flipud: 0.0  # image flip up-down (probability)\n",
    "fliplr: 0.5  # image flip left-right (probability)\n",
    "mixup: 0.0  # image mixup (probability)\n",
    "\"\"\")"
   ]
  },
  {
   "cell_type": "code",
   "execution_count": 9,
   "id": "cross-blast",
   "metadata": {
    "_cell_guid": "b94966af-affd-4ecf-95c5-b01505f1a9d3",
    "_uuid": "32f83550-a1e9-4084-9135-a63f0b59e252",
    "execution": {
     "iopub.execute_input": "2021-03-30T11:46:56.682992Z",
     "iopub.status.busy": "2021-03-30T11:46:56.682130Z",
     "iopub.status.idle": "2021-03-30T11:46:56.686716Z",
     "shell.execute_reply": "2021-03-30T11:46:56.687165Z"
    },
    "papermill": {
     "duration": 0.029004,
     "end_time": "2021-03-30T11:46:56.687286",
     "exception": false,
     "start_time": "2021-03-30T11:46:56.658282",
     "status": "completed"
    },
    "tags": []
   },
   "outputs": [
    {
     "name": "stdout",
     "output_type": "stream",
     "text": [
      "/kaggle/working/ScaledYOLOv4\n"
     ]
    }
   ],
   "source": [
    "%cd ScaledYOLOv4/"
   ]
  },
  {
   "cell_type": "code",
   "execution_count": 10,
   "id": "corporate-trash",
   "metadata": {
    "_cell_guid": "344c3c75-a639-4883-b16d-3c73e537e0c5",
    "_uuid": "9152ce8c-6c68-48a1-b337-d393af9d6d62",
    "execution": {
     "iopub.execute_input": "2021-03-30T11:46:56.732256Z",
     "iopub.status.busy": "2021-03-30T11:46:56.731285Z",
     "iopub.status.idle": "2021-03-30T12:58:45.730753Z",
     "shell.execute_reply": "2021-03-30T12:58:45.730061Z"
    },
    "papermill": {
     "duration": 4309.024828,
     "end_time": "2021-03-30T12:58:45.730947",
     "exception": false,
     "start_time": "2021-03-30T11:46:56.706119",
     "status": "completed"
    },
    "tags": []
   },
   "outputs": [
    {
     "name": "stdout",
     "output_type": "stream",
     "text": [
      "Resuming training from /kaggle/input/mlpyoloweighted-labels-all/ScaledYOLOv4/runs/exp0_yolov4-csp-results/weights/last_yolov4-csp-results.pt\r\n",
      "Using CUDA device0 _CudaDeviceProperties(name='Tesla P100-PCIE-16GB', total_memory=16280MB)\r\n",
      "\r\n",
      "Namespace(adam=False, batch_size=16, bucket='', cache_images=True, cfg='./models/yolov4-csp.yaml', data='../data.yaml', device='', epochs=40, evolve=False, filterclass=-1, global_rank=-1, hyp='../hypparams.yaml', img_size=[640, 640], labels='labels_all', local_rank=-1, logdir='runs/', multi_scale=False, name='yolov4-csp-results', noautoanchor=False, nosave=False, notest=False, onlyclass=-1, rect=False, resume='/kaggle/input/mlpyoloweighted-labels-all/ScaledYOLOv4/runs/exp0_yolov4-csp-results/weights/last_yolov4-csp-results.pt', single_cls=False, sync_bn=False, total_batch_size=16, useclassweights=True, weights='/kaggle/input/mlpyoloweighted-labels-all/ScaledYOLOv4/runs/exp0_yolov4-csp-results/weights/last_yolov4-csp-results.pt', world_size=1)\r\n",
      "Start Tensorboard with \"tensorboard --logdir runs/\", view at http://localhost:6006/\r\n",
      "2021-03-30 11:46:59.935881: I tensorflow/stream_executor/platform/default/dso_loader.cc:49] Successfully opened dynamic library libcudart.so.10.2\r\n",
      "Hyperparameters {'lr0': 0.01, 'momentum': 0.937, 'weight_decay': 0.0005, 'giou': 0.05, 'cls': 0.5, 'cls_pw': 1.0, 'obj': 1.0, 'obj_pw': 1.0, 'iou_t': 0.2, 'anchor_t': 4.0, 'fl_gamma': 0.0, 'hsv_h': 0.015, 'hsv_s': 0.7, 'hsv_v': 0.4, 'degrees': 0.0, 'translate': 0.5, 'scale': 0.5, 'shear': 0.0, 'perspective': 0.0, 'flipud': 0.0, 'fliplr': 0.5, 'mixup': 0.0}\r\n",
      "Overriding ./models/yolov4-csp.yaml nc=80 with nc=14\r\n",
      "\r\n",
      "                 from  n    params  module                                  arguments                     \r\n",
      "  0                -1  1       928  models.common.Conv                      [3, 32, 3, 1]                 \r\n",
      "  1                -1  1     18560  models.common.Conv                      [32, 64, 3, 2]                \r\n",
      "  2                -1  1     20672  models.common.Bottleneck                [64, 64]                      \r\n",
      "  3                -1  1     73984  models.common.Conv                      [64, 128, 3, 2]               \r\n",
      "  4                -1  1    119936  models.common.BottleneckCSP             [128, 128, 2]                 \r\n",
      "  5                -1  1    295424  models.common.Conv                      [128, 256, 3, 2]              \r\n",
      "  6                -1  1   1463552  models.common.BottleneckCSP             [256, 256, 8]                 \r\n",
      "  7                -1  1   1180672  models.common.Conv                      [256, 512, 3, 2]              \r\n",
      "  8                -1  1   5843456  models.common.BottleneckCSP             [512, 512, 8]                 \r\n",
      "  9                -1  1   4720640  models.common.Conv                      [512, 1024, 3, 2]             \r\n",
      " 10                -1  1  12858368  models.common.BottleneckCSP             [1024, 1024, 4]               \r\n",
      " 11                -1  1   7610368  models.common.SPPCSP                    [1024, 512, 1]                \r\n",
      " 12                -1  1    131584  models.common.Conv                      [512, 256, 1, 1]              \r\n",
      " 13                -1  1         0  torch.nn.modules.upsampling.Upsample    [None, 2, 'nearest']          \r\n",
      " 14                 8  1    131584  models.common.Conv                      [512, 256, 1, 1]              \r\n",
      " 15          [-1, -2]  1         0  models.common.Concat                    [1]                           \r\n",
      " 16                -1  1   1642496  models.common.BottleneckCSP2            [512, 256, 2]                 \r\n",
      " 17                -1  1     33024  models.common.Conv                      [256, 128, 1, 1]              \r\n",
      " 18                -1  1         0  torch.nn.modules.upsampling.Upsample    [None, 2, 'nearest']          \r\n",
      " 19                 6  1     33024  models.common.Conv                      [256, 128, 1, 1]              \r\n",
      " 20          [-1, -2]  1         0  models.common.Concat                    [1]                           \r\n",
      " 21                -1  1    411648  models.common.BottleneckCSP2            [256, 128, 2]                 \r\n",
      " 22                -1  1    295424  models.common.Conv                      [128, 256, 3, 1]              \r\n",
      " 23                -2  1    295424  models.common.Conv                      [128, 256, 3, 2]              \r\n",
      " 24          [-1, 16]  1         0  models.common.Concat                    [1]                           \r\n",
      " 25                -1  1   1642496  models.common.BottleneckCSP2            [512, 256, 2]                 \r\n",
      " 26                -1  1   1180672  models.common.Conv                      [256, 512, 3, 1]              \r\n",
      " 27                -2  1   1180672  models.common.Conv                      [256, 512, 3, 2]              \r\n",
      " 28          [-1, 11]  1         0  models.common.Concat                    [1]                           \r\n",
      " 29                -1  1   6561792  models.common.BottleneckCSP2            [1024, 512, 2]                \r\n",
      " 30                -1  1   4720640  models.common.Conv                      [512, 1024, 3, 1]             \r\n",
      " 31      [22, 26, 30]  1    102315  models.yolo.Detect                      [14, [[12, 16, 19, 36, 40, 28], [36, 75, 76, 55, 72, 146], [142, 110, 192, 243, 459, 401]], [256, 512, 1024]]\r\n",
      "Model Summary: 334 layers, 5.25694e+07 parameters, 5.25694e+07 gradients\r\n",
      "\r\n",
      "Transferred 658/660 items from /kaggle/input/mlpyoloweighted-labels-all/ScaledYOLOv4/runs/exp0_yolov4-csp-results/weights/last_yolov4-csp-results.pt\r\n",
      "Optimizer groups: 111 .bias, 115 conv.weight, 108 other\r\n",
      "Scanning images: 100%|██████████████████████| 3485/3485 [01:07<00:00, 51.55it/s]\r\n",
      "Scanning labels /kaggle/working/cache/labels_all (3485 found, 0 missing, 0 empty\r\n",
      "Caching images (4.3GB): 100%|██████████████| 3485/3485 [00:30<00:00, 114.13it/s]\r\n",
      "Scanning images: 100%|████████████████████████| 460/460 [00:05<00:00, 87.64it/s]\r\n",
      "Scanning labels /kaggle/working/cache/labels_all (460 found, 0 missing, 0 empty,\r\n",
      "Caching images (0.6GB): 100%|████████████████| 460/460 [00:04<00:00, 109.51it/s]\r\n",
      "\r\n",
      "Analyzing anchors... anchors/target = 5.04, Best Possible Recall (BPR) = 0.9995\r\n",
      "Image sizes 640 train, 640 test\r\n",
      "Using 2 dataloader workers\r\n",
      "Starting training for 40 epochs...\r\n",
      "\r\n",
      "     Epoch   gpu_mem      GIoU       obj       cls     total   targets  img_size\r\n",
      "     20/39     12.7G   0.05543   0.04376   0.01655    0.1157       118       640\r\n",
      "               Class      Images     Targets           P           R      mAP@.5\r\n",
      "                 all         460     3.7e+03        0.31       0.129       0.119      0.0482\r\n",
      "\r\n",
      "     Epoch   gpu_mem      GIoU       obj       cls     total   targets  img_size\r\n",
      "     21/39     12.7G   0.05267   0.04414   0.01625    0.1131       174       640\r\n",
      "               Class      Images     Targets           P           R      mAP@.5\r\n",
      "                 all         460     3.7e+03         0.5       0.188       0.199      0.0718\r\n",
      "\r\n",
      "     Epoch   gpu_mem      GIoU       obj       cls     total   targets  img_size\r\n",
      "     22/39     12.7G    0.0518   0.04284   0.01589    0.1105       129       640\r\n",
      "               Class      Images     Targets           P           R      mAP@.5\r\n",
      "                 all         460     3.7e+03       0.459       0.241       0.255         0.1\r\n",
      "\r\n",
      "     Epoch   gpu_mem      GIoU       obj       cls     total   targets  img_size\r\n",
      "     23/39     12.7G   0.05088   0.04226   0.01522    0.1084       121       640\r\n",
      "               Class      Images     Targets           P           R      mAP@.5\r\n",
      "                 all         460     3.7e+03       0.403       0.218       0.223      0.0844\r\n",
      "\r\n",
      "     Epoch   gpu_mem      GIoU       obj       cls     total   targets  img_size\r\n",
      "     24/39     12.7G   0.05059   0.04225     0.015    0.1078       139       640\r\n",
      "               Class      Images     Targets           P           R      mAP@.5\r\n",
      "                 all         460     3.7e+03       0.412       0.267       0.277       0.111\r\n",
      "\r\n",
      "     Epoch   gpu_mem      GIoU       obj       cls     total   targets  img_size\r\n",
      "     25/39     12.7G   0.05008   0.04234   0.01482    0.1072       116       640\r\n",
      "               Class      Images     Targets           P           R      mAP@.5\r\n",
      "                 all         460     3.7e+03       0.387       0.293       0.268       0.108\r\n",
      "\r\n",
      "     Epoch   gpu_mem      GIoU       obj       cls     total   targets  img_size\r\n",
      "     26/39     12.7G   0.04946   0.04177   0.01463    0.1059       135       640\r\n",
      "               Class      Images     Targets           P           R      mAP@.5\r\n",
      "                 all         460     3.7e+03       0.485       0.218       0.246      0.0931\r\n",
      "\r\n",
      "     Epoch   gpu_mem      GIoU       obj       cls     total   targets  img_size\r\n",
      "     27/39     12.7G   0.04919   0.04182   0.01466    0.1057       126       640\r\n",
      "               Class      Images     Targets           P           R      mAP@.5\r\n",
      "                 all         460     3.7e+03       0.427       0.288       0.289       0.115\r\n",
      "\r\n",
      "     Epoch   gpu_mem      GIoU       obj       cls     total   targets  img_size\r\n",
      "     28/39     12.7G   0.04898   0.04105    0.0143    0.1043       128       640\r\n",
      "               Class      Images     Targets           P           R      mAP@.5\r\n",
      "                 all         460     3.7e+03       0.396       0.242       0.216      0.0816\r\n",
      "\r\n",
      "     Epoch   gpu_mem      GIoU       obj       cls     total   targets  img_size\r\n",
      "     29/39     12.7G    0.0488   0.04109   0.01423    0.1041       138       640\r\n",
      "               Class      Images     Targets           P           R      mAP@.5\r\n",
      "                 all         460     3.7e+03       0.408       0.328       0.298       0.116\r\n",
      "\r\n",
      "     Epoch   gpu_mem      GIoU       obj       cls     total   targets  img_size\r\n",
      "     30/39     12.7G   0.04798    0.0412   0.01379     0.103       106       640\r\n",
      "               Class      Images     Targets           P           R      mAP@.5\r\n",
      "                 all         460     3.7e+03       0.374       0.335       0.304       0.118\r\n",
      "\r\n",
      "     Epoch   gpu_mem      GIoU       obj       cls     total   targets  img_size\r\n",
      "     31/39     12.7G   0.04802   0.04134   0.01443    0.1038       142       640\r\n",
      "               Class      Images     Targets           P           R      mAP@.5\r\n",
      "                 all         460     3.7e+03       0.378       0.323       0.295       0.119\r\n",
      "\r\n",
      "     Epoch   gpu_mem      GIoU       obj       cls     total   targets  img_size\r\n",
      "     32/39     12.7G   0.04733   0.03952   0.01356    0.1004       160       640\r\n",
      "               Class      Images     Targets           P           R      mAP@.5\r\n",
      "                 all         460     3.7e+03       0.391       0.247       0.228      0.0894\r\n",
      "\r\n",
      "     Epoch   gpu_mem      GIoU       obj       cls     total   targets  img_size\r\n",
      "     33/39     12.7G   0.04715    0.0396   0.01336    0.1001       141       640\r\n",
      "               Class      Images     Targets           P           R      mAP@.5\r\n",
      "                 all         460     3.7e+03       0.394       0.318         0.3       0.126\r\n",
      "\r\n",
      "     Epoch   gpu_mem      GIoU       obj       cls     total   targets  img_size\r\n",
      "     34/39     12.7G   0.04721    0.0398   0.01388    0.1009       123       640\r\n",
      "               Class      Images     Targets           P           R      mAP@.5\r\n",
      "                 all         460     3.7e+03       0.366       0.328       0.303       0.122\r\n",
      "\r\n",
      "     Epoch   gpu_mem      GIoU       obj       cls     total   targets  img_size\r\n",
      "     35/39     12.7G   0.04695    0.0405   0.01338    0.1008       116       640\r\n",
      "               Class      Images     Targets           P           R      mAP@.5\r\n",
      "                 all         460     3.7e+03       0.398       0.325       0.306       0.126\r\n",
      "\r\n",
      "     Epoch   gpu_mem      GIoU       obj       cls     total   targets  img_size\r\n",
      "     36/39     12.7G   0.04677   0.03923   0.01363   0.09962       138       640\r\n",
      "               Class      Images     Targets           P           R      mAP@.5\r\n",
      "                 all         460     3.7e+03       0.403       0.341       0.318        0.13\r\n",
      "\r\n",
      "     Epoch   gpu_mem      GIoU       obj       cls     total   targets  img_size\r\n",
      "     37/39     12.7G   0.04661   0.03944   0.01321   0.09926       170       640\r\n",
      "               Class      Images     Targets           P           R      mAP@.5\r\n",
      "                 all         460     3.7e+03       0.376       0.238       0.237      0.0912\r\n",
      "\r\n",
      "     Epoch   gpu_mem      GIoU       obj       cls     total   targets  img_size\r\n",
      "     38/39     12.7G    0.0463   0.03942   0.01336   0.09908       139       640\r\n",
      "               Class      Images     Targets           P           R      mAP@.5\r\n",
      "                 all         460     3.7e+03       0.374       0.316       0.307       0.126\r\n",
      "\r\n",
      "     Epoch   gpu_mem      GIoU       obj       cls     total   targets  img_size\r\n",
      "     39/39     12.7G   0.04645   0.04001   0.01328   0.09974        80       640\r\n",
      "               Class      Images     Targets           P           R      mAP@.5\r\n",
      "                 all         460     3.7e+03       0.411       0.263       0.259       0.105\r\n",
      "Optimizer stripped from runs/exp0_yolov4-csp-results/weights/last_yolov4-csp-results.pt, saved as runs/exp0_yolov4-csp-results/weights/last_yolov4-csp-results_strip.pt, 105.6MB\r\n",
      "Optimizer stripped from runs/exp0_yolov4-csp-results/weights/best_yolov4-csp-results.pt, saved as runs/exp0_yolov4-csp-results/weights/best_yolov4-csp-results_strip.pt, 105.6MB\r\n",
      "20 epochs completed in 1.159 hours.\r\n",
      "\r\n"
     ]
    }
   ],
   "source": [
    "!python train.py --useclassweights --resume '/kaggle/input/mlpyoloweighted-labels-all/ScaledYOLOv4/runs/exp0_yolov4-csp-results/weights/last_yolov4-csp-results.pt' --labels 'labels_all' --img 640 --batch 16 --epochs 40 --data '../data.yaml' --hyp '../hypparams.yaml' --cfg ./models/yolov4-csp.yaml --weights '' --name yolov4-csp-results --cache"
   ]
  }
 ],
 "metadata": {
  "kernelspec": {
   "display_name": "Python 3",
   "language": "python",
   "name": "python3"
  },
  "language_info": {
   "codemirror_mode": {
    "name": "ipython",
    "version": 3
   },
   "file_extension": ".py",
   "mimetype": "text/x-python",
   "name": "python",
   "nbconvert_exporter": "python",
   "pygments_lexer": "ipython3",
   "version": "3.7.9"
  },
  "papermill": {
   "default_parameters": {},
   "duration": 4369.353438,
   "end_time": "2021-03-30T12:58:48.204985",
   "environment_variables": {},
   "exception": null,
   "input_path": "__notebook__.ipynb",
   "output_path": "__notebook__.ipynb",
   "parameters": {},
   "start_time": "2021-03-30T11:45:58.851547",
   "version": "2.3.2"
  }
 },
 "nbformat": 4,
 "nbformat_minor": 5
}
