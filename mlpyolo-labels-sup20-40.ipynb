{
 "cells": [
  {
   "cell_type": "code",
   "execution_count": 1,
   "metadata": {
    "_cell_guid": "e929f0af-2c79-4171-902f-29b627a61ee1",
    "_uuid": "e55b7e63-df5f-432e-ba65-396e7da8d8a1",
    "execution": {
     "iopub.execute_input": "2021-03-29T08:37:05.963622Z",
     "iopub.status.busy": "2021-03-29T08:37:05.962899Z",
     "iopub.status.idle": "2021-03-29T08:37:05.970645Z",
     "shell.execute_reply": "2021-03-29T08:37:05.969861Z"
    },
    "papermill": {
     "duration": 0.022662,
     "end_time": "2021-03-29T08:37:05.970986",
     "exception": false,
     "start_time": "2021-03-29T08:37:05.948324",
     "status": "completed"
    },
    "tags": []
   },
   "outputs": [],
   "source": [
    "import numpy as np\n",
    "import os\n",
    "from tqdm.auto import tqdm\n",
    "# from pathos.multiprocessing import ProcessingPool as Pool\n",
    "# from functools import partial\n",
    "import pandas as pd\n",
    "from PIL import Image"
   ]
  },
  {
   "cell_type": "code",
   "execution_count": 2,
   "metadata": {
    "_cell_guid": "a924c3e4-042b-4112-bdbb-4f66f172bd76",
    "_uuid": "8968f308-efd6-4117-ac4d-0857768406f9",
    "execution": {
     "iopub.execute_input": "2021-03-29T08:37:05.995012Z",
     "iopub.status.busy": "2021-03-29T08:37:05.994274Z",
     "iopub.status.idle": "2021-03-29T08:37:08.980463Z",
     "shell.execute_reply": "2021-03-29T08:37:08.979839Z"
    },
    "papermill": {
     "duration": 3.000798,
     "end_time": "2021-03-29T08:37:08.980699",
     "exception": false,
     "start_time": "2021-03-29T08:37:05.979901",
     "status": "completed"
    },
    "tags": []
   },
   "outputs": [
    {
     "name": "stdout",
     "output_type": "stream",
     "text": [
      "Cloning into 'ScaledYOLOv4'...\r\n",
      "remote: Enumerating objects: 42, done.\u001b[K\r\n",
      "remote: Counting objects: 100% (42/42), done.\u001b[K\r\n",
      "remote: Compressing objects: 100% (29/29), done.\u001b[K\r\n",
      "remote: Total 170 (delta 28), reused 27 (delta 13), pack-reused 128\u001b[K\r\n",
      "Receiving objects: 100% (170/170), 366.26 KiB | 1.43 MiB/s, done.\r\n",
      "Resolving deltas: 100% (80/80), done.\r\n",
      "/kaggle/working/ScaledYOLOv4\n",
      "Branch 'yolov4-large' set up to track remote branch 'yolov4-large' from 'origin'.\r\n",
      "Switched to a new branch 'yolov4-large'\r\n"
     ]
    }
   ],
   "source": [
    "# clone Scaled_YOLOv4\n",
    "!git clone https://github.com/tom-auger/ScaledYOLOv4.git\n",
    "%cd ScaledYOLOv4/\n",
    "#checkout the yolov4-large branch\n",
    "!git checkout yolov4-large"
   ]
  },
  {
   "cell_type": "code",
   "execution_count": 3,
   "metadata": {
    "_cell_guid": "b30fc6aa-0e3a-4247-aa28-c038c3904fb9",
    "_uuid": "41baac93-e497-4107-951b-411eafb8cf0f",
    "execution": {
     "iopub.execute_input": "2021-03-29T08:37:09.028213Z",
     "iopub.status.busy": "2021-03-29T08:37:09.027535Z",
     "iopub.status.idle": "2021-03-29T08:37:09.237696Z",
     "shell.execute_reply": "2021-03-29T08:37:09.236365Z"
    },
    "papermill": {
     "duration": 0.244279,
     "end_time": "2021-03-29T08:37:09.237879",
     "exception": false,
     "start_time": "2021-03-29T08:37:08.993600",
     "status": "completed"
    },
    "tags": []
   },
   "outputs": [],
   "source": [
    "df_train = pd.read_csv('/kaggle/input/vinbigstratifiedyolo/vinbigstratified/train_orig.csv')\n",
    "df_val = pd.read_csv('/kaggle/input/vinbigstratifiedyolo/vinbigstratified/validation_orig.csv')\n",
    "df_test = pd.read_csv('/kaggle/input/vinbigstratifiedyolo/vinbigstratified/test_orig.csv')"
   ]
  },
  {
   "cell_type": "code",
   "execution_count": 4,
   "metadata": {
    "_cell_guid": "c80a482f-d445-4b38-97ba-bbcb83c34c07",
    "_uuid": "1ac0692d-1bf0-45aa-93be-c6c3cf0f850a",
    "execution": {
     "iopub.execute_input": "2021-03-29T08:37:09.267104Z",
     "iopub.status.busy": "2021-03-29T08:37:09.266250Z",
     "iopub.status.idle": "2021-03-29T08:37:11.396904Z",
     "shell.execute_reply": "2021-03-29T08:37:11.397756Z"
    },
    "papermill": {
     "duration": 2.148831,
     "end_time": "2021-03-29T08:37:11.398230",
     "exception": false,
     "start_time": "2021-03-29T08:37:09.249399",
     "status": "completed"
    },
    "tags": []
   },
   "outputs": [
    {
     "name": "stdout",
     "output_type": "stream",
     "text": [
      "Using torch 1.7.0 _CudaDeviceProperties(name='Tesla P100-PCIE-16GB', major=6, minor=0, total_memory=16280MB, multi_processor_count=56)\n"
     ]
    }
   ],
   "source": [
    "import torch\n",
    "print('Using torch %s %s' % (torch.__version__, torch.cuda.get_device_properties(0) if torch.cuda.is_available() else 'CPU'))"
   ]
  },
  {
   "cell_type": "code",
   "execution_count": 5,
   "metadata": {
    "_cell_guid": "17efef9b-6269-4510-8d3c-c24f58e4ed4e",
    "_uuid": "a81366fb-e0b3-40a1-844e-f4098f6789ac",
    "execution": {
     "iopub.execute_input": "2021-03-29T08:37:11.436520Z",
     "iopub.status.busy": "2021-03-29T08:37:11.435428Z",
     "iopub.status.idle": "2021-03-29T08:38:15.996589Z",
     "shell.execute_reply": "2021-03-29T08:38:15.995994Z"
    },
    "papermill": {
     "duration": 64.577182,
     "end_time": "2021-03-29T08:38:15.996761",
     "exception": false,
     "start_time": "2021-03-29T08:37:11.419579",
     "status": "completed"
    },
    "tags": []
   },
   "outputs": [
    {
     "name": "stdout",
     "output_type": "stream",
     "text": [
      "/kaggle/working\n",
      "Cloning into 'mish-cuda'...\r\n",
      "remote: Enumerating objects: 88, done.\u001b[K\r\n",
      "remote: Counting objects: 100% (88/88), done.\u001b[K\r\n",
      "remote: Compressing objects: 100% (75/75), done.\u001b[K\r\n",
      "remote: Total 195 (delta 7), reused 79 (delta 3), pack-reused 107\u001b[K\r\n",
      "Receiving objects: 100% (195/195), 208.77 KiB | 869.00 KiB/s, done.\r\n",
      "Resolving deltas: 100% (56/56), done.\r\n",
      "/kaggle/working/mish-cuda\n",
      "/opt/conda/lib/python3.7/distutils/extension.py:131: UserWarning: Unknown Extension options: 'headers'\r\n",
      "  warnings.warn(msg)\r\n",
      "running build\r\n",
      "running build_py\r\n",
      "creating build\r\n",
      "creating build/lib.linux-x86_64-3.7\r\n",
      "creating build/lib.linux-x86_64-3.7/mish_cuda\r\n",
      "copying src/mish_cuda/__init__.py -> build/lib.linux-x86_64-3.7/mish_cuda\r\n",
      "running egg_info\r\n",
      "creating src/mish_cuda.egg-info\r\n",
      "writing src/mish_cuda.egg-info/PKG-INFO\r\n",
      "writing dependency_links to src/mish_cuda.egg-info/dependency_links.txt\r\n",
      "writing requirements to src/mish_cuda.egg-info/requires.txt\r\n",
      "writing top-level names to src/mish_cuda.egg-info/top_level.txt\r\n",
      "writing manifest file 'src/mish_cuda.egg-info/SOURCES.txt'\r\n",
      "writing manifest file 'src/mish_cuda.egg-info/SOURCES.txt'\r\n",
      "running build_ext\r\n",
      "building 'mish_cuda._C' extension\r\n",
      "creating /kaggle/working/mish-cuda/build/temp.linux-x86_64-3.7\r\n",
      "creating /kaggle/working/mish-cuda/build/temp.linux-x86_64-3.7/csrc\r\n",
      "creating /kaggle/working/mish-cuda/build/temp.linux-x86_64-3.7/csrc/cpu\r\n",
      "creating /kaggle/working/mish-cuda/build/temp.linux-x86_64-3.7/csrc/cuda\r\n",
      "Emitting ninja build file /kaggle/working/mish-cuda/build/temp.linux-x86_64-3.7/build.ninja...\r\n",
      "Compiling objects...\r\n",
      "Allowing ninja to set a default number of workers... (overridable by setting the environment variable MAX_JOBS=N)\r\n",
      "[1/3] c++ -MMD -MF /kaggle/working/mish-cuda/build/temp.linux-x86_64-3.7/csrc/cpu/mish_cpu.o.d -pthread -B /opt/conda/compiler_compat -Wl,--sysroot=/ -Wsign-compare -DNDEBUG -g -fwrapv -O3 -Wall -Wstrict-prototypes -fPIC -I/opt/conda/lib/python3.7/site-packages/torch/include -I/opt/conda/lib/python3.7/site-packages/torch/include/torch/csrc/api/include -I/opt/conda/lib/python3.7/site-packages/torch/include/TH -I/opt/conda/lib/python3.7/site-packages/torch/include/THC -I/usr/local/cuda/include -I/opt/conda/include/python3.7m -c -c /kaggle/working/mish-cuda/csrc/cpu/mish_cpu.cpp -o /kaggle/working/mish-cuda/build/temp.linux-x86_64-3.7/csrc/cpu/mish_cpu.o -DTORCH_API_INCLUDE_EXTENSION_H -DTORCH_EXTENSION_NAME=_C -D_GLIBCXX_USE_CXX11_ABI=0 -std=c++14\r\n",
      "cc1plus: warning: command line option ‘-Wstrict-prototypes’ is valid for C/ObjC but not for C++\r\n",
      "In file included from /opt/conda/lib/python3.7/site-packages/torch/include/ATen/Parallel.h:149:0,\r\n",
      "                 from /opt/conda/lib/python3.7/site-packages/torch/include/ATen/CPUApplyUtils.h:3,\r\n",
      "                 from /kaggle/working/mish-cuda/csrc/cpu/mish_cpu.cpp:3:\r\n",
      "/opt/conda/lib/python3.7/site-packages/torch/include/ATen/ParallelOpenMP.h:84:0: warning: ignoring #pragma omp parallel [-Wunknown-pragmas]\r\n",
      " #pragma omp parallel for if ((end - begin) >= grain_size)\r\n",
      " \r\n",
      "[2/3] c++ -MMD -MF /kaggle/working/mish-cuda/build/temp.linux-x86_64-3.7/csrc/cuda/mish_cuda.o.d -pthread -B /opt/conda/compiler_compat -Wl,--sysroot=/ -Wsign-compare -DNDEBUG -g -fwrapv -O3 -Wall -Wstrict-prototypes -fPIC -I/opt/conda/lib/python3.7/site-packages/torch/include -I/opt/conda/lib/python3.7/site-packages/torch/include/torch/csrc/api/include -I/opt/conda/lib/python3.7/site-packages/torch/include/TH -I/opt/conda/lib/python3.7/site-packages/torch/include/THC -I/usr/local/cuda/include -I/opt/conda/include/python3.7m -c -c /kaggle/working/mish-cuda/csrc/cuda/mish_cuda.cpp -o /kaggle/working/mish-cuda/build/temp.linux-x86_64-3.7/csrc/cuda/mish_cuda.o -DTORCH_API_INCLUDE_EXTENSION_H -DTORCH_EXTENSION_NAME=_C -D_GLIBCXX_USE_CXX11_ABI=0 -std=c++14\r\n",
      "cc1plus: warning: command line option ‘-Wstrict-prototypes’ is valid for C/ObjC but not for C++\r\n",
      "In file included from /opt/conda/lib/python3.7/site-packages/torch/include/ATen/Parallel.h:149:0,\r\n",
      "                 from /opt/conda/lib/python3.7/site-packages/torch/include/torch/csrc/api/include/torch/utils.h:3,\r\n",
      "                 from /opt/conda/lib/python3.7/site-packages/torch/include/torch/csrc/api/include/torch/nn/cloneable.h:5,\r\n",
      "                 from /opt/conda/lib/python3.7/site-packages/torch/include/torch/csrc/api/include/torch/nn.h:3,\r\n",
      "                 from /opt/conda/lib/python3.7/site-packages/torch/include/torch/csrc/api/include/torch/all.h:12,\r\n",
      "                 from /opt/conda/lib/python3.7/site-packages/torch/include/torch/extension.h:4,\r\n",
      "                 from /kaggle/working/mish-cuda/csrc/cuda/mish_cuda.cpp:2:\r\n",
      "/opt/conda/lib/python3.7/site-packages/torch/include/ATen/ParallelOpenMP.h:84:0: warning: ignoring #pragma omp parallel [-Wunknown-pragmas]\r\n",
      " #pragma omp parallel for if ((end - begin) >= grain_size)\r\n",
      " \r\n",
      "[3/3] /usr/local/cuda/bin/nvcc -I/opt/conda/lib/python3.7/site-packages/torch/include -I/opt/conda/lib/python3.7/site-packages/torch/include/torch/csrc/api/include -I/opt/conda/lib/python3.7/site-packages/torch/include/TH -I/opt/conda/lib/python3.7/site-packages/torch/include/THC -I/usr/local/cuda/include -I/opt/conda/include/python3.7m -c -c /kaggle/working/mish-cuda/csrc/cuda/mish_kernel.cu -o /kaggle/working/mish-cuda/build/temp.linux-x86_64-3.7/csrc/cuda/mish_kernel.o -D__CUDA_NO_HALF_OPERATORS__ -D__CUDA_NO_HALF_CONVERSIONS__ -D__CUDA_NO_HALF2_OPERATORS__ --expt-relaxed-constexpr --compiler-options ''\"'\"'-fPIC'\"'\"'' --expt-extended-lambda -DTORCH_API_INCLUDE_EXTENSION_H -DTORCH_EXTENSION_NAME=_C -D_GLIBCXX_USE_CXX11_ABI=0 -gencode=arch=compute_60,code=sm_60 -std=c++14\r\n",
      "/opt/conda/lib/python3.7/site-packages/torch/include/ATen/core/boxing/impl/boxing.h(100): warning: integer conversion resulted in a change of sign\r\n",
      "\r\n",
      "/opt/conda/lib/python3.7/site-packages/torch/include/ATen/core/op_registration/op_whitelist.h(39): warning: integer conversion resulted in a change of sign\r\n",
      "\r\n",
      "/opt/conda/lib/python3.7/site-packages/torch/include/ATen/core/boxing/impl/boxing.h(100): warning: integer conversion resulted in a change of sign\r\n",
      "\r\n",
      "/opt/conda/lib/python3.7/site-packages/torch/include/ATen/core/op_registration/op_whitelist.h(39): warning: integer conversion resulted in a change of sign\r\n",
      "\r\n",
      "g++ -pthread -shared -B /opt/conda/compiler_compat -L/opt/conda/lib -Wl,-rpath=/opt/conda/lib -Wl,--no-as-needed -Wl,--sysroot=/ /kaggle/working/mish-cuda/build/temp.linux-x86_64-3.7/csrc/cpu/mish_cpu.o /kaggle/working/mish-cuda/build/temp.linux-x86_64-3.7/csrc/cuda/mish_cuda.o /kaggle/working/mish-cuda/build/temp.linux-x86_64-3.7/csrc/cuda/mish_kernel.o -L/opt/conda/lib/python3.7/site-packages/torch/lib -L/usr/local/cuda/lib64 -lc10 -ltorch -ltorch_cpu -ltorch_python -lcudart -lc10_cuda -ltorch_cuda -o build/lib.linux-x86_64-3.7/mish_cuda/_C.cpython-37m-x86_64-linux-gnu.so\r\n",
      "running install\r\n",
      "running bdist_egg\r\n",
      "installing library code to build/bdist.linux-x86_64/egg\r\n",
      "running install_lib\r\n",
      "creating build/bdist.linux-x86_64\r\n",
      "creating build/bdist.linux-x86_64/egg\r\n",
      "creating build/bdist.linux-x86_64/egg/mish_cuda\r\n",
      "copying build/lib.linux-x86_64-3.7/mish_cuda/_C.cpython-37m-x86_64-linux-gnu.so -> build/bdist.linux-x86_64/egg/mish_cuda\r\n",
      "copying build/lib.linux-x86_64-3.7/mish_cuda/__init__.py -> build/bdist.linux-x86_64/egg/mish_cuda\r\n",
      "byte-compiling build/bdist.linux-x86_64/egg/mish_cuda/__init__.py to __init__.cpython-37.pyc\r\n",
      "creating stub loader for mish_cuda/_C.cpython-37m-x86_64-linux-gnu.so\r\n",
      "byte-compiling build/bdist.linux-x86_64/egg/mish_cuda/_C.py to _C.cpython-37.pyc\r\n",
      "creating build/bdist.linux-x86_64/egg/EGG-INFO\r\n",
      "copying src/mish_cuda.egg-info/PKG-INFO -> build/bdist.linux-x86_64/egg/EGG-INFO\r\n",
      "copying src/mish_cuda.egg-info/SOURCES.txt -> build/bdist.linux-x86_64/egg/EGG-INFO\r\n",
      "copying src/mish_cuda.egg-info/dependency_links.txt -> build/bdist.linux-x86_64/egg/EGG-INFO\r\n",
      "copying src/mish_cuda.egg-info/not-zip-safe -> build/bdist.linux-x86_64/egg/EGG-INFO\r\n",
      "copying src/mish_cuda.egg-info/requires.txt -> build/bdist.linux-x86_64/egg/EGG-INFO\r\n",
      "copying src/mish_cuda.egg-info/top_level.txt -> build/bdist.linux-x86_64/egg/EGG-INFO\r\n",
      "writing build/bdist.linux-x86_64/egg/EGG-INFO/native_libs.txt\r\n",
      "creating dist\r\n",
      "creating 'dist/mish_cuda-0.0.3-py3.7-linux-x86_64.egg' and adding 'build/bdist.linux-x86_64/egg' to it\r\n",
      "removing 'build/bdist.linux-x86_64/egg' (and everything under it)\r\n",
      "Processing mish_cuda-0.0.3-py3.7-linux-x86_64.egg\r\n",
      "creating /opt/conda/lib/python3.7/site-packages/mish_cuda-0.0.3-py3.7-linux-x86_64.egg\r\n",
      "Extracting mish_cuda-0.0.3-py3.7-linux-x86_64.egg to /opt/conda/lib/python3.7/site-packages\r\n",
      "Adding mish-cuda 0.0.3 to easy-install.pth file\r\n",
      "\r\n",
      "Installed /opt/conda/lib/python3.7/site-packages/mish_cuda-0.0.3-py3.7-linux-x86_64.egg\r\n",
      "Processing dependencies for mish-cuda==0.0.3\r\n",
      "Searching for torch==1.7.0\r\n",
      "Best match: torch 1.7.0\r\n",
      "Adding torch 1.7.0 to easy-install.pth file\r\n",
      "Installing convert-caffe2-to-onnx script to /opt/conda/bin\r\n",
      "Installing convert-onnx-to-caffe2 script to /opt/conda/bin\r\n",
      "\r\n",
      "Using /opt/conda/lib/python3.7/site-packages\r\n",
      "Searching for numpy==1.19.5\r\n",
      "Best match: numpy 1.19.5\r\n",
      "Adding numpy 1.19.5 to easy-install.pth file\r\n",
      "Installing f2py script to /opt/conda/bin\r\n",
      "Installing f2py3 script to /opt/conda/bin\r\n",
      "Installing f2py3.7 script to /opt/conda/bin\r\n",
      "\r\n",
      "Using /opt/conda/lib/python3.7/site-packages\r\n",
      "Searching for dataclasses==0.6\r\n",
      "Best match: dataclasses 0.6\r\n",
      "Adding dataclasses 0.6 to easy-install.pth file\r\n",
      "\r\n",
      "Using /opt/conda/lib/python3.7/site-packages\r\n",
      "Searching for typing-extensions==3.7.4.3\r\n",
      "Best match: typing-extensions 3.7.4.3\r\n",
      "Adding typing-extensions 3.7.4.3 to easy-install.pth file\r\n",
      "\r\n",
      "Using /opt/conda/lib/python3.7/site-packages\r\n",
      "Searching for future==0.18.2\r\n",
      "Best match: future 0.18.2\r\n",
      "Adding future 0.18.2 to easy-install.pth file\r\n",
      "Installing futurize script to /opt/conda/bin\r\n",
      "Installing pasteurize script to /opt/conda/bin\r\n",
      "\r\n",
      "Using /opt/conda/lib/python3.7/site-packages\r\n",
      "Finished processing dependencies for mish-cuda==0.0.3\r\n",
      "/kaggle/working\n"
     ]
    }
   ],
   "source": [
    "#install mish activation funciton for cuda\n",
    "%cd ..\n",
    "!git clone https://github.com/JunnYu/mish-cuda\n",
    "%cd mish-cuda\n",
    "!python setup.py build install\n",
    "%cd .."
   ]
  },
  {
   "cell_type": "code",
   "execution_count": 6,
   "metadata": {
    "_cell_guid": "478514dc-0f40-4282-a79e-6e25408254ea",
    "_uuid": "117999b5-31ec-4ba9-ad2c-b2d535b9ac0c",
    "execution": {
     "iopub.execute_input": "2021-03-29T08:38:16.053088Z",
     "iopub.status.busy": "2021-03-29T08:38:16.047863Z",
     "iopub.status.idle": "2021-03-29T08:38:16.923930Z",
     "shell.execute_reply": "2021-03-29T08:38:16.924844Z"
    },
    "papermill": {
     "duration": 0.907086,
     "end_time": "2021-03-29T08:38:16.925096",
     "exception": false,
     "start_time": "2021-03-29T08:38:16.018010",
     "status": "completed"
    },
    "tags": []
   },
   "outputs": [],
   "source": [
    "%mkdir data\n",
    "def write_to_file(imgs, dataset_name):\n",
    "    with open(f\"data/{dataset_name}_abnormsonly.txt\", 'wt') as f:\n",
    "        for img in imgs:\n",
    "            f.write(f\"/kaggle/input/vinbigstratifiedyolo/vinbigstratified/{dataset_name}/{img}.png\\n\")\n",
    "\n",
    "train_imgs = df_train[df_train['class_id'] != 14]['image_id'].unique()\n",
    "val_imgs = df_val[df_val['class_id'] != 14]['image_id'].unique()\n",
    "test_imgs = df_test[df_test['class_id'] != 14]['image_id'].unique()\n",
    "\n",
    "write_to_file(train_imgs, 'train')\n",
    "write_to_file(val_imgs, 'validation')\n",
    "write_to_file(test_imgs, 'test')"
   ]
  },
  {
   "cell_type": "code",
   "execution_count": 7,
   "metadata": {
    "_cell_guid": "80235138-1e14-4977-81a3-7e7fc836b90c",
    "_uuid": "d48f4b08-4456-433e-8619-a54b43614097",
    "execution": {
     "iopub.execute_input": "2021-03-29T08:38:17.003621Z",
     "iopub.status.busy": "2021-03-29T08:38:17.002421Z",
     "iopub.status.idle": "2021-03-29T08:38:17.009581Z",
     "shell.execute_reply": "2021-03-29T08:38:17.010600Z"
    },
    "papermill": {
     "duration": 0.049585,
     "end_time": "2021-03-29T08:38:17.010900",
     "exception": false,
     "start_time": "2021-03-29T08:38:16.961315",
     "status": "completed"
    },
    "tags": []
   },
   "outputs": [],
   "source": [
    "# abnormalities = ['Aortic enlargement', 'Atelectasis', 'Calcification', 'Cardiomegaly', 'Consolidation', 'ILD', 'Infiltration', 'Lung Opacity', 'Nodule/Mass', 'Other lesion', 'Pleural effusion', 'Pleural thickening', 'Pneumothorax', 'Pulmonary fibrosis']\n",
    "\n",
    "# %mkdir data\n",
    "# def write_to_file(imgs, dataset_name, ab_name):\n",
    "#     with open(f\"data/{dataset_name}_{ab_name}.txt\", 'wt') as f:\n",
    "#         for img in imgs:\n",
    "#             f.write(f\"/kaggle/input/mlpyoloall/{dataset_name}/{img}.png\\n\")\n",
    "    \n",
    "# def write_yaml_file(ab):\n",
    "#     with open(f\"data/{ab}.yaml\", 'wt') as f:\n",
    "#         f.write(f\"\"\"train: ../data/train_{ab}.txt\n",
    "# val: ../data/validation_{ab}.txt\n",
    "\n",
    "# nc: 14\n",
    "# names: ['Aortic enlargement', 'Atelectasis', 'Calcification', 'Cardiomegaly', 'Consolidation', 'ILD', 'Infiltration', 'Lung Opacity', 'Nodule/Mass', 'Other lesion', 'Pleural effusion', 'Pleural thickening', 'Pneumothorax', 'Pulmonary fibrosis']\n",
    "# \"\"\")\n",
    "        \n",
    "# for ab in abnormalities:\n",
    "#     train_imgs = df_train[df_train['class_name'] == ab]['image_id'].unique()\n",
    "#     val_imgs = df_val[df_val['class_name'] == ab]['image_id'].unique()\n",
    "#     test_imgs = df_test[df_test['class_name'] == ab]['image_id'].unique()\n",
    "    \n",
    "#     # Write each list to a data spec file\n",
    "#     ab = ab.replace('/', '_').replace(' ', '_')\n",
    "#     write_to_file(train_imgs, 'train', ab)\n",
    "#     write_to_file(val_imgs, 'validation', ab)\n",
    "#     write_to_file(test_imgs, 'test', ab)\n",
    "    \n",
    "#     # Write the data yaml file\n",
    "#     write_yaml_file(ab)"
   ]
  },
  {
   "cell_type": "code",
   "execution_count": 8,
   "metadata": {
    "_cell_guid": "ca6e2aef-53eb-42cc-a244-82248f099f12",
    "_uuid": "cd130663-0192-43be-8e64-38d689b721e3",
    "execution": {
     "iopub.execute_input": "2021-03-29T08:38:17.106527Z",
     "iopub.status.busy": "2021-03-29T08:38:17.105126Z",
     "iopub.status.idle": "2021-03-29T08:38:17.108691Z",
     "shell.execute_reply": "2021-03-29T08:38:17.107541Z"
    },
    "papermill": {
     "duration": 0.055469,
     "end_time": "2021-03-29T08:38:17.108885",
     "exception": false,
     "start_time": "2021-03-29T08:38:17.053416",
     "status": "completed"
    },
    "tags": []
   },
   "outputs": [],
   "source": [
    "with open(f\"data.yaml\", 'wt') as f:\n",
    "        f.write(f\"\"\"train: ../data/train_abnormsonly.txt\n",
    "val: ../data/validation_abnormsonly.txt\n",
    "\n",
    "nc: 14\n",
    "names: ['Aortic enlargement', 'Atelectasis', 'Calcification', 'Cardiomegaly', 'Consolidation', 'ILD', 'Infiltration', 'Lung Opacity', 'Nodule/Mass', 'Other lesion', 'Pleural effusion', 'Pleural thickening', 'Pneumothorax', 'Pulmonary fibrosis']\n",
    "\"\"\")"
   ]
  },
  {
   "cell_type": "code",
   "execution_count": 9,
   "metadata": {
    "_cell_guid": "9fdbe1ac-a073-4cc1-8b69-95008a56d4cb",
    "_uuid": "4cd0c3b4-7548-45ca-afa7-68e43f2f8c97",
    "execution": {
     "iopub.execute_input": "2021-03-29T08:38:17.206139Z",
     "iopub.status.busy": "2021-03-29T08:38:17.204635Z",
     "iopub.status.idle": "2021-03-29T08:38:17.208406Z",
     "shell.execute_reply": "2021-03-29T08:38:17.207201Z"
    },
    "papermill": {
     "duration": 0.058388,
     "end_time": "2021-03-29T08:38:17.208752",
     "exception": false,
     "start_time": "2021-03-29T08:38:17.150364",
     "status": "completed"
    },
    "tags": []
   },
   "outputs": [],
   "source": [
    "with open(\"hypparams.yaml\", 'wt') as f:\n",
    "    f.write(\"\"\"# Hyperparameters for COCO training from scratch\n",
    "# python train.py --batch 40 --cfg yolov5m.yaml --weights '' --data coco.yaml --img 640 --epochs 300\n",
    "# See tutorials for hyperparameter evolution https://github.com/ultralytics/yolov5#tutorials\n",
    "\n",
    "\n",
    "lr0: 0.01  # initial learning rate (SGD=1E-2, Adam=1E-3)\n",
    "momentum: 0.937  # SGD momentum/Adam beta1\n",
    "weight_decay: 0.0005  # optimizer weight decay 5e-4\n",
    "giou: 0.05  # GIoU loss gain\n",
    "cls: 0.5  # cls loss gain\n",
    "cls_pw: 1.0  # cls BCELoss positive_weight\n",
    "obj: 1.0  # obj loss gain (scale with pixels)\n",
    "obj_pw: 1.0  # obj BCELoss positive_weight\n",
    "iou_t: 0.20  # IoU training threshold\n",
    "anchor_t: 4.0  # anchor-multiple threshold\n",
    "fl_gamma: 0.0  # focal loss gamma (efficientDet default gamma=1.5)\n",
    "hsv_h: 0.015  # image HSV-Hue augmentation (fraction)\n",
    "hsv_s: 0.7  # image HSV-Saturation augmentation (fraction)\n",
    "hsv_v: 0.4  # image HSV-Value augmentation (fraction)\n",
    "degrees: 0.0  # image rotation (+/- deg)\n",
    "translate: 0.5  # image translation (+/- fraction)\n",
    "scale: 0.5  # image scale (+/- gain)\n",
    "shear: 0.0  # image shear (+/- deg)\n",
    "perspective: 0.0  # image perspective (+/- fraction), range 0-0.001\n",
    "flipud: 0.0  # image flip up-down (probability)\n",
    "fliplr: 0.5  # image flip left-right (probability)\n",
    "mixup: 0.0  # image mixup (probability)\n",
    "\"\"\")"
   ]
  },
  {
   "cell_type": "code",
   "execution_count": 10,
   "metadata": {
    "_cell_guid": "df4e76da-fc84-4f7b-acc8-3473273e45ab",
    "_uuid": "e5d9a48f-292d-44c1-8aa6-6451375155be",
    "execution": {
     "iopub.execute_input": "2021-03-29T08:38:17.300202Z",
     "iopub.status.busy": "2021-03-29T08:38:17.298775Z",
     "iopub.status.idle": "2021-03-29T08:38:17.304008Z",
     "shell.execute_reply": "2021-03-29T08:38:17.301176Z"
    },
    "papermill": {
     "duration": 0.056673,
     "end_time": "2021-03-29T08:38:17.304189",
     "exception": false,
     "start_time": "2021-03-29T08:38:17.247516",
     "status": "completed"
    },
    "tags": []
   },
   "outputs": [
    {
     "name": "stdout",
     "output_type": "stream",
     "text": [
      "/kaggle/working/ScaledYOLOv4\n"
     ]
    }
   ],
   "source": [
    "%cd ScaledYOLOv4/"
   ]
  },
  {
   "cell_type": "code",
   "execution_count": 11,
   "metadata": {
    "_cell_guid": "16c03cf0-41d6-4129-a08a-b6e9d4c538bf",
    "_uuid": "6d4b8ed4-5087-4c53-b5fc-f8bca60c68e8",
    "execution": {
     "iopub.execute_input": "2021-03-29T08:38:17.399120Z",
     "iopub.status.busy": "2021-03-29T08:38:17.398087Z",
     "iopub.status.idle": "2021-03-29T09:54:07.540662Z",
     "shell.execute_reply": "2021-03-29T09:54:07.539911Z"
    },
    "papermill": {
     "duration": 4550.197299,
     "end_time": "2021-03-29T09:54:07.540843",
     "exception": false,
     "start_time": "2021-03-29T08:38:17.343544",
     "status": "completed"
    },
    "tags": []
   },
   "outputs": [
    {
     "name": "stdout",
     "output_type": "stream",
     "text": [
      "Resuming training from /kaggle/input/mlpyolo-labels-sup/ScaledYOLOv4/runs/exp0_yolov4-csp-results/weights/last_yolov4-csp-results.pt\r\n",
      "Using CUDA device0 _CudaDeviceProperties(name='Tesla P100-PCIE-16GB', total_memory=16280MB)\r\n",
      "\r\n",
      "Namespace(adam=False, batch_size=16, bucket='', cache_images=True, cfg='./models/yolov4-csp.yaml', data='../data.yaml', device='', epochs=40, evolve=False, global_rank=-1, hyp='../hypparams.yaml', img_size=[640, 640], labels='labels_sup', local_rank=-1, logdir='runs/', multi_scale=False, name='yolov4-csp-results', noautoanchor=False, nosave=False, notest=False, onlyclass=-1, rect=False, resume='/kaggle/input/mlpyolo-labels-sup/ScaledYOLOv4/runs/exp0_yolov4-csp-results/weights/last_yolov4-csp-results.pt', single_cls=False, sync_bn=False, total_batch_size=16, weights='/kaggle/input/mlpyolo-labels-sup/ScaledYOLOv4/runs/exp0_yolov4-csp-results/weights/last_yolov4-csp-results.pt', world_size=1)\r\n",
      "Start Tensorboard with \"tensorboard --logdir runs/\", view at http://localhost:6006/\r\n",
      "2021-03-29 08:38:21.530706: I tensorflow/stream_executor/platform/default/dso_loader.cc:49] Successfully opened dynamic library libcudart.so.10.2\r\n",
      "Hyperparameters {'lr0': 0.01, 'momentum': 0.937, 'weight_decay': 0.0005, 'giou': 0.05, 'cls': 0.5, 'cls_pw': 1.0, 'obj': 1.0, 'obj_pw': 1.0, 'iou_t': 0.2, 'anchor_t': 4.0, 'fl_gamma': 0.0, 'hsv_h': 0.015, 'hsv_s': 0.7, 'hsv_v': 0.4, 'degrees': 0.0, 'translate': 0.5, 'scale': 0.5, 'shear': 0.0, 'perspective': 0.0, 'flipud': 0.0, 'fliplr': 0.5, 'mixup': 0.0}\r\n",
      "Overriding ./models/yolov4-csp.yaml nc=80 with nc=14\r\n",
      "\r\n",
      "                 from  n    params  module                                  arguments                     \r\n",
      "  0                -1  1       928  models.common.Conv                      [3, 32, 3, 1]                 \r\n",
      "  1                -1  1     18560  models.common.Conv                      [32, 64, 3, 2]                \r\n",
      "  2                -1  1     20672  models.common.Bottleneck                [64, 64]                      \r\n",
      "  3                -1  1     73984  models.common.Conv                      [64, 128, 3, 2]               \r\n",
      "  4                -1  1    119936  models.common.BottleneckCSP             [128, 128, 2]                 \r\n",
      "  5                -1  1    295424  models.common.Conv                      [128, 256, 3, 2]              \r\n",
      "  6                -1  1   1463552  models.common.BottleneckCSP             [256, 256, 8]                 \r\n",
      "  7                -1  1   1180672  models.common.Conv                      [256, 512, 3, 2]              \r\n",
      "  8                -1  1   5843456  models.common.BottleneckCSP             [512, 512, 8]                 \r\n",
      "  9                -1  1   4720640  models.common.Conv                      [512, 1024, 3, 2]             \r\n",
      " 10                -1  1  12858368  models.common.BottleneckCSP             [1024, 1024, 4]               \r\n",
      " 11                -1  1   7610368  models.common.SPPCSP                    [1024, 512, 1]                \r\n",
      " 12                -1  1    131584  models.common.Conv                      [512, 256, 1, 1]              \r\n",
      " 13                -1  1         0  torch.nn.modules.upsampling.Upsample    [None, 2, 'nearest']          \r\n",
      " 14                 8  1    131584  models.common.Conv                      [512, 256, 1, 1]              \r\n",
      " 15          [-1, -2]  1         0  models.common.Concat                    [1]                           \r\n",
      " 16                -1  1   1642496  models.common.BottleneckCSP2            [512, 256, 2]                 \r\n",
      " 17                -1  1     33024  models.common.Conv                      [256, 128, 1, 1]              \r\n",
      " 18                -1  1         0  torch.nn.modules.upsampling.Upsample    [None, 2, 'nearest']          \r\n",
      " 19                 6  1     33024  models.common.Conv                      [256, 128, 1, 1]              \r\n",
      " 20          [-1, -2]  1         0  models.common.Concat                    [1]                           \r\n",
      " 21                -1  1    411648  models.common.BottleneckCSP2            [256, 128, 2]                 \r\n",
      " 22                -1  1    295424  models.common.Conv                      [128, 256, 3, 1]              \r\n",
      " 23                -2  1    295424  models.common.Conv                      [128, 256, 3, 2]              \r\n",
      " 24          [-1, 16]  1         0  models.common.Concat                    [1]                           \r\n",
      " 25                -1  1   1642496  models.common.BottleneckCSP2            [512, 256, 2]                 \r\n",
      " 26                -1  1   1180672  models.common.Conv                      [256, 512, 3, 1]              \r\n",
      " 27                -2  1   1180672  models.common.Conv                      [256, 512, 3, 2]              \r\n",
      " 28          [-1, 11]  1         0  models.common.Concat                    [1]                           \r\n",
      " 29                -1  1   6561792  models.common.BottleneckCSP2            [1024, 512, 2]                \r\n",
      " 30                -1  1   4720640  models.common.Conv                      [512, 1024, 3, 1]             \r\n",
      " 31      [22, 26, 30]  1    102315  models.yolo.Detect                      [14, [[12, 16, 19, 36, 40, 28], [36, 75, 76, 55, 72, 146], [142, 110, 192, 243, 459, 401]], [256, 512, 1024]]\r\n",
      "Model Summary: 334 layers, 5.25694e+07 parameters, 5.25694e+07 gradients\r\n",
      "\r\n",
      "Transferred 658/660 items from /kaggle/input/mlpyolo-labels-sup/ScaledYOLOv4/runs/exp0_yolov4-csp-results/weights/last_yolov4-csp-results.pt\r\n",
      "Optimizer groups: 111 .bias, 115 conv.weight, 108 other\r\n",
      "Scanning images: 100%|██████████████████████| 3485/3485 [01:07<00:00, 51.97it/s]\r\n",
      "Scanning labels /kaggle/working/cache/labels_sup (3485 found, 0 missing, 0 empty\r\n",
      "Caching images (4.3GB): 100%|██████████████| 3485/3485 [00:34<00:00, 100.99it/s]\r\n",
      "Scanning images: 100%|████████████████████████| 460/460 [00:06<00:00, 72.99it/s]\r\n",
      "Scanning labels /kaggle/working/cache/labels_sup (460 found, 0 missing, 0 empty,\r\n",
      "Caching images (0.6GB): 100%|████████████████| 460/460 [00:04<00:00, 104.65it/s]\r\n",
      "\r\n",
      "Analyzing anchors... anchors/target = 4.98, Best Possible Recall (BPR) = 0.9996\r\n",
      "Image sizes 640 train, 640 test\r\n",
      "Using 2 dataloader workers\r\n",
      "Starting training for 40 epochs...\r\n",
      "\r\n",
      "     Epoch   gpu_mem      GIoU       obj       cls     total   targets  img_size\r\n",
      "     20/39     12.7G   0.05708   0.03586   0.03139    0.1243        62       640\r\n",
      "               Class      Images     Targets           P           R      mAP@.5\r\n",
      "                 all         460    1.96e+03       0.378       0.259       0.264       0.109\r\n",
      "\r\n",
      "     Epoch   gpu_mem      GIoU       obj       cls     total   targets  img_size\r\n",
      "     21/39     12.7G    0.0544   0.03617   0.03097    0.1215        97       640\r\n",
      "               Class      Images     Targets           P           R      mAP@.5\r\n",
      "                 all         460    1.96e+03       0.414       0.309       0.281       0.122\r\n",
      "\r\n",
      "     Epoch   gpu_mem      GIoU       obj       cls     total   targets  img_size\r\n",
      "     22/39     12.7G   0.05361    0.0357   0.03047    0.1198        65       640\r\n",
      "               Class      Images     Targets           P           R      mAP@.5\r\n",
      "                 all         460    1.96e+03       0.327       0.286       0.284       0.114\r\n",
      "\r\n",
      "     Epoch   gpu_mem      GIoU       obj       cls     total   targets  img_size\r\n",
      "     23/39     12.7G   0.05288   0.03508   0.02988    0.1178        64       640\r\n",
      "               Class      Images     Targets           P           R      mAP@.5\r\n",
      "                 all         460    1.96e+03       0.436       0.174       0.213      0.0833\r\n",
      "\r\n",
      "     Epoch   gpu_mem      GIoU       obj       cls     total   targets  img_size\r\n",
      "     24/39     12.7G   0.05252   0.03492   0.02953     0.117        77       640\r\n",
      "               Class      Images     Targets           P           R      mAP@.5\r\n",
      "                 all         460    1.96e+03       0.353       0.334       0.316       0.141\r\n",
      "\r\n",
      "     Epoch   gpu_mem      GIoU       obj       cls     total   targets  img_size\r\n",
      "     25/39     12.7G   0.05182   0.03516   0.02919    0.1162        65       640\r\n",
      "               Class      Images     Targets           P           R      mAP@.5\r\n",
      "                 all         460    1.96e+03       0.339       0.304       0.283       0.122\r\n",
      "\r\n",
      "     Epoch   gpu_mem      GIoU       obj       cls     total   targets  img_size\r\n",
      "     26/39     12.7G   0.05125   0.03503   0.02914    0.1154        66       640\r\n",
      "               Class      Images     Targets           P           R      mAP@.5\r\n",
      "                 all         460    1.96e+03       0.453       0.151       0.198      0.0698\r\n",
      "\r\n",
      "     Epoch   gpu_mem      GIoU       obj       cls     total   targets  img_size\r\n",
      "     27/39     12.7G   0.05084   0.03482    0.0286    0.1143        61       640\r\n",
      "               Class      Images     Targets           P           R      mAP@.5\r\n",
      "                 all         460    1.96e+03       0.414       0.311       0.305       0.124\r\n",
      "\r\n",
      "     Epoch   gpu_mem      GIoU       obj       cls     total   targets  img_size\r\n",
      "     28/39     12.7G   0.05048   0.03427   0.02879    0.1135        65       640\r\n",
      "               Class      Images     Targets           P           R      mAP@.5\r\n",
      "                 all         460    1.96e+03       0.346       0.361         0.3        0.12\r\n",
      "\r\n",
      "     Epoch   gpu_mem      GIoU       obj       cls     total   targets  img_size\r\n",
      "     29/39     12.7G   0.05017   0.03449    0.0286    0.1133        72       640\r\n",
      "               Class      Images     Targets           P           R      mAP@.5\r\n",
      "                 all         460    1.96e+03       0.396       0.342       0.321       0.138\r\n",
      "\r\n",
      "     Epoch   gpu_mem      GIoU       obj       cls     total   targets  img_size\r\n",
      "     30/39     12.7G   0.04942   0.03448   0.02795    0.1118        55       640\r\n",
      "               Class      Images     Targets           P           R      mAP@.5\r\n",
      "                 all         460    1.96e+03       0.361       0.315       0.288       0.116\r\n",
      "\r\n",
      "     Epoch   gpu_mem      GIoU       obj       cls     total   targets  img_size\r\n",
      "     31/39     12.7G   0.04931   0.03449   0.02832    0.1121        75       640\r\n",
      "               Class      Images     Targets           P           R      mAP@.5\r\n",
      "                 all         460    1.96e+03       0.347       0.319       0.285       0.113\r\n",
      "\r\n",
      "     Epoch   gpu_mem      GIoU       obj       cls     total   targets  img_size\r\n",
      "     32/39     12.7G   0.04864   0.03325   0.02766    0.1096        79       640\r\n",
      "               Class      Images     Targets           P           R      mAP@.5\r\n",
      "                 all         460    1.96e+03       0.391        0.39       0.335       0.144\r\n",
      "\r\n",
      "     Epoch   gpu_mem      GIoU       obj       cls     total   targets  img_size\r\n",
      "     33/39     12.7G   0.04823   0.03314   0.02731    0.1087        90       640\r\n",
      "               Class      Images     Targets           P           R      mAP@.5\r\n",
      "                 all         460    1.96e+03       0.431       0.384        0.36       0.161\r\n",
      "\r\n",
      "     Epoch   gpu_mem      GIoU       obj       cls     total   targets  img_size\r\n",
      "     34/39     12.7G   0.04811   0.03354   0.02757    0.1092        66       640\r\n",
      "               Class      Images     Targets           P           R      mAP@.5\r\n",
      "                 all         460    1.96e+03       0.369       0.418       0.353       0.159\r\n",
      "\r\n",
      "     Epoch   gpu_mem      GIoU       obj       cls     total   targets  img_size\r\n",
      "     35/39     12.7G     0.048   0.03426   0.02747    0.1097        65       640\r\n",
      "               Class      Images     Targets           P           R      mAP@.5\r\n",
      "                 all         460    1.96e+03        0.38       0.385       0.332       0.146\r\n",
      "\r\n",
      "     Epoch   gpu_mem      GIoU       obj       cls     total   targets  img_size\r\n",
      "     36/39     12.7G   0.04781   0.03324   0.02764    0.1087        76       640\r\n",
      "               Class      Images     Targets           P           R      mAP@.5\r\n",
      "                 all         460    1.96e+03       0.357        0.43       0.366       0.164\r\n",
      "\r\n",
      "     Epoch   gpu_mem      GIoU       obj       cls     total   targets  img_size\r\n",
      "     37/39     12.7G   0.04773   0.03307   0.02732    0.1081        82       640\r\n",
      "               Class      Images     Targets           P           R      mAP@.5\r\n",
      "                 all         460    1.96e+03       0.391        0.28        0.26       0.101\r\n",
      "\r\n",
      "     Epoch   gpu_mem      GIoU       obj       cls     total   targets  img_size\r\n",
      "     38/39     12.7G   0.04706   0.03305   0.02729    0.1074        79       640\r\n",
      "               Class      Images     Targets           P           R      mAP@.5\r\n",
      "                 all         460    1.96e+03       0.359       0.395       0.349       0.153\r\n",
      "\r\n",
      "     Epoch   gpu_mem      GIoU       obj       cls     total   targets  img_size\r\n",
      "     39/39     12.7G   0.04745   0.03374   0.02717    0.1084        47       640\r\n",
      "               Class      Images     Targets           P           R      mAP@.5\r\n",
      "                 all         460    1.96e+03       0.371       0.378       0.321       0.138\r\n",
      "Optimizer stripped from runs/exp0_yolov4-csp-results/weights/last_yolov4-csp-results.pt, saved as runs/exp0_yolov4-csp-results/weights/last_yolov4-csp-results_strip.pt, 105.6MB\r\n",
      "Optimizer stripped from runs/exp0_yolov4-csp-results/weights/best_yolov4-csp-results.pt, saved as runs/exp0_yolov4-csp-results/weights/best_yolov4-csp-results_strip.pt, 105.6MB\r\n",
      "20 epochs completed in 1.224 hours.\r\n",
      "\r\n"
     ]
    }
   ],
   "source": [
    "!python train.py --labels 'labels_sup' --img 640 --batch 16 --epochs 40 --resume '/kaggle/input/mlpyolo-labels-sup/ScaledYOLOv4/runs/exp0_yolov4-csp-results/weights/last_yolov4-csp-results.pt' --data '../data.yaml' --hyp '../hypparams.yaml' --cfg ./models/yolov4-csp.yaml --weights '' --name yolov4-csp-results --cache"
   ]
  }
 ],
 "metadata": {
  "kernelspec": {
   "display_name": "Python 3",
   "language": "python",
   "name": "python3"
  },
  "language_info": {
   "codemirror_mode": {
    "name": "ipython",
    "version": 3
   },
   "file_extension": ".py",
   "mimetype": "text/x-python",
   "name": "python",
   "nbconvert_exporter": "python",
   "pygments_lexer": "ipython3",
   "version": "3.7.9"
  },
  "papermill": {
   "default_parameters": {},
   "duration": 4630.157419,
   "end_time": "2021-03-29T09:54:10.565726",
   "environment_variables": {},
   "exception": null,
   "input_path": "__notebook__.ipynb",
   "output_path": "__notebook__.ipynb",
   "parameters": {},
   "start_time": "2021-03-29T08:37:00.408307",
   "version": "2.2.2"
  }
 },
 "nbformat": 4,
 "nbformat_minor": 4
}
